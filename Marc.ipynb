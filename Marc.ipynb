{
  "nbformat": 4,
  "nbformat_minor": 0,
  "metadata": {
    "colab": {
      "provenance": [],
      "authorship_tag": "ABX9TyN7waT9ylqaavsGxMHFmrxg",
      "include_colab_link": true
    },
    "kernelspec": {
      "name": "python3",
      "display_name": "Python 3"
    },
    "language_info": {
      "name": "python"
    },
    "widgets": {
      "application/vnd.jupyter.widget-state+json": {
        "632bd097ce1c48b1b09abd1a3e98e99a": {
          "model_module": "@jupyter-widgets/controls",
          "model_name": "HBoxModel",
          "model_module_version": "1.5.0",
          "state": {
            "_dom_classes": [],
            "_model_module": "@jupyter-widgets/controls",
            "_model_module_version": "1.5.0",
            "_model_name": "HBoxModel",
            "_view_count": null,
            "_view_module": "@jupyter-widgets/controls",
            "_view_module_version": "1.5.0",
            "_view_name": "HBoxView",
            "box_style": "",
            "children": [
              "IPY_MODEL_e84b262839f247d7aa1c80dbd485b03f",
              "IPY_MODEL_fd981b83fbe44e2caca9890b68e02e80",
              "IPY_MODEL_e055690ba60c47d1a6882f296c04c456"
            ],
            "layout": "IPY_MODEL_af221b0cbf03451b98d73426fba900c0"
          }
        },
        "e84b262839f247d7aa1c80dbd485b03f": {
          "model_module": "@jupyter-widgets/controls",
          "model_name": "HTMLModel",
          "model_module_version": "1.5.0",
          "state": {
            "_dom_classes": [],
            "_model_module": "@jupyter-widgets/controls",
            "_model_module_version": "1.5.0",
            "_model_name": "HTMLModel",
            "_view_count": null,
            "_view_module": "@jupyter-widgets/controls",
            "_view_module_version": "1.5.0",
            "_view_name": "HTMLView",
            "description": "",
            "description_tooltip": null,
            "layout": "IPY_MODEL_8a355a8460e6492389db9bcbfa53803d",
            "placeholder": "​",
            "style": "IPY_MODEL_4ddfd6ecd8584ae4a81ca92d73ac20be",
            "value": "Done! Use &#x27;show&#x27; commands to display/save.   "
          }
        },
        "fd981b83fbe44e2caca9890b68e02e80": {
          "model_module": "@jupyter-widgets/controls",
          "model_name": "FloatProgressModel",
          "model_module_version": "1.5.0",
          "state": {
            "_dom_classes": [],
            "_model_module": "@jupyter-widgets/controls",
            "_model_module_version": "1.5.0",
            "_model_name": "FloatProgressModel",
            "_view_count": null,
            "_view_module": "@jupyter-widgets/controls",
            "_view_module_version": "1.5.0",
            "_view_name": "ProgressView",
            "bar_style": "success",
            "description": "",
            "description_tooltip": null,
            "layout": "IPY_MODEL_ba2c1855ecb145df9827cb7123842948",
            "max": 1,
            "min": 0,
            "orientation": "horizontal",
            "style": "IPY_MODEL_fb5b6a97e6a34df7882a70ed2e952728",
            "value": 1
          }
        },
        "e055690ba60c47d1a6882f296c04c456": {
          "model_module": "@jupyter-widgets/controls",
          "model_name": "HTMLModel",
          "model_module_version": "1.5.0",
          "state": {
            "_dom_classes": [],
            "_model_module": "@jupyter-widgets/controls",
            "_model_module_version": "1.5.0",
            "_model_name": "HTMLModel",
            "_view_count": null,
            "_view_module": "@jupyter-widgets/controls",
            "_view_module_version": "1.5.0",
            "_view_name": "HTMLView",
            "description": "",
            "description_tooltip": null,
            "layout": "IPY_MODEL_9befda9961a945fc8a10ba73bede9c95",
            "placeholder": "​",
            "style": "IPY_MODEL_6983941cc6484bfd97670705bf35b7b3",
            "value": " [100%]   00:00 -&gt; (00:00 left)"
          }
        },
        "af221b0cbf03451b98d73426fba900c0": {
          "model_module": "@jupyter-widgets/base",
          "model_name": "LayoutModel",
          "model_module_version": "1.2.0",
          "state": {
            "_model_module": "@jupyter-widgets/base",
            "_model_module_version": "1.2.0",
            "_model_name": "LayoutModel",
            "_view_count": null,
            "_view_module": "@jupyter-widgets/base",
            "_view_module_version": "1.2.0",
            "_view_name": "LayoutView",
            "align_content": null,
            "align_items": null,
            "align_self": null,
            "border": null,
            "bottom": null,
            "display": "inline-flex",
            "flex": null,
            "flex_flow": "row wrap",
            "grid_area": null,
            "grid_auto_columns": null,
            "grid_auto_flow": null,
            "grid_auto_rows": null,
            "grid_column": null,
            "grid_gap": null,
            "grid_row": null,
            "grid_template_areas": null,
            "grid_template_columns": null,
            "grid_template_rows": null,
            "height": null,
            "justify_content": null,
            "justify_items": null,
            "left": null,
            "margin": null,
            "max_height": null,
            "max_width": null,
            "min_height": null,
            "min_width": null,
            "object_fit": null,
            "object_position": null,
            "order": null,
            "overflow": null,
            "overflow_x": null,
            "overflow_y": null,
            "padding": null,
            "right": null,
            "top": null,
            "visibility": null,
            "width": "100%"
          }
        },
        "8a355a8460e6492389db9bcbfa53803d": {
          "model_module": "@jupyter-widgets/base",
          "model_name": "LayoutModel",
          "model_module_version": "1.2.0",
          "state": {
            "_model_module": "@jupyter-widgets/base",
            "_model_module_version": "1.2.0",
            "_model_name": "LayoutModel",
            "_view_count": null,
            "_view_module": "@jupyter-widgets/base",
            "_view_module_version": "1.2.0",
            "_view_name": "LayoutView",
            "align_content": null,
            "align_items": null,
            "align_self": null,
            "border": null,
            "bottom": null,
            "display": null,
            "flex": null,
            "flex_flow": null,
            "grid_area": null,
            "grid_auto_columns": null,
            "grid_auto_flow": null,
            "grid_auto_rows": null,
            "grid_column": null,
            "grid_gap": null,
            "grid_row": null,
            "grid_template_areas": null,
            "grid_template_columns": null,
            "grid_template_rows": null,
            "height": null,
            "justify_content": null,
            "justify_items": null,
            "left": null,
            "margin": null,
            "max_height": null,
            "max_width": null,
            "min_height": null,
            "min_width": null,
            "object_fit": null,
            "object_position": null,
            "order": null,
            "overflow": null,
            "overflow_x": null,
            "overflow_y": null,
            "padding": null,
            "right": null,
            "top": null,
            "visibility": null,
            "width": null
          }
        },
        "4ddfd6ecd8584ae4a81ca92d73ac20be": {
          "model_module": "@jupyter-widgets/controls",
          "model_name": "DescriptionStyleModel",
          "model_module_version": "1.5.0",
          "state": {
            "_model_module": "@jupyter-widgets/controls",
            "_model_module_version": "1.5.0",
            "_model_name": "DescriptionStyleModel",
            "_view_count": null,
            "_view_module": "@jupyter-widgets/base",
            "_view_module_version": "1.2.0",
            "_view_name": "StyleView",
            "description_width": ""
          }
        },
        "ba2c1855ecb145df9827cb7123842948": {
          "model_module": "@jupyter-widgets/base",
          "model_name": "LayoutModel",
          "model_module_version": "1.2.0",
          "state": {
            "_model_module": "@jupyter-widgets/base",
            "_model_module_version": "1.2.0",
            "_model_name": "LayoutModel",
            "_view_count": null,
            "_view_module": "@jupyter-widgets/base",
            "_view_module_version": "1.2.0",
            "_view_name": "LayoutView",
            "align_content": null,
            "align_items": null,
            "align_self": null,
            "border": null,
            "bottom": null,
            "display": null,
            "flex": "2",
            "flex_flow": null,
            "grid_area": null,
            "grid_auto_columns": null,
            "grid_auto_flow": null,
            "grid_auto_rows": null,
            "grid_column": null,
            "grid_gap": null,
            "grid_row": null,
            "grid_template_areas": null,
            "grid_template_columns": null,
            "grid_template_rows": null,
            "height": null,
            "justify_content": null,
            "justify_items": null,
            "left": null,
            "margin": null,
            "max_height": null,
            "max_width": null,
            "min_height": null,
            "min_width": null,
            "object_fit": null,
            "object_position": null,
            "order": null,
            "overflow": null,
            "overflow_x": null,
            "overflow_y": null,
            "padding": null,
            "right": null,
            "top": null,
            "visibility": null,
            "width": null
          }
        },
        "fb5b6a97e6a34df7882a70ed2e952728": {
          "model_module": "@jupyter-widgets/controls",
          "model_name": "ProgressStyleModel",
          "model_module_version": "1.5.0",
          "state": {
            "_model_module": "@jupyter-widgets/controls",
            "_model_module_version": "1.5.0",
            "_model_name": "ProgressStyleModel",
            "_view_count": null,
            "_view_module": "@jupyter-widgets/base",
            "_view_module_version": "1.2.0",
            "_view_name": "StyleView",
            "bar_color": null,
            "description_width": ""
          }
        },
        "9befda9961a945fc8a10ba73bede9c95": {
          "model_module": "@jupyter-widgets/base",
          "model_name": "LayoutModel",
          "model_module_version": "1.2.0",
          "state": {
            "_model_module": "@jupyter-widgets/base",
            "_model_module_version": "1.2.0",
            "_model_name": "LayoutModel",
            "_view_count": null,
            "_view_module": "@jupyter-widgets/base",
            "_view_module_version": "1.2.0",
            "_view_name": "LayoutView",
            "align_content": null,
            "align_items": null,
            "align_self": null,
            "border": null,
            "bottom": null,
            "display": null,
            "flex": null,
            "flex_flow": null,
            "grid_area": null,
            "grid_auto_columns": null,
            "grid_auto_flow": null,
            "grid_auto_rows": null,
            "grid_column": null,
            "grid_gap": null,
            "grid_row": null,
            "grid_template_areas": null,
            "grid_template_columns": null,
            "grid_template_rows": null,
            "height": null,
            "justify_content": null,
            "justify_items": null,
            "left": null,
            "margin": null,
            "max_height": null,
            "max_width": null,
            "min_height": null,
            "min_width": null,
            "object_fit": null,
            "object_position": null,
            "order": null,
            "overflow": null,
            "overflow_x": null,
            "overflow_y": null,
            "padding": null,
            "right": null,
            "top": null,
            "visibility": null,
            "width": null
          }
        },
        "6983941cc6484bfd97670705bf35b7b3": {
          "model_module": "@jupyter-widgets/controls",
          "model_name": "DescriptionStyleModel",
          "model_module_version": "1.5.0",
          "state": {
            "_model_module": "@jupyter-widgets/controls",
            "_model_module_version": "1.5.0",
            "_model_name": "DescriptionStyleModel",
            "_view_count": null,
            "_view_module": "@jupyter-widgets/base",
            "_view_module_version": "1.2.0",
            "_view_name": "StyleView",
            "description_width": ""
          }
        },
        "34c30216025e40518dc1215477200f7d": {
          "model_module": "@jupyter-widgets/controls",
          "model_name": "HBoxModel",
          "model_module_version": "1.5.0",
          "state": {
            "_dom_classes": [],
            "_model_module": "@jupyter-widgets/controls",
            "_model_module_version": "1.5.0",
            "_model_name": "HBoxModel",
            "_view_count": null,
            "_view_module": "@jupyter-widgets/controls",
            "_view_module_version": "1.5.0",
            "_view_name": "HBoxView",
            "box_style": "",
            "children": [
              "IPY_MODEL_038efdeb1c4647698055e6d397146e82",
              "IPY_MODEL_0312c3253d1c4e9aa2b29501fb4528ef",
              "IPY_MODEL_80ea36a20b4049e6ad24ec4c70a2718f"
            ],
            "layout": "IPY_MODEL_18300bc996fd4c028ac5f7b1bd180dc3"
          }
        },
        "038efdeb1c4647698055e6d397146e82": {
          "model_module": "@jupyter-widgets/controls",
          "model_name": "HTMLModel",
          "model_module_version": "1.5.0",
          "state": {
            "_dom_classes": [],
            "_model_module": "@jupyter-widgets/controls",
            "_model_module_version": "1.5.0",
            "_model_name": "HTMLModel",
            "_view_count": null,
            "_view_module": "@jupyter-widgets/controls",
            "_view_module_version": "1.5.0",
            "_view_name": "HTMLView",
            "description": "",
            "description_tooltip": null,
            "layout": "IPY_MODEL_1d513e88b94540a2b32231b0a9481a37",
            "placeholder": "​",
            "style": "IPY_MODEL_a0a3b197682d4b7aa26f29f2728a15d1",
            "value": "Done! Use &#x27;show&#x27; commands to display/save.   "
          }
        },
        "0312c3253d1c4e9aa2b29501fb4528ef": {
          "model_module": "@jupyter-widgets/controls",
          "model_name": "FloatProgressModel",
          "model_module_version": "1.5.0",
          "state": {
            "_dom_classes": [],
            "_model_module": "@jupyter-widgets/controls",
            "_model_module_version": "1.5.0",
            "_model_name": "FloatProgressModel",
            "_view_count": null,
            "_view_module": "@jupyter-widgets/controls",
            "_view_module_version": "1.5.0",
            "_view_name": "ProgressView",
            "bar_style": "success",
            "description": "",
            "description_tooltip": null,
            "layout": "IPY_MODEL_35e7e82970f0483b9207746ff9d31d23",
            "max": 1,
            "min": 0,
            "orientation": "horizontal",
            "style": "IPY_MODEL_815ec519dce84531a81231332cbe859e",
            "value": 1
          }
        },
        "80ea36a20b4049e6ad24ec4c70a2718f": {
          "model_module": "@jupyter-widgets/controls",
          "model_name": "HTMLModel",
          "model_module_version": "1.5.0",
          "state": {
            "_dom_classes": [],
            "_model_module": "@jupyter-widgets/controls",
            "_model_module_version": "1.5.0",
            "_model_name": "HTMLModel",
            "_view_count": null,
            "_view_module": "@jupyter-widgets/controls",
            "_view_module_version": "1.5.0",
            "_view_name": "HTMLView",
            "description": "",
            "description_tooltip": null,
            "layout": "IPY_MODEL_0debae86f3e04c7bb2d488f55ba4efd8",
            "placeholder": "​",
            "style": "IPY_MODEL_201f2f451b174b2a899355139fe27595",
            "value": " [100%]   00:01 -&gt; (00:00 left)"
          }
        },
        "18300bc996fd4c028ac5f7b1bd180dc3": {
          "model_module": "@jupyter-widgets/base",
          "model_name": "LayoutModel",
          "model_module_version": "1.2.0",
          "state": {
            "_model_module": "@jupyter-widgets/base",
            "_model_module_version": "1.2.0",
            "_model_name": "LayoutModel",
            "_view_count": null,
            "_view_module": "@jupyter-widgets/base",
            "_view_module_version": "1.2.0",
            "_view_name": "LayoutView",
            "align_content": null,
            "align_items": null,
            "align_self": null,
            "border": null,
            "bottom": null,
            "display": "inline-flex",
            "flex": null,
            "flex_flow": "row wrap",
            "grid_area": null,
            "grid_auto_columns": null,
            "grid_auto_flow": null,
            "grid_auto_rows": null,
            "grid_column": null,
            "grid_gap": null,
            "grid_row": null,
            "grid_template_areas": null,
            "grid_template_columns": null,
            "grid_template_rows": null,
            "height": null,
            "justify_content": null,
            "justify_items": null,
            "left": null,
            "margin": null,
            "max_height": null,
            "max_width": null,
            "min_height": null,
            "min_width": null,
            "object_fit": null,
            "object_position": null,
            "order": null,
            "overflow": null,
            "overflow_x": null,
            "overflow_y": null,
            "padding": null,
            "right": null,
            "top": null,
            "visibility": null,
            "width": "100%"
          }
        },
        "1d513e88b94540a2b32231b0a9481a37": {
          "model_module": "@jupyter-widgets/base",
          "model_name": "LayoutModel",
          "model_module_version": "1.2.0",
          "state": {
            "_model_module": "@jupyter-widgets/base",
            "_model_module_version": "1.2.0",
            "_model_name": "LayoutModel",
            "_view_count": null,
            "_view_module": "@jupyter-widgets/base",
            "_view_module_version": "1.2.0",
            "_view_name": "LayoutView",
            "align_content": null,
            "align_items": null,
            "align_self": null,
            "border": null,
            "bottom": null,
            "display": null,
            "flex": null,
            "flex_flow": null,
            "grid_area": null,
            "grid_auto_columns": null,
            "grid_auto_flow": null,
            "grid_auto_rows": null,
            "grid_column": null,
            "grid_gap": null,
            "grid_row": null,
            "grid_template_areas": null,
            "grid_template_columns": null,
            "grid_template_rows": null,
            "height": null,
            "justify_content": null,
            "justify_items": null,
            "left": null,
            "margin": null,
            "max_height": null,
            "max_width": null,
            "min_height": null,
            "min_width": null,
            "object_fit": null,
            "object_position": null,
            "order": null,
            "overflow": null,
            "overflow_x": null,
            "overflow_y": null,
            "padding": null,
            "right": null,
            "top": null,
            "visibility": null,
            "width": null
          }
        },
        "a0a3b197682d4b7aa26f29f2728a15d1": {
          "model_module": "@jupyter-widgets/controls",
          "model_name": "DescriptionStyleModel",
          "model_module_version": "1.5.0",
          "state": {
            "_model_module": "@jupyter-widgets/controls",
            "_model_module_version": "1.5.0",
            "_model_name": "DescriptionStyleModel",
            "_view_count": null,
            "_view_module": "@jupyter-widgets/base",
            "_view_module_version": "1.2.0",
            "_view_name": "StyleView",
            "description_width": ""
          }
        },
        "35e7e82970f0483b9207746ff9d31d23": {
          "model_module": "@jupyter-widgets/base",
          "model_name": "LayoutModel",
          "model_module_version": "1.2.0",
          "state": {
            "_model_module": "@jupyter-widgets/base",
            "_model_module_version": "1.2.0",
            "_model_name": "LayoutModel",
            "_view_count": null,
            "_view_module": "@jupyter-widgets/base",
            "_view_module_version": "1.2.0",
            "_view_name": "LayoutView",
            "align_content": null,
            "align_items": null,
            "align_self": null,
            "border": null,
            "bottom": null,
            "display": null,
            "flex": "2",
            "flex_flow": null,
            "grid_area": null,
            "grid_auto_columns": null,
            "grid_auto_flow": null,
            "grid_auto_rows": null,
            "grid_column": null,
            "grid_gap": null,
            "grid_row": null,
            "grid_template_areas": null,
            "grid_template_columns": null,
            "grid_template_rows": null,
            "height": null,
            "justify_content": null,
            "justify_items": null,
            "left": null,
            "margin": null,
            "max_height": null,
            "max_width": null,
            "min_height": null,
            "min_width": null,
            "object_fit": null,
            "object_position": null,
            "order": null,
            "overflow": null,
            "overflow_x": null,
            "overflow_y": null,
            "padding": null,
            "right": null,
            "top": null,
            "visibility": null,
            "width": null
          }
        },
        "815ec519dce84531a81231332cbe859e": {
          "model_module": "@jupyter-widgets/controls",
          "model_name": "ProgressStyleModel",
          "model_module_version": "1.5.0",
          "state": {
            "_model_module": "@jupyter-widgets/controls",
            "_model_module_version": "1.5.0",
            "_model_name": "ProgressStyleModel",
            "_view_count": null,
            "_view_module": "@jupyter-widgets/base",
            "_view_module_version": "1.2.0",
            "_view_name": "StyleView",
            "bar_color": null,
            "description_width": ""
          }
        },
        "0debae86f3e04c7bb2d488f55ba4efd8": {
          "model_module": "@jupyter-widgets/base",
          "model_name": "LayoutModel",
          "model_module_version": "1.2.0",
          "state": {
            "_model_module": "@jupyter-widgets/base",
            "_model_module_version": "1.2.0",
            "_model_name": "LayoutModel",
            "_view_count": null,
            "_view_module": "@jupyter-widgets/base",
            "_view_module_version": "1.2.0",
            "_view_name": "LayoutView",
            "align_content": null,
            "align_items": null,
            "align_self": null,
            "border": null,
            "bottom": null,
            "display": null,
            "flex": null,
            "flex_flow": null,
            "grid_area": null,
            "grid_auto_columns": null,
            "grid_auto_flow": null,
            "grid_auto_rows": null,
            "grid_column": null,
            "grid_gap": null,
            "grid_row": null,
            "grid_template_areas": null,
            "grid_template_columns": null,
            "grid_template_rows": null,
            "height": null,
            "justify_content": null,
            "justify_items": null,
            "left": null,
            "margin": null,
            "max_height": null,
            "max_width": null,
            "min_height": null,
            "min_width": null,
            "object_fit": null,
            "object_position": null,
            "order": null,
            "overflow": null,
            "overflow_x": null,
            "overflow_y": null,
            "padding": null,
            "right": null,
            "top": null,
            "visibility": null,
            "width": null
          }
        },
        "201f2f451b174b2a899355139fe27595": {
          "model_module": "@jupyter-widgets/controls",
          "model_name": "DescriptionStyleModel",
          "model_module_version": "1.5.0",
          "state": {
            "_model_module": "@jupyter-widgets/controls",
            "_model_module_version": "1.5.0",
            "_model_name": "DescriptionStyleModel",
            "_view_count": null,
            "_view_module": "@jupyter-widgets/base",
            "_view_module_version": "1.2.0",
            "_view_name": "StyleView",
            "description_width": ""
          }
        }
      }
    }
  },
  "cells": [
    {
      "cell_type": "markdown",
      "metadata": {
        "id": "view-in-github",
        "colab_type": "text"
      },
      "source": [
        "<a href=\"https://colab.research.google.com/github/leabizbille/ProjetIOT/blob/main/Marc.ipynb\" target=\"_parent\"><img src=\"https://colab.research.google.com/assets/colab-badge.svg\" alt=\"Open In Colab\"/></a>"
      ]
    },
    {
      "cell_type": "code",
      "source": [
        "!pip install summarytools -q"
      ],
      "metadata": {
        "id": "E6CuuXGfp0qP"
      },
      "execution_count": 93,
      "outputs": []
    },
    {
      "cell_type": "code",
      "source": [
        "!pip install pygwalker -q"
      ],
      "metadata": {
        "id": "n3PU7KO9PUeM"
      },
      "execution_count": 94,
      "outputs": []
    },
    {
      "cell_type": "code",
      "source": [
        "pip install sweetviz -q"
      ],
      "metadata": {
        "id": "h4Ln6ukSH94V"
      },
      "execution_count": 95,
      "outputs": []
    },
    {
      "cell_type": "code",
      "execution_count": 96,
      "metadata": {
        "id": "3fnnnXoyHp0N"
      },
      "outputs": [],
      "source": [
        "import pygwalker as pyg\n",
        "from summarytools import dfSummary # module pandas-profiling\n",
        "import pandas as pd\n",
        "import matplotlib.pyplot as plt\n",
        "import seaborn as sns\n",
        "import sweetviz as sv # Module pour faire le rapport HTML\n",
        "import missingno as msno # observer les données manquantes\n",
        "from google.colab import files # Exporter en cvs\n",
        "\n",
        "import numpy as np\n",
        "from scipy import stats #\n",
        "import statsmodels.api as sm #\n",
        "from statsmodels.formula.api import ols #\n",
        "import plotly.graph_objects as go"
      ]
    },
    {
      "cell_type": "code",
      "source": [
        "# Charger le fichier CSV en conservant les titres des colonnes\n",
        "Marc= pd.read_csv(\"/content/Marc_SmartOme.csv\",sep= \";\")\n"
      ],
      "metadata": {
        "id": "tLuwPqQSTzTz"
      },
      "execution_count": 97,
      "outputs": []
    },
    {
      "cell_type": "code",
      "source": [
        "msno.matrix(Marc)"
      ],
      "metadata": {
        "id": "VvMChGUllQ9X",
        "colab": {
          "base_uri": "https://localhost:8080/",
          "height": 475
        },
        "outputId": "8c376393-58fd-4888-8b18-993ae915dc52"
      },
      "execution_count": 98,
      "outputs": [
        {
          "output_type": "execute_result",
          "data": {
            "text/plain": [
              "<Axes: >"
            ]
          },
          "metadata": {},
          "execution_count": 98
        },
        {
          "output_type": "display_data",
          "data": {
            "text/plain": [
              "<Figure size 2500x1000 with 2 Axes>"
            ],
            "image/png": "[encoded data removed]"
          },
          "metadata": {}
        }
      ]
    },
    {
      "cell_type": "code",
      "source": [
        "# Description pour comprendre les données et mettre en suite le tableau en forme\n",
        "dfSummary(Marc)"
      ],
      "metadata": {
        "id": "QHGN3sbgpr1-",
        "colab": {
          "base_uri": "https://localhost:8080/",
          "height": 1000
        },
        "outputId": "c1aa071d-0779-4b6a-cca3-36d22d63f302"
      },
      "execution_count": 99,
      "outputs": [
        {
          "output_type": "execute_result",
          "data": {
            "text/plain": [
              "<pandas.io.formats.style.Styler at 0x7d754ccb2560>"
            ],
            "text/html": [
              "<style type=\"text/css\">\n",
              "#T_71444 thead>tr>th {\n",
              "  text-align: left;\n",
              "}\n",
              "#T_71444_row0_col0, #T_71444_row1_col0, #T_71444_row2_col0, #T_71444_row3_col0, #T_71444_row4_col0, #T_71444_row5_col0, #T_71444_row6_col0 {\n",
              "  text-align: left;\n",
              "  font-size: 12px;\n",
              "  vertical-align: middle;\n",
              "  width: 5%;\n",
              "  max-width: 50px;\n",
              "  min-width: 20px;\n",
              "}\n",
              "#T_71444_row0_col1, #T_71444_row1_col1, #T_71444_row2_col1, #T_71444_row3_col1, #T_71444_row4_col1, #T_71444_row5_col1, #T_71444_row6_col1 {\n",
              "  text-align: left;\n",
              "  font-size: 12px;\n",
              "  vertical-align: middle;\n",
              "  width: 15%;\n",
              "  max-width: 200px;\n",
              "  min-width: 100px;\n",
              "  word-break: break-word;\n",
              "}\n",
              "#T_71444_row0_col2, #T_71444_row1_col2, #T_71444_row2_col2, #T_71444_row3_col2, #T_71444_row4_col2, #T_71444_row5_col2, #T_71444_row6_col2 {\n",
              "  text-align: left;\n",
              "  font-size: 12px;\n",
              "  vertical-align: middle;\n",
              "  width: 30%;\n",
              "  min-width: 100px;\n",
              "}\n",
              "#T_71444_row0_col3, #T_71444_row1_col3, #T_71444_row2_col3, #T_71444_row3_col3, #T_71444_row4_col3, #T_71444_row5_col3, #T_71444_row6_col3 {\n",
              "  text-align: left;\n",
              "  font-size: 12px;\n",
              "  vertical-align: middle;\n",
              "  width: 25%;\n",
              "  min-width: 100px;\n",
              "}\n",
              "#T_71444_row0_col4, #T_71444_row1_col4, #T_71444_row2_col4, #T_71444_row3_col4, #T_71444_row4_col4, #T_71444_row5_col4, #T_71444_row6_col4 {\n",
              "  text-align: left;\n",
              "  font-size: 12px;\n",
              "  vertical-align: middle;\n",
              "  width: 20%;\n",
              "  min-width: 150px;\n",
              "}\n",
              "#T_71444_row0_col5, #T_71444_row1_col5, #T_71444_row2_col5, #T_71444_row3_col5, #T_71444_row4_col5, #T_71444_row5_col5, #T_71444_row6_col5 {\n",
              "  text-align: left;\n",
              "  font-size: 12px;\n",
              "  vertical-align: middle;\n",
              "  width: 10%;\n",
              "}\n",
              "</style>\n",
              "<table id=\"T_71444\" class=\"dataframe\">\n",
              "  <caption><strong>Data Frame Summary</strong><br>Marc<br>Dimensions: 56,946 x 7<br>Duplicates: 0</caption>\n",
              "  <thead>\n",
              "    <tr>\n",
              "      <th id=\"T_71444_level0_col0\" class=\"col_heading level0 col0\" >No</th>\n",
              "      <th id=\"T_71444_level0_col1\" class=\"col_heading level0 col1\" >Variable</th>\n",
              "      <th id=\"T_71444_level0_col2\" class=\"col_heading level0 col2\" >Stats / Values</th>\n",
              "      <th id=\"T_71444_level0_col3\" class=\"col_heading level0 col3\" >Freqs / (% of Valid)</th>\n",
              "      <th id=\"T_71444_level0_col4\" class=\"col_heading level0 col4\" >Graph</th>\n",
              "      <th id=\"T_71444_level0_col5\" class=\"col_heading level0 col5\" >Missing</th>\n",
              "    </tr>\n",
              "  </thead>\n",
              "  <tbody>\n",
              "    <tr>\n",
              "      <td id=\"T_71444_row0_col0\" class=\"data row0 col0\" >1</td>\n",
              "      <td id=\"T_71444_row0_col1\" class=\"data row0 col1\" ><strong>Date</strong><br>[object]</td>\n",
              "      <td id=\"T_71444_row0_col2\" class=\"data row0 col2\" >1. 2024-04-30 02:00:00<br>2. 2024-02-24 06:00:00<br>3. 2024-04-18 02:00:00<br>4. 2024-04-10 02:00:00<br>5. 2024-05-21 02:00:00<br>6. 2024-03-05 10:00:00<br>7. 2024-03-21 06:00:00<br>8. 2024-04-19 02:00:00<br>9. 2024-04-26 02:00:00<br>10. 2024-05-17 02:00:00<br>11. other</td>\n",
              "      <td id=\"T_71444_row0_col3\" class=\"data row0 col3\" >11 (0.0%)<br>10 (0.0%)<br>10 (0.0%)<br>10 (0.0%)<br>10 (0.0%)<br>10 (0.0%)<br>10 (0.0%)<br>10 (0.0%)<br>10 (0.0%)<br>10 (0.0%)<br>56,845 (99.8%)</td>\n",
              "      <td id=\"T_71444_row0_col4\" class=\"data row0 col4\" ><img src = \"data:image/png;base64, iVBORw0KGgoAAAANSUhEUgAAAJsAAAD+CAYAAAAtWHdlAAAAOXRFWHRTb2Z0d2FyZQBNYXRwbG90bGliIHZlcnNpb24zLjguMCwgaHR0cHM6Ly9tYXRwbG90bGliLm9yZy81sbWrAAAACXBIWXMAAA9hAAAPYQGoP6dpAAADLklEQVR4nO3cwY3TYBRG0ecogmFja2QpJUAPKYItvdOFNzCswoIeriVzTgX/4kpPkfxleb1eA4Xb2Q/g/yE2MmIjIzYyYiMjNjJiIyM2MmIjIzYyt2VZvi3L8nb2Q7i+28x8nZnPZz+E63NGyYiNjNjIiI2M2MiIjYzYyIiNjNjIiI2M2MiIjYzYyIiNjNjIiI3MbWZ+zsyfsx/C9S3+xYiKM0pGbGSsq8hYV5FxRsmIjYzYyIiNjNjIiI2M2MiIjYzYyIiNjNjIiI2M2MiIjYzYyBi8kDF4IeOMkhEbGYMXMgYvZJxRMmIjIzYyYiMjNjJiIyM2MmIjIzYyYiMjNjJiIyM2MmIjIzYyBi9kDF7IOKNkxEZGbGSsq8hYV5FxRsmIjYzYyIiNjNjIiI2M2MiIjYzYyIiNjNjIiI2M2MiIjYzYyFhXkbGuIuOMkhEbGYMXMgYvZJxRMmIjIzYyYiMjNjJiIyM2MmIjIzYyYiMjNjJiIyM2MmIjIzYyBi9kDF7IOKNkxEbG4IWMwQsZZ5SM2MiIjYzYyIiNjNjIiI2M2MiIjYzYyIiNjNjIiI2M2MiIjYzYyFhXkbGuIuOMkhEbGesqMtZVZJxRMmIjIzYyYiMjNjJiIyM2MmIjIzYyYiMjNjJiIyM2MmIjIzYyBi9kDF7IOKNkxEbG4IWMwQsZZ5SM2MiIjYzYyIiNjNjIiI2M2MiIjYzYyIiNjNjIiI2M2MiIjYzBCxmDFzLOKBmxkREbGesqMtZVZJxRMmIjIzYyYiMjNjJiIyM2MmIjIzYyYiMjNjJiIyM2MmIjIzYy1lVkrKvIOKNkxEbG4IWMwQsZZ5SM2MiIjYzYyIiNjNjIiI2M2MiIjYzYyIiNjNjIiI2M2MiIjYzBCxmDFzLOKJllZr7MzKezH8L13fd9/76u6/vZD+H67uu6vj+fz9/btn2c/Riu6ziOt/vMzLZtH4/H49fZD+La/EAgIzYyYiMjNjJiIyM2MmIjIzYyYiMjNjJiIyM2MmIjc5/59/nH2Q/h2o7jeFv2ff/h40kKPgsnY11Fxg8EMmIjIzYyYiMjNjJiIyM2MmIjIzYyfwFj50uCzHpkKgAAAABJRU5ErkJggg==\"></img></td>\n",
              "      <td id=\"T_71444_row0_col5\" class=\"data row0 col5\" >0<br>(0.0%)</td>\n",
              "    </tr>\n",
              "    <tr>\n",
              "      <td id=\"T_71444_row1_col0\" class=\"data row1 col0\" >2</td>\n",
              "      <td id=\"T_71444_row1_col1\" class=\"data row1 col1\" ><strong>Objet</strong><br>[object]</td>\n",
              "      <td id=\"T_71444_row1_col2\" class=\"data row1 col2\" >1. TECHNIQUE<br>2. OPENSPACE<br>3. BUREAU 1 (MARC)<br>4. CUISINE<br>5. BUREAU 2 (ARCHIVES)</td>\n",
              "      <td id=\"T_71444_row1_col3\" class=\"data row1 col3\" >30,991 (54.4%)<br>8,620 (15.1%)<br>8,302 (14.6%)<br>6,867 (12.1%)<br>2,166 (3.8%)</td>\n",
              "      <td id=\"T_71444_row1_col4\" class=\"data row1 col4\" ><img src = \"data:image/png;base64, iVBORw0KGgoAAAANSUhEUgAAAJsAAABzCAYAAACPdnBjAAAAOXRFWHRTb2Z0d2FyZQBNYXRwbG90bGliIHZlcnNpb24zLjguMCwgaHR0cHM6Ly9tYXRwbG90bGliLm9yZy81sbWrAAAACXBIWXMAAA9hAAAPYQGoP6dpAAACM0lEQVR4nO3bQWrbUBiF0V/FhGYiYQxejBfRxXYR2o0x1qAJmaiDQghu7Eyerlz3nBU8zIeMxLvdPM8FCd/WPgD/D7ERIzZiuqp6rqqntQ/yQN7meX5Z+xD3aLPb7X70fb9d+yCPYpqmU9d1PwX3t03f99vD4fAyDMPr2of5153P5+/jOG6Px+NTVYntwqaqahiG1/1+/2vtwzyI57UPcK+8IBAjNmLERozYiBEbMWIjRmzEiI0YsREjNmLERozYiBEbMZuqP1dj1j7II/A73raZpuk0juO2XI1pYpqmU1W9rX2Oe+RaeHuuhV/R2Y2S4gWBmKX/Rv2l8G7RdZWlER8ttq6yNOLS0usqn1N45wWBGLERIzZixEaM2IgRGzFiI0ZsxIiNGLERIzZixEaM2IhZbF1lacSlRddVlkZ85Fo4MdZVxHhBIMbfKDHWVcRYVxFjXUWMFwRixEaM2IgRGzFiI0ZsxIiNGLERIzZixEaM2IgRGzFiI8a6ihjrKmJcCyfGuoqY1k82TzKuajp4MXDhlmaDFwMXvtJ68GLgwlU+6hIjNmLERozYiBEbMWIjRmzEiI0YsREjNmLERozYiBEbMWIjptm6ypqKrzRdV1lTcYsNAjHWVcTcerJ5StHU1XWVpRStfbquspRiCbfWVZZSNOWjLjFiI0ZsxIiNGLERIzZixEaM2IgRGzFiI0ZsxIiNGLERIzZiPl1XWUqxhKvrKkspWrNBIMa6ihgvCMSIjZjfxzEON3LH9zwAAAAASUVORK5CYII=\"></img></td>\n",
              "      <td id=\"T_71444_row1_col5\" class=\"data row1 col5\" >0<br>(0.0%)</td>\n",
              "    </tr>\n",
              "    <tr>\n",
              "      <td id=\"T_71444_row2_col0\" class=\"data row2 col0\" >3</td>\n",
              "      <td id=\"T_71444_row2_col1\" class=\"data row2 col1\" ><strong>Équipement</strong><br>[object]</td>\n",
              "      <td id=\"T_71444_row2_col2\" class=\"data row2 col2\" >1. TIC 1 (Suivi Conso Elec)<br>2. Thermostat Open Space Z2<br>3. Thermostat Marc Z3<br>4. Thermostat Cuisine Z6<br>5. AIRZONE (Suivi Conso Elec)<br>6. PAC (Suivi Conso Elec)<br>7. Thermostat Archive Z5<br>8. APPOINT ELECTRIQUE (Suivi Cons</td>\n",
              "      <td id=\"T_71444_row2_col3\" class=\"data row2 col3\" >18,514 (32.5%)<br>8,620 (15.1%)<br>8,302 (14.6%)<br>6,867 (12.1%)<br>6,807 (12.0%)<br>5,302 (9.3%)<br>2,166 (3.8%)<br>368 (0.6%)</td>\n",
              "      <td id=\"T_71444_row2_col4\" class=\"data row2 col4\" ><img src = \"data:image/png;base64, iVBORw0KGgoAAAANSUhEUgAAAJsAAAC4CAYAAAD0WZ4UAAAAOXRFWHRTb2Z0d2FyZQBNYXRwbG90bGliIHZlcnNpb24zLjguMCwgaHR0cHM6Ly9tYXRwbG90bGliLm9yZy81sbWrAAAACXBIWXMAAA9hAAAPYQGoP6dpAAADJklEQVR4nO3dXWoTUQCG4RMJojcJIdDFdBEu1kVkN6U0FyrexAt/EGkiTWbesfg8KzgXL6edYb52dTqdBhTeLH0A/h9iIyM2MmIjIzYyYiOzGmO8H2O8XfogE/h6Op0+L30Izlvv9/sPm81mt/RBbnU8Hh9Xq9VHwf271pvNZnd/f/95u91+Wfow13p6enp3OBx2Dw8Pb8cYYvtHrccYY7vdfrm7u/u09GFu9H7pA3CZBwQyYiMjNjJiIyM2MmIjIzYyYiMjNjJiIyM2MmIjIzYy6zG+f6Kz9EFu8drP/79YH4/Hx8PhsBuv/BOd4/H4OMb4uvQ5OM9n4WRW/vwClblvNrcNv8w6eDFC4XezDV6MUPjT3IOXV/2Ey7S81CUjNjJiIyM2MmIjIzYyYiMjNjJiIyM2MmIjIzYyYiMz2+DFCIU/zTp4MULhdz4LJ2PwQsYDAhk/RslYV5GxriJjXUXGAwIZsZERGxmxkREbGbGRERsZsZERGxmxkREbGbGRERsZ6yoy1lVkfBZOxrqKzNQ3m5uMsyYdvBi4cMlkgxcDF/5m6sGLgQtnealLRmxkxEZGbGTERkZsZMRGRmxkxEZGbGTERkZsZMRGZrLBi4ELfzPp4MXAhUt8Fk7G4IWMBwQyfoySsa4iY11FxrqKjAcEMmIjIzYyYiMjNjJiIyM2MmIjIzYyYiMjNjJiIyM2MtZVZKyryPgsnIx1FZlbbja3GC9y9eDFuIWXumrwYtzCNW4ZvBi38CJe6pIRGxmxkREbGbGRERsZsZERGxmxkREbGbGRERsZsZERG5mr1lWWVFzj6nWVJRUvZYNAxrqKzKWbzc3FpM6uq6ynmNqz6yrrKeZwaV1lPcWkvNQlIzYyYiMjNjJiIyM2MmIjIzYyYiMjNjJiIyM2MmIj8+zgxaCFOZwdvBi0MDWfhZMxeCHz82YbbjHmtt7v9x/GGMO4hbm92Ww2ux/rqqn+DSQ8y3s2MmIjIzYyYiMjNjJiIyM2MmIjIzYyYiMjNjJiIyM2MmIjIzYyYiOz/rGiGsOSipnZIJCxriLjdzYyYiMjNjJiIyM2Mt8Atg6OppHt6EUAAAAASUVORK5CYII=\"></img></td>\n",
              "      <td id=\"T_71444_row2_col5\" class=\"data row2 col5\" >0<br>(0.0%)</td>\n",
              "    </tr>\n",
              "    <tr>\n",
              "      <td id=\"T_71444_row3_col0\" class=\"data row3 col0\" >4</td>\n",
              "      <td id=\"T_71444_row3_col1\" class=\"data row3 col1\" ><strong>Commande</strong><br>[object]</td>\n",
              "      <td id=\"T_71444_row3_col2\" class=\"data row3 col2\" >1. Température ambiante<br>2. Consommation jour<br>3. Consommation mois</td>\n",
              "      <td id=\"T_71444_row3_col3\" class=\"data row3 col3\" >25,955 (45.6%)<br>15,802 (27.7%)<br>15,189 (26.7%)</td>\n",
              "      <td id=\"T_71444_row3_col4\" class=\"data row3 col4\" ><img src = \"data:image/png;base64, iVBORw0KGgoAAAANSUhEUgAAAJsAAABFCAYAAABdVZTTAAAAOXRFWHRTb2Z0d2FyZQBNYXRwbG90bGliIHZlcnNpb24zLjguMCwgaHR0cHM6Ly9tYXRwbG90bGliLm9yZy81sbWrAAAACXBIWXMAAA9hAAAPYQGoP6dpAAABmUlEQVR4nO3bQWrbYBSF0aciQjORMAYvxovoYrsI7cYYa9CETNRBh4WUgrn6f+WcFTzMh42E77BtW0HCt70P4OsYquq1ql72PqRRH9u2ve19xFGM5/P5xzRNp70PadG6rvdhGH4K7jnGaZpO1+v1bZ7n972Pacnj8fi+LMvpdru9VJXYnmCsqprn+f1yufza+5gGve59wJF4QCBGbMSIjRixESM2YsRGjNiIERsxYiNGbMSIjRixESM2YsRGzFj1579bex/SGp/J843rut6XZTmV/279ZV3Xe1V97H3HUdggfM4G4YkGUz5Sevtm803Tsa7WVdZOfetmXWXt1L/e1lWemDvmpS4xYiNGbMSIjRixESM2YsRGjNiIERsxYiNGbMSIjRixESM2YrpZV/VwI5/ral1l7dQ3GwRirKuI8YBATC8/o34+D6CLKZ8J3zE0P+Uz4TuOXqZ8zb+W4d88IBAjNmLERozYiBEbMWIjRmzEiI0YsREjNmLERozYiBEbMWIjpvkpX8u38X+6mPKZ8B2DDQIxpnzE/AZKvKNKlZJhnQAAAABJRU5ErkJggg==\"></img></td>\n",
              "      <td id=\"T_71444_row3_col5\" class=\"data row3 col5\" >0<br>(0.0%)</td>\n",
              "    </tr>\n",
              "    <tr>\n",
              "      <td id=\"T_71444_row4_col0\" class=\"data row4 col0\" >5</td>\n",
              "      <td id=\"T_71444_row4_col1\" class=\"data row4 col1\" ><strong>Type Générique</strong><br>[object]</td>\n",
              "      <td id=\"T_71444_row4_col2\" class=\"data row4 col2\" >1. nan<br>2. TEMPERATURE</td>\n",
              "      <td id=\"T_71444_row4_col3\" class=\"data row4 col3\" >30,991 (54.4%)<br>25,955 (45.6%)</td>\n",
              "      <td id=\"T_71444_row4_col4\" class=\"data row4 col4\" ><img src = \"data:image/png;base64, iVBORw0KGgoAAAANSUhEUgAAAJsAAAAuCAYAAAA/ZmtKAAAAOXRFWHRTb2Z0d2FyZQBNYXRwbG90bGliIHZlcnNpb24zLjguMCwgaHR0cHM6Ly9tYXRwbG90bGliLm9yZy81sbWrAAAACXBIWXMAAA9hAAAPYQGoP6dpAAABO0lEQVR4nO3bQWrDMBRF0a8iQjORMAYvxovoYrsI7cYYa9CETJRBZi3WSDw57j0r+JiLIcHPlVIMUHBmdjWzS+9DTuRRSrn1PuKI/DiOXyGEofchZ5FzXp1z3wT3lw8hDPM832KM997HvLtt2z5TSsOyLBczI7ZfvJlZjPE+TdNP72NO4tr7gKP66H0A/g9igwyxQYbYIENskCE2yBAbZIgNMsQGGWKDDLFBhtggQ2yQITbIEBtkvNnro7/eh5wBz7HO55zXlNJgfPTXRM55NbNH7zuOiMFLewxedjimfFDhzVbHW6ohpnwVzPLaYsq3g1lee0z56viF3hB/6kKG2CBDbJAhNsgQG2SIDTLEBhligwyxQYbYIENskCE2yBAbZIgNMsQGGaZ8O3gm7THlq2CW1xaDlzoGLw09AQpbat/wzNfOAAAAAElFTkSuQmCC\"></img></td>\n",
              "      <td id=\"T_71444_row4_col5\" class=\"data row4 col5\" >30,991<br>(54.4%)</td>\n",
              "    </tr>\n",
              "    <tr>\n",
              "      <td id=\"T_71444_row5_col0\" class=\"data row5 col0\" >6</td>\n",
              "      <td id=\"T_71444_row5_col1\" class=\"data row5 col1\" ><strong>Valeur</strong><br>[object]</td>\n",
              "      <td id=\"T_71444_row5_col2\" class=\"data row5 col2\" >1. 0<br>2. 0,100000000<br>3. 0,200000000<br>4. 0,300000000<br>5. 0,400000000<br>6. 19,200000000<br>7. 19,300000000<br>8. 19,100000000<br>9. 19,400000000<br>10. 0,250000000<br>11. other</td>\n",
              "      <td id=\"T_71444_row5_col3\" class=\"data row5 col3\" >581 (1.0%)<br>504 (0.9%)<br>430 (0.8%)<br>386 (0.7%)<br>352 (0.6%)<br>229 (0.4%)<br>218 (0.4%)<br>217 (0.4%)<br>200 (0.4%)<br>188 (0.3%)<br>53,641 (94.2%)</td>\n",
              "      <td id=\"T_71444_row5_col4\" class=\"data row5 col4\" ><img src = \"data:image/png;base64, iVBORw0KGgoAAAANSUhEUgAAAJsAAAD+CAYAAAAtWHdlAAAAOXRFWHRTb2Z0d2FyZQBNYXRwbG90bGliIHZlcnNpb24zLjguMCwgaHR0cHM6Ly9tYXRwbG90bGliLm9yZy81sbWrAAAACXBIWXMAAA9hAAAPYQGoP6dpAAADuUlEQVR4nO3cQU4jVxhG0d+W1QmTsixLLIMFsAgWm0V4AewDIWoQOkycQdPDDq0kXCvOOWMGNbh6tkvvY3M+nwcK20s/AP8fYiMjNjJiIyM2MmIjIzYyYiMjNjKbmbmZmS8z83Y+n18v/Dxcsd3xeHxYluWwruvzZrP5TXB8lu2yLIe7u7tZluUw3044+BTbmZmbm5s/Lv0gXD8/EMiIjYzYyIiNjNjIiI2M2MiIjYzYyIiNjNjIiI2M2MiIjcx2Zub19fWXSz8I12+7ruvz4+PjrOv6PDNvl34grpcNApmNf5lF5fvJNk41PtvueDw+zMxYVvHZtsuyHCyrKHjPRkZsZMRGRmxkxEZGbGTERkZsZMRGRmxkxEZGbGTERkZsZMRGZvc+dJkxduGTuRZOxuCFjJONjMELGYMXMl59kBEbGbGRERsZsZERGxmxkREbGbGRERsZsZERGxmxkREbGbGRMXgh41o4GYMXMr6zkfExSsa6iox1FRnf2ciIjYzYyIiNjNjIiI2M2MiIjYzYyIiNjNjIiI2M2MiIjYzYyFhXkXEtnIx1FRknGxmDFzIGL2S8+iAjNjJiIyM2MmIjIzYyYiMjNjJiIyM2MmIjIzYyYiMjNjJiI2PwQsa1cDIGL2ScbGQMXsgYvJDx6oOM2MiIjYzYyIiNjNjIiI2M2MiIjYzYyIiNjNjIiI2M2MiIjYzYyFhXkbFBIGNdRcbJRsa6iox1FRmvPsiIjYzYyIiNjNjIiI2M2MiIjYzYyIiNjNjIiI2M2MiIjYzYyBi8kHEtnIzBCxknGxmDFzIGL2S8+iAjNjJiIyM2MmIjIzYyYiMjNjJiIyM2MmIjIzYyYiMjNjJiI2PwQsa1cDIGL2R8ZyPjY5SMdRUZ6yoyvrORERsZsZERGxmxkREbGbGRERsZsZERGxmxkREbGbGRERsZsZGxriLjWjgZ6yoyTjYyBi9kDF7IePVBRmxkxEZGbGTERkZsZMRGRmxkxEZGbGTERkZsZMRGRmxkxEbG4IWMa+FkDF7IfD/ZXAnnn3r76NNxdzweH943CPC3rev6/NFoarcsy+H+/v51v99/LR+O6/Hy8vLr6XQ6PD09fZmZH8c2M7Pf77/e3t7+nj0d1+jmoz/wno2M2MiIjYzYyIiNjNjIiI2M2MiIjYzYyIiNjNjIiI3MbubbFZFLPwj/XT/bz25d1+fT6XSYn7giAj/yPpz6y9GUa+H8Wz68Fm7wQsYPBDJiIyM2MmIjIzYyYiMjNjJiIyM2Mn8CFD0g6hVsBuQAAAAASUVORK5CYII=\"></img></td>\n",
              "      <td id=\"T_71444_row5_col5\" class=\"data row5 col5\" >0<br>(0.0%)</td>\n",
              "    </tr>\n",
              "    <tr>\n",
              "      <td id=\"T_71444_row6_col0\" class=\"data row6 col0\" >7</td>\n",
              "      <td id=\"T_71444_row6_col1\" class=\"data row6 col1\" ><strong>Unité</strong><br>[object]</td>\n",
              "      <td id=\"T_71444_row6_col2\" class=\"data row6 col2\" >1. kWh<br>2. °C</td>\n",
              "      <td id=\"T_71444_row6_col3\" class=\"data row6 col3\" >30,991 (54.4%)<br>25,955 (45.6%)</td>\n",
              "      <td id=\"T_71444_row6_col4\" class=\"data row6 col4\" ><img src = \"data:image/png;base64, iVBORw0KGgoAAAANSUhEUgAAAJsAAAAuCAYAAAA/ZmtKAAAAOXRFWHRTb2Z0d2FyZQBNYXRwbG90bGliIHZlcnNpb24zLjguMCwgaHR0cHM6Ly9tYXRwbG90bGliLm9yZy81sbWrAAAACXBIWXMAAA9hAAAPYQGoP6dpAAABO0lEQVR4nO3bQWrDMBRF0a8iQjORMAYvxovoYrsI7cYYa9CETJRBZi3WSDw57j0r+JiLIcHPlVIMUHBmdjWzS+9DTuRRSrn1PuKI/DiOXyGEofchZ5FzXp1z3wT3lw8hDPM832KM997HvLtt2z5TSsOyLBczI7ZfvJlZjPE+TdNP72NO4tr7gKP66H0A/g9igwyxQYbYIENskCE2yBAbZIgNMsQGGWKDDLFBhtggQ2yQITbIEBtkvNnro7/eh5wBz7HO55zXlNJgfPTXRM55NbNH7zuOiMFLewxedjimfFDhzVbHW6ohpnwVzPLaYsq3g1lee0z56viF3hB/6kKG2CBDbJAhNsgQG2SIDTLEBhligwyxQYbYIENskCE2yBAbZIgNMsQGGaZ8O3gm7THlq2CW1xaDlzoGLw09AQpbat/wzNfOAAAAAElFTkSuQmCC\"></img></td>\n",
              "      <td id=\"T_71444_row6_col5\" class=\"data row6 col5\" >0<br>(0.0%)</td>\n",
              "    </tr>\n",
              "  </tbody>\n",
              "</table>\n"
            ]
          },
          "metadata": {},
          "execution_count": 99
        }
      ]
    },
    {
      "cell_type": "markdown",
      "source": [
        "- Valeurs contiennent différents type.\n",
        "- 54 % de donnée manquante dans \"Type Générique\". Chercher l'utilisation et analyse l'interet.\n",
        "\n",
        "Pour toutes les colonnes, reformater les données.\n",
        "Un pivotement ou une transposition du tableau sera probablement nécessaire."
      ],
      "metadata": {
        "id": "Y3dB0obqsvTg"
      }
    },
    {
      "cell_type": "markdown",
      "source": [
        "Mélange des modalites entre pièces et type d équipement"
      ],
      "metadata": {
        "id": "lvKYNHYPxHJJ"
      }
    },
    {
      "cell_type": "code",
      "source": [
        "# Séparer la colonne 'datetime' en deux colonnes distinctes\n",
        "Marc[['date', 'time']] = Marc['Date'].str.split(' ', expand=True)\n",
        "\n",
        "# Convertir les nouvelles colonnes au format datetime\n",
        "Marc['date'] = pd.to_datetime(Marc['date'], format='%Y-%m-%d')\n",
        "Marc['time'] = pd.to_datetime(Marc['time'], format='%H:%M:%S').dt.time\n"
      ],
      "metadata": {
        "id": "Vo10Duhot-9Z"
      },
      "execution_count": 100,
      "outputs": []
    },
    {
      "cell_type": "code",
      "source": [
        "# Ajouter une colonne 'Mois' pour extraire le mois (1-12)\n",
        "Marc['Mois'] = Marc['date'].dt.month"
      ],
      "metadata": {
        "id": "zh5A8YiGl2P4"
      },
      "execution_count": 101,
      "outputs": []
    },
    {
      "cell_type": "code",
      "source": [
        "# Ajouter une colonne 'Semaine' pour extraire la semaine de l'année\n",
        "Marc['Semaine'] = Marc['date'].dt.isocalendar().week"
      ],
      "metadata": {
        "id": "MNGXswKbl4kc"
      },
      "execution_count": 102,
      "outputs": []
    },
    {
      "cell_type": "code",
      "source": [
        "# Créer une colonne 'Année' si elle n'existe pas déjà\n",
        "Marc['annee'] = Marc['date'].dt.year"
      ],
      "metadata": {
        "id": "s0s-iqeOl5ck"
      },
      "execution_count": 103,
      "outputs": []
    },
    {
      "cell_type": "code",
      "source": [
        "# Vérifier si 'time' est déjà au format datetime.time\n",
        "if isinstance(Marc['time'].iloc[0], datetime.time):\n",
        "    time_column = Marc['time']  # Déjà au bon format\n",
        "elif Marc['time'].dtype == 'object':\n",
        "    # Si 'time' est une chaîne, convertir au format datetime.time\n",
        "    time_column = pd.to_datetime(Marc['time']).dt.time\n",
        "else:\n",
        "    raise ValueError(\"Le format de la colonne 'time' n'est pas compatible.\")\n",
        "\n",
        "# Ajouter une colonne 'Jour/Nuit'\n",
        "Marc['Jour/Nuit'] = np.where(\n",
        "    (time_column >= datetime.time(20, 0)) | (time_column < datetime.time(8, 0)),\n",
        "    'Nuit',\n",
        "    'Jour'\n",
        ")"
      ],
      "metadata": {
        "id": "Y34Bgdkvl8B5"
      },
      "execution_count": 104,
      "outputs": []
    },
    {
      "cell_type": "code",
      "source": [
        "# Ajouter une colonne 'Ete/Hiver' basée sur le mois (valeurs numériques)\n",
        "Marc['Ete/Hiver'] = np.where(\n",
        "    (Marc['Mois'] >= 5) & (Marc['Mois'] <= 9),  # Mois de mai (5) à septembre (9) inclus\n",
        "    'Ete',  # Été\n",
        "    'Hiver'  # Hiver\n",
        ")"
      ],
      "metadata": {
        "id": "5UqKCL_KnI7K"
      },
      "execution_count": 105,
      "outputs": []
    },
    {
      "cell_type": "code",
      "source": [
        "# Supprimer l'ancienne colonne si elle n'est plus nécessaire\n",
        "Marc= Marc.drop(columns=['Type Générique'])"
      ],
      "metadata": {
        "id": "Ri2bwVLcpzfa"
      },
      "execution_count": 106,
      "outputs": []
    },
    {
      "cell_type": "code",
      "source": [
        "# Trouver toutes les modalités uniques dans la colonne 'Équipement'\n",
        "modalites = Marc['Objet'].unique()\n",
        "\n",
        "# Afficher les modalités\n",
        "print(modalites)"
      ],
      "metadata": {
        "colab": {
          "base_uri": "https://localhost:8080/"
        },
        "id": "d28Y_HJQ3qrA",
        "outputId": "bcd0824d-71e8-4407-ae30-e533c3850a24"
      },
      "execution_count": 107,
      "outputs": [
        {
          "output_type": "stream",
          "name": "stdout",
          "text": [
            "['BUREAU 1 (MARC)' 'BUREAU 2 (ARCHIVES)' 'CUISINE' 'OPENSPACE' 'TECHNIQUE']\n"
          ]
        }
      ]
    },
    {
      "cell_type": "code",
      "source": [
        "# Fonction de nettoyage\n",
        "def nettoyer_Objet(data):\n",
        "    if data == 'BUREAU 1 (MARC)': # Changement de nom\n",
        "        return 'Bureau'\n",
        "    elif data == 'BUREAU 2 (ARCHIVES)': # Changement de nom\n",
        "        return 'Bureau'\n",
        "    elif data == 'CUISINE':  # Clarifie\n",
        "        return 'Cuisine'\n",
        "    elif data == 'OPENSPACE':  # Clarifie\n",
        "        return 'Open_Space'\n",
        "    elif data == 'TECHNIQUE': # Changement de nom\n",
        "        return 'Technique'\n",
        "    else:\n",
        "        return data  # Conserve les autres modalités intactes\n",
        "# Appliquer la fonction de nettoyage à la colonne 'Objets'\n",
        "Marc['Piece'] = Marc['Objet'].apply(nettoyer_Objet)"
      ],
      "metadata": {
        "id": "WGIv50Xx3b97"
      },
      "execution_count": 108,
      "outputs": []
    },
    {
      "cell_type": "code",
      "source": [
        "# Trouver toutes les modalités uniques dans la colonne 'Équipement'\n",
        "modalites = Marc['Équipement'].unique()\n",
        "\n",
        "# Afficher les modalités\n",
        "print(modalites)"
      ],
      "metadata": {
        "id": "VNA02EJywiGy",
        "colab": {
          "base_uri": "https://localhost:8080/"
        },
        "outputId": "0965eea5-658a-4548-dc64-974c30378226"
      },
      "execution_count": 109,
      "outputs": [
        {
          "output_type": "stream",
          "name": "stdout",
          "text": [
            "['Thermostat Marc Z3' 'Thermostat Archive Z5' 'Thermostat Cuisine Z6'\n",
            " 'Thermostat Open Space Z2' 'AIRZONE (Suivi Conso Elec)'\n",
            " 'APPOINT ELECTRIQUE (Suivi Conso)' 'PAC (Suivi Conso Elec)'\n",
            " 'TIC 1 (Suivi Conso Elec)']\n"
          ]
        }
      ]
    },
    {
      "cell_type": "code",
      "source": [
        "# Fonction de nettoyage\n",
        "def nettoyer_type(data):\n",
        "    if data == 'Thermostat Marc Z3': # Changement de nom\n",
        "        return 'Thermostats'\n",
        "    elif data == 'Thermostat Archive Z5': #\n",
        "        return 'Thermostats'\n",
        "    elif data == 'Thermostat Cuisine Z6':  #\n",
        "        return 'Thermostats'\n",
        "    elif data == 'Thermostat Open Space Z2':  #\n",
        "        return 'Thermostats'\n",
        "    elif data == 'AIRZONE (Suivi Conso Elec)': #\n",
        "        return 'AirZone'\n",
        "    elif data == 'APPOINT ELECTRIQUE (Suivi Conso)':  #\n",
        "        return 'Appoint-Electrique'\n",
        "    elif data == 'PAC (Suivi Conso Elec)':  #\n",
        "        return 'Compteurs'\n",
        "    elif data == 'TIC 1 (Suivi Conso Elec)':  #\n",
        "        return 'Compteurs'\n",
        "    else:\n",
        "        return data  # Conserve les autres modalités intactes\n",
        "# Appliquer la fonction de nettoyage à la colonne 'Objets'\n",
        "Marc['Objet'] = Marc['Équipement'].apply(nettoyer_type)"
      ],
      "metadata": {
        "id": "hepyGmPytopN"
      },
      "execution_count": 110,
      "outputs": []
    },
    {
      "cell_type": "code",
      "source": [
        "# Fonction de nettoyage\n",
        "def nettoyer(data):\n",
        "    if data == 'Thermostat Marc Z3': # Changement de nom\n",
        "        return 'Z3'\n",
        "    elif data == 'Thermostat Archive Z5': # Changement de nom\n",
        "        return 'Z5'\n",
        "    elif data == 'Thermostat Cuisine Z6':  # Clarifie\n",
        "        return 'Z6'\n",
        "    elif data == 'Thermostat Open Space Z2':  # Clarifie\n",
        "        return 'Z2'\n",
        "    elif data == 'AIRZONE (Suivi Conso Elec)': # Changement de nom\n",
        "        return 'AirZone'\n",
        "    elif data == 'APPOINT ELECTRIQUE (Suivi Conso)':  # Clarifie\n",
        "        return 'Appoint-Electrique'\n",
        "    elif data == 'PAC (Suivi Conso Elec)':  # Clarifie\n",
        "        return 'PAC'\n",
        "    elif data == 'TIC 1 (Suivi Conso Elec)':  # Clarifie\n",
        "        return 'TIC'\n",
        "    else:\n",
        "        return data  # Conserve les autres modalités intactes\n",
        "# Appliquer la fonction de nettoyage à la colonne 'Objets'\n",
        "Marc['Réplicat'] = Marc['Équipement'].apply(nettoyer)"
      ],
      "metadata": {
        "id": "i_D7O1LI0bIU"
      },
      "execution_count": 111,
      "outputs": []
    },
    {
      "cell_type": "code",
      "source": [
        "# Fonction de nettoyage\n",
        "def nettoyer_Equipement(data):\n",
        "    if data.startswith('Thermostat'):\n",
        "        return 'Thermostat'\n",
        "    else :\n",
        "        return 'Conso_Objet'\n",
        "    return data\n",
        "\n",
        "# Appliquer la fonction de nettoyage à la colonne 'Objets'\n",
        "Marc['Équipement'] = Marc['Équipement'].apply(nettoyer_Equipement)"
      ],
      "metadata": {
        "id": "WCBcjWcooRvT"
      },
      "execution_count": 112,
      "outputs": []
    },
    {
      "cell_type": "code",
      "source": [
        "# Description pour comprendre les données et mettre en suite le tableau en forme\n",
        "dfSummary(Marc)"
      ],
      "metadata": {
        "colab": {
          "base_uri": "https://localhost:8080/",
          "height": 1000
        },
        "id": "oZsw3C5-7Vi7",
        "outputId": "2bbd9393-e133-4c36-fa12-cd02fcf427a5"
      },
      "execution_count": 119,
      "outputs": [
        {
          "output_type": "stream",
          "name": "stderr",
          "text": [
            "/usr/local/lib/python3.10/dist-packages/summarytools/summarytools.py:124: RuntimeWarning: divide by zero encountered in scalar divide\n",
            "  stats += f\"<br>IQR (CV) : {x.quantile(0.75) - x.quantile(0.25):.1f} ({x.mean()/x.std():.1f})\"\n"
          ]
        },
        {
          "output_type": "execute_result",
          "data": {
            "text/plain": [
              "<pandas.io.formats.style.Styler at 0x7d7556f0c6a0>"
            ],
            "text/html": [
              "<style type=\"text/css\">\n",
              "#T_bc9c2 thead>tr>th {\n",
              "  text-align: left;\n",
              "}\n",
              "#T_bc9c2_row0_col0, #T_bc9c2_row1_col0, #T_bc9c2_row2_col0, #T_bc9c2_row3_col0, #T_bc9c2_row4_col0, #T_bc9c2_row5_col0, #T_bc9c2_row6_col0, #T_bc9c2_row7_col0, #T_bc9c2_row8_col0, #T_bc9c2_row9_col0, #T_bc9c2_row10_col0, #T_bc9c2_row11_col0, #T_bc9c2_row12_col0, #T_bc9c2_row13_col0, #T_bc9c2_row14_col0 {\n",
              "  text-align: left;\n",
              "  font-size: 12px;\n",
              "  vertical-align: middle;\n",
              "  width: 5%;\n",
              "  max-width: 50px;\n",
              "  min-width: 20px;\n",
              "}\n",
              "#T_bc9c2_row0_col1, #T_bc9c2_row1_col1, #T_bc9c2_row2_col1, #T_bc9c2_row3_col1, #T_bc9c2_row4_col1, #T_bc9c2_row5_col1, #T_bc9c2_row6_col1, #T_bc9c2_row7_col1, #T_bc9c2_row8_col1, #T_bc9c2_row9_col1, #T_bc9c2_row10_col1, #T_bc9c2_row11_col1, #T_bc9c2_row12_col1, #T_bc9c2_row13_col1, #T_bc9c2_row14_col1 {\n",
              "  text-align: left;\n",
              "  font-size: 12px;\n",
              "  vertical-align: middle;\n",
              "  width: 15%;\n",
              "  max-width: 200px;\n",
              "  min-width: 100px;\n",
              "  word-break: break-word;\n",
              "}\n",
              "#T_bc9c2_row0_col2, #T_bc9c2_row1_col2, #T_bc9c2_row2_col2, #T_bc9c2_row3_col2, #T_bc9c2_row4_col2, #T_bc9c2_row5_col2, #T_bc9c2_row6_col2, #T_bc9c2_row7_col2, #T_bc9c2_row8_col2, #T_bc9c2_row9_col2, #T_bc9c2_row10_col2, #T_bc9c2_row11_col2, #T_bc9c2_row12_col2, #T_bc9c2_row13_col2, #T_bc9c2_row14_col2 {\n",
              "  text-align: left;\n",
              "  font-size: 12px;\n",
              "  vertical-align: middle;\n",
              "  width: 30%;\n",
              "  min-width: 100px;\n",
              "}\n",
              "#T_bc9c2_row0_col3, #T_bc9c2_row1_col3, #T_bc9c2_row2_col3, #T_bc9c2_row3_col3, #T_bc9c2_row4_col3, #T_bc9c2_row5_col3, #T_bc9c2_row6_col3, #T_bc9c2_row7_col3, #T_bc9c2_row8_col3, #T_bc9c2_row9_col3, #T_bc9c2_row10_col3, #T_bc9c2_row11_col3, #T_bc9c2_row12_col3, #T_bc9c2_row13_col3, #T_bc9c2_row14_col3 {\n",
              "  text-align: left;\n",
              "  font-size: 12px;\n",
              "  vertical-align: middle;\n",
              "  width: 25%;\n",
              "  min-width: 100px;\n",
              "}\n",
              "#T_bc9c2_row0_col4, #T_bc9c2_row1_col4, #T_bc9c2_row2_col4, #T_bc9c2_row3_col4, #T_bc9c2_row4_col4, #T_bc9c2_row5_col4, #T_bc9c2_row6_col4, #T_bc9c2_row7_col4, #T_bc9c2_row8_col4, #T_bc9c2_row9_col4, #T_bc9c2_row10_col4, #T_bc9c2_row11_col4, #T_bc9c2_row12_col4, #T_bc9c2_row13_col4, #T_bc9c2_row14_col4 {\n",
              "  text-align: left;\n",
              "  font-size: 12px;\n",
              "  vertical-align: middle;\n",
              "  width: 20%;\n",
              "  min-width: 150px;\n",
              "}\n",
              "#T_bc9c2_row0_col5, #T_bc9c2_row1_col5, #T_bc9c2_row2_col5, #T_bc9c2_row3_col5, #T_bc9c2_row4_col5, #T_bc9c2_row5_col5, #T_bc9c2_row6_col5, #T_bc9c2_row7_col5, #T_bc9c2_row8_col5, #T_bc9c2_row9_col5, #T_bc9c2_row10_col5, #T_bc9c2_row11_col5, #T_bc9c2_row12_col5, #T_bc9c2_row13_col5, #T_bc9c2_row14_col5 {\n",
              "  text-align: left;\n",
              "  font-size: 12px;\n",
              "  vertical-align: middle;\n",
              "  width: 10%;\n",
              "}\n",
              "</style>\n",
              "<table id=\"T_bc9c2\" class=\"dataframe\">\n",
              "  <caption><strong>Data Frame Summary</strong><br>Marc<br>Dimensions: 56,946 x 15<br>Duplicates: 0</caption>\n",
              "  <thead>\n",
              "    <tr>\n",
              "      <th id=\"T_bc9c2_level0_col0\" class=\"col_heading level0 col0\" >No</th>\n",
              "      <th id=\"T_bc9c2_level0_col1\" class=\"col_heading level0 col1\" >Variable</th>\n",
              "      <th id=\"T_bc9c2_level0_col2\" class=\"col_heading level0 col2\" >Stats / Values</th>\n",
              "      <th id=\"T_bc9c2_level0_col3\" class=\"col_heading level0 col3\" >Freqs / (% of Valid)</th>\n",
              "      <th id=\"T_bc9c2_level0_col4\" class=\"col_heading level0 col4\" >Graph</th>\n",
              "      <th id=\"T_bc9c2_level0_col5\" class=\"col_heading level0 col5\" >Missing</th>\n",
              "    </tr>\n",
              "  </thead>\n",
              "  <tbody>\n",
              "    <tr>\n",
              "      <td id=\"T_bc9c2_row0_col0\" class=\"data row0 col0\" >1</td>\n",
              "      <td id=\"T_bc9c2_row0_col1\" class=\"data row0 col1\" ><strong>Date</strong><br>[object]</td>\n",
              "      <td id=\"T_bc9c2_row0_col2\" class=\"data row0 col2\" >1. 2024-04-30 02:00:00<br>2. 2024-02-24 06:00:00<br>3. 2024-04-18 02:00:00<br>4. 2024-04-10 02:00:00<br>5. 2024-05-21 02:00:00<br>6. 2024-03-05 10:00:00<br>7. 2024-03-21 06:00:00<br>8. 2024-04-19 02:00:00<br>9. 2024-04-26 02:00:00<br>10. 2024-05-17 02:00:00<br>11. other</td>\n",
              "      <td id=\"T_bc9c2_row0_col3\" class=\"data row0 col3\" >11 (0.0%)<br>10 (0.0%)<br>10 (0.0%)<br>10 (0.0%)<br>10 (0.0%)<br>10 (0.0%)<br>10 (0.0%)<br>10 (0.0%)<br>10 (0.0%)<br>10 (0.0%)<br>56,845 (99.8%)</td>\n",
              "      <td id=\"T_bc9c2_row0_col4\" class=\"data row0 col4\" ><img src = \"data:image/png;base64, iVBORw0KGgoAAAANSUhEUgAAAJsAAAD+CAYAAAAtWHdlAAAAOXRFWHRTb2Z0d2FyZQBNYXRwbG90bGliIHZlcnNpb24zLjguMCwgaHR0cHM6Ly9tYXRwbG90bGliLm9yZy81sbWrAAAACXBIWXMAAA9hAAAPYQGoP6dpAAADLklEQVR4nO3cwY3TYBRG0ecogmFja2QpJUAPKYItvdOFNzCswoIeriVzTgX/4kpPkfxleb1eA4Xb2Q/g/yE2MmIjIzYyYiMjNjJiIyM2MmIjIzYyt2VZvi3L8nb2Q7i+28x8nZnPZz+E63NGyYiNjNjIiI2M2MiIjYzYyIiNjNjIiI2M2MiIjYzYyIiNjNjIiI3MbWZ+zsyfsx/C9S3+xYiKM0pGbGSsq8hYV5FxRsmIjYzYyIiNjNjIiI2M2MiIjYzYyIiNjNjIiI2M2MiIjYzYyBi8kDF4IeOMkhEbGYMXMgYvZJxRMmIjIzYyYiMjNjJiIyM2MmIjIzYyYiMjNjJiIyM2MmIjIzYyBi9kDF7IOKNkxEZGbGSsq8hYV5FxRsmIjYzYyIiNjNjIiI2M2MiIjYzYyIiNjNjIiI2M2MiIjYzYyFhXkbGuIuOMkhEbGYMXMgYvZJxRMmIjIzYyYiMjNjJiIyM2MmIjIzYyYiMjNjJiIyM2MmIjIzYyBi9kDF7IOKNkxEbG4IWMwQsZZ5SM2MiIjYzYyIiNjNjIiI2M2MiIjYzYyIiNjNjIiI2M2MiIjYzYyFhXkbGuIuOMkhEbGesqMtZVZJxRMmIjIzYyYiMjNjJiIyM2MmIjIzYyYiMjNjJiIyM2MmIjIzYyBi9kDF7IOKNkxEbG4IWMwQsZZ5SM2MiIjYzYyIiNjNjIiI2M2MiIjYzYyIiNjNjIiI2M2MiIjYzBCxmDFzLOKBmxkREbGesqMtZVZJxRMmIjIzYyYiMjNjJiIyM2MmIjIzYyYiMjNjJiIyM2MmIjIzYy1lVkrKvIOKNkxEbG4IWMwQsZZ5SM2MiIjYzYyIiNjNjIiI2M2MiIjYzYyIiNjNjIiI2M2MiIjYzBCxmDFzLOKJllZr7MzKezH8L13fd9/76u6/vZD+H67uu6vj+fz9/btn2c/Riu6ziOt/vMzLZtH4/H49fZD+La/EAgIzYyYiMjNjJiIyM2MmIjIzYyYiMjNjJiIyM2MmIjc5/59/nH2Q/h2o7jeFv2ff/h40kKPgsnY11Fxg8EMmIjIzYyYiMjNjJiIyM2MmIjIzYyfwFj50uCzHpkKgAAAABJRU5ErkJggg==\"></img></td>\n",
              "      <td id=\"T_bc9c2_row0_col5\" class=\"data row0 col5\" >0<br>(0.0%)</td>\n",
              "    </tr>\n",
              "    <tr>\n",
              "      <td id=\"T_bc9c2_row1_col0\" class=\"data row1 col0\" >2</td>\n",
              "      <td id=\"T_bc9c2_row1_col1\" class=\"data row1 col1\" ><strong>Objet</strong><br>[object]</td>\n",
              "      <td id=\"T_bc9c2_row1_col2\" class=\"data row1 col2\" >1. Thermostats<br>2. Compteurs<br>3. AirZone<br>4. Appoint-Electrique</td>\n",
              "      <td id=\"T_bc9c2_row1_col3\" class=\"data row1 col3\" >25,955 (45.6%)<br>23,816 (41.8%)<br>6,807 (12.0%)<br>368 (0.6%)</td>\n",
              "      <td id=\"T_bc9c2_row1_col4\" class=\"data row1 col4\" ><img src = \"data:image/png;base64, iVBORw0KGgoAAAANSUhEUgAAAJsAAABcCAYAAAB5jMeAAAAAOXRFWHRTb2Z0d2FyZQBNYXRwbG90bGliIHZlcnNpb24zLjguMCwgaHR0cHM6Ly9tYXRwbG90bGliLm9yZy81sbWrAAAACXBIWXMAAA9hAAAPYQGoP6dpAAAB80lEQVR4nO3bQWricBjG4S8llOkmQQIexkP0sHOI3EbELNrSTWZhZzWMbuIbMc9zgr/yI5qQt5nnuSDhZe0DsB1iI6apqreqel37IA/qe57nz7UP8SzaYRjeu67brX2QRzRN06lpmt+CW0bbdd3ucDh89n3/tfZhHsn5fP41juPueDy+VpXYFtBWVfV9/7Xf7z/WPswDelv7AM/EDQIxYiNGbMSIjRixESM2YsRGjNiIERsxYiNGbMSIjRixEdNWXV6nWfsgj8Z3srx2mqbTOI678jrNP6ZpOlXV99rneBZeC7/Oa+ELakz5SHGDQIyf0Qs/lwHWVWVFlbL5dZUVVY511YXHPgFuEIgRGzFiI0ZsxIiNGLERIzZixEaM2IgRGzFiI0ZsxIiNGLERs/kp35Y/e5opX5nspdggXNggBJjyEbP0lc0Vgv9adF1lpcQ1i62rrJS4Zel11WbvaLnNQ11ixEaM2IgRGzFiI0ZsxIiNGLERIzZixEaM2IgRGzFiI0ZsxCy2rrJS4pZF11VWSlxjg0CMdRUxf69s5YrEvbXDMLxXVVlFcW8vXdftfqZ8W1/Fc2eesxEjNmLERozYiBEbMWIjRmzEiI0YsREjNmLERozYiBEbMWIjRmzEiI2Y9mcRVWUVxZ3ZIBBjXUWM/2zE/AGbmrjbilmMgAAAAABJRU5ErkJggg==\"></img></td>\n",
              "      <td id=\"T_bc9c2_row1_col5\" class=\"data row1 col5\" >0<br>(0.0%)</td>\n",
              "    </tr>\n",
              "    <tr>\n",
              "      <td id=\"T_bc9c2_row2_col0\" class=\"data row2 col0\" >3</td>\n",
              "      <td id=\"T_bc9c2_row2_col1\" class=\"data row2 col1\" ><strong>Équipement</strong><br>[object]</td>\n",
              "      <td id=\"T_bc9c2_row2_col2\" class=\"data row2 col2\" >1. Conso_Objet<br>2. Thermostat</td>\n",
              "      <td id=\"T_bc9c2_row2_col3\" class=\"data row2 col3\" >30,991 (54.4%)<br>25,955 (45.6%)</td>\n",
              "      <td id=\"T_bc9c2_row2_col4\" class=\"data row2 col4\" ><img src = \"data:image/png;base64, iVBORw0KGgoAAAANSUhEUgAAAJsAAAAuCAYAAAA/ZmtKAAAAOXRFWHRTb2Z0d2FyZQBNYXRwbG90bGliIHZlcnNpb24zLjguMCwgaHR0cHM6Ly9tYXRwbG90bGliLm9yZy81sbWrAAAACXBIWXMAAA9hAAAPYQGoP6dpAAABO0lEQVR4nO3bQWrDMBRF0a8iQjORMAYvxovoYrsI7cYYa9CETJRBZi3WSDw57j0r+JiLIcHPlVIMUHBmdjWzS+9DTuRRSrn1PuKI/DiOXyGEofchZ5FzXp1z3wT3lw8hDPM832KM997HvLtt2z5TSsOyLBczI7ZfvJlZjPE+TdNP72NO4tr7gKP66H0A/g9igwyxQYbYIENskCE2yBAbZIgNMsQGGWKDDLFBhtggQ2yQITbIEBtkvNnro7/eh5wBz7HO55zXlNJgfPTXRM55NbNH7zuOiMFLewxedjimfFDhzVbHW6ohpnwVzPLaYsq3g1lee0z56viF3hB/6kKG2CBDbJAhNsgQG2SIDTLEBhligwyxQYbYIENskCE2yBAbZIgNMsQGGaZ8O3gm7THlq2CW1xaDlzoGLw09AQpbat/wzNfOAAAAAElFTkSuQmCC\"></img></td>\n",
              "      <td id=\"T_bc9c2_row2_col5\" class=\"data row2 col5\" >0<br>(0.0%)</td>\n",
              "    </tr>\n",
              "    <tr>\n",
              "      <td id=\"T_bc9c2_row3_col0\" class=\"data row3 col0\" >4</td>\n",
              "      <td id=\"T_bc9c2_row3_col1\" class=\"data row3 col1\" ><strong>Commande</strong><br>[object]</td>\n",
              "      <td id=\"T_bc9c2_row3_col2\" class=\"data row3 col2\" >1. Température<br>2. Conso_jour<br>3. Conso_mois</td>\n",
              "      <td id=\"T_bc9c2_row3_col3\" class=\"data row3 col3\" >25,955 (45.6%)<br>15,802 (27.7%)<br>15,189 (26.7%)</td>\n",
              "      <td id=\"T_bc9c2_row3_col4\" class=\"data row3 col4\" ><img src = \"data:image/png;base64, iVBORw0KGgoAAAANSUhEUgAAAJsAAABFCAYAAABdVZTTAAAAOXRFWHRTb2Z0d2FyZQBNYXRwbG90bGliIHZlcnNpb24zLjguMCwgaHR0cHM6Ly9tYXRwbG90bGliLm9yZy81sbWrAAAACXBIWXMAAA9hAAAPYQGoP6dpAAABmUlEQVR4nO3bQWrbYBSF0aciQjORMAYvxovoYrsI7cYYa9CETNRBh4WUgrn6f+WcFTzMh42E77BtW0HCt70P4OsYquq1ql72PqRRH9u2ve19xFGM5/P5xzRNp70PadG6rvdhGH4K7jnGaZpO1+v1bZ7n972Pacnj8fi+LMvpdru9VJXYnmCsqprn+f1yufza+5gGve59wJF4QCBGbMSIjRixESM2YsRGjNiIERsxYiNGbMSIjRixESM2YsRGzFj1579bex/SGp/J843rut6XZTmV/279ZV3Xe1V97H3HUdggfM4G4YkGUz5Sevtm803Tsa7WVdZOfetmXWXt1L/e1lWemDvmpS4xYiNGbMSIjRixESM2YsRGjNiIERsxYiNGbMSIjRixESM2YrpZV/VwI5/ral1l7dQ3GwRirKuI8YBATC8/o34+D6CLKZ8J3zE0P+Uz4TuOXqZ8zb+W4d88IBAjNmLERozYiBEbMWIjRmzEiI0YsREjNmLERozYiBEbMWIjpvkpX8u38X+6mPKZ8B2DDQIxpnzE/AZKvKNKlZJhnQAAAABJRU5ErkJggg==\"></img></td>\n",
              "      <td id=\"T_bc9c2_row3_col5\" class=\"data row3 col5\" >0<br>(0.0%)</td>\n",
              "    </tr>\n",
              "    <tr>\n",
              "      <td id=\"T_bc9c2_row4_col0\" class=\"data row4 col0\" >5</td>\n",
              "      <td id=\"T_bc9c2_row4_col1\" class=\"data row4 col1\" ><strong>Valeur</strong><br>[object]</td>\n",
              "      <td id=\"T_bc9c2_row4_col2\" class=\"data row4 col2\" >1. 0<br>2. 0,100000000<br>3. 0,200000000<br>4. 0,300000000<br>5. 0,400000000<br>6. 19,200000000<br>7. 19,300000000<br>8. 19,100000000<br>9. 19,400000000<br>10. 0,250000000<br>11. other</td>\n",
              "      <td id=\"T_bc9c2_row4_col3\" class=\"data row4 col3\" >581 (1.0%)<br>504 (0.9%)<br>430 (0.8%)<br>386 (0.7%)<br>352 (0.6%)<br>229 (0.4%)<br>218 (0.4%)<br>217 (0.4%)<br>200 (0.4%)<br>188 (0.3%)<br>53,641 (94.2%)</td>\n",
              "      <td id=\"T_bc9c2_row4_col4\" class=\"data row4 col4\" ><img src = \"data:image/png;base64, iVBORw0KGgoAAAANSUhEUgAAAJsAAAD+CAYAAAAtWHdlAAAAOXRFWHRTb2Z0d2FyZQBNYXRwbG90bGliIHZlcnNpb24zLjguMCwgaHR0cHM6Ly9tYXRwbG90bGliLm9yZy81sbWrAAAACXBIWXMAAA9hAAAPYQGoP6dpAAADuUlEQVR4nO3cQU4jVxhG0d+W1QmTsixLLIMFsAgWm0V4AewDIWoQOkycQdPDDq0kXCvOOWMGNbh6tkvvY3M+nwcK20s/AP8fYiMjNjJiIyM2MmIjIzYyYiMjNjKbmbmZmS8z83Y+n18v/Dxcsd3xeHxYluWwruvzZrP5TXB8lu2yLIe7u7tZluUw3044+BTbmZmbm5s/Lv0gXD8/EMiIjYzYyIiNjNjIiI2M2MiIjYzYyIiNjNjIiI2M2MiIjcx2Zub19fWXSz8I12+7ruvz4+PjrOv6PDNvl34grpcNApmNf5lF5fvJNk41PtvueDw+zMxYVvHZtsuyHCyrKHjPRkZsZMRGRmxkxEZGbGTERkZsZMRGRmxkxEZGbGTERkZsZMRGZvc+dJkxduGTuRZOxuCFjJONjMELGYMXMl59kBEbGbGRERsZsZERGxmxkREbGbGRERsZsZERGxmxkREbGbGRMXgh41o4GYMXMr6zkfExSsa6iox1FRnf2ciIjYzYyIiNjNjIiI2M2MiIjYzYyIiNjNjIiI2M2MiIjYzYyFhXkXEtnIx1FRknGxmDFzIGL2S8+iAjNjJiIyM2MmIjIzYyYiMjNjJiIyM2MmIjIzYyYiMjNjJiI2PwQsa1cDIGL2ScbGQMXsgYvJDx6oOM2MiIjYzYyIiNjNjIiI2M2MiIjYzYyIiNjNjIiI2M2MiIjYzYyFhXkbFBIGNdRcbJRsa6iox1FRmvPsiIjYzYyIiNjNjIiI2M2MiIjYzYyIiNjNjIiI2M2MiIjYzYyBi8kHEtnIzBCxknGxmDFzIGL2S8+iAjNjJiIyM2MmIjIzYyYiMjNjJiIyM2MmIjIzYyYiMjNjJiI2PwQsa1cDIGL2R8ZyPjY5SMdRUZ6yoyvrORERsZsZERGxmxkREbGbGRERsZsZERGxmxkREbGbGRERsZsZGxriLjWjgZ6yoyTjYyBi9kDF7IePVBRmxkxEZGbGTERkZsZMRGRmxkxEZGbGTERkZsZMRGRmxkxEbG4IWMa+FkDF7IfD/ZXAnnn3r76NNxdzweH943CPC3rev6/NFoarcsy+H+/v51v99/LR+O6/Hy8vLr6XQ6PD09fZmZH8c2M7Pf77/e3t7+nj0d1+jmoz/wno2M2MiIjYzYyIiNjNjIiI2M2MiIjYzYyIiNjNjIiI3MbubbFZFLPwj/XT/bz25d1+fT6XSYn7giAj/yPpz6y9GUa+H8Wz68Fm7wQsYPBDJiIyM2MmIjIzYyYiMjNjJiIyM2Mn8CFD0g6hVsBuQAAAAASUVORK5CYII=\"></img></td>\n",
              "      <td id=\"T_bc9c2_row4_col5\" class=\"data row4 col5\" >0<br>(0.0%)</td>\n",
              "    </tr>\n",
              "    <tr>\n",
              "      <td id=\"T_bc9c2_row5_col0\" class=\"data row5 col0\" >6</td>\n",
              "      <td id=\"T_bc9c2_row5_col1\" class=\"data row5 col1\" ><strong>Unité</strong><br>[object]</td>\n",
              "      <td id=\"T_bc9c2_row5_col2\" class=\"data row5 col2\" >1. kWh<br>2. °C</td>\n",
              "      <td id=\"T_bc9c2_row5_col3\" class=\"data row5 col3\" >30,991 (54.4%)<br>25,955 (45.6%)</td>\n",
              "      <td id=\"T_bc9c2_row5_col4\" class=\"data row5 col4\" ><img src = \"data:image/png;base64, iVBORw0KGgoAAAANSUhEUgAAAJsAAAAuCAYAAAA/ZmtKAAAAOXRFWHRTb2Z0d2FyZQBNYXRwbG90bGliIHZlcnNpb24zLjguMCwgaHR0cHM6Ly9tYXRwbG90bGliLm9yZy81sbWrAAAACXBIWXMAAA9hAAAPYQGoP6dpAAABO0lEQVR4nO3bQWrDMBRF0a8iQjORMAYvxovoYrsI7cYYa9CETJRBZi3WSDw57j0r+JiLIcHPlVIMUHBmdjWzS+9DTuRRSrn1PuKI/DiOXyGEofchZ5FzXp1z3wT3lw8hDPM832KM997HvLtt2z5TSsOyLBczI7ZfvJlZjPE+TdNP72NO4tr7gKP66H0A/g9igwyxQYbYIENskCE2yBAbZIgNMsQGGWKDDLFBhtggQ2yQITbIEBtkvNnro7/eh5wBz7HO55zXlNJgfPTXRM55NbNH7zuOiMFLewxedjimfFDhzVbHW6ohpnwVzPLaYsq3g1lee0z56viF3hB/6kKG2CBDbJAhNsgQG2SIDTLEBhligwyxQYbYIENskCE2yBAbZIgNMsQGGaZ8O3gm7THlq2CW1xaDlzoGLw09AQpbat/wzNfOAAAAAElFTkSuQmCC\"></img></td>\n",
              "      <td id=\"T_bc9c2_row5_col5\" class=\"data row5 col5\" >0<br>(0.0%)</td>\n",
              "    </tr>\n",
              "    <tr>\n",
              "      <td id=\"T_bc9c2_row6_col0\" class=\"data row6 col0\" >7</td>\n",
              "      <td id=\"T_bc9c2_row6_col1\" class=\"data row6 col1\" ><strong>date</strong><br>[datetime64[ns]]</td>\n",
              "      <td id=\"T_bc9c2_row6_col2\" class=\"data row6 col2\" >Min: 2024-01-01<br>Max: 2024-11-24<br>Duration: 328 days</td>\n",
              "      <td id=\"T_bc9c2_row6_col3\" class=\"data row6 col3\" >329 distinct values</td>\n",
              "      <td id=\"T_bc9c2_row6_col4\" class=\"data row6 col4\" ><img src = \"data:image/png;base64, iVBORw0KGgoAAAANSUhEUgAAAJsAAABNCAYAAACxBha+AAAAOXRFWHRTb2Z0d2FyZQBNYXRwbG90bGliIHZlcnNpb24zLjguMCwgaHR0cHM6Ly9tYXRwbG90bGliLm9yZy81sbWrAAAACXBIWXMAAA9hAAAPYQGoP6dpAAAC0ElEQVR4nO3csW7aUBiG4f9ACCcB2SKhZMvSMVIHpCxcQMdebC8hSAydGbp0yhYJIVDcIBxDh4ouTQLHhC82fp8VndiS39jyT07cer02QKH20SeA6iA2yJx89AmgmJxzZ2Z2mmPpcr1eP730AbHhP865s8vLy29RFHVC187n86lz7vtLwREbXnIaRVFnMBg8xXG82HXRbDbzo9GoM5lMTs2M2LC7OI4XvV7vd+Cys9c+4AUBMsQGGWKDDLFB5s0XhEPMWlBdr8Z2qFkLquutO1vuWctwOOxNJpOuc24eeD7cEY/Y1jlb6KwlSZJGmqZfrq+v6/V6fedIzbgjHrt3H+oul8sT7/15v99fXF1dTXddt236jPI72DcIrVbrXafPKD9GH5AhNsgQG2SIDTKF+hOjLMsaZhY550KXMp8rgcLExnzu+BUmNuZzx68wsW3kmc9lWRYZj9/CK1xsoXj8lkfpY+PxWx6lj22Dr8eKjzkbZIgNMsQGGWKDzNG8IJSFehNRzuNFq9WqEXqsbSod2x7fxZr9fSqsAtf4i4uLr3Ect0IPlmcmmHfTUpqmPsuym8VicWdmoW/4r6psbPsMg7MsayRJ8rndbv+q1WrpruvSNPVmdnN7e/uj2+3uvBloj01EUbvd7g0Gg3nIpqX7+/vOeDw+f35+rgcca6vKxpZ3GGz272J86vf7P0PWbi6i9z5VbCLa3KGazeZdyPGm0+lB5o+VjW0jzzB4czFC1+a9iHl/MQ51h8qr8rGViSruQ2H0ARligwyxQYbYIENskCE2yBAbZIgNMsQGGWKDDLFBhtggQ2yQITbIEBtkiA0yxAYZYoMMsUGG2CBDbJAhNsgQG2SIDTLEBhligwyxQYbYIENskCE2yBAbZIgNMsQGGWKDDLFBhtggQ2yQITbIbP3X9LPZzIf8wMfHR29mliSJf3h4OD+2dWU6V/W6ba38AUnWl3UxiITUAAAAAElFTkSuQmCC\"></img></td>\n",
              "      <td id=\"T_bc9c2_row6_col5\" class=\"data row6 col5\" >0<br>(0.0%)</td>\n",
              "    </tr>\n",
              "    <tr>\n",
              "      <td id=\"T_bc9c2_row7_col0\" class=\"data row7 col0\" >8</td>\n",
              "      <td id=\"T_bc9c2_row7_col1\" class=\"data row7 col1\" ><strong>time</strong><br>[object]</td>\n",
              "      <td id=\"T_bc9c2_row7_col2\" class=\"data row7 col2\" >1. 02:00:00<br>2. 03:00:00<br>3. 04:00:00<br>4. 06:00:00<br>5. 08:00:00<br>6. 05:00:00<br>7. 10:00:00<br>8. 09:00:00<br>9. 07:00:00<br>10. 11:00:00<br>11. other</td>\n",
              "      <td id=\"T_bc9c2_row7_col3\" class=\"data row7 col3\" >1,309 (2.3%)<br>1,255 (2.2%)<br>1,213 (2.1%)<br>1,207 (2.1%)<br>1,174 (2.1%)<br>1,165 (2.0%)<br>1,142 (2.0%)<br>1,134 (2.0%)<br>1,134 (2.0%)<br>1,128 (2.0%)<br>45,085 (79.2%)</td>\n",
              "      <td id=\"T_bc9c2_row7_col4\" class=\"data row7 col4\" ><img src = \"data:image/png;base64, iVBORw0KGgoAAAANSUhEUgAAAJsAAAD+CAYAAAAtWHdlAAAAOXRFWHRTb2Z0d2FyZQBNYXRwbG90bGliIHZlcnNpb24zLjguMCwgaHR0cHM6Ly9tYXRwbG90bGliLm9yZy81sbWrAAAACXBIWXMAAA9hAAAPYQGoP6dpAAADv0lEQVR4nO3cQWrbWgCG0etiQjqxMQEvxovoYrsI7cYEadCUTtxBk+J08uBRfyrOOZMSQ0GQDxmJ+2dzuVwGFD6tfQF8HGIjIzYyYiMjNjJiIyM2MmIjIzYymzHG5zHGw9VnPy6Xy8tK18Md2z49PX3Z7XaHtw+WZXnebDZfBcfftt3tdofT6fSy3++/z/P8OE3T4Xw+P4wxxMZftR1jjP1+//14PH57/ezzitfDHfOAQEZsZMRGRmxkxEZGbGTERkZsZMRGRmxkxEZGbGTERkZsZLZjjDHP8+P1v3AL22VZnqdpOozXc2zLsjyPMX6se1ncIxsEMht/MovKn3c2dzVu5t26yrKKW/r0tq46nU4vr9E9/Of/gv/h97rq9WfLKm7GS10yYiMjNjJiIyM2MmIjIzYyYiMjNjJiIyM2MmIjIzYy7wYvcEvXgxdjF27KsXAyBi9k3NnIGLyQMXghY/BCxktdMmIjIzYyYiMjNjJiIyM2MmIjIzYyYiMjNjJiIyM2MgYvZAxeyDgWTsbghYwHBDK+RslYV5GxriJjXUXGAwIZsZERGxmxkREbGbGRERsZsZERGxmxkREbGbGRERsZ6yoy1lVkHAsnY11Fxp2NjMELGYMXMgYvZLzUJSM2MmIjIzYyYiMjNjJiIyM2MmIjIzYyYiMjNjJiI2PwQsbghYxj4WQMXsi4s5ExeCFj8ELG4IWMl7pkxEZGbGTERkZsZMRGRmxkxEZGbGTERkZsZMRGRmxkxEbGuoqMdRUZGwQy1lVk3NnIWFeRsa4iY11FxktdMmIjIzYyYiMjNjJiIyM2MmIjIzYyYiMjNjJiIyM2MgYvZAxeyDgWTsbghYw7GxmDFzIGL2QMXsh4qUtGbGTERkZsZMRGRmxkxEZGbGTERkZsZMRGRmxkxEbG4IWMwQsZx8LJGLyQ8YBAxtcoGesqMtZVZKyryHhAICM2MmIjIzYyYiMjNjJiIyM2MmIjIzYyYiMjNjJiI2NdRca6ioxj4WSsq8i4s5ExeCFj8ELG4IWMl7pkxEZGbGTERkZsZMRGRmxkxEZGbGTERkZsZMRGRmxkDF7IGLyQcSycjMELmT/vbNy3Vb+53g1euG9rD5q2b4OXqx0Cd2ie58dpmg7n8/lhjLFObGP8Grwcj8dva1wAqVUHTV7qkhEbGbGRERsZsZERGxmxkREbGbGRERsZsZERGxmxkTF4+SD+hd/x9eDF39O9c2sPmhwL/1hWPRZu8ELGAwIZsZERGxmxkREbGbGRERsZsZERG5mfjGDffLbHKqkAAAAASUVORK5CYII=\"></img></td>\n",
              "      <td id=\"T_bc9c2_row7_col5\" class=\"data row7 col5\" >0<br>(0.0%)</td>\n",
              "    </tr>\n",
              "    <tr>\n",
              "      <td id=\"T_bc9c2_row8_col0\" class=\"data row8 col0\" >9</td>\n",
              "      <td id=\"T_bc9c2_row8_col1\" class=\"data row8 col1\" ><strong>Mois</strong><br>[int32]</td>\n",
              "      <td id=\"T_bc9c2_row8_col2\" class=\"data row8 col2\" >Mean (sd) : 5.8 (3.3)<br>min < med < max:<br>1.0 < 5.0 < 11.0<br>IQR (CV) : 6.0 (1.7)</td>\n",
              "      <td id=\"T_bc9c2_row8_col3\" class=\"data row8 col3\" >11 distinct values</td>\n",
              "      <td id=\"T_bc9c2_row8_col4\" class=\"data row8 col4\" ><img src = \"data:image/png;base64, iVBORw0KGgoAAAANSUhEUgAAAKoAAABGCAYAAABc8A97AAAAOXRFWHRTb2Z0d2FyZQBNYXRwbG90bGliIHZlcnNpb24zLjguMCwgaHR0cHM6Ly9tYXRwbG90bGliLm9yZy81sbWrAAAACXBIWXMAAA9hAAAPYQGoP6dpAAACrElEQVR4nO3cMY7aQBSA4TewgAHLCJFAR5MyUgqXPkQOmyPsSpyAIk0qOiQLGeEswgykSChh7TETeNb/tWhgil/jMZgx5/NZgGfXevQEgDJeHj0BNIcxpi8iXcfhh/P5/H7tRULFXRhj+pPJ5HsURWOX8dvtdmOM+XEtVkLFvXSjKBonSfI+Go32VQZmWRYsFotxmqZdESFU+DcajfbT6fS3w9D+rRe5mYIKhAoVCBUqECpUIFSoQKhQgVChAqFCBUKFCoQKFQgVKhAqVCBUqECoUIFQoQKhQgVChQqEChUIFSoQKlQgVKhAqFCBUKHCh//r93lMC1DWzVB9H9MClPXRiur1mBagrFJH+vg6pgUoy+vZU9bajohExhjXt2CPCxHxGGqe552iKL7N5/N2u92utG24YI+LC2+hHg6HlyAIBnEc72ez2abq+CzLgre3t2mapp+MMVuXKRB4c3g/dnI4HDrtb+uuyKzGzfK056PWWZH5xqF5njbUC9cV2VobCTdyjfH0obrgRq55GhkqN3LN08hQL7iRa45Gh+rqkTdyNR8CEvn7RNzJcezTXgkI9QbXFVkcfzqu+xCQtbaT5/mXMAx/tVqtour4Z74SEKoHNX46jsIwnCZJsq36EJCIyGq1Gi+Xy89xHP90uRLU3JdHp9Op4zCuFEK9szr726IoAmvt116v9+qykm82m76I25Wg7r78Mvf9fv8qIi5XoZsI9c7q7G//rYiD4/HY9jW/a+p+U+J77oTqicuqdlkRH8l1X+577vxnCioQKlQgVKhAqFCBUKECoUIFQoUKhAoVCBUqECpUIFSoQKhQgVChAqFCBUKFCoQKFQgVKhAqVCBUqECoUIFQoUKpf6FmWRZUfePdbheIiOR5HqzX68H/HK/1s7XOu+74Mn39AUxJrGtpYvlfAAAAAElFTkSuQmCC\"></img></td>\n",
              "      <td id=\"T_bc9c2_row8_col5\" class=\"data row8 col5\" >0<br>(0.0%)</td>\n",
              "    </tr>\n",
              "    <tr>\n",
              "      <td id=\"T_bc9c2_row9_col0\" class=\"data row9 col0\" >10</td>\n",
              "      <td id=\"T_bc9c2_row9_col1\" class=\"data row9 col1\" ><strong>Semaine</strong><br>[UInt32]</td>\n",
              "      <td id=\"T_bc9c2_row9_col2\" class=\"data row9 col2\" >Mean (sd) : 23.4 (14.6)<br>min < med < max:<br>1.0 < 22.0 < 47.0<br>IQR (CV) : 26.0 (1.6)</td>\n",
              "      <td id=\"T_bc9c2_row9_col3\" class=\"data row9 col3\" >47 distinct values</td>\n",
              "      <td id=\"T_bc9c2_row9_col4\" class=\"data row9 col4\" ><img src = \"data:image/png;base64, iVBORw0KGgoAAAANSUhEUgAAAKoAAABGCAYAAABc8A97AAAAOXRFWHRTb2Z0d2FyZQBNYXRwbG90bGliIHZlcnNpb24zLjguMCwgaHR0cHM6Ly9tYXRwbG90bGliLm9yZy81sbWrAAAACXBIWXMAAA9hAAAPYQGoP6dpAAACtklEQVR4nO3cQW7aQBiG4X9KQBOQbEFQsuMCkbqIlE0O0GUP2yN0waJrbpAdEkKg0CCMQzdF6iKAmckUf877bJGDhd9gz28nbrfbGVB3Xy69A0AVV5feATSHc+7azDqBm292u93roRcJFR/COXd9c3PzPcuyfsj2y+Vy7pz7cShWQsVH6WRZ1n96enrN83x9zoaLxcKPx+P+bDbrmBmhIr08z9e3t7e/Aza9PvYiiylIIFRIOHnqT7mSA6o6GmrqlRxQ1alv1KQrOaCqSqv+0JVcWZaZmWXOubN37C8uHWBmCcdTq9WqXRTF19Fo1Gq1Wmd9G+9x6YC9ZKFuNpsr73334eFhfXd3Nz93ey4d8K/kA/9erxc6ADY7MQTG58EcFRIIFRIIFRIIFRIIFRIIFRIa+zxq5MM0ZtwVq5VGhhr7MI0Zd8XqppGhWsTDNGbcFaujpoZqZlF/FmHGXbFaYTEFCYQKCYQKCbW+Ri3Lsm1hD15nb29v7QS7lNwlx2qR7530M69tqDEPXhdF4cuyvF+v1z/NLHQxFSzigPvBYPAtz/Ne6HuHjtViR3qpP/Pahhrz4PXz83N/Mpl0t9ttK9X+HRJzwIui8GZ2//j4+Gs4HC7P3T5yrBY10kv9mdc21L2QB6/n8/klR0vBB3x/sL33xaXGaqEjvdSfee1DVRVywC/8C1ZrrPohgVAhgVAhgWvUAz7jDLfOCPUdyjPcpiLUd6jOcM2aeyYg1CPUZrhNPhMQaoMonwlOIdQGUjsTVMF4ChIIFRIIFRIIFRIIFRIIFRIIFRIIFRIIFRIIFRIIFRIIFRIIFRIIFRIIFRIIFRIIFRIIFRIIFRIIFRIIFRIIFRIIFRIIFRIIFRIIFRIIFRIq/e+pxWLhz/3BLy8v3sxstVr56XTa/Z/bq7636n7Hbl+lrz/tGaSsneXz/AAAAABJRU5ErkJggg==\"></img></td>\n",
              "      <td id=\"T_bc9c2_row9_col5\" class=\"data row9 col5\" >0<br>(0.0%)</td>\n",
              "    </tr>\n",
              "    <tr>\n",
              "      <td id=\"T_bc9c2_row10_col0\" class=\"data row10 col0\" >11</td>\n",
              "      <td id=\"T_bc9c2_row10_col1\" class=\"data row10 col1\" ><strong>annee</strong><br>[int32]</td>\n",
              "      <td id=\"T_bc9c2_row10_col2\" class=\"data row10 col2\" >Mean (sd) : 2024.0 (0.0)<br>min < med < max:<br>2024.0 < 2024.0 < 2024.0<br>IQR (CV) : 0.0 (inf)</td>\n",
              "      <td id=\"T_bc9c2_row10_col3\" class=\"data row10 col3\" >1 distinct values</td>\n",
              "      <td id=\"T_bc9c2_row10_col4\" class=\"data row10 col4\" ><img src = \"data:image/png;base64, iVBORw0KGgoAAAANSUhEUgAAAKoAAABGCAYAAABc8A97AAAAOXRFWHRTb2Z0d2FyZQBNYXRwbG90bGliIHZlcnNpb24zLjguMCwgaHR0cHM6Ly9tYXRwbG90bGliLm9yZy81sbWrAAAACXBIWXMAAA9hAAAPYQGoP6dpAAABdElEQVR4nO3XMU5CQRiF0RlDEJr3QkhYDItwsS6C3RAzFIomMLZaGJWgcMk57bw/ucXXvNp7L3Dt7i49AH5icukBt6jWOi+lTE88f+u9v5xzzy0Q6pnVWufL5fJhGIbFKfe73e6p1voo1s+Een7TYRgW6/X6ZRzH/W8OW2uzzWaz2G6301KKUD8Q6h8Zx3G/Wq2eTzidn33MDfAzRQShEkGoRBAqEYRKBKESQahEECoRhEoEoRJBqEQQKhGESgShEkGoRBAqEYRKBKESQahEECoRhEoEoRJBqEQQKhGESgShEkGoRBAqEYRKBKESQahEECoRhEoEoRJBqEQQKhGESgShEkGoRBAqEYRKBKESQahEECoRhEoEoRJBqEQQKhGESgShEkGoRBAqEYRKBKESQahEECoRhEoEoRJBqEQQKhGESgShEkGoRJh890GtdVZKuf+HLbdiOB6Pk9ba7LeHrbXZ4XCYlFKGWusfTLtqr733/VeP76PYMRD1p5pCAAAAAElFTkSuQmCC\"></img></td>\n",
              "      <td id=\"T_bc9c2_row10_col5\" class=\"data row10 col5\" >0<br>(0.0%)</td>\n",
              "    </tr>\n",
              "    <tr>\n",
              "      <td id=\"T_bc9c2_row11_col0\" class=\"data row11 col0\" >12</td>\n",
              "      <td id=\"T_bc9c2_row11_col1\" class=\"data row11 col1\" ><strong>Jour/Nuit</strong><br>[object]</td>\n",
              "      <td id=\"T_bc9c2_row11_col2\" class=\"data row11 col2\" >1. Nuit<br>2. Jour</td>\n",
              "      <td id=\"T_bc9c2_row11_col3\" class=\"data row11 col3\" >29,443 (51.7%)<br>27,503 (48.3%)</td>\n",
              "      <td id=\"T_bc9c2_row11_col4\" class=\"data row11 col4\" ><img src = \"data:image/png;base64, iVBORw0KGgoAAAANSUhEUgAAAJsAAAAuCAYAAAA/ZmtKAAAAOXRFWHRTb2Z0d2FyZQBNYXRwbG90bGliIHZlcnNpb24zLjguMCwgaHR0cHM6Ly9tYXRwbG90bGliLm9yZy81sbWrAAAACXBIWXMAAA9hAAAPYQGoP6dpAAABOUlEQVR4nO3bwYnDMBRF0a9BhMlGwhhcjIuYYqcIdWOMtUhCNspiCog1gidE7qngYy6GBD9XSjFAwZnZ1cwuvQ8Z2LOUcu99xAj8PM8/IYSp9yGjyjnvzrlfgnvPhxCmdV3vMcZH72NGcxzHd0pp2rbtYmbE9oY3M4sxPpZlufU+ZlDX3geM4qv3AfgcxAYZYoMMsUGG2CBDbJAhNsgQG2SIDTLEBhligwyxQYbYIENskCE2yHizv48Aex8yIp5bHZ9z3lNKk/ER4L/knHcze/a+YwQMXtoxeDnJMeWDCm+2OrzFGjDlq8Bsrw1TvpOY7bVjyleHX+wN+FMXMsQGGWKDDLFBhtggQ2yQITbIEBtkiA0yxAYZYoMMsUGG2CBDbJAhNsgw5TuJZ9SOKV8FZnttGLzUYfDS4AUKW2rfd+DJGgAAAABJRU5ErkJggg==\"></img></td>\n",
              "      <td id=\"T_bc9c2_row11_col5\" class=\"data row11 col5\" >0<br>(0.0%)</td>\n",
              "    </tr>\n",
              "    <tr>\n",
              "      <td id=\"T_bc9c2_row12_col0\" class=\"data row12 col0\" >13</td>\n",
              "      <td id=\"T_bc9c2_row12_col1\" class=\"data row12 col1\" ><strong>Ete/Hiver</strong><br>[object]</td>\n",
              "      <td id=\"T_bc9c2_row12_col2\" class=\"data row12 col2\" >1. Hiver<br>2. Ete</td>\n",
              "      <td id=\"T_bc9c2_row12_col3\" class=\"data row12 col3\" >34,815 (61.1%)<br>22,131 (38.9%)</td>\n",
              "      <td id=\"T_bc9c2_row12_col4\" class=\"data row12 col4\" ><img src = \"data:image/png;base64, iVBORw0KGgoAAAANSUhEUgAAAJsAAAAuCAYAAAA/ZmtKAAAAOXRFWHRTb2Z0d2FyZQBNYXRwbG90bGliIHZlcnNpb24zLjguMCwgaHR0cHM6Ly9tYXRwbG90bGliLm9yZy81sbWrAAAACXBIWXMAAA9hAAAPYQGoP6dpAAABM0lEQVR4nO3bwYnDMBRF0a/BhMlGwhhcTIqYYqcIdWOMtUhCNprF9PAkePdU8BMuhgS/1HsPQCFFxD0ibqMPMfXpvb9GH6GybNv2k3NeRx/iqLV2ppR+XYJbcs7r4/F4lVLeo49xcl3Xd611PY7jFhEesUVElFLe+74/Rx9j6D76AKWv0QfAB7FBhtggQ2yQITbIEBtkiA0yxAYZYoMMsUGG2CBDbJAhNsgQG2SIDTJLxP+LfKMPceP4nS+ttbPWuobZi3wzaK2dEfEZfYcKg5exrAYviSkfVByfbFZPk5nYTfnc5nMzsZryOc7nZuI45eNX9yD8qQsZYoMMsUGG2CBDbJAhNsgQG2SIDTLEBhligwyxQYbYIENskCE2yBAbZKymfC6fc1Z2Uz63+dxMGLxA5g8KW2rftQ1mOAAAAABJRU5ErkJggg==\"></img></td>\n",
              "      <td id=\"T_bc9c2_row12_col5\" class=\"data row12 col5\" >0<br>(0.0%)</td>\n",
              "    </tr>\n",
              "    <tr>\n",
              "      <td id=\"T_bc9c2_row13_col0\" class=\"data row13 col0\" >14</td>\n",
              "      <td id=\"T_bc9c2_row13_col1\" class=\"data row13 col1\" ><strong>Piece</strong><br>[object]</td>\n",
              "      <td id=\"T_bc9c2_row13_col2\" class=\"data row13 col2\" >1. Technique<br>2. Bureau<br>3. Open_Space<br>4. Cuisine</td>\n",
              "      <td id=\"T_bc9c2_row13_col3\" class=\"data row13 col3\" >30,991 (54.4%)<br>10,468 (18.4%)<br>8,620 (15.1%)<br>6,867 (12.1%)</td>\n",
              "      <td id=\"T_bc9c2_row13_col4\" class=\"data row13 col4\" ><img src = \"data:image/png;base64, iVBORw0KGgoAAAANSUhEUgAAAJsAAABcCAYAAAB5jMeAAAAAOXRFWHRTb2Z0d2FyZQBNYXRwbG90bGliIHZlcnNpb24zLjguMCwgaHR0cHM6Ly9tYXRwbG90bGliLm9yZy81sbWrAAAACXBIWXMAAA9hAAAPYQGoP6dpAAAB7klEQVR4nO3bQUrrUACF4ZtHEJ0klEIX00W42LeI7KaUZqDiJA4EkUrrJDm3Nt+3gkv5SUm4p5mmqUDCv9oHYD3ERkxTSnkqpTzUPsgdeZ+m6bX2IW5Ru91un7uu29Q+yL0Yx/HYNM1/wf3Udl232e/3r33fv9U+zF93Op0eh2HYHA6Hh1KK2M60pZTS9/3bbrd7qX2YO/FU+wC3ygsCMWIjRmzEiI0YsREjNmLERozYiBEbMWIjRmzEiI0YsRHTlvJ5Nab2Qe6B3/G6dhzH4zAMm+JqzCzGcTyWUt5rn+MWuRY+P9fCL2hM+UjxgkBMjb9RfzMrFV9XWR+tV3RdZX20bjXWVT6xrJQXBGLERozYiBEbMWIjRmzEiI0YsREjNmLERozYiBEbMWIjRmzERKd8pm7rFp/ymbqtlw0CMaZ8xCz9ZPMU48ui6ypLKr5bbF1lScW5pddVllR88VGXGLERIzZixEaM2IgRGzFiI0ZsxIiNGLERIzZixEaM2IgRGzGLrassqTi36LrKkorvbBCIsa4iZu4nmycZF826rrKm4prZ1lXWVPxm7nWVNRUX+ahLjNiIERsxYiNGbMSIjRixESM2YsRGjNiIERsxYiNGbMSIjZjZ1lXWVPxm1nWVNRXX2CAQY11FjBcEYj4APyPYudSCGnsAAAAASUVORK5CYII=\"></img></td>\n",
              "      <td id=\"T_bc9c2_row13_col5\" class=\"data row13 col5\" >0<br>(0.0%)</td>\n",
              "    </tr>\n",
              "    <tr>\n",
              "      <td id=\"T_bc9c2_row14_col0\" class=\"data row14 col0\" >15</td>\n",
              "      <td id=\"T_bc9c2_row14_col1\" class=\"data row14 col1\" ><strong>Réplicat</strong><br>[object]</td>\n",
              "      <td id=\"T_bc9c2_row14_col2\" class=\"data row14 col2\" >1. TIC<br>2. Z2<br>3. Z3<br>4. Z6<br>5. AirZone<br>6. PAC<br>7. Z5<br>8. Appoint-Electrique</td>\n",
              "      <td id=\"T_bc9c2_row14_col3\" class=\"data row14 col3\" >18,514 (32.5%)<br>8,620 (15.1%)<br>8,302 (14.6%)<br>6,867 (12.1%)<br>6,807 (12.0%)<br>5,302 (9.3%)<br>2,166 (3.8%)<br>368 (0.6%)</td>\n",
              "      <td id=\"T_bc9c2_row14_col4\" class=\"data row14 col4\" ><img src = \"data:image/png;base64, iVBORw0KGgoAAAANSUhEUgAAAJsAAAC4CAYAAAD0WZ4UAAAAOXRFWHRTb2Z0d2FyZQBNYXRwbG90bGliIHZlcnNpb24zLjguMCwgaHR0cHM6Ly9tYXRwbG90bGliLm9yZy81sbWrAAAACXBIWXMAAA9hAAAPYQGoP6dpAAADJklEQVR4nO3dXWoTUQCG4RMJojcJIdDFdBEu1kVkN6U0FyrexAt/EGkiTWbesfg8KzgXL6edYb52dTqdBhTeLH0A/h9iIyM2MmIjIzYyYiOzGmO8H2O8XfogE/h6Op0+L30Izlvv9/sPm81mt/RBbnU8Hh9Xq9VHwf271pvNZnd/f/95u91+Wfow13p6enp3OBx2Dw8Pb8cYYvtHrccYY7vdfrm7u/u09GFu9H7pA3CZBwQyYiMjNjJiIyM2MmIjIzYyYiMjNjJiIyM2MmIjIzYy6zG+f6Kz9EFu8drP/79YH4/Hx8PhsBuv/BOd4/H4OMb4uvQ5OM9n4WRW/vwClblvNrcNv8w6eDFC4XezDV6MUPjT3IOXV/2Ey7S81CUjNjJiIyM2MmIjIzYyYiMjNjJiIyM2MmIjIzYyYiMz2+DFCIU/zTp4MULhdz4LJ2PwQsYDAhk/RslYV5GxriJjXUXGAwIZsZERGxmxkREbGbGRERsZsZERGxmxkREbGbGRERsZ6yoy1lVkfBZOxrqKzNQ3m5uMsyYdvBi4cMlkgxcDF/5m6sGLgQtnealLRmxkxEZGbGTERkZsZMRGRmxkxEZGbGTERkZsZMRGZrLBi4ELfzPp4MXAhUt8Fk7G4IWMBwQyfoySsa4iY11FxrqKjAcEMmIjIzYyYiMjNjJiIyM2MmIjIzYyYiMjNjJiIyM2MtZVZKyryPgsnIx1FZlbbja3GC9y9eDFuIWXumrwYtzCNW4ZvBi38CJe6pIRGxmxkREbGbGRERsZsZERGxmxkREbGbGRERsZsZERG5mr1lWWVFzj6nWVJRUvZYNAxrqKzKWbzc3FpM6uq6ynmNqz6yrrKeZwaV1lPcWkvNQlIzYyYiMjNjJiIyM2MmIjIzYyYiMjNjJiIyM2MmIj8+zgxaCFOZwdvBi0MDWfhZMxeCHz82YbbjHmtt7v9x/GGMO4hbm92Ww2ux/rqqn+DSQ8y3s2MmIjIzYyYiMjNjJiIyM2MmIjIzYyYiMjNjJiIyM2MmIjIzYyYiOz/rGiGsOSipnZIJCxriLjdzYyYiMjNjJiIyM2Mt8Atg6OppHt6EUAAAAASUVORK5CYII=\"></img></td>\n",
              "      <td id=\"T_bc9c2_row14_col5\" class=\"data row14 col5\" >0<br>(0.0%)</td>\n",
              "    </tr>\n",
              "  </tbody>\n",
              "</table>\n"
            ]
          },
          "metadata": {},
          "execution_count": 119
        }
      ]
    },
    {
      "cell_type": "code",
      "source": [
        "# Trouver toutes les modalités uniques dans la colonne 'Équipement'\n",
        "modalites = Marc['Commande'].unique()\n",
        "\n",
        "# Afficher les modalités\n",
        "print(modalites)"
      ],
      "metadata": {
        "id": "2_vIM1XMWqQ7",
        "colab": {
          "base_uri": "https://localhost:8080/"
        },
        "outputId": "6cd7d218-b902-4022-8a94-6cae6893ed12"
      },
      "execution_count": 118,
      "outputs": [
        {
          "output_type": "stream",
          "name": "stdout",
          "text": [
            "['Température' 'Conso_jour' 'Conso_mois']\n"
          ]
        }
      ]
    },
    {
      "cell_type": "code",
      "source": [
        "def nettoyer_Commande(data):\n",
        "    data = data.strip()  # Supprime les espaces au début et à la fin\n",
        "    if data.startswith('Température ambiante'):\n",
        "        return 'Température'\n",
        "    elif data == 'Consommation jour':  # Nettoie \"Conso \"\n",
        "        return 'Conso_jour'\n",
        "    elif data == 'Consommation mois':\n",
        "        return 'Conso_mois'\n",
        "    else:\n",
        "        return data  # Conserve les autres modalités intactes\n",
        "\n",
        "# Appliquer la fonction de nettoyage à la colonne Equipement\n",
        "Marc['Commande'] = Marc['Commande'].apply(nettoyer_Commande)"
      ],
      "metadata": {
        "id": "PcCE9SDm7VNI"
      },
      "execution_count": 117,
      "outputs": []
    },
    {
      "cell_type": "code",
      "source": [
        "Marc['Valeur'] = pd.to_numeric(Marc['Valeur'].str.replace(',', '.'), errors='coerce')"
      ],
      "metadata": {
        "id": "Xvk2ZYTHxGXQ"
      },
      "execution_count": 122,
      "outputs": []
    },
    {
      "cell_type": "code",
      "source": [
        "print(Marc.isna().sum())"
      ],
      "metadata": {
        "id": "Xe16U15OlCPU",
        "colab": {
          "base_uri": "https://localhost:8080/"
        },
        "outputId": "b3e135a7-cfb2-44c9-fa69-7e7e50286dbd"
      },
      "execution_count": 123,
      "outputs": [
        {
          "output_type": "stream",
          "name": "stdout",
          "text": [
            "Date          0\n",
            "Objet         0\n",
            "Équipement    0\n",
            "Commande      0\n",
            "Valeur        0\n",
            "Unité         0\n",
            "date          0\n",
            "time          0\n",
            "Mois          0\n",
            "Semaine       0\n",
            "annee         0\n",
            "Jour/Nuit     0\n",
            "Ete/Hiver     0\n",
            "Piece         0\n",
            "Réplicat      0\n",
            "dtype: int64\n"
          ]
        }
      ]
    },
    {
      "cell_type": "markdown",
      "source": [
        "Rapport des données nettoyées :"
      ],
      "metadata": {
        "id": "rQFx7KXZwGdU"
      }
    },
    {
      "cell_type": "code",
      "source": [
        "#my_report = sv.analyze(Marc)"
      ],
      "metadata": {
        "id": "pTUJAfdrINeu",
        "colab": {
          "base_uri": "https://localhost:8080/",
          "height": 49,
          "referenced_widgets": [
            "632bd097ce1c48b1b09abd1a3e98e99a",
            "e84b262839f247d7aa1c80dbd485b03f",
            "fd981b83fbe44e2caca9890b68e02e80",
            "e055690ba60c47d1a6882f296c04c456",
            "af221b0cbf03451b98d73426fba900c0",
            "8a355a8460e6492389db9bcbfa53803d",
            "4ddfd6ecd8584ae4a81ca92d73ac20be",
            "ba2c1855ecb145df9827cb7123842948",
            "fb5b6a97e6a34df7882a70ed2e952728",
            "9befda9961a945fc8a10ba73bede9c95",
            "6983941cc6484bfd97670705bf35b7b3"
          ]
        },
        "outputId": "da0d2395-68ff-4c9f-8ad4-cd2fcba010fd"
      },
      "execution_count": 124,
      "outputs": [
        {
          "output_type": "display_data",
          "data": {
            "text/plain": [
              "                                             |          | [  0%]   00:00 -> (? left)"
            ],
            "application/vnd.jupyter.widget-view+json": {
              "version_major": 2,
              "version_minor": 0,
              "model_id": "632bd097ce1c48b1b09abd1a3e98e99a"
            }
          },
          "metadata": {}
        }
      ]
    },
    {
      "cell_type": "code",
      "source": [
        "#my_report.show_html()"
      ],
      "metadata": {
        "id": "gLrVj2HXIdSP",
        "colab": {
          "base_uri": "https://localhost:8080/"
        },
        "outputId": "efabb737-bd77-468e-c0f5-30cc72f0b537"
      },
      "execution_count": 125,
      "outputs": [
        {
          "output_type": "stream",
          "name": "stdout",
          "text": [
            "Report SWEETVIZ_REPORT.html was generated! NOTEBOOK/COLAB USERS: the web browser MAY not pop up, regardless, the report IS saved in your notebook/colab files.\n"
          ]
        }
      ]
    },
    {
      "cell_type": "markdown",
      "source": [
        "Rapport des données de Val Roland, binaire entre les appartements les T°C et les conso"
      ],
      "metadata": {
        "id": "ll6OYtD_WOZn"
      }
    },
    {
      "cell_type": "code",
      "source": [
        "my_report = sv.compare_intra(Marc, Marc[\"Unité\"] == \"kWh\", [\"Consommation\", \"Température\"])"
      ],
      "metadata": {
        "id": "OKJkdBIewU39",
        "colab": {
          "base_uri": "https://localhost:8080/",
          "height": 49,
          "referenced_widgets": [
            "34c30216025e40518dc1215477200f7d",
            "038efdeb1c4647698055e6d397146e82",
            "0312c3253d1c4e9aa2b29501fb4528ef",
            "80ea36a20b4049e6ad24ec4c70a2718f",
            "18300bc996fd4c028ac5f7b1bd180dc3",
            "1d513e88b94540a2b32231b0a9481a37",
            "a0a3b197682d4b7aa26f29f2728a15d1",
            "35e7e82970f0483b9207746ff9d31d23",
            "815ec519dce84531a81231332cbe859e",
            "0debae86f3e04c7bb2d488f55ba4efd8",
            "201f2f451b174b2a899355139fe27595"
          ]
        },
        "outputId": "b01fb7de-83ec-4979-977a-8f9f603cc253"
      },
      "execution_count": 126,
      "outputs": [
        {
          "output_type": "display_data",
          "data": {
            "text/plain": [
              "                                             |          | [  0%]   00:00 -> (? left)"
            ],
            "application/vnd.jupyter.widget-view+json": {
              "version_major": 2,
              "version_minor": 0,
              "model_id": "34c30216025e40518dc1215477200f7d"
            }
          },
          "metadata": {}
        }
      ]
    },
    {
      "cell_type": "code",
      "source": [
        "my_report.show_html()"
      ],
      "metadata": {
        "id": "1binqv_7SuHN"
      },
      "execution_count": null,
      "outputs": []
    }
  ]
}