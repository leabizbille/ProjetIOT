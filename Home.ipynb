{
  "nbformat": 4,
  "nbformat_minor": 0,
  "metadata": {
    "colab": {
      "provenance": [],
      "authorship_tag": "ABX9TyMKEOfFWV4Vmoox2ou512p5",
      "include_colab_link": true
    },
    "kernelspec": {
      "name": "python3",
      "display_name": "Python 3"
    },
    "language_info": {
      "name": "python"
    }
  },
  "cells": [
    {
      "cell_type": "markdown",
      "metadata": {
        "id": "view-in-github",
        "colab_type": "text"
      },
      "source": [
        "<a href=\"https://colab.research.google.com/github/leabizbille/ProjetIOT/blob/main/Home.ipynb\" target=\"_parent\"><img src=\"https://colab.research.google.com/assets/colab-badge.svg\" alt=\"Open In Colab\"/></a>"
      ]
    },
    {
      "cell_type": "code",
      "source": [
        "!pip install summarytools -q"
      ],
      "metadata": {
        "colab": {
          "base_uri": "https://localhost:8080/"
        },
        "id": "E6CuuXGfp0qP",
        "outputId": "a984cf91-e95f-48c1-ac96-3da2ed6ec7ad"
      },
      "execution_count": 1,
      "outputs": [
        {
          "output_type": "stream",
          "name": "stdout",
          "text": [
            "\u001b[?25l   \u001b[90m━━━━━━━━━━━━━━━━━━━━━━━━━━━━━━━━━━━━━━━━\u001b[0m \u001b[32m0.0/1.6 MB\u001b[0m \u001b[31m?\u001b[0m eta \u001b[36m-:--:--\u001b[0m\r\u001b[2K   \u001b[91m━━━━━━━━\u001b[0m\u001b[91m╸\u001b[0m\u001b[90m━━━━━━━━━━━━━━━━━━━━━━━━━━━━━━━\u001b[0m \u001b[32m0.3/1.6 MB\u001b[0m \u001b[31m10.2 MB/s\u001b[0m eta \u001b[36m0:00:01\u001b[0m\r\u001b[2K   \u001b[91m━━━━━━━━━━━━━━━━━━━━━━━━━━━━━━━━━━━━━━━\u001b[0m\u001b[91m╸\u001b[0m \u001b[32m1.6/1.6 MB\u001b[0m \u001b[31m26.1 MB/s\u001b[0m eta \u001b[36m0:00:01\u001b[0m\r\u001b[2K   \u001b[90m━━━━━━━━━━━━━━━━━━━━━━━━━━━━━━━━━━━━━━━━\u001b[0m \u001b[32m1.6/1.6 MB\u001b[0m \u001b[31m19.1 MB/s\u001b[0m eta \u001b[36m0:00:00\u001b[0m\n",
            "\u001b[?25h"
          ]
        }
      ]
    },
    {
      "cell_type": "code",
      "source": [
        "!pip install pygwalker -q"
      ],
      "metadata": {
        "colab": {
          "base_uri": "https://localhost:8080/"
        },
        "id": "n3PU7KO9PUeM",
        "outputId": "a1ed481d-f71e-4446-d255-61d38f739035"
      },
      "execution_count": 2,
      "outputs": [
        {
          "output_type": "stream",
          "name": "stdout",
          "text": [
            "\u001b[2K   \u001b[90m━━━━━━━━━━━━━━━━━━━━━━━━━━━━━━━━━━━━━━━━\u001b[0m \u001b[32m4.5/4.5 MB\u001b[0m \u001b[31m35.7 MB/s\u001b[0m eta \u001b[36m0:00:00\u001b[0m\n",
            "\u001b[2K   \u001b[90m━━━━━━━━━━━━━━━━━━━━━━━━━━━━━━━━━━━━━━━━\u001b[0m \u001b[32m956.2/956.2 kB\u001b[0m \u001b[31m30.8 MB/s\u001b[0m eta \u001b[36m0:00:00\u001b[0m\n",
            "\u001b[2K   \u001b[90m━━━━━━━━━━━━━━━━━━━━━━━━━━━━━━━━━━━━━━━━\u001b[0m \u001b[32m100.2/100.2 kB\u001b[0m \u001b[31m4.9 MB/s\u001b[0m eta \u001b[36m0:00:00\u001b[0m\n",
            "\u001b[2K   \u001b[90m━━━━━━━━━━━━━━━━━━━━━━━━━━━━━━━━━━━━━━━━\u001b[0m \u001b[32m213.7/213.7 kB\u001b[0m \u001b[31m12.0 MB/s\u001b[0m eta \u001b[36m0:00:00\u001b[0m\n",
            "\u001b[2K   \u001b[90m━━━━━━━━━━━━━━━━━━━━━━━━━━━━━━━━━━━━━━━━\u001b[0m \u001b[32m66.4/66.4 kB\u001b[0m \u001b[31m2.7 MB/s\u001b[0m eta \u001b[36m0:00:00\u001b[0m\n",
            "\u001b[2K   \u001b[90m━━━━━━━━━━━━━━━━━━━━━━━━━━━━━━━━━━━━━━━━\u001b[0m \u001b[32m2.2/2.2 MB\u001b[0m \u001b[31m47.6 MB/s\u001b[0m eta \u001b[36m0:00:00\u001b[0m\n",
            "\u001b[2K   \u001b[90m━━━━━━━━━━━━━━━━━━━━━━━━━━━━━━━━━━━━━━━━\u001b[0m \u001b[32m727.4/727.4 kB\u001b[0m \u001b[31m20.1 MB/s\u001b[0m eta \u001b[36m0:00:00\u001b[0m\n",
            "\u001b[2K   \u001b[90m━━━━━━━━━━━━━━━━━━━━━━━━━━━━━━━━━━━━━━━━\u001b[0m \u001b[32m6.4/6.4 MB\u001b[0m \u001b[31m36.8 MB/s\u001b[0m eta \u001b[36m0:00:00\u001b[0m\n",
            "\u001b[?25h"
          ]
        }
      ]
    },
    {
      "cell_type": "code",
      "source": [
        "pip install sweetviz -q"
      ],
      "metadata": {
        "colab": {
          "base_uri": "https://localhost:8080/"
        },
        "id": "h4Ln6ukSH94V",
        "outputId": "f4707e45-2b22-4394-c724-9ab6685feb27"
      },
      "execution_count": 3,
      "outputs": [
        {
          "output_type": "stream",
          "name": "stdout",
          "text": [
            "\u001b[2K   \u001b[90m━━━━━━━━━━━━━━━━━━━━━━━━━━━━━━━━━━━━━━━━\u001b[0m \u001b[32m15.1/15.1 MB\u001b[0m \u001b[31m42.5 MB/s\u001b[0m eta \u001b[36m0:00:00\u001b[0m\n",
            "\u001b[?25h"
          ]
        }
      ]
    },
    {
      "cell_type": "code",
      "execution_count": 4,
      "metadata": {
        "id": "3fnnnXoyHp0N"
      },
      "outputs": [],
      "source": [
        "import pygwalker as pyg\n",
        "from summarytools import dfSummary # module pandas-profiling\n",
        "import pandas as pd\n",
        "import sweetviz as sv # Module pour faire le rapport HTML\n",
        "import missingno as msno"
      ]
    },
    {
      "cell_type": "code",
      "source": [
        "# Charger le fichier CSV en conservant les titres des colonnes\n",
        "val_roland = pd.read_csv(\"/content/Val de Roland_2024.csv\",sep= \";\", parse_dates=[0], dayfirst=True)\n",
        "#THabitat2023 = pd.read_csv(\"/content/Tours Habitat_2023.csv\",sep= \";\", parse_dates=[0], dayfirst=True)\n",
        "#THabitat2024= pd.read_csv(\"/content/Tours Habitat_2024.csv\",sep= \";\", parse_dates=[0], dayfirst=True)"
      ],
      "metadata": {
        "colab": {
          "base_uri": "https://localhost:8080/",
          "height": 365
        },
        "id": "tLuwPqQSTzTz",
        "outputId": "d328e8d0-6b75-474d-9201-52979dd0c0d8"
      },
      "execution_count": 5,
      "outputs": [
        {
          "output_type": "error",
          "ename": "FileNotFoundError",
          "evalue": "[Errno 2] No such file or directory: '/content/Val de Roland_2024.csv'",
          "traceback": [
            "\u001b[0;31m---------------------------------------------------------------------------\u001b[0m",
            "\u001b[0;31mFileNotFoundError\u001b[0m                         Traceback (most recent call last)",
            "\u001b[0;32m<ipython-input-5-75291d8cb74c>\u001b[0m in \u001b[0;36m<cell line: 2>\u001b[0;34m()\u001b[0m\n\u001b[1;32m      1\u001b[0m \u001b[0;31m# Charger le fichier CSV en conservant les titres des colonnes\u001b[0m\u001b[0;34m\u001b[0m\u001b[0;34m\u001b[0m\u001b[0m\n\u001b[0;32m----> 2\u001b[0;31m \u001b[0mval_roland\u001b[0m \u001b[0;34m=\u001b[0m \u001b[0mpd\u001b[0m\u001b[0;34m.\u001b[0m\u001b[0mread_csv\u001b[0m\u001b[0;34m(\u001b[0m\u001b[0;34m\"/content/Val de Roland_2024.csv\"\u001b[0m\u001b[0;34m,\u001b[0m\u001b[0msep\u001b[0m\u001b[0;34m=\u001b[0m \u001b[0;34m\";\"\u001b[0m\u001b[0;34m,\u001b[0m \u001b[0mparse_dates\u001b[0m\u001b[0;34m=\u001b[0m\u001b[0;34m[\u001b[0m\u001b[0;36m0\u001b[0m\u001b[0;34m]\u001b[0m\u001b[0;34m,\u001b[0m \u001b[0mdayfirst\u001b[0m\u001b[0;34m=\u001b[0m\u001b[0;32mTrue\u001b[0m\u001b[0;34m)\u001b[0m\u001b[0;34m\u001b[0m\u001b[0;34m\u001b[0m\u001b[0m\n\u001b[0m\u001b[1;32m      3\u001b[0m \u001b[0;31m#THabitat2023 = pd.read_csv(\"/content/Tours Habitat_2023.csv\",sep= \";\", parse_dates=[0], dayfirst=True)\u001b[0m\u001b[0;34m\u001b[0m\u001b[0;34m\u001b[0m\u001b[0m\n\u001b[1;32m      4\u001b[0m \u001b[0;31m#THabitat2024= pd.read_csv(\"/content/Tours Habitat_2024.csv\",sep= \";\", parse_dates=[0], dayfirst=True)\u001b[0m\u001b[0;34m\u001b[0m\u001b[0;34m\u001b[0m\u001b[0m\n",
            "\u001b[0;32m/usr/local/lib/python3.10/dist-packages/pandas/io/parsers/readers.py\u001b[0m in \u001b[0;36mread_csv\u001b[0;34m(filepath_or_buffer, sep, delimiter, header, names, index_col, usecols, dtype, engine, converters, true_values, false_values, skipinitialspace, skiprows, skipfooter, nrows, na_values, keep_default_na, na_filter, verbose, skip_blank_lines, parse_dates, infer_datetime_format, keep_date_col, date_parser, date_format, dayfirst, cache_dates, iterator, chunksize, compression, thousands, decimal, lineterminator, quotechar, quoting, doublequote, escapechar, comment, encoding, encoding_errors, dialect, on_bad_lines, delim_whitespace, low_memory, memory_map, float_precision, storage_options, dtype_backend)\u001b[0m\n\u001b[1;32m   1024\u001b[0m     \u001b[0mkwds\u001b[0m\u001b[0;34m.\u001b[0m\u001b[0mupdate\u001b[0m\u001b[0;34m(\u001b[0m\u001b[0mkwds_defaults\u001b[0m\u001b[0;34m)\u001b[0m\u001b[0;34m\u001b[0m\u001b[0;34m\u001b[0m\u001b[0m\n\u001b[1;32m   1025\u001b[0m \u001b[0;34m\u001b[0m\u001b[0m\n\u001b[0;32m-> 1026\u001b[0;31m     \u001b[0;32mreturn\u001b[0m \u001b[0m_read\u001b[0m\u001b[0;34m(\u001b[0m\u001b[0mfilepath_or_buffer\u001b[0m\u001b[0;34m,\u001b[0m \u001b[0mkwds\u001b[0m\u001b[0;34m)\u001b[0m\u001b[0;34m\u001b[0m\u001b[0;34m\u001b[0m\u001b[0m\n\u001b[0m\u001b[1;32m   1027\u001b[0m \u001b[0;34m\u001b[0m\u001b[0m\n\u001b[1;32m   1028\u001b[0m \u001b[0;34m\u001b[0m\u001b[0m\n",
            "\u001b[0;32m/usr/local/lib/python3.10/dist-packages/pandas/io/parsers/readers.py\u001b[0m in \u001b[0;36m_read\u001b[0;34m(filepath_or_buffer, kwds)\u001b[0m\n\u001b[1;32m    618\u001b[0m \u001b[0;34m\u001b[0m\u001b[0m\n\u001b[1;32m    619\u001b[0m     \u001b[0;31m# Create the parser.\u001b[0m\u001b[0;34m\u001b[0m\u001b[0;34m\u001b[0m\u001b[0m\n\u001b[0;32m--> 620\u001b[0;31m     \u001b[0mparser\u001b[0m \u001b[0;34m=\u001b[0m \u001b[0mTextFileReader\u001b[0m\u001b[0;34m(\u001b[0m\u001b[0mfilepath_or_buffer\u001b[0m\u001b[0;34m,\u001b[0m \u001b[0;34m**\u001b[0m\u001b[0mkwds\u001b[0m\u001b[0;34m)\u001b[0m\u001b[0;34m\u001b[0m\u001b[0;34m\u001b[0m\u001b[0m\n\u001b[0m\u001b[1;32m    621\u001b[0m \u001b[0;34m\u001b[0m\u001b[0m\n\u001b[1;32m    622\u001b[0m     \u001b[0;32mif\u001b[0m \u001b[0mchunksize\u001b[0m \u001b[0;32mor\u001b[0m \u001b[0miterator\u001b[0m\u001b[0;34m:\u001b[0m\u001b[0;34m\u001b[0m\u001b[0;34m\u001b[0m\u001b[0m\n",
            "\u001b[0;32m/usr/local/lib/python3.10/dist-packages/pandas/io/parsers/readers.py\u001b[0m in \u001b[0;36m__init__\u001b[0;34m(self, f, engine, **kwds)\u001b[0m\n\u001b[1;32m   1618\u001b[0m \u001b[0;34m\u001b[0m\u001b[0m\n\u001b[1;32m   1619\u001b[0m         \u001b[0mself\u001b[0m\u001b[0;34m.\u001b[0m\u001b[0mhandles\u001b[0m\u001b[0;34m:\u001b[0m \u001b[0mIOHandles\u001b[0m \u001b[0;34m|\u001b[0m \u001b[0;32mNone\u001b[0m \u001b[0;34m=\u001b[0m \u001b[0;32mNone\u001b[0m\u001b[0;34m\u001b[0m\u001b[0;34m\u001b[0m\u001b[0m\n\u001b[0;32m-> 1620\u001b[0;31m         \u001b[0mself\u001b[0m\u001b[0;34m.\u001b[0m\u001b[0m_engine\u001b[0m \u001b[0;34m=\u001b[0m \u001b[0mself\u001b[0m\u001b[0;34m.\u001b[0m\u001b[0m_make_engine\u001b[0m\u001b[0;34m(\u001b[0m\u001b[0mf\u001b[0m\u001b[0;34m,\u001b[0m \u001b[0mself\u001b[0m\u001b[0;34m.\u001b[0m\u001b[0mengine\u001b[0m\u001b[0;34m)\u001b[0m\u001b[0;34m\u001b[0m\u001b[0;34m\u001b[0m\u001b[0m\n\u001b[0m\u001b[1;32m   1621\u001b[0m \u001b[0;34m\u001b[0m\u001b[0m\n\u001b[1;32m   1622\u001b[0m     \u001b[0;32mdef\u001b[0m \u001b[0mclose\u001b[0m\u001b[0;34m(\u001b[0m\u001b[0mself\u001b[0m\u001b[0;34m)\u001b[0m \u001b[0;34m->\u001b[0m \u001b[0;32mNone\u001b[0m\u001b[0;34m:\u001b[0m\u001b[0;34m\u001b[0m\u001b[0;34m\u001b[0m\u001b[0m\n",
            "\u001b[0;32m/usr/local/lib/python3.10/dist-packages/pandas/io/parsers/readers.py\u001b[0m in \u001b[0;36m_make_engine\u001b[0;34m(self, f, engine)\u001b[0m\n\u001b[1;32m   1878\u001b[0m                 \u001b[0;32mif\u001b[0m \u001b[0;34m\"b\"\u001b[0m \u001b[0;32mnot\u001b[0m \u001b[0;32min\u001b[0m \u001b[0mmode\u001b[0m\u001b[0;34m:\u001b[0m\u001b[0;34m\u001b[0m\u001b[0;34m\u001b[0m\u001b[0m\n\u001b[1;32m   1879\u001b[0m                     \u001b[0mmode\u001b[0m \u001b[0;34m+=\u001b[0m \u001b[0;34m\"b\"\u001b[0m\u001b[0;34m\u001b[0m\u001b[0;34m\u001b[0m\u001b[0m\n\u001b[0;32m-> 1880\u001b[0;31m             self.handles = get_handle(\n\u001b[0m\u001b[1;32m   1881\u001b[0m                 \u001b[0mf\u001b[0m\u001b[0;34m,\u001b[0m\u001b[0;34m\u001b[0m\u001b[0;34m\u001b[0m\u001b[0m\n\u001b[1;32m   1882\u001b[0m                 \u001b[0mmode\u001b[0m\u001b[0;34m,\u001b[0m\u001b[0;34m\u001b[0m\u001b[0;34m\u001b[0m\u001b[0m\n",
            "\u001b[0;32m/usr/local/lib/python3.10/dist-packages/pandas/io/common.py\u001b[0m in \u001b[0;36mget_handle\u001b[0;34m(path_or_buf, mode, encoding, compression, memory_map, is_text, errors, storage_options)\u001b[0m\n\u001b[1;32m    871\u001b[0m         \u001b[0;32mif\u001b[0m \u001b[0mioargs\u001b[0m\u001b[0;34m.\u001b[0m\u001b[0mencoding\u001b[0m \u001b[0;32mand\u001b[0m \u001b[0;34m\"b\"\u001b[0m \u001b[0;32mnot\u001b[0m \u001b[0;32min\u001b[0m \u001b[0mioargs\u001b[0m\u001b[0;34m.\u001b[0m\u001b[0mmode\u001b[0m\u001b[0;34m:\u001b[0m\u001b[0;34m\u001b[0m\u001b[0;34m\u001b[0m\u001b[0m\n\u001b[1;32m    872\u001b[0m             \u001b[0;31m# Encoding\u001b[0m\u001b[0;34m\u001b[0m\u001b[0;34m\u001b[0m\u001b[0m\n\u001b[0;32m--> 873\u001b[0;31m             handle = open(\n\u001b[0m\u001b[1;32m    874\u001b[0m                 \u001b[0mhandle\u001b[0m\u001b[0;34m,\u001b[0m\u001b[0;34m\u001b[0m\u001b[0;34m\u001b[0m\u001b[0m\n\u001b[1;32m    875\u001b[0m                 \u001b[0mioargs\u001b[0m\u001b[0;34m.\u001b[0m\u001b[0mmode\u001b[0m\u001b[0;34m,\u001b[0m\u001b[0;34m\u001b[0m\u001b[0;34m\u001b[0m\u001b[0m\n",
            "\u001b[0;31mFileNotFoundError\u001b[0m: [Errno 2] No such file or directory: '/content/Val de Roland_2024.csv'"
          ]
        }
      ]
    },
    {
      "cell_type": "code",
      "source": [
        "msno.matrix(val_roland)"
      ],
      "metadata": {
        "id": "VvMChGUllQ9X"
      },
      "execution_count": null,
      "outputs": []
    },
    {
      "cell_type": "code",
      "source": [
        "# Description pour comprendre les données et mettre en suite le tableau en forme\n",
        "dfSummary(val_roland)"
      ],
      "metadata": {
        "id": "QHGN3sbgpr1-"
      },
      "execution_count": null,
      "outputs": []
    },
    {
      "cell_type": "markdown",
      "source": [
        "- 49 % de nan dans les Unités -> regarder pour faire des modifications\n",
        "- 99.5 % de donnée manquante dans \"Type Générique\". Chercher l'utilisation et analyse l'interet.\n",
        "- Le logement 2 à 43% des données. Soit 3 x plus que le logement 3 et 4, chacun.\n",
        "\n",
        "Pour toutes les colonnes, reformater les données.\n",
        "Un pivotement ou une transposition du tableau sera probablement nécessaire."
      ],
      "metadata": {
        "id": "Y3dB0obqsvTg"
      }
    },
    {
      "cell_type": "markdown",
      "source": [
        "Mélange des modalites entre appartement et type d équipement"
      ],
      "metadata": {
        "id": "lvKYNHYPxHJJ"
      }
    },
    {
      "cell_type": "code",
      "source": [
        "# Séparer la colonne 'datetime' en deux colonnes distinctes\n",
        "val_roland[['date', 'time']] = val_roland['Date'].str.split(' ', expand=True)\n",
        "\n",
        "# Convertir les nouvelles colonnes au format datetime\n",
        "val_roland['date'] = pd.to_datetime(val_roland['date'], format='%Y-%m-%d')\n",
        "val_roland['time'] = pd.to_datetime(val_roland['time'], format='%H:%M:%S').dt.time\n",
        "\n",
        "# Supprimer l'ancienne colonne si elle n'est plus nécessaire\n",
        "val_roland= val_roland.drop(columns=['Date'])"
      ],
      "metadata": {
        "id": "Vo10Duhot-9Z"
      },
      "execution_count": null,
      "outputs": []
    },
    {
      "cell_type": "code",
      "source": [
        "# Extraction des informations dans de nouvelles colonnes\n",
        "val_roland['Logement'] = val_roland['Objet'].str.extract(r'(LOGEMENT\\d+)')\n",
        "val_roland['Replicat'] = val_roland['Objet'].str.extract(r'-\\s([AB])')\n",
        "val_roland['Pilote'] = val_roland['Objet'].str.contains(r'\\(piloté\\)').map({True: 'piloté', False: 'non piloté'})\n",
        "\n",
        "# Supprimer l'ancienne colonne\n",
        "val_roland= val_roland.drop(columns=['Objet'])"
      ],
      "metadata": {
        "id": "csFGfzjVuS-D"
      },
      "execution_count": null,
      "outputs": []
    },
    {
      "cell_type": "code",
      "source": [
        "# Trouver toutes les modalités uniques dans la colonne 'Équipement'\n",
        "modalites = val_roland['Équipement'].unique()\n",
        "\n",
        "# Afficher les modalités\n",
        "print(modalites)"
      ],
      "metadata": {
        "id": "VNA02EJywiGy"
      },
      "execution_count": null,
      "outputs": []
    },
    {
      "cell_type": "code",
      "source": [
        "# Remplacer les valeurs avec \"_\" par ce qui se trouve après, sinon garder la valeur intacte\n",
        "val_roland['Équipement'] = val_roland['Équipement'].str.split('_').str[1].fillna(val_roland['Équipement'])\n",
        "val_roland['Équipement'] = val_roland['Équipement'].str.split(' - ').str[1].fillna(val_roland['Équipement'])\n"
      ],
      "metadata": {
        "id": "M0l1K5srPf0A"
      },
      "execution_count": null,
      "outputs": []
    },
    {
      "cell_type": "code",
      "source": [
        "# Fonction de nettoyage\n",
        "def nettoyer_equipement(data):\n",
        "    data = data.strip()  # Supprime les espaces au début et à la fin\n",
        "    if data.startswith('WIFITIC'):  # Vérifie si le texte commence par \"WIFITIC\"\n",
        "        return 'Conso_Total_index'\n",
        "    if data.startswith('Thermostat'):\n",
        "        return 'Thermostat'\n",
        "    if data.startswith('TEMP'): # Changement de nom et clarifie\n",
        "        return 'Thermostat'\n",
        "    elif data == 'Conso ':  # Nettoie \"Conso \" avec un espace\n",
        "        return 'Conso'\n",
        "    elif data == 'Conso': # Changement de nom\n",
        "        return 'Conso_horaire'\n",
        "    elif data == 'occupation':  # Clarifie\n",
        "        return 'Occupation_Aujourdhui'\n",
        "    elif data == 'arrivée du jour':  # Clarifie\n",
        "        return 'Occupation_Hier'\n",
        "    else:\n",
        "        return data  # Conserve les autres modalités intactes\n",
        "\n",
        "# Appliquer la fonction de nettoyage à la colonne Equipement\n",
        "val_roland['Équipement'] = val_roland['Équipement'].apply(nettoyer_equipement)"
      ],
      "metadata": {
        "id": "JJ_z15xFWKlS"
      },
      "execution_count": null,
      "outputs": []
    },
    {
      "cell_type": "code",
      "source": [
        "# Trouver toutes les modalités uniques dans la colonne 'Équipement'\n",
        "modalites = val_roland['Équipement'].unique()\n",
        "\n",
        "# Afficher les modalités\n",
        "print(modalites)"
      ],
      "metadata": {
        "id": "2_vIM1XMWqQ7"
      },
      "execution_count": null,
      "outputs": []
    },
    {
      "cell_type": "markdown",
      "source": [
        "* Attention au 4 PM qui correspond à beaucoup de chose !"
      ],
      "metadata": {
        "id": "cSHBg4S4Us2Y"
      }
    },
    {
      "cell_type": "code",
      "source": [
        "# Trouver toutes les modalités uniques dans la colonne 'Équipement'\n",
        "modalites = val_roland['Commande'].unique()\n",
        "\n",
        "# Afficher les modalités\n",
        "print(modalites)"
      ],
      "metadata": {
        "id": "sjwlDwcRKLa2"
      },
      "execution_count": null,
      "outputs": []
    },
    {
      "cell_type": "code",
      "source": [
        "# Fonction de nettoyage\n",
        "def nettoyer_commande(data):\n",
        "    data = data.strip()  # Supprime les espaces au début et à la fin\n",
        "    if data.startswith('Conso_Heure'):  # Vérifie si le texte commence par Conso_Heure\n",
        "        return 'Conso_Total_kw/h'\n",
        "    if data.startswith('0 - CHAUFFAGE Etat'):\n",
        "        return 'Chauffage_OnOff'\n",
        "    if data.startswith('0 - CHAUFFAGE instantané'): # Changement de nom et clarifie\n",
        "        return 'Chauffage_Conso'\n",
        "    elif data == '0 - CHAUFFAGE total':  # Nettoie \"Conso \" avec un espace\n",
        "        return 'Chauffage_Conso_Total'\n",
        "    elif data == '1 - ECS Etat': # Changement de nom\n",
        "        return 'Ballon_OnOff'\n",
        "    elif data == '2 - Prise Etat': # Changement de nom\n",
        "        return 'TV-Frigo_OnOff'\n",
        "    elif data == 'Consigne': # Changement de nom\n",
        "        return 'TemperatureDesiree'\n",
        "    elif data == 'Température': # Changement de nom\n",
        "        return 'TemperatureReelle'\n",
        "    elif data == 'index': # Changement de nom\n",
        "        return 'TIC_enedis'\n",
        "    elif data == 'Température': # Changement de nom\n",
        "        return 'TemperatureReelle'\n",
        "    elif data == 'Sw 1 Etat': # Changement de nom\n",
        "        return 'Ballon_OnOff'\n",
        "    elif data == 'Sw 2 Etat': # Changement de nom\n",
        "        return 'TV-Frigo_OnOff'\n",
        "    elif data == 'Etat occupation':  # Clarifie\n",
        "        return 'Presence_absence'\n",
        "    elif data == 'Etat arrivée du jour':  # Clarifie\n",
        "        return 'Presence_absence'\n",
        "    else:\n",
        "        return data  # Conserve les autres modalités intactes\n",
        "\n",
        "# Appliquer la fonction de nettoyage à la colonne Equipement\n",
        "val_roland['Commande'] = val_roland['Commande'].apply(nettoyer_commande)"
      ],
      "metadata": {
        "id": "mHcfkz2tVXkF"
      },
      "execution_count": null,
      "outputs": []
    },
    {
      "cell_type": "code",
      "source": [
        "# Trouver toutes les modalités uniques dans la colonne 'Équipement'\n",
        "modalites = val_roland['Commande'].unique()\n",
        "\n",
        "# Afficher les modalités\n",
        "print(modalites)"
      ],
      "metadata": {
        "id": "qrsU6ssQgTCF"
      },
      "execution_count": null,
      "outputs": []
    },
    {
      "cell_type": "markdown",
      "source": [
        "Mettre \"Index\" comme unité, si TIC enedis dans la colonne commande."
      ],
      "metadata": {
        "id": "d9GJWh44iezx"
      }
    },
    {
      "cell_type": "code",
      "source": [
        "# Mettre \"index\" dans la colonne 'Unité' si \"index\" est dans la colonne 'Commande', sinon garder la valeur existante\n",
        "val_roland['Unité'] = val_roland.apply(lambda row: 'Oui-Non' if 'Presence_absence' in row['Commande'] and pd.isna(row['Unité']) else row['Unité'], axis=1)"
      ],
      "metadata": {
        "id": "C0vcGzdCi7i-"
      },
      "execution_count": null,
      "outputs": []
    },
    {
      "cell_type": "markdown",
      "source": [
        "Mettre \"ON-Off\" comme unité, si la ligne correspond à un object Allumé ou éteint."
      ],
      "metadata": {
        "id": "nzJS_tfuk__W"
      }
    },
    {
      "cell_type": "code",
      "source": [
        "# Mettre \"On-Off\" dans la colonne 'Unité' si \" ... \" est dans la colonne 'Commande', sinon garder la valeur existante\n",
        "val_roland['Unité'] = val_roland.apply(lambda row: 'On-Off' if 'Chauffage_OnOff' in row['Commande'] and pd.isna(row['Unité']) else row['Unité'], axis=1)\n",
        "val_roland['Unité'] = val_roland.apply(lambda row: 'On-Off' if 'Ballon_OnOff' in row['Commande'] and pd.isna(row['Unité']) else row['Unité'], axis=1)\n",
        "val_roland['Unité'] = val_roland.apply(lambda row: 'On-Off' if 'TV-Frigo_OnOff' in row['Commande'] and pd.isna(row['Unité']) else row['Unité'], axis=1)"
      ],
      "metadata": {
        "id": "j84-TYRGj13b"
      },
      "execution_count": null,
      "outputs": []
    },
    {
      "cell_type": "code",
      "source": [
        "# Mettre \"Oui-Non\" dans la colonne 'Unité' si \"Presence humaine\" est dans la colonne 'Commande', sinon garder la valeur existante\n",
        "val_roland['Unité'] = val_roland.apply(lambda row: 'On-Off' if 'Chauffage_OnOff' in row['Commande'] and pd.isna(row['Unité']) else row['Unité'], axis=1)"
      ],
      "metadata": {
        "id": "ZwQUPsBZmsx0"
      },
      "execution_count": null,
      "outputs": []
    },
    {
      "cell_type": "markdown",
      "source": [
        "Verification du nombre de valeur NA"
      ],
      "metadata": {
        "id": "1CXs2pY6lvkm"
      }
    },
    {
      "cell_type": "code",
      "source": [
        "print(val_roland.isna().sum())"
      ],
      "metadata": {
        "id": "Xe16U15OlCPU"
      },
      "execution_count": null,
      "outputs": []
    },
    {
      "cell_type": "code",
      "source": [
        "msno.matrix(val_roland)"
      ],
      "metadata": {
        "id": "mF_X9gKaWQJk"
      },
      "execution_count": null,
      "outputs": []
    },
    {
      "cell_type": "markdown",
      "source": [],
      "metadata": {
        "id": "WDMEfzvCoIZ5"
      }
    },
    {
      "cell_type": "code",
      "source": [
        "# Description pour comprendre les données et mettre en suite le tableau en forme\n",
        "dfSummary(val_roland)"
      ],
      "metadata": {
        "id": "vxCexZDtn0qI"
      },
      "execution_count": null,
      "outputs": []
    },
    {
      "cell_type": "markdown",
      "source": [],
      "metadata": {
        "id": "T9_fxSnDn3XQ"
      }
    },
    {
      "cell_type": "code",
      "source": [
        "# Mettre \"Chauffage\" si les conditions sont remplies\n",
        "val_roland['Équipement'] = val_roland.apply(\n",
        "    lambda row: 'Chauffage' if 'Chauffage_OnOff' in row['Commande']\n",
        "    and row['Équipement'] == '4PM' else row['Équipement'], axis=1)\n",
        "\n",
        "val_roland['Équipement'] = val_roland.apply(\n",
        "    lambda row: 'Chauffage' if 'Chauffage_Conso' in row['Commande']\n",
        "    and row['Équipement'] == '4PM' else row['Équipement'], axis=1)\n",
        "\n",
        "val_roland['Équipement'] = val_roland.apply(\n",
        "    lambda row: 'Chauffage' if 'Chauffage_Conso_Total' in row['Commande']\n",
        "    and row['Équipement'] == '4PM' else row['Équipement'], axis=1)\n",
        "\n",
        "# Mettre \"Ballon_Eau\" si les conditions sont remplies\n",
        "val_roland['Équipement'] = val_roland.apply(\n",
        "    lambda row: 'Ballon_Eau' if 'Ballon_OnOff' in row['Commande']\n",
        "    and row['Équipement'] == '4PM' else row['Équipement'], axis=1)\n",
        "\n",
        "# Mettre \"TV-Frigo\" si les conditions sont remplies\n",
        "val_roland['Équipement'] = val_roland.apply(\n",
        "    lambda row: 'TV-Frigo' if 'TV-Frigo_OnOff' in row['Commande']\n",
        "    and row['Équipement'] == '4PM' else row['Équipement'], axis=1)\n"
      ],
      "metadata": {
        "id": "z5kD4-pLn2ev"
      },
      "execution_count": null,
      "outputs": []
    },
    {
      "cell_type": "markdown",
      "source": [
        "Rapport des données nettoyées :"
      ],
      "metadata": {
        "id": "rQFx7KXZwGdU"
      }
    },
    {
      "cell_type": "code",
      "source": [
        "my_report = sv.analyze(val_roland)"
      ],
      "metadata": {
        "id": "pTUJAfdrINeu"
      },
      "execution_count": null,
      "outputs": []
    },
    {
      "cell_type": "code",
      "source": [
        "my_report.show_html()"
      ],
      "metadata": {
        "id": "gLrVj2HXIdSP"
      },
      "execution_count": null,
      "outputs": []
    },
    {
      "cell_type": "markdown",
      "source": [
        "Rapport des données de Val Roland, binaire entre les appartements Piloté et les appartements non pilotés."
      ],
      "metadata": {
        "id": "ll6OYtD_WOZn"
      }
    },
    {
      "cell_type": "code",
      "source": [
        "my_report = sv.compare_intra(val_roland, val_roland[\"Pilote\"] == \"non piloté\", [\"Non piloté\", \"Piloté\"])"
      ],
      "metadata": {
        "id": "OKJkdBIewU39"
      },
      "execution_count": null,
      "outputs": []
    },
    {
      "cell_type": "code",
      "source": [
        "my_report.show_html()"
      ],
      "metadata": {
        "id": "1binqv_7SuHN"
      },
      "execution_count": null,
      "outputs": []
    },
    {
      "cell_type": "code",
      "source": [],
      "metadata": {
        "id": "wuy-akEWXlfZ"
      },
      "execution_count": null,
      "outputs": []
    },
    {
      "cell_type": "code",
      "source": [
        "# Vérifier les types de données pour validation\n",
        "print(val_roland.info())"
      ],
      "metadata": {
        "id": "_E-x2UlXVZGG"
      },
      "execution_count": null,
      "outputs": []
    },
    {
      "cell_type": "code",
      "source": [
        "val_roland['Valeur'] = pd.to_numeric(val_roland['Valeur'].str.replace(',', '.'), errors='coerce')"
      ],
      "metadata": {
        "id": "Xvk2ZYTHxGXQ"
      },
      "execution_count": null,
      "outputs": []
    }
  ]
}