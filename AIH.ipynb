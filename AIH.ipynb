{
  "nbformat": 4,
  "nbformat_minor": 0,
  "metadata": {
    "colab": {
      "provenance": [],
      "authorship_tag": "ABX9TyMLLsvgW9W3Lj84otdy9wyz",
      "include_colab_link": true
    },
    "kernelspec": {
      "name": "python3",
      "display_name": "Python 3"
    },
    "language_info": {
      "name": "python"
    },
    "widgets": {
      "application/vnd.jupyter.widget-state+json": {
        "ffc0c137de11402f907b199469918ac9": {
          "model_module": "@jupyter-widgets/controls",
          "model_name": "HBoxModel",
          "model_module_version": "1.5.0",
          "state": {
            "_dom_classes": [],
            "_model_module": "@jupyter-widgets/controls",
            "_model_module_version": "1.5.0",
            "_model_name": "HBoxModel",
            "_view_count": null,
            "_view_module": "@jupyter-widgets/controls",
            "_view_module_version": "1.5.0",
            "_view_name": "HBoxView",
            "box_style": "",
            "children": [
              "IPY_MODEL_e9fab9bec0454cd883a69aedd305313f",
              "IPY_MODEL_490dc0c2054d4c94af64b4388137ca39",
              "IPY_MODEL_72d2389ad6e24e95bb14a5ec8e4fd5dc"
            ],
            "layout": "IPY_MODEL_0ead9e762b2343679028b221e04f6257"
          }
        },
        "e9fab9bec0454cd883a69aedd305313f": {
          "model_module": "@jupyter-widgets/controls",
          "model_name": "HTMLModel",
          "model_module_version": "1.5.0",
          "state": {
            "_dom_classes": [],
            "_model_module": "@jupyter-widgets/controls",
            "_model_module_version": "1.5.0",
            "_model_name": "HTMLModel",
            "_view_count": null,
            "_view_module": "@jupyter-widgets/controls",
            "_view_module_version": "1.5.0",
            "_view_name": "HTMLView",
            "description": "",
            "description_tooltip": null,
            "layout": "IPY_MODEL_1a24430a937042c48a3732e54dc4df5f",
            "placeholder": "​",
            "style": "IPY_MODEL_e970a25157ad48f680a470bab1fd7d94",
            "value": "Done! Use &#x27;show&#x27; commands to display/save.   "
          }
        },
        "490dc0c2054d4c94af64b4388137ca39": {
          "model_module": "@jupyter-widgets/controls",
          "model_name": "FloatProgressModel",
          "model_module_version": "1.5.0",
          "state": {
            "_dom_classes": [],
            "_model_module": "@jupyter-widgets/controls",
            "_model_module_version": "1.5.0",
            "_model_name": "FloatProgressModel",
            "_view_count": null,
            "_view_module": "@jupyter-widgets/controls",
            "_view_module_version": "1.5.0",
            "_view_name": "ProgressView",
            "bar_style": "success",
            "description": "",
            "description_tooltip": null,
            "layout": "IPY_MODEL_29ffb3a5b37c4721903a1e9b692cedfb",
            "max": 1,
            "min": 0,
            "orientation": "horizontal",
            "style": "IPY_MODEL_dcaa3bce0aff4668a4428c3e75afaf0f",
            "value": 1
          }
        },
        "72d2389ad6e24e95bb14a5ec8e4fd5dc": {
          "model_module": "@jupyter-widgets/controls",
          "model_name": "HTMLModel",
          "model_module_version": "1.5.0",
          "state": {
            "_dom_classes": [],
            "_model_module": "@jupyter-widgets/controls",
            "_model_module_version": "1.5.0",
            "_model_name": "HTMLModel",
            "_view_count": null,
            "_view_module": "@jupyter-widgets/controls",
            "_view_module_version": "1.5.0",
            "_view_name": "HTMLView",
            "description": "",
            "description_tooltip": null,
            "layout": "IPY_MODEL_b16846be49e3468b99de2cfb6690db1c",
            "placeholder": "​",
            "style": "IPY_MODEL_a0670a3a3e8e4b268ad63994864c9e22",
            "value": " [100%]   00:00 -&gt; (00:00 left)"
          }
        },
        "0ead9e762b2343679028b221e04f6257": {
          "model_module": "@jupyter-widgets/base",
          "model_name": "LayoutModel",
          "model_module_version": "1.2.0",
          "state": {
            "_model_module": "@jupyter-widgets/base",
            "_model_module_version": "1.2.0",
            "_model_name": "LayoutModel",
            "_view_count": null,
            "_view_module": "@jupyter-widgets/base",
            "_view_module_version": "1.2.0",
            "_view_name": "LayoutView",
            "align_content": null,
            "align_items": null,
            "align_self": null,
            "border": null,
            "bottom": null,
            "display": "inline-flex",
            "flex": null,
            "flex_flow": "row wrap",
            "grid_area": null,
            "grid_auto_columns": null,
            "grid_auto_flow": null,
            "grid_auto_rows": null,
            "grid_column": null,
            "grid_gap": null,
            "grid_row": null,
            "grid_template_areas": null,
            "grid_template_columns": null,
            "grid_template_rows": null,
            "height": null,
            "justify_content": null,
            "justify_items": null,
            "left": null,
            "margin": null,
            "max_height": null,
            "max_width": null,
            "min_height": null,
            "min_width": null,
            "object_fit": null,
            "object_position": null,
            "order": null,
            "overflow": null,
            "overflow_x": null,
            "overflow_y": null,
            "padding": null,
            "right": null,
            "top": null,
            "visibility": null,
            "width": "100%"
          }
        },
        "1a24430a937042c48a3732e54dc4df5f": {
          "model_module": "@jupyter-widgets/base",
          "model_name": "LayoutModel",
          "model_module_version": "1.2.0",
          "state": {
            "_model_module": "@jupyter-widgets/base",
            "_model_module_version": "1.2.0",
            "_model_name": "LayoutModel",
            "_view_count": null,
            "_view_module": "@jupyter-widgets/base",
            "_view_module_version": "1.2.0",
            "_view_name": "LayoutView",
            "align_content": null,
            "align_items": null,
            "align_self": null,
            "border": null,
            "bottom": null,
            "display": null,
            "flex": null,
            "flex_flow": null,
            "grid_area": null,
            "grid_auto_columns": null,
            "grid_auto_flow": null,
            "grid_auto_rows": null,
            "grid_column": null,
            "grid_gap": null,
            "grid_row": null,
            "grid_template_areas": null,
            "grid_template_columns": null,
            "grid_template_rows": null,
            "height": null,
            "justify_content": null,
            "justify_items": null,
            "left": null,
            "margin": null,
            "max_height": null,
            "max_width": null,
            "min_height": null,
            "min_width": null,
            "object_fit": null,
            "object_position": null,
            "order": null,
            "overflow": null,
            "overflow_x": null,
            "overflow_y": null,
            "padding": null,
            "right": null,
            "top": null,
            "visibility": null,
            "width": null
          }
        },
        "e970a25157ad48f680a470bab1fd7d94": {
          "model_module": "@jupyter-widgets/controls",
          "model_name": "DescriptionStyleModel",
          "model_module_version": "1.5.0",
          "state": {
            "_model_module": "@jupyter-widgets/controls",
            "_model_module_version": "1.5.0",
            "_model_name": "DescriptionStyleModel",
            "_view_count": null,
            "_view_module": "@jupyter-widgets/base",
            "_view_module_version": "1.2.0",
            "_view_name": "StyleView",
            "description_width": ""
          }
        },
        "29ffb3a5b37c4721903a1e9b692cedfb": {
          "model_module": "@jupyter-widgets/base",
          "model_name": "LayoutModel",
          "model_module_version": "1.2.0",
          "state": {
            "_model_module": "@jupyter-widgets/base",
            "_model_module_version": "1.2.0",
            "_model_name": "LayoutModel",
            "_view_count": null,
            "_view_module": "@jupyter-widgets/base",
            "_view_module_version": "1.2.0",
            "_view_name": "LayoutView",
            "align_content": null,
            "align_items": null,
            "align_self": null,
            "border": null,
            "bottom": null,
            "display": null,
            "flex": "2",
            "flex_flow": null,
            "grid_area": null,
            "grid_auto_columns": null,
            "grid_auto_flow": null,
            "grid_auto_rows": null,
            "grid_column": null,
            "grid_gap": null,
            "grid_row": null,
            "grid_template_areas": null,
            "grid_template_columns": null,
            "grid_template_rows": null,
            "height": null,
            "justify_content": null,
            "justify_items": null,
            "left": null,
            "margin": null,
            "max_height": null,
            "max_width": null,
            "min_height": null,
            "min_width": null,
            "object_fit": null,
            "object_position": null,
            "order": null,
            "overflow": null,
            "overflow_x": null,
            "overflow_y": null,
            "padding": null,
            "right": null,
            "top": null,
            "visibility": null,
            "width": null
          }
        },
        "dcaa3bce0aff4668a4428c3e75afaf0f": {
          "model_module": "@jupyter-widgets/controls",
          "model_name": "ProgressStyleModel",
          "model_module_version": "1.5.0",
          "state": {
            "_model_module": "@jupyter-widgets/controls",
            "_model_module_version": "1.5.0",
            "_model_name": "ProgressStyleModel",
            "_view_count": null,
            "_view_module": "@jupyter-widgets/base",
            "_view_module_version": "1.2.0",
            "_view_name": "StyleView",
            "bar_color": null,
            "description_width": ""
          }
        },
        "b16846be49e3468b99de2cfb6690db1c": {
          "model_module": "@jupyter-widgets/base",
          "model_name": "LayoutModel",
          "model_module_version": "1.2.0",
          "state": {
            "_model_module": "@jupyter-widgets/base",
            "_model_module_version": "1.2.0",
            "_model_name": "LayoutModel",
            "_view_count": null,
            "_view_module": "@jupyter-widgets/base",
            "_view_module_version": "1.2.0",
            "_view_name": "LayoutView",
            "align_content": null,
            "align_items": null,
            "align_self": null,
            "border": null,
            "bottom": null,
            "display": null,
            "flex": null,
            "flex_flow": null,
            "grid_area": null,
            "grid_auto_columns": null,
            "grid_auto_flow": null,
            "grid_auto_rows": null,
            "grid_column": null,
            "grid_gap": null,
            "grid_row": null,
            "grid_template_areas": null,
            "grid_template_columns": null,
            "grid_template_rows": null,
            "height": null,
            "justify_content": null,
            "justify_items": null,
            "left": null,
            "margin": null,
            "max_height": null,
            "max_width": null,
            "min_height": null,
            "min_width": null,
            "object_fit": null,
            "object_position": null,
            "order": null,
            "overflow": null,
            "overflow_x": null,
            "overflow_y": null,
            "padding": null,
            "right": null,
            "top": null,
            "visibility": null,
            "width": null
          }
        },
        "a0670a3a3e8e4b268ad63994864c9e22": {
          "model_module": "@jupyter-widgets/controls",
          "model_name": "DescriptionStyleModel",
          "model_module_version": "1.5.0",
          "state": {
            "_model_module": "@jupyter-widgets/controls",
            "_model_module_version": "1.5.0",
            "_model_name": "DescriptionStyleModel",
            "_view_count": null,
            "_view_module": "@jupyter-widgets/base",
            "_view_module_version": "1.2.0",
            "_view_name": "StyleView",
            "description_width": ""
          }
        },
        "579b8ebcf0604972b30de2b9424b5ec7": {
          "model_module": "@jupyter-widgets/controls",
          "model_name": "HBoxModel",
          "model_module_version": "1.5.0",
          "state": {
            "_dom_classes": [],
            "_model_module": "@jupyter-widgets/controls",
            "_model_module_version": "1.5.0",
            "_model_name": "HBoxModel",
            "_view_count": null,
            "_view_module": "@jupyter-widgets/controls",
            "_view_module_version": "1.5.0",
            "_view_name": "HBoxView",
            "box_style": "",
            "children": [
              "IPY_MODEL_841eb30be1e3448d83c8239363506d81",
              "IPY_MODEL_b07a8202fb884831951b67fb9e6b2d3f",
              "IPY_MODEL_4f3eec60ede54e6395925e7cebc39319"
            ],
            "layout": "IPY_MODEL_5dd5ca1876fd4a269a9aaab1770c2b7a"
          }
        },
        "841eb30be1e3448d83c8239363506d81": {
          "model_module": "@jupyter-widgets/controls",
          "model_name": "HTMLModel",
          "model_module_version": "1.5.0",
          "state": {
            "_dom_classes": [],
            "_model_module": "@jupyter-widgets/controls",
            "_model_module_version": "1.5.0",
            "_model_name": "HTMLModel",
            "_view_count": null,
            "_view_module": "@jupyter-widgets/controls",
            "_view_module_version": "1.5.0",
            "_view_name": "HTMLView",
            "description": "",
            "description_tooltip": null,
            "layout": "IPY_MODEL_8f449338fa1b408692ca8188cd672d96",
            "placeholder": "​",
            "style": "IPY_MODEL_1176e6a9c1e543608ce06655bbfcdbf4",
            "value": "Done! Use &#x27;show&#x27; commands to display/save.   "
          }
        },
        "b07a8202fb884831951b67fb9e6b2d3f": {
          "model_module": "@jupyter-widgets/controls",
          "model_name": "FloatProgressModel",
          "model_module_version": "1.5.0",
          "state": {
            "_dom_classes": [],
            "_model_module": "@jupyter-widgets/controls",
            "_model_module_version": "1.5.0",
            "_model_name": "FloatProgressModel",
            "_view_count": null,
            "_view_module": "@jupyter-widgets/controls",
            "_view_module_version": "1.5.0",
            "_view_name": "ProgressView",
            "bar_style": "success",
            "description": "",
            "description_tooltip": null,
            "layout": "IPY_MODEL_d0ba7c22fbcb4df0a22a0551590c5982",
            "max": 1,
            "min": 0,
            "orientation": "horizontal",
            "style": "IPY_MODEL_561ef3ae78e84696aa24255b4583d3c9",
            "value": 1
          }
        },
        "4f3eec60ede54e6395925e7cebc39319": {
          "model_module": "@jupyter-widgets/controls",
          "model_name": "HTMLModel",
          "model_module_version": "1.5.0",
          "state": {
            "_dom_classes": [],
            "_model_module": "@jupyter-widgets/controls",
            "_model_module_version": "1.5.0",
            "_model_name": "HTMLModel",
            "_view_count": null,
            "_view_module": "@jupyter-widgets/controls",
            "_view_module_version": "1.5.0",
            "_view_name": "HTMLView",
            "description": "",
            "description_tooltip": null,
            "layout": "IPY_MODEL_02dfc54ada5f4b768639ce22886b9283",
            "placeholder": "​",
            "style": "IPY_MODEL_ee855aeb469a4ddbae10640945bfe34a",
            "value": " [100%]   00:01 -&gt; (00:00 left)"
          }
        },
        "5dd5ca1876fd4a269a9aaab1770c2b7a": {
          "model_module": "@jupyter-widgets/base",
          "model_name": "LayoutModel",
          "model_module_version": "1.2.0",
          "state": {
            "_model_module": "@jupyter-widgets/base",
            "_model_module_version": "1.2.0",
            "_model_name": "LayoutModel",
            "_view_count": null,
            "_view_module": "@jupyter-widgets/base",
            "_view_module_version": "1.2.0",
            "_view_name": "LayoutView",
            "align_content": null,
            "align_items": null,
            "align_self": null,
            "border": null,
            "bottom": null,
            "display": "inline-flex",
            "flex": null,
            "flex_flow": "row wrap",
            "grid_area": null,
            "grid_auto_columns": null,
            "grid_auto_flow": null,
            "grid_auto_rows": null,
            "grid_column": null,
            "grid_gap": null,
            "grid_row": null,
            "grid_template_areas": null,
            "grid_template_columns": null,
            "grid_template_rows": null,
            "height": null,
            "justify_content": null,
            "justify_items": null,
            "left": null,
            "margin": null,
            "max_height": null,
            "max_width": null,
            "min_height": null,
            "min_width": null,
            "object_fit": null,
            "object_position": null,
            "order": null,
            "overflow": null,
            "overflow_x": null,
            "overflow_y": null,
            "padding": null,
            "right": null,
            "top": null,
            "visibility": null,
            "width": "100%"
          }
        },
        "8f449338fa1b408692ca8188cd672d96": {
          "model_module": "@jupyter-widgets/base",
          "model_name": "LayoutModel",
          "model_module_version": "1.2.0",
          "state": {
            "_model_module": "@jupyter-widgets/base",
            "_model_module_version": "1.2.0",
            "_model_name": "LayoutModel",
            "_view_count": null,
            "_view_module": "@jupyter-widgets/base",
            "_view_module_version": "1.2.0",
            "_view_name": "LayoutView",
            "align_content": null,
            "align_items": null,
            "align_self": null,
            "border": null,
            "bottom": null,
            "display": null,
            "flex": null,
            "flex_flow": null,
            "grid_area": null,
            "grid_auto_columns": null,
            "grid_auto_flow": null,
            "grid_auto_rows": null,
            "grid_column": null,
            "grid_gap": null,
            "grid_row": null,
            "grid_template_areas": null,
            "grid_template_columns": null,
            "grid_template_rows": null,
            "height": null,
            "justify_content": null,
            "justify_items": null,
            "left": null,
            "margin": null,
            "max_height": null,
            "max_width": null,
            "min_height": null,
            "min_width": null,
            "object_fit": null,
            "object_position": null,
            "order": null,
            "overflow": null,
            "overflow_x": null,
            "overflow_y": null,
            "padding": null,
            "right": null,
            "top": null,
            "visibility": null,
            "width": null
          }
        },
        "1176e6a9c1e543608ce06655bbfcdbf4": {
          "model_module": "@jupyter-widgets/controls",
          "model_name": "DescriptionStyleModel",
          "model_module_version": "1.5.0",
          "state": {
            "_model_module": "@jupyter-widgets/controls",
            "_model_module_version": "1.5.0",
            "_model_name": "DescriptionStyleModel",
            "_view_count": null,
            "_view_module": "@jupyter-widgets/base",
            "_view_module_version": "1.2.0",
            "_view_name": "StyleView",
            "description_width": ""
          }
        },
        "d0ba7c22fbcb4df0a22a0551590c5982": {
          "model_module": "@jupyter-widgets/base",
          "model_name": "LayoutModel",
          "model_module_version": "1.2.0",
          "state": {
            "_model_module": "@jupyter-widgets/base",
            "_model_module_version": "1.2.0",
            "_model_name": "LayoutModel",
            "_view_count": null,
            "_view_module": "@jupyter-widgets/base",
            "_view_module_version": "1.2.0",
            "_view_name": "LayoutView",
            "align_content": null,
            "align_items": null,
            "align_self": null,
            "border": null,
            "bottom": null,
            "display": null,
            "flex": "2",
            "flex_flow": null,
            "grid_area": null,
            "grid_auto_columns": null,
            "grid_auto_flow": null,
            "grid_auto_rows": null,
            "grid_column": null,
            "grid_gap": null,
            "grid_row": null,
            "grid_template_areas": null,
            "grid_template_columns": null,
            "grid_template_rows": null,
            "height": null,
            "justify_content": null,
            "justify_items": null,
            "left": null,
            "margin": null,
            "max_height": null,
            "max_width": null,
            "min_height": null,
            "min_width": null,
            "object_fit": null,
            "object_position": null,
            "order": null,
            "overflow": null,
            "overflow_x": null,
            "overflow_y": null,
            "padding": null,
            "right": null,
            "top": null,
            "visibility": null,
            "width": null
          }
        },
        "561ef3ae78e84696aa24255b4583d3c9": {
          "model_module": "@jupyter-widgets/controls",
          "model_name": "ProgressStyleModel",
          "model_module_version": "1.5.0",
          "state": {
            "_model_module": "@jupyter-widgets/controls",
            "_model_module_version": "1.5.0",
            "_model_name": "ProgressStyleModel",
            "_view_count": null,
            "_view_module": "@jupyter-widgets/base",
            "_view_module_version": "1.2.0",
            "_view_name": "StyleView",
            "bar_color": null,
            "description_width": ""
          }
        },
        "02dfc54ada5f4b768639ce22886b9283": {
          "model_module": "@jupyter-widgets/base",
          "model_name": "LayoutModel",
          "model_module_version": "1.2.0",
          "state": {
            "_model_module": "@jupyter-widgets/base",
            "_model_module_version": "1.2.0",
            "_model_name": "LayoutModel",
            "_view_count": null,
            "_view_module": "@jupyter-widgets/base",
            "_view_module_version": "1.2.0",
            "_view_name": "LayoutView",
            "align_content": null,
            "align_items": null,
            "align_self": null,
            "border": null,
            "bottom": null,
            "display": null,
            "flex": null,
            "flex_flow": null,
            "grid_area": null,
            "grid_auto_columns": null,
            "grid_auto_flow": null,
            "grid_auto_rows": null,
            "grid_column": null,
            "grid_gap": null,
            "grid_row": null,
            "grid_template_areas": null,
            "grid_template_columns": null,
            "grid_template_rows": null,
            "height": null,
            "justify_content": null,
            "justify_items": null,
            "left": null,
            "margin": null,
            "max_height": null,
            "max_width": null,
            "min_height": null,
            "min_width": null,
            "object_fit": null,
            "object_position": null,
            "order": null,
            "overflow": null,
            "overflow_x": null,
            "overflow_y": null,
            "padding": null,
            "right": null,
            "top": null,
            "visibility": null,
            "width": null
          }
        },
        "ee855aeb469a4ddbae10640945bfe34a": {
          "model_module": "@jupyter-widgets/controls",
          "model_name": "DescriptionStyleModel",
          "model_module_version": "1.5.0",
          "state": {
            "_model_module": "@jupyter-widgets/controls",
            "_model_module_version": "1.5.0",
            "_model_name": "DescriptionStyleModel",
            "_view_count": null,
            "_view_module": "@jupyter-widgets/base",
            "_view_module_version": "1.2.0",
            "_view_name": "StyleView",
            "description_width": ""
          }
        }
      }
    }
  },
  "cells": [
    {
      "cell_type": "markdown",
      "metadata": {
        "id": "view-in-github",
        "colab_type": "text"
      },
      "source": [
        "<a href=\"https://colab.research.google.com/github/leabizbille/ProjetIOT/blob/main/AIH.ipynb\" target=\"_parent\"><img src=\"https://colab.research.google.com/assets/colab-badge.svg\" alt=\"Open In Colab\"/></a>"
      ]
    },
    {
      "cell_type": "code",
      "source": [
        "!pip install summarytools -q"
      ],
      "metadata": {
        "colab": {
          "base_uri": "https://localhost:8080/"
        },
        "id": "E6CuuXGfp0qP",
        "outputId": "7e3e0a39-74d2-4b2c-9fed-bddfb7287fc7"
      },
      "execution_count": 1,
      "outputs": [
        {
          "output_type": "stream",
          "name": "stdout",
          "text": [
            "\u001b[?25l   \u001b[90m━━━━━━━━━━━━━━━━━━━━━━━━━━━━━━━━━━━━━━━━\u001b[0m \u001b[32m0.0/1.6 MB\u001b[0m \u001b[31m?\u001b[0m eta \u001b[36m-:--:--\u001b[0m\r\u001b[2K   \u001b[91m━━━━━━━\u001b[0m\u001b[91m╸\u001b[0m\u001b[90m━━━━━━━━━━━━━━━━━━━━━━━━━━━━━━━━\u001b[0m \u001b[32m0.3/1.6 MB\u001b[0m \u001b[31m10.6 MB/s\u001b[0m eta \u001b[36m0:00:01\u001b[0m\r\u001b[2K   \u001b[91m━━━━━━━━━━━━━━━━━━━━━━━━━━━━━━━━━━━━━━━\u001b[0m\u001b[91m╸\u001b[0m \u001b[32m1.6/1.6 MB\u001b[0m \u001b[31m25.8 MB/s\u001b[0m eta \u001b[36m0:00:01\u001b[0m\r\u001b[2K   \u001b[90m━━━━━━━━━━━━━━━━━━━━━━━━━━━━━━━━━━━━━━━━\u001b[0m \u001b[32m1.6/1.6 MB\u001b[0m \u001b[31m17.9 MB/s\u001b[0m eta \u001b[36m0:00:00\u001b[0m\n",
            "\u001b[?25h"
          ]
        }
      ]
    },
    {
      "cell_type": "code",
      "source": [
        "!pip install pygwalker -q"
      ],
      "metadata": {
        "colab": {
          "base_uri": "https://localhost:8080/"
        },
        "id": "n3PU7KO9PUeM",
        "outputId": "0a18acf3-52b0-417d-fc10-56d8217a98a4"
      },
      "execution_count": 2,
      "outputs": [
        {
          "output_type": "stream",
          "name": "stdout",
          "text": [
            "\u001b[2K   \u001b[90m━━━━━━━━━━━━━━━━━━━━━━━━━━━━━━━━━━━━━━━━\u001b[0m \u001b[32m4.5/4.5 MB\u001b[0m \u001b[31m40.0 MB/s\u001b[0m eta \u001b[36m0:00:00\u001b[0m\n",
            "\u001b[2K   \u001b[90m━━━━━━━━━━━━━━━━━━━━━━━━━━━━━━━━━━━━━━━━\u001b[0m \u001b[32m956.2/956.2 kB\u001b[0m \u001b[31m29.7 MB/s\u001b[0m eta \u001b[36m0:00:00\u001b[0m\n",
            "\u001b[2K   \u001b[90m━━━━━━━━━━━━━━━━━━━━━━━━━━━━━━━━━━━━━━━━\u001b[0m \u001b[32m100.2/100.2 kB\u001b[0m \u001b[31m6.2 MB/s\u001b[0m eta \u001b[36m0:00:00\u001b[0m\n",
            "\u001b[2K   \u001b[90m━━━━━━━━━━━━━━━━━━━━━━━━━━━━━━━━━━━━━━━━\u001b[0m \u001b[32m213.7/213.7 kB\u001b[0m \u001b[31m11.0 MB/s\u001b[0m eta \u001b[36m0:00:00\u001b[0m\n",
            "\u001b[2K   \u001b[90m━━━━━━━━━━━━━━━━━━━━━━━━━━━━━━━━━━━━━━━━\u001b[0m \u001b[32m66.4/66.4 kB\u001b[0m \u001b[31m4.8 MB/s\u001b[0m eta \u001b[36m0:00:00\u001b[0m\n",
            "\u001b[2K   \u001b[90m━━━━━━━━━━━━━━━━━━━━━━━━━━━━━━━━━━━━━━━━\u001b[0m \u001b[32m2.2/2.2 MB\u001b[0m \u001b[31m33.0 MB/s\u001b[0m eta \u001b[36m0:00:00\u001b[0m\n",
            "\u001b[2K   \u001b[90m━━━━━━━━━━━━━━━━━━━━━━━━━━━━━━━━━━━━━━━━\u001b[0m \u001b[32m727.4/727.4 kB\u001b[0m \u001b[31m30.4 MB/s\u001b[0m eta \u001b[36m0:00:00\u001b[0m\n",
            "\u001b[2K   \u001b[90m━━━━━━━━━━━━━━━━━━━━━━━━━━━━━━━━━━━━━━━━\u001b[0m \u001b[32m6.4/6.4 MB\u001b[0m \u001b[31m62.7 MB/s\u001b[0m eta \u001b[36m0:00:00\u001b[0m\n",
            "\u001b[?25h"
          ]
        }
      ]
    },
    {
      "cell_type": "code",
      "source": [
        "pip install sweetviz -q"
      ],
      "metadata": {
        "colab": {
          "base_uri": "https://localhost:8080/"
        },
        "id": "h4Ln6ukSH94V",
        "outputId": "ebfb96ce-1784-4cbc-8e00-5b3da48f01a2"
      },
      "execution_count": 3,
      "outputs": [
        {
          "output_type": "stream",
          "name": "stdout",
          "text": [
            "\u001b[2K   \u001b[90m━━━━━━━━━━━━━━━━━━━━━━━━━━━━━━━━━━━━━━━━\u001b[0m \u001b[32m15.1/15.1 MB\u001b[0m \u001b[31m50.4 MB/s\u001b[0m eta \u001b[36m0:00:00\u001b[0m\n",
            "\u001b[?25h"
          ]
        }
      ]
    },
    {
      "cell_type": "code",
      "execution_count": 4,
      "metadata": {
        "id": "3fnnnXoyHp0N"
      },
      "outputs": [],
      "source": [
        "import pygwalker as pyg\n",
        "from summarytools import dfSummary # module pandas-profiling\n",
        "import pandas as pd\n",
        "import sweetviz as sv # Module pour faire le rapport HTML\n",
        "import missingno as msno"
      ]
    },
    {
      "cell_type": "code",
      "source": [
        "# Charger le fichier CSV en conservant les titres des colonnes\n",
        "AIH= pd.read_csv(\"/content/AIH_2024.csv\",sep= \";\")\n"
      ],
      "metadata": {
        "id": "tLuwPqQSTzTz"
      },
      "execution_count": 26,
      "outputs": []
    },
    {
      "cell_type": "code",
      "source": [
        "msno.matrix(AIH)"
      ],
      "metadata": {
        "colab": {
          "base_uri": "https://localhost:8080/",
          "height": 471
        },
        "id": "VvMChGUllQ9X",
        "outputId": "61081fc1-89b6-4751-a9cd-d6d9df9a90b5"
      },
      "execution_count": 27,
      "outputs": [
        {
          "output_type": "execute_result",
          "data": {
            "text/plain": [
              "<Axes: >"
            ]
          },
          "metadata": {},
          "execution_count": 27
        },
        {
          "output_type": "display_data",
          "data": {
            "text/plain": [
              "<Figure size 2500x1000 with 2 Axes>"
            ],
            "image/png": "[encoded data removed]"
          },
          "metadata": {}
        }
      ]
    },
    {
      "cell_type": "code",
      "source": [
        "# Description pour comprendre les données et mettre en suite le tableau en forme\n",
        "dfSummary(AIH)"
      ],
      "metadata": {
        "colab": {
          "base_uri": "https://localhost:8080/",
          "height": 1000
        },
        "id": "QHGN3sbgpr1-",
        "outputId": "5accf732-05ce-4e04-d46e-cab08d25e5a1"
      },
      "execution_count": 28,
      "outputs": [
        {
          "output_type": "execute_result",
          "data": {
            "text/plain": [
              "<pandas.io.formats.style.Styler at 0x79a118f07b20>"
            ],
            "text/html": [
              "<style type=\"text/css\">\n",
              "#T_0f0f8 thead>tr>th {\n",
              "  text-align: left;\n",
              "}\n",
              "#T_0f0f8_row0_col0, #T_0f0f8_row1_col0, #T_0f0f8_row2_col0, #T_0f0f8_row3_col0, #T_0f0f8_row4_col0, #T_0f0f8_row5_col0, #T_0f0f8_row6_col0 {\n",
              "  text-align: left;\n",
              "  font-size: 12px;\n",
              "  vertical-align: middle;\n",
              "  width: 5%;\n",
              "  max-width: 50px;\n",
              "  min-width: 20px;\n",
              "}\n",
              "#T_0f0f8_row0_col1, #T_0f0f8_row1_col1, #T_0f0f8_row2_col1, #T_0f0f8_row3_col1, #T_0f0f8_row4_col1, #T_0f0f8_row5_col1, #T_0f0f8_row6_col1 {\n",
              "  text-align: left;\n",
              "  font-size: 12px;\n",
              "  vertical-align: middle;\n",
              "  width: 15%;\n",
              "  max-width: 200px;\n",
              "  min-width: 100px;\n",
              "  word-break: break-word;\n",
              "}\n",
              "#T_0f0f8_row0_col2, #T_0f0f8_row1_col2, #T_0f0f8_row2_col2, #T_0f0f8_row3_col2, #T_0f0f8_row4_col2, #T_0f0f8_row5_col2, #T_0f0f8_row6_col2 {\n",
              "  text-align: left;\n",
              "  font-size: 12px;\n",
              "  vertical-align: middle;\n",
              "  width: 30%;\n",
              "  min-width: 100px;\n",
              "}\n",
              "#T_0f0f8_row0_col3, #T_0f0f8_row1_col3, #T_0f0f8_row2_col3, #T_0f0f8_row3_col3, #T_0f0f8_row4_col3, #T_0f0f8_row5_col3, #T_0f0f8_row6_col3 {\n",
              "  text-align: left;\n",
              "  font-size: 12px;\n",
              "  vertical-align: middle;\n",
              "  width: 25%;\n",
              "  min-width: 100px;\n",
              "}\n",
              "#T_0f0f8_row0_col4, #T_0f0f8_row1_col4, #T_0f0f8_row2_col4, #T_0f0f8_row3_col4, #T_0f0f8_row4_col4, #T_0f0f8_row5_col4, #T_0f0f8_row6_col4 {\n",
              "  text-align: left;\n",
              "  font-size: 12px;\n",
              "  vertical-align: middle;\n",
              "  width: 20%;\n",
              "  min-width: 150px;\n",
              "}\n",
              "#T_0f0f8_row0_col5, #T_0f0f8_row1_col5, #T_0f0f8_row2_col5, #T_0f0f8_row3_col5, #T_0f0f8_row4_col5, #T_0f0f8_row5_col5, #T_0f0f8_row6_col5 {\n",
              "  text-align: left;\n",
              "  font-size: 12px;\n",
              "  vertical-align: middle;\n",
              "  width: 10%;\n",
              "}\n",
              "</style>\n",
              "<table id=\"T_0f0f8\" class=\"dataframe\">\n",
              "  <caption><strong>Data Frame Summary</strong><br>AIH<br>Dimensions: 460,776 x 7<br>Duplicates: 0</caption>\n",
              "  <thead>\n",
              "    <tr>\n",
              "      <th id=\"T_0f0f8_level0_col0\" class=\"col_heading level0 col0\" >No</th>\n",
              "      <th id=\"T_0f0f8_level0_col1\" class=\"col_heading level0 col1\" >Variable</th>\n",
              "      <th id=\"T_0f0f8_level0_col2\" class=\"col_heading level0 col2\" >Stats / Values</th>\n",
              "      <th id=\"T_0f0f8_level0_col3\" class=\"col_heading level0 col3\" >Freqs / (% of Valid)</th>\n",
              "      <th id=\"T_0f0f8_level0_col4\" class=\"col_heading level0 col4\" >Graph</th>\n",
              "      <th id=\"T_0f0f8_level0_col5\" class=\"col_heading level0 col5\" >Missing</th>\n",
              "    </tr>\n",
              "  </thead>\n",
              "  <tbody>\n",
              "    <tr>\n",
              "      <td id=\"T_0f0f8_row0_col0\" class=\"data row0 col0\" >1</td>\n",
              "      <td id=\"T_0f0f8_row0_col1\" class=\"data row0 col1\" ><strong>Date</strong><br>[object]</td>\n",
              "      <td id=\"T_0f0f8_row0_col2\" class=\"data row0 col2\" >1. 2020-08-07 16:40:00<br>2. 2021-12-06 14:57:05<br>3. 2020-08-07 16:45:00<br>4. 2022-09-15 11:00:00<br>5. 2021-12-06 14:57:04<br>6. 2021-06-05 11:00:00<br>7. 2023-08-06 10:00:00<br>8. 2023-01-31 13:05:00<br>9. 2021-06-01 19:00:00<br>10. 2022-11-21 12:00:00<br>11. other</td>\n",
              "      <td id=\"T_0f0f8_row0_col3\" class=\"data row0 col3\" >6 (0.0%)<br>5 (0.0%)<br>4 (0.0%)<br>3 (0.0%)<br>3 (0.0%)<br>3 (0.0%)<br>3 (0.0%)<br>3 (0.0%)<br>3 (0.0%)<br>3 (0.0%)<br>460,740 (100.0%)</td>\n",
              "      <td id=\"T_0f0f8_row0_col4\" class=\"data row0 col4\" ><img src = \"data:image/png;base64, iVBORw0KGgoAAAANSUhEUgAAAJsAAAD+CAYAAAAtWHdlAAAAOXRFWHRTb2Z0d2FyZQBNYXRwbG90bGliIHZlcnNpb24zLjguMCwgaHR0cHM6Ly9tYXRwbG90bGliLm9yZy81sbWrAAAACXBIWXMAAA9hAAAPYQGoP6dpAAADLklEQVR4nO3cwY3TYBRG0ecogmFja2QpJUAPKYItvdOFNzCswoIeriVzTgX/4kpPkfxleb1eA4Xb2Q/g/yE2MmIjIzYyYiMjNjJiIyM2MmIjIzYyt2VZvi3L8nb2Q7i+28x8nZnPZz+E63NGyYiNjNjIiI2M2MiIjYzYyIiNjNjIiI2M2MiIjYzYyIiNjNjIiI3MbWZ+zsyfsx/C9S3+xYiKM0pGbGSsq8hYV5FxRsmIjYzYyIiNjNjIiI2M2MiIjYzYyIiNjNjIiI2M2MiIjYzYyBi8kDF4IeOMkhEbGYMXMgYvZJxRMmIjIzYyYiMjNjJiIyM2MmIjIzYyYiMjNjJiIyM2MmIjIzYyBi9kDF7IOKNkxEZGbGSsq8hYV5FxRsmIjYzYyIiNjNjIiI2M2MiIjYzYyIiNjNjIiI2M2MiIjYzYyFhXkbGuIuOMkhEbGYMXMgYvZJxRMmIjIzYyYiMjNjJiIyM2MmIjIzYyYiMjNjJiIyM2MmIjIzYyBi9kDF7IOKNkxEbG4IWMwQsZZ5SM2MiIjYzYyIiNjNjIiI2M2MiIjYzYyIiNjNjIiI2M2MiIjYzYyFhXkbGuIuOMkhEbGesqMtZVZJxRMmIjIzYyYiMjNjJiIyM2MmIjIzYyYiMjNjJiIyM2MmIjIzYyBi9kDF7IOKNkxEbG4IWMwQsZZ5SM2MiIjYzYyIiNjNjIiI2M2MiIjYzYyIiNjNjIiI2M2MiIjYzBCxmDFzLOKBmxkREbGesqMtZVZJxRMmIjIzYyYiMjNjJiIyM2MmIjIzYyYiMjNjJiIyM2MmIjIzYy1lVkrKvIOKNkxEbG4IWMwQsZZ5SM2MiIjYzYyIiNjNjIiI2M2MiIjYzYyIiNjNjIiI2M2MiIjYzBCxmDFzLOKJllZr7MzKezH8L13fd9/76u6/vZD+H67uu6vj+fz9/btn2c/Riu6ziOt/vMzLZtH4/H49fZD+La/EAgIzYyYiMjNjJiIyM2MmIjIzYyYiMjNjJiIyM2MmIjc5/59/nH2Q/h2o7jeFv2ff/h40kKPgsnY11Fxg8EMmIjIzYyYiMjNjJiIyM2MmIjIzYyfwFj50uCzHpkKgAAAABJRU5ErkJggg==\"></img></td>\n",
              "      <td id=\"T_0f0f8_row0_col5\" class=\"data row0 col5\" >0<br>(0.0%)</td>\n",
              "    </tr>\n",
              "    <tr>\n",
              "      <td id=\"T_0f0f8_row1_col0\" class=\"data row1 col0\" >2</td>\n",
              "      <td id=\"T_0f0f8_row1_col1\" class=\"data row1 col1\" ><strong>Objet</strong><br>[object]</td>\n",
              "      <td id=\"T_0f0f8_row1_col2\" class=\"data row1 col2\" >1. Sonde</td>\n",
              "      <td id=\"T_0f0f8_row1_col3\" class=\"data row1 col3\" >460,776 (100.0%)</td>\n",
              "      <td id=\"T_0f0f8_row1_col4\" class=\"data row1 col4\" ><img src = \"data:image/png;base64, iVBORw0KGgoAAAANSUhEUgAAAJsAAAAXCAYAAAAcEz0vAAAAOXRFWHRTb2Z0d2FyZQBNYXRwbG90bGliIHZlcnNpb24zLjguMCwgaHR0cHM6Ly9tYXRwbG90bGliLm9yZy81sbWrAAAACXBIWXMAAA9hAAAPYQGoP6dpAAAAnUlEQVR4nO3bsQ0CMRBE0TlkoSPx6mTJxbgIUvovYZPjQgJqYCyZ/yqY4Ie7m6SHpLuAHyuttWet9Zg9BOsrtdZjjPGOiGv2GKwrM/ciSRFx9d7P2YOwttvsAfgfxAYbYoMNscGG2GBDbLAhNtgQG2yIDTbEBhtigw2xwYbYYENssCE22BAbbIgNNkX6nuzOHoK1Zea+tdZePLzA4QPFNA/EDSh7IQAAAABJRU5ErkJggg==\"></img></td>\n",
              "      <td id=\"T_0f0f8_row1_col5\" class=\"data row1 col5\" >0<br>(0.0%)</td>\n",
              "    </tr>\n",
              "    <tr>\n",
              "      <td id=\"T_0f0f8_row2_col0\" class=\"data row2 col0\" >3</td>\n",
              "      <td id=\"T_0f0f8_row2_col1\" class=\"data row2 col1\" ><strong>Équipement</strong><br>[object]</td>\n",
              "      <td id=\"T_0f0f8_row2_col2\" class=\"data row2 col2\" >1. Sonde_A16_SE_89<br>2. Sonde_A14_SE_87<br>3. Sonde_A13_SW_86<br>4. Sonde_A17_SW_80<br>5. Sonde_A01_SW_74<br>6. Sonde_A08_SW_71<br>7. Sonde_D23_SW_96<br>8. J6_Sonde extérieure  Bat D<br>9. Sonde_A11_SW_84<br>10. Sonde_D25_S+W_98<br>11. other</td>\n",
              "      <td id=\"T_0f0f8_row2_col3\" class=\"data row2 col3\" >49,219 (10.7%)<br>47,767 (10.4%)<br>46,846 (10.2%)<br>46,768 (10.1%)<br>42,019 (9.1%)<br>41,624 (9.0%)<br>40,782 (8.9%)<br>34,567 (7.5%)<br>33,327 (7.2%)<br>28,365 (6.2%)<br>49,492 (10.7%)</td>\n",
              "      <td id=\"T_0f0f8_row2_col4\" class=\"data row2 col4\" ><img src = \"data:image/png;base64, iVBORw0KGgoAAAANSUhEUgAAAJsAAAD+CAYAAAAtWHdlAAAAOXRFWHRTb2Z0d2FyZQBNYXRwbG90bGliIHZlcnNpb24zLjguMCwgaHR0cHM6Ly9tYXRwbG90bGliLm9yZy81sbWrAAAACXBIWXMAAA9hAAAPYQGoP6dpAAAD80lEQVR4nO3dQWojRwCG0VIQQ2YjYQw+jA+Rw+YQuo0x1iIzzEZZZBtlurrEF/C8t7fQ4qNEN/27D7fbbUDht//7C/DrEBsZsZERGxmxkREbGbGRERsZsZE5jDG+jjG+LH7Oj9vt9u0B34dP7Pj8/PzH6XR6WvmQ6/X6fjgc/hQc/+V4Op2eXl9fv53P5+97PuDj4+P3y+Xy9Pb29mWMITbuOo4xxvl8/v7y8vLXwud8fdD34RNzgUBGbGTERkZsZMRGRmxkxEZGbGTERkZsZMRGRmxkxEZGbGSOY/zzTNreD1j5W34tx+v1+n65XJ7GwjNp1+v1fYzx43Ffi8/IBoHMwb/MovKIk82pxibL6yrLKrZaWldZVjHjEesqyyo2cVOXjNjIiI2M2MiIjYzYyIiNjNjIiI2M2MiIjYzYyIiNzNLgxdiFGcuDF2MXtvJYOBmDFzJONjIGL2QMXsgYvJBxU5eM2MiIjYzYyIiNjNjIiI2M2MiIjYzYyIiNjNjIiI2MwQsZgxcyHgsnY/BCxgUCGT+jZKyryFhXkbGuIuMCgYzYyIiNjNjIiI2M2MiIjYzYyIiNjNjIiI2M2MiIjYx1FRnrKjIeCydjXUVm5WRzojFl9+DF0IVZuwYvhi7ssTJ4MXRhipu6ZMRGRmxkxEZGbGTERkZsZMRGRmxkxEZGbGTERkZsZHYNXgxd2GP34MXQhVkeCydj8ELGyUbG4IWMwQsZgxcybuqSERsZsZERGxmxkREbGbGRERsZsZERGxmxkREbGbGRERsZ6yoy1lVkbBDIWFeRcbKRsa4iY11FxrqKjJu6ZMRGRmxkxEZGbGTERkZsZMRGRmxkxEZGbGTERkZsZAxeyBi8kPFYOBmDFzJ7TjYnGrtMD14MXdhravBi6MKKPYMXQxd2cVOXjNjIiI2M2MiIjYzYyIiNjNjIiI2M2MiIjYzYyIiNzNTgxdCFFdODF0MX9vJYOBmDFzIuEMjM/oz6CWW3qXWVZRUrNq+rLKtYNbuusqxiNxcIZMRGRmxkxEZGbGTERkZsZMRGRmxkxEZGbGTERkZsZDavqyyrWDW1rrKsYoXHwslYV5GZOdmcaizZPHgxdmHVpsGLsQuPMDN4MXZhiZu6ZMRGRmxkxEZGbGTERkZsZMRGRmxkxEZGbGTERkZsZDYNXoxdeITNgxdjF1Z5LJyMwQuZPS9K+zdOPX5q6g0v9xjDsMXmN7zcYwzDVrNveLnHGIafclOXjNjIiI2M2MiIjYzYyIiNjNjIiI2M2MiIjYzYyIiNzOY3vNxjDMNWU294uccYhi08Fk7G4IWMCwQyYiMjNjJiIyM2MmIjIzYyYiMjNjJ/A5lrTuIhgNUFAAAAAElFTkSuQmCC\"></img></td>\n",
              "      <td id=\"T_0f0f8_row2_col5\" class=\"data row2 col5\" >0<br>(0.0%)</td>\n",
              "    </tr>\n",
              "    <tr>\n",
              "      <td id=\"T_0f0f8_row3_col0\" class=\"data row3 col0\" >4</td>\n",
              "      <td id=\"T_0f0f8_row3_col1\" class=\"data row3 col1\" ><strong>Commande</strong><br>[object]</td>\n",
              "      <td id=\"T_0f0f8_row3_col2\" class=\"data row3 col2\" >1. Température<br>2. Température 4</td>\n",
              "      <td id=\"T_0f0f8_row3_col3\" class=\"data row3 col3\" >399,307 (86.7%)<br>61,469 (13.3%)</td>\n",
              "      <td id=\"T_0f0f8_row3_col4\" class=\"data row3 col4\" ><img src = \"data:image/png;base64, iVBORw0KGgoAAAANSUhEUgAAAJsAAAAuCAYAAAA/ZmtKAAAAOXRFWHRTb2Z0d2FyZQBNYXRwbG90bGliIHZlcnNpb24zLjguMCwgaHR0cHM6Ly9tYXRwbG90bGliLm9yZy81sbWrAAAACXBIWXMAAA9hAAAPYQGoP6dpAAABOElEQVR4nO3bQarCMBSF4ZtHkeckoRS6mC7Cxb5FZDelNAMVJ3HwhtLZzdHI/y3g0sGvoPSEWqsBCsHMzmZ2eveD4OM8aq03z4PDNE2XGOPoeRT9K6VsIYQ/z+CGGOO4LMstpXT3Ooq+7fv+m3Me13U9mZlfbGZmKaX7PM9Xr6P4Cmfvgz/eB4EjxAYZYoMMsUGG2CBDbJAhNsgQG2SIDTLEBhligwyxQYbYIENskCE2yAxm/y/LvftB8Dla9TCUUrac82gNXpZDv0opm5k9PG8yeMER98FLYMoHlVbfbO6fCvSvyZSvxQwM/XOf8rWagaF/raZ8/LLFC/7UhQyxQYbYIENskCE2yBAbZIgNMsQGGWKDDLFBhtggQ2yQITbIEBtkiA0y7lM+ZoE40mTK12IGhv4xeIHMEwpbat9AdB4KAAAAAElFTkSuQmCC\"></img></td>\n",
              "      <td id=\"T_0f0f8_row3_col5\" class=\"data row3 col5\" >0<br>(0.0%)</td>\n",
              "    </tr>\n",
              "    <tr>\n",
              "      <td id=\"T_0f0f8_row4_col0\" class=\"data row4 col0\" >5</td>\n",
              "      <td id=\"T_0f0f8_row4_col1\" class=\"data row4 col1\" ><strong>Type Générique</strong><br>[object]</td>\n",
              "      <td id=\"T_0f0f8_row4_col2\" class=\"data row4 col2\" >1. TEMPERATURE</td>\n",
              "      <td id=\"T_0f0f8_row4_col3\" class=\"data row4 col3\" >460,776 (100.0%)</td>\n",
              "      <td id=\"T_0f0f8_row4_col4\" class=\"data row4 col4\" ><img src = \"data:image/png;base64, iVBORw0KGgoAAAANSUhEUgAAAJsAAAAXCAYAAAAcEz0vAAAAOXRFWHRTb2Z0d2FyZQBNYXRwbG90bGliIHZlcnNpb24zLjguMCwgaHR0cHM6Ly9tYXRwbG90bGliLm9yZy81sbWrAAAACXBIWXMAAA9hAAAPYQGoP6dpAAAAnUlEQVR4nO3bsQ0CMRBE0TlkoSPx6mTJxbgIUvovYZPjQgJqYCyZ/yqY4Ie7m6SHpLuAHyuttWet9Zg9BOsrtdZjjPGOiGv2GKwrM/ciSRFx9d7P2YOwttvsAfgfxAYbYoMNscGG2GBDbLAhNtgQG2yIDTbEBhtigw2xwYbYYENssCE22BAbbIgNNkX6nuzOHoK1Zea+tdZePLzA4QPFNA/EDSh7IQAAAABJRU5ErkJggg==\"></img></td>\n",
              "      <td id=\"T_0f0f8_row4_col5\" class=\"data row4 col5\" >0<br>(0.0%)</td>\n",
              "    </tr>\n",
              "    <tr>\n",
              "      <td id=\"T_0f0f8_row5_col0\" class=\"data row5 col0\" >6</td>\n",
              "      <td id=\"T_0f0f8_row5_col1\" class=\"data row5 col1\" ><strong>Valeur</strong><br>[object]</td>\n",
              "      <td id=\"T_0f0f8_row5_col2\" class=\"data row5 col2\" >1. 18,67<br>2. 18,51<br>3. 18,82<br>4. 18,2<br>5. 18,35<br>6. 18,98<br>7. 19,14<br>8. 18,04<br>9. 19,29<br>10. 17,88<br>11. other</td>\n",
              "      <td id=\"T_0f0f8_row5_col3\" class=\"data row5 col3\" >9,183 (2.0%)<br>9,179 (2.0%)<br>9,030 (2.0%)<br>8,924 (1.9%)<br>8,777 (1.9%)<br>8,640 (1.9%)<br>8,522 (1.8%)<br>8,509 (1.8%)<br>8,323 (1.8%)<br>8,220 (1.8%)<br>373,469 (81.1%)</td>\n",
              "      <td id=\"T_0f0f8_row5_col4\" class=\"data row5 col4\" ><img src = \"data:image/png;base64, iVBORw0KGgoAAAANSUhEUgAAAJsAAAD+CAYAAAAtWHdlAAAAOXRFWHRTb2Z0d2FyZQBNYXRwbG90bGliIHZlcnNpb24zLjguMCwgaHR0cHM6Ly9tYXRwbG90bGliLm9yZy81sbWrAAAACXBIWXMAAA9hAAAPYQGoP6dpAAADjElEQVR4nO3cQUobcRyG4V8kiG4iEvAwOUQP20PkNkGSRVPcpIvaYrspFPpOSZ5nl4U44MuEGf6fq8vlMlC4W/oCuB1iIyM2MmIjIzYyYiMjNjJiIyM2MquZeZyZ+/fPb5fL5bzg9XDF1tvt9tNms3memTmdTq+r1eqz4PgX7jabzfNutzvvdrvze3T3f/wp+AvrmZmnp6ev758fF7wWrpwHBDJiIyM2MmIjIzYyYiMjNjJiIyM2MmIjIzYyYiMjNjJiI7OemTkejw9LXwjXb306nV73+/3Pk7oz87bwNXGlbBDIrPzLLCrubGSsq8hYV5GxriLjpS4ZsZERGxmxkREbGbGRERsZsZERGxmxkREbGbGRERsZgxcyBi9kHAsnY/BCxp2NjMELGYMXMgYvZLzUJSM2MmIjIzYyYiMjNjJiIyM2MmIjIzYyYiMjNjJiI2PwQsbghYxj4WQMXsh4QCDja5SMdRUZ6yoy1lVkPCCQERsZsZERGxmxkREbGbGRERsZsZERGxmxkREbGbGRsa4iY11FxrFwMtZVZNzZyBi8kDF4IWPwQsZLXTJiIyM2MmIjIzYyYiMjNjJiIyM2MmIjIzYyYiMjNjIGL2QMXsg4Fk7G4IWMOxsZgxcyBi9kDF7IeKlLRmxkxEZGbGTERkZsZMRGRmxkxEZGbGTERkZsZMRGRmxkrKvIWFeRsUEgY11Fxp2NjHUVGesqMtZVZLzUJSM2MmIjIzYyYiMjNjJiIyM2MmIjIzYyYiMjNjJiI2PwQsbghYxj4WQMXsi4s5ExeCFj8ELG4IWMl7pkxEZGbGTERkZsZMRGRmxkxEZGbGTERkZsZMRGRmxkDF7IGLyQcSycjMELGQ8IZHyNkrGuImNdRca6iowHBDJiIyM2MmIjIzYyYiMjNjJiIyM2MmIjIzYyYiMjNjLWVWSsq8g4Fk7GuoqMOxsZgxcyBi9kDF7IeKlLRmxkxEZGbGTERkZsZMRGRmxkxEZGbGTERkZsZMRGxuCFjMELGcfCyRi8kPn9zsbtyL/Ffhm8cDuWGDetfwxePuwQuHLH4/Fhv98/Hw6H+5npYpv5Pnh5eXn5Uv1S/gv5uMlLXTJiIyM2MmIjIzYyYiMjNjJiIyM2MmIjIzYyYiMjNjIGLzdoqb/3x8GL/6d7Q5YYNzkWfrvyY+EGL2Q8IJARGxmxkREbGbGRERsZsZERGxmxkfkGZ1jTHafq5sEAAAAASUVORK5CYII=\"></img></td>\n",
              "      <td id=\"T_0f0f8_row5_col5\" class=\"data row5 col5\" >0<br>(0.0%)</td>\n",
              "    </tr>\n",
              "    <tr>\n",
              "      <td id=\"T_0f0f8_row6_col0\" class=\"data row6 col0\" >7</td>\n",
              "      <td id=\"T_0f0f8_row6_col1\" class=\"data row6 col1\" ><strong>Unité</strong><br>[object]</td>\n",
              "      <td id=\"T_0f0f8_row6_col2\" class=\"data row6 col2\" >1. °C</td>\n",
              "      <td id=\"T_0f0f8_row6_col3\" class=\"data row6 col3\" >460,776 (100.0%)</td>\n",
              "      <td id=\"T_0f0f8_row6_col4\" class=\"data row6 col4\" ><img src = \"data:image/png;base64, iVBORw0KGgoAAAANSUhEUgAAAJsAAAAXCAYAAAAcEz0vAAAAOXRFWHRTb2Z0d2FyZQBNYXRwbG90bGliIHZlcnNpb24zLjguMCwgaHR0cHM6Ly9tYXRwbG90bGliLm9yZy81sbWrAAAACXBIWXMAAA9hAAAPYQGoP6dpAAAAnUlEQVR4nO3bsQ0CMRBE0TlkoSPx6mTJxbgIUvovYZPjQgJqYCyZ/yqY4Ie7m6SHpLuAHyuttWet9Zg9BOsrtdZjjPGOiGv2GKwrM/ciSRFx9d7P2YOwttvsAfgfxAYbYoMNscGG2GBDbLAhNtgQG2yIDTbEBhtigw2xwYbYYENssCE22BAbbIgNNkX6nuzOHoK1Zea+tdZePLzA4QPFNA/EDSh7IQAAAABJRU5ErkJggg==\"></img></td>\n",
              "      <td id=\"T_0f0f8_row6_col5\" class=\"data row6 col5\" >0<br>(0.0%)</td>\n",
              "    </tr>\n",
              "  </tbody>\n",
              "</table>\n"
            ]
          },
          "metadata": {},
          "execution_count": 28
        }
      ]
    },
    {
      "cell_type": "markdown",
      "source": [
        "- Enlever la colonne \" Type Générique\", car l'ensemble des valeurs = \"Temperature\".\n",
        "\n",
        "- Enlever la colonne \" Objet\", car l'ensemble des valeurs = \"Sonde\".\n",
        "\n",
        "Pour toutes les colonnes, reformater les données.\n",
        "Un pivotement ou une transposition du tableau sera probablement nécessaire."
      ],
      "metadata": {
        "id": "Y3dB0obqsvTg"
      }
    },
    {
      "cell_type": "code",
      "source": [
        "# Séparer la colonne 'datetime' en deux colonnes distinctes\n",
        "AIH[['date', 'time']] = AIH['Date'].str.split(' ', expand=True)\n",
        "\n",
        "# Convertir les nouvelles colonnes au format datetime\n",
        "AIH['date'] = pd.to_datetime(AIH['date'], format='%Y-%m-%d')\n",
        "AIH['time'] = pd.to_datetime(AIH['time'], format='%H:%M:%S').dt.time\n",
        "\n",
        "# Supprimer l'ancienne colonne si elle n'est plus nécessaire\n",
        "AIH= AIH.drop(columns=['Objet'])"
      ],
      "metadata": {
        "id": "Vo10Duhot-9Z"
      },
      "execution_count": 29,
      "outputs": []
    },
    {
      "cell_type": "code",
      "source": [
        "# Trouver toutes les modalités uniques dans la colonne 'Équipement'\n",
        "modalites = val_roland['Équipement'].unique()\n",
        "\n",
        "# Afficher les modalités\n",
        "print(modalites)"
      ],
      "metadata": {
        "colab": {
          "base_uri": "https://localhost:8080/"
        },
        "id": "VNA02EJywiGy",
        "outputId": "84c236cd-69b7-4e2a-c298-f045071e2209"
      },
      "execution_count": 30,
      "outputs": [
        {
          "output_type": "stream",
          "name": "stdout",
          "text": [
            "['Sonde_A08_SW_71' 'Sonde_A01_SW_74' 'Sonde_A03_SE_76' 'Sonde_A17_SW_80'\n",
            " 'Sonde_A11_SW_84' 'Sonde_A13_SW_86' 'Sonde_A14_SE_87' 'Sonde_D23_SW_96'\n",
            " 'Sonde_A16_SE_89' 'Sonde_D25_S+W_98' 'J2_Sonde extérieure  Bat A1'\n",
            " 'J6_Sonde extérieure  Bat D']\n"
          ]
        }
      ]
    },
    {
      "cell_type": "code",
      "source": [],
      "metadata": {
        "id": "WvJ19L-H3Uma"
      },
      "execution_count": null,
      "outputs": []
    },
    {
      "cell_type": "code",
      "source": [
        "# Fonction de nettoyage\n",
        "def nettoyer_equipement(data):\n",
        "    if data.startswith('Sonde'):\n",
        "        # Séparer les parties par \"_\"\n",
        "        parts = data.split('_')\n",
        "        return parts[0], parts[1], parts[2], parts[3] if len(parts) > 3 else None\n",
        "    elif data.startswith('J'):\n",
        "        # Séparer les parties par espace pour traiter les cas \"J2_Sonde extérieure  Bat A1\"\n",
        "        parts = data.split(' ', 2)\n",
        "        return parts[0], parts[1] if len(parts) > 1 else None, None, parts[2] if len(parts) > 2 else None\n",
        "    return None, None, None, None\n",
        "\n",
        "# Appliquer la fonction à la colonne 'Equipement' et créer les nouvelles colonnes\n",
        "AIH[['Type', 'Numéro', 'Orientation', 'Réplicat']] = AIH['Équipement'].apply(\n",
        "    lambda x: pd.Series(nettoyer_equipement(x))\n",
        ")\n",
        "\n"
      ],
      "metadata": {
        "id": "JJ_z15xFWKlS"
      },
      "execution_count": 49,
      "outputs": []
    },
    {
      "cell_type": "code",
      "source": [
        "# Description pour comprendre les données et mettre en suite le tableau en forme\n",
        "dfSummary(AIH)"
      ],
      "metadata": {
        "colab": {
          "base_uri": "https://localhost:8080/",
          "height": 1000
        },
        "id": "pxlymlibyzy4",
        "outputId": "2d88f085-afd1-480d-b1fc-21b1b125aedb"
      },
      "execution_count": 41,
      "outputs": [
        {
          "output_type": "execute_result",
          "data": {
            "text/plain": [
              "<pandas.io.formats.style.Styler at 0x79a11553a080>"
            ],
            "text/html": [
              "<style type=\"text/css\">\n",
              "#T_6e525 thead>tr>th {\n",
              "  text-align: left;\n",
              "}\n",
              "#T_6e525_row0_col0, #T_6e525_row1_col0, #T_6e525_row2_col0, #T_6e525_row3_col0, #T_6e525_row4_col0, #T_6e525_row5_col0, #T_6e525_row6_col0, #T_6e525_row7_col0, #T_6e525_row8_col0, #T_6e525_row9_col0, #T_6e525_row10_col0, #T_6e525_row11_col0 {\n",
              "  text-align: left;\n",
              "  font-size: 12px;\n",
              "  vertical-align: middle;\n",
              "  width: 5%;\n",
              "  max-width: 50px;\n",
              "  min-width: 20px;\n",
              "}\n",
              "#T_6e525_row0_col1, #T_6e525_row1_col1, #T_6e525_row2_col1, #T_6e525_row3_col1, #T_6e525_row4_col1, #T_6e525_row5_col1, #T_6e525_row6_col1, #T_6e525_row7_col1, #T_6e525_row8_col1, #T_6e525_row9_col1, #T_6e525_row10_col1, #T_6e525_row11_col1 {\n",
              "  text-align: left;\n",
              "  font-size: 12px;\n",
              "  vertical-align: middle;\n",
              "  width: 15%;\n",
              "  max-width: 200px;\n",
              "  min-width: 100px;\n",
              "  word-break: break-word;\n",
              "}\n",
              "#T_6e525_row0_col2, #T_6e525_row1_col2, #T_6e525_row2_col2, #T_6e525_row3_col2, #T_6e525_row4_col2, #T_6e525_row5_col2, #T_6e525_row6_col2, #T_6e525_row7_col2, #T_6e525_row8_col2, #T_6e525_row9_col2, #T_6e525_row10_col2, #T_6e525_row11_col2 {\n",
              "  text-align: left;\n",
              "  font-size: 12px;\n",
              "  vertical-align: middle;\n",
              "  width: 30%;\n",
              "  min-width: 100px;\n",
              "}\n",
              "#T_6e525_row0_col3, #T_6e525_row1_col3, #T_6e525_row2_col3, #T_6e525_row3_col3, #T_6e525_row4_col3, #T_6e525_row5_col3, #T_6e525_row6_col3, #T_6e525_row7_col3, #T_6e525_row8_col3, #T_6e525_row9_col3, #T_6e525_row10_col3, #T_6e525_row11_col3 {\n",
              "  text-align: left;\n",
              "  font-size: 12px;\n",
              "  vertical-align: middle;\n",
              "  width: 25%;\n",
              "  min-width: 100px;\n",
              "}\n",
              "#T_6e525_row0_col4, #T_6e525_row1_col4, #T_6e525_row2_col4, #T_6e525_row3_col4, #T_6e525_row4_col4, #T_6e525_row5_col4, #T_6e525_row6_col4, #T_6e525_row7_col4, #T_6e525_row8_col4, #T_6e525_row9_col4, #T_6e525_row10_col4, #T_6e525_row11_col4 {\n",
              "  text-align: left;\n",
              "  font-size: 12px;\n",
              "  vertical-align: middle;\n",
              "  width: 20%;\n",
              "  min-width: 150px;\n",
              "}\n",
              "#T_6e525_row0_col5, #T_6e525_row1_col5, #T_6e525_row2_col5, #T_6e525_row3_col5, #T_6e525_row4_col5, #T_6e525_row5_col5, #T_6e525_row6_col5, #T_6e525_row7_col5, #T_6e525_row8_col5, #T_6e525_row9_col5, #T_6e525_row10_col5, #T_6e525_row11_col5 {\n",
              "  text-align: left;\n",
              "  font-size: 12px;\n",
              "  vertical-align: middle;\n",
              "  width: 10%;\n",
              "}\n",
              "</style>\n",
              "<table id=\"T_6e525\" class=\"dataframe\">\n",
              "  <caption><strong>Data Frame Summary</strong><br>AIH<br>Dimensions: 460,776 x 12<br>Duplicates: 0</caption>\n",
              "  <thead>\n",
              "    <tr>\n",
              "      <th id=\"T_6e525_level0_col0\" class=\"col_heading level0 col0\" >No</th>\n",
              "      <th id=\"T_6e525_level0_col1\" class=\"col_heading level0 col1\" >Variable</th>\n",
              "      <th id=\"T_6e525_level0_col2\" class=\"col_heading level0 col2\" >Stats / Values</th>\n",
              "      <th id=\"T_6e525_level0_col3\" class=\"col_heading level0 col3\" >Freqs / (% of Valid)</th>\n",
              "      <th id=\"T_6e525_level0_col4\" class=\"col_heading level0 col4\" >Graph</th>\n",
              "      <th id=\"T_6e525_level0_col5\" class=\"col_heading level0 col5\" >Missing</th>\n",
              "    </tr>\n",
              "  </thead>\n",
              "  <tbody>\n",
              "    <tr>\n",
              "      <td id=\"T_6e525_row0_col0\" class=\"data row0 col0\" >1</td>\n",
              "      <td id=\"T_6e525_row0_col1\" class=\"data row0 col1\" ><strong>Date</strong><br>[object]</td>\n",
              "      <td id=\"T_6e525_row0_col2\" class=\"data row0 col2\" >1. 2020-08-07 16:40:00<br>2. 2021-12-06 14:57:05<br>3. 2020-08-07 16:45:00<br>4. 2022-09-15 11:00:00<br>5. 2021-12-06 14:57:04<br>6. 2021-06-05 11:00:00<br>7. 2023-08-06 10:00:00<br>8. 2023-01-31 13:05:00<br>9. 2021-06-01 19:00:00<br>10. 2022-11-21 12:00:00<br>11. other</td>\n",
              "      <td id=\"T_6e525_row0_col3\" class=\"data row0 col3\" >6 (0.0%)<br>5 (0.0%)<br>4 (0.0%)<br>3 (0.0%)<br>3 (0.0%)<br>3 (0.0%)<br>3 (0.0%)<br>3 (0.0%)<br>3 (0.0%)<br>3 (0.0%)<br>460,740 (100.0%)</td>\n",
              "      <td id=\"T_6e525_row0_col4\" class=\"data row0 col4\" ><img src = \"data:image/png;base64, iVBORw0KGgoAAAANSUhEUgAAAJsAAAD+CAYAAAAtWHdlAAAAOXRFWHRTb2Z0d2FyZQBNYXRwbG90bGliIHZlcnNpb24zLjguMCwgaHR0cHM6Ly9tYXRwbG90bGliLm9yZy81sbWrAAAACXBIWXMAAA9hAAAPYQGoP6dpAAADLklEQVR4nO3cwY3TYBRG0ecogmFja2QpJUAPKYItvdOFNzCswoIeriVzTgX/4kpPkfxleb1eA4Xb2Q/g/yE2MmIjIzYyYiMjNjJiIyM2MmIjIzYyt2VZvi3L8nb2Q7i+28x8nZnPZz+E63NGyYiNjNjIiI2M2MiIjYzYyIiNjNjIiI2M2MiIjYzYyIiNjNjIiI3MbWZ+zsyfsx/C9S3+xYiKM0pGbGSsq8hYV5FxRsmIjYzYyIiNjNjIiI2M2MiIjYzYyIiNjNjIiI2M2MiIjYzYyBi8kDF4IeOMkhEbGYMXMgYvZJxRMmIjIzYyYiMjNjJiIyM2MmIjIzYyYiMjNjJiIyM2MmIjIzYyBi9kDF7IOKNkxEZGbGSsq8hYV5FxRsmIjYzYyIiNjNjIiI2M2MiIjYzYyIiNjNjIiI2M2MiIjYzYyFhXkbGuIuOMkhEbGYMXMgYvZJxRMmIjIzYyYiMjNjJiIyM2MmIjIzYyYiMjNjJiIyM2MmIjIzYyBi9kDF7IOKNkxEbG4IWMwQsZZ5SM2MiIjYzYyIiNjNjIiI2M2MiIjYzYyIiNjNjIiI2M2MiIjYzYyFhXkbGuIuOMkhEbGesqMtZVZJxRMmIjIzYyYiMjNjJiIyM2MmIjIzYyYiMjNjJiIyM2MmIjIzYyBi9kDF7IOKNkxEbG4IWMwQsZZ5SM2MiIjYzYyIiNjNjIiI2M2MiIjYzYyIiNjNjIiI2M2MiIjYzBCxmDFzLOKBmxkREbGesqMtZVZJxRMmIjIzYyYiMjNjJiIyM2MmIjIzYyYiMjNjJiIyM2MmIjIzYy1lVkrKvIOKNkxEbG4IWMwQsZZ5SM2MiIjYzYyIiNjNjIiI2M2MiIjYzYyIiNjNjIiI2M2MiIjYzBCxmDFzLOKJllZr7MzKezH8L13fd9/76u6/vZD+H67uu6vj+fz9/btn2c/Riu6ziOt/vMzLZtH4/H49fZD+La/EAgIzYyYiMjNjJiIyM2MmIjIzYyYiMjNjJiIyM2MmIjc5/59/nH2Q/h2o7jeFv2ff/h40kKPgsnY11Fxg8EMmIjIzYyYiMjNjJiIyM2MmIjIzYyfwFj50uCzHpkKgAAAABJRU5ErkJggg==\"></img></td>\n",
              "      <td id=\"T_6e525_row0_col5\" class=\"data row0 col5\" >0<br>(0.0%)</td>\n",
              "    </tr>\n",
              "    <tr>\n",
              "      <td id=\"T_6e525_row1_col0\" class=\"data row1 col0\" >2</td>\n",
              "      <td id=\"T_6e525_row1_col1\" class=\"data row1 col1\" ><strong>Équipement</strong><br>[object]</td>\n",
              "      <td id=\"T_6e525_row1_col2\" class=\"data row1 col2\" >1. Sonde_A16_SE_89<br>2. Sonde_A14_SE_87<br>3. Sonde_A13_SW_86<br>4. Sonde_A17_SW_80<br>5. Sonde_A01_SW_74<br>6. Sonde_A08_SW_71<br>7. Sonde_D23_SW_96<br>8. J6_Sonde extérieure  Bat D<br>9. Sonde_A11_SW_84<br>10. Sonde_D25_S+W_98<br>11. other</td>\n",
              "      <td id=\"T_6e525_row1_col3\" class=\"data row1 col3\" >49,219 (10.7%)<br>47,767 (10.4%)<br>46,846 (10.2%)<br>46,768 (10.1%)<br>42,019 (9.1%)<br>41,624 (9.0%)<br>40,782 (8.9%)<br>34,567 (7.5%)<br>33,327 (7.2%)<br>28,365 (6.2%)<br>49,492 (10.7%)</td>\n",
              "      <td id=\"T_6e525_row1_col4\" class=\"data row1 col4\" ><img src = \"data:image/png;base64, iVBORw0KGgoAAAANSUhEUgAAAJsAAAD+CAYAAAAtWHdlAAAAOXRFWHRTb2Z0d2FyZQBNYXRwbG90bGliIHZlcnNpb24zLjguMCwgaHR0cHM6Ly9tYXRwbG90bGliLm9yZy81sbWrAAAACXBIWXMAAA9hAAAPYQGoP6dpAAAD80lEQVR4nO3dQWojRwCG0VIQQ2YjYQw+jA+Rw+YQuo0x1iIzzEZZZBtlurrEF/C8t7fQ4qNEN/27D7fbbUDht//7C/DrEBsZsZERGxmxkREbGbGRERsZsZE5jDG+jjG+LH7Oj9vt9u0B34dP7Pj8/PzH6XR6WvmQ6/X6fjgc/hQc/+V4Op2eXl9fv53P5+97PuDj4+P3y+Xy9Pb29mWMITbuOo4xxvl8/v7y8vLXwud8fdD34RNzgUBGbGTERkZsZMRGRmxkxEZGbGTERkZsZMRGRmxkxEZGbGSOY/zzTNreD1j5W34tx+v1+n65XJ7GwjNp1+v1fYzx43Ffi8/IBoHMwb/MovKIk82pxibL6yrLKrZaWldZVjHjEesqyyo2cVOXjNjIiI2M2MiIjYzYyIiNjNjIiI2M2MiIjYzYyIiNzNLgxdiFGcuDF2MXtvJYOBmDFzJONjIGL2QMXsgYvJBxU5eM2MiIjYzYyIiNjNjIiI2M2MiIjYzYyIiNjNjIiI2MwQsZgxcyHgsnY/BCxgUCGT+jZKyryFhXkbGuIuMCgYzYyIiNjNjIiI2M2MiIjYzYyIiNjNjIiI2M2MiIjYx1FRnrKjIeCydjXUVm5WRzojFl9+DF0IVZuwYvhi7ssTJ4MXRhipu6ZMRGRmxkxEZGbGTERkZsZMRGRmxkxEZGbGTERkZsZHYNXgxd2GP34MXQhVkeCydj8ELGyUbG4IWMwQsZgxcybuqSERsZsZERGxmxkREbGbGRERsZsZERGxmxkREbGbGRERsZ6yoy1lVkbBDIWFeRcbKRsa4iY11FxrqKjJu6ZMRGRmxkxEZGbGTERkZsZMRGRmxkxEZGbGTERkZsZAxeyBi8kPFYOBmDFzJ7TjYnGrtMD14MXdhravBi6MKKPYMXQxd2cVOXjNjIiI2M2MiIjYzYyIiNjNjIiI2M2MiIjYzYyIiNzNTgxdCFFdODF0MX9vJYOBmDFzIuEMjM/oz6CWW3qXWVZRUrNq+rLKtYNbuusqxiNxcIZMRGRmxkxEZGbGTERkZsZMRGRmxkxEZGbGTERkZsZDavqyyrWDW1rrKsYoXHwslYV5GZOdmcaizZPHgxdmHVpsGLsQuPMDN4MXZhiZu6ZMRGRmxkxEZGbGTERkZsZMRGRmxkxEZGbGTERkZsZDYNXoxdeITNgxdjF1Z5LJyMwQuZPS9K+zdOPX5q6g0v9xjDsMXmN7zcYwzDVrNveLnHGIafclOXjNjIiI2M2MiIjYzYyIiNjNjIiI2M2MiIjYzYyIiNzOY3vNxjDMNWU294uccYhi08Fk7G4IWMCwQyYiMjNjJiIyM2MmIjIzYyYiMjNjJ/A5lrTuIhgNUFAAAAAElFTkSuQmCC\"></img></td>\n",
              "      <td id=\"T_6e525_row1_col5\" class=\"data row1 col5\" >0<br>(0.0%)</td>\n",
              "    </tr>\n",
              "    <tr>\n",
              "      <td id=\"T_6e525_row2_col0\" class=\"data row2 col0\" >3</td>\n",
              "      <td id=\"T_6e525_row2_col1\" class=\"data row2 col1\" ><strong>Commande</strong><br>[object]</td>\n",
              "      <td id=\"T_6e525_row2_col2\" class=\"data row2 col2\" >1. Température<br>2. Température 4</td>\n",
              "      <td id=\"T_6e525_row2_col3\" class=\"data row2 col3\" >399,307 (86.7%)<br>61,469 (13.3%)</td>\n",
              "      <td id=\"T_6e525_row2_col4\" class=\"data row2 col4\" ><img src = \"data:image/png;base64, iVBORw0KGgoAAAANSUhEUgAAAJsAAAAuCAYAAAA/ZmtKAAAAOXRFWHRTb2Z0d2FyZQBNYXRwbG90bGliIHZlcnNpb24zLjguMCwgaHR0cHM6Ly9tYXRwbG90bGliLm9yZy81sbWrAAAACXBIWXMAAA9hAAAPYQGoP6dpAAABOElEQVR4nO3bQarCMBSF4ZtHkeckoRS6mC7Cxb5FZDelNAMVJ3HwhtLZzdHI/y3g0sGvoPSEWqsBCsHMzmZ2eveD4OM8aq03z4PDNE2XGOPoeRT9K6VsIYQ/z+CGGOO4LMstpXT3Ooq+7fv+m3Me13U9mZlfbGZmKaX7PM9Xr6P4Cmfvgz/eB4EjxAYZYoMMsUGG2CBDbJAhNsgQG2SIDTLEBhligwyxQYbYIENskCE2yAxm/y/LvftB8Dla9TCUUrac82gNXpZDv0opm5k9PG8yeMER98FLYMoHlVbfbO6fCvSvyZSvxQwM/XOf8rWagaF/raZ8/LLFC/7UhQyxQYbYIENskCE2yBAbZIgNMsQGGWKDDLFBhtggQ2yQITbIEBtkiA0y7lM+ZoE40mTK12IGhv4xeIHMEwpbat9AdB4KAAAAAElFTkSuQmCC\"></img></td>\n",
              "      <td id=\"T_6e525_row2_col5\" class=\"data row2 col5\" >0<br>(0.0%)</td>\n",
              "    </tr>\n",
              "    <tr>\n",
              "      <td id=\"T_6e525_row3_col0\" class=\"data row3 col0\" >4</td>\n",
              "      <td id=\"T_6e525_row3_col1\" class=\"data row3 col1\" ><strong>Type Générique</strong><br>[object]</td>\n",
              "      <td id=\"T_6e525_row3_col2\" class=\"data row3 col2\" >1. TEMPERATURE</td>\n",
              "      <td id=\"T_6e525_row3_col3\" class=\"data row3 col3\" >460,776 (100.0%)</td>\n",
              "      <td id=\"T_6e525_row3_col4\" class=\"data row3 col4\" ><img src = \"data:image/png;base64, iVBORw0KGgoAAAANSUhEUgAAAJsAAAAXCAYAAAAcEz0vAAAAOXRFWHRTb2Z0d2FyZQBNYXRwbG90bGliIHZlcnNpb24zLjguMCwgaHR0cHM6Ly9tYXRwbG90bGliLm9yZy81sbWrAAAACXBIWXMAAA9hAAAPYQGoP6dpAAAAnUlEQVR4nO3bsQ0CMRBE0TlkoSPx6mTJxbgIUvovYZPjQgJqYCyZ/yqY4Ie7m6SHpLuAHyuttWet9Zg9BOsrtdZjjPGOiGv2GKwrM/ciSRFx9d7P2YOwttvsAfgfxAYbYoMNscGG2GBDbLAhNtgQG2yIDTbEBhtigw2xwYbYYENssCE22BAbbIgNNkX6nuzOHoK1Zea+tdZePLzA4QPFNA/EDSh7IQAAAABJRU5ErkJggg==\"></img></td>\n",
              "      <td id=\"T_6e525_row3_col5\" class=\"data row3 col5\" >0<br>(0.0%)</td>\n",
              "    </tr>\n",
              "    <tr>\n",
              "      <td id=\"T_6e525_row4_col0\" class=\"data row4 col0\" >5</td>\n",
              "      <td id=\"T_6e525_row4_col1\" class=\"data row4 col1\" ><strong>Valeur</strong><br>[object]</td>\n",
              "      <td id=\"T_6e525_row4_col2\" class=\"data row4 col2\" >1. 18,67<br>2. 18,51<br>3. 18,82<br>4. 18,2<br>5. 18,35<br>6. 18,98<br>7. 19,14<br>8. 18,04<br>9. 19,29<br>10. 17,88<br>11. other</td>\n",
              "      <td id=\"T_6e525_row4_col3\" class=\"data row4 col3\" >9,183 (2.0%)<br>9,179 (2.0%)<br>9,030 (2.0%)<br>8,924 (1.9%)<br>8,777 (1.9%)<br>8,640 (1.9%)<br>8,522 (1.8%)<br>8,509 (1.8%)<br>8,323 (1.8%)<br>8,220 (1.8%)<br>373,469 (81.1%)</td>\n",
              "      <td id=\"T_6e525_row4_col4\" class=\"data row4 col4\" ><img src = \"data:image/png;base64, iVBORw0KGgoAAAANSUhEUgAAAJsAAAD+CAYAAAAtWHdlAAAAOXRFWHRTb2Z0d2FyZQBNYXRwbG90bGliIHZlcnNpb24zLjguMCwgaHR0cHM6Ly9tYXRwbG90bGliLm9yZy81sbWrAAAACXBIWXMAAA9hAAAPYQGoP6dpAAADjElEQVR4nO3cQUobcRyG4V8kiG4iEvAwOUQP20PkNkGSRVPcpIvaYrspFPpOSZ5nl4U44MuEGf6fq8vlMlC4W/oCuB1iIyM2MmIjIzYyYiMjNjJiIyM2MquZeZyZ+/fPb5fL5bzg9XDF1tvt9tNms3memTmdTq+r1eqz4PgX7jabzfNutzvvdrvze3T3f/wp+AvrmZmnp6ev758fF7wWrpwHBDJiIyM2MmIjIzYyYiMjNjJiIyM2MmIjIzYyYiMjNjJiI7OemTkejw9LXwjXb306nV73+/3Pk7oz87bwNXGlbBDIrPzLLCrubGSsq8hYV5GxriLjpS4ZsZERGxmxkREbGbGRERsZsZERGxmxkREbGbGRERsZgxcyBi9kHAsnY/BCxp2NjMELGYMXMgYvZLzUJSM2MmIjIzYyYiMjNjJiIyM2MmIjIzYyYiMjNjJiI2PwQsbghYxj4WQMXsh4QCDja5SMdRUZ6yoy1lVkPCCQERsZsZERGxmxkREbGbGRERsZsZERGxmxkREbGbGRsa4iY11FxrFwMtZVZNzZyBi8kDF4IWPwQsZLXTJiIyM2MmIjIzYyYiMjNjJiIyM2MmIjIzYyYiMjNjIGL2QMXsg4Fk7G4IWMOxsZgxcyBi9kDF7IeKlLRmxkxEZGbGTERkZsZMRGRmxkxEZGbGTERkZsZMRGRmxkrKvIWFeRsUEgY11Fxp2NjHUVGesqMtZVZLzUJSM2MmIjIzYyYiMjNjJiIyM2MmIjIzYyYiMjNjJiI2PwQsbghYxj4WQMXsi4s5ExeCFj8ELG4IWMl7pkxEZGbGTERkZsZMRGRmxkxEZGbGTERkZsZMRGRmxkDF7IGLyQcSycjMELGQ8IZHyNkrGuImNdRca6iowHBDJiIyM2MmIjIzYyYiMjNjJiIyM2MmIjIzYyYiMjNjLWVWSsq8g4Fk7GuoqMOxsZgxcyBi9kDF7IeKlLRmxkxEZGbGTERkZsZMRGRmxkxEZGbGTERkZsZMRGxuCFjMELGcfCyRi8kPn9zsbtyL/Ffhm8cDuWGDetfwxePuwQuHLH4/Fhv98/Hw6H+5npYpv5Pnh5eXn5Uv1S/gv5uMlLXTJiIyM2MmIjIzYyYiMjNjJiIyM2MmIjIzYyYiMjNjIGLzdoqb/3x8GL/6d7Q5YYNzkWfrvyY+EGL2Q8IJARGxmxkREbGbGRERsZsZERGxmxkfkGZ1jTHafq5sEAAAAASUVORK5CYII=\"></img></td>\n",
              "      <td id=\"T_6e525_row4_col5\" class=\"data row4 col5\" >0<br>(0.0%)</td>\n",
              "    </tr>\n",
              "    <tr>\n",
              "      <td id=\"T_6e525_row5_col0\" class=\"data row5 col0\" >6</td>\n",
              "      <td id=\"T_6e525_row5_col1\" class=\"data row5 col1\" ><strong>Unité</strong><br>[object]</td>\n",
              "      <td id=\"T_6e525_row5_col2\" class=\"data row5 col2\" >1. °C</td>\n",
              "      <td id=\"T_6e525_row5_col3\" class=\"data row5 col3\" >460,776 (100.0%)</td>\n",
              "      <td id=\"T_6e525_row5_col4\" class=\"data row5 col4\" ><img src = \"data:image/png;base64, iVBORw0KGgoAAAANSUhEUgAAAJsAAAAXCAYAAAAcEz0vAAAAOXRFWHRTb2Z0d2FyZQBNYXRwbG90bGliIHZlcnNpb24zLjguMCwgaHR0cHM6Ly9tYXRwbG90bGliLm9yZy81sbWrAAAACXBIWXMAAA9hAAAPYQGoP6dpAAAAnUlEQVR4nO3bsQ0CMRBE0TlkoSPx6mTJxbgIUvovYZPjQgJqYCyZ/yqY4Ie7m6SHpLuAHyuttWet9Zg9BOsrtdZjjPGOiGv2GKwrM/ciSRFx9d7P2YOwttvsAfgfxAYbYoMNscGG2GBDbLAhNtgQG2yIDTbEBhtigw2xwYbYYENssCE22BAbbIgNNkX6nuzOHoK1Zea+tdZePLzA4QPFNA/EDSh7IQAAAABJRU5ErkJggg==\"></img></td>\n",
              "      <td id=\"T_6e525_row5_col5\" class=\"data row5 col5\" >0<br>(0.0%)</td>\n",
              "    </tr>\n",
              "    <tr>\n",
              "      <td id=\"T_6e525_row6_col0\" class=\"data row6 col0\" >7</td>\n",
              "      <td id=\"T_6e525_row6_col1\" class=\"data row6 col1\" ><strong>date</strong><br>[datetime64[ns]]</td>\n",
              "      <td id=\"T_6e525_row6_col2\" class=\"data row6 col2\" >Min: 2020-08-07<br>Max: 2024-10-10<br>Duration: 1,525 days</td>\n",
              "      <td id=\"T_6e525_row6_col3\" class=\"data row6 col3\" >1485 distinct values</td>\n",
              "      <td id=\"T_6e525_row6_col4\" class=\"data row6 col4\" ><img src = \"data:image/png;base64, iVBORw0KGgoAAAANSUhEUgAAAJsAAABNCAYAAACxBha+AAAAOXRFWHRTb2Z0d2FyZQBNYXRwbG90bGliIHZlcnNpb24zLjguMCwgaHR0cHM6Ly9tYXRwbG90bGliLm9yZy81sbWrAAAACXBIWXMAAA9hAAAPYQGoP6dpAAACzElEQVR4nO3cP2/aQByH8d9BiC4hskVIyZalY6QOSFnyAjr2xfYlZMjQmaFLp2yREALFDcIxdKgypfy5A39r4+ezH3h4dHf4TrjVamWAQut/PwCag9ggc1LGhzrnzszsNGLoYrVavR76eVANB4/NOXfW7/e/JUnSCx07m80mzrnvBHecypjZTpMk6d3f37+maTrfddB0OvWPj4+98Xh8amZBsTGT1kMpy6iZWZqm88Fg8Dtw2Fno9zCT1kdpsQnJZ1LEOYbYzEw3k75j6Q53NLEpsXTHIbY4LN0RiG0P6qW77ioVW1EUHTNLnHMhw5Llctkp6ZFwQJWJLcuyTp7nX25ubtrtdnvnpSnPc18Uxe18Pn8ws9BZBkKViW2xWJx478+Hw+H8+vp6suu4p6en3mg0On97e2uX+XzYX2Vie9ftdoP2QZPJpLF7oLrh1gdkiA0yxAYZYoMMsUGmcr9GcVhVujCwMbbIB+WN/gaRpyRmf1ehZeAYf3l5+TVN027ol5VxYWBtbLE3G3ijv17sKUlRFJ0syz5fXFz8arVa+a7j8jz3ZnZ7d3f34+rqarbruLIuDGya2aJuNvBGf709T0k+DYfDnzGnK977vAoXBrbu2UJvNvBGf7vYU5K6n640+gfCHvsn9qURGhtb7P7JjH1prMbGFrt/MmNfGquxsb0L3QeZVW8vVBecIECG2CBDbJAhNsgQG2SIDTLEBhlig0zjX+ri3/Y4N1576ZLY8ME+58abLl0SGz6IPTfedumS2LBWzLmxbbh0yQ8EyBAbZIgNMsQGGWKDDLFBhtggQ2yQITbIEBtkiA0yxAYZYoMMsUGG2CBDbJAhNsgQG2SIDTLEBhligwyxQYbYIENskCE2yBAbZIgNMsQGGWKDDLFBhtggQ2yQITbIEBtktv7N6XQ69SEf+PLy4s3Msizzz8/P58c2rk7Pqh63rZU/Ag6bsYKv+HcAAAAASUVORK5CYII=\"></img></td>\n",
              "      <td id=\"T_6e525_row6_col5\" class=\"data row6 col5\" >0<br>(0.0%)</td>\n",
              "    </tr>\n",
              "    <tr>\n",
              "      <td id=\"T_6e525_row7_col0\" class=\"data row7 col0\" >8</td>\n",
              "      <td id=\"T_6e525_row7_col1\" class=\"data row7 col1\" ><strong>time</strong><br>[object]</td>\n",
              "      <td id=\"T_6e525_row7_col2\" class=\"data row7 col2\" >1. 12:00:00<br>2. 13:00:00<br>3. 11:00:00<br>4. 14:00:00<br>5. 10:00:00<br>6. 15:00:00<br>7. 09:00:00<br>8. 08:00:00<br>9. 18:00:00<br>10. 16:00:00<br>11. other</td>\n",
              "      <td id=\"T_6e525_row7_col3\" class=\"data row7 col3\" >1,634 (0.4%)<br>1,580 (0.3%)<br>1,577 (0.3%)<br>1,550 (0.3%)<br>1,541 (0.3%)<br>1,461 (0.3%)<br>1,446 (0.3%)<br>1,380 (0.3%)<br>1,375 (0.3%)<br>1,368 (0.3%)<br>445,864 (96.8%)</td>\n",
              "      <td id=\"T_6e525_row7_col4\" class=\"data row7 col4\" ><img src = \"data:image/png;base64, iVBORw0KGgoAAAANSUhEUgAAAJsAAAD+CAYAAAAtWHdlAAAAOXRFWHRTb2Z0d2FyZQBNYXRwbG90bGliIHZlcnNpb24zLjguMCwgaHR0cHM6Ly9tYXRwbG90bGliLm9yZy81sbWrAAAACXBIWXMAAA9hAAAPYQGoP6dpAAADpElEQVR4nO3cQWojVxhG0b+McNqTEkLgJSR78CJ6sb0ILSJ7MMY1iDueKIMEYtKdSaBvgXLOyGj0Bhc9SdTn5Xq9DhTu9j4A/x9iIyM2MmIjIzYyYiMjNjJiIyM2MsvMPMzMXK/Xt53Pwo07nM/nzzMzy7J8ERw/0t26rqd1XU8zc7/3YbhtPrORERsZsZERGxmxkREbGbGRERsZsZERGxmxkREbGbGRERsZsZERG5nDtm0vf/39vutJuHk2CGQW/zKLinc2MtZVZKyryPjpg4zYyIiNjNjIiI2M2MiIjYzYyIiNjNjIiI2M2MiIjYzYyIiNjMELGY+FkzF4IeOdjYzBCxmDFzJ++iAjNjJiIyM2MmIjIzYyYiMjNjJiIyM2MmIjIzYyYiMjNjJiI2PwQsZj4WQMXsj4zEbGNUrGuoqMdRUZn9nIiI2M2MiIjYzYyIiNjNjIiI2M2MiIjYzYyIiNjNjIiI2M2MhYV5HxWDgZ6yoy3tnIGLyQMXgh46cPMmIjIzYyYiMjNjJiIyM2MmIjIzYyYiMjNjJiIyM2MmIjIzYyBi9kPBZOxuCFjM9sZO6WZfllWZZPex+E23c3Mz/PzE97H4Tb5xolIzYyYiMjNjJiIyM2MmIjIzYyYiMjNjJiIyM2MmIjIzYyYiMjNjJ3M/PrzPy+90G4fQYvZFyjZMRGxrqKjHUVGdcoGbGRERsZsZERGxmxkREbGbGRERsZsZERGxmxkREbGbGRERsZgxcyBi9kXKNkxEbG4IWMwQsZ1ygZsZERGxmxkREbGbGRERsZsZERGxmxkREbGbGRERsZsZERGxmDFzIGL2Rco2TERkZsZKyryFhXkXGNkhEbGbGRERsZsZERGxmxkREbGbGRERsZsZERGxmxkREbGbGRsa4iY11FxjVKRmxkDF7IGLyQcY2SERsZsZERGxmxkREbGbGRERsZsZERGxmxkREbGbGRERsZsZExeCFj8ELGNUpmmZmHmbnf+yDcnPfr9fr28YXD+Xz+vK7raa8TcZu2bXtZluXLx+AO67qenp6e3o7H49c9D8fteH19/XS5XE7Pz8/3M/N3bDMzx+Px6+Pj42+7nY5b9PDPF3xBICM2MmIjIzYyYiMjNjJiIyM2MmIjIzYyYiMjNjJiI3OY+fORkL0Pwu34t54O27a9XC6X03znkRD4r7Zte5mZ94+veSycH+Wbx8Ktq8j4gkBGbGTERkZsZMRGRmxkxEZGbGTERuYPTHK/HvbJzb0AAAAASUVORK5CYII=\"></img></td>\n",
              "      <td id=\"T_6e525_row7_col5\" class=\"data row7 col5\" >0<br>(0.0%)</td>\n",
              "    </tr>\n",
              "    <tr>\n",
              "      <td id=\"T_6e525_row8_col0\" class=\"data row8 col0\" >9</td>\n",
              "      <td id=\"T_6e525_row8_col1\" class=\"data row8 col1\" ><strong>Type</strong><br>[object]</td>\n",
              "      <td id=\"T_6e525_row8_col2\" class=\"data row8 col2\" >1. Sonde<br>2. J6_Sonde<br>3. J2_Sonde</td>\n",
              "      <td id=\"T_6e525_row8_col3\" class=\"data row8 col3\" >399,307 (86.7%)<br>34,567 (7.5%)<br>26,902 (5.8%)</td>\n",
              "      <td id=\"T_6e525_row8_col4\" class=\"data row8 col4\" ><img src = \"data:image/png;base64, iVBORw0KGgoAAAANSUhEUgAAAJsAAABFCAYAAABdVZTTAAAAOXRFWHRTb2Z0d2FyZQBNYXRwbG90bGliIHZlcnNpb24zLjguMCwgaHR0cHM6Ly9tYXRwbG90bGliLm9yZy81sbWrAAAACXBIWXMAAA9hAAAPYQGoP6dpAAABmUlEQVR4nO3bTWrbUBiF4U/FhGYiYQxejBfRxXYR2o0x1qAJmaiDjkv8c3UcR8+zgIsGLxbX6HTzPBck/Hj0A7AeXVW9VtXLox+EL+djnue3lgdudrvdr77vty0P5flN03Tquu53y+A2fd9vD4fD2zAM760O5bmdz+ef4zhuj8fjS1W1i62qahiG9/1+/6fVoXwLr60PdEEgRmzEiI0YsREjNmLERozYiBEbMWIjRmzEiI0YsREjNmLERsym6t/3S49+EL6OpXrYTNN0GsdxWwt8v8TzmqbpVFUfLc+0QeB/mm8QOlM+Um75ZWtePOtw9bpqidUN63DVumqp1Q3rcMu6yq2Vm/hTlxixESM2YsRGjNiIERsxYiNGbMSIjRixESM2YsRGjNiIERsxV62rrLC4x9XrqiVWN6yDDQIx1lXEuCAQc+lr1KuTu1005TPfo4VPp3zme7Ry6ZTPfI+7uSAQIzZixEaM2IgRGzFiI0ZsxIiNGLERIzZixEaM2IgRGzFiI+bTKZ/5Hq1cNOUz36MFGwRiTPmI+QtKvKNKTnBc/AAAAABJRU5ErkJggg==\"></img></td>\n",
              "      <td id=\"T_6e525_row8_col5\" class=\"data row8 col5\" >0<br>(0.0%)</td>\n",
              "    </tr>\n",
              "    <tr>\n",
              "      <td id=\"T_6e525_row9_col0\" class=\"data row9 col0\" >10</td>\n",
              "      <td id=\"T_6e525_row9_col1\" class=\"data row9 col1\" ><strong>Numéro</strong><br>[object]</td>\n",
              "      <td id=\"T_6e525_row9_col2\" class=\"data row9 col2\" >1. extérieure<br>2. A16<br>3. A14<br>4. A13<br>5. A17<br>6. A01<br>7. A08<br>8. D23<br>9. A11<br>10. D25<br>11. other</td>\n",
              "      <td id=\"T_6e525_row9_col3\" class=\"data row9 col3\" >61,469 (13.3%)<br>49,219 (10.7%)<br>47,767 (10.4%)<br>46,846 (10.2%)<br>46,768 (10.1%)<br>42,019 (9.1%)<br>41,624 (9.0%)<br>40,782 (8.9%)<br>33,327 (7.2%)<br>28,365 (6.2%)<br>22,590 (4.9%)</td>\n",
              "      <td id=\"T_6e525_row9_col4\" class=\"data row9 col4\" ><img src = \"data:image/png;base64, iVBORw0KGgoAAAANSUhEUgAAAJsAAAD+CAYAAAAtWHdlAAAAOXRFWHRTb2Z0d2FyZQBNYXRwbG90bGliIHZlcnNpb24zLjguMCwgaHR0cHM6Ly9tYXRwbG90bGliLm9yZy81sbWrAAAACXBIWXMAAA9hAAAPYQGoP6dpAAAD5klEQVR4nO3cQWoUQQCG0RoZRDczhEAOk0N4WA8xtwkhvVBxMy4EcWW6p4tPjO8doMnio4Zu6s/her0OKLz7238A/w+xkREbGbGRERsZsZERGxmxkREbmcMY4+MY4/3k536/Xq9fJz+Tf9zx/v7+0+l0upv50GVZng+Hw2fB8bvj6XS6e3x8/Ho+n7/NeODLy8uHy+Vy9/T09H6MITZ+OY4xxvl8/vbw8PBl4nM/TnwWb4QXBDJiIyM2MmIjIzYyYiMjNjJiIyM2MmIjIzYyYiMjNjJiI3Mc4+cdtFkPnPks3pbjsizPl8vlbky8g7Ysy/MY4/us5/E22CCQOfiXWVRmnWxOMl41ZV1lTcUau9dV1lSsNWtdZU3Fq3zUJSM2MmIjIzYyYiMjNjJiIyM2MmIjIzYyYiMjNjJiI7N78GLgwlpTBi8GLqzhWjgZgxcyM042pxqr7B68GLuw1q7Bi7ELW8wYvBi7sIqPumTERkZsZMRGRmxkxEZGbGTERkZsZMRGRmxkxEZGbGR2DV6MXdhi9+DF2IW1XAsnY/BCxgsCGT+jZKyryFhXkbGuIuMFgYzYyIiNjNjIiI2M2MiIjYzYyIiNjNjIiI2M2MiIjYx1FRnrKjKuhZOxriLjZCNj8ELG4IWMwQsZH3XJiI2M2MiIjYzYyIiNjNjIiI2M2MiIjYzYyIiNjNjIGLyQMXgh41o4GYMXMntONicam9w8eDF0YaubBi+GLtxiz+DF0IVNfNQlIzYyYiMjNjJiIyM2MmIjIzYyYiMjNjJiIyM2MmIjIzYyN62rrKq4xc3rKqsqtrJBIGNdRcbJRsa6iox1FRnrKjI+6pIRGxmxkREbGbGRERsZsZERGxmxkREbGbGRERsZsZExeCFj8ELGtXAyBi9knGxkDF7IGLyQMXgh46MuGbGRERsZsZERGxmxkREbGbGRERsZsZERGxmxkREbGYMXMgYvZFwLJ2PwQsYLApmtP6N+OrnZpnWVRRV7rF5XWVSx19Z1lUUVN/OCQEZsZMRGRmxkxEZGbGTERkZsZMRGRmxkxEZGbGTERmb1usqiir02rassqtjDtXAy1lVktpxsTjV2WT14MXZhr1WDF2MXZtgyeDF2YRcfdcmIjYzYyIiNjNjIiI2M2MiIjYzYyIiNjNjIiI2M2MisGrwYuzDD6sGLsQt7uRZOxuCFzJqTzYnGFK8OXgxdmOWPgxdDF2ZaM3gxdGEKH3XJiI2M2MiIjYzYyIiNjNjIiI2M2MiIjYzYyIiNjNjI/HHwYujCTK8OXgxdmMW1cDIGL2S8IJARGxmxkREbGbGRERsZsZERGxmxkfkBmWtO4i61sZAAAAAASUVORK5CYII=\"></img></td>\n",
              "      <td id=\"T_6e525_row9_col5\" class=\"data row9 col5\" >0<br>(0.0%)</td>\n",
              "    </tr>\n",
              "    <tr>\n",
              "      <td id=\"T_6e525_row10_col0\" class=\"data row10 col0\" >11</td>\n",
              "      <td id=\"T_6e525_row10_col1\" class=\"data row10 col1\" ><strong>Orientation</strong><br>[object]</td>\n",
              "      <td id=\"T_6e525_row10_col2\" class=\"data row10 col2\" >1. SW<br>2. SE<br>3. None<br>4. S+W</td>\n",
              "      <td id=\"T_6e525_row10_col3\" class=\"data row10 col3\" >251,366 (54.6%)<br>119,576 (26.0%)<br>61,469 (13.3%)<br>28,365 (6.2%)</td>\n",
              "      <td id=\"T_6e525_row10_col4\" class=\"data row10 col4\" ><img src = \"data:image/png;base64, iVBORw0KGgoAAAANSUhEUgAAAJsAAABcCAYAAAB5jMeAAAAAOXRFWHRTb2Z0d2FyZQBNYXRwbG90bGliIHZlcnNpb24zLjguMCwgaHR0cHM6Ly9tYXRwbG90bGliLm9yZy81sbWrAAAACXBIWXMAAA9hAAAPYQGoP6dpAAAB9UlEQVR4nO3bQWrbQACF4VERodlIGIMP40P0sD2EbmOMtWhCNsqim5ba4NTSkzL5vhMM5kdmhF4zTVOBhG9rH4CvQ2zENKWU51LK09oHqczbNE0vax9ia9r9fv+j67rd2gepyTiO56Zpfgrub23Xdbvj8fjS9/3r2oepweVy+T4Mw+50Oj2VUsT2h7aUUvq+fz0cDr/WPkxFntc+wBa5IBAjNmLERozYiBEbMWIjRmzEiI0YsREjNmLERozYiBEbMW0pvz+LWfsgtfBb3taO43gehmFXfBYzm3Ecz6WUt7XPsTU+C1+Gz8KvaEz5SHFBIOYz/I36S6rE5tdVlkr12PS6ylKpLp9hXeWVTCVcEIgRGzFiI0ZsxIiNGLERIzZixEaM2IgRGzFiI0ZsxIiNGLERs+kp31bPxf/Z/JTPLK4eNgjEmPIRs9STzdOIfyyyrrKI4prZ11UWUdyy1Lpqkzdb1uWlLjFiI0ZsxIiNGLERIzZixEaM2IgRGzFiI0ZsxIiNGLERIzZiZl9XWURxyyLrKosorrFBIMa6ipiPPNk8rXjI3esqiykedde6ymKKOXxkXWUxxUO81CVGbMSIjRixESM2YsRGjNiIERsxYiNGbMSIjRixESM2YsRGzF3rKosp5nD3uspiikfZIBBjXUWMCwIx7yec2LngJjufAAAAAElFTkSuQmCC\"></img></td>\n",
              "      <td id=\"T_6e525_row10_col5\" class=\"data row10 col5\" >61,469<br>(13.3%)</td>\n",
              "    </tr>\n",
              "    <tr>\n",
              "      <td id=\"T_6e525_row11_col0\" class=\"data row11 col0\" >12</td>\n",
              "      <td id=\"T_6e525_row11_col1\" class=\"data row11 col1\" ><strong>Réplicat</strong><br>[object]</td>\n",
              "      <td id=\"T_6e525_row11_col2\" class=\"data row11 col2\" >1. 89<br>2. 87<br>3. 86<br>4. 80<br>5. 74<br>6. 71<br>7. 96<br>8.  Bat D<br>9. 84<br>10. 98<br>11. other</td>\n",
              "      <td id=\"T_6e525_row11_col3\" class=\"data row11 col3\" >49,219 (10.7%)<br>47,767 (10.4%)<br>46,846 (10.2%)<br>46,768 (10.1%)<br>42,019 (9.1%)<br>41,624 (9.0%)<br>40,782 (8.9%)<br>34,567 (7.5%)<br>33,327 (7.2%)<br>28,365 (6.2%)<br>49,492 (10.7%)</td>\n",
              "      <td id=\"T_6e525_row11_col4\" class=\"data row11 col4\" ><img src = \"data:image/png;base64, iVBORw0KGgoAAAANSUhEUgAAAJsAAAD+CAYAAAAtWHdlAAAAOXRFWHRTb2Z0d2FyZQBNYXRwbG90bGliIHZlcnNpb24zLjguMCwgaHR0cHM6Ly9tYXRwbG90bGliLm9yZy81sbWrAAAACXBIWXMAAA9hAAAPYQGoP6dpAAAD80lEQVR4nO3dQWojRwCG0VIQQ2YjYQw+jA+Rw+YQuo0x1iIzzEZZZBtlurrEF/C8t7fQ4qNEN/27D7fbbUDht//7C/DrEBsZsZERGxmxkREbGbGRERsZsZE5jDG+jjG+LH7Oj9vt9u0B34dP7Pj8/PzH6XR6WvmQ6/X6fjgc/hQc/+V4Op2eXl9fv53P5+97PuDj4+P3y+Xy9Pb29mWMITbuOo4xxvl8/v7y8vLXwud8fdD34RNzgUBGbGTERkZsZMRGRmxkxEZGbGTERkZsZMRGRmxkxEZGbGSOY/zzTNreD1j5W34tx+v1+n65XJ7GwjNp1+v1fYzx43Ffi8/IBoHMwb/MovKIk82pxibL6yrLKrZaWldZVjHjEesqyyo2cVOXjNjIiI2M2MiIjYzYyIiNjNjIiI2M2MiIjYzYyIiNzNLgxdiFGcuDF2MXtvJYOBmDFzJONjIGL2QMXsgYvJBxU5eM2MiIjYzYyIiNjNjIiI2M2MiIjYzYyIiNjNjIiI2MwQsZgxcyHgsnY/BCxgUCGT+jZKyryFhXkbGuIuMCgYzYyIiNjNjIiI2M2MiIjYzYyIiNjNjIiI2M2MiIjYx1FRnrKjIeCydjXUVm5WRzojFl9+DF0IVZuwYvhi7ssTJ4MXRhipu6ZMRGRmxkxEZGbGTERkZsZMRGRmxkxEZGbGTERkZsZHYNXgxd2GP34MXQhVkeCydj8ELGyUbG4IWMwQsZgxcybuqSERsZsZERGxmxkREbGbGRERsZsZERGxmxkREbGbGRERsZ6yoy1lVkbBDIWFeRcbKRsa4iY11FxrqKjJu6ZMRGRmxkxEZGbGTERkZsZMRGRmxkxEZGbGTERkZsZAxeyBi8kPFYOBmDFzJ7TjYnGrtMD14MXdhravBi6MKKPYMXQxd2cVOXjNjIiI2M2MiIjYzYyIiNjNjIiI2M2MiIjYzYyIiNzNTgxdCFFdODF0MX9vJYOBmDFzIuEMjM/oz6CWW3qXWVZRUrNq+rLKtYNbuusqxiNxcIZMRGRmxkxEZGbGTERkZsZMRGRmxkxEZGbGTERkZsZDavqyyrWDW1rrKsYoXHwslYV5GZOdmcaizZPHgxdmHVpsGLsQuPMDN4MXZhiZu6ZMRGRmxkxEZGbGTERkZsZMRGRmxkxEZGbGTERkZsZDYNXoxdeITNgxdjF1Z5LJyMwQuZPS9K+zdOPX5q6g0v9xjDsMXmN7zcYwzDVrNveLnHGIafclOXjNjIiI2M2MiIjYzYyIiNjNjIiI2M2MiIjYzYyIiNzOY3vNxjDMNWU294uccYhi08Fk7G4IWMCwQyYiMjNjJiIyM2MmIjIzYyYiMjNjJ/A5lrTuIhgNUFAAAAAElFTkSuQmCC\"></img></td>\n",
              "      <td id=\"T_6e525_row11_col5\" class=\"data row11 col5\" >0<br>(0.0%)</td>\n",
              "    </tr>\n",
              "  </tbody>\n",
              "</table>\n"
            ]
          },
          "metadata": {},
          "execution_count": 41
        }
      ]
    },
    {
      "cell_type": "code",
      "source": [
        "# Trouver toutes les modalités uniques dans la colonne 'Équipement'\n",
        "modalites = AIH['Type'].unique()\n",
        "\n",
        "# Afficher les modalités\n",
        "print(modalites)"
      ],
      "metadata": {
        "colab": {
          "base_uri": "https://localhost:8080/"
        },
        "id": "32GTUKYGz5hg",
        "outputId": "8042171e-f30a-4ca0-b139-f0de1a259a16"
      },
      "execution_count": 51,
      "outputs": [
        {
          "output_type": "stream",
          "name": "stdout",
          "text": [
            "['Sonde Intérieur' 'Sonde Extérieur']\n"
          ]
        }
      ]
    },
    {
      "cell_type": "code",
      "source": [
        "# Fonction pour nettoyer la colonne 'Type' et extraire 'Numéro'\n",
        "def nettoyer_type_et_numero(row):\n",
        "    if row['Type'].startswith('J'):\n",
        "        numero, type_equipement = row['Type'].split('_', 1)\n",
        "        return type_equipement, numero\n",
        "    return row['Type'], row['Numéro']\n",
        "\n",
        "# Appliquer la fonction pour mettre à jour 'Type' et 'Numéro'\n",
        "AIH[['Type', 'Numéro']] = AIH.apply(\n",
        "    lambda row: pd.Series(nettoyer_type_et_numero(row)), axis=1\n",
        ")"
      ],
      "metadata": {
        "colab": {
          "base_uri": "https://localhost:8080/"
        },
        "id": "dNgBGqH14NCX",
        "outputId": "a9951ed1-bade-445c-9b52-b03247615d5b"
      },
      "execution_count": 46,
      "outputs": [
        {
          "output_type": "stream",
          "name": "stdout",
          "text": [
            "                  Date       Équipement     Commande Type Générique Valeur  \\\n",
            "0  2020-08-07 16:40:00  Sonde_A08_SW_71  Température    TEMPERATURE  26,51   \n",
            "1  2020-08-07 16:50:00  Sonde_A08_SW_71  Température    TEMPERATURE  26,51   \n",
            "2  2020-08-07 16:56:16  Sonde_A08_SW_71  Température    TEMPERATURE  26,51   \n",
            "3  2020-08-07 20:28:03  Sonde_A08_SW_71  Température    TEMPERATURE  26,35   \n",
            "4  2020-08-07 21:22:35  Sonde_A08_SW_71  Température    TEMPERATURE   26,2   \n",
            "\n",
            "  Unité       date      time   Type Numéro Orientation Réplicat  \n",
            "0    °C 2020-08-07  16:40:00  Sonde    A08          SW       71  \n",
            "1    °C 2020-08-07  16:50:00  Sonde    A08          SW       71  \n",
            "2    °C 2020-08-07  16:56:16  Sonde    A08          SW       71  \n",
            "3    °C 2020-08-07  20:28:03  Sonde    A08          SW       71  \n",
            "4    °C 2020-08-07  21:22:35  Sonde    A08          SW       71  \n"
          ]
        }
      ]
    },
    {
      "cell_type": "code",
      "source": [
        "# Trouver toutes les modalités uniques dans la colonne 'Équipement'\n",
        "modalites = AIH['Numéro'].unique()\n",
        "\n",
        "# Afficher les modalités\n",
        "print(modalites)"
      ],
      "metadata": {
        "colab": {
          "base_uri": "https://localhost:8080/"
        },
        "id": "q-ZN-Z1OzwVE",
        "outputId": "e7ce834e-8900-4d7a-b877-c68607c1a919"
      },
      "execution_count": 48,
      "outputs": [
        {
          "output_type": "stream",
          "name": "stdout",
          "text": [
            "['A08' 'A01' 'A03' 'A17' 'A11' 'A13' 'A14' 'D23' 'A16' 'D25' 'J2' 'J6']\n"
          ]
        }
      ]
    },
    {
      "cell_type": "code",
      "source": [
        "# Fonction de nettoyage\n",
        "def nettoyer_type(data):\n",
        "    if data.startswith('Sonde'):\n",
        "        return 'Sonde Intérieur'\n",
        "    elif data.startswith('J'):\n",
        "        return 'Sonde Extérieur'\n",
        "    return data\n",
        "\n",
        "# Appliquer la fonction de nettoyage à la colonne 'Objets'\n",
        "AIH['Type'] = AIH['Équipement'].apply(nettoyer_type)\n"
      ],
      "metadata": {
        "id": "GPiArJto6x4V"
      },
      "execution_count": 50,
      "outputs": []
    },
    {
      "cell_type": "code",
      "source": [
        "# Trouver toutes les modalités uniques dans la colonne 'Équipement'\n",
        "modalites = AIH['Orientation'].unique()\n",
        "\n",
        "# Afficher les modalités\n",
        "print(modalites)"
      ],
      "metadata": {
        "colab": {
          "base_uri": "https://localhost:8080/"
        },
        "id": "obgId1C4zdi-",
        "outputId": "1301a387-70da-4267-8581-6852d3fcb491"
      },
      "execution_count": 58,
      "outputs": [
        {
          "output_type": "stream",
          "name": "stdout",
          "text": [
            "['SW' 'SE' 'S+W' ' Bat A1' ' Bat D']\n"
          ]
        }
      ]
    },
    {
      "cell_type": "code",
      "source": [
        "# Trouver toutes les modalités uniques dans la colonne 'Équipement'\n",
        "modalites = AIH['Réplicat'].unique()\n",
        "\n",
        "# Afficher les modalités\n",
        "print(modalites)"
      ],
      "metadata": {
        "colab": {
          "base_uri": "https://localhost:8080/"
        },
        "id": "dZyCg2pp8LQ4",
        "outputId": "39765f08-fe13-4fc8-dc97-a30dd839c2c5"
      },
      "execution_count": 57,
      "outputs": [
        {
          "output_type": "stream",
          "name": "stdout",
          "text": [
            "['71' '74' '76' '80' '84' '86' '87' '96' '89' '98' ' Bat A1' ' Bat D']\n"
          ]
        }
      ]
    },
    {
      "cell_type": "code",
      "source": [
        "# Fonction pour déplacer les valeurs \"Bat A1\" et \"Bat D\" vers la colonne Orientation\n",
        "def déplacer_bat_vers_orientation(row):\n",
        "    if 'Bat' in row['Réplicat']:\n",
        "        # Si la valeur dans 'Réplicat' contient \"Bat\", déplacez-la dans 'Orientation'\n",
        "        row['Orientation'] = row['Réplicat'] if pd.notna(row['Orientation']) else row['Réplicat']\n",
        "    return row\n",
        "\n",
        "# Appliquer la fonction à chaque ligne du DataFrame\n",
        "AIH = AIH.apply(déplacer_bat_vers_orientation, axis=1)\n"
      ],
      "metadata": {
        "id": "6OFagmMS-v3v"
      },
      "execution_count": 56,
      "outputs": []
    },
    {
      "cell_type": "markdown",
      "source": [
        "Verification du nombre de valeur NA"
      ],
      "metadata": {
        "id": "1CXs2pY6lvkm"
      }
    },
    {
      "cell_type": "code",
      "source": [
        "print(val_roland.isna().sum())"
      ],
      "metadata": {
        "colab": {
          "base_uri": "https://localhost:8080/"
        },
        "id": "Xe16U15OlCPU",
        "outputId": "ab669680-26ee-4aff-cc43-f1cd863c1f4a"
      },
      "execution_count": null,
      "outputs": [
        {
          "output_type": "stream",
          "name": "stdout",
          "text": [
            "Équipement            0\n",
            "Commande              0\n",
            "Type Générique    42868\n",
            "Valeur                0\n",
            "Unité                 0\n",
            "date                  0\n",
            "time                  0\n",
            "Logement              0\n",
            "Lettre                0\n",
            "Pilote                0\n",
            "dtype: int64\n"
          ]
        }
      ]
    },
    {
      "cell_type": "code",
      "source": [
        "msno.matrix(val_roland)"
      ],
      "metadata": {
        "colab": {
          "base_uri": "https://localhost:8080/",
          "height": 469
        },
        "id": "mF_X9gKaWQJk",
        "outputId": "eeafe696-2a4c-4190-8b72-122ef12a32d3"
      },
      "execution_count": null,
      "outputs": [
        {
          "output_type": "execute_result",
          "data": {
            "text/plain": [
              "<Axes: >"
            ]
          },
          "metadata": {},
          "execution_count": 107
        },
        {
          "output_type": "display_data",
          "data": {
            "text/plain": [
              "<Figure size 2500x1000 with 2 Axes>"
            ],
            "image/png": "[encoded data removed]"
          },
          "metadata": {}
        }
      ]
    },
    {
      "cell_type": "markdown",
      "source": [],
      "metadata": {
        "id": "WDMEfzvCoIZ5"
      }
    },
    {
      "cell_type": "code",
      "source": [
        "# Description pour comprendre les données et mettre en suite le tableau en forme\n",
        "dfSummary(val_roland)"
      ],
      "metadata": {
        "colab": {
          "base_uri": "https://localhost:8080/",
          "height": 1000
        },
        "id": "vxCexZDtn0qI",
        "outputId": "a89dd7c3-8dfd-46a9-946f-8f9fab8f6d1f"
      },
      "execution_count": null,
      "outputs": [
        {
          "output_type": "execute_result",
          "data": {
            "text/plain": [
              "<pandas.io.formats.style.Styler at 0x7a51472beec0>"
            ],
            "text/html": [
              "<style type=\"text/css\">\n",
              "#T_1b6ac thead>tr>th {\n",
              "  text-align: left;\n",
              "}\n",
              "#T_1b6ac_row0_col0, #T_1b6ac_row1_col0, #T_1b6ac_row2_col0, #T_1b6ac_row3_col0, #T_1b6ac_row4_col0, #T_1b6ac_row5_col0, #T_1b6ac_row6_col0, #T_1b6ac_row7_col0, #T_1b6ac_row8_col0, #T_1b6ac_row9_col0 {\n",
              "  text-align: left;\n",
              "  font-size: 12px;\n",
              "  vertical-align: middle;\n",
              "  width: 5%;\n",
              "  max-width: 50px;\n",
              "  min-width: 20px;\n",
              "}\n",
              "#T_1b6ac_row0_col1, #T_1b6ac_row1_col1, #T_1b6ac_row2_col1, #T_1b6ac_row3_col1, #T_1b6ac_row4_col1, #T_1b6ac_row5_col1, #T_1b6ac_row6_col1, #T_1b6ac_row7_col1, #T_1b6ac_row8_col1, #T_1b6ac_row9_col1 {\n",
              "  text-align: left;\n",
              "  font-size: 12px;\n",
              "  vertical-align: middle;\n",
              "  width: 15%;\n",
              "  max-width: 200px;\n",
              "  min-width: 100px;\n",
              "  word-break: break-word;\n",
              "}\n",
              "#T_1b6ac_row0_col2, #T_1b6ac_row1_col2, #T_1b6ac_row2_col2, #T_1b6ac_row3_col2, #T_1b6ac_row4_col2, #T_1b6ac_row5_col2, #T_1b6ac_row6_col2, #T_1b6ac_row7_col2, #T_1b6ac_row8_col2, #T_1b6ac_row9_col2 {\n",
              "  text-align: left;\n",
              "  font-size: 12px;\n",
              "  vertical-align: middle;\n",
              "  width: 30%;\n",
              "  min-width: 100px;\n",
              "}\n",
              "#T_1b6ac_row0_col3, #T_1b6ac_row1_col3, #T_1b6ac_row2_col3, #T_1b6ac_row3_col3, #T_1b6ac_row4_col3, #T_1b6ac_row5_col3, #T_1b6ac_row6_col3, #T_1b6ac_row7_col3, #T_1b6ac_row8_col3, #T_1b6ac_row9_col3 {\n",
              "  text-align: left;\n",
              "  font-size: 12px;\n",
              "  vertical-align: middle;\n",
              "  width: 25%;\n",
              "  min-width: 100px;\n",
              "}\n",
              "#T_1b6ac_row0_col4, #T_1b6ac_row1_col4, #T_1b6ac_row2_col4, #T_1b6ac_row3_col4, #T_1b6ac_row4_col4, #T_1b6ac_row5_col4, #T_1b6ac_row6_col4, #T_1b6ac_row7_col4, #T_1b6ac_row8_col4, #T_1b6ac_row9_col4 {\n",
              "  text-align: left;\n",
              "  font-size: 12px;\n",
              "  vertical-align: middle;\n",
              "  width: 20%;\n",
              "  min-width: 150px;\n",
              "}\n",
              "#T_1b6ac_row0_col5, #T_1b6ac_row1_col5, #T_1b6ac_row2_col5, #T_1b6ac_row3_col5, #T_1b6ac_row4_col5, #T_1b6ac_row5_col5, #T_1b6ac_row6_col5, #T_1b6ac_row7_col5, #T_1b6ac_row8_col5, #T_1b6ac_row9_col5 {\n",
              "  text-align: left;\n",
              "  font-size: 12px;\n",
              "  vertical-align: middle;\n",
              "  width: 10%;\n",
              "}\n",
              "</style>\n",
              "<table id=\"T_1b6ac\" class=\"dataframe\">\n",
              "  <caption><strong>Data Frame Summary</strong><br>val_roland<br>Dimensions: 43,091 x 10<br>Duplicates: 0</caption>\n",
              "  <thead>\n",
              "    <tr>\n",
              "      <th id=\"T_1b6ac_level0_col0\" class=\"col_heading level0 col0\" >No</th>\n",
              "      <th id=\"T_1b6ac_level0_col1\" class=\"col_heading level0 col1\" >Variable</th>\n",
              "      <th id=\"T_1b6ac_level0_col2\" class=\"col_heading level0 col2\" >Stats / Values</th>\n",
              "      <th id=\"T_1b6ac_level0_col3\" class=\"col_heading level0 col3\" >Freqs / (% of Valid)</th>\n",
              "      <th id=\"T_1b6ac_level0_col4\" class=\"col_heading level0 col4\" >Graph</th>\n",
              "      <th id=\"T_1b6ac_level0_col5\" class=\"col_heading level0 col5\" >Missing</th>\n",
              "    </tr>\n",
              "  </thead>\n",
              "  <tbody>\n",
              "    <tr>\n",
              "      <td id=\"T_1b6ac_row0_col0\" class=\"data row0 col0\" >1</td>\n",
              "      <td id=\"T_1b6ac_row0_col1\" class=\"data row0 col1\" ><strong>Équipement</strong><br>[object]</td>\n",
              "      <td id=\"T_1b6ac_row0_col2\" class=\"data row0 col2\" >1. Conso_Total_index<br>2. Thermostat<br>3. Conso_horaire<br>4. Chauffage<br>5. Ballon_Eau<br>6. Occupation_Hier<br>7. TV-Frigo<br>8. Occupation_Aujourdhui</td>\n",
              "      <td id=\"T_1b6ac_row0_col3\" class=\"data row0 col3\" >19,261 (44.7%)<br>10,942 (25.4%)<br>7,486 (17.4%)<br>4,992 (11.6%)<br>116 (0.3%)<br>109 (0.3%)<br>98 (0.2%)<br>87 (0.2%)</td>\n",
              "      <td id=\"T_1b6ac_row0_col4\" class=\"data row0 col4\" ><img src = \"data:image/png;base64, iVBORw0KGgoAAAANSUhEUgAAAJsAAAC4CAYAAAD0WZ4UAAAAOXRFWHRTb2Z0d2FyZQBNYXRwbG90bGliIHZlcnNpb24zLjguMCwgaHR0cHM6Ly9tYXRwbG90bGliLm9yZy81sbWrAAAACXBIWXMAAA9hAAAPYQGoP6dpAAADA0lEQVR4nO3cQUocUQBF0V/SmGTSjQguIdmDi8his4heRPYgYg2icdIZBDIKUUh7qyjPWcFHLvWppp7T6XQaULhY+gC8H2IjIzYyYiMjNjJiIzONMT6NMS6XPsjKPJ9Op8elD7E1u+vr66/7/f5q6YOsyTzP99M0fRPcee32+/3V7e3t4+FweFr6MGvw8PDw8Xg8Xt3d3V2OMcR2RrsxxjgcDk83Nzc/lj7Minxa+gBb5AWBjNjIiI2M2MiIjYzYyIiNjNjIiI2M2MiIjYzYyIiNzG6M35/VLH2QtfC3eDu7eZ7vj8fj1fBZzR/zPN+PMZ6XPsfW+Cz873wW/gYm/36BytqfbJ4wG7LqwYvhybasdvBieLI9ax+8eEPeED/qkhEbGbGRERsZsZERGxmxkREbGbGRERsZsZERGxmxkVnt4GWNZ+L/rHrwYniyLT4LJ2PwQsYLApn6GnUtvmPpuspa6n3L1lXWUtTrqtX9vELHCwIZsZERGxmxkREbGbGRERsZsZERGxmxkREbGbGRERuZbF1lLUW6rrKWet98Fk7GuorMOZ9snlr809kGL8YsvOQsgxdjFl7jnIMXYxb+yY+6ZMRGRmxkxEZGbGTERkZsZMRGRmxkxEZGbGTERkZsZM4yeDFm4TXONngxZuElPgsnY/BCxgsCGbGRuZim6cs0Td4meXMXY4zPY4wPSx+E7XONkhEbGbGRERsZsZERGxmxkREbGbGRERsZsZERGxmxkREbGbGRuRhjfB9j/Fz6IGyfwQsZ1ygZsZExeCFj8ELGNUpGbGTERkZsZMRGRmxkxEZGbGTERkZsZMRGRmxkxEZGbGTERkZsZKyryFhXkXGNkhEbGesqMtZVZFyjZMRGRmxkxEZGbGTERkZsZMRGRmxkxEZGbGTERkZsZMRGRmxkDF7IGLyQcY2SERsZgxcyBi9kXKNkxEZGbGTERkZsZMRGRmxkxEZGbGTERkZsZMRGRmxkxEZGbGTERsa6iox1FRnXKBmxkREbGbGRERsZsZH5Bb057jWeTR8NAAAAAElFTkSuQmCC\"></img></td>\n",
              "      <td id=\"T_1b6ac_row0_col5\" class=\"data row0 col5\" >0<br>(0.0%)</td>\n",
              "    </tr>\n",
              "    <tr>\n",
              "      <td id=\"T_1b6ac_row1_col0\" class=\"data row1 col0\" >2</td>\n",
              "      <td id=\"T_1b6ac_row1_col1\" class=\"data row1 col1\" ><strong>Commande</strong><br>[object]</td>\n",
              "      <td id=\"T_1b6ac_row1_col2\" class=\"data row1 col2\" >1. TIC_enedis<br>2. TemperatureReelle<br>3. Conso_Total_kw/h<br>4. Chauffage_Conso<br>5. Chauffage_Conso_Total<br>6. Chauffage_OnOff<br>7. Presence_absence<br>8. Ballon_OnOff<br>9. TV-Frigo_OnOff<br>10. TemperatureDesiree</td>\n",
              "      <td id=\"T_1b6ac_row1_col3\" class=\"data row1 col3\" >19,261 (44.7%)<br>10,872 (25.2%)<br>7,486 (17.4%)<br>1,936 (4.5%)<br>1,629 (3.8%)<br>1,427 (3.3%)<br>196 (0.5%)<br>116 (0.3%)<br>98 (0.2%)<br>70 (0.2%)</td>\n",
              "      <td id=\"T_1b6ac_row1_col4\" class=\"data row1 col4\" ><img src = \"data:image/png;base64, iVBORw0KGgoAAAANSUhEUgAAAJsAAADnCAYAAAAJgSQ2AAAAOXRFWHRTb2Z0d2FyZQBNYXRwbG90bGliIHZlcnNpb24zLjguMCwgaHR0cHM6Ly9tYXRwbG90bGliLm9yZy81sbWrAAAACXBIWXMAAA9hAAAPYQGoP6dpAAAD00lEQVR4nO3dwW3bZgCG4Z+GkDYXCYYAj9Du4CEybIfQEN3BMKxDk+aiHpL2Ess5lHxJyM8zwQ/jBWkS/OzpcrkMKNytfQDeD7GRERsZsZERGxmxkREbGbGRERuZaYzxcYzxYe2DbMzXy+Xyee1D3Jrd8Xj8tN/v79c+yJacz+fnaZr+ENy8dvv9/v7x8fHz4XD4svZhtuDl5eXX0+l0//T09GGMIbYZ7cYY43A4fHl4ePhr7cNsyMe1D3CLPCCQERsZsZERGxmxkREbGbGRERsZsZERGxmxkREbGbGR2Y3x7bOatQ+yFX4Wy9mdz+fn0+l0P3xW85/z+fw8xvi69jlujc/CX+ez8AVM/ooRla1f2VxhbsimBy+GJ7dls4MXw5Pbs/XBiyfkG+KlLhmxkREbGbGRERsZsZERGxmxkREbGbGRERsZsZERG5nNDl62eCb+n00PXgxPbovPwskYvJCpr2yuVO9YOngxYHnfssGLAQv14GVzT7x0vNQlIzYyYiMjNjJiIyM2MmIjIzYyYiMjNjJiIyM2MmIjIzYy2brKWop0XWUt9b7ZIJCxriLzsyubKxGzeXNdZQ3FnK6uq6yhmNvP1lXWUMzGS10yYiMjNjJiIyM2MmIjIzYyYiMjNjJiIyM2MmIjIzYyVwcvBirM7c3Bi4EKc/JZOBmDFzJvXdlc1ZjV1cGLsQtze3XwYuzCEt4avBi7MCsvdcmIjYzYyIiNjNjIiI2M2MiIjYzYyIiNjNjIiI2M2Mi8OngxdmEJVwcvxi7MzWfhZAxeyHhAIHPtNuoWyuxeXVdZVrGEH9ZVllUs5dq6yrKK2XlAICM2MmIjIzYyYiMjNjJiIyM2MmIjIzYyYiMjNjJiI/PDusqyiqW8uq6yrGIJPgsnY11F5t8r23AlY2m74/H4aYwxDFxY2t1+v7//vq669m8gYRbes5ERGxmxkREbGbGRERsZsZERGxmxkREbGbGRERsZsZERGxmxkdl9H7eMYeDCwnwWTsbghYzf2ciIjczdNE2/T9PkTy6wuLsxxm9jjF/WPgi3z22UjNjIiI2M2MiIjYzYyIiNjNjIiI2M2MiIjYzYyIiNjNjIiI3M3RjjzzHG32sfhNtn8ELGbZSM2MgYvJAxeCHjNkpGbGTERkZsZMRGRmxkxEZGbGTERkZsZMRGRmxkxEZGbGTERsbghYzBCxm3UTJiI2PwQsbghYzbKBmxkREbGbGRERsZsZERGxmxkREbGbGRERsZsZERGxmxkREbGbGRsa4iY11Fxm2UjNjIiI2M2MiIjYzYyIiNjNjI/ANCMmlWN6g2QAAAAABJRU5ErkJggg==\"></img></td>\n",
              "      <td id=\"T_1b6ac_row1_col5\" class=\"data row1 col5\" >0<br>(0.0%)</td>\n",
              "    </tr>\n",
              "    <tr>\n",
              "      <td id=\"T_1b6ac_row2_col0\" class=\"data row2 col0\" >3</td>\n",
              "      <td id=\"T_1b6ac_row2_col1\" class=\"data row2 col1\" ><strong>Type Générique</strong><br>[object]</td>\n",
              "      <td id=\"T_1b6ac_row2_col2\" class=\"data row2 col2\" >1. nan<br>2. ALARM_STATE<br>3. THERMOSTAT_SETPOINT</td>\n",
              "      <td id=\"T_1b6ac_row2_col3\" class=\"data row2 col3\" >42,868 (99.5%)<br>153 (0.4%)<br>70 (0.2%)</td>\n",
              "      <td id=\"T_1b6ac_row2_col4\" class=\"data row2 col4\" ><img src = \"data:image/png;base64, iVBORw0KGgoAAAANSUhEUgAAAJsAAABFCAYAAABdVZTTAAAAOXRFWHRTb2Z0d2FyZQBNYXRwbG90bGliIHZlcnNpb24zLjguMCwgaHR0cHM6Ly9tYXRwbG90bGliLm9yZy81sbWrAAAACXBIWXMAAA9hAAAPYQGoP6dpAAABeklEQVR4nO3csW3bUBiF0f8RRBw3JAQCGsHZQUO49Z4ZQkNkCUEsYlsNXdgeQfcB9DmVylt8EEmBT23btoKEofcAfo5WVY9V9av3EHbvNi7L8jxN06H3EvZtXdfLOE3T4XQ6vc7z/NZ7EPt0vV5/n8/nw1hVNc/z2/F4/N97FLv26AGBGLERIzZixEaM2IgRGzFiI0ZsxIiNGLERIzZixEaM2IgRGzFj1ef7Rr2HsF/ffbVlWV68qcu9ret6cQaBlFtzlI+U72+22rbttfMWdm5cluW5qqq19ldw3NMwTdPh6wHBfRt35Xc2YsRGjNiIERsxYiNGbMSIjRixESM2YsRGjNiIERsxYiNGbMSIjRixETOu63r5+nzruoTdcwaBGKeriHHPRozYiBlaa39aa/7rg7sbquqpqh56D2H/XEaJERsxYiNGbMSIjRixESM2YsRGjNiIERsxYiNGbMSIjRixESM2YsRGzFBV/6rqvfcQ9s/pKmJcRon5ACasPKRhHTSDAAAAAElFTkSuQmCC\"></img></td>\n",
              "      <td id=\"T_1b6ac_row2_col5\" class=\"data row2 col5\" >42,868<br>(99.5%)</td>\n",
              "    </tr>\n",
              "    <tr>\n",
              "      <td id=\"T_1b6ac_row3_col0\" class=\"data row3 col0\" >4</td>\n",
              "      <td id=\"T_1b6ac_row3_col1\" class=\"data row3 col1\" ><strong>Valeur</strong><br>[object]</td>\n",
              "      <td id=\"T_1b6ac_row3_col2\" class=\"data row3 col2\" >1. 0<br>2. 1<br>3. 12,000000000<br>4. 19,000000000<br>5. 13,000000000<br>6. 19,200000000<br>7. 19,600000000<br>8. 18,800000000<br>9. 18,000000000<br>10. 19,100000000<br>11. other</td>\n",
              "      <td id=\"T_1b6ac_row3_col3\" class=\"data row3 col3\" >2,805 (6.5%)<br>976 (2.3%)<br>106 (0.2%)<br>97 (0.2%)<br>92 (0.2%)<br>90 (0.2%)<br>88 (0.2%)<br>84 (0.2%)<br>81 (0.2%)<br>81 (0.2%)<br>38,591 (89.6%)</td>\n",
              "      <td id=\"T_1b6ac_row3_col4\" class=\"data row3 col4\" ><img src = \"data:image/png;base64, iVBORw0KGgoAAAANSUhEUgAAAJsAAAD+CAYAAAAtWHdlAAAAOXRFWHRTb2Z0d2FyZQBNYXRwbG90bGliIHZlcnNpb24zLjguMCwgaHR0cHM6Ly9tYXRwbG90bGliLm9yZy81sbWrAAAACXBIWXMAAA9hAAAPYQGoP6dpAAAD+UlEQVR4nO3cQU5bZxiG0e8ii4aJLQuJJbR7YBFZbBbhRXQPCHEHgTJxBxlFSUtK8EPrnjPFlv7BI35ddF+W4/E4ULh47wPw/yE2MmIjIzYyYiMjNjJiIyM2MmIjs8zM1cxc/sBnn4/H4+OJz8MZ21xfX3/cbrf7lz64ruv9siyfBMdrbbbb7f729vZxt9s9/dWHHh4ePhwOh/3d3d3lzIiNV9nMzOx2u6ebm5vPL3z2KjgPZ8wDAhmxkREbGbGRERsZsZERGxmxkREbGbGRERsZsZERGxmxkdnMfHlf7e8+9NLP4Uds1nW9PxwO+3nhfbV1Xe9n5rk5FufIBoHM4l9mUfnebza/wTiJb9ZVVlScylfrKisqTul76yorKk7CH3XJiI2M2MiIjYzYyIiNjNjIiI2M2MiIjYzYyIiNjNjIfDV4MWzhlL4ZvBi2cCpeCydj8ELGAwKZi2VZfluWxYMBJ3cxM7/OzC/vfRDOn2uUjNjIiI2M2MiIjYzYyIiNjNjIiI2M2MiIjYzYyIiNjNjIiI3Mxcz8PjN/vPdBOH82CGRco2TERkZsZKyryFhXkXGNkhEbGbGRERsZsZERGxmxkREbGbGRERsZsZERGxmxkREbGbGRsa4iY11FxjVKRmxkDF7IGLyQcY2SERsZsZERGxmxkREbGbGRERsZsZERGxmxkREbGbGRERsZsZExeCFj8ELGNUpGbGQMXsgYvJBxjZIRGxmxkREbGbGRERsZsZERGxmxkREbGbGRERsZsZERGxmxkREbGesqMtZVZFyjZMRGxrqKjHUVGdcoGbGRERsZsZERGxmxkREbGbGRERsZsZERGxmxkREbGbGRERsZgxcyBi9kXKNkxEbG4IWMwQsZ1ygZsZERGxmxkREbGbGRERsZsZERGxmxkREbGbGRERsZsZERGxmDFzIGL2Rco2TERkZsZKyryFhXkXGNkhEbGbGRERsZsZERGxmxkREbGbGRERsZsZERGxmxkREbGbGRsa4iY11FxjVKRmxkDF7IGLyQcY2SERsZsZERGxmxkREbGbGRERsZsZERGxmxkREbGbGRERsZsZExeCFj8ELGNUpmmZmrmbl874Pwn/B8PB4fX/vlzfX19cftdrt/yxNxntZ1vV+W5dNrg9tst9v97e3t4263e3rrw3E+Hh4ePhwOh/3d3d3lzLwutpmZ3W73dHNz8/lNT8c5uvqZL3tAICM2MmIjIzYyYiMjNjJiIyM2MmIjIzYyYiMjNjJiI7OZ+fL6yHsfhH+3t2hks67r/eFw2M9Pvj7C+VvX9X5mnl/7fa+F80/81Gvh1lVkPCCQERsZsZERGxmxkREbGbGRERsZsZH5Ez4XzkQZrjC+AAAAAElFTkSuQmCC\"></img></td>\n",
              "      <td id=\"T_1b6ac_row3_col5\" class=\"data row3 col5\" >0<br>(0.0%)</td>\n",
              "    </tr>\n",
              "    <tr>\n",
              "      <td id=\"T_1b6ac_row4_col0\" class=\"data row4 col0\" >5</td>\n",
              "      <td id=\"T_1b6ac_row4_col1\" class=\"data row4 col1\" ><strong>Unité</strong><br>[object]</td>\n",
              "      <td id=\"T_1b6ac_row4_col2\" class=\"data row4 col2\" >1. Index<br>2. °C<br>3. Wh<br>4.  W<br>5. On-Off<br>6. Oui-Non</td>\n",
              "      <td id=\"T_1b6ac_row4_col3\" class=\"data row4 col3\" >19,261 (44.7%)<br>10,942 (25.4%)<br>7,486 (17.4%)<br>3,565 (8.3%)<br>1,641 (3.8%)<br>196 (0.5%)</td>\n",
              "      <td id=\"T_1b6ac_row4_col4\" class=\"data row4 col4\" ><img src = \"data:image/png;base64, iVBORw0KGgoAAAANSUhEUgAAAJsAAACKCAYAAAC96ziyAAAAOXRFWHRTb2Z0d2FyZQBNYXRwbG90bGliIHZlcnNpb24zLjguMCwgaHR0cHM6Ly9tYXRwbG90bGliLm9yZy81sbWrAAAACXBIWXMAAA9hAAAPYQGoP6dpAAACoklEQVR4nO3dQWrbUBiF0d9BhGYiYwxejBeRxXYR3o0x1qAJmbiDph05AavW1UM+ZwWP8PESCV2yulwuBQlPcx+AxyE2YsRGjNiIWVXVS1U9z32QxnxcLpe3uQ+xNN12u33t+34z90FaMgzDabVa/RTcfXV932/2+/3ber1+n/swLTifzz8Oh8PmeDw+V5XY7qirqlqv1++73e7X3IdpyMvcB1giDwjEiI0YsREjNmLERozYiBEbMWIjRmzEiI0YsREjNmLERkxX9eezmrkP0go/i+l0wzCcDofDpnxW888wDKeq+pj7HEvjs/DrfBY+gZWRMimt32xumAVpevBieLIszQ5eDE+Wp/XBiyfkBfFSlxixESM2YsRGjNiIERsxYiNGbMSIjRixESM2YsRGjNiIERsxza6rWjwT/6fpdZWV07LYIBBjXUVM+mZzUz2w6LrKWuqxxdZV1lKk11XNPfGS46UuMWIjRmzEiI0YsREjNmLERozYiBEbMWIjRmzEiI0YsREjNmJi6yprKaLrKmupx2aDQIx1FTFjbzY3FDcbta6ykmKMm9dVVlKMNXZdZSXFzbzUJUZsxIiNGLERIzZixEaM2IgRGzFiI0ZsxIiNGLERIzZibh68GK4w1qjBi+EKY/gsnBiDF2I8IBDz3a9Rvyq5qy/XVRZU3NvVdZUFFVP4bl1lQcVdeUAgRmzEiI0YsREjNmLERozYiBEbMWIjRmzEiI0YsREjNmKurqssqJjCl+sqCyruzWfhxFhXEfP3Ziu3GFPrttvta1WVcQtTe+r7fvO5rkr9G0gelPdsxIiNGLERIzZixEaM2IgRGzFiI0ZsxIiNGLERIzZixEaM2IgRGzFiI6b7XFFVWVIxMRsEYqyriPE3GzFiI0ZsxPwGPwQjyJ6gPPcAAAAASUVORK5CYII=\"></img></td>\n",
              "      <td id=\"T_1b6ac_row4_col5\" class=\"data row4 col5\" >0<br>(0.0%)</td>\n",
              "    </tr>\n",
              "    <tr>\n",
              "      <td id=\"T_1b6ac_row5_col0\" class=\"data row5 col0\" >6</td>\n",
              "      <td id=\"T_1b6ac_row5_col1\" class=\"data row5 col1\" ><strong>date</strong><br>[datetime64[ns]]</td>\n",
              "      <td id=\"T_1b6ac_row5_col2\" class=\"data row5 col2\" >Min: 2024-01-01<br>Max: 2024-05-09<br>Duration: 129 days</td>\n",
              "      <td id=\"T_1b6ac_row5_col3\" class=\"data row5 col3\" >130 distinct values</td>\n",
              "      <td id=\"T_1b6ac_row5_col4\" class=\"data row5 col4\" ><img src = \"data:image/png;base64, iVBORw0KGgoAAAANSUhEUgAAAJsAAABNCAYAAACxBha+AAAAOXRFWHRTb2Z0d2FyZQBNYXRwbG90bGliIHZlcnNpb24zLjguMCwgaHR0cHM6Ly9tYXRwbG90bGliLm9yZy81sbWrAAAACXBIWXMAAA9hAAAPYQGoP6dpAAACu0lEQVR4nO3cQW7aQBiG4X9KiJwg2SIgsssFInWBxIYDdNnD9giNlEXXuUF2kSxkFDcIA+4BGgIew4c9fp8tmsiLVwnzTzyuLEsDFL5d+gHQHcQGmatLPwCayTl3Y2bXHkvXZVl+fPYBseE/zrmb0Wj0M47jYdW1y+Vy4Zz79VlwxIbPXMdxPJzP5x9JkqyOXZRlWfT8/DxM0/TazIgNx0uSZDWZTP5WXHaz7wM2CJAhNsjwZzRwnrvKeLfb9U/9LMQWMN9dZVEU0Xa7fVytVr/NrOp3tr2ILWxeu8rX19fhy8vL7Waz6Z3yYYitA6ruKheLxd4dZR1sECBDbJAhNsgQG2SIDTLEBhligwyxQYbYIMMJQks06UDdF7G1QNMO1H0RWzs06kDdF7F5OsfbR4c05UDdF7F5ONfbR6EjNj9nefsodMRWw6nfPgodczbI8JtNbLvd9s0sds5VWdaoeZkvYhPK87xfFMX3h4eHXq/XO/q7XtPmZb6ITWi9Xl9FUXQ7nU5X9/f3i2PXNW1e5ovYLmAwGLR6XuaLDQJkiA0yxAYZYoNMpzcINQ7Tg5h7qXU2tjqH6aHMvdQ6G5t5HqabhTP3UutybGbmd5geytxLjQ0CZIgNMsQGGWKDDLFBhtggQ2yQITbIEBtkiA0yxAYZYoMMsUEmiP/6COGivC5ofWyhXJTXBa2PzQK5KK8LQojNzNp/UV4XsEGADLFBhtgg8+V3tktcUoxw7Y3tEpcUMy8L21e/2bwvKX56epqkaTp2zi0rPEt0d3f3I0mSQYU1zMta5ODoo+pIoc7timb2OJvN/ozH46MjZV7WHiefs9W9XTGKooJ5WZjONtTt6u2K2I/RB2SIDTLEBhligwyxQYbYIENskCE2yBwc6mZZFlX5ge/v75GZWZ7n0dvb221o69r0rOp1h1r5B/KFjfw8G0emAAAAAElFTkSuQmCC\"></img></td>\n",
              "      <td id=\"T_1b6ac_row5_col5\" class=\"data row5 col5\" >0<br>(0.0%)</td>\n",
              "    </tr>\n",
              "    <tr>\n",
              "      <td id=\"T_1b6ac_row6_col0\" class=\"data row6 col0\" >7</td>\n",
              "      <td id=\"T_1b6ac_row6_col1\" class=\"data row6 col1\" ><strong>time</strong><br>[object]</td>\n",
              "      <td id=\"T_1b6ac_row6_col2\" class=\"data row6 col2\" >1. 10:00:00<br>2. 09:00:00<br>3. 11:00:00<br>4. 12:00:00<br>5. 08:00:00<br>6. 14:00:00<br>7. 13:00:00<br>8. 20:00:00<br>9. 00:00:00<br>10. 06:00:00<br>11. other</td>\n",
              "      <td id=\"T_1b6ac_row6_col3\" class=\"data row6 col3\" >776 (1.8%)<br>754 (1.7%)<br>751 (1.7%)<br>736 (1.7%)<br>728 (1.7%)<br>727 (1.7%)<br>719 (1.7%)<br>713 (1.7%)<br>710 (1.6%)<br>708 (1.6%)<br>35,769 (83.0%)</td>\n",
              "      <td id=\"T_1b6ac_row6_col4\" class=\"data row6 col4\" ><img src = \"data:image/png;base64, iVBORw0KGgoAAAANSUhEUgAAAJsAAAD+CAYAAAAtWHdlAAAAOXRFWHRTb2Z0d2FyZQBNYXRwbG90bGliIHZlcnNpb24zLjguMCwgaHR0cHM6Ly9tYXRwbG90bGliLm9yZy81sbWrAAAACXBIWXMAAA9hAAAPYQGoP6dpAAADi0lEQVR4nO3cQWpaYRiG0c8gkkwMIeBiXEQX20W4Gwk6aEomdtC0JJ0UCj4WPWfmIORCHq7cy/9mcTqdBgp3l74AbofYyIiNjNjIiI2M2MiIjYzYyIiNzGJmHmZm9f757XQ6vV7werhiy+fn5y/r9fppZuZ4PL4sFouvguMc7tbr9dN2u33dbrev79Gt/vpT8A+WMzOPj4/f3z8/XPBauHIeEMiIjYzYyIiNjNjIiI2M2MiIjYzYyIiNjNjIiI2M2MiIjcxyZuZwONxf+kK4fsvj8fiy2+1+n9SdmbcLXxNXygaBzMK/zKLizkbGuoqMdRUZ6yoyXuqSERsZsZERGxmxkREbGbGRERsZsZERGxmxkREbGbGRMXghY/BCxrFwMgYvZNzZyBi8kDF4IWPwQsZLXTJiIyM2MmIjIzYyYiMjNjJiIyM2MmIjIzYyYiMjNjIGL2QMXsg4Fk7G4IWMBwQyvkbJWFeRsa4iY11FxgMCGbGRERsZsZERGxmxkREbGbGRERsZsZERGxmxkREbGesqMtZVZBwLJ2NdRcadjYzBCxmDFzIGL2S81CUjNjJiIyM2MmIjIzYyYiMjNjJiIyM2MmIjIzYyYiNj8ELG4IWMY+FkDF7IuLORMXghY/BCxuCFjJe6ZMRGRmxkxEZGbGTERkZsZMRGRmxkxEZGbGTERkZsZMRGxrqKjHUVGRsEMtZVZNzZyFhXkbGuImNdRcZLXTJiIyM2MmIjIzYyYiMjNjJiIyM2MmIjIzYyYiMjNjIGL2QMXsg4Fk7G4IWMOxsZgxcyBi9kDF7IeKlLRmxkxEZGbGTERkZsZMRGRmxkxEZGbGTERkZsZMRGxuCFjMELGcfCyRi8kPGAQMbXKBnrKjLWVWSsq8h4QCAjNjJiIyM2MmIjIzYyYiMjNjJiIyM2MmIjIzYyYiNjXUXGuoqMY+FkrKvIuLORMXghY/BCxuCFjJe6ZMRGRmxkxEZGbGTERkZsZMRGRmxkxEZGbGTERkZsZAxeyBi8kHEsnIzBC5k/72zcpuQb7dPghdtUDZ2WvwYvH3YI3JDD4XC/2+2e9vv9ambOG9vMz8HLZrP5ds5fxH8tGTp5qUtGbGTERkZsZMRGRmxkxEZGbGTERkZsZMRGRmxkxEbG4OXGlX/7j4MX/0/3RlVDJ8fCmYmOhRu8kPGAQEZsZMRGRmxkxEZGbGTERkZsZMRG5gfEBtMdoo/g2QAAAABJRU5ErkJggg==\"></img></td>\n",
              "      <td id=\"T_1b6ac_row6_col5\" class=\"data row6 col5\" >0<br>(0.0%)</td>\n",
              "    </tr>\n",
              "    <tr>\n",
              "      <td id=\"T_1b6ac_row7_col0\" class=\"data row7 col0\" >8</td>\n",
              "      <td id=\"T_1b6ac_row7_col1\" class=\"data row7 col1\" ><strong>Logement</strong><br>[object]</td>\n",
              "      <td id=\"T_1b6ac_row7_col2\" class=\"data row7 col2\" >1. LOGEMENT02<br>2. LOGEMENT01<br>3. LOGEMENT04<br>4. LOGEMENT03</td>\n",
              "      <td id=\"T_1b6ac_row7_col3\" class=\"data row7 col3\" >18,633 (43.2%)<br>11,645 (27.0%)<br>6,469 (15.0%)<br>6,344 (14.7%)</td>\n",
              "      <td id=\"T_1b6ac_row7_col4\" class=\"data row7 col4\" ><img src = \"data:image/png;base64, iVBORw0KGgoAAAANSUhEUgAAAJsAAABcCAYAAAB5jMeAAAAAOXRFWHRTb2Z0d2FyZQBNYXRwbG90bGliIHZlcnNpb24zLjguMCwgaHR0cHM6Ly9tYXRwbG90bGliLm9yZy81sbWrAAAACXBIWXMAAA9hAAAPYQGoP6dpAAAB3UlEQVR4nO3bQWrbUBiF0V9FhGYiYQxejBfRxXYR2o0x1qAJmSiDQEkz6kT3+TnnrOBhPmSe0B22bStI+NH6AHwfYiNmqKrnqnpqfZA78bZt20vrQzyq8Xg8/pqm6dD6IPdgXdfrMAy/BbePcZqmw/l8fpnn+bX1YVq63W4/l2U5XC6Xp6oS2w7Gqqp5nl9Pp9Of1oe5A8+tD/DIXBCIERsxYiNGbMSIjRixESM2YsRGjNiIERsxYiNGbMSIjZix6uPzmtYHac1vsL9xXdfrsiyH8nlNret6raq31ud4VD4L/5fPwnc0mPKR4oJATE9/o/7iOtfNusryqX9drKssnx5DT+uqb/9qpncuCMSIjRixESM2YsRGjNiIERsxYiNGbMSIjRixESM2YsRGjNiI6WLKd+/n4/90M+Uzs+ufDQIxpnzE7P1k8zTir13XVRZRfLbbusoiiq/2Xlfd9Q2XLC91iREbMWIjRmzEiI0YsREjNmLERozYiBEbMWIjRmzEiI0YsRGz27rKIoqvdl1XWUTxmQ0CMdZVxHiyEWNdRYx1FTHWVcR4qUuM2IgRGzFiI0ZsxIiNGLERIzZixEaM2IgRGzFiI0ZsxIiNGOsqYqyriLFBIMa6ihgXBGLeAbNY2LmcCnvZAAAAAElFTkSuQmCC\"></img></td>\n",
              "      <td id=\"T_1b6ac_row7_col5\" class=\"data row7 col5\" >0<br>(0.0%)</td>\n",
              "    </tr>\n",
              "    <tr>\n",
              "      <td id=\"T_1b6ac_row8_col0\" class=\"data row8 col0\" >9</td>\n",
              "      <td id=\"T_1b6ac_row8_col1\" class=\"data row8 col1\" ><strong>Lettre</strong><br>[object]</td>\n",
              "      <td id=\"T_1b6ac_row8_col2\" class=\"data row8 col2\" >1. B<br>2. A</td>\n",
              "      <td id=\"T_1b6ac_row8_col3\" class=\"data row8 col3\" >30,278 (70.3%)<br>12,813 (29.7%)</td>\n",
              "      <td id=\"T_1b6ac_row8_col4\" class=\"data row8 col4\" ><img src = \"data:image/png;base64, iVBORw0KGgoAAAANSUhEUgAAAJsAAAAuCAYAAAA/ZmtKAAAAOXRFWHRTb2Z0d2FyZQBNYXRwbG90bGliIHZlcnNpb24zLjguMCwgaHR0cHM6Ly9tYXRwbG90bGliLm9yZy81sbWrAAAACXBIWXMAAA9hAAAPYQGoP6dpAAABOklEQVR4nO3bwYnDMBRF0a9gQrKRMAYX4yKm2BShboyxFpOQjWaRAmLP4omP7qngQ24CMX6h1mqAQjCzu5ldWx+CU9611mfrI84apmn6iTGOrQ/BcaWULYTw8BbcEGMcl2V5ppRerY/Bd/u+33LO47quVzPzFZuZWUrpNc/zb+tjcNi99QH/cWl9APpBbJAhNsgQG2SIDTLEBhligwyxQYbYIENskCE2yBAbZIgNMsQGGWKDzGD2eSGv9SE4xvNnNZRStpzzaE5fyOtRKWUzs3frO85i8OKTy8FLYMoHFc+/bC6/3T1zO+XzOmfrmcspn+c5W888T/n49+wMD3UhQ2yQITbIEBtkiA0yxAYZYoMMsUGG2CBDbJAhNsgQG2SIDTLEBhlig4zLKZ+3e/Hhdsrndc7WMwYvkPkDCltq31ddjPwAAAAASUVORK5CYII=\"></img></td>\n",
              "      <td id=\"T_1b6ac_row8_col5\" class=\"data row8 col5\" >0<br>(0.0%)</td>\n",
              "    </tr>\n",
              "    <tr>\n",
              "      <td id=\"T_1b6ac_row9_col0\" class=\"data row9 col0\" >10</td>\n",
              "      <td id=\"T_1b6ac_row9_col1\" class=\"data row9 col1\" ><strong>Pilote</strong><br>[object]</td>\n",
              "      <td id=\"T_1b6ac_row9_col2\" class=\"data row9 col2\" >1. non piloté<br>2. piloté</td>\n",
              "      <td id=\"T_1b6ac_row9_col3\" class=\"data row9 col3\" >24,977 (58.0%)<br>18,114 (42.0%)</td>\n",
              "      <td id=\"T_1b6ac_row9_col4\" class=\"data row9 col4\" ><img src = \"data:image/png;base64, iVBORw0KGgoAAAANSUhEUgAAAJsAAAAuCAYAAAA/ZmtKAAAAOXRFWHRTb2Z0d2FyZQBNYXRwbG90bGliIHZlcnNpb24zLjguMCwgaHR0cHM6Ly9tYXRwbG90bGliLm9yZy81sbWrAAAACXBIWXMAAA9hAAAPYQGoP6dpAAABMUlEQVR4nO3bwYnDMBRF0afBhMlGwhhcTIqYYqcIdWOMtUhCNpqFa5j3wbqngp9wMST4pd67AIck6S7pFn3IAD6991f0EZGmZVl+cs5z9CFX11rbU0q/Iwc35Zznx+PxKqW8o4+5quM4vmut87ZtN0njxiZJpZT3uq7P6GMu7h59QLSv6AMwDmKDDbHBhthgQ2ywITbYEBtsiA02xAYbYoMNscGG2GBDbLAhNtgQG2wm6Xy5L/qQK+P7PU2ttb3WOouX+/5Va22X9Im+IxKDF5/hBy+JKR9ceLKdhn/qODDlEzM7l+GnfMzsfJjynfglbsCfurAhNtgQG2yIDTbEBhtigw2xwYbYYENssCE22BAbbIgNNsQGG2KDDbHBZvgp38if3Y0pn5jZuTB4OTF4MfgDCltq3+yp8CAAAAAASUVORK5CYII=\"></img></td>\n",
              "      <td id=\"T_1b6ac_row9_col5\" class=\"data row9 col5\" >0<br>(0.0%)</td>\n",
              "    </tr>\n",
              "  </tbody>\n",
              "</table>\n"
            ]
          },
          "metadata": {},
          "execution_count": 103
        }
      ]
    },
    {
      "cell_type": "markdown",
      "source": [],
      "metadata": {
        "id": "T9_fxSnDn3XQ"
      }
    },
    {
      "cell_type": "code",
      "source": [
        "# Mettre \"Chauffage\" si les conditions sont remplies\n",
        "val_roland['Équipement'] = val_roland.apply(\n",
        "    lambda row: 'Chauffage' if 'Chauffage_OnOff' in row['Commande']\n",
        "    and row['Équipement'] == '4PM' else row['Équipement'], axis=1)\n",
        "\n",
        "val_roland['Équipement'] = val_roland.apply(\n",
        "    lambda row: 'Chauffage' if 'Chauffage_Conso' in row['Commande']\n",
        "    and row['Équipement'] == '4PM' else row['Équipement'], axis=1)\n",
        "\n",
        "val_roland['Équipement'] = val_roland.apply(\n",
        "    lambda row: 'Chauffage' if 'Chauffage_Conso_Total' in row['Commande']\n",
        "    and row['Équipement'] == '4PM' else row['Équipement'], axis=1)\n",
        "\n",
        "# Mettre \"Ballon_Eau\" si les conditions sont remplies\n",
        "val_roland['Équipement'] = val_roland.apply(\n",
        "    lambda row: 'Ballon_Eau' if 'Ballon_OnOff' in row['Commande']\n",
        "    and row['Équipement'] == '4PM' else row['Équipement'], axis=1)\n",
        "\n",
        "# Mettre \"TV-Frigo\" si les conditions sont remplies\n",
        "val_roland['Équipement'] = val_roland.apply(\n",
        "    lambda row: 'TV-Frigo' if 'TV-Frigo_OnOff' in row['Commande']\n",
        "    and row['Équipement'] == '4PM' else row['Équipement'], axis=1)\n"
      ],
      "metadata": {
        "id": "z5kD4-pLn2ev"
      },
      "execution_count": null,
      "outputs": []
    },
    {
      "cell_type": "markdown",
      "source": [
        "Rapport des données nettoyées :"
      ],
      "metadata": {
        "id": "rQFx7KXZwGdU"
      }
    },
    {
      "cell_type": "code",
      "source": [
        "my_report = sv.analyze(val_roland)"
      ],
      "metadata": {
        "colab": {
          "base_uri": "https://localhost:8080/",
          "height": 49,
          "referenced_widgets": [
            "ffc0c137de11402f907b199469918ac9",
            "e9fab9bec0454cd883a69aedd305313f",
            "490dc0c2054d4c94af64b4388137ca39",
            "72d2389ad6e24e95bb14a5ec8e4fd5dc",
            "0ead9e762b2343679028b221e04f6257",
            "1a24430a937042c48a3732e54dc4df5f",
            "e970a25157ad48f680a470bab1fd7d94",
            "29ffb3a5b37c4721903a1e9b692cedfb",
            "dcaa3bce0aff4668a4428c3e75afaf0f",
            "b16846be49e3468b99de2cfb6690db1c",
            "a0670a3a3e8e4b268ad63994864c9e22"
          ]
        },
        "id": "pTUJAfdrINeu",
        "outputId": "62828d40-8a97-4144-8e55-4a7fa3831629"
      },
      "execution_count": null,
      "outputs": [
        {
          "output_type": "display_data",
          "data": {
            "text/plain": [
              "                                             |          | [  0%]   00:00 -> (? left)"
            ],
            "application/vnd.jupyter.widget-view+json": {
              "version_major": 2,
              "version_minor": 0,
              "model_id": "ffc0c137de11402f907b199469918ac9"
            }
          },
          "metadata": {}
        }
      ]
    },
    {
      "cell_type": "code",
      "source": [
        "my_report.show_html()"
      ],
      "metadata": {
        "colab": {
          "base_uri": "https://localhost:8080/"
        },
        "id": "gLrVj2HXIdSP",
        "outputId": "eb3ae44b-ce64-4860-d9ab-a3bda9731532"
      },
      "execution_count": null,
      "outputs": [
        {
          "output_type": "stream",
          "name": "stdout",
          "text": [
            "Report SWEETVIZ_REPORT.html was generated! NOTEBOOK/COLAB USERS: the web browser MAY not pop up, regardless, the report IS saved in your notebook/colab files.\n"
          ]
        }
      ]
    },
    {
      "cell_type": "markdown",
      "source": [
        "Rapport des données de Val Roland, binaire entre les appartements Piloté et les appartements non pilotés."
      ],
      "metadata": {
        "id": "ll6OYtD_WOZn"
      }
    },
    {
      "cell_type": "code",
      "source": [
        "my_report = sv.compare_intra(val_roland, val_roland[\"Pilote\"] == \"non piloté\", [\"Non piloté\", \"Piloté\"])"
      ],
      "metadata": {
        "colab": {
          "base_uri": "https://localhost:8080/",
          "height": 87,
          "referenced_widgets": [
            "579b8ebcf0604972b30de2b9424b5ec7",
            "841eb30be1e3448d83c8239363506d81",
            "b07a8202fb884831951b67fb9e6b2d3f",
            "4f3eec60ede54e6395925e7cebc39319",
            "5dd5ca1876fd4a269a9aaab1770c2b7a",
            "8f449338fa1b408692ca8188cd672d96",
            "1176e6a9c1e543608ce06655bbfcdbf4",
            "d0ba7c22fbcb4df0a22a0551590c5982",
            "561ef3ae78e84696aa24255b4583d3c9",
            "02dfc54ada5f4b768639ce22886b9283",
            "ee855aeb469a4ddbae10640945bfe34a"
          ]
        },
        "id": "OKJkdBIewU39",
        "outputId": "0995f994-0871-403f-fa90-f85d596d48b6"
      },
      "execution_count": null,
      "outputs": [
        {
          "output_type": "display_data",
          "data": {
            "text/plain": [
              "                                             |          | [  0%]   00:00 -> (? left)"
            ],
            "application/vnd.jupyter.widget-view+json": {
              "version_major": 2,
              "version_minor": 0,
              "model_id": "579b8ebcf0604972b30de2b9424b5ec7"
            }
          },
          "metadata": {}
        },
        {
          "output_type": "stream",
          "name": "stdout",
          "text": [
            "Report SWEETVIZ_REPORT.html was generated! NOTEBOOK/COLAB USERS: the web browser MAY not pop up, regardless, the report IS saved in your notebook/colab files.\n"
          ]
        }
      ]
    },
    {
      "cell_type": "code",
      "source": [
        "my_report.show_html()"
      ],
      "metadata": {
        "colab": {
          "base_uri": "https://localhost:8080/"
        },
        "id": "1binqv_7SuHN",
        "outputId": "da0d9096-0c19-41a3-92ec-3943fe9a2b38"
      },
      "execution_count": null,
      "outputs": [
        {
          "output_type": "stream",
          "name": "stdout",
          "text": [
            "Report SWEETVIZ_REPORT.html was generated! NOTEBOOK/COLAB USERS: the web browser MAY not pop up, regardless, the report IS saved in your notebook/colab files.\n"
          ]
        }
      ]
    },
    {
      "cell_type": "code",
      "source": [],
      "metadata": {
        "id": "wuy-akEWXlfZ"
      },
      "execution_count": null,
      "outputs": []
    },
    {
      "cell_type": "code",
      "source": [
        "# Vérifier les types de données pour validation\n",
        "print(val_roland.info())"
      ],
      "metadata": {
        "colab": {
          "base_uri": "https://localhost:8080/"
        },
        "id": "_E-x2UlXVZGG",
        "outputId": "bb7936f3-919b-4741-8fe6-a76275c67b5a"
      },
      "execution_count": null,
      "outputs": [
        {
          "output_type": "stream",
          "name": "stdout",
          "text": [
            "<class 'pandas.core.frame.DataFrame'>\n",
            "RangeIndex: 43091 entries, 0 to 43090\n",
            "Data columns (total 10 columns):\n",
            " #   Column          Non-Null Count  Dtype         \n",
            "---  ------          --------------  -----         \n",
            " 0   Équipement      43091 non-null  object        \n",
            " 1   Commande        43091 non-null  object        \n",
            " 2   Type Générique  223 non-null    object        \n",
            " 3   Valeur          43091 non-null  object        \n",
            " 4   Unité           43091 non-null  object        \n",
            " 5   date            43091 non-null  datetime64[ns]\n",
            " 6   time            43091 non-null  object        \n",
            " 7   Logement        43091 non-null  object        \n",
            " 8   Lettre          43091 non-null  object        \n",
            " 9   Pilote          43091 non-null  object        \n",
            "dtypes: datetime64[ns](1), object(9)\n",
            "memory usage: 3.3+ MB\n",
            "None\n"
          ]
        }
      ]
    },
    {
      "cell_type": "code",
      "source": [
        "val_roland['Valeur'] = pd.to_numeric(val_roland['Valeur'].str.replace(',', '.'), errors='coerce')"
      ],
      "metadata": {
        "id": "Xvk2ZYTHxGXQ"
      },
      "execution_count": null,
      "outputs": []
    }
  ]
}