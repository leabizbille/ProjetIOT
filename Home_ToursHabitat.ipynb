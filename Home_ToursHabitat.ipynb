{
  "nbformat": 4,
  "nbformat_minor": 0,
  "metadata": {
    "colab": {
      "provenance": [],
      "authorship_tag": "ABX9TyP8mAor9ncQNmEiGPVZZjSx",
      "include_colab_link": true
    },
    "kernelspec": {
      "name": "python3",
      "display_name": "Python 3"
    },
    "language_info": {
      "name": "python"
    },
    "widgets": {
      "application/vnd.jupyter.widget-state+json": {
        "579b8ebcf0604972b30de2b9424b5ec7": {
          "model_module": "@jupyter-widgets/controls",
          "model_name": "HBoxModel",
          "model_module_version": "1.5.0",
          "state": {
            "_dom_classes": [],
            "_model_module": "@jupyter-widgets/controls",
            "_model_module_version": "1.5.0",
            "_model_name": "HBoxModel",
            "_view_count": null,
            "_view_module": "@jupyter-widgets/controls",
            "_view_module_version": "1.5.0",
            "_view_name": "HBoxView",
            "box_style": "",
            "children": [
              "IPY_MODEL_841eb30be1e3448d83c8239363506d81",
              "IPY_MODEL_b07a8202fb884831951b67fb9e6b2d3f",
              "IPY_MODEL_4f3eec60ede54e6395925e7cebc39319"
            ],
            "layout": "IPY_MODEL_5dd5ca1876fd4a269a9aaab1770c2b7a"
          }
        },
        "841eb30be1e3448d83c8239363506d81": {
          "model_module": "@jupyter-widgets/controls",
          "model_name": "HTMLModel",
          "model_module_version": "1.5.0",
          "state": {
            "_dom_classes": [],
            "_model_module": "@jupyter-widgets/controls",
            "_model_module_version": "1.5.0",
            "_model_name": "HTMLModel",
            "_view_count": null,
            "_view_module": "@jupyter-widgets/controls",
            "_view_module_version": "1.5.0",
            "_view_name": "HTMLView",
            "description": "",
            "description_tooltip": null,
            "layout": "IPY_MODEL_8f449338fa1b408692ca8188cd672d96",
            "placeholder": "​",
            "style": "IPY_MODEL_1176e6a9c1e543608ce06655bbfcdbf4",
            "value": "Done! Use &#x27;show&#x27; commands to display/save.   "
          }
        },
        "b07a8202fb884831951b67fb9e6b2d3f": {
          "model_module": "@jupyter-widgets/controls",
          "model_name": "FloatProgressModel",
          "model_module_version": "1.5.0",
          "state": {
            "_dom_classes": [],
            "_model_module": "@jupyter-widgets/controls",
            "_model_module_version": "1.5.0",
            "_model_name": "FloatProgressModel",
            "_view_count": null,
            "_view_module": "@jupyter-widgets/controls",
            "_view_module_version": "1.5.0",
            "_view_name": "ProgressView",
            "bar_style": "success",
            "description": "",
            "description_tooltip": null,
            "layout": "IPY_MODEL_d0ba7c22fbcb4df0a22a0551590c5982",
            "max": 1,
            "min": 0,
            "orientation": "horizontal",
            "style": "IPY_MODEL_561ef3ae78e84696aa24255b4583d3c9",
            "value": 1
          }
        },
        "4f3eec60ede54e6395925e7cebc39319": {
          "model_module": "@jupyter-widgets/controls",
          "model_name": "HTMLModel",
          "model_module_version": "1.5.0",
          "state": {
            "_dom_classes": [],
            "_model_module": "@jupyter-widgets/controls",
            "_model_module_version": "1.5.0",
            "_model_name": "HTMLModel",
            "_view_count": null,
            "_view_module": "@jupyter-widgets/controls",
            "_view_module_version": "1.5.0",
            "_view_name": "HTMLView",
            "description": "",
            "description_tooltip": null,
            "layout": "IPY_MODEL_02dfc54ada5f4b768639ce22886b9283",
            "placeholder": "​",
            "style": "IPY_MODEL_ee855aeb469a4ddbae10640945bfe34a",
            "value": " [100%]   00:01 -&gt; (00:00 left)"
          }
        },
        "5dd5ca1876fd4a269a9aaab1770c2b7a": {
          "model_module": "@jupyter-widgets/base",
          "model_name": "LayoutModel",
          "model_module_version": "1.2.0",
          "state": {
            "_model_module": "@jupyter-widgets/base",
            "_model_module_version": "1.2.0",
            "_model_name": "LayoutModel",
            "_view_count": null,
            "_view_module": "@jupyter-widgets/base",
            "_view_module_version": "1.2.0",
            "_view_name": "LayoutView",
            "align_content": null,
            "align_items": null,
            "align_self": null,
            "border": null,
            "bottom": null,
            "display": "inline-flex",
            "flex": null,
            "flex_flow": "row wrap",
            "grid_area": null,
            "grid_auto_columns": null,
            "grid_auto_flow": null,
            "grid_auto_rows": null,
            "grid_column": null,
            "grid_gap": null,
            "grid_row": null,
            "grid_template_areas": null,
            "grid_template_columns": null,
            "grid_template_rows": null,
            "height": null,
            "justify_content": null,
            "justify_items": null,
            "left": null,
            "margin": null,
            "max_height": null,
            "max_width": null,
            "min_height": null,
            "min_width": null,
            "object_fit": null,
            "object_position": null,
            "order": null,
            "overflow": null,
            "overflow_x": null,
            "overflow_y": null,
            "padding": null,
            "right": null,
            "top": null,
            "visibility": null,
            "width": "100%"
          }
        },
        "8f449338fa1b408692ca8188cd672d96": {
          "model_module": "@jupyter-widgets/base",
          "model_name": "LayoutModel",
          "model_module_version": "1.2.0",
          "state": {
            "_model_module": "@jupyter-widgets/base",
            "_model_module_version": "1.2.0",
            "_model_name": "LayoutModel",
            "_view_count": null,
            "_view_module": "@jupyter-widgets/base",
            "_view_module_version": "1.2.0",
            "_view_name": "LayoutView",
            "align_content": null,
            "align_items": null,
            "align_self": null,
            "border": null,
            "bottom": null,
            "display": null,
            "flex": null,
            "flex_flow": null,
            "grid_area": null,
            "grid_auto_columns": null,
            "grid_auto_flow": null,
            "grid_auto_rows": null,
            "grid_column": null,
            "grid_gap": null,
            "grid_row": null,
            "grid_template_areas": null,
            "grid_template_columns": null,
            "grid_template_rows": null,
            "height": null,
            "justify_content": null,
            "justify_items": null,
            "left": null,
            "margin": null,
            "max_height": null,
            "max_width": null,
            "min_height": null,
            "min_width": null,
            "object_fit": null,
            "object_position": null,
            "order": null,
            "overflow": null,
            "overflow_x": null,
            "overflow_y": null,
            "padding": null,
            "right": null,
            "top": null,
            "visibility": null,
            "width": null
          }
        },
        "1176e6a9c1e543608ce06655bbfcdbf4": {
          "model_module": "@jupyter-widgets/controls",
          "model_name": "DescriptionStyleModel",
          "model_module_version": "1.5.0",
          "state": {
            "_model_module": "@jupyter-widgets/controls",
            "_model_module_version": "1.5.0",
            "_model_name": "DescriptionStyleModel",
            "_view_count": null,
            "_view_module": "@jupyter-widgets/base",
            "_view_module_version": "1.2.0",
            "_view_name": "StyleView",
            "description_width": ""
          }
        },
        "d0ba7c22fbcb4df0a22a0551590c5982": {
          "model_module": "@jupyter-widgets/base",
          "model_name": "LayoutModel",
          "model_module_version": "1.2.0",
          "state": {
            "_model_module": "@jupyter-widgets/base",
            "_model_module_version": "1.2.0",
            "_model_name": "LayoutModel",
            "_view_count": null,
            "_view_module": "@jupyter-widgets/base",
            "_view_module_version": "1.2.0",
            "_view_name": "LayoutView",
            "align_content": null,
            "align_items": null,
            "align_self": null,
            "border": null,
            "bottom": null,
            "display": null,
            "flex": "2",
            "flex_flow": null,
            "grid_area": null,
            "grid_auto_columns": null,
            "grid_auto_flow": null,
            "grid_auto_rows": null,
            "grid_column": null,
            "grid_gap": null,
            "grid_row": null,
            "grid_template_areas": null,
            "grid_template_columns": null,
            "grid_template_rows": null,
            "height": null,
            "justify_content": null,
            "justify_items": null,
            "left": null,
            "margin": null,
            "max_height": null,
            "max_width": null,
            "min_height": null,
            "min_width": null,
            "object_fit": null,
            "object_position": null,
            "order": null,
            "overflow": null,
            "overflow_x": null,
            "overflow_y": null,
            "padding": null,
            "right": null,
            "top": null,
            "visibility": null,
            "width": null
          }
        },
        "561ef3ae78e84696aa24255b4583d3c9": {
          "model_module": "@jupyter-widgets/controls",
          "model_name": "ProgressStyleModel",
          "model_module_version": "1.5.0",
          "state": {
            "_model_module": "@jupyter-widgets/controls",
            "_model_module_version": "1.5.0",
            "_model_name": "ProgressStyleModel",
            "_view_count": null,
            "_view_module": "@jupyter-widgets/base",
            "_view_module_version": "1.2.0",
            "_view_name": "StyleView",
            "bar_color": null,
            "description_width": ""
          }
        },
        "02dfc54ada5f4b768639ce22886b9283": {
          "model_module": "@jupyter-widgets/base",
          "model_name": "LayoutModel",
          "model_module_version": "1.2.0",
          "state": {
            "_model_module": "@jupyter-widgets/base",
            "_model_module_version": "1.2.0",
            "_model_name": "LayoutModel",
            "_view_count": null,
            "_view_module": "@jupyter-widgets/base",
            "_view_module_version": "1.2.0",
            "_view_name": "LayoutView",
            "align_content": null,
            "align_items": null,
            "align_self": null,
            "border": null,
            "bottom": null,
            "display": null,
            "flex": null,
            "flex_flow": null,
            "grid_area": null,
            "grid_auto_columns": null,
            "grid_auto_flow": null,
            "grid_auto_rows": null,
            "grid_column": null,
            "grid_gap": null,
            "grid_row": null,
            "grid_template_areas": null,
            "grid_template_columns": null,
            "grid_template_rows": null,
            "height": null,
            "justify_content": null,
            "justify_items": null,
            "left": null,
            "margin": null,
            "max_height": null,
            "max_width": null,
            "min_height": null,
            "min_width": null,
            "object_fit": null,
            "object_position": null,
            "order": null,
            "overflow": null,
            "overflow_x": null,
            "overflow_y": null,
            "padding": null,
            "right": null,
            "top": null,
            "visibility": null,
            "width": null
          }
        },
        "ee855aeb469a4ddbae10640945bfe34a": {
          "model_module": "@jupyter-widgets/controls",
          "model_name": "DescriptionStyleModel",
          "model_module_version": "1.5.0",
          "state": {
            "_model_module": "@jupyter-widgets/controls",
            "_model_module_version": "1.5.0",
            "_model_name": "DescriptionStyleModel",
            "_view_count": null,
            "_view_module": "@jupyter-widgets/base",
            "_view_module_version": "1.2.0",
            "_view_name": "StyleView",
            "description_width": ""
          }
        },
        "69aa6e6a3c97401db2691de8209dac98": {
          "model_module": "@jupyter-widgets/controls",
          "model_name": "HBoxModel",
          "model_module_version": "1.5.0",
          "state": {
            "_dom_classes": [],
            "_model_module": "@jupyter-widgets/controls",
            "_model_module_version": "1.5.0",
            "_model_name": "HBoxModel",
            "_view_count": null,
            "_view_module": "@jupyter-widgets/controls",
            "_view_module_version": "1.5.0",
            "_view_name": "HBoxView",
            "box_style": "",
            "children": [
              "IPY_MODEL_673b7ec56e61435193d989a17ebd524d",
              "IPY_MODEL_8d70f31ee9704024a6ed5bdd1367c0c6",
              "IPY_MODEL_9ed35f3d6ae54f5eb88ee18a8175c37e"
            ],
            "layout": "IPY_MODEL_49b4bd6e5ded4423b6241b4154ec1686"
          }
        },
        "673b7ec56e61435193d989a17ebd524d": {
          "model_module": "@jupyter-widgets/controls",
          "model_name": "HTMLModel",
          "model_module_version": "1.5.0",
          "state": {
            "_dom_classes": [],
            "_model_module": "@jupyter-widgets/controls",
            "_model_module_version": "1.5.0",
            "_model_name": "HTMLModel",
            "_view_count": null,
            "_view_module": "@jupyter-widgets/controls",
            "_view_module_version": "1.5.0",
            "_view_name": "HTMLView",
            "description": "",
            "description_tooltip": null,
            "layout": "IPY_MODEL_565fd1f4a0964307b39f551c6274d74b",
            "placeholder": "​",
            "style": "IPY_MODEL_501647657b8b430b8425593120c1f5b2",
            "value": "Done! Use &#x27;show&#x27; commands to display/save.   "
          }
        },
        "8d70f31ee9704024a6ed5bdd1367c0c6": {
          "model_module": "@jupyter-widgets/controls",
          "model_name": "FloatProgressModel",
          "model_module_version": "1.5.0",
          "state": {
            "_dom_classes": [],
            "_model_module": "@jupyter-widgets/controls",
            "_model_module_version": "1.5.0",
            "_model_name": "FloatProgressModel",
            "_view_count": null,
            "_view_module": "@jupyter-widgets/controls",
            "_view_module_version": "1.5.0",
            "_view_name": "ProgressView",
            "bar_style": "success",
            "description": "",
            "description_tooltip": null,
            "layout": "IPY_MODEL_83c9927564904d02bfd83010fce4775d",
            "max": 1,
            "min": 0,
            "orientation": "horizontal",
            "style": "IPY_MODEL_ffd89afebd1e4e1f9c60f38503e9e69f",
            "value": 1
          }
        },
        "9ed35f3d6ae54f5eb88ee18a8175c37e": {
          "model_module": "@jupyter-widgets/controls",
          "model_name": "HTMLModel",
          "model_module_version": "1.5.0",
          "state": {
            "_dom_classes": [],
            "_model_module": "@jupyter-widgets/controls",
            "_model_module_version": "1.5.0",
            "_model_name": "HTMLModel",
            "_view_count": null,
            "_view_module": "@jupyter-widgets/controls",
            "_view_module_version": "1.5.0",
            "_view_name": "HTMLView",
            "description": "",
            "description_tooltip": null,
            "layout": "IPY_MODEL_35e0a9b034a04c35969b32c9a156a249",
            "placeholder": "​",
            "style": "IPY_MODEL_bcecbbffb99d4e7aa3c83f8a2fa6ac4e",
            "value": " [100%]   00:00 -&gt; (00:00 left)"
          }
        },
        "49b4bd6e5ded4423b6241b4154ec1686": {
          "model_module": "@jupyter-widgets/base",
          "model_name": "LayoutModel",
          "model_module_version": "1.2.0",
          "state": {
            "_model_module": "@jupyter-widgets/base",
            "_model_module_version": "1.2.0",
            "_model_name": "LayoutModel",
            "_view_count": null,
            "_view_module": "@jupyter-widgets/base",
            "_view_module_version": "1.2.0",
            "_view_name": "LayoutView",
            "align_content": null,
            "align_items": null,
            "align_self": null,
            "border": null,
            "bottom": null,
            "display": "inline-flex",
            "flex": null,
            "flex_flow": "row wrap",
            "grid_area": null,
            "grid_auto_columns": null,
            "grid_auto_flow": null,
            "grid_auto_rows": null,
            "grid_column": null,
            "grid_gap": null,
            "grid_row": null,
            "grid_template_areas": null,
            "grid_template_columns": null,
            "grid_template_rows": null,
            "height": null,
            "justify_content": null,
            "justify_items": null,
            "left": null,
            "margin": null,
            "max_height": null,
            "max_width": null,
            "min_height": null,
            "min_width": null,
            "object_fit": null,
            "object_position": null,
            "order": null,
            "overflow": null,
            "overflow_x": null,
            "overflow_y": null,
            "padding": null,
            "right": null,
            "top": null,
            "visibility": null,
            "width": "100%"
          }
        },
        "565fd1f4a0964307b39f551c6274d74b": {
          "model_module": "@jupyter-widgets/base",
          "model_name": "LayoutModel",
          "model_module_version": "1.2.0",
          "state": {
            "_model_module": "@jupyter-widgets/base",
            "_model_module_version": "1.2.0",
            "_model_name": "LayoutModel",
            "_view_count": null,
            "_view_module": "@jupyter-widgets/base",
            "_view_module_version": "1.2.0",
            "_view_name": "LayoutView",
            "align_content": null,
            "align_items": null,
            "align_self": null,
            "border": null,
            "bottom": null,
            "display": null,
            "flex": null,
            "flex_flow": null,
            "grid_area": null,
            "grid_auto_columns": null,
            "grid_auto_flow": null,
            "grid_auto_rows": null,
            "grid_column": null,
            "grid_gap": null,
            "grid_row": null,
            "grid_template_areas": null,
            "grid_template_columns": null,
            "grid_template_rows": null,
            "height": null,
            "justify_content": null,
            "justify_items": null,
            "left": null,
            "margin": null,
            "max_height": null,
            "max_width": null,
            "min_height": null,
            "min_width": null,
            "object_fit": null,
            "object_position": null,
            "order": null,
            "overflow": null,
            "overflow_x": null,
            "overflow_y": null,
            "padding": null,
            "right": null,
            "top": null,
            "visibility": null,
            "width": null
          }
        },
        "501647657b8b430b8425593120c1f5b2": {
          "model_module": "@jupyter-widgets/controls",
          "model_name": "DescriptionStyleModel",
          "model_module_version": "1.5.0",
          "state": {
            "_model_module": "@jupyter-widgets/controls",
            "_model_module_version": "1.5.0",
            "_model_name": "DescriptionStyleModel",
            "_view_count": null,
            "_view_module": "@jupyter-widgets/base",
            "_view_module_version": "1.2.0",
            "_view_name": "StyleView",
            "description_width": ""
          }
        },
        "83c9927564904d02bfd83010fce4775d": {
          "model_module": "@jupyter-widgets/base",
          "model_name": "LayoutModel",
          "model_module_version": "1.2.0",
          "state": {
            "_model_module": "@jupyter-widgets/base",
            "_model_module_version": "1.2.0",
            "_model_name": "LayoutModel",
            "_view_count": null,
            "_view_module": "@jupyter-widgets/base",
            "_view_module_version": "1.2.0",
            "_view_name": "LayoutView",
            "align_content": null,
            "align_items": null,
            "align_self": null,
            "border": null,
            "bottom": null,
            "display": null,
            "flex": "2",
            "flex_flow": null,
            "grid_area": null,
            "grid_auto_columns": null,
            "grid_auto_flow": null,
            "grid_auto_rows": null,
            "grid_column": null,
            "grid_gap": null,
            "grid_row": null,
            "grid_template_areas": null,
            "grid_template_columns": null,
            "grid_template_rows": null,
            "height": null,
            "justify_content": null,
            "justify_items": null,
            "left": null,
            "margin": null,
            "max_height": null,
            "max_width": null,
            "min_height": null,
            "min_width": null,
            "object_fit": null,
            "object_position": null,
            "order": null,
            "overflow": null,
            "overflow_x": null,
            "overflow_y": null,
            "padding": null,
            "right": null,
            "top": null,
            "visibility": null,
            "width": null
          }
        },
        "ffd89afebd1e4e1f9c60f38503e9e69f": {
          "model_module": "@jupyter-widgets/controls",
          "model_name": "ProgressStyleModel",
          "model_module_version": "1.5.0",
          "state": {
            "_model_module": "@jupyter-widgets/controls",
            "_model_module_version": "1.5.0",
            "_model_name": "ProgressStyleModel",
            "_view_count": null,
            "_view_module": "@jupyter-widgets/base",
            "_view_module_version": "1.2.0",
            "_view_name": "StyleView",
            "bar_color": null,
            "description_width": ""
          }
        },
        "35e0a9b034a04c35969b32c9a156a249": {
          "model_module": "@jupyter-widgets/base",
          "model_name": "LayoutModel",
          "model_module_version": "1.2.0",
          "state": {
            "_model_module": "@jupyter-widgets/base",
            "_model_module_version": "1.2.0",
            "_model_name": "LayoutModel",
            "_view_count": null,
            "_view_module": "@jupyter-widgets/base",
            "_view_module_version": "1.2.0",
            "_view_name": "LayoutView",
            "align_content": null,
            "align_items": null,
            "align_self": null,
            "border": null,
            "bottom": null,
            "display": null,
            "flex": null,
            "flex_flow": null,
            "grid_area": null,
            "grid_auto_columns": null,
            "grid_auto_flow": null,
            "grid_auto_rows": null,
            "grid_column": null,
            "grid_gap": null,
            "grid_row": null,
            "grid_template_areas": null,
            "grid_template_columns": null,
            "grid_template_rows": null,
            "height": null,
            "justify_content": null,
            "justify_items": null,
            "left": null,
            "margin": null,
            "max_height": null,
            "max_width": null,
            "min_height": null,
            "min_width": null,
            "object_fit": null,
            "object_position": null,
            "order": null,
            "overflow": null,
            "overflow_x": null,
            "overflow_y": null,
            "padding": null,
            "right": null,
            "top": null,
            "visibility": null,
            "width": null
          }
        },
        "bcecbbffb99d4e7aa3c83f8a2fa6ac4e": {
          "model_module": "@jupyter-widgets/controls",
          "model_name": "DescriptionStyleModel",
          "model_module_version": "1.5.0",
          "state": {
            "_model_module": "@jupyter-widgets/controls",
            "_model_module_version": "1.5.0",
            "_model_name": "DescriptionStyleModel",
            "_view_count": null,
            "_view_module": "@jupyter-widgets/base",
            "_view_module_version": "1.2.0",
            "_view_name": "StyleView",
            "description_width": ""
          }
        }
      }
    }
  },
  "cells": [
    {
      "cell_type": "markdown",
      "metadata": {
        "id": "view-in-github",
        "colab_type": "text"
      },
      "source": [
        "<a href=\"https://colab.research.google.com/github/leabizbille/ProjetIOT/blob/main/Home_ToursHabitat.ipynb\" target=\"_parent\"><img src=\"https://colab.research.google.com/assets/colab-badge.svg\" alt=\"Open In Colab\"/></a>"
      ]
    },
    {
      "cell_type": "code",
      "source": [
        "!pip install summarytools -q"
      ],
      "metadata": {
        "colab": {
          "base_uri": "https://localhost:8080/"
        },
        "id": "E6CuuXGfp0qP",
        "outputId": "6df6311a-6a18-4f16-e14a-91228efed8a1"
      },
      "execution_count": 2,
      "outputs": [
        {
          "output_type": "stream",
          "name": "stdout",
          "text": [
            "\u001b[?25l   \u001b[90m━━━━━━━━━━━━━━━━━━━━━━━━━━━━━━━━━━━━━━━━\u001b[0m \u001b[32m0.0/1.6 MB\u001b[0m \u001b[31m?\u001b[0m eta \u001b[36m-:--:--\u001b[0m\r\u001b[2K   \u001b[91m━━━━━━━━━━━━━━━━━━━━━━━━━━━━\u001b[0m\u001b[91m╸\u001b[0m\u001b[90m━━━━━━━━━━━\u001b[0m \u001b[32m1.1/1.6 MB\u001b[0m \u001b[31m32.2 MB/s\u001b[0m eta \u001b[36m0:00:01\u001b[0m\r\u001b[2K   \u001b[90m━━━━━━━━━━━━━━━━━━━━━━━━━━━━━━━━━━━━━━━━\u001b[0m \u001b[32m1.6/1.6 MB\u001b[0m \u001b[31m20.6 MB/s\u001b[0m eta \u001b[36m0:00:00\u001b[0m\n",
            "\u001b[?25h"
          ]
        }
      ]
    },
    {
      "cell_type": "code",
      "source": [
        "!pip install pygwalker -q"
      ],
      "metadata": {
        "colab": {
          "base_uri": "https://localhost:8080/"
        },
        "id": "n3PU7KO9PUeM",
        "outputId": "4e830a0d-9342-4c7f-84cd-b896ff61d9cb"
      },
      "execution_count": 3,
      "outputs": [
        {
          "output_type": "stream",
          "name": "stdout",
          "text": [
            "\u001b[2K   \u001b[90m━━━━━━━━━━━━━━━━━━━━━━━━━━━━━━━━━━━━━━━━\u001b[0m \u001b[32m4.5/4.5 MB\u001b[0m \u001b[31m38.9 MB/s\u001b[0m eta \u001b[36m0:00:00\u001b[0m\n",
            "\u001b[2K   \u001b[90m━━━━━━━━━━━━━━━━━━━━━━━━━━━━━━━━━━━━━━━━\u001b[0m \u001b[32m956.2/956.2 kB\u001b[0m \u001b[31m27.5 MB/s\u001b[0m eta \u001b[36m0:00:00\u001b[0m\n",
            "\u001b[2K   \u001b[90m━━━━━━━━━━━━━━━━━━━━━━━━━━━━━━━━━━━━━━━━\u001b[0m \u001b[32m100.2/100.2 kB\u001b[0m \u001b[31m4.9 MB/s\u001b[0m eta \u001b[36m0:00:00\u001b[0m\n",
            "\u001b[2K   \u001b[90m━━━━━━━━━━━━━━━━━━━━━━━━━━━━━━━━━━━━━━━━\u001b[0m \u001b[32m213.7/213.7 kB\u001b[0m \u001b[31m8.2 MB/s\u001b[0m eta \u001b[36m0:00:00\u001b[0m\n",
            "\u001b[2K   \u001b[90m━━━━━━━━━━━━━━━━━━━━━━━━━━━━━━━━━━━━━━━━\u001b[0m \u001b[32m66.4/66.4 kB\u001b[0m \u001b[31m2.4 MB/s\u001b[0m eta \u001b[36m0:00:00\u001b[0m\n",
            "\u001b[2K   \u001b[90m━━━━━━━━━━━━━━━━━━━━━━━━━━━━━━━━━━━━━━━━\u001b[0m \u001b[32m2.2/2.2 MB\u001b[0m \u001b[31m26.7 MB/s\u001b[0m eta \u001b[36m0:00:00\u001b[0m\n",
            "\u001b[2K   \u001b[90m━━━━━━━━━━━━━━━━━━━━━━━━━━━━━━━━━━━━━━━━\u001b[0m \u001b[32m727.4/727.4 kB\u001b[0m \u001b[31m12.2 MB/s\u001b[0m eta \u001b[36m0:00:00\u001b[0m\n",
            "\u001b[2K   \u001b[90m━━━━━━━━━━━━━━━━━━━━━━━━━━━━━━━━━━━━━━━━\u001b[0m \u001b[32m6.4/6.4 MB\u001b[0m \u001b[31m35.4 MB/s\u001b[0m eta \u001b[36m0:00:00\u001b[0m\n",
            "\u001b[?25h"
          ]
        }
      ]
    },
    {
      "cell_type": "code",
      "source": [
        "pip install sweetviz -q"
      ],
      "metadata": {
        "colab": {
          "base_uri": "https://localhost:8080/"
        },
        "id": "h4Ln6ukSH94V",
        "outputId": "353020e4-2dfb-4187-a435-6d02ddffc907"
      },
      "execution_count": 4,
      "outputs": [
        {
          "output_type": "stream",
          "name": "stdout",
          "text": [
            "\u001b[2K   \u001b[90m━━━━━━━━━━━━━━━━━━━━━━━━━━━━━━━━━━━━━━━━\u001b[0m \u001b[32m15.1/15.1 MB\u001b[0m \u001b[31m26.3 MB/s\u001b[0m eta \u001b[36m0:00:00\u001b[0m\n",
            "\u001b[?25h"
          ]
        }
      ]
    },
    {
      "cell_type": "code",
      "execution_count": 5,
      "metadata": {
        "id": "3fnnnXoyHp0N"
      },
      "outputs": [],
      "source": [
        "import pygwalker as pyg\n",
        "from summarytools import dfSummary # module pandas-profiling\n",
        "import pandas as pd\n",
        "import sweetviz as sv # Module pour faire le rapport HTML\n",
        "import missingno as msno"
      ]
    },
    {
      "cell_type": "code",
      "source": [
        "# Charger les fichiers CSV en conservant les titres des colonnes\n",
        "THabitat2023 = pd.read_csv(\"/content/Tours Habitat_2023.csv\",sep= \";\")\n",
        "THabitat2024= pd.read_csv(\"/content/Tours Habitat_2024.csv\",sep= \";\")"
      ],
      "metadata": {
        "id": "tLuwPqQSTzTz"
      },
      "execution_count": 24,
      "outputs": []
    },
    {
      "cell_type": "code",
      "source": [
        "msno.matrix(THabitat2023)"
      ],
      "metadata": {
        "colab": {
          "base_uri": "https://localhost:8080/",
          "height": 479
        },
        "id": "WruPaoo_51wa",
        "outputId": "67a177c3-051f-4e10-f5dc-76567bd60c42"
      },
      "execution_count": 25,
      "outputs": [
        {
          "output_type": "execute_result",
          "data": {
            "text/plain": [
              "<Axes: >"
            ]
          },
          "metadata": {},
          "execution_count": 25
        },
        {
          "output_type": "display_data",
          "data": {
            "text/plain": [
              "<Figure size 2500x1000 with 2 Axes>"
            ],
            "image/png": "[encoded data removed]"
          },
          "metadata": {}
        }
      ]
    },
    {
      "cell_type": "code",
      "source": [
        "msno.matrix(THabitat2024)"
      ],
      "metadata": {
        "colab": {
          "base_uri": "https://localhost:8080/",
          "height": 475
        },
        "id": "VvMChGUllQ9X",
        "outputId": "fee73862-469f-4f05-83f4-7a90de4924ab"
      },
      "execution_count": 26,
      "outputs": [
        {
          "output_type": "execute_result",
          "data": {
            "text/plain": [
              "<Axes: >"
            ]
          },
          "metadata": {},
          "execution_count": 26
        },
        {
          "output_type": "display_data",
          "data": {
            "text/plain": [
              "<Figure size 2500x1000 with 2 Axes>"
            ],
            "image/png": "[encoded data removed]"
          },
          "metadata": {}
        }
      ]
    },
    {
      "cell_type": "code",
      "source": [
        "# Description pour comprendre les données et mettre en suite le tableau en forme\n",
        "dfSummary(THabitat2024)"
      ],
      "metadata": {
        "colab": {
          "base_uri": "https://localhost:8080/",
          "height": 1000
        },
        "id": "7tCXdcXi6ALw",
        "outputId": "0739cc6e-cfec-469f-a5e2-3d518d88e2e4"
      },
      "execution_count": 27,
      "outputs": [
        {
          "output_type": "execute_result",
          "data": {
            "text/plain": [
              "<pandas.io.formats.style.Styler at 0x7ec22128e8c0>"
            ],
            "text/html": [
              "<style type=\"text/css\">\n",
              "#T_9f0a9 thead>tr>th {\n",
              "  text-align: left;\n",
              "}\n",
              "#T_9f0a9_row0_col0, #T_9f0a9_row1_col0, #T_9f0a9_row2_col0, #T_9f0a9_row3_col0, #T_9f0a9_row4_col0, #T_9f0a9_row5_col0, #T_9f0a9_row6_col0 {\n",
              "  text-align: left;\n",
              "  font-size: 12px;\n",
              "  vertical-align: middle;\n",
              "  width: 5%;\n",
              "  max-width: 50px;\n",
              "  min-width: 20px;\n",
              "}\n",
              "#T_9f0a9_row0_col1, #T_9f0a9_row1_col1, #T_9f0a9_row2_col1, #T_9f0a9_row3_col1, #T_9f0a9_row4_col1, #T_9f0a9_row5_col1, #T_9f0a9_row6_col1 {\n",
              "  text-align: left;\n",
              "  font-size: 12px;\n",
              "  vertical-align: middle;\n",
              "  width: 15%;\n",
              "  max-width: 200px;\n",
              "  min-width: 100px;\n",
              "  word-break: break-word;\n",
              "}\n",
              "#T_9f0a9_row0_col2, #T_9f0a9_row1_col2, #T_9f0a9_row2_col2, #T_9f0a9_row3_col2, #T_9f0a9_row4_col2, #T_9f0a9_row5_col2, #T_9f0a9_row6_col2 {\n",
              "  text-align: left;\n",
              "  font-size: 12px;\n",
              "  vertical-align: middle;\n",
              "  width: 30%;\n",
              "  min-width: 100px;\n",
              "}\n",
              "#T_9f0a9_row0_col3, #T_9f0a9_row1_col3, #T_9f0a9_row2_col3, #T_9f0a9_row3_col3, #T_9f0a9_row4_col3, #T_9f0a9_row5_col3, #T_9f0a9_row6_col3 {\n",
              "  text-align: left;\n",
              "  font-size: 12px;\n",
              "  vertical-align: middle;\n",
              "  width: 25%;\n",
              "  min-width: 100px;\n",
              "}\n",
              "#T_9f0a9_row0_col4, #T_9f0a9_row1_col4, #T_9f0a9_row2_col4, #T_9f0a9_row3_col4, #T_9f0a9_row4_col4, #T_9f0a9_row5_col4, #T_9f0a9_row6_col4 {\n",
              "  text-align: left;\n",
              "  font-size: 12px;\n",
              "  vertical-align: middle;\n",
              "  width: 20%;\n",
              "  min-width: 150px;\n",
              "}\n",
              "#T_9f0a9_row0_col5, #T_9f0a9_row1_col5, #T_9f0a9_row2_col5, #T_9f0a9_row3_col5, #T_9f0a9_row4_col5, #T_9f0a9_row5_col5, #T_9f0a9_row6_col5 {\n",
              "  text-align: left;\n",
              "  font-size: 12px;\n",
              "  vertical-align: middle;\n",
              "  width: 10%;\n",
              "}\n",
              "</style>\n",
              "<table id=\"T_9f0a9\" class=\"dataframe\">\n",
              "  <caption><strong>Data Frame Summary</strong><br>THabitat2024<br>Dimensions: 19,227 x 7<br>Duplicates: 0</caption>\n",
              "  <thead>\n",
              "    <tr>\n",
              "      <th id=\"T_9f0a9_level0_col0\" class=\"col_heading level0 col0\" >No</th>\n",
              "      <th id=\"T_9f0a9_level0_col1\" class=\"col_heading level0 col1\" >Variable</th>\n",
              "      <th id=\"T_9f0a9_level0_col2\" class=\"col_heading level0 col2\" >Stats / Values</th>\n",
              "      <th id=\"T_9f0a9_level0_col3\" class=\"col_heading level0 col3\" >Freqs / (% of Valid)</th>\n",
              "      <th id=\"T_9f0a9_level0_col4\" class=\"col_heading level0 col4\" >Graph</th>\n",
              "      <th id=\"T_9f0a9_level0_col5\" class=\"col_heading level0 col5\" >Missing</th>\n",
              "    </tr>\n",
              "  </thead>\n",
              "  <tbody>\n",
              "    <tr>\n",
              "      <td id=\"T_9f0a9_row0_col0\" class=\"data row0 col0\" >1</td>\n",
              "      <td id=\"T_9f0a9_row0_col1\" class=\"data row0 col1\" ><strong>Date</strong><br>[object]</td>\n",
              "      <td id=\"T_9f0a9_row0_col2\" class=\"data row0 col2\" >1. 2024-04-10 10:00:05<br>2. 2024-01-10 19:00:06<br>3. 2024-01-24 16:22:05<br>4. 2024-04-30 19:00:06<br>5. 2024-04-29 21:00:05<br>6. 2024-03-19 10:00:06<br>7. 2024-04-04 21:00:07<br>8. 2024-04-30 03:00:06<br>9. 2024-05-05 01:00:08<br>10. 2024-05-04 17:00:07<br>11. other</td>\n",
              "      <td id=\"T_9f0a9_row0_col3\" class=\"data row0 col3\" >10 (0.1%)<br>9 (0.0%)<br>9 (0.0%)<br>8 (0.0%)<br>8 (0.0%)<br>8 (0.0%)<br>8 (0.0%)<br>8 (0.0%)<br>8 (0.0%)<br>8 (0.0%)<br>19,143 (99.6%)</td>\n",
              "      <td id=\"T_9f0a9_row0_col4\" class=\"data row0 col4\" ><img src = \"data:image/png;base64, iVBORw0KGgoAAAANSUhEUgAAAJsAAAD+CAYAAAAtWHdlAAAAOXRFWHRTb2Z0d2FyZQBNYXRwbG90bGliIHZlcnNpb24zLjguMCwgaHR0cHM6Ly9tYXRwbG90bGliLm9yZy81sbWrAAAACXBIWXMAAA9hAAAPYQGoP6dpAAADQklEQVR4nO3cwWkbYRRG0TdCJPZGQghUQtKDisg2HauINGGkReJ44yyCS8gdmJxTwb+48BDMp+X9/X2gsFv7Afw/xEZGbGTERkZsZMRGRmxkxEZGbGTERma3LMvXZVme1n4I27ebmS8z83nth7B9zigZsZERGxmxkREbGbGRERsZsZERGxmxkREbGbGRERsZsZERGxmxkdnNzI+Z+b32Q9i+xb8YUXFGyYiNjHUVGesqMs4oGbGRERsZsZERGxmxkREbGbGRERsZsZERGxmxkREbGbGRERsZgxcyBi9knFEyYiNj8ELG4IWMM0pGbGTERkZsZMRGRmxkxEZGbGTERkZsZMRGRmxkxEZGbGTERsbghYzBCxlnlIzYyIiNjHUVGesqMs4oGbGRERsZsZERGxmxkREbGbGRERsZsZERGxmxkREbGbGRERsZ6yoy1lVknFEyYiNj8ELG4IWMM0pGbGTERkZsZMRGRmxkxEZGbGTERkZsZMRGRmxkxEZGbGTERsbghYzBCxlnlIzYyBi8kDF4IeOMkhEbGbGRERsZsZERGxmxkREbGbGRERsZsZERGxmxkREbGbGRERsZ6yoy1lVknFEyYiNjXUXGuoqMM0pGbGTERkZsZMRGRmxkxEZGbGTERkZsZMRGRmxkxEZGbGTERsbghYzBCxlnlIzYyBi8kDF4IeOMkhEbGbGRERsZsZERGxmxkREbGbGRERsZsZERGxmxkREbGbGRMXghY/BCxhklIzYyYiNjXUXGuoqMM0pGbGTERkZsZMRGRmxkxEZGbGTERkZsZMRGRmxkxEZGbGTERsa6iox1FRlnlIzYyBi8kDF4IeOMkhEbGbGRERsZsZERGxmxkREbGbGRERsZsZERGxmxkREbGbGRMXghY/BCxhkls8zM88x8WvshbN7b/nw+fzscDqe1X8K2PR6Pl/3hcDhdr9dfx+Pxde0HsU33+/3pdrud9jMzx+Px9XK5/Fz7UWzasx8IZMRGRmxkxEZGbGTERkZsZMRGRmxkxEZGbGTERkZsZPYzfz8BWfshbNdHX8v5fP7u40n+tcfj8eKzcCpv1lVk/EAgIzYyYiMjNjJiIyM2MmIjIzYyYiPzB0WpV2yec8bJAAAAAElFTkSuQmCC\"></img></td>\n",
              "      <td id=\"T_9f0a9_row0_col5\" class=\"data row0 col5\" >0<br>(0.0%)</td>\n",
              "    </tr>\n",
              "    <tr>\n",
              "      <td id=\"T_9f0a9_row1_col0\" class=\"data row1 col0\" >2</td>\n",
              "      <td id=\"T_9f0a9_row1_col1\" class=\"data row1 col1\" ><strong>Objet</strong><br>[object]</td>\n",
              "      <td id=\"T_9f0a9_row1_col2\" class=\"data row1 col2\" >1. Données calculées</td>\n",
              "      <td id=\"T_9f0a9_row1_col3\" class=\"data row1 col3\" >19,227 (100.0%)</td>\n",
              "      <td id=\"T_9f0a9_row1_col4\" class=\"data row1 col4\" ><img src = \"data:image/png;base64, iVBORw0KGgoAAAANSUhEUgAAAJsAAAAXCAYAAAAcEz0vAAAAOXRFWHRTb2Z0d2FyZQBNYXRwbG90bGliIHZlcnNpb24zLjguMCwgaHR0cHM6Ly9tYXRwbG90bGliLm9yZy81sbWrAAAACXBIWXMAAA9hAAAPYQGoP6dpAAAAnUlEQVR4nO3bsQ0CMRBE0TlkoSPx6mTJxbgIUvovYZPjQgJqYCyZ/yqY4Ie7m6SHpLuAHyuttWet9Zg9BOsrtdZjjPGOiGv2GKwrM/ciSRFx9d7P2YOwttvsAfgfxAYbYoMNscGG2GBDbLAhNtgQG2yIDTbEBhtigw2xwYbYYENssCE22BAbbIgNNkX6nuzOHoK1Zea+tdZePLzA4QPFNA/EDSh7IQAAAABJRU5ErkJggg==\"></img></td>\n",
              "      <td id=\"T_9f0a9_row1_col5\" class=\"data row1 col5\" >0<br>(0.0%)</td>\n",
              "    </tr>\n",
              "    <tr>\n",
              "      <td id=\"T_9f0a9_row2_col0\" class=\"data row2 col0\" >3</td>\n",
              "      <td id=\"T_9f0a9_row2_col1\" class=\"data row2 col1\" ><strong>Équipement</strong><br>[object]</td>\n",
              "      <td id=\"T_9f0a9_row2_col2\" class=\"data row2 col2\" >1. Conso horaire 1er Etage_120409<br>2. Conso horaire RDC_120404_FCH<br>3. Conso horaire RDC_12044B_FCH<br>4. Conso horaire E2_120417_FCH<br>5. Conso horaire RDC_12044E_FCH</td>\n",
              "      <td id=\"T_9f0a9_row2_col3\" class=\"data row2 col3\" >7,604 (39.5%)<br>4,962 (25.8%)<br>4,063 (21.1%)<br>2,311 (12.0%)<br>287 (1.5%)</td>\n",
              "      <td id=\"T_9f0a9_row2_col4\" class=\"data row2 col4\" ><img src = \"data:image/png;base64, iVBORw0KGgoAAAANSUhEUgAAAJsAAABzCAYAAACPdnBjAAAAOXRFWHRTb2Z0d2FyZQBNYXRwbG90bGliIHZlcnNpb24zLjguMCwgaHR0cHM6Ly9tYXRwbG90bGliLm9yZy81sbWrAAAACXBIWXMAAA9hAAAPYQGoP6dpAAACYklEQVR4nO3bQYoaURiF0V+RTpyUiOAyXEAvIovNIlyA+xCxBrHTEzNICJl0N4Tyvuqqc1bwhI+SV9Rd3O/3goRl6wMwH2IjRmzELKpqXVVPrQ8S9nq/32+tDzE3q91u963rum3rgyT1fX9ZLBbfBZe16rpu+/z8fNtsNi+tD5NwvV6/Ho/H7fl8fqoqsQWtqqo2m83Lfr//0fowQevWB5gjFwRixEaM2IgRGzFiI0ZsxIiNGLERIzZixEaM2IgRGzFiI2ZV9fuzm9YHSZnTbx2bVd/3l+PxuK0ZfXbT9/2lql5bn2NufBZOzMJulBQXBGI+w9+ov7yJGP26yhJqOka9rrKEmpbPsK6azSuZqXNBIEZsxIiNGLERIzZixEaM2IgRGzFiI0ZsxIiNGLERIzZiRr2uGuu5+D+jX1dZQk2Hz8KJsa4ixgWBmLH8jfqrnIFRrKssqOah+brKgmo+xrKuGuVrF4blgkCM2IgRGzFiI0ZsxIiNGLERIzZixEaM2IgRGzFiI0ZsxDRfV1lQzcco1lUWVPPgs3BirKuIGfrJ5gnFmwYdvBiu8J7BBi+GK3xk6MGL4Qpv8lKXGLERIzZixEaM2IgRGzFiI0ZsxIiNGLERIzZixEaM2IgRGzGDrauspPjIoOsqKyneY4NAjHUVMf8+2TyVeKi/6yrLKB5t2XXd9nA41J85X+tlPBO2rKpar9c/Wx+E6fNSlxixESM2YsRGjNiIERsxYiNGbMSIjRixESM2YsRGjNiIERsxy6qq2+32pfVBmL5l3/eX0+lkGcXD2SAQY11FjAsCMWIj5heO4v8NNfN6wgAAAABJRU5ErkJggg==\"></img></td>\n",
              "      <td id=\"T_9f0a9_row2_col5\" class=\"data row2 col5\" >0<br>(0.0%)</td>\n",
              "    </tr>\n",
              "    <tr>\n",
              "      <td id=\"T_9f0a9_row3_col0\" class=\"data row3 col0\" >4</td>\n",
              "      <td id=\"T_9f0a9_row3_col1\" class=\"data row3 col1\" ><strong>Commande</strong><br>[object]</td>\n",
              "      <td id=\"T_9f0a9_row3_col2\" class=\"data row3 col2\" >1. Conso E2 Tableau Général<br>2. Conso E1 Tableau général<br>3. Conso E1 Bureaux<br>4. Conso E1 Eclairage<br>5. Conso E1 Circulation<br>6. Conso RDC Armoire3<br>7. Conso RDC Armoire5<br>8. Conso RDC VMC Ateliers<br>9. Conso RDC Armoire1<br>10. Conso RDC Tab Lumières Général<br>11. other</td>\n",
              "      <td id=\"T_9f0a9_row3_col3\" class=\"data row3 col3\" >2,310 (12.0%)<br>2,228 (11.6%)<br>2,009 (10.4%)<br>1,698 (8.8%)<br>1,395 (7.3%)<br>1,251 (6.5%)<br>1,243 (6.5%)<br>1,242 (6.5%)<br>1,226 (6.4%)<br>1,019 (5.3%)<br>3,606 (18.8%)</td>\n",
              "      <td id=\"T_9f0a9_row3_col4\" class=\"data row3 col4\" ><img src = \"data:image/png;base64, iVBORw0KGgoAAAANSUhEUgAAAJsAAAD+CAYAAAAtWHdlAAAAOXRFWHRTb2Z0d2FyZQBNYXRwbG90bGliIHZlcnNpb24zLjguMCwgaHR0cHM6Ly9tYXRwbG90bGliLm9yZy81sbWrAAAACXBIWXMAAA9hAAAPYQGoP6dpAAAECUlEQVR4nO3dQWrjWABF0e/ChK6JTQhkMVlEL7YW4d2EEA26ipq4Bz3sJpGsz22Iz1mAyODyjYRedLherwMK3/7vP4D7ITYyYiMjNjJiIyM2MmIjIzYyYiNzGGN8H2M8TLre7+v1+nPStfhijk9PT3+eTqfHGRdbluXtcDj8EBz/5Xg6nR5fXl5+ns/nX3su9P7+/sflcnl8fX19GGOIjX85jjHG+Xz+9fz8/NeE632fcA2+KDcIZMRGRmxkxEZGbGTERkZsZMRGRmxkxEZGbGTERkZsZMRG5jjGP++i7b3QjGvwtR2XZXm7XC6PY8K7aMuyvI0xfu//s/iKbBDIHPzLLCozTzanGh+atq6yrOIzU9ZVllWsMXNdZVnFhzzUJSM2MmIjIzYyYiMjNjJiIyM2MmIjIzYyYiMjNjJiIzNl8GLswhrTBi/GLnzGa+FkDF7IzDjZnGissnvwYujCWrsGL4YubDFj8GLowioe6pIRGxmxkREbGbGRERsZsZERGxmxkREbGbGRERsZsZHZNXgxdGGL3YMXQxfW8lo4GYMXMm4QyOz5GfXzySY3r6usqtjqpnWVVRW32LOusqpiEzcIZMRGRmxkxEZGbGTERkZsZMRGRmxkxEZGbGTERkZsZG5aV1lVcYub11VWVWzltXAy1lVktp5sTjNutmnwYuTCHqsHL0Yu7LV18GLkws081CUjNjJiIyM2MmIjIzYyYiMjNjJiIyM2MmIjIzYyYiOzevBi5MJemwYvRi7s4bVwMgYvZLacbE41dlk9eDF2Ya9VgxdjF2bYMngxdmEXD3XJiI2M2MiIjYzYyIiNjNjIiI2M2MiIjYzYyIiNjNjIiI3MqnWVZRUzrF5XWVaxlw0CGesqMk42MtZVZKyryFhXkfFQl4zYyIiNjNjIiI2M2MiIjYzYyIiNjNjIiI2M2MiIjYzBCxmDFzJeCydj8ELGyUbG4IWMwQsZgxcyHuqSERsZsZERGxmxkREbGbGRERsZsZERGxmxkREbGbGRMXghY/BCxmvhZAxeyLhBIONnlIx1FRnrKjLWVWTcIJARGxmxkREbGbGRERsZsZERGxmxkREbGbGRERsZsZGxriJjXUXGa+FkrKvIrDnZnGhM8engxdCFWT4cvBi6MNOawYuhC1N4qEtGbGTERkZsZMRGRmxkxEZGbGTERkZsZMRGRmxkxEbmw8GLoQszfTp4MXRhFq+FkzF4IbNlyjeT0/IOrf7Cy0xGNPdp1RdeZjKiuV9bvvAykxHNHfJQl4zYyIiNjNjIiI2M2MiIjYzYyIiNjNjIiI2M2MiIjcyqL7zMZERzv1Z/4WUmI5r75LVwMgYvZNwgkBEbGbGRERsZsZERGxmxkREbGbGR+Ruw8k7iCIZxTQAAAABJRU5ErkJggg==\"></img></td>\n",
              "      <td id=\"T_9f0a9_row3_col5\" class=\"data row3 col5\" >0<br>(0.0%)</td>\n",
              "    </tr>\n",
              "    <tr>\n",
              "      <td id=\"T_9f0a9_row4_col0\" class=\"data row4 col0\" >5</td>\n",
              "      <td id=\"T_9f0a9_row4_col1\" class=\"data row4 col1\" ><strong>Type Générique</strong><br>[float64]</td>\n",
              "      <td id=\"T_9f0a9_row4_col2\" class=\"data row4 col2\" >1. nan</td>\n",
              "      <td id=\"T_9f0a9_row4_col3\" class=\"data row4 col3\" >19,227 (100.0%)</td>\n",
              "      <td id=\"T_9f0a9_row4_col4\" class=\"data row4 col4\" ><img src = \"data:image/png;base64, iVBORw0KGgoAAAANSUhEUgAAAJsAAAAXCAYAAAAcEz0vAAAAOXRFWHRTb2Z0d2FyZQBNYXRwbG90bGliIHZlcnNpb24zLjguMCwgaHR0cHM6Ly9tYXRwbG90bGliLm9yZy81sbWrAAAACXBIWXMAAA9hAAAPYQGoP6dpAAAAnUlEQVR4nO3bsQ0CMRBE0TlkoSPx6mTJxbgIUvovYZPjQgJqYCyZ/yqY4Ie7m6SHpLuAHyuttWet9Zg9BOsrtdZjjPGOiGv2GKwrM/ciSRFx9d7P2YOwttvsAfgfxAYbYoMNscGG2GBDbLAhNtgQG2yIDTbEBhtigw2xwYbYYENssCE22BAbbIgNNkX6nuzOHoK1Zea+tdZePLzA4QPFNA/EDSh7IQAAAABJRU5ErkJggg==\"></img></td>\n",
              "      <td id=\"T_9f0a9_row4_col5\" class=\"data row4 col5\" >19,227<br>(100.0%)</td>\n",
              "    </tr>\n",
              "    <tr>\n",
              "      <td id=\"T_9f0a9_row5_col0\" class=\"data row5 col0\" >6</td>\n",
              "      <td id=\"T_9f0a9_row5_col1\" class=\"data row5 col1\" ><strong>Valeur</strong><br>[object]</td>\n",
              "      <td id=\"T_9f0a9_row5_col2\" class=\"data row5 col2\" >1. 0<br>2. 0,010000000<br>3. 0,020000000<br>4. 0,030000000<br>5. 0,040000000<br>6. 0,050000000<br>7. 0,060000000<br>8. 1,640000000<br>9. 1,660000000<br>10. 0,460000000<br>11. other</td>\n",
              "      <td id=\"T_9f0a9_row5_col3\" class=\"data row5 col3\" >3,456 (18.0%)<br>1,291 (6.7%)<br>439 (2.3%)<br>423 (2.2%)<br>271 (1.4%)<br>120 (0.6%)<br>73 (0.4%)<br>61 (0.3%)<br>58 (0.3%)<br>53 (0.3%)<br>12,982 (67.5%)</td>\n",
              "      <td id=\"T_9f0a9_row5_col4\" class=\"data row5 col4\" ><img src = \"data:image/png;base64, iVBORw0KGgoAAAANSUhEUgAAAJsAAAD+CAYAAAAtWHdlAAAAOXRFWHRTb2Z0d2FyZQBNYXRwbG90bGliIHZlcnNpb24zLjguMCwgaHR0cHM6Ly9tYXRwbG90bGliLm9yZy81sbWrAAAACXBIWXMAAA9hAAAPYQGoP6dpAAAEh0lEQVR4nO3dQW7aeBjG4c/IypSNLYTEEWZ2OQCHyGF7CB8gy7kDQnhR0mzoomnVTNJRKuLXCXmeXVf+S/3JLshvaU6nU0HCYu4D8HGIjRixESM2YsRGjNiIERsxYiNGbMQ0VbWsqqvgNe9Pp9MxeD3eiHa9Xt90XbdKXXAcx33TNJ8F9/G0Xdetttvtse/7u6kvdjgcPg3DsNrtdldVJbYPpq2q6vv+brPZfAldcxm6Dm+MDwjEiI0YsREjNmLERozYiBEbMWIjRmzEiI0YsREjNmLERozYiGmrvr9nlrhY6jq8Te04jvthGFYVes9sHMd9Vd0nrsXbYoNATOO/zCLlT+5s7kic5cXrKqsozvWidZVVFK/hT9ZVVlGcxZe6xIiNGLERIzZixEaM2IgRGzFiI0ZsxIiNGLERIzZixEbMiwYvhiq8hhcPXgxVOJfXwokxeCHmuTubOxiTeDJ4MWxhKo8GL4YtTOm5wYthC5PwpS4xYiNGbMSIjRixESM2YsRGjNiIERsxYiNGbMSIjRixEfNo8GLYwpSeDF4MW5iK18KJMXghxgcEYv77GPUIZTKP1lWWVUxp8WNdtd1ujw/RJX8Okg/k57rq4c+WVUzGBwRixEaM2IgRGzFiI0ZsxIiNGLERIzZixEaM2IgRGzFiI+ZFPycEr+HXdZVlFZPyWjgx1lXE/Hpnc1djUj8HL8YuTG3Rdd3q+vq6jF2Y2qKqarlcfp37IFw+X+oSIzZixEaM2IgRGzFiI0ZsxIiNGLERIzZixEaM2IgRGzGLqqrj8fjX3Afh8i3Gcdzf3t4auzA5r4UTY/BCzI87W7mrMbV2vV7fVFUZuzC1Rdd1K2MXEnzPRozYiBEbMWIjRmzEiI0YsREjNmLERozYiBEbMWIjRmzEiI0YsREjNmLah1VVlWUVE7NBIMa6ihh3NmKsq4ixriLGVx/EiI0YsREjNmLERozYiBEbMWIjRmzEiI0YsREjNmLERozYiBEbMQYvxHgtnBiDF2L8m42YRdM0/zRN82nug3D5FlX1d1X5cVsm5zFKjNiIERsxYiNGbMSIjRixESM2YsRGjNiIERsxYiNGbMSIjRixEbOoqn+r6uvcB+Hy2SAQ4zFKjNiIERsx1lXEWFcR4zFKjNiIERsxYiNGbMSIjRixESM2YsRGjNiIERsxYiNGbMSIjRixEWNdRYx1FTEeo8SIjRiDF2IMXojxGCVGbMSIjRixESM2YsRGjNiIERsxYiNGbMSIjRixESM2YsRGjNiIMXghxuCFGI9RYpqqWlbV1dwH4X/dn06n49yHOFe7Xq9vuq5bzX0Qfm8cx33TNJ/fe3Bt13Wr7XZ77Pv+bu7D8NThcPg0DMNqt9tdVdX7jq2qqu/7u81m82Xuw/Bby7kP8Bp8QCBGbMSIjRixESM2YsRGjNiIERsxYiNGbMSIjRixESM2Ytqq76+xzH0QnndJfzftOI77YRhWdSGvsVyicRz3VXU/9znO5bXw9+EiXgu3riLGBwRixEaM2IgRGzFiI0ZsxIiNGLERIzZivgEvA2NtFolxvQAAAABJRU5ErkJggg==\"></img></td>\n",
              "      <td id=\"T_9f0a9_row5_col5\" class=\"data row5 col5\" >0<br>(0.0%)</td>\n",
              "    </tr>\n",
              "    <tr>\n",
              "      <td id=\"T_9f0a9_row6_col0\" class=\"data row6 col0\" >7</td>\n",
              "      <td id=\"T_9f0a9_row6_col1\" class=\"data row6 col1\" ><strong>Unité</strong><br>[object]</td>\n",
              "      <td id=\"T_9f0a9_row6_col2\" class=\"data row6 col2\" >1. kWh<br>2. nan<br>3. k</td>\n",
              "      <td id=\"T_9f0a9_row6_col3\" class=\"data row6 col3\" >19,225 (100.0%)<br>1 (0.0%)<br>1 (0.0%)</td>\n",
              "      <td id=\"T_9f0a9_row6_col4\" class=\"data row6 col4\" ><img src = \"data:image/png;base64, iVBORw0KGgoAAAANSUhEUgAAAJsAAABFCAYAAABdVZTTAAAAOXRFWHRTb2Z0d2FyZQBNYXRwbG90bGliIHZlcnNpb24zLjguMCwgaHR0cHM6Ly9tYXRwbG90bGliLm9yZy81sbWrAAAACXBIWXMAAA9hAAAPYQGoP6dpAAABQUlEQVR4nO3bsU3EQBCG0VnLgiOxdbLkEqCHK4KU3unCCRyRCaiBf6W99yqY4JNGK+208zwLEqbeA/A4WlW9VNVT70EY37xt2/uyLNfegzC+eVmW6+12+17X9d57GMZ1HMdlrqpa1/W+7/tX74EYmwcCMWIjRmzEiI0YsREjNmLERozYiBEbMWIjRmzEiI0YsREjNmLmqr+/Rr0HYWzHcVzatm0ffuqS4AaBmOaUjxQPBGKm1tpba80DgX83VdVrVT33HoTxWaPEiI0YsREjNmLERozYiBEbMWIjRmzEiI0YsREjNmLERozYiBEbMWIjZqqqz6r66T0I43PwQow1SozYiBEbMU75iHHKR4w1SozYiBEbMWIjRmzEiI0YsREjNmLERozYiBEbMWIjRmzEiI0YsREjNmKc8hHjlI8Ya5SYX8x1IIgKwWYlAAAAAElFTkSuQmCC\"></img></td>\n",
              "      <td id=\"T_9f0a9_row6_col5\" class=\"data row6 col5\" >1<br>(0.0%)</td>\n",
              "    </tr>\n",
              "  </tbody>\n",
              "</table>\n"
            ]
          },
          "metadata": {},
          "execution_count": 27
        }
      ]
    },
    {
      "cell_type": "code",
      "source": [
        "# Description pour comprendre les données et mettre en suite le tableau en forme\n",
        "dfSummary(THabitat2024)"
      ],
      "metadata": {
        "colab": {
          "base_uri": "https://localhost:8080/",
          "height": 1000
        },
        "id": "QHGN3sbgpr1-",
        "outputId": "e2b671c2-87c2-42d6-9f9d-4eee96e0284e"
      },
      "execution_count": 28,
      "outputs": [
        {
          "output_type": "execute_result",
          "data": {
            "text/plain": [
              "<pandas.io.formats.style.Styler at 0x7ec22161aaa0>"
            ],
            "text/html": [
              "<style type=\"text/css\">\n",
              "#T_42ae7 thead>tr>th {\n",
              "  text-align: left;\n",
              "}\n",
              "#T_42ae7_row0_col0, #T_42ae7_row1_col0, #T_42ae7_row2_col0, #T_42ae7_row3_col0, #T_42ae7_row4_col0, #T_42ae7_row5_col0, #T_42ae7_row6_col0 {\n",
              "  text-align: left;\n",
              "  font-size: 12px;\n",
              "  vertical-align: middle;\n",
              "  width: 5%;\n",
              "  max-width: 50px;\n",
              "  min-width: 20px;\n",
              "}\n",
              "#T_42ae7_row0_col1, #T_42ae7_row1_col1, #T_42ae7_row2_col1, #T_42ae7_row3_col1, #T_42ae7_row4_col1, #T_42ae7_row5_col1, #T_42ae7_row6_col1 {\n",
              "  text-align: left;\n",
              "  font-size: 12px;\n",
              "  vertical-align: middle;\n",
              "  width: 15%;\n",
              "  max-width: 200px;\n",
              "  min-width: 100px;\n",
              "  word-break: break-word;\n",
              "}\n",
              "#T_42ae7_row0_col2, #T_42ae7_row1_col2, #T_42ae7_row2_col2, #T_42ae7_row3_col2, #T_42ae7_row4_col2, #T_42ae7_row5_col2, #T_42ae7_row6_col2 {\n",
              "  text-align: left;\n",
              "  font-size: 12px;\n",
              "  vertical-align: middle;\n",
              "  width: 30%;\n",
              "  min-width: 100px;\n",
              "}\n",
              "#T_42ae7_row0_col3, #T_42ae7_row1_col3, #T_42ae7_row2_col3, #T_42ae7_row3_col3, #T_42ae7_row4_col3, #T_42ae7_row5_col3, #T_42ae7_row6_col3 {\n",
              "  text-align: left;\n",
              "  font-size: 12px;\n",
              "  vertical-align: middle;\n",
              "  width: 25%;\n",
              "  min-width: 100px;\n",
              "}\n",
              "#T_42ae7_row0_col4, #T_42ae7_row1_col4, #T_42ae7_row2_col4, #T_42ae7_row3_col4, #T_42ae7_row4_col4, #T_42ae7_row5_col4, #T_42ae7_row6_col4 {\n",
              "  text-align: left;\n",
              "  font-size: 12px;\n",
              "  vertical-align: middle;\n",
              "  width: 20%;\n",
              "  min-width: 150px;\n",
              "}\n",
              "#T_42ae7_row0_col5, #T_42ae7_row1_col5, #T_42ae7_row2_col5, #T_42ae7_row3_col5, #T_42ae7_row4_col5, #T_42ae7_row5_col5, #T_42ae7_row6_col5 {\n",
              "  text-align: left;\n",
              "  font-size: 12px;\n",
              "  vertical-align: middle;\n",
              "  width: 10%;\n",
              "}\n",
              "</style>\n",
              "<table id=\"T_42ae7\" class=\"dataframe\">\n",
              "  <caption><strong>Data Frame Summary</strong><br>THabitat2024<br>Dimensions: 19,227 x 7<br>Duplicates: 0</caption>\n",
              "  <thead>\n",
              "    <tr>\n",
              "      <th id=\"T_42ae7_level0_col0\" class=\"col_heading level0 col0\" >No</th>\n",
              "      <th id=\"T_42ae7_level0_col1\" class=\"col_heading level0 col1\" >Variable</th>\n",
              "      <th id=\"T_42ae7_level0_col2\" class=\"col_heading level0 col2\" >Stats / Values</th>\n",
              "      <th id=\"T_42ae7_level0_col3\" class=\"col_heading level0 col3\" >Freqs / (% of Valid)</th>\n",
              "      <th id=\"T_42ae7_level0_col4\" class=\"col_heading level0 col4\" >Graph</th>\n",
              "      <th id=\"T_42ae7_level0_col5\" class=\"col_heading level0 col5\" >Missing</th>\n",
              "    </tr>\n",
              "  </thead>\n",
              "  <tbody>\n",
              "    <tr>\n",
              "      <td id=\"T_42ae7_row0_col0\" class=\"data row0 col0\" >1</td>\n",
              "      <td id=\"T_42ae7_row0_col1\" class=\"data row0 col1\" ><strong>Date</strong><br>[object]</td>\n",
              "      <td id=\"T_42ae7_row0_col2\" class=\"data row0 col2\" >1. 2024-04-10 10:00:05<br>2. 2024-01-10 19:00:06<br>3. 2024-01-24 16:22:05<br>4. 2024-04-30 19:00:06<br>5. 2024-04-29 21:00:05<br>6. 2024-03-19 10:00:06<br>7. 2024-04-04 21:00:07<br>8. 2024-04-30 03:00:06<br>9. 2024-05-05 01:00:08<br>10. 2024-05-04 17:00:07<br>11. other</td>\n",
              "      <td id=\"T_42ae7_row0_col3\" class=\"data row0 col3\" >10 (0.1%)<br>9 (0.0%)<br>9 (0.0%)<br>8 (0.0%)<br>8 (0.0%)<br>8 (0.0%)<br>8 (0.0%)<br>8 (0.0%)<br>8 (0.0%)<br>8 (0.0%)<br>19,143 (99.6%)</td>\n",
              "      <td id=\"T_42ae7_row0_col4\" class=\"data row0 col4\" ><img src = \"data:image/png;base64, iVBORw0KGgoAAAANSUhEUgAAAJsAAAD+CAYAAAAtWHdlAAAAOXRFWHRTb2Z0d2FyZQBNYXRwbG90bGliIHZlcnNpb24zLjguMCwgaHR0cHM6Ly9tYXRwbG90bGliLm9yZy81sbWrAAAACXBIWXMAAA9hAAAPYQGoP6dpAAADQklEQVR4nO3cwWkbYRRG0TdCJPZGQghUQtKDisg2HauINGGkReJ44yyCS8gdmJxTwb+48BDMp+X9/X2gsFv7Afw/xEZGbGTERkZsZMRGRmxkxEZGbGTERma3LMvXZVme1n4I27ebmS8z83nth7B9zigZsZERGxmxkREbGbGRERsZsZERGxmxkREbGbGRERsZsZERGxmxkdnNzI+Z+b32Q9i+xb8YUXFGyYiNjHUVGesqMs4oGbGRERsZsZERGxmxkREbGbGRERsZsZERGxmxkREbGbGRERsZgxcyBi9knFEyYiNj8ELG4IWMM0pGbGTERkZsZMRGRmxkxEZGbGTERkZsZMRGRmxkxEZGbGTERsbghYzBCxlnlIzYyIiNjHUVGesqMs4oGbGRERsZsZERGxmxkREbGbGRERsZsZERGxmxkREbGbGRERsZ6yoy1lVknFEyYiNj8ELG4IWMM0pGbGTERkZsZMRGRmxkxEZGbGTERkZsZMRGRmxkxEZGbGTERsbghYzBCxlnlIzYyBi8kDF4IeOMkhEbGbGRERsZsZERGxmxkREbGbGRERsZsZERGxmxkREbGbGRERsZ6yoy1lVknFEyYiNjXUXGuoqMM0pGbGTERkZsZMRGRmxkxEZGbGTERkZsZMRGRmxkxEZGbGTERsbghYzBCxlnlIzYyBi8kDF4IeOMkhEbGbGRERsZsZERGxmxkREbGbGRERsZsZERGxmxkREbGbGRMXghY/BCxhklIzYyYiNjXUXGuoqMM0pGbGTERkZsZMRGRmxkxEZGbGTERkZsZMRGRmxkxEZGbGTERsa6iox1FRlnlIzYyBi8kDF4IeOMkhEbGbGRERsZsZERGxmxkREbGbGRERsZsZERGxmxkREbGbGRMXghY/BCxhkls8zM88x8WvshbN7b/nw+fzscDqe1X8K2PR6Pl/3hcDhdr9dfx+Pxde0HsU33+/3pdrud9jMzx+Px9XK5/Fz7UWzasx8IZMRGRmxkxEZGbGTERkZsZMRGRmxkxEZGbGTERkZsZPYzfz8BWfshbNdHX8v5fP7u40n+tcfj8eKzcCpv1lVk/EAgIzYyYiMjNjJiIyM2MmIjIzYyYiPzB0WpV2yec8bJAAAAAElFTkSuQmCC\"></img></td>\n",
              "      <td id=\"T_42ae7_row0_col5\" class=\"data row0 col5\" >0<br>(0.0%)</td>\n",
              "    </tr>\n",
              "    <tr>\n",
              "      <td id=\"T_42ae7_row1_col0\" class=\"data row1 col0\" >2</td>\n",
              "      <td id=\"T_42ae7_row1_col1\" class=\"data row1 col1\" ><strong>Objet</strong><br>[object]</td>\n",
              "      <td id=\"T_42ae7_row1_col2\" class=\"data row1 col2\" >1. Données calculées</td>\n",
              "      <td id=\"T_42ae7_row1_col3\" class=\"data row1 col3\" >19,227 (100.0%)</td>\n",
              "      <td id=\"T_42ae7_row1_col4\" class=\"data row1 col4\" ><img src = \"data:image/png;base64, iVBORw0KGgoAAAANSUhEUgAAAJsAAAAXCAYAAAAcEz0vAAAAOXRFWHRTb2Z0d2FyZQBNYXRwbG90bGliIHZlcnNpb24zLjguMCwgaHR0cHM6Ly9tYXRwbG90bGliLm9yZy81sbWrAAAACXBIWXMAAA9hAAAPYQGoP6dpAAAAnUlEQVR4nO3bsQ0CMRBE0TlkoSPx6mTJxbgIUvovYZPjQgJqYCyZ/yqY4Ie7m6SHpLuAHyuttWet9Zg9BOsrtdZjjPGOiGv2GKwrM/ciSRFx9d7P2YOwttvsAfgfxAYbYoMNscGG2GBDbLAhNtgQG2yIDTbEBhtigw2xwYbYYENssCE22BAbbIgNNkX6nuzOHoK1Zea+tdZePLzA4QPFNA/EDSh7IQAAAABJRU5ErkJggg==\"></img></td>\n",
              "      <td id=\"T_42ae7_row1_col5\" class=\"data row1 col5\" >0<br>(0.0%)</td>\n",
              "    </tr>\n",
              "    <tr>\n",
              "      <td id=\"T_42ae7_row2_col0\" class=\"data row2 col0\" >3</td>\n",
              "      <td id=\"T_42ae7_row2_col1\" class=\"data row2 col1\" ><strong>Équipement</strong><br>[object]</td>\n",
              "      <td id=\"T_42ae7_row2_col2\" class=\"data row2 col2\" >1. Conso horaire 1er Etage_120409<br>2. Conso horaire RDC_120404_FCH<br>3. Conso horaire RDC_12044B_FCH<br>4. Conso horaire E2_120417_FCH<br>5. Conso horaire RDC_12044E_FCH</td>\n",
              "      <td id=\"T_42ae7_row2_col3\" class=\"data row2 col3\" >7,604 (39.5%)<br>4,962 (25.8%)<br>4,063 (21.1%)<br>2,311 (12.0%)<br>287 (1.5%)</td>\n",
              "      <td id=\"T_42ae7_row2_col4\" class=\"data row2 col4\" ><img src = \"data:image/png;base64, iVBORw0KGgoAAAANSUhEUgAAAJsAAABzCAYAAACPdnBjAAAAOXRFWHRTb2Z0d2FyZQBNYXRwbG90bGliIHZlcnNpb24zLjguMCwgaHR0cHM6Ly9tYXRwbG90bGliLm9yZy81sbWrAAAACXBIWXMAAA9hAAAPYQGoP6dpAAACYklEQVR4nO3bQYoaURiF0V+RTpyUiOAyXEAvIovNIlyA+xCxBrHTEzNICJl0N4Tyvuqqc1bwhI+SV9Rd3O/3goRl6wMwH2IjRmzELKpqXVVPrQ8S9nq/32+tDzE3q91u963rum3rgyT1fX9ZLBbfBZe16rpu+/z8fNtsNi+tD5NwvV6/Ho/H7fl8fqoqsQWtqqo2m83Lfr//0fowQevWB5gjFwRixEaM2IgRGzFiI0ZsxIiNGLERIzZixEaM2IgRGzFiI2ZV9fuzm9YHSZnTbx2bVd/3l+PxuK0ZfXbT9/2lql5bn2NufBZOzMJulBQXBGI+w9+ov7yJGP26yhJqOka9rrKEmpbPsK6azSuZqXNBIEZsxIiNGLERIzZixEaM2IgRGzFiI0ZsxIiNGLERIzZiRr2uGuu5+D+jX1dZQk2Hz8KJsa4ixgWBmLH8jfqrnIFRrKssqOah+brKgmo+xrKuGuVrF4blgkCM2IgRGzFiI0ZsxIiNGLERIzZixEaM2IgRGzFiI0ZsxDRfV1lQzcco1lUWVPPgs3BirKuIGfrJ5gnFmwYdvBiu8J7BBi+GK3xk6MGL4Qpv8lKXGLERIzZixEaM2IgRGzFiI0ZsxIiNGLERIzZixEaM2IgRGzGDrauspPjIoOsqKyneY4NAjHUVMf8+2TyVeKi/6yrLKB5t2XXd9nA41J85X+tlPBO2rKpar9c/Wx+E6fNSlxixESM2YsRGjNiIERsxYiNGbMSIjRixESM2YsRGjNiIERsxy6qq2+32pfVBmL5l3/eX0+lkGcXD2SAQY11FjAsCMWIj5heO4v8NNfN6wgAAAABJRU5ErkJggg==\"></img></td>\n",
              "      <td id=\"T_42ae7_row2_col5\" class=\"data row2 col5\" >0<br>(0.0%)</td>\n",
              "    </tr>\n",
              "    <tr>\n",
              "      <td id=\"T_42ae7_row3_col0\" class=\"data row3 col0\" >4</td>\n",
              "      <td id=\"T_42ae7_row3_col1\" class=\"data row3 col1\" ><strong>Commande</strong><br>[object]</td>\n",
              "      <td id=\"T_42ae7_row3_col2\" class=\"data row3 col2\" >1. Conso E2 Tableau Général<br>2. Conso E1 Tableau général<br>3. Conso E1 Bureaux<br>4. Conso E1 Eclairage<br>5. Conso E1 Circulation<br>6. Conso RDC Armoire3<br>7. Conso RDC Armoire5<br>8. Conso RDC VMC Ateliers<br>9. Conso RDC Armoire1<br>10. Conso RDC Tab Lumières Général<br>11. other</td>\n",
              "      <td id=\"T_42ae7_row3_col3\" class=\"data row3 col3\" >2,310 (12.0%)<br>2,228 (11.6%)<br>2,009 (10.4%)<br>1,698 (8.8%)<br>1,395 (7.3%)<br>1,251 (6.5%)<br>1,243 (6.5%)<br>1,242 (6.5%)<br>1,226 (6.4%)<br>1,019 (5.3%)<br>3,606 (18.8%)</td>\n",
              "      <td id=\"T_42ae7_row3_col4\" class=\"data row3 col4\" ><img src = \"data:image/png;base64, iVBORw0KGgoAAAANSUhEUgAAAJsAAAD+CAYAAAAtWHdlAAAAOXRFWHRTb2Z0d2FyZQBNYXRwbG90bGliIHZlcnNpb24zLjguMCwgaHR0cHM6Ly9tYXRwbG90bGliLm9yZy81sbWrAAAACXBIWXMAAA9hAAAPYQGoP6dpAAAECUlEQVR4nO3dQWrjWABF0e/ChK6JTQhkMVlEL7YW4d2EEA26ipq4Bz3sJpGsz22Iz1mAyODyjYRedLherwMK3/7vP4D7ITYyYiMjNjJiIyM2MmIjIzYyYiNzGGN8H2M8TLre7+v1+nPStfhijk9PT3+eTqfHGRdbluXtcDj8EBz/5Xg6nR5fXl5+ns/nX3su9P7+/sflcnl8fX19GGOIjX85jjHG+Xz+9fz8/NeE632fcA2+KDcIZMRGRmxkxEZGbGTERkZsZMRGRmxkxEZGbGTERkZsZMRG5jjGP++i7b3QjGvwtR2XZXm7XC6PY8K7aMuyvI0xfu//s/iKbBDIHPzLLCozTzanGh+atq6yrOIzU9ZVllWsMXNdZVnFhzzUJSM2MmIjIzYyYiMjNjJiIyM2MmIjIzYyYiMjNjJiIzNl8GLswhrTBi/GLnzGa+FkDF7IzDjZnGissnvwYujCWrsGL4YubDFj8GLowioe6pIRGxmxkREbGbGRERsZsZERGxmxkREbGbGRERsZsZHZNXgxdGGL3YMXQxfW8lo4GYMXMm4QyOz5GfXzySY3r6usqtjqpnWVVRW32LOusqpiEzcIZMRGRmxkxEZGbGTERkZsZMRGRmxkxEZGbGTERkZsZG5aV1lVcYub11VWVWzltXAy1lVktp5sTjNutmnwYuTCHqsHL0Yu7LV18GLkws081CUjNjJiIyM2MmIjIzYyYiMjNjJiIyM2MmIjIzYyYiOzevBi5MJemwYvRi7s4bVwMgYvZLacbE41dlk9eDF2Ya9VgxdjF2bYMngxdmEXD3XJiI2M2MiIjYzYyIiNjNjIiI2M2MiIjYzYyIiNjNjIiI3MqnWVZRUzrF5XWVaxlw0CGesqMk42MtZVZKyryFhXkfFQl4zYyIiNjNjIiI2M2MiIjYzYyIiNjNjIiI2M2MiIjYzBCxmDFzJeCydj8ELGyUbG4IWMwQsZgxcyHuqSERsZsZERGxmxkREbGbGRERsZsZERGxmxkREbGbGRMXghY/BCxmvhZAxeyLhBIONnlIx1FRnrKjLWVWTcIJARGxmxkREbGbGRERsZsZERGxmxkREbGbGRERsZsZGxriJjXUXGa+FkrKvIrDnZnGhM8engxdCFWT4cvBi6MNOawYuhC1N4qEtGbGTERkZsZMRGRmxkxEZGbGTERkZsZMRGRmxkxEbmw8GLoQszfTp4MXRhFq+FkzF4IbNlyjeT0/IOrf7Cy0xGNPdp1RdeZjKiuV9bvvAykxHNHfJQl4zYyIiNjNjIiI2M2MiIjYzYyIiNjNjIiI2M2MiIjcyqL7zMZERzv1Z/4WUmI5r75LVwMgYvZNwgkBEbGbGRERsZsZERGxmxkREbGbGR+Ruw8k7iCIZxTQAAAABJRU5ErkJggg==\"></img></td>\n",
              "      <td id=\"T_42ae7_row3_col5\" class=\"data row3 col5\" >0<br>(0.0%)</td>\n",
              "    </tr>\n",
              "    <tr>\n",
              "      <td id=\"T_42ae7_row4_col0\" class=\"data row4 col0\" >5</td>\n",
              "      <td id=\"T_42ae7_row4_col1\" class=\"data row4 col1\" ><strong>Type Générique</strong><br>[float64]</td>\n",
              "      <td id=\"T_42ae7_row4_col2\" class=\"data row4 col2\" >1. nan</td>\n",
              "      <td id=\"T_42ae7_row4_col3\" class=\"data row4 col3\" >19,227 (100.0%)</td>\n",
              "      <td id=\"T_42ae7_row4_col4\" class=\"data row4 col4\" ><img src = \"data:image/png;base64, iVBORw0KGgoAAAANSUhEUgAAAJsAAAAXCAYAAAAcEz0vAAAAOXRFWHRTb2Z0d2FyZQBNYXRwbG90bGliIHZlcnNpb24zLjguMCwgaHR0cHM6Ly9tYXRwbG90bGliLm9yZy81sbWrAAAACXBIWXMAAA9hAAAPYQGoP6dpAAAAnUlEQVR4nO3bsQ0CMRBE0TlkoSPx6mTJxbgIUvovYZPjQgJqYCyZ/yqY4Ie7m6SHpLuAHyuttWet9Zg9BOsrtdZjjPGOiGv2GKwrM/ciSRFx9d7P2YOwttvsAfgfxAYbYoMNscGG2GBDbLAhNtgQG2yIDTbEBhtigw2xwYbYYENssCE22BAbbIgNNkX6nuzOHoK1Zea+tdZePLzA4QPFNA/EDSh7IQAAAABJRU5ErkJggg==\"></img></td>\n",
              "      <td id=\"T_42ae7_row4_col5\" class=\"data row4 col5\" >19,227<br>(100.0%)</td>\n",
              "    </tr>\n",
              "    <tr>\n",
              "      <td id=\"T_42ae7_row5_col0\" class=\"data row5 col0\" >6</td>\n",
              "      <td id=\"T_42ae7_row5_col1\" class=\"data row5 col1\" ><strong>Valeur</strong><br>[object]</td>\n",
              "      <td id=\"T_42ae7_row5_col2\" class=\"data row5 col2\" >1. 0<br>2. 0,010000000<br>3. 0,020000000<br>4. 0,030000000<br>5. 0,040000000<br>6. 0,050000000<br>7. 0,060000000<br>8. 1,640000000<br>9. 1,660000000<br>10. 0,460000000<br>11. other</td>\n",
              "      <td id=\"T_42ae7_row5_col3\" class=\"data row5 col3\" >3,456 (18.0%)<br>1,291 (6.7%)<br>439 (2.3%)<br>423 (2.2%)<br>271 (1.4%)<br>120 (0.6%)<br>73 (0.4%)<br>61 (0.3%)<br>58 (0.3%)<br>53 (0.3%)<br>12,982 (67.5%)</td>\n",
              "      <td id=\"T_42ae7_row5_col4\" class=\"data row5 col4\" ><img src = \"data:image/png;base64, iVBORw0KGgoAAAANSUhEUgAAAJsAAAD+CAYAAAAtWHdlAAAAOXRFWHRTb2Z0d2FyZQBNYXRwbG90bGliIHZlcnNpb24zLjguMCwgaHR0cHM6Ly9tYXRwbG90bGliLm9yZy81sbWrAAAACXBIWXMAAA9hAAAPYQGoP6dpAAAEh0lEQVR4nO3dQW7aeBjG4c/IypSNLYTEEWZ2OQCHyGF7CB8gy7kDQnhR0mzoomnVTNJRKuLXCXmeXVf+S/3JLshvaU6nU0HCYu4D8HGIjRixESM2YsRGjNiIERsxYiNGbMQ0VbWsqqvgNe9Pp9MxeD3eiHa9Xt90XbdKXXAcx33TNJ8F9/G0Xdetttvtse/7u6kvdjgcPg3DsNrtdldVJbYPpq2q6vv+brPZfAldcxm6Dm+MDwjEiI0YsREjNmLERozYiBEbMWIjRmzEiI0YsREjNmLERozYiGmrvr9nlrhY6jq8Te04jvthGFYVes9sHMd9Vd0nrsXbYoNATOO/zCLlT+5s7kic5cXrKqsozvWidZVVFK/hT9ZVVlGcxZe6xIiNGLERIzZixEaM2IgRGzFiI0ZsxIiNGLERIzZixEbMiwYvhiq8hhcPXgxVOJfXwokxeCHmuTubOxiTeDJ4MWxhKo8GL4YtTOm5wYthC5PwpS4xYiNGbMSIjRixESM2YsRGjNiIERsxYiNGbMSIjRixEfNo8GLYwpSeDF4MW5iK18KJMXghxgcEYv77GPUIZTKP1lWWVUxp8WNdtd1ujw/RJX8Okg/k57rq4c+WVUzGBwRixEaM2IgRGzFiI0ZsxIiNGLERIzZixEaM2IgRGzFiI+ZFPycEr+HXdZVlFZPyWjgx1lXE/Hpnc1djUj8HL8YuTG3Rdd3q+vq6jF2Y2qKqarlcfp37IFw+X+oSIzZixEaM2IgRGzFiI0ZsxIiNGLERIzZixEaM2IgRGzGLqqrj8fjX3Afh8i3Gcdzf3t4auzA5r4UTY/BCzI87W7mrMbV2vV7fVFUZuzC1Rdd1K2MXEnzPRozYiBEbMWIjRmzEiI0YsREjNmLERozYiBEbMWIjRmzEiI0YsREjNmLah1VVlWUVE7NBIMa6ihh3NmKsq4ixriLGVx/EiI0YsREjNmLERozYiBEbMWIjRmzEiI0YsREjNmLERozYiBEbMQYvxHgtnBiDF2L8m42YRdM0/zRN82nug3D5FlX1d1X5cVsm5zFKjNiIERsxYiNGbMSIjRixESM2YsRGjNiIERsxYiNGbMSIjRixEbOoqn+r6uvcB+Hy2SAQ4zFKjNiIERsx1lXEWFcR4zFKjNiIERsxYiNGbMSIjRixESM2YsRGjNiIERsxYiNGbMSIjRixEWNdRYx1FTEeo8SIjRiDF2IMXojxGCVGbMSIjRixESM2YsRGjNiIERsxYiNGbMSIjRixESM2YsRGjNiIMXghxuCFGI9RYpqqWlbV1dwH4X/dn06n49yHOFe7Xq9vuq5bzX0Qfm8cx33TNJ/fe3Bt13Wr7XZ77Pv+bu7D8NThcPg0DMNqt9tdVdX7jq2qqu/7u81m82Xuw/Bby7kP8Bp8QCBGbMSIjRixESM2YsRGjNiIERsxYiNGbMSIjRixESM2Ytqq76+xzH0QnndJfzftOI77YRhWdSGvsVyicRz3VXU/9znO5bXw9+EiXgu3riLGBwRixEaM2IgRGzFiI0ZsxIiNGLERIzZivgEvA2NtFolxvQAAAABJRU5ErkJggg==\"></img></td>\n",
              "      <td id=\"T_42ae7_row5_col5\" class=\"data row5 col5\" >0<br>(0.0%)</td>\n",
              "    </tr>\n",
              "    <tr>\n",
              "      <td id=\"T_42ae7_row6_col0\" class=\"data row6 col0\" >7</td>\n",
              "      <td id=\"T_42ae7_row6_col1\" class=\"data row6 col1\" ><strong>Unité</strong><br>[object]</td>\n",
              "      <td id=\"T_42ae7_row6_col2\" class=\"data row6 col2\" >1. kWh<br>2. nan<br>3. k</td>\n",
              "      <td id=\"T_42ae7_row6_col3\" class=\"data row6 col3\" >19,225 (100.0%)<br>1 (0.0%)<br>1 (0.0%)</td>\n",
              "      <td id=\"T_42ae7_row6_col4\" class=\"data row6 col4\" ><img src = \"data:image/png;base64, iVBORw0KGgoAAAANSUhEUgAAAJsAAABFCAYAAABdVZTTAAAAOXRFWHRTb2Z0d2FyZQBNYXRwbG90bGliIHZlcnNpb24zLjguMCwgaHR0cHM6Ly9tYXRwbG90bGliLm9yZy81sbWrAAAACXBIWXMAAA9hAAAPYQGoP6dpAAABQUlEQVR4nO3bsU3EQBCG0VnLgiOxdbLkEqCHK4KU3unCCRyRCaiBf6W99yqY4JNGK+208zwLEqbeA/A4WlW9VNVT70EY37xt2/uyLNfegzC+eVmW6+12+17X9d57GMZ1HMdlrqpa1/W+7/tX74EYmwcCMWIjRmzEiI0YsREjNmLERozYiBEbMWIjRmzEiI0YsREjNmLmqr+/Rr0HYWzHcVzatm0ffuqS4AaBmOaUjxQPBGKm1tpba80DgX83VdVrVT33HoTxWaPEiI0YsREjNmLERozYiBEbMWIjRmzEiI0YsREjNmLERozYiBEbMWIjZqqqz6r66T0I43PwQow1SozYiBEbMU75iHHKR4w1SozYiBEbMWIjRmzEiI0YsREjNmLERozYiBEbMWIjRmzEiI0YsREjNmKc8hHjlI8Ya5SYX8x1IIgKwWYlAAAAAElFTkSuQmCC\"></img></td>\n",
              "      <td id=\"T_42ae7_row6_col5\" class=\"data row6 col5\" >1<br>(0.0%)</td>\n",
              "    </tr>\n",
              "  </tbody>\n",
              "</table>\n"
            ]
          },
          "metadata": {},
          "execution_count": 28
        }
      ]
    },
    {
      "cell_type": "markdown",
      "source": [
        "- 1 nan dans les Unités -> regarder pour faire des modifications\n",
        "- 100 % de donnée manquante dans \"Type Générique\".\n",
        "- Deux fichiers sous le même format\n",
        "\n",
        "Pour toutes les colonnes, reformater les données.\n",
        "Un pivotement ou une transposition du tableau sera probablement nécessaire."
      ],
      "metadata": {
        "id": "Y3dB0obqsvTg"
      }
    },
    {
      "cell_type": "markdown",
      "source": [
        "Fusionner les deux tableaux.\n"
      ],
      "metadata": {
        "id": "lvKYNHYPxHJJ"
      }
    },
    {
      "cell_type": "code",
      "source": [
        "# Fusionner les deux DataFrames\n",
        "Tours_Habitat= pd.concat([THabitat2023, THabitat2024], ignore_index=True)\n",
        "\n",
        "# Sauvegarder le fichier fusionné si nécessaire\n",
        "Tours_Habitat.to_csv('Tours_Habitat_fusionne.csv', index=False)"
      ],
      "metadata": {
        "id": "Cp4k_hm877ws"
      },
      "execution_count": 29,
      "outputs": []
    },
    {
      "cell_type": "code",
      "source": [
        "# Séparer la colonne 'datetime' en deux colonnes distinctes\n",
        "Tours_Habitat[['date', 'time']] = Tours_Habitat['Date'].str.split(' ', expand=True)"
      ],
      "metadata": {
        "id": "DbKlZIKafJ0t"
      },
      "execution_count": 30,
      "outputs": []
    },
    {
      "cell_type": "code",
      "source": [
        "Tours_Habitat['time'] = pd.to_datetime(Tours_Habitat['time'], format='%H:%M:%S').dt.time"
      ],
      "metadata": {
        "id": "iD4hEUmjfmKG"
      },
      "execution_count": 46,
      "outputs": []
    },
    {
      "cell_type": "code",
      "source": [
        "# Conversion avec gestion des formats mixtes\n",
        "try:\n",
        "    Tours_Habitat['date'] = pd.to_datetime(\n",
        "        Tours_Habitat['date'], errors='coerce', format='mixed'\n",
        "    )\n",
        "except ValueError:\n",
        "    # Si l'erreur persiste, identifier les valeurs problématiques\n",
        "    invalid_dates = Tours_Habitat['date'][~pd.to_datetime(Tours_Habitat['date'], errors='coerce').notna()]\n",
        "    print(\"Dates invalides :\", invalid_dates)\n",
        "\n",
        "# Identifier et corriger les valeurs problématiques manuellement si nécessaire"
      ],
      "metadata": {
        "id": "swYBWxrvhp2Q"
      },
      "execution_count": 34,
      "outputs": []
    },
    {
      "cell_type": "code",
      "source": [
        "Tours_Habitat['annee'] = pd.to_datetime(Tours_Habitat['date']).dt.year"
      ],
      "metadata": {
        "id": "zT3Lx9rKfS3y"
      },
      "execution_count": 35,
      "outputs": []
    },
    {
      "cell_type": "code",
      "source": [
        "# Convertir les nouvelles colonnes au format datetime\n",
        "Tours_Habitat['date'] = pd.to_datetime(Tours_Habitat['date'], format='%Y-%m-%d')\n"
      ],
      "metadata": {
        "id": "Vo10Duhot-9Z"
      },
      "execution_count": 36,
      "outputs": []
    },
    {
      "cell_type": "code",
      "source": [
        "# Description pour comprendre les données et mettre en suite le tableau en forme\n",
        "dfSummary(Tours_Habitat)"
      ],
      "metadata": {
        "colab": {
          "base_uri": "https://localhost:8080/",
          "height": 1000
        },
        "id": "Y-OOPOII9TT8",
        "outputId": "ac61977b-78ca-43d0-c43b-ee03bb928d70"
      },
      "execution_count": 47,
      "outputs": [
        {
          "output_type": "execute_result",
          "data": {
            "text/plain": [
              "<pandas.io.formats.style.Styler at 0x7ec224e85d50>"
            ],
            "text/html": [
              "<style type=\"text/css\">\n",
              "#T_392d4 thead>tr>th {\n",
              "  text-align: left;\n",
              "}\n",
              "#T_392d4_row0_col0, #T_392d4_row1_col0, #T_392d4_row2_col0, #T_392d4_row3_col0, #T_392d4_row4_col0, #T_392d4_row5_col0, #T_392d4_row6_col0, #T_392d4_row7_col0, #T_392d4_row8_col0, #T_392d4_row9_col0, #T_392d4_row10_col0, #T_392d4_row11_col0, #T_392d4_row12_col0, #T_392d4_row13_col0, #T_392d4_row14_col0 {\n",
              "  text-align: left;\n",
              "  font-size: 12px;\n",
              "  vertical-align: middle;\n",
              "  width: 5%;\n",
              "  max-width: 50px;\n",
              "  min-width: 20px;\n",
              "}\n",
              "#T_392d4_row0_col1, #T_392d4_row1_col1, #T_392d4_row2_col1, #T_392d4_row3_col1, #T_392d4_row4_col1, #T_392d4_row5_col1, #T_392d4_row6_col1, #T_392d4_row7_col1, #T_392d4_row8_col1, #T_392d4_row9_col1, #T_392d4_row10_col1, #T_392d4_row11_col1, #T_392d4_row12_col1, #T_392d4_row13_col1, #T_392d4_row14_col1 {\n",
              "  text-align: left;\n",
              "  font-size: 12px;\n",
              "  vertical-align: middle;\n",
              "  width: 15%;\n",
              "  max-width: 200px;\n",
              "  min-width: 100px;\n",
              "  word-break: break-word;\n",
              "}\n",
              "#T_392d4_row0_col2, #T_392d4_row1_col2, #T_392d4_row2_col2, #T_392d4_row3_col2, #T_392d4_row4_col2, #T_392d4_row5_col2, #T_392d4_row6_col2, #T_392d4_row7_col2, #T_392d4_row8_col2, #T_392d4_row9_col2, #T_392d4_row10_col2, #T_392d4_row11_col2, #T_392d4_row12_col2, #T_392d4_row13_col2, #T_392d4_row14_col2 {\n",
              "  text-align: left;\n",
              "  font-size: 12px;\n",
              "  vertical-align: middle;\n",
              "  width: 30%;\n",
              "  min-width: 100px;\n",
              "}\n",
              "#T_392d4_row0_col3, #T_392d4_row1_col3, #T_392d4_row2_col3, #T_392d4_row3_col3, #T_392d4_row4_col3, #T_392d4_row5_col3, #T_392d4_row6_col3, #T_392d4_row7_col3, #T_392d4_row8_col3, #T_392d4_row9_col3, #T_392d4_row10_col3, #T_392d4_row11_col3, #T_392d4_row12_col3, #T_392d4_row13_col3, #T_392d4_row14_col3 {\n",
              "  text-align: left;\n",
              "  font-size: 12px;\n",
              "  vertical-align: middle;\n",
              "  width: 25%;\n",
              "  min-width: 100px;\n",
              "}\n",
              "#T_392d4_row0_col4, #T_392d4_row1_col4, #T_392d4_row2_col4, #T_392d4_row3_col4, #T_392d4_row4_col4, #T_392d4_row5_col4, #T_392d4_row6_col4, #T_392d4_row7_col4, #T_392d4_row8_col4, #T_392d4_row9_col4, #T_392d4_row10_col4, #T_392d4_row11_col4, #T_392d4_row12_col4, #T_392d4_row13_col4, #T_392d4_row14_col4 {\n",
              "  text-align: left;\n",
              "  font-size: 12px;\n",
              "  vertical-align: middle;\n",
              "  width: 20%;\n",
              "  min-width: 150px;\n",
              "}\n",
              "#T_392d4_row0_col5, #T_392d4_row1_col5, #T_392d4_row2_col5, #T_392d4_row3_col5, #T_392d4_row4_col5, #T_392d4_row5_col5, #T_392d4_row6_col5, #T_392d4_row7_col5, #T_392d4_row8_col5, #T_392d4_row9_col5, #T_392d4_row10_col5, #T_392d4_row11_col5, #T_392d4_row12_col5, #T_392d4_row13_col5, #T_392d4_row14_col5 {\n",
              "  text-align: left;\n",
              "  font-size: 12px;\n",
              "  vertical-align: middle;\n",
              "  width: 10%;\n",
              "}\n",
              "</style>\n",
              "<table id=\"T_392d4\" class=\"dataframe\">\n",
              "  <caption><strong>Data Frame Summary</strong><br>Tours_Habitat<br>Dimensions: 29,125 x 15<br>Duplicates: 0</caption>\n",
              "  <thead>\n",
              "    <tr>\n",
              "      <th id=\"T_392d4_level0_col0\" class=\"col_heading level0 col0\" >No</th>\n",
              "      <th id=\"T_392d4_level0_col1\" class=\"col_heading level0 col1\" >Variable</th>\n",
              "      <th id=\"T_392d4_level0_col2\" class=\"col_heading level0 col2\" >Stats / Values</th>\n",
              "      <th id=\"T_392d4_level0_col3\" class=\"col_heading level0 col3\" >Freqs / (% of Valid)</th>\n",
              "      <th id=\"T_392d4_level0_col4\" class=\"col_heading level0 col4\" >Graph</th>\n",
              "      <th id=\"T_392d4_level0_col5\" class=\"col_heading level0 col5\" >Missing</th>\n",
              "    </tr>\n",
              "  </thead>\n",
              "  <tbody>\n",
              "    <tr>\n",
              "      <td id=\"T_392d4_row0_col0\" class=\"data row0 col0\" >1</td>\n",
              "      <td id=\"T_392d4_row0_col1\" class=\"data row0 col1\" ><strong>Date</strong><br>[object]</td>\n",
              "      <td id=\"T_392d4_row0_col2\" class=\"data row0 col2\" >1. 2024-04-10 10:00:05<br>2. 2024-01-24 16:22:05<br>3. 2024-01-10 19:00:06<br>4. 2024-04-17 01:00:07<br>5. 2024-05-04 17:00:07<br>6. 2024-04-10 23:00:05<br>7. 2024-03-19 10:00:06<br>8. 2024-05-05 01:00:08<br>9. 2024-04-22 10:00:06<br>10. 2024-04-22 16:00:07<br>11. other</td>\n",
              "      <td id=\"T_392d4_row0_col3\" class=\"data row0 col3\" >10 (0.0%)<br>9 (0.0%)<br>9 (0.0%)<br>8 (0.0%)<br>8 (0.0%)<br>8 (0.0%)<br>8 (0.0%)<br>8 (0.0%)<br>8 (0.0%)<br>8 (0.0%)<br>29,041 (99.7%)</td>\n",
              "      <td id=\"T_392d4_row0_col4\" class=\"data row0 col4\" ><img src = \"data:image/png;base64, iVBORw0KGgoAAAANSUhEUgAAAJsAAAD+CAYAAAAtWHdlAAAAOXRFWHRTb2Z0d2FyZQBNYXRwbG90bGliIHZlcnNpb24zLjguMCwgaHR0cHM6Ly9tYXRwbG90bGliLm9yZy81sbWrAAAACXBIWXMAAA9hAAAPYQGoP6dpAAADLklEQVR4nO3cwY3TYBRG0ecogmFja2QpJUAPKYItvdOFNzCswoIeriVzTgX/4kpPkfxleb1eA4Xb2Q/g/yE2MmIjIzYyYiMjNjJiIyM2MmIjIzYyt2VZvi3L8nb2Q7i+28x8nZnPZz+E63NGyYiNjNjIiI2M2MiIjYzYyIiNjNjIiI2M2MiIjYzYyIiNjNjIiI3MbWZ+zsyfsx/C9S3+xYiKM0pGbGSsq8hYV5FxRsmIjYzYyIiNjNjIiI2M2MiIjYzYyIiNjNjIiI2M2MiIjYzYyBi8kDF4IeOMkhEbGYMXMgYvZJxRMmIjIzYyYiMjNjJiIyM2MmIjIzYyYiMjNjJiIyM2MmIjIzYyBi9kDF7IOKNkxEZGbGSsq8hYV5FxRsmIjYzYyIiNjNjIiI2M2MiIjYzYyIiNjNjIiI2M2MiIjYzYyFhXkbGuIuOMkhEbGYMXMgYvZJxRMmIjIzYyYiMjNjJiIyM2MmIjIzYyYiMjNjJiIyM2MmIjIzYyBi9kDF7IOKNkxEbG4IWMwQsZZ5SM2MiIjYzYyIiNjNjIiI2M2MiIjYzYyIiNjNjIiI2M2MiIjYzYyFhXkbGuIuOMkhEbGesqMtZVZJxRMmIjIzYyYiMjNjJiIyM2MmIjIzYyYiMjNjJiIyM2MmIjIzYyBi9kDF7IOKNkxEbG4IWMwQsZZ5SM2MiIjYzYyIiNjNjIiI2M2MiIjYzYyIiNjNjIiI2M2MiIjYzBCxmDFzLOKBmxkREbGesqMtZVZJxRMmIjIzYyYiMjNjJiIyM2MmIjIzYyYiMjNjJiIyM2MmIjIzYy1lVkrKvIOKNkxEbG4IWMwQsZZ5SM2MiIjYzYyIiNjNjIiI2M2MiIjYzYyIiNjNjIiI2M2MiIjYzBCxmDFzLOKJllZr7MzKezH8L13fd9/76u6/vZD+H67uu6vj+fz9/btn2c/Riu6ziOt/vMzLZtH4/H49fZD+La/EAgIzYyYiMjNjJiIyM2MmIjIzYyYiMjNjJiIyM2MmIjc5/59/nH2Q/h2o7jeFv2ff/h40kKPgsnY11Fxg8EMmIjIzYyYiMjNjJiIyM2MmIjIzYyfwFj50uCzHpkKgAAAABJRU5ErkJggg==\"></img></td>\n",
              "      <td id=\"T_392d4_row0_col5\" class=\"data row0 col5\" >0<br>(0.0%)</td>\n",
              "    </tr>\n",
              "    <tr>\n",
              "      <td id=\"T_392d4_row1_col0\" class=\"data row1 col0\" >2</td>\n",
              "      <td id=\"T_392d4_row1_col1\" class=\"data row1 col1\" ><strong>Objet</strong><br>[object]</td>\n",
              "      <td id=\"T_392d4_row1_col2\" class=\"data row1 col2\" >1. Données calculées<br>2. nan</td>\n",
              "      <td id=\"T_392d4_row1_col3\" class=\"data row1 col3\" >29,124 (100.0%)<br>1 (0.0%)</td>\n",
              "      <td id=\"T_392d4_row1_col4\" class=\"data row1 col4\" ><img src = \"data:image/png;base64, iVBORw0KGgoAAAANSUhEUgAAAJsAAAAuCAYAAAA/ZmtKAAAAOXRFWHRTb2Z0d2FyZQBNYXRwbG90bGliIHZlcnNpb24zLjguMCwgaHR0cHM6Ly9tYXRwbG90bGliLm9yZy81sbWrAAAACXBIWXMAAA9hAAAPYQGoP6dpAAAA/0lEQVR4nO3bwUkEMQBG4T/DoOslYQlMCdrDFuHV3u0iF11P48EafIHs+yr4Dw9CICnneUYilCQvSZ5mD9H69t77e631OnuI1rfXWq+32+27tXafPUbrGmNc9iRprd2P4/iaPUhr22YP0OMwNmGMTRhjE8bYhDE2YYxNGGMTxtiEMTZhjE0YYxPG2IQxNmGMTZg9+XvYNnuI1jbGuJTe+4fPwkXww4swxa98onhBEGYrpbyVUrwg6N9tSV6TPM8eovV5jApjbMIYmzDGJoyxCWNswhibMMYmjLEJY2zCGJswxiaMsQljbMIYmzDGJoyxCbMl+UzyM3uI1ufvKmF+AXVbGymqDU4XAAAAAElFTkSuQmCC\"></img></td>\n",
              "      <td id=\"T_392d4_row1_col5\" class=\"data row1 col5\" >1<br>(0.0%)</td>\n",
              "    </tr>\n",
              "    <tr>\n",
              "      <td id=\"T_392d4_row2_col0\" class=\"data row2 col0\" >3</td>\n",
              "      <td id=\"T_392d4_row2_col1\" class=\"data row2 col1\" ><strong>Équipement</strong><br>[object]</td>\n",
              "      <td id=\"T_392d4_row2_col2\" class=\"data row2 col2\" >1. 1er Etage_120409_FCH<br>2. RDC_120404_FCH<br>3. RDC_12044B_FCH<br>4. E2_120417_FCH<br>5. RDC_12044E_FCH<br>6. nan</td>\n",
              "      <td id=\"T_392d4_row2_col3\" class=\"data row2 col3\" >17,501 (60.1%)<br>4,962 (17.0%)<br>4,063 (14.0%)<br>2,311 (7.9%)<br>287 (1.0%)<br>1 (0.0%)</td>\n",
              "      <td id=\"T_392d4_row2_col4\" class=\"data row2 col4\" ><img src = \"data:image/png;base64, iVBORw0KGgoAAAANSUhEUgAAAJsAAACKCAYAAAC96ziyAAAAOXRFWHRTb2Z0d2FyZQBNYXRwbG90bGliIHZlcnNpb24zLjguMCwgaHR0cHM6Ly9tYXRwbG90bGliLm9yZy81sbWrAAAACXBIWXMAAA9hAAAPYQGoP6dpAAACuklEQVR4nO3dQWrbUBiF0V/CpPVExgSyhHaWBWQRXWwX4QVk2D0EEw3qNBN30FI3IRM76D7IO2cFj/BZQkbXGY7HY0HC2PoA9ENsxIiNGLERM1TVuqquWh+kM8/H4/HQ+hBpq+vr62/TNG1bH6Qn8zzvh2H43ltwq2matnd3d4fNZvPU+jA9eHx8/Lzb7bYPDw9XVdVXbFVVm83m6ebm5mfrw3Rk3foALXhAIEZsxIiNGLERIzZixEaM2IgRGzFiI0ZsxIiNGLERIzZiVlV/XntpfZBe9Py3Xs3zvN/tdtvq9LWXFuZ53lfVc+tzpHktvI0uXwsfjJRJSV7Zuvw0cxIbvPQ68uAkMnjpeeTBSXLw4mm3c77UJUZsxIiNGLERIzZixEaM2IgRGzFiI0ZsxIiNGLERIzZixEZMZF3V86KIk9i6qtdFESc2CMRYVxGz5JXNlYwXFltXWVPx2iLrKmsq3rLkusqaihd8qUuM2IgRGzFiI0ZsxIiNGLERIzZixEaM2IgRGzFiI0ZsxIiNmEXWVdZUvGWxdZU1Fa/ZIBBjXUXMJVc2Vywucva6ymqKS521rrKa4j0uWVdZTXERX+oSIzZixEaM2IgRGzFiI0ZsxIiNGLERIzZixEaM2IgRGzFnDV4MWXiPswcvhixcymvhxBi8EOMBgZj/b6Nujyzq37rKaoqljdM0bW9vb+vvnC/xf0fp1FhVtV6vf7U+CB+fBwRixEaM2IgRGzFiI0ZsxIiNGLERIzZixEaM2IgRGzFiI2asqjocDp9aH4SPb5zneX9/f281xeK8Fk6MdRUxHhCIGYdh+DoMg59VYHFjVX2pKk+jLM5tlBixESM2YsRGjNiIERsxYiNGbMSIjRixESM2YsRGjNiIERsxYiNGbMSMVfWjqvyAM4szeCHGbZQYsREjNmLERsxv8l8Ee99HkDkAAAAASUVORK5CYII=\"></img></td>\n",
              "      <td id=\"T_392d4_row2_col5\" class=\"data row2 col5\" >1<br>(0.0%)</td>\n",
              "    </tr>\n",
              "    <tr>\n",
              "      <td id=\"T_392d4_row3_col0\" class=\"data row3 col0\" >4</td>\n",
              "      <td id=\"T_392d4_row3_col1\" class=\"data row3 col1\" ><strong>Commande</strong><br>[object]</td>\n",
              "      <td id=\"T_392d4_row3_col2\" class=\"data row3 col2\" >1. Conso E1 Bureaux<br>2. Conso E1 Circulation<br>3. Conso E1 Eclairage<br>4. Conso E2 Tableau Général<br>5. Conso E1 Tableau général<br>6. Conso RDC Armoire3<br>7. Conso RDC Armoire5<br>8. Conso RDC VMC Ateliers<br>9. Conso RDC Armoire1<br>10. Conso RDC Tab Lumières Général<br>11. other</td>\n",
              "      <td id=\"T_392d4_row3_col3\" class=\"data row3 col3\" >5,993 (20.6%)<br>4,686 (16.1%)<br>4,320 (14.8%)<br>2,310 (7.9%)<br>2,228 (7.6%)<br>1,251 (4.3%)<br>1,243 (4.3%)<br>1,242 (4.3%)<br>1,226 (4.2%)<br>1,019 (3.5%)<br>3,607 (12.4%)</td>\n",
              "      <td id=\"T_392d4_row3_col4\" class=\"data row3 col4\" ><img src = \"data:image/png;base64, iVBORw0KGgoAAAANSUhEUgAAAJsAAAD+CAYAAAAtWHdlAAAAOXRFWHRTb2Z0d2FyZQBNYXRwbG90bGliIHZlcnNpb24zLjguMCwgaHR0cHM6Ly9tYXRwbG90bGliLm9yZy81sbWrAAAACXBIWXMAAA9hAAAPYQGoP6dpAAAD8ElEQVR4nO3dQWoTYQCG4T8SRDcJpdDD9BAe1kPkNqV0Fipu4kIUsSZhYuYd0Oe5wGTx8pcZ5utsjsfjgMKbtX8A/w+xkREbGbGRERsZsZERGxmxkREbmc0Y4/0Y4+2Kv+Hr8Xj8vOL1iWzv7+8/7Ha7u7V+wDRNz5vN5qPg/n3b3W539/j4+Hm/33+pL/7y8vLucDjcPT09vR1jiO0ftx1jjP1+/+Xh4eHTSr/h/UrXJeYGgYzYyIiNjNjIiI2M2MiIjYzYyIiNjNjIiI2M2MiIjYzYyGzH+P5e2RoXX+u6rGM7TdPz4XC4Gyu9VzZN0/MY4+sa16Zlg0Bm419mUalONqcXzbrKgooxgnWVBRU/VOsqCyo81KUjNjJiIyM2MmIjIzYyYiMjNjJiIyM2MmIjIzYyYiOz+ODFqIUfksGLUQtjeC2ckMELmaVPNicaPy06eDF04VeLDV4MXfjd0oMXQxd+8lCXjNjIiI2M2MiIjYzYyIiNjNjIiI2M2MiIjYzYyIiNzGKDF0MXfrfo4MXQhV95LZyMwQsZNwhkrvkz6k8jV5m9rrKY4lqz1lUWU/yNa9ZVFlNcxQ0CGbGRERsZsZERGxmxkREbGbGRERsZsZERGxmxkREbmVnrKosp/sbsdZXFFNfyWjgZ6yoyTjYyBi9kDF7IGLyQ8VCXjNjIiI2M2MiIjYzYyIiNjNjIiI2M2MiIjYzYyIiNjMELGYMXMl4LJ2PwQubSyeYU42bODl6MW7ilk4MX4xZu7dLgxbiFm/FQl4zYyIiNjNjIiI2M2MiIjYzYyIiNjNjIiI2M2MiIjYzYyJxcV1lScWtn11WWVNySDQIZ6yoyTjYy1lVkrKvIWFeR8VCXjNjIiI2M2MiIjYzYyIiNjNjIiI2M2MiIjYzYyIiNjMELGYMXMl4LJ2PwQsbJRsbghYzBCxmDFzIe6pIRGxmxkREbGbGRERsZsZERGxmxkREbGbGRERsZsZExeCFj8ELGa+FkDF7IuEEg488oGesqMtZVZKyryLhBICM2MmIjIzYyYiMjNjJiIyM2MmIjIzYyYiMjNjJiI2NdRca6iozXwslYV5E5dbI50bi5Pw5eDF1YwqvBi6ELSzk1eDF04eY81CUjNjJiIyM2MmIjIzYyYiMjNjJiIyM2MmIjIzYyYiPzavBi6MJS/jh4MXRhCV4LJ2PwQubSlG8uJyInnf3Cy1yGMpxz8gsvcxnKcMmlL7zMZSjDSR7qkhEbGbGRERsZsZERGxmxkREbGbGRERsZsZERGxmxkTn5hZe5DGW45OwXXuYylOEcr4WTMXgh4waBjNjIiI2M2MiIjYzYyIiNjNjIiI3MNyU2TuI8Pz0uAAAAAElFTkSuQmCC\"></img></td>\n",
              "      <td id=\"T_392d4_row3_col5\" class=\"data row3 col5\" >0<br>(0.0%)</td>\n",
              "    </tr>\n",
              "    <tr>\n",
              "      <td id=\"T_392d4_row4_col0\" class=\"data row4 col0\" >5</td>\n",
              "      <td id=\"T_392d4_row4_col1\" class=\"data row4 col1\" ><strong>Type Générique</strong><br>[float64]</td>\n",
              "      <td id=\"T_392d4_row4_col2\" class=\"data row4 col2\" >1. nan</td>\n",
              "      <td id=\"T_392d4_row4_col3\" class=\"data row4 col3\" >29,125 (100.0%)</td>\n",
              "      <td id=\"T_392d4_row4_col4\" class=\"data row4 col4\" ><img src = \"data:image/png;base64, iVBORw0KGgoAAAANSUhEUgAAAJsAAAAXCAYAAAAcEz0vAAAAOXRFWHRTb2Z0d2FyZQBNYXRwbG90bGliIHZlcnNpb24zLjguMCwgaHR0cHM6Ly9tYXRwbG90bGliLm9yZy81sbWrAAAACXBIWXMAAA9hAAAPYQGoP6dpAAAAnUlEQVR4nO3bsQ0CMRBE0TlkoSPx6mTJxbgIUvovYZPjQgJqYCyZ/yqY4Ie7m6SHpLuAHyuttWet9Zg9BOsrtdZjjPGOiGv2GKwrM/ciSRFx9d7P2YOwttvsAfgfxAYbYoMNscGG2GBDbLAhNtgQG2yIDTbEBhtigw2xwYbYYENssCE22BAbbIgNNkX6nuzOHoK1Zea+tdZePLzA4QPFNA/EDSh7IQAAAABJRU5ErkJggg==\"></img></td>\n",
              "      <td id=\"T_392d4_row4_col5\" class=\"data row4 col5\" >29,125<br>(100.0%)</td>\n",
              "    </tr>\n",
              "    <tr>\n",
              "      <td id=\"T_392d4_row5_col0\" class=\"data row5 col0\" >6</td>\n",
              "      <td id=\"T_392d4_row5_col1\" class=\"data row5 col1\" ><strong>Valeur</strong><br>[object]</td>\n",
              "      <td id=\"T_392d4_row5_col2\" class=\"data row5 col2\" >1. 0<br>2. 0,010000000<br>3. 0,020000000<br>4. 0,030000000<br>5. 0,040000000<br>6. 0,050000000<br>7. 0,060000000<br>8. 0,380000000<br>9. 0,440000000<br>10. 0,080000000<br>11. other</td>\n",
              "      <td id=\"T_392d4_row5_col3\" class=\"data row5 col3\" >8,325 (28.6%)<br>3,213 (11.0%)<br>1,203 (4.1%)<br>1,148 (3.9%)<br>497 (1.7%)<br>207 (0.7%)<br>125 (0.4%)<br>89 (0.3%)<br>83 (0.3%)<br>76 (0.3%)<br>14,159 (48.6%)</td>\n",
              "      <td id=\"T_392d4_row5_col4\" class=\"data row5 col4\" ><img src = \"data:image/png;base64, iVBORw0KGgoAAAANSUhEUgAAAJsAAAD+CAYAAAAtWHdlAAAAOXRFWHRTb2Z0d2FyZQBNYXRwbG90bGliIHZlcnNpb24zLjguMCwgaHR0cHM6Ly9tYXRwbG90bGliLm9yZy81sbWrAAAACXBIWXMAAA9hAAAPYQGoP6dpAAAEZUlEQVR4nO3dQU4bZwCG4X+QRcvGlmWJI7R38CFy2BzCh+gdEGIWgbJxF0mqtiIJBPxOnD7Pjt2v6NVMZjQfTMfjcUDhYukD8P8hNjJiIyM2MmIjIzYyYiMjNjJiIzONMa7GGJdLH+QFHo/H4/3Sh+DlVrvd7t16vd4ufZDnmuf5dpqm94I7P6v1er3d7/f3m83mYenDfMvd3d2vh8Nhe3NzcznGENuZWY0xxmazebi+vv6w9GGe6WrpA/B9PCCQERsZsZERGxmxkREbGbGRERsZsZERGxmxkREbGbGRERuZ1RgfvxNb+iDPcS7n5GmreZ5vD4fDdpzJd2LzPN+OMR6XPgcvZ4NAZvIrs6i81ZXN1YZvepN1lcUTz/HqdZXFE8/1Vuuqs3iSZVle6pIRGxmxkREbGbGRERsZsZERGxmxkREbGbGRERsZsZF59eDFCIXnepPBixEKz+GzcDIGL2S+dmVzteJNfXHwYsTCW3ty8GLEwil8bfBixMKb8lKXjNjIiI2M2MiIjYzYyIiNjNjIiI2M2MiIjYzYyIiNzJODFyMWTuGLgxcjFt6az8LJGLyQ8YBAxm2UjHUVGesqMtZVZDwgkBEbGbGRERsZsZERGxmxkREbGbGRERsZsZERGxmxkbGuImNdRcZn4WSsq8j898rmasbJ/GvwYuTCKV18Hrzs9/v7T9G99s9BwpP+Hrx8+tnIhZPxUpeM2MiIjYzYyIiNjNjIiI2M2MiIjYzYyIiNjNjIiI3Mk4MXOIV/Dl6MXDgpn4WTMXgh8/nKNlzROLXVbrd7N8YYhi6c2sV6vd4aulDwno2M2MiIjYzYyIiNjNjIiI2M2MiIjYzYyIiNjNjIiI2M2MiIjYzYyKw+LarGsKrixGwQyFhXkXFlI2NdRca6ioxXH2TERkZsZMRGRmxkxEZGbGTERkZsZMRGRmxkxEZGbGTERkZsZAxeyPgsnIzBCxn/ZyNzMU3T79M0+XujnNzFGOO3McYvSx+En5/bKBmxkREbGbGRERsZsZERGxmxkREbGbGRERsZsZERGxmxkREbmYsxxh9jjD+XPgg/PxsEMm6jZMRGRmxkrKvIWFeRcRslIzYyYiMjNjJiIyM2MmIjIzYyYiMjNjJiIyM2MmIjIzYyYiNjXUXGuoqM2ygZsZExeCFj8ELGbZSM2MiIjYzYyIiNjNjIiI2M2MiIjYzYyIiNjNjIiI2M2MiIjYzBCxmDFzJuo2SmMcbVGONy6YOcicfj8Xi/9CHO1Wq3271br9fbpQ9yDuZ5vp2m6b3gvs9qvV5v9/v9/WazeVj6MD+yu7u7Xw+Hw/bm5uZyjCG277AaY4zNZvNwfX39YenDnIGrpQ9wzjwgkBEbGbGRERsZsZERGxmxkREbGbGRERsZsZERGxmxkVmN8fHzmaUP8qPzb/R6q3mebw+Hw3b4fOab5nm+HWM8Ln2Oc+Wz8JfxWfgrWFeR8YBARmxkxEZGbGTERkZsZMRGRmxkxEbmLzuOcogWX5YmAAAAAElFTkSuQmCC\"></img></td>\n",
              "      <td id=\"T_392d4_row5_col5\" class=\"data row5 col5\" >1<br>(0.0%)</td>\n",
              "    </tr>\n",
              "    <tr>\n",
              "      <td id=\"T_392d4_row6_col0\" class=\"data row6 col0\" >7</td>\n",
              "      <td id=\"T_392d4_row6_col1\" class=\"data row6 col1\" ><strong>Unité</strong><br>[object]</td>\n",
              "      <td id=\"T_392d4_row6_col2\" class=\"data row6 col2\" >1. kWh<br>2. nan<br>3. k</td>\n",
              "      <td id=\"T_392d4_row6_col3\" class=\"data row6 col3\" >29,122 (100.0%)<br>2 (0.0%)<br>1 (0.0%)</td>\n",
              "      <td id=\"T_392d4_row6_col4\" class=\"data row6 col4\" ><img src = \"data:image/png;base64, iVBORw0KGgoAAAANSUhEUgAAAJsAAABFCAYAAABdVZTTAAAAOXRFWHRTb2Z0d2FyZQBNYXRwbG90bGliIHZlcnNpb24zLjguMCwgaHR0cHM6Ly9tYXRwbG90bGliLm9yZy81sbWrAAAACXBIWXMAAA9hAAAPYQGoP6dpAAABQUlEQVR4nO3bsU3EQBCG0VnLgiOxdbLkEqCHK4KU3unCCRyRCaiBf6W99yqY4JNGK+208zwLEqbeA/A4WlW9VNVT70EY37xt2/uyLNfegzC+eVmW6+12+17X9d57GMZ1HMdlrqpa1/W+7/tX74EYmwcCMWIjRmzEiI0YsREjNmLERozYiBEbMWIjRmzEiI0YsREjNmLmqr+/Rr0HYWzHcVzatm0ffuqS4AaBmOaUjxQPBGKm1tpba80DgX83VdVrVT33HoTxWaPEiI0YsREjNmLERozYiBEbMWIjRmzEiI0YsREjNmLERozYiBEbMWIjZqqqz6r66T0I43PwQow1SozYiBEbMU75iHHKR4w1SozYiBEbMWIjRmzEiI0YsREjNmLERozYiBEbMWIjRmzEiI0YsREjNmKc8hHjlI8Ya5SYX8x1IIgKwWYlAAAAAElFTkSuQmCC\"></img></td>\n",
              "      <td id=\"T_392d4_row6_col5\" class=\"data row6 col5\" >2<br>(0.0%)</td>\n",
              "    </tr>\n",
              "    <tr>\n",
              "      <td id=\"T_392d4_row7_col0\" class=\"data row7 col0\" >8</td>\n",
              "      <td id=\"T_392d4_row7_col1\" class=\"data row7 col1\" ><strong>date</strong><br>[datetime64[ns]]</td>\n",
              "      <td id=\"T_392d4_row7_col2\" class=\"data row7 col2\" >Min: 2023-01-01<br>Max: 2024-05-09<br>Duration: 494 days</td>\n",
              "      <td id=\"T_392d4_row7_col3\" class=\"data row7 col3\" >303 distinct values</td>\n",
              "      <td id=\"T_392d4_row7_col4\" class=\"data row7 col4\" ><img src = \"data:image/png;base64, iVBORw0KGgoAAAANSUhEUgAAAJsAAABNCAYAAACxBha+AAAAOXRFWHRTb2Z0d2FyZQBNYXRwbG90bGliIHZlcnNpb24zLjguMCwgaHR0cHM6Ly9tYXRwbG90bGliLm9yZy81sbWrAAAACXBIWXMAAA9hAAAPYQGoP6dpAAACt0lEQVR4nO3dv27aUBiG8e/wrweIbJFQsrF0jNQBiYUL6NiL7SUUKUPnDF06ZYtkIVDcIBybLqVLocVO/MaG57eiT1jyI2QfH2G33W4NUGi89QHgfBAbZFpvfQCoJudc18w6BUY32+32ad8HxIa/OOe6V1dXn4MgGOSdXa1WC+fcl33BERv26QRBMJjNZk9hGK6PHVoul/729nYQRVHHzIgNxwvDcD0ajX7mHOse+oAbBMgQG2SIDTLEBhligwyxQYbYIENskCE2yBAbZIgNMsQGGWKDDLFBhtggQ2yQITbIEBtkiA0yxAYZYoMMsUGG2CBDbJAhNsgQG2SIDTLEBhligwyxQYbYIENskCE2yBAbZIgNMsQGGWKDDLFBhr+mr4ky3riiRmw1UNYbV9SIrR5KeeOKGrHVyGu/cUWNGwTIEBtkiA0yxAYZYoMMsUGG2CBDbJAhNsjwBOHEpWnaNrPAOZdnLMiyrP3ax0JsJyyO43aSJB/H43Gz2Wwe/Uw1SRKfpunNer3+amZ5H48dRGwnbLPZtLz3vclksr6+vl4cO3d/fz+4u7vrPT8/N1/zeCoV2yns2aqifr+f6wH+YrEo5eF9ZWI7lT1bOKwysdkL9mzN5/NRFEVD59wq53fyiyhUpdjMLP+eraIXwWb8IqpVLra8il4EV20X6zmofWw7eS+Cf5PvYi14E1TKupfaycRWRMEFz52GmWU5Z/zl5eWnMAz7eYbKWvdSO9vYXnKtl6ZpO47jDxcXFz8ajUZy7FySJN7MbqbT6bfhcHj0zUxZ615qZxtb0Ws9sz8n//1kMvleZLHUe59UYd1L7Wxj2ylyrbc7+VVZLK0Ldn1AhtggQ2yQITbIEBtk/nk36pzzZvZOdCxBlmWt5XLp8ww9Pj56M7M4jv3Dw0Ov7Lm3+M66zP3v3P0CCK5CeAlSux8AAAAASUVORK5CYII=\"></img></td>\n",
              "      <td id=\"T_392d4_row7_col5\" class=\"data row7 col5\" >1<br>(0.0%)</td>\n",
              "    </tr>\n",
              "    <tr>\n",
              "      <td id=\"T_392d4_row8_col0\" class=\"data row8 col0\" >9</td>\n",
              "      <td id=\"T_392d4_row8_col1\" class=\"data row8 col1\" ><strong>time</strong><br>[object]</td>\n",
              "      <td id=\"T_392d4_row8_col2\" class=\"data row8 col2\" >1. 11:00:05<br>2. 20:00:05<br>3. 21:00:05<br>4. 13:00:05<br>5. 12:00:05<br>6. 10:00:05<br>7. 09:00:05<br>8. 15:00:05<br>9. 14:00:06<br>10. 16:00:05<br>11. other</td>\n",
              "      <td id=\"T_392d4_row8_col3\" class=\"data row8 col3\" >419 (1.4%)<br>406 (1.4%)<br>405 (1.4%)<br>402 (1.4%)<br>400 (1.4%)<br>397 (1.4%)<br>396 (1.4%)<br>386 (1.3%)<br>384 (1.3%)<br>384 (1.3%)<br>25,146 (86.3%)</td>\n",
              "      <td id=\"T_392d4_row8_col4\" class=\"data row8 col4\" ><img src = \"data:image/png;base64, iVBORw0KGgoAAAANSUhEUgAAAJsAAAD+CAYAAAAtWHdlAAAAOXRFWHRTb2Z0d2FyZQBNYXRwbG90bGliIHZlcnNpb24zLjguMCwgaHR0cHM6Ly9tYXRwbG90bGliLm9yZy81sbWrAAAACXBIWXMAAA9hAAAPYQGoP6dpAAADpUlEQVR4nO3cwW0bVxhG0Z+E4ISbIQgBKkMFqIgUmyJYgPoQBM3CdLxhFgYMb7IjLyP6nAKIWVw8YQbv0+Z8Pg8Utrd+AH4fYiMjNjJiIyM2MmIjIzYyYiMjNjKbmdnNzJeZ+X4+n083fh7u2MPj4+Nfy7Ic1nV932w2fwuOa9kuy3J4fn6eZVkO8+OEg6vYzszsdrt/bv0g3D8vCGTERkZsZMRGRmxkxEZGbGTERkZsZMRGRmxkxEZGbGTERmY7M3M6nf649YNw/7brur6/vr7Ouq7vM/P91g/E/bJBILPxL7OoONnIWFeRsa4iY11FxkddMmIjIzYyYiMjNjJiIyM2MmIjIzYyYiMjNjJiIyM2MgYvZAxeyLgWTsbghYyTjYzBCxmDFzIGL2R81CUjNjJiIyM2MmIjIzYyYiMjNjJiIyM2MmIjIzYyYiNj8ELG4IWMa+FkDF7IeEEg488oGesqMtZVZKyryHhBICM2MmIjIzYyYiMjNjJiIyM2MmIjIzYyYiMjNjJiI2NdRca6ioxr4WSsq8g42cgYvJAxeCFj8ELGR10yYiMjNjJiIyM2MmIjIzYyYiMjNjJiIyM2MmIjIzYyBi9kDF7IuBZOxuCFjJONjMELGYMXMgYvZHzUJSM2MmIjIzYyYiMjNjJiIyM2MmIjIzYyYiMjNjJiIyM2MtZVZKyryNggkLGuIuNkI2NdRca6iox1FRkfdcmIjYzYyIiNjNjIiI2M2MiIjYzYyIiNjNjIiI2M2MgYvJAxeCHjWjgZgxcyTjYyBi9kDF7IGLyQ8VGXjNjIiI2M2MiIjYzYyIiNjNjIiI2M2MiIjYzYyIiNjMELGYMXMq6FkzF4IeMFgYw/o2Ssq8hYV5GxriLjBYGM2MiIjYzYyIiNjNjIiI2M2MiIjYzYyIiNjNjIiI2MdRUZ6yoyroWTsa4i42QjY/BCxuCFjMELGR91yYiNjNjIiI2M2MiIjYzYyIiNjNjIiI2M2MiIjYzYyBi8kDF4IeNaOBmDFzK/nmzwq4v/pfs5eLnkj/L5XWMA9bAsy+Hl5eW03++/XepH+dw+Pj7+PB6Ph7e3ty8zc7nYZmb2+/23p6enr5f6Ue7C7tI/6KMuGbGRERsZsZERGxmxkREbGbGRERsZsZERGxmxkREbmYeZH1dKbv0g/H9cq4eHdV3fj8fjYa5wpYTP6xoDKNfC+S8XvxZu8ELGCwIZsZERGxmxkREbGbGRERsZsZERG5l/Absnt8W45yKWAAAAAElFTkSuQmCC\"></img></td>\n",
              "      <td id=\"T_392d4_row8_col5\" class=\"data row8 col5\" >1<br>(0.0%)</td>\n",
              "    </tr>\n",
              "    <tr>\n",
              "      <td id=\"T_392d4_row9_col0\" class=\"data row9 col0\" >10</td>\n",
              "      <td id=\"T_392d4_row9_col1\" class=\"data row9 col1\" ><strong>annee</strong><br>[float64]</td>\n",
              "      <td id=\"T_392d4_row9_col2\" class=\"data row9 col2\" >1. 2024.0<br>2. 2023.0<br>3. nan</td>\n",
              "      <td id=\"T_392d4_row9_col3\" class=\"data row9 col3\" >19,227 (66.0%)<br>9,897 (34.0%)<br>1 (0.0%)</td>\n",
              "      <td id=\"T_392d4_row9_col4\" class=\"data row9 col4\" ><img src = \"data:image/png;base64, iVBORw0KGgoAAAANSUhEUgAAAJsAAABFCAYAAABdVZTTAAAAOXRFWHRTb2Z0d2FyZQBNYXRwbG90bGliIHZlcnNpb24zLjguMCwgaHR0cHM6Ly9tYXRwbG90bGliLm9yZy81sbWrAAAACXBIWXMAAA9hAAAPYQGoP6dpAAABmUlEQVR4nO3bQW6CUBSF4fMIsXUCISQsod0Di+hiuwgW0T0QwhtU64QOHBjTKT3P3v7fCq7xjwbjSdu2CXCoSh+A/yNJOko6lD4EP1y2bTuVPmJPdd/3b03TdKUPwb2c85JSeo8UXN00TTeO46lt23PpY3C1ruvzNE3dPM8HSXFik6S2bc/DMHyWPgZ3jqUP2BsPCLAhNtgQG2yIDTbEBhtigw2xwYbYYENssCE22BAbbIgNNsQGG2KDTS1d/z9V+hDcRH0/6pzzMk1Tp4D/n/rLcs6LpEvpO/bEBuFxhdsgJKZ8cIn6yRbuUyGCkOuqiMukCMKtq6IukyKIuq7iyfoB8aMubIgNNsQGG2KDDbHBhthgQ2ywITbYEBtsiA02xAYbYoMNscGG2GATbl0V6bVEE3JdFXGZFAEbBNiwroINDwiwITbYVCml15QST3D4dZWkF0lPpQ9BfHyNwobYYENssCE22BAbbIgNNsQGG2KDDbHBhthgQ2ywITbYEBtsiA02xAYbYoNNJelD0lfpQxAf6yrY8DUKm2/nRXM6yWPU4wAAAABJRU5ErkJggg==\"></img></td>\n",
              "      <td id=\"T_392d4_row9_col5\" class=\"data row9 col5\" >1<br>(0.0%)</td>\n",
              "    </tr>\n",
              "    <tr>\n",
              "      <td id=\"T_392d4_row10_col0\" class=\"data row10 col0\" >11</td>\n",
              "      <td id=\"T_392d4_row10_col1\" class=\"data row10 col1\" ><strong>Niveau</strong><br>[object]</td>\n",
              "      <td id=\"T_392d4_row10_col2\" class=\"data row10 col2\" >1. 1er Etage<br>2. RDC<br>3. E2<br>4. nan</td>\n",
              "      <td id=\"T_392d4_row10_col3\" class=\"data row10 col3\" >17,501 (60.1%)<br>9,312 (32.0%)<br>2,311 (7.9%)<br>1 (0.0%)</td>\n",
              "      <td id=\"T_392d4_row10_col4\" class=\"data row10 col4\" ><img src = \"data:image/png;base64, iVBORw0KGgoAAAANSUhEUgAAAJsAAABcCAYAAAB5jMeAAAAAOXRFWHRTb2Z0d2FyZQBNYXRwbG90bGliIHZlcnNpb24zLjguMCwgaHR0cHM6Ly9tYXRwbG90bGliLm9yZy81sbWrAAAACXBIWXMAAA9hAAAPYQGoP6dpAAAB9klEQVR4nO3b0W3aYBiF4c8Ipc2NLYSUEdodGKLDdggP0R0QwhdNmhv3IhNA1PMX/88zwafoFcTIZ1jXtSBh1/oA+iE2Yoaqeq6qp9aHdOZ9XdfX1kek7Y/H449xHA+tD+nJsiyXYRh+9hbcfhzHw+l0ep2m6a31MT24Xq9f53k+nM/np6rqK7aqqmma3l5eXn63PqYjz60PaMEDAjFiI0ZsxIiNGLERIzZixEaM2IgRGzFiI0ZsxIiNGLERs6/6eO2l9SG96PlvvV+W5TLP86E6fe2lhWVZLlX13vqONK+Ft9Hla+GDKR8pHhCI2dLXaJdfTY9kM+uqXhdLj2QT66qeF0uPZEvrKj/d/Oc8IBAjNmLERozYiBEbMWIjRmzEiI0YsREjNmLERozYiBEbMWIjZhNTvke/vxebmfL1Oo97JDYIxJjyEXPPJ5tPEO5y87rKiol73bSusmLiM+5ZVz30Uyvt+FGXGLERIzZixEaM2IgRGzFiI0ZsxIiNGLERIzZixEaM2IgRGzE3rausmPiMm9dVVkzcywaBGOsqYjwgELMbhuH7MAz+8eef21XVt6r60voQts/XKDFiI0ZsxIiNGLERIzZixEaM2IgRGzFiI0ZsxIiNGLERIzZixEaM2IjZVdWvqvrT+hC2z+CFGF+jxIiNmL+yRaipOFmogQAAAABJRU5ErkJggg==\"></img></td>\n",
              "      <td id=\"T_392d4_row10_col5\" class=\"data row10 col5\" >1<br>(0.0%)</td>\n",
              "    </tr>\n",
              "    <tr>\n",
              "      <td id=\"T_392d4_row11_col0\" class=\"data row11 col0\" >12</td>\n",
              "      <td id=\"T_392d4_row11_col1\" class=\"data row11 col1\" ><strong>Num_Piece</strong><br>[object]</td>\n",
              "      <td id=\"T_392d4_row11_col2\" class=\"data row11 col2\" >1. 120409<br>2. 120404<br>3. 12044B<br>4. 120417<br>5. 12044E<br>6. nan</td>\n",
              "      <td id=\"T_392d4_row11_col3\" class=\"data row11 col3\" >17,501 (60.1%)<br>4,962 (17.0%)<br>4,063 (14.0%)<br>2,311 (7.9%)<br>287 (1.0%)<br>1 (0.0%)</td>\n",
              "      <td id=\"T_392d4_row11_col4\" class=\"data row11 col4\" ><img src = \"data:image/png;base64, iVBORw0KGgoAAAANSUhEUgAAAJsAAACKCAYAAAC96ziyAAAAOXRFWHRTb2Z0d2FyZQBNYXRwbG90bGliIHZlcnNpb24zLjguMCwgaHR0cHM6Ly9tYXRwbG90bGliLm9yZy81sbWrAAAACXBIWXMAAA9hAAAPYQGoP6dpAAACuklEQVR4nO3dQWrbUBiF0V/CpPVExgSyhHaWBWQRXWwX4QVk2D0EEw3qNBN30FI3IRM76D7IO2cFj/BZQkbXGY7HY0HC2PoA9ENsxIiNGLERM1TVuqquWh+kM8/H4/HQ+hBpq+vr62/TNG1bH6Qn8zzvh2H43ltwq2matnd3d4fNZvPU+jA9eHx8/Lzb7bYPDw9XVdVXbFVVm83m6ebm5mfrw3Rk3foALXhAIEZsxIiNGLERIzZixEaM2IgRGzFiI0ZsxIiNGLERIzZiVlV/XntpfZBe9Py3Xs3zvN/tdtvq9LWXFuZ53lfVc+tzpHktvI0uXwsfjJRJSV7Zuvw0cxIbvPQ68uAkMnjpeeTBSXLw4mm3c77UJUZsxIiNGLERIzZixEaM2IgRGzFiI0ZsxIiNGLERIzZixEZMZF3V86KIk9i6qtdFESc2CMRYVxGz5JXNlYwXFltXWVPx2iLrKmsq3rLkusqaihd8qUuM2IgRGzFiI0ZsxIiNGLERIzZixEaM2IgRGzFiI0ZsxIiNmEXWVdZUvGWxdZU1Fa/ZIBBjXUXMJVc2Vywucva6ymqKS521rrKa4j0uWVdZTXERX+oSIzZixEaM2IgRGzFiI0ZsxIiNGLERIzZixEaM2IgRGzFnDV4MWXiPswcvhixcymvhxBi8EOMBgZj/b6Nujyzq37rKaoqljdM0bW9vb+vvnC/xf0fp1FhVtV6vf7U+CB+fBwRixEaM2IgRGzFiI0ZsxIiNGLERIzZixEaM2IgRGzFiI2asqjocDp9aH4SPb5zneX9/f281xeK8Fk6MdRUxHhCIGYdh+DoMg59VYHFjVX2pKk+jLM5tlBixESM2YsRGjNiIERsxYiNGbMSIjRixESM2YsRGjNiIERsxYiNGbMSMVfWjqvyAM4szeCHGbZQYsREjNmLERsxv8l8Ee99HkDkAAAAASUVORK5CYII=\"></img></td>\n",
              "      <td id=\"T_392d4_row11_col5\" class=\"data row11 col5\" >1<br>(0.0%)</td>\n",
              "    </tr>\n",
              "    <tr>\n",
              "      <td id=\"T_392d4_row12_col0\" class=\"data row12 col0\" >13</td>\n",
              "      <td id=\"T_392d4_row12_col1\" class=\"data row12 col1\" ><strong>FCH</strong><br>[object]</td>\n",
              "      <td id=\"T_392d4_row12_col2\" class=\"data row12 col2\" >1. FCH<br>2. nan</td>\n",
              "      <td id=\"T_392d4_row12_col3\" class=\"data row12 col3\" >29,124 (100.0%)<br>1 (0.0%)</td>\n",
              "      <td id=\"T_392d4_row12_col4\" class=\"data row12 col4\" ><img src = \"data:image/png;base64, iVBORw0KGgoAAAANSUhEUgAAAJsAAAAuCAYAAAA/ZmtKAAAAOXRFWHRTb2Z0d2FyZQBNYXRwbG90bGliIHZlcnNpb24zLjguMCwgaHR0cHM6Ly9tYXRwbG90bGliLm9yZy81sbWrAAAACXBIWXMAAA9hAAAPYQGoP6dpAAAA/0lEQVR4nO3bwUkEMQBG4T/DoOslYQlMCdrDFuHV3u0iF11P48EafIHs+yr4Dw9CICnneUYilCQvSZ5mD9H69t77e631OnuI1rfXWq+32+27tXafPUbrGmNc9iRprd2P4/iaPUhr22YP0OMwNmGMTRhjE8bYhDE2YYxNGGMTxtiEMTZhjE0YYxPG2IQxNmGMTZg9+XvYNnuI1jbGuJTe+4fPwkXww4swxa98onhBEGYrpbyVUrwg6N9tSV6TPM8eovV5jApjbMIYmzDGJoyxCWNswhibMMYmjLEJY2zCGJswxiaMsQljbMIYmzDGJoyxCbMl+UzyM3uI1ufvKmF+AXVbGymqDU4XAAAAAElFTkSuQmCC\"></img></td>\n",
              "      <td id=\"T_392d4_row12_col5\" class=\"data row12 col5\" >1<br>(0.0%)</td>\n",
              "    </tr>\n",
              "    <tr>\n",
              "      <td id=\"T_392d4_row13_col0\" class=\"data row13 col0\" >14</td>\n",
              "      <td id=\"T_392d4_row13_col1\" class=\"data row13 col1\" ><strong>Etage</strong><br>[object]</td>\n",
              "      <td id=\"T_392d4_row13_col2\" class=\"data row13 col2\" >1. Conso<br>2. nan</td>\n",
              "      <td id=\"T_392d4_row13_col3\" class=\"data row13 col3\" >29,124 (100.0%)<br>1 (0.0%)</td>\n",
              "      <td id=\"T_392d4_row13_col4\" class=\"data row13 col4\" ><img src = \"data:image/png;base64, iVBORw0KGgoAAAANSUhEUgAAAJsAAAAuCAYAAAA/ZmtKAAAAOXRFWHRTb2Z0d2FyZQBNYXRwbG90bGliIHZlcnNpb24zLjguMCwgaHR0cHM6Ly9tYXRwbG90bGliLm9yZy81sbWrAAAACXBIWXMAAA9hAAAPYQGoP6dpAAAA/0lEQVR4nO3bwUkEMQBG4T/DoOslYQlMCdrDFuHV3u0iF11P48EafIHs+yr4Dw9CICnneUYilCQvSZ5mD9H69t77e631OnuI1rfXWq+32+27tXafPUbrGmNc9iRprd2P4/iaPUhr22YP0OMwNmGMTRhjE8bYhDE2YYxNGGMTxtiEMTZhjE0YYxPG2IQxNmGMTZg9+XvYNnuI1jbGuJTe+4fPwkXww4swxa98onhBEGYrpbyVUrwg6N9tSV6TPM8eovV5jApjbMIYmzDGJoyxCWNswhibMMYmjLEJY2zCGJswxiaMsQljbMIYmzDGJoyxCbMl+UzyM3uI1ufvKmF+AXVbGymqDU4XAAAAAElFTkSuQmCC\"></img></td>\n",
              "      <td id=\"T_392d4_row13_col5\" class=\"data row13 col5\" >0<br>(0.0%)</td>\n",
              "    </tr>\n",
              "    <tr>\n",
              "      <td id=\"T_392d4_row14_col0\" class=\"data row14 col0\" >15</td>\n",
              "      <td id=\"T_392d4_row14_col1\" class=\"data row14 col1\" ><strong>Objets</strong><br>[object]</td>\n",
              "      <td id=\"T_392d4_row14_col2\" class=\"data row14 col2\" >1. E1 Bureaux<br>2. E1 Circulation<br>3. E1 Eclairage<br>4. E2 Tableau Général<br>5. E1 Tableau général<br>6. RDC Armoire3<br>7. RDC Armoire5<br>8. RDC VMC Ateliers<br>9. RDC Armoire1<br>10. RDC Tab Lumières Général<br>11. other</td>\n",
              "      <td id=\"T_392d4_row14_col3\" class=\"data row14 col3\" >5,993 (20.6%)<br>4,686 (16.1%)<br>4,320 (14.8%)<br>2,310 (7.9%)<br>2,228 (7.6%)<br>1,251 (4.3%)<br>1,243 (4.3%)<br>1,242 (4.3%)<br>1,226 (4.2%)<br>1,019 (3.5%)<br>3,607 (12.4%)</td>\n",
              "      <td id=\"T_392d4_row14_col4\" class=\"data row14 col4\" ><img src = \"data:image/png;base64, iVBORw0KGgoAAAANSUhEUgAAAJsAAAD+CAYAAAAtWHdlAAAAOXRFWHRTb2Z0d2FyZQBNYXRwbG90bGliIHZlcnNpb24zLjguMCwgaHR0cHM6Ly9tYXRwbG90bGliLm9yZy81sbWrAAAACXBIWXMAAA9hAAAPYQGoP6dpAAAD8ElEQVR4nO3dQWoTYQCG4T8SRDcJpdDD9BAe1kPkNqV0Fipu4kIUsSZhYuYd0Oe5wGTx8pcZ5utsjsfjgMKbtX8A/w+xkREbGbGRERsZsZERGxmxkREbmc0Y4/0Y4+2Kv+Hr8Xj8vOL1iWzv7+8/7Ha7u7V+wDRNz5vN5qPg/n3b3W539/j4+Hm/33+pL/7y8vLucDjcPT09vR1jiO0ftx1jjP1+/+Xh4eHTSr/h/UrXJeYGgYzYyIiNjNjIiI2M2MiIjYzYyIiNjNjIiI2M2MiIjYzYyGzH+P5e2RoXX+u6rGM7TdPz4XC4Gyu9VzZN0/MY4+sa16Zlg0Bm419mUalONqcXzbrKgooxgnWVBRU/VOsqCyo81KUjNjJiIyM2MmIjIzYyYiMjNjJiIyM2MmIjIzYyYiOz+ODFqIUfksGLUQtjeC2ckMELmaVPNicaPy06eDF04VeLDV4MXfjd0oMXQxd+8lCXjNjIiI2M2MiIjYzYyIiNjNjIiI2M2MiIjYzYyIiNzGKDF0MXfrfo4MXQhV95LZyMwQsZNwhkrvkz6k8jV5m9rrKY4lqz1lUWU/yNa9ZVFlNcxQ0CGbGRERsZsZERGxmxkREbGbGRERsZsZERGxmxkREbmVnrKosp/sbsdZXFFNfyWjgZ6yoyTjYyBi9kDF7IGLyQ8VCXjNjIiI2M2MiIjYzYyIiNjNjIiI2M2MiIjYzYyIiNjMELGYMXMl4LJ2PwQubSyeYU42bODl6MW7ilk4MX4xZu7dLgxbiFm/FQl4zYyIiNjNjIiI2M2MiIjYzYyIiNjNjIiI2M2MiIjYzYyJxcV1lScWtn11WWVNySDQIZ6yoyTjYy1lVkrKvIWFeR8VCXjNjIiI2M2MiIjYzYyIiNjNjIiI2M2MiIjYzYyIiNjMELGYMXMl4LJ2PwQsbJRsbghYzBCxmDFzIe6pIRGxmxkREbGbGRERsZsZERGxmxkREbGbGRERsZsZExeCFj8ELGa+FkDF7IuEEg488oGesqMtZVZKyryLhBICM2MmIjIzYyYiMjNjJiIyM2MmIjIzYyYiMjNjJiI2NdRca6iozXwslYV5E5dbI50bi5Pw5eDF1YwqvBi6ELSzk1eDF04eY81CUjNjJiIyM2MmIjIzYyYiMjNjJiIyM2MmIjIzYyYiPzavBi6MJS/jh4MXRhCV4LJ2PwQubSlG8uJyInnf3Cy1yGMpxz8gsvcxnKcMmlL7zMZSjDSR7qkhEbGbGRERsZsZERGxmxkREbGbGRERsZsZERGxmxkTn5hZe5DGW45OwXXuYylOEcr4WTMXgh4waBjNjIiI2M2MiIjYzYyIiNjNjIiI3MNyU2TuI8Pz0uAAAAAElFTkSuQmCC\"></img></td>\n",
              "      <td id=\"T_392d4_row14_col5\" class=\"data row14 col5\" >1<br>(0.0%)</td>\n",
              "    </tr>\n",
              "  </tbody>\n",
              "</table>\n"
            ]
          },
          "metadata": {},
          "execution_count": 47
        }
      ]
    },
    {
      "cell_type": "markdown",
      "source": [
        "Les colonnes Objet et Type Générique n'apportent aucune informations :"
      ],
      "metadata": {
        "id": "bEDthPWTiZzD"
      }
    },
    {
      "cell_type": "code",
      "source": [
        "# Supprimer l'ancienne colonne si elle n'est plus nécessaire\n",
        "Tours_Habitat= Tours_Habitat.drop(columns=['Type Générique'])\n",
        "Tours_Habitat= Tours_Habitat.drop(columns=['Objet'])"
      ],
      "metadata": {
        "id": "_RPcEqrE_RBw"
      },
      "execution_count": 48,
      "outputs": []
    },
    {
      "cell_type": "markdown",
      "source": [
        "Recherche des modalités dans la colonne \"Equipement\"."
      ],
      "metadata": {
        "id": "mC9xI5iSih9u"
      }
    },
    {
      "cell_type": "code",
      "source": [
        "# Trouver toutes les modalités uniques dans la colonne 'Équipement'\n",
        "modalites = Tours_Habitat['Équipement'].unique()\n",
        "\n",
        "# Afficher les modalités\n",
        "print(modalites)"
      ],
      "metadata": {
        "colab": {
          "base_uri": "https://localhost:8080/"
        },
        "id": "VNA02EJywiGy",
        "outputId": "8f68aca0-defb-4b72-a4b1-4aef2d79a651"
      },
      "execution_count": 49,
      "outputs": [
        {
          "output_type": "stream",
          "name": "stdout",
          "text": [
            "['1er Etage_120409_FCH' nan 'E2_120417_FCH' 'RDC_120404_FCH'\n",
            " 'RDC_12044B_FCH' 'RDC_12044E_FCH']\n"
          ]
        }
      ]
    },
    {
      "cell_type": "markdown",
      "source": [
        "La colonne \"Equipement\" ne correspond pas à des équipements éléctriques mais à des consommations éléctrique / heure, de plusieurs lieux."
      ],
      "metadata": {
        "id": "77AVtQX7iq7V"
      }
    },
    {
      "cell_type": "code",
      "source": [
        "# Supprimer \"Conso horaire\" et séparer les informations autour du \"_\"\n",
        "Tours_Habitat['Équipement'] = Tours_Habitat['Équipement'].str.replace('Conso horaire ', '', regex=False)"
      ],
      "metadata": {
        "id": "tSvF8sDyAsDr"
      },
      "execution_count": 39,
      "outputs": []
    },
    {
      "cell_type": "markdown",
      "source": [
        "Séparation et création de plusieurs colonnes : Une pour le \"niveau\", soit l'étage du batiment. Une pour la pièce \" Num_Pièce\" et la dernière avec \"FCH\"."
      ],
      "metadata": {
        "id": "3vRakyaNkIFx"
      }
    },
    {
      "cell_type": "code",
      "source": [
        "Tours_Habitat[['Niveau', 'Num_Piece', 'FCH']] = Tours_Habitat['Équipement'].str.split('_', expand=True)"
      ],
      "metadata": {
        "id": "KAz3BnbcCiF4"
      },
      "execution_count": 50,
      "outputs": []
    },
    {
      "cell_type": "markdown",
      "source": [
        "Nettoyage colonne Commande :"
      ],
      "metadata": {
        "id": "7YLL66GHDf-c"
      }
    },
    {
      "cell_type": "code",
      "source": [
        "# Trouver toutes les modalités uniques dans la colonne 'Équipement'\n",
        "modalites = Tours_Habitat['Commande'].unique()\n",
        "\n",
        "# Afficher les modalités\n",
        "print(modalites)"
      ],
      "metadata": {
        "colab": {
          "base_uri": "https://localhost:8080/"
        },
        "id": "CAId8AgXDuyx",
        "outputId": "fcd7c1a7-7d69-4400-ff16-a02b8097035a"
      },
      "execution_count": 56,
      "outputs": [
        {
          "output_type": "stream",
          "name": "stdout",
          "text": [
            "[' E1 Bureaux' ' E1 Circulation' ' E1 Eclairage' 'nan' ' E1 Seche Main F'\n",
            " ' E1 Seche Main H' ' E1 Tableau général' ' E2 Coffret'\n",
            " ' E2 Tableau Général' ' RDC Armoire1' ' RDC Armoire3' ' RDC Armoire5'\n",
            " ' RDC VMC Ateliers' ' RDC Bureau S6' ' RDC Climatisation'\n",
            " ' RDC Sous-station' ' RDC Tab Lumières Général' ' RDC Ascenseur'\n",
            " ' RDC Rideau d’air chaud']\n"
          ]
        }
      ]
    },
    {
      "cell_type": "markdown",
      "source": [
        "Beaucoup de modalité, et toutes commencent pas \"Conso\", sachant que les unité sont déjà porteuses de l'information, car nous avons des Kw/heures, et que l'ensemble des données sont des \"conso\", nous enlèvons le mot \"conso\" de la colonne."
      ],
      "metadata": {
        "id": "HhSGPtlEkZ2f"
      }
    },
    {
      "cell_type": "code",
      "source": [
        "# Supprimer \"Conso\"\n",
        "Tours_Habitat['Commande'] = Tours_Habitat['Commande'].str.replace('Conso', '', regex=False)"
      ],
      "metadata": {
        "id": "dpRwuZS6DWaQ"
      },
      "execution_count": 52,
      "outputs": []
    },
    {
      "cell_type": "code",
      "source": [
        "Tours_Habitat['Commande'] = Tours_Habitat['Commande'].astype(str)"
      ],
      "metadata": {
        "id": "f2Hc37wPGNVR"
      },
      "execution_count": 41,
      "outputs": []
    },
    {
      "cell_type": "code",
      "source": [
        "# Séparer les valeurs avant et après le premier espace\n",
        "Tours_Habitat[['Etage', 'Objets']] = Tours_Habitat['Commande'].str.split(n=1, expand=True)"
      ],
      "metadata": {
        "id": "1p1qtSNpExTI"
      },
      "execution_count": 53,
      "outputs": []
    },
    {
      "cell_type": "markdown",
      "source": [],
      "metadata": {
        "id": "G40Fjw96Gas6"
      }
    },
    {
      "cell_type": "code",
      "source": [
        "# Supprimer l'ancienne colonne si elle n'est plus nécessaire\n",
        "Tours_Habitat= Tours_Habitat.drop(columns=['FCH'])\n",
        "Tours_Habitat= Tours_Habitat.drop(columns=['Niveau'])"
      ],
      "metadata": {
        "id": "CpkO2Xz5HWg2"
      },
      "execution_count": 54,
      "outputs": []
    },
    {
      "cell_type": "code",
      "source": [
        "dfSummary(Tours_Habitat)"
      ],
      "metadata": {
        "id": "5Ng8XBFsmugi",
        "outputId": "ac9a7338-55df-43c5-a8c9-d3f3d73a05d5",
        "colab": {
          "base_uri": "https://localhost:8080/",
          "height": 1000
        }
      },
      "execution_count": 73,
      "outputs": [
        {
          "output_type": "execute_result",
          "data": {
            "text/plain": [
              "<pandas.io.formats.style.Styler at 0x7ec21fe9cdc0>"
            ],
            "text/html": [
              "<style type=\"text/css\">\n",
              "#T_06189 thead>tr>th {\n",
              "  text-align: left;\n",
              "}\n",
              "#T_06189_row0_col0, #T_06189_row1_col0, #T_06189_row2_col0, #T_06189_row3_col0, #T_06189_row4_col0, #T_06189_row5_col0, #T_06189_row6_col0, #T_06189_row7_col0, #T_06189_row8_col0, #T_06189_row9_col0, #T_06189_row10_col0 {\n",
              "  text-align: left;\n",
              "  font-size: 12px;\n",
              "  vertical-align: middle;\n",
              "  width: 5%;\n",
              "  max-width: 50px;\n",
              "  min-width: 20px;\n",
              "}\n",
              "#T_06189_row0_col1, #T_06189_row1_col1, #T_06189_row2_col1, #T_06189_row3_col1, #T_06189_row4_col1, #T_06189_row5_col1, #T_06189_row6_col1, #T_06189_row7_col1, #T_06189_row8_col1, #T_06189_row9_col1, #T_06189_row10_col1 {\n",
              "  text-align: left;\n",
              "  font-size: 12px;\n",
              "  vertical-align: middle;\n",
              "  width: 15%;\n",
              "  max-width: 200px;\n",
              "  min-width: 100px;\n",
              "  word-break: break-word;\n",
              "}\n",
              "#T_06189_row0_col2, #T_06189_row1_col2, #T_06189_row2_col2, #T_06189_row3_col2, #T_06189_row4_col2, #T_06189_row5_col2, #T_06189_row6_col2, #T_06189_row7_col2, #T_06189_row8_col2, #T_06189_row9_col2, #T_06189_row10_col2 {\n",
              "  text-align: left;\n",
              "  font-size: 12px;\n",
              "  vertical-align: middle;\n",
              "  width: 30%;\n",
              "  min-width: 100px;\n",
              "}\n",
              "#T_06189_row0_col3, #T_06189_row1_col3, #T_06189_row2_col3, #T_06189_row3_col3, #T_06189_row4_col3, #T_06189_row5_col3, #T_06189_row6_col3, #T_06189_row7_col3, #T_06189_row8_col3, #T_06189_row9_col3, #T_06189_row10_col3 {\n",
              "  text-align: left;\n",
              "  font-size: 12px;\n",
              "  vertical-align: middle;\n",
              "  width: 25%;\n",
              "  min-width: 100px;\n",
              "}\n",
              "#T_06189_row0_col4, #T_06189_row1_col4, #T_06189_row2_col4, #T_06189_row3_col4, #T_06189_row4_col4, #T_06189_row5_col4, #T_06189_row6_col4, #T_06189_row7_col4, #T_06189_row8_col4, #T_06189_row9_col4, #T_06189_row10_col4 {\n",
              "  text-align: left;\n",
              "  font-size: 12px;\n",
              "  vertical-align: middle;\n",
              "  width: 20%;\n",
              "  min-width: 150px;\n",
              "}\n",
              "#T_06189_row0_col5, #T_06189_row1_col5, #T_06189_row2_col5, #T_06189_row3_col5, #T_06189_row4_col5, #T_06189_row5_col5, #T_06189_row6_col5, #T_06189_row7_col5, #T_06189_row8_col5, #T_06189_row9_col5, #T_06189_row10_col5 {\n",
              "  text-align: left;\n",
              "  font-size: 12px;\n",
              "  vertical-align: middle;\n",
              "  width: 10%;\n",
              "}\n",
              "</style>\n",
              "<table id=\"T_06189\" class=\"dataframe\">\n",
              "  <caption><strong>Data Frame Summary</strong><br>Tours_Habitat<br>Dimensions: 29,123 x 11<br>Duplicates: 0</caption>\n",
              "  <thead>\n",
              "    <tr>\n",
              "      <th id=\"T_06189_level0_col0\" class=\"col_heading level0 col0\" >No</th>\n",
              "      <th id=\"T_06189_level0_col1\" class=\"col_heading level0 col1\" >Variable</th>\n",
              "      <th id=\"T_06189_level0_col2\" class=\"col_heading level0 col2\" >Stats / Values</th>\n",
              "      <th id=\"T_06189_level0_col3\" class=\"col_heading level0 col3\" >Freqs / (% of Valid)</th>\n",
              "      <th id=\"T_06189_level0_col4\" class=\"col_heading level0 col4\" >Graph</th>\n",
              "      <th id=\"T_06189_level0_col5\" class=\"col_heading level0 col5\" >Missing</th>\n",
              "    </tr>\n",
              "  </thead>\n",
              "  <tbody>\n",
              "    <tr>\n",
              "      <td id=\"T_06189_row0_col0\" class=\"data row0 col0\" >1</td>\n",
              "      <td id=\"T_06189_row0_col1\" class=\"data row0 col1\" ><strong>Date</strong><br>[object]</td>\n",
              "      <td id=\"T_06189_row0_col2\" class=\"data row0 col2\" >1. 2024-04-10 10:00:05<br>2. 2024-01-24 16:22:05<br>3. 2024-01-10 19:00:06<br>4. 2024-04-17 01:00:07<br>5. 2024-05-04 17:00:07<br>6. 2024-04-10 23:00:05<br>7. 2024-03-19 10:00:06<br>8. 2024-05-05 01:00:08<br>9. 2024-04-22 10:00:06<br>10. 2024-04-22 16:00:07<br>11. other</td>\n",
              "      <td id=\"T_06189_row0_col3\" class=\"data row0 col3\" >10 (0.0%)<br>9 (0.0%)<br>9 (0.0%)<br>8 (0.0%)<br>8 (0.0%)<br>8 (0.0%)<br>8 (0.0%)<br>8 (0.0%)<br>8 (0.0%)<br>8 (0.0%)<br>29,039 (99.7%)</td>\n",
              "      <td id=\"T_06189_row0_col4\" class=\"data row0 col4\" ><img src = \"data:image/png;base64, iVBORw0KGgoAAAANSUhEUgAAAJsAAAD+CAYAAAAtWHdlAAAAOXRFWHRTb2Z0d2FyZQBNYXRwbG90bGliIHZlcnNpb24zLjguMCwgaHR0cHM6Ly9tYXRwbG90bGliLm9yZy81sbWrAAAACXBIWXMAAA9hAAAPYQGoP6dpAAADLklEQVR4nO3cwY3TYBRG0ecogmFja2QpJUAPKYItvdOFNzCswoIeriVzTgX/4kpPkfxleb1eA4Xb2Q/g/yE2MmIjIzYyYiMjNjJiIyM2MmIjIzYyt2VZvi3L8nb2Q7i+28x8nZnPZz+E63NGyYiNjNjIiI2M2MiIjYzYyIiNjNjIiI2M2MiIjYzYyIiNjNjIiI3MbWZ+zsyfsx/C9S3+xYiKM0pGbGSsq8hYV5FxRsmIjYzYyIiNjNjIiI2M2MiIjYzYyIiNjNjIiI2M2MiIjYzYyBi8kDF4IeOMkhEbGYMXMgYvZJxRMmIjIzYyYiMjNjJiIyM2MmIjIzYyYiMjNjJiIyM2MmIjIzYyBi9kDF7IOKNkxEZGbGSsq8hYV5FxRsmIjYzYyIiNjNjIiI2M2MiIjYzYyIiNjNjIiI2M2MiIjYzYyFhXkbGuIuOMkhEbGYMXMgYvZJxRMmIjIzYyYiMjNjJiIyM2MmIjIzYyYiMjNjJiIyM2MmIjIzYyBi9kDF7IOKNkxEbG4IWMwQsZZ5SM2MiIjYzYyIiNjNjIiI2M2MiIjYzYyIiNjNjIiI2M2MiIjYzYyFhXkbGuIuOMkhEbGesqMtZVZJxRMmIjIzYyYiMjNjJiIyM2MmIjIzYyYiMjNjJiIyM2MmIjIzYyBi9kDF7IOKNkxEbG4IWMwQsZZ5SM2MiIjYzYyIiNjNjIiI2M2MiIjYzYyIiNjNjIiI2M2MiIjYzBCxmDFzLOKBmxkREbGesqMtZVZJxRMmIjIzYyYiMjNjJiIyM2MmIjIzYyYiMjNjJiIyM2MmIjIzYy1lVkrKvIOKNkxEbG4IWMwQsZZ5SM2MiIjYzYyIiNjNjIiI2M2MiIjYzYyIiNjNjIiI2M2MiIjYzBCxmDFzLOKJllZr7MzKezH8L13fd9/76u6/vZD+H67uu6vj+fz9/btn2c/Riu6ziOt/vMzLZtH4/H49fZD+La/EAgIzYyYiMjNjJiIyM2MmIjIzYyYiMjNjJiIyM2MmIjc5/59/nH2Q/h2o7jeFv2ff/h40kKPgsnY11Fxg8EMmIjIzYyYiMjNjJiIyM2MmIjIzYyfwFj50uCzHpkKgAAAABJRU5ErkJggg==\"></img></td>\n",
              "      <td id=\"T_06189_row0_col5\" class=\"data row0 col5\" >0<br>(0.0%)</td>\n",
              "    </tr>\n",
              "    <tr>\n",
              "      <td id=\"T_06189_row1_col0\" class=\"data row1 col0\" >2</td>\n",
              "      <td id=\"T_06189_row1_col1\" class=\"data row1 col1\" ><strong>Équipement</strong><br>[object]</td>\n",
              "      <td id=\"T_06189_row1_col2\" class=\"data row1 col2\" >1. 1er Etage_120409_FCH<br>2. RDC_120404_FCH<br>3. RDC_12044B_FCH<br>4. E2_120417_FCH<br>5. RDC_12044E_FCH</td>\n",
              "      <td id=\"T_06189_row1_col3\" class=\"data row1 col3\" >17,501 (60.1%)<br>4,962 (17.0%)<br>4,063 (14.0%)<br>2,310 (7.9%)<br>287 (1.0%)</td>\n",
              "      <td id=\"T_06189_row1_col4\" class=\"data row1 col4\" ><img src = \"data:image/png;base64, iVBORw0KGgoAAAANSUhEUgAAAJsAAABzCAYAAACPdnBjAAAAOXRFWHRTb2Z0d2FyZQBNYXRwbG90bGliIHZlcnNpb24zLjguMCwgaHR0cHM6Ly9tYXRwbG90bGliLm9yZy81sbWrAAAACXBIWXMAAA9hAAAPYQGoP6dpAAACZElEQVR4nO3dUWoaURiG4V+RtN6MiOAysoAsoovtIlyA+xBxLmqaG3vRUJuQGw3zHch5nhUcwssMI+cjs8vlUpAwb30A+iE2YsRGzKyqllX10PognXm5XC7n1odIW2w2mx/DMKxbH6Qn4zgeZ7PZz96CWwzDsH56ejqvVqvn1ofpwel0+r7b7daHw+GhqvqKrapqtVo9b7fbX60P05Fl6wO04AOBGLERIzZixEaM2IgRGzFiI0ZsxIiNGLERIzZixEaM2IhZVP299tL6IL3o+W+9GMfxuNvt1tXptZcWxnE8VtVL63OkuRbeRpfXwmd2o6T4QCAm+Rrt8tXBVWxd1euiiKvIuqrnRRFXyXWVn1Y65wOBGLERIzZixEaM2IgRGzFiI0ZsxIiNGLERIzZixEaM2IiJrKt6XhRxFVtX9boo4sq1cGKsq4jxgUDMlK9Rr03emGxdZU3Fe5Osq6yp+MiU6yprKt7wgUCM2IgRGzFiI0ZsxIiNGLERIzZixEaM2IgRGzFiI0ZsxEyyrrKm4iOTrausqXjPtXBirKuIuefJ5onFXW4evBiycK+bBi+GLHzGPYMXQxbu4kddYsRGjNiIERsxYiNGbMSIjRixESM2YsRGjNiIERsxYiNGbMTctK6ymuIzbl5XWU1xLxsEYqyriPn/yeaJxaT+rausppjafBiG9ePjY73O+RL/d5ROzauqlsvl79YH4evzoy4xYiNGbMSIjRixESM2YsRGjNiIERsxYiNGbMSIjRixESM2YuZVVefz+Vvrg/D1zcdxPO73e6spJmeDQIx1FTE+EIgRGzF/AI7i/w0XtU0YAAAAAElFTkSuQmCC\"></img></td>\n",
              "      <td id=\"T_06189_row1_col5\" class=\"data row1 col5\" >0<br>(0.0%)</td>\n",
              "    </tr>\n",
              "    <tr>\n",
              "      <td id=\"T_06189_row2_col0\" class=\"data row2 col0\" >3</td>\n",
              "      <td id=\"T_06189_row2_col1\" class=\"data row2 col1\" ><strong>Commande</strong><br>[object]</td>\n",
              "      <td id=\"T_06189_row2_col2\" class=\"data row2 col2\" >1.  E1 Bureaux<br>2.  E1 Circulation<br>3.  E1 Eclairage<br>4.  E2 Tableau Général<br>5.  E1 Tableau général<br>6.  RDC Armoire3<br>7.  RDC Armoire5<br>8.  RDC VMC Ateliers<br>9.  RDC Armoire1<br>10.  RDC Tab Lumières Général<br>11. other</td>\n",
              "      <td id=\"T_06189_row2_col3\" class=\"data row2 col3\" >5,993 (20.6%)<br>4,686 (16.1%)<br>4,320 (14.8%)<br>2,310 (7.9%)<br>2,228 (7.7%)<br>1,251 (4.3%)<br>1,243 (4.3%)<br>1,242 (4.3%)<br>1,226 (4.2%)<br>1,019 (3.5%)<br>3,605 (12.4%)</td>\n",
              "      <td id=\"T_06189_row2_col4\" class=\"data row2 col4\" ><img src = \"data:image/png;base64, iVBORw0KGgoAAAANSUhEUgAAAJsAAAD+CAYAAAAtWHdlAAAAOXRFWHRTb2Z0d2FyZQBNYXRwbG90bGliIHZlcnNpb24zLjguMCwgaHR0cHM6Ly9tYXRwbG90bGliLm9yZy81sbWrAAAACXBIWXMAAA9hAAAPYQGoP6dpAAAD8ElEQVR4nO3dQWoTYQCG4T8SRDcJpdDD9BAe1kPkNqV0Fipu4kIUsSZhYuYd0Oe5wGTx8pcZ5utsjsfjgMKbtX8A/w+xkREbGbGRERsZsZERGxmxkREbmc0Y4/0Y4+2Kv+Hr8Xj8vOL1iWzv7+8/7Ha7u7V+wDRNz5vN5qPg/n3b3W539/j4+Hm/33+pL/7y8vLucDjcPT09vR1jiO0ftx1jjP1+/+Xh4eHTSr/h/UrXJeYGgYzYyIiNjNjIiI2M2MiIjYzYyIiNjNjIiI2M2MiIjYzYyGzH+P5e2RoXX+u6rGM7TdPz4XC4Gyu9VzZN0/MY4+sa16Zlg0Bm419mUalONqcXzbrKgooxgnWVBRU/VOsqCyo81KUjNjJiIyM2MmIjIzYyYiMjNjJiIyM2MmIjIzYyYiOz+ODFqIUfksGLUQtjeC2ckMELmaVPNicaPy06eDF04VeLDV4MXfjd0oMXQxd+8lCXjNjIiI2M2MiIjYzYyIiNjNjIiI2M2MiIjYzYyIiNzGKDF0MXfrfo4MXQhV95LZyMwQsZNwhkrvkz6k8jV5m9rrKY4lqz1lUWU/yNa9ZVFlNcxQ0CGbGRERsZsZERGxmxkREbGbGRERsZsZERGxmxkREbmVnrKosp/sbsdZXFFNfyWjgZ6yoyTjYyBi9kDF7IGLyQ8VCXjNjIiI2M2MiIjYzYyIiNjNjIiI2M2MiIjYzYyIiNjMELGYMXMl4LJ2PwQubSyeYU42bODl6MW7ilk4MX4xZu7dLgxbiFm/FQl4zYyIiNjNjIiI2M2MiIjYzYyIiNjNjIiI2M2MiIjYzYyJxcV1lScWtn11WWVNySDQIZ6yoyTjYy1lVkrKvIWFeR8VCXjNjIiI2M2MiIjYzYyIiNjNjIiI2M2MiIjYzYyIiNjMELGYMXMl4LJ2PwQsbJRsbghYzBCxmDFzIe6pIRGxmxkREbGbGRERsZsZERGxmxkREbGbGRERsZsZExeCFj8ELGa+FkDF7IuEEg488oGesqMtZVZKyryLhBICM2MmIjIzYyYiMjNjJiIyM2MmIjIzYyYiMjNjJiI2NdRca6iozXwslYV5E5dbI50bi5Pw5eDF1YwqvBi6ELSzk1eDF04eY81CUjNjJiIyM2MmIjIzYyYiMjNjJiIyM2MmIjIzYyYiPzavBi6MJS/jh4MXRhCV4LJ2PwQubSlG8uJyInnf3Cy1yGMpxz8gsvcxnKcMmlL7zMZSjDSR7qkhEbGbGRERsZsZERGxmxkREbGbGRERsZsZERGxmxkTn5hZe5DGW45OwXXuYylOEcr4WTMXgh4waBjNjIiI2M2MiIjYzYyIiNjNjIiI3MNyU2TuI8Pz0uAAAAAElFTkSuQmCC\"></img></td>\n",
              "      <td id=\"T_06189_row2_col5\" class=\"data row2 col5\" >0<br>(0.0%)</td>\n",
              "    </tr>\n",
              "    <tr>\n",
              "      <td id=\"T_06189_row3_col0\" class=\"data row3 col0\" >4</td>\n",
              "      <td id=\"T_06189_row3_col1\" class=\"data row3 col1\" ><strong>Valeur</strong><br>[object]</td>\n",
              "      <td id=\"T_06189_row3_col2\" class=\"data row3 col2\" >1. 0<br>2. 0,010000000<br>3. 0,020000000<br>4. 0,030000000<br>5. 0,040000000<br>6. 0,050000000<br>7. 0,060000000<br>8. 0,380000000<br>9. 0,440000000<br>10. 0,080000000<br>11. other</td>\n",
              "      <td id=\"T_06189_row3_col3\" class=\"data row3 col3\" >8,324 (28.6%)<br>3,213 (11.0%)<br>1,203 (4.1%)<br>1,148 (3.9%)<br>497 (1.7%)<br>207 (0.7%)<br>125 (0.4%)<br>89 (0.3%)<br>83 (0.3%)<br>76 (0.3%)<br>14,158 (48.6%)</td>\n",
              "      <td id=\"T_06189_row3_col4\" class=\"data row3 col4\" ><img src = \"data:image/png;base64, iVBORw0KGgoAAAANSUhEUgAAAJsAAAD+CAYAAAAtWHdlAAAAOXRFWHRTb2Z0d2FyZQBNYXRwbG90bGliIHZlcnNpb24zLjguMCwgaHR0cHM6Ly9tYXRwbG90bGliLm9yZy81sbWrAAAACXBIWXMAAA9hAAAPYQGoP6dpAAAEZUlEQVR4nO3dQU4bZwCG4X+QRcvGlmWJI7R38CFy2BzCh+gdEGIWgbJxF0mqtiIJBPxOnD7Pjt2v6NVMZjQfTMfjcUDhYukD8P8hNjJiIyM2MmIjIzYyYiMjNjJiIzONMa7GGJdLH+QFHo/H4/3Sh+DlVrvd7t16vd4ufZDnmuf5dpqm94I7P6v1er3d7/f3m83mYenDfMvd3d2vh8Nhe3NzcznGENuZWY0xxmazebi+vv6w9GGe6WrpA/B9PCCQERsZsZERGxmxkREbGbGRERsZsZERGxmxkREbGbGRERuZ1RgfvxNb+iDPcS7n5GmreZ5vD4fDdpzJd2LzPN+OMR6XPgcvZ4NAZvIrs6i81ZXN1YZvepN1lcUTz/HqdZXFE8/1Vuuqs3iSZVle6pIRGxmxkREbGbGRERsZsZERGxmxkREbGbGRERsZsZF59eDFCIXnepPBixEKz+GzcDIGL2S+dmVzteJNfXHwYsTCW3ty8GLEwil8bfBixMKb8lKXjNjIiI2M2MiIjYzYyIiNjNjIiI2M2MiIjYzYyIiNzJODFyMWTuGLgxcjFt6az8LJGLyQ8YBAxm2UjHUVGesqMtZVZDwgkBEbGbGRERsZsZERGxmxkREbGbGRERsZsZERGxmxkbGuImNdRcZn4WSsq8j898rmasbJ/GvwYuTCKV18Hrzs9/v7T9G99s9BwpP+Hrx8+tnIhZPxUpeM2MiIjYzYyIiNjNjIiI2M2MiIjYzYyIiNjNjIiI3Mk4MXOIV/Dl6MXDgpn4WTMXgh8/nKNlzROLXVbrd7N8YYhi6c2sV6vd4aulDwno2M2MiIjYzYyIiNjNjIiI2M2MiIjYzYyIiNjNjIiI2M2MiIjYzYyKw+LarGsKrixGwQyFhXkXFlI2NdRca6ioxXH2TERkZsZMRGRmxkxEZGbGTERkZsZMRGRmxkxEZGbGTERkZsZAxeyPgsnIzBCxn/ZyNzMU3T79M0+XujnNzFGOO3McYvSx+En5/bKBmxkREbGbGRERsZsZERGxmxkREbGbGRERsZsZERGxmxkREbmYsxxh9jjD+XPgg/PxsEMm6jZMRGRmxkrKvIWFeRcRslIzYyYiMjNjJiIyM2MmIjIzYyYiMjNjJiIyM2MmIjIzYyYiNjXUXGuoqM2ygZsZExeCFj8ELGbZSM2MiIjYzYyIiNjNjIiI2M2MiIjYzYyIiNjNjIiI2M2MiIjYzBCxmDFzJuo2SmMcbVGONy6YOcicfj8Xi/9CHO1Wq3271br9fbpQ9yDuZ5vp2m6b3gvs9qvV5v9/v9/WazeVj6MD+yu7u7Xw+Hw/bm5uZyjCG277AaY4zNZvNwfX39YenDnIGrpQ9wzjwgkBEbGbGRERsZsZERGxmxkREbGbGRERsZsZERGxmxkVmN8fHzmaUP8qPzb/R6q3mebw+Hw3b4fOab5nm+HWM8Ln2Oc+Wz8JfxWfgrWFeR8YBARmxkxEZGbGTERkZsZMRGRmxkxEbmLzuOcogWX5YmAAAAAElFTkSuQmCC\"></img></td>\n",
              "      <td id=\"T_06189_row3_col5\" class=\"data row3 col5\" >0<br>(0.0%)</td>\n",
              "    </tr>\n",
              "    <tr>\n",
              "      <td id=\"T_06189_row4_col0\" class=\"data row4 col0\" >5</td>\n",
              "      <td id=\"T_06189_row4_col1\" class=\"data row4 col1\" ><strong>Unité</strong><br>[object]</td>\n",
              "      <td id=\"T_06189_row4_col2\" class=\"data row4 col2\" >1. kWh<br>2. k</td>\n",
              "      <td id=\"T_06189_row4_col3\" class=\"data row4 col3\" >29,122 (100.0%)<br>1 (0.0%)</td>\n",
              "      <td id=\"T_06189_row4_col4\" class=\"data row4 col4\" ><img src = \"data:image/png;base64, iVBORw0KGgoAAAANSUhEUgAAAJsAAAAuCAYAAAA/ZmtKAAAAOXRFWHRTb2Z0d2FyZQBNYXRwbG90bGliIHZlcnNpb24zLjguMCwgaHR0cHM6Ly9tYXRwbG90bGliLm9yZy81sbWrAAAACXBIWXMAAA9hAAAPYQGoP6dpAAAA/0lEQVR4nO3bwUkEMQBG4T/DoOslYQlMCdrDFuHV3u0iF11P48EafIHs+yr4Dw9CICnneUYilCQvSZ5mD9H69t77e631OnuI1rfXWq+32+27tXafPUbrGmNc9iRprd2P4/iaPUhr22YP0OMwNmGMTRhjE8bYhDE2YYxNGGMTxtiEMTZhjE0YYxPG2IQxNmGMTZg9+XvYNnuI1jbGuJTe+4fPwkXww4swxa98onhBEGYrpbyVUrwg6N9tSV6TPM8eovV5jApjbMIYmzDGJoyxCWNswhibMMYmjLEJY2zCGJswxiaMsQljbMIYmzDGJoyxCbMl+UzyM3uI1ufvKmF+AXVbGymqDU4XAAAAAElFTkSuQmCC\"></img></td>\n",
              "      <td id=\"T_06189_row4_col5\" class=\"data row4 col5\" >0<br>(0.0%)</td>\n",
              "    </tr>\n",
              "    <tr>\n",
              "      <td id=\"T_06189_row5_col0\" class=\"data row5 col0\" >6</td>\n",
              "      <td id=\"T_06189_row5_col1\" class=\"data row5 col1\" ><strong>date</strong><br>[datetime64[ns]]</td>\n",
              "      <td id=\"T_06189_row5_col2\" class=\"data row5 col2\" >Min: 2023-01-01<br>Max: 2024-05-09<br>Duration: 494 days</td>\n",
              "      <td id=\"T_06189_row5_col3\" class=\"data row5 col3\" >303 distinct values</td>\n",
              "      <td id=\"T_06189_row5_col4\" class=\"data row5 col4\" ><img src = \"data:image/png;base64, iVBORw0KGgoAAAANSUhEUgAAAJsAAABNCAYAAACxBha+AAAAOXRFWHRTb2Z0d2FyZQBNYXRwbG90bGliIHZlcnNpb24zLjguMCwgaHR0cHM6Ly9tYXRwbG90bGliLm9yZy81sbWrAAAACXBIWXMAAA9hAAAPYQGoP6dpAAACt0lEQVR4nO3dv27aUBiG8e/wrweIbJFQsrF0jNQBiYUL6NiL7SUUKUPnDF06ZYtkIVDcIBybLqVLocVO/MaG57eiT1jyI2QfH2G33W4NUGi89QHgfBAbZFpvfQCoJudc18w6BUY32+32ad8HxIa/OOe6V1dXn4MgGOSdXa1WC+fcl33BERv26QRBMJjNZk9hGK6PHVoul/729nYQRVHHzIgNxwvDcD0ajX7mHOse+oAbBMgQG2SIDTLEBhligwyxQYbYIENskCE2yBAbZIgNMsQGGWKDDLFBhtggQ2yQITbIEBtkiA0yxAYZYoMMsUGG2CBDbJAhNsgQG2SIDTLEBhligwyxQYbYIENskCE2yBAbZIgNMsQGGWKDDLFBhr+mr4ky3riiRmw1UNYbV9SIrR5KeeOKGrHVyGu/cUWNGwTIEBtkiA0yxAYZYoMMsUGG2CBDbJAhNsjwBOHEpWnaNrPAOZdnLMiyrP3ax0JsJyyO43aSJB/H43Gz2Wwe/Uw1SRKfpunNer3+amZ5H48dRGwnbLPZtLz3vclksr6+vl4cO3d/fz+4u7vrPT8/N1/zeCoV2yns2aqifr+f6wH+YrEo5eF9ZWI7lT1bOKwysdkL9mzN5/NRFEVD59wq53fyiyhUpdjMLP+eraIXwWb8IqpVLra8il4EV20X6zmofWw7eS+Cf5PvYi14E1TKupfaycRWRMEFz52GmWU5Z/zl5eWnMAz7eYbKWvdSO9vYXnKtl6ZpO47jDxcXFz8ajUZy7FySJN7MbqbT6bfhcHj0zUxZ615qZxtb0Ws9sz8n//1kMvleZLHUe59UYd1L7Wxj2ylyrbc7+VVZLK0Ldn1AhtggQ2yQITbIEBtk/nk36pzzZvZOdCxBlmWt5XLp8ww9Pj56M7M4jv3Dw0Ov7Lm3+M66zP3v3P0CCK5CeAlSux8AAAAASUVORK5CYII=\"></img></td>\n",
              "      <td id=\"T_06189_row5_col5\" class=\"data row5 col5\" >0<br>(0.0%)</td>\n",
              "    </tr>\n",
              "    <tr>\n",
              "      <td id=\"T_06189_row6_col0\" class=\"data row6 col0\" >7</td>\n",
              "      <td id=\"T_06189_row6_col1\" class=\"data row6 col1\" ><strong>time</strong><br>[object]</td>\n",
              "      <td id=\"T_06189_row6_col2\" class=\"data row6 col2\" >1. 11:00:05<br>2. 20:00:05<br>3. 21:00:05<br>4. 13:00:05<br>5. 12:00:05<br>6. 10:00:05<br>7. 09:00:05<br>8. 15:00:05<br>9. 14:00:06<br>10. 16:00:05<br>11. other</td>\n",
              "      <td id=\"T_06189_row6_col3\" class=\"data row6 col3\" >419 (1.4%)<br>406 (1.4%)<br>405 (1.4%)<br>402 (1.4%)<br>400 (1.4%)<br>397 (1.4%)<br>396 (1.4%)<br>386 (1.3%)<br>384 (1.3%)<br>384 (1.3%)<br>25,144 (86.3%)</td>\n",
              "      <td id=\"T_06189_row6_col4\" class=\"data row6 col4\" ><img src = \"data:image/png;base64, iVBORw0KGgoAAAANSUhEUgAAAJsAAAD+CAYAAAAtWHdlAAAAOXRFWHRTb2Z0d2FyZQBNYXRwbG90bGliIHZlcnNpb24zLjguMCwgaHR0cHM6Ly9tYXRwbG90bGliLm9yZy81sbWrAAAACXBIWXMAAA9hAAAPYQGoP6dpAAADpUlEQVR4nO3cwW0bVxhG0Z+E4ISbIQgBKkMFqIgUmyJYgPoQBM3CdLxhFgYMb7IjLyP6nAKIWVw8YQbv0+Z8Pg8Utrd+AH4fYiMjNjJiIyM2MmIjIzYyYiMjNjKbmdnNzJeZ+X4+n083fh7u2MPj4+Nfy7Ic1nV932w2fwuOa9kuy3J4fn6eZVkO8+OEg6vYzszsdrt/bv0g3D8vCGTERkZsZMRGRmxkxEZGbGTERkZsZMRGRmxkxEZGbGTERmY7M3M6nf649YNw/7brur6/vr7Ouq7vM/P91g/E/bJBILPxL7OoONnIWFeRsa4iY11FxkddMmIjIzYyYiMjNjJiIyM2MmIjIzYyYiMjNjJiIyM2MgYvZAxeyLgWTsbghYyTjYzBCxmDFzIGL2R81CUjNjJiIyM2MmIjIzYyYiMjNjJiIyM2MmIjIzYyYiNj8ELG4IWMa+FkDF7IeEEg488oGesqMtZVZKyryHhBICM2MmIjIzYyYiMjNjJiIyM2MmIjIzYyYiMjNjJiI2NdRca6ioxr4WSsq8g42cgYvJAxeCFj8ELGR10yYiMjNjJiIyM2MmIjIzYyYiMjNjJiIyM2MmIjIzYyBi9kDF7IuBZOxuCFjJONjMELGYMXMgYvZHzUJSM2MmIjIzYyYiMjNjJiIyM2MmIjIzYyYiMjNjJiIyM2MtZVZKyryNggkLGuIuNkI2NdRca6iox1FRkfdcmIjYzYyIiNjNjIiI2M2MiIjYzYyIiNjNjIiI2M2MgYvJAxeCHjWjgZgxcyTjYyBi9kDF7IGLyQ8VGXjNjIiI2M2MiIjYzYyIiNjNjIiI2M2MiIjYzYyIiNjMELGYMXMq6FkzF4IeMFgYw/o2Ssq8hYV5GxriLjBYGM2MiIjYzYyIiNjNjIiI2M2MiIjYzYyIiNjNjIiI2MdRUZ6yoyroWTsa4i42QjY/BCxuCFjMELGR91yYiNjNjIiI2M2MiIjYzYyIiNjNjIiI2M2MiIjYzYyBi8kDF4IeNaOBmDFzK/nmzwq4v/pfs5eLnkj/L5XWMA9bAsy+Hl5eW03++/XepH+dw+Pj7+PB6Ph7e3ty8zc7nYZmb2+/23p6enr5f6Ue7C7tI/6KMuGbGRERsZsZERGxmxkREbGbGRERsZsZERGxmxkREbmYeZH1dKbv0g/H9cq4eHdV3fj8fjYa5wpYTP6xoDKNfC+S8XvxZu8ELGCwIZsZERGxmxkREbGbGRERsZsZERG5l/Absnt8W45yKWAAAAAElFTkSuQmCC\"></img></td>\n",
              "      <td id=\"T_06189_row6_col5\" class=\"data row6 col5\" >0<br>(0.0%)</td>\n",
              "    </tr>\n",
              "    <tr>\n",
              "      <td id=\"T_06189_row7_col0\" class=\"data row7 col0\" >8</td>\n",
              "      <td id=\"T_06189_row7_col1\" class=\"data row7 col1\" ><strong>annee</strong><br>[float64]</td>\n",
              "      <td id=\"T_06189_row7_col2\" class=\"data row7 col2\" >1. 2024.0<br>2. 2023.0</td>\n",
              "      <td id=\"T_06189_row7_col3\" class=\"data row7 col3\" >19,226 (66.0%)<br>9,897 (34.0%)</td>\n",
              "      <td id=\"T_06189_row7_col4\" class=\"data row7 col4\" ><img src = \"data:image/png;base64, iVBORw0KGgoAAAANSUhEUgAAAJsAAAAuCAYAAAA/ZmtKAAAAOXRFWHRTb2Z0d2FyZQBNYXRwbG90bGliIHZlcnNpb24zLjguMCwgaHR0cHM6Ly9tYXRwbG90bGliLm9yZy81sbWrAAAACXBIWXMAAA9hAAAPYQGoP6dpAAABOklEQVR4nO3bMWrDQBRF0a8gTNzMIARajBaRxWYRsxshNEVs3EwKF8GkNW+cl3tW8I0vAhu9obUWgMIQEeeIOPU+BL/cWmuX3kc80zjP80dKaep9CB7VWvdhGD6dghtTStO6rpec87X3Mbg7juO9lDJt23aKCJ/YIiJyztdlWb56H4MH594HPNtb7wPwfxAbZIgNMsQGGWKDDLFBhtggQ2yQITbIEBtkiA0yxAYZYoMMsUGG2CAzRtxf1ut9CH64fh9jrXUvpUxh+LLeX1Zr3SPi1vuOZ2Lw8rrsBi8DUz6ouD7Z7J4KDiynfI4zOAd2Uz7XGZwD1ykfv6xfEH/qQobYIENskCE2yBAbZIgNMsQGGWKDDLFBhtggQ2yQITbIEBtkiA0yxAYZuymf02dxYznlc5zBOWDwAplvCltq30b8rewAAAAASUVORK5CYII=\"></img></td>\n",
              "      <td id=\"T_06189_row7_col5\" class=\"data row7 col5\" >0<br>(0.0%)</td>\n",
              "    </tr>\n",
              "    <tr>\n",
              "      <td id=\"T_06189_row8_col0\" class=\"data row8 col0\" >9</td>\n",
              "      <td id=\"T_06189_row8_col1\" class=\"data row8 col1\" ><strong>Num_Piece</strong><br>[object]</td>\n",
              "      <td id=\"T_06189_row8_col2\" class=\"data row8 col2\" >1. 120409<br>2. 120404<br>3. 12044B<br>4. 120417<br>5. 12044E</td>\n",
              "      <td id=\"T_06189_row8_col3\" class=\"data row8 col3\" >17,501 (60.1%)<br>4,962 (17.0%)<br>4,063 (14.0%)<br>2,310 (7.9%)<br>287 (1.0%)</td>\n",
              "      <td id=\"T_06189_row8_col4\" class=\"data row8 col4\" ><img src = \"data:image/png;base64, iVBORw0KGgoAAAANSUhEUgAAAJsAAABzCAYAAACPdnBjAAAAOXRFWHRTb2Z0d2FyZQBNYXRwbG90bGliIHZlcnNpb24zLjguMCwgaHR0cHM6Ly9tYXRwbG90bGliLm9yZy81sbWrAAAACXBIWXMAAA9hAAAPYQGoP6dpAAACZElEQVR4nO3dUWoaURiG4V+RtN6MiOAysoAsoovtIlyA+xBxLmqaG3vRUJuQGw3zHch5nhUcwssMI+cjs8vlUpAwb30A+iE2YsRGzKyqllX10PognXm5XC7n1odIW2w2mx/DMKxbH6Qn4zgeZ7PZz96CWwzDsH56ejqvVqvn1ofpwel0+r7b7daHw+GhqvqKrapqtVo9b7fbX60P05Fl6wO04AOBGLERIzZixEaM2IgRGzFiI0ZsxIiNGLERIzZixEaM2IhZVP299tL6IL3o+W+9GMfxuNvt1tXptZcWxnE8VtVL63OkuRbeRpfXwmd2o6T4QCAm+Rrt8tXBVWxd1euiiKvIuqrnRRFXyXWVn1Y65wOBGLERIzZixEaM2IgRGzFiI0ZsxIiNGLERIzZixEaM2IiJrKt6XhRxFVtX9boo4sq1cGKsq4jxgUDMlK9Rr03emGxdZU3Fe5Osq6yp+MiU6yprKt7wgUCM2IgRGzFiI0ZsxIiNGLERIzZixEaM2IgRGzFiI0ZsxEyyrrKm4iOTrausqXjPtXBirKuIuefJ5onFXW4evBiycK+bBi+GLHzGPYMXQxbu4kddYsRGjNiIERsxYiNGbMSIjRixESM2YsRGjNiIERsxYiNGbMTctK6ymuIzbl5XWU1xLxsEYqyriPn/yeaJxaT+rausppjafBiG9ePjY73O+RL/d5ROzauqlsvl79YH4evzoy4xYiNGbMSIjRixESM2YsRGjNiIERsxYiNGbMSIjRixESM2YuZVVefz+Vvrg/D1zcdxPO73e6spJmeDQIx1FTE+EIgRGzF/AI7i/w0XtU0YAAAAAElFTkSuQmCC\"></img></td>\n",
              "      <td id=\"T_06189_row8_col5\" class=\"data row8 col5\" >0<br>(0.0%)</td>\n",
              "    </tr>\n",
              "    <tr>\n",
              "      <td id=\"T_06189_row9_col0\" class=\"data row9 col0\" >10</td>\n",
              "      <td id=\"T_06189_row9_col1\" class=\"data row9 col1\" ><strong>Etage</strong><br>[object]</td>\n",
              "      <td id=\"T_06189_row9_col2\" class=\"data row9 col2\" >1. E1<br>2. RDC<br>3. E2</td>\n",
              "      <td id=\"T_06189_row9_col3\" class=\"data row9 col3\" >17,501 (60.1%)<br>9,312 (32.0%)<br>2,310 (7.9%)</td>\n",
              "      <td id=\"T_06189_row9_col4\" class=\"data row9 col4\" ><img src = \"data:image/png;base64, iVBORw0KGgoAAAANSUhEUgAAAJsAAABFCAYAAABdVZTTAAAAOXRFWHRTb2Z0d2FyZQBNYXRwbG90bGliIHZlcnNpb24zLjguMCwgaHR0cHM6Ly9tYXRwbG90bGliLm9yZy81sbWrAAAACXBIWXMAAA9hAAAPYQGoP6dpAAABl0lEQVR4nO3bQWqDUBRG4WuR0EwUEbKYLKKL7SLcTQi+QRMysYOuQAPnVe/5VnAJhwQlf7MsS0iEj9oHKI8mIs4Rcap9SDKvZVketY+gteM4fnVdN9Q+JJNSyr1pmu9swbVd1w3X6/XR9/2z9jEZzPP8OU3TcLvdThGRK7aIiL7vn5fL5af2MYmcax9Qgw8IwhibMMYmjLEJY2zCGJswxiaMsQljbMIYmzDGJoyxCWNswhibMG3E33+sah+SRebPui2l3KdpGiLpf6xqKKXcI+JV+w6aG4Q6Um4QGqd8ohzpmy3lt8WeHGZdlXWxtCeHWFdlXiztyZHWVT5N/3O+1BXG2IQxNmGMTRhjE8bYhDE2YYxNGGMTxtiEMTZhjE0YYxPG2IQ5xLpq7/dncZh1VdbF0p64QRDGdZUwPiAIs+Vn1J8rbbJ6yudkTlutmvI5mdM7tkz5dv2KRPX4gCCMsQljbMIYmzDGJoyxCWNswhibMMYmjLEJY2zCGJswxiaMsQmzasrnZE7vWD3lczKnrdwgCOOUT5hfSryjSoQPBjkAAAAASUVORK5CYII=\"></img></td>\n",
              "      <td id=\"T_06189_row9_col5\" class=\"data row9 col5\" >0<br>(0.0%)</td>\n",
              "    </tr>\n",
              "    <tr>\n",
              "      <td id=\"T_06189_row10_col0\" class=\"data row10 col0\" >11</td>\n",
              "      <td id=\"T_06189_row10_col1\" class=\"data row10 col1\" ><strong>Objets</strong><br>[object]</td>\n",
              "      <td id=\"T_06189_row10_col2\" class=\"data row10 col2\" >1. Bureaux<br>2. Circulation<br>3. Tableau_Général<br>4. Eclairage<br>5. Armoire3<br>6. Armoire5<br>7. VMC_Ateliers<br>8. Armoire1<br>9. Tab_Lumières_Général<br>10. Bureau_S6<br>11. other</td>\n",
              "      <td id=\"T_06189_row10_col3\" class=\"data row10 col3\" >5,993 (20.6%)<br>4,686 (16.1%)<br>4,538 (15.6%)<br>4,320 (14.8%)<br>1,251 (4.3%)<br>1,243 (4.3%)<br>1,242 (4.3%)<br>1,226 (4.2%)<br>1,019 (3.5%)<br>1,015 (3.5%)<br>2,590 (8.9%)</td>\n",
              "      <td id=\"T_06189_row10_col4\" class=\"data row10 col4\" ><img src = \"data:image/png;base64, iVBORw0KGgoAAAANSUhEUgAAAJsAAAD+CAYAAAAtWHdlAAAAOXRFWHRTb2Z0d2FyZQBNYXRwbG90bGliIHZlcnNpb24zLjguMCwgaHR0cHM6Ly9tYXRwbG90bGliLm9yZy81sbWrAAAACXBIWXMAAA9hAAAPYQGoP6dpAAAD7UlEQVR4nO3dQUpbUQCG0ZsSpE4SRHAxLqKL7SKyGxHfoIqTdFAsUo1Gyfse2HM28DL4uCGP++tqv98PKHxb+gPw/xAbGbGRERsZsZERGxmxkREbGbGRWY0xzscYZwt+hsf9fn+/4POJrC8vL39sNpuLpT7ANE23q9Xqp+C+vvVms7m4vr6+3263D/XD7+7uvu92u4ubm5uzMYbYvrj1GGNst9uHq6urXwt9hvOFnkvMDwQyYiMjNjJiIyM2MmIjIzYyYiMjNjJiIyM2MmIjIzYyYiOzHuPPvbIlHr7Uc1nGepqm291udzEWulc2TdPtGONxiWfTskEgs/Ins6hUJ5vTi2ZdZUHFGMG6yoKKJ9W6yoIKL3XpiI2M2MiIjYzYyIiNjNjIiI2M2MiIjYzYyIiNjNjIzD54MWrhSTJ4MWphDNfCCRm8kClONqcaY4xg8GLswpNZBy/GLjxXDF6MXRhjeKlLSGxkxEZGbGTERkZsZMRGRmxkxEZGbGTERkZsZMRGZtbBi7ELz80+eDF24Ylr4WQMXsj4gUBm7q9RX6H8Neu6yrKK52ZbV1lW8a+511WWVfzlBwIZsZERGxmxkREbGbGRERsZsZERGxmxkREbGbGRERuZ2dZVllX8a9Z1lWUVz7kWTsa6isx7J5uTiZN5c/BisMIpHRy8GKxwau8NXgxWOBkvdcmIjYzYyIiNjNjIiI2M2MiIjYzYyIiNjNjIiI2M2MgcHLwYrHBqbw5eDFY4JdfCyRi8kHGykTF4IWPwQsbghYyXumTERkZsZMRGRmxkxEZGbGTERkZsZMRGRmxkxEZGbGTERsa6iox1FRkbBDLWVWScbGSsq8hYV5GxriLjpS4ZsZERGxmxkREbGbGRERsZsZERGxmxkREbGbGRERsZgxcyBi9kXAsnY/BCxslGxuCFjMELGYMXMl7qkhEbGbGRERsZsZERGxmxkREbGbGRERsZsZERGxmxkTF4IWPwQsa1cDIGL2T8QCBz6GvU1ycn9+q6yqqKObxYV1lVMZdD6yqrKk7ODwQyYiMjNjJiIyM2MmIjIzYyYiMjNjJiIyM2MmIjIzYyL9ZVVlXM5dV1lVUVc3AtnIx1FRknGxmDFzIGL2QMXsh4qUtGbGTERkZsZMRGRmxkxEZGbGTERkZsZMRGRmxkxEbG4IWMwQsZ18LJGLyQee8fpb3F6ceHvDp4OYZRDB/1YvByDKMYPuPQ4OUYRjF8iJe6ZMRGRmxkxEZGbGTERkZsZMRGRmxkxEZGbGTERkZsZF4MXo5hFMNnvDp4OYZRDB/lWjgZgxcyfiCQERsZsZERGxmxkREbGbGRERsZsZH5DSU2TuJmTYNMAAAAAElFTkSuQmCC\"></img></td>\n",
              "      <td id=\"T_06189_row10_col5\" class=\"data row10 col5\" >0<br>(0.0%)</td>\n",
              "    </tr>\n",
              "  </tbody>\n",
              "</table>\n"
            ]
          },
          "metadata": {},
          "execution_count": 73
        }
      ]
    },
    {
      "cell_type": "code",
      "source": [
        "# Trouver toutes les modalités uniques dans la colonne 'Équipement'\n",
        "modalites = Tours_Habitat['Objets'].unique()\n",
        "\n",
        "# Afficher les modalités\n",
        "print(modalites)"
      ],
      "metadata": {
        "id": "q9w2zMfInpAQ",
        "outputId": "1c16f6ef-a6c7-4837-d7e0-f0b9829be5e5",
        "colab": {
          "base_uri": "https://localhost:8080/"
        }
      },
      "execution_count": 72,
      "outputs": [
        {
          "output_type": "stream",
          "name": "stdout",
          "text": [
            "['Bureaux' 'Circulation' 'Eclairage' 'Seche_Main_F' 'Seche_Main_H'\n",
            " 'Tableau_Général' 'Armoire1' 'Armoire3' 'Armoire5' 'VMC_Ateliers'\n",
            " 'Bureau_S6' 'Climatisation' 'Sous-station' 'Tab_Lumières_Général'\n",
            " 'Ascenseur' 'Rideau_d’air_chaud']\n"
          ]
        }
      ]
    },
    {
      "cell_type": "code",
      "source": [
        "# Fonction de nettoyage améliorée\n",
        "def nettoyer_objets(data):\n",
        "    if isinstance(data, str):  # Vérifie que la donnée est bien une chaîne de caractères\n",
        "        data = data.strip()  # Supprime les espaces au début et à la fin\n",
        "        if data.lower() == 'tableau général':  # Vérifie sans tenir compte des majuscules/minuscules\n",
        "            return 'Tableau Général'\n",
        "        else:\n",
        "            return data  # Retourne la valeur inchangée si elle ne correspond à aucun cas\n",
        "    return data  # Retourne la donnée inchangée si ce n'est pas une chaîne\n",
        "\n",
        "# Appliquer la fonction de nettoyage à la colonne 'Objets'\n",
        "Tours_Habitat['Objets'] = Tours_Habitat['Objets'].apply(nettoyer_objets)\n"
      ],
      "metadata": {
        "id": "J1aMykqJn6Ih"
      },
      "execution_count": 66,
      "outputs": []
    },
    {
      "cell_type": "code",
      "source": [
        "# Fonction de nettoyage pour remplacer les espaces par des underscores\n",
        "def remplacer_espaces(data):\n",
        "    if isinstance(data, str):  # Vérifie que la donnée est une chaîne de caractères\n",
        "        return data.replace(' ', '_')  # Remplace les espaces par des underscores\n",
        "    return data  # Retourne la donnée inchangée si ce n'est pas une chaîne\n",
        "\n",
        "# Appliquer la fonction à la colonne 'Objets'\n",
        "Tours_Habitat['Objets'] = Tours_Habitat['Objets'].apply(remplacer_espaces)\n"
      ],
      "metadata": {
        "id": "VSboti9opucI"
      },
      "execution_count": 67,
      "outputs": []
    },
    {
      "cell_type": "code",
      "source": [
        "# Filtrer les lignes contenant au moins un NaN\n",
        "lignes_avec_nan = Tours_Habitat[Tours_Habitat.isnull().any(axis=1)]\n",
        "\n",
        "# Afficher ces lignes\n",
        "print(lignes_avec_nan)\n"
      ],
      "metadata": {
        "id": "I9ndo-Zfqbzl",
        "outputId": "69aa80d8-227f-4484-b6d3-adab99daa5e8",
        "colab": {
          "base_uri": "https://localhost:8080/"
        }
      },
      "execution_count": 71,
      "outputs": [
        {
          "output_type": "stream",
          "name": "stdout",
          "text": [
            "Empty DataFrame\n",
            "Columns: [Date, Équipement, Commande, Valeur, Unité, date, time, annee, Num_Piece, Etage, Objets]\n",
            "Index: []\n"
          ]
        }
      ]
    },
    {
      "cell_type": "markdown",
      "source": [
        "Ici, la donnée \"Coffret\" est unique et a une valeur de 0. La seconde ligne est entièrement vide. Nous allons donc supprimer ces deux lignes, jugées inutiles"
      ],
      "metadata": {
        "id": "W23zC-MPre9D"
      }
    },
    {
      "cell_type": "code",
      "source": [
        "# Supprimer les lignes contenant au moins un NaN\n",
        "Tours_Habitat = Tours_Habitat.dropna()"
      ],
      "metadata": {
        "id": "2xqYAqeNrzfh"
      },
      "execution_count": 70,
      "outputs": []
    },
    {
      "cell_type": "markdown",
      "source": [
        "arret !"
      ],
      "metadata": {
        "id": "NXywRcqjBOCZ"
      }
    },
    {
      "cell_type": "code",
      "source": [
        "# Supprimer l'ancienne colonne\n",
        "val_roland= val_roland.drop(columns=['Objet'])"
      ],
      "metadata": {
        "id": "csFGfzjVuS-D"
      },
      "execution_count": null,
      "outputs": []
    },
    {
      "cell_type": "code",
      "source": [
        "msno.matrix(Tours_Habitat)"
      ],
      "metadata": {
        "colab": {
          "base_uri": "https://localhost:8080/",
          "height": 460
        },
        "id": "mF_X9gKaWQJk",
        "outputId": "d6861397-85a7-4ea8-ca58-9bde282ae718"
      },
      "execution_count": 75,
      "outputs": [
        {
          "output_type": "execute_result",
          "data": {
            "text/plain": [
              "<Axes: >"
            ]
          },
          "metadata": {},
          "execution_count": 75
        },
        {
          "output_type": "display_data",
          "data": {
            "text/plain": [
              "<Figure size 2500x1000 with 2 Axes>"
            ],
            "image/png": "[encoded data removed]"
          },
          "metadata": {}
        }
      ]
    },
    {
      "cell_type": "markdown",
      "source": [
        "Rapport des données nettoyées :"
      ],
      "metadata": {
        "id": "rQFx7KXZwGdU"
      }
    },
    {
      "cell_type": "code",
      "source": [
        "my_report = sv.analyze(Tours_Habitat)"
      ],
      "metadata": {
        "colab": {
          "base_uri": "https://localhost:8080/",
          "height": 49,
          "referenced_widgets": [
            "69aa6e6a3c97401db2691de8209dac98",
            "673b7ec56e61435193d989a17ebd524d",
            "8d70f31ee9704024a6ed5bdd1367c0c6",
            "9ed35f3d6ae54f5eb88ee18a8175c37e",
            "49b4bd6e5ded4423b6241b4154ec1686",
            "565fd1f4a0964307b39f551c6274d74b",
            "501647657b8b430b8425593120c1f5b2",
            "83c9927564904d02bfd83010fce4775d",
            "ffd89afebd1e4e1f9c60f38503e9e69f",
            "35e0a9b034a04c35969b32c9a156a249",
            "bcecbbffb99d4e7aa3c83f8a2fa6ac4e"
          ]
        },
        "id": "pTUJAfdrINeu",
        "outputId": "d33e4aec-d878-47c5-9bc8-2a3ade495ede"
      },
      "execution_count": 76,
      "outputs": [
        {
          "output_type": "display_data",
          "data": {
            "text/plain": [
              "                                             |          | [  0%]   00:00 -> (? left)"
            ],
            "application/vnd.jupyter.widget-view+json": {
              "version_major": 2,
              "version_minor": 0,
              "model_id": "69aa6e6a3c97401db2691de8209dac98"
            }
          },
          "metadata": {}
        }
      ]
    },
    {
      "cell_type": "code",
      "source": [
        "my_report.show_html()"
      ],
      "metadata": {
        "colab": {
          "base_uri": "https://localhost:8080/"
        },
        "id": "gLrVj2HXIdSP",
        "outputId": "872291b7-d811-4f77-d7d0-e64341f8472e"
      },
      "execution_count": 77,
      "outputs": [
        {
          "output_type": "stream",
          "name": "stdout",
          "text": [
            "Report SWEETVIZ_REPORT.html was generated! NOTEBOOK/COLAB USERS: the web browser MAY not pop up, regardless, the report IS saved in your notebook/colab files.\n"
          ]
        }
      ]
    },
    {
      "cell_type": "markdown",
      "source": [
        "Rapport des données de Tours Habitat, binaire entre les Années."
      ],
      "metadata": {
        "id": "ll6OYtD_WOZn"
      }
    },
    {
      "cell_type": "code",
      "source": [
        "my_report = sv.compare_intra(val_roland, val_roland[\"Pilote\"] == \"non piloté\", [\"Non piloté\", \"Piloté\"])"
      ],
      "metadata": {
        "colab": {
          "base_uri": "https://localhost:8080/",
          "height": 87,
          "referenced_widgets": [
            "579b8ebcf0604972b30de2b9424b5ec7",
            "841eb30be1e3448d83c8239363506d81",
            "b07a8202fb884831951b67fb9e6b2d3f",
            "4f3eec60ede54e6395925e7cebc39319",
            "5dd5ca1876fd4a269a9aaab1770c2b7a",
            "8f449338fa1b408692ca8188cd672d96",
            "1176e6a9c1e543608ce06655bbfcdbf4",
            "d0ba7c22fbcb4df0a22a0551590c5982",
            "561ef3ae78e84696aa24255b4583d3c9",
            "02dfc54ada5f4b768639ce22886b9283",
            "ee855aeb469a4ddbae10640945bfe34a"
          ]
        },
        "id": "OKJkdBIewU39",
        "outputId": "0995f994-0871-403f-fa90-f85d596d48b6"
      },
      "execution_count": null,
      "outputs": [
        {
          "output_type": "display_data",
          "data": {
            "text/plain": [
              "                                             |          | [  0%]   00:00 -> (? left)"
            ],
            "application/vnd.jupyter.widget-view+json": {
              "version_major": 2,
              "version_minor": 0,
              "model_id": "579b8ebcf0604972b30de2b9424b5ec7"
            }
          },
          "metadata": {}
        },
        {
          "output_type": "stream",
          "name": "stdout",
          "text": [
            "Report SWEETVIZ_REPORT.html was generated! NOTEBOOK/COLAB USERS: the web browser MAY not pop up, regardless, the report IS saved in your notebook/colab files.\n"
          ]
        }
      ]
    },
    {
      "cell_type": "code",
      "source": [
        "my_report.show_html()"
      ],
      "metadata": {
        "colab": {
          "base_uri": "https://localhost:8080/"
        },
        "id": "1binqv_7SuHN",
        "outputId": "da0d9096-0c19-41a3-92ec-3943fe9a2b38"
      },
      "execution_count": null,
      "outputs": [
        {
          "output_type": "stream",
          "name": "stdout",
          "text": [
            "Report SWEETVIZ_REPORT.html was generated! NOTEBOOK/COLAB USERS: the web browser MAY not pop up, regardless, the report IS saved in your notebook/colab files.\n"
          ]
        }
      ]
    },
    {
      "cell_type": "code",
      "source": [],
      "metadata": {
        "id": "wuy-akEWXlfZ"
      },
      "execution_count": null,
      "outputs": []
    },
    {
      "cell_type": "code",
      "source": [
        "# Vérifier les types de données pour validation\n",
        "print(val_roland.info())"
      ],
      "metadata": {
        "colab": {
          "base_uri": "https://localhost:8080/"
        },
        "id": "_E-x2UlXVZGG",
        "outputId": "bb7936f3-919b-4741-8fe6-a76275c67b5a"
      },
      "execution_count": null,
      "outputs": [
        {
          "output_type": "stream",
          "name": "stdout",
          "text": [
            "<class 'pandas.core.frame.DataFrame'>\n",
            "RangeIndex: 43091 entries, 0 to 43090\n",
            "Data columns (total 10 columns):\n",
            " #   Column          Non-Null Count  Dtype         \n",
            "---  ------          --------------  -----         \n",
            " 0   Équipement      43091 non-null  object        \n",
            " 1   Commande        43091 non-null  object        \n",
            " 2   Type Générique  223 non-null    object        \n",
            " 3   Valeur          43091 non-null  object        \n",
            " 4   Unité           43091 non-null  object        \n",
            " 5   date            43091 non-null  datetime64[ns]\n",
            " 6   time            43091 non-null  object        \n",
            " 7   Logement        43091 non-null  object        \n",
            " 8   Lettre          43091 non-null  object        \n",
            " 9   Pilote          43091 non-null  object        \n",
            "dtypes: datetime64[ns](1), object(9)\n",
            "memory usage: 3.3+ MB\n",
            "None\n"
          ]
        }
      ]
    },
    {
      "cell_type": "code",
      "source": [
        "val_roland['Valeur'] = pd.to_numeric(val_roland['Valeur'].str.replace(',', '.'), errors='coerce')"
      ],
      "metadata": {
        "id": "Xvk2ZYTHxGXQ"
      },
      "execution_count": null,
      "outputs": []
    }
  ]
}