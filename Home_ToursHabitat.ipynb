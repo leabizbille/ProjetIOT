{
  "nbformat": 4,
  "nbformat_minor": 0,
  "metadata": {
    "colab": {
      "provenance": [],
      "authorship_tag": "ABX9TyPd378VbgxT03/zOwRMMPF5",
      "include_colab_link": true
    },
    "kernelspec": {
      "name": "python3",
      "display_name": "Python 3"
    },
    "language_info": {
      "name": "python"
    },
    "widgets": {
      "application/vnd.jupyter.widget-state+json": {
        "78ceeb42f60240cdaf34c5409eebcd6b": {
          "model_module": "@jupyter-widgets/controls",
          "model_name": "HBoxModel",
          "model_module_version": "1.5.0",
          "state": {
            "_dom_classes": [],
            "_model_module": "@jupyter-widgets/controls",
            "_model_module_version": "1.5.0",
            "_model_name": "HBoxModel",
            "_view_count": null,
            "_view_module": "@jupyter-widgets/controls",
            "_view_module_version": "1.5.0",
            "_view_name": "HBoxView",
            "box_style": "",
            "children": [
              "IPY_MODEL_e3c9fe43e568423da7e6bf5d0fc8ae98",
              "IPY_MODEL_48256d80938147bab08e211ca1e7fbc3",
              "IPY_MODEL_96ec391b665543fcb9f69ddbf8d788b9"
            ],
            "layout": "IPY_MODEL_510f2980c19247f6b38b995178d1e747"
          }
        },
        "e3c9fe43e568423da7e6bf5d0fc8ae98": {
          "model_module": "@jupyter-widgets/controls",
          "model_name": "HTMLModel",
          "model_module_version": "1.5.0",
          "state": {
            "_dom_classes": [],
            "_model_module": "@jupyter-widgets/controls",
            "_model_module_version": "1.5.0",
            "_model_name": "HTMLModel",
            "_view_count": null,
            "_view_module": "@jupyter-widgets/controls",
            "_view_module_version": "1.5.0",
            "_view_name": "HTMLView",
            "description": "",
            "description_tooltip": null,
            "layout": "IPY_MODEL_e95472035524424b90c6e243690dbfdf",
            "placeholder": "​",
            "style": "IPY_MODEL_8c2c1a94df754d9bbe0d1c2e99a9e1bc",
            "value": "Done! Use &#x27;show&#x27; commands to display/save.   "
          }
        },
        "48256d80938147bab08e211ca1e7fbc3": {
          "model_module": "@jupyter-widgets/controls",
          "model_name": "FloatProgressModel",
          "model_module_version": "1.5.0",
          "state": {
            "_dom_classes": [],
            "_model_module": "@jupyter-widgets/controls",
            "_model_module_version": "1.5.0",
            "_model_name": "FloatProgressModel",
            "_view_count": null,
            "_view_module": "@jupyter-widgets/controls",
            "_view_module_version": "1.5.0",
            "_view_name": "ProgressView",
            "bar_style": "success",
            "description": "",
            "description_tooltip": null,
            "layout": "IPY_MODEL_4e97ed0a448c4b30ad584c366d3c92b6",
            "max": 1,
            "min": 0,
            "orientation": "horizontal",
            "style": "IPY_MODEL_da7ad0b910164a72acc0cd5eb5f90865",
            "value": 1
          }
        },
        "96ec391b665543fcb9f69ddbf8d788b9": {
          "model_module": "@jupyter-widgets/controls",
          "model_name": "HTMLModel",
          "model_module_version": "1.5.0",
          "state": {
            "_dom_classes": [],
            "_model_module": "@jupyter-widgets/controls",
            "_model_module_version": "1.5.0",
            "_model_name": "HTMLModel",
            "_view_count": null,
            "_view_module": "@jupyter-widgets/controls",
            "_view_module_version": "1.5.0",
            "_view_name": "HTMLView",
            "description": "",
            "description_tooltip": null,
            "layout": "IPY_MODEL_2d3db0a3859a4dee9ca27ec4c8bbf746",
            "placeholder": "​",
            "style": "IPY_MODEL_d37137100f7644afbe8421c0967a2eec",
            "value": " [100%]   00:01 -&gt; (00:00 left)"
          }
        },
        "510f2980c19247f6b38b995178d1e747": {
          "model_module": "@jupyter-widgets/base",
          "model_name": "LayoutModel",
          "model_module_version": "1.2.0",
          "state": {
            "_model_module": "@jupyter-widgets/base",
            "_model_module_version": "1.2.0",
            "_model_name": "LayoutModel",
            "_view_count": null,
            "_view_module": "@jupyter-widgets/base",
            "_view_module_version": "1.2.0",
            "_view_name": "LayoutView",
            "align_content": null,
            "align_items": null,
            "align_self": null,
            "border": null,
            "bottom": null,
            "display": "inline-flex",
            "flex": null,
            "flex_flow": "row wrap",
            "grid_area": null,
            "grid_auto_columns": null,
            "grid_auto_flow": null,
            "grid_auto_rows": null,
            "grid_column": null,
            "grid_gap": null,
            "grid_row": null,
            "grid_template_areas": null,
            "grid_template_columns": null,
            "grid_template_rows": null,
            "height": null,
            "justify_content": null,
            "justify_items": null,
            "left": null,
            "margin": null,
            "max_height": null,
            "max_width": null,
            "min_height": null,
            "min_width": null,
            "object_fit": null,
            "object_position": null,
            "order": null,
            "overflow": null,
            "overflow_x": null,
            "overflow_y": null,
            "padding": null,
            "right": null,
            "top": null,
            "visibility": null,
            "width": "100%"
          }
        },
        "e95472035524424b90c6e243690dbfdf": {
          "model_module": "@jupyter-widgets/base",
          "model_name": "LayoutModel",
          "model_module_version": "1.2.0",
          "state": {
            "_model_module": "@jupyter-widgets/base",
            "_model_module_version": "1.2.0",
            "_model_name": "LayoutModel",
            "_view_count": null,
            "_view_module": "@jupyter-widgets/base",
            "_view_module_version": "1.2.0",
            "_view_name": "LayoutView",
            "align_content": null,
            "align_items": null,
            "align_self": null,
            "border": null,
            "bottom": null,
            "display": null,
            "flex": null,
            "flex_flow": null,
            "grid_area": null,
            "grid_auto_columns": null,
            "grid_auto_flow": null,
            "grid_auto_rows": null,
            "grid_column": null,
            "grid_gap": null,
            "grid_row": null,
            "grid_template_areas": null,
            "grid_template_columns": null,
            "grid_template_rows": null,
            "height": null,
            "justify_content": null,
            "justify_items": null,
            "left": null,
            "margin": null,
            "max_height": null,
            "max_width": null,
            "min_height": null,
            "min_width": null,
            "object_fit": null,
            "object_position": null,
            "order": null,
            "overflow": null,
            "overflow_x": null,
            "overflow_y": null,
            "padding": null,
            "right": null,
            "top": null,
            "visibility": null,
            "width": null
          }
        },
        "8c2c1a94df754d9bbe0d1c2e99a9e1bc": {
          "model_module": "@jupyter-widgets/controls",
          "model_name": "DescriptionStyleModel",
          "model_module_version": "1.5.0",
          "state": {
            "_model_module": "@jupyter-widgets/controls",
            "_model_module_version": "1.5.0",
            "_model_name": "DescriptionStyleModel",
            "_view_count": null,
            "_view_module": "@jupyter-widgets/base",
            "_view_module_version": "1.2.0",
            "_view_name": "StyleView",
            "description_width": ""
          }
        },
        "4e97ed0a448c4b30ad584c366d3c92b6": {
          "model_module": "@jupyter-widgets/base",
          "model_name": "LayoutModel",
          "model_module_version": "1.2.0",
          "state": {
            "_model_module": "@jupyter-widgets/base",
            "_model_module_version": "1.2.0",
            "_model_name": "LayoutModel",
            "_view_count": null,
            "_view_module": "@jupyter-widgets/base",
            "_view_module_version": "1.2.0",
            "_view_name": "LayoutView",
            "align_content": null,
            "align_items": null,
            "align_self": null,
            "border": null,
            "bottom": null,
            "display": null,
            "flex": "2",
            "flex_flow": null,
            "grid_area": null,
            "grid_auto_columns": null,
            "grid_auto_flow": null,
            "grid_auto_rows": null,
            "grid_column": null,
            "grid_gap": null,
            "grid_row": null,
            "grid_template_areas": null,
            "grid_template_columns": null,
            "grid_template_rows": null,
            "height": null,
            "justify_content": null,
            "justify_items": null,
            "left": null,
            "margin": null,
            "max_height": null,
            "max_width": null,
            "min_height": null,
            "min_width": null,
            "object_fit": null,
            "object_position": null,
            "order": null,
            "overflow": null,
            "overflow_x": null,
            "overflow_y": null,
            "padding": null,
            "right": null,
            "top": null,
            "visibility": null,
            "width": null
          }
        },
        "da7ad0b910164a72acc0cd5eb5f90865": {
          "model_module": "@jupyter-widgets/controls",
          "model_name": "ProgressStyleModel",
          "model_module_version": "1.5.0",
          "state": {
            "_model_module": "@jupyter-widgets/controls",
            "_model_module_version": "1.5.0",
            "_model_name": "ProgressStyleModel",
            "_view_count": null,
            "_view_module": "@jupyter-widgets/base",
            "_view_module_version": "1.2.0",
            "_view_name": "StyleView",
            "bar_color": null,
            "description_width": ""
          }
        },
        "2d3db0a3859a4dee9ca27ec4c8bbf746": {
          "model_module": "@jupyter-widgets/base",
          "model_name": "LayoutModel",
          "model_module_version": "1.2.0",
          "state": {
            "_model_module": "@jupyter-widgets/base",
            "_model_module_version": "1.2.0",
            "_model_name": "LayoutModel",
            "_view_count": null,
            "_view_module": "@jupyter-widgets/base",
            "_view_module_version": "1.2.0",
            "_view_name": "LayoutView",
            "align_content": null,
            "align_items": null,
            "align_self": null,
            "border": null,
            "bottom": null,
            "display": null,
            "flex": null,
            "flex_flow": null,
            "grid_area": null,
            "grid_auto_columns": null,
            "grid_auto_flow": null,
            "grid_auto_rows": null,
            "grid_column": null,
            "grid_gap": null,
            "grid_row": null,
            "grid_template_areas": null,
            "grid_template_columns": null,
            "grid_template_rows": null,
            "height": null,
            "justify_content": null,
            "justify_items": null,
            "left": null,
            "margin": null,
            "max_height": null,
            "max_width": null,
            "min_height": null,
            "min_width": null,
            "object_fit": null,
            "object_position": null,
            "order": null,
            "overflow": null,
            "overflow_x": null,
            "overflow_y": null,
            "padding": null,
            "right": null,
            "top": null,
            "visibility": null,
            "width": null
          }
        },
        "d37137100f7644afbe8421c0967a2eec": {
          "model_module": "@jupyter-widgets/controls",
          "model_name": "DescriptionStyleModel",
          "model_module_version": "1.5.0",
          "state": {
            "_model_module": "@jupyter-widgets/controls",
            "_model_module_version": "1.5.0",
            "_model_name": "DescriptionStyleModel",
            "_view_count": null,
            "_view_module": "@jupyter-widgets/base",
            "_view_module_version": "1.2.0",
            "_view_name": "StyleView",
            "description_width": ""
          }
        },
        "336bcff90d3b4e2ab607ec9b1ea00ab0": {
          "model_module": "@jupyter-widgets/controls",
          "model_name": "HBoxModel",
          "model_module_version": "1.5.0",
          "state": {
            "_dom_classes": [],
            "_model_module": "@jupyter-widgets/controls",
            "_model_module_version": "1.5.0",
            "_model_name": "HBoxModel",
            "_view_count": null,
            "_view_module": "@jupyter-widgets/controls",
            "_view_module_version": "1.5.0",
            "_view_name": "HBoxView",
            "box_style": "",
            "children": [
              "IPY_MODEL_3197b229f8294857bb61a382889f45d2",
              "IPY_MODEL_73c8491c1e0a4ef1ba4cdb8e78844d97",
              "IPY_MODEL_413786fe09904aa3af8c10c7fc6d74da"
            ],
            "layout": "IPY_MODEL_a0acd887658b4b048119a2c99fc542c7"
          }
        },
        "3197b229f8294857bb61a382889f45d2": {
          "model_module": "@jupyter-widgets/controls",
          "model_name": "HTMLModel",
          "model_module_version": "1.5.0",
          "state": {
            "_dom_classes": [],
            "_model_module": "@jupyter-widgets/controls",
            "_model_module_version": "1.5.0",
            "_model_name": "HTMLModel",
            "_view_count": null,
            "_view_module": "@jupyter-widgets/controls",
            "_view_module_version": "1.5.0",
            "_view_name": "HTMLView",
            "description": "",
            "description_tooltip": null,
            "layout": "IPY_MODEL_901916f8021e49b3a13795b940041bd7",
            "placeholder": "​",
            "style": "IPY_MODEL_e165e58749ab4783a44e6b72f114aa47",
            "value": "Done! Use &#x27;show&#x27; commands to display/save.   "
          }
        },
        "73c8491c1e0a4ef1ba4cdb8e78844d97": {
          "model_module": "@jupyter-widgets/controls",
          "model_name": "FloatProgressModel",
          "model_module_version": "1.5.0",
          "state": {
            "_dom_classes": [],
            "_model_module": "@jupyter-widgets/controls",
            "_model_module_version": "1.5.0",
            "_model_name": "FloatProgressModel",
            "_view_count": null,
            "_view_module": "@jupyter-widgets/controls",
            "_view_module_version": "1.5.0",
            "_view_name": "ProgressView",
            "bar_style": "success",
            "description": "",
            "description_tooltip": null,
            "layout": "IPY_MODEL_41ef8d652b0e47a888e08ba3adc680b2",
            "max": 1,
            "min": 0,
            "orientation": "horizontal",
            "style": "IPY_MODEL_cec393e3a9fc4936ad4160bc5839d4e1",
            "value": 1
          }
        },
        "413786fe09904aa3af8c10c7fc6d74da": {
          "model_module": "@jupyter-widgets/controls",
          "model_name": "HTMLModel",
          "model_module_version": "1.5.0",
          "state": {
            "_dom_classes": [],
            "_model_module": "@jupyter-widgets/controls",
            "_model_module_version": "1.5.0",
            "_model_name": "HTMLModel",
            "_view_count": null,
            "_view_module": "@jupyter-widgets/controls",
            "_view_module_version": "1.5.0",
            "_view_name": "HTMLView",
            "description": "",
            "description_tooltip": null,
            "layout": "IPY_MODEL_7b56bfee40074e0f80c223bb308cb389",
            "placeholder": "​",
            "style": "IPY_MODEL_94495f78f8414a539a1ff48838a8c020",
            "value": " [100%]   00:00 -&gt; (00:00 left)"
          }
        },
        "a0acd887658b4b048119a2c99fc542c7": {
          "model_module": "@jupyter-widgets/base",
          "model_name": "LayoutModel",
          "model_module_version": "1.2.0",
          "state": {
            "_model_module": "@jupyter-widgets/base",
            "_model_module_version": "1.2.0",
            "_model_name": "LayoutModel",
            "_view_count": null,
            "_view_module": "@jupyter-widgets/base",
            "_view_module_version": "1.2.0",
            "_view_name": "LayoutView",
            "align_content": null,
            "align_items": null,
            "align_self": null,
            "border": null,
            "bottom": null,
            "display": "inline-flex",
            "flex": null,
            "flex_flow": "row wrap",
            "grid_area": null,
            "grid_auto_columns": null,
            "grid_auto_flow": null,
            "grid_auto_rows": null,
            "grid_column": null,
            "grid_gap": null,
            "grid_row": null,
            "grid_template_areas": null,
            "grid_template_columns": null,
            "grid_template_rows": null,
            "height": null,
            "justify_content": null,
            "justify_items": null,
            "left": null,
            "margin": null,
            "max_height": null,
            "max_width": null,
            "min_height": null,
            "min_width": null,
            "object_fit": null,
            "object_position": null,
            "order": null,
            "overflow": null,
            "overflow_x": null,
            "overflow_y": null,
            "padding": null,
            "right": null,
            "top": null,
            "visibility": null,
            "width": "100%"
          }
        },
        "901916f8021e49b3a13795b940041bd7": {
          "model_module": "@jupyter-widgets/base",
          "model_name": "LayoutModel",
          "model_module_version": "1.2.0",
          "state": {
            "_model_module": "@jupyter-widgets/base",
            "_model_module_version": "1.2.0",
            "_model_name": "LayoutModel",
            "_view_count": null,
            "_view_module": "@jupyter-widgets/base",
            "_view_module_version": "1.2.0",
            "_view_name": "LayoutView",
            "align_content": null,
            "align_items": null,
            "align_self": null,
            "border": null,
            "bottom": null,
            "display": null,
            "flex": null,
            "flex_flow": null,
            "grid_area": null,
            "grid_auto_columns": null,
            "grid_auto_flow": null,
            "grid_auto_rows": null,
            "grid_column": null,
            "grid_gap": null,
            "grid_row": null,
            "grid_template_areas": null,
            "grid_template_columns": null,
            "grid_template_rows": null,
            "height": null,
            "justify_content": null,
            "justify_items": null,
            "left": null,
            "margin": null,
            "max_height": null,
            "max_width": null,
            "min_height": null,
            "min_width": null,
            "object_fit": null,
            "object_position": null,
            "order": null,
            "overflow": null,
            "overflow_x": null,
            "overflow_y": null,
            "padding": null,
            "right": null,
            "top": null,
            "visibility": null,
            "width": null
          }
        },
        "e165e58749ab4783a44e6b72f114aa47": {
          "model_module": "@jupyter-widgets/controls",
          "model_name": "DescriptionStyleModel",
          "model_module_version": "1.5.0",
          "state": {
            "_model_module": "@jupyter-widgets/controls",
            "_model_module_version": "1.5.0",
            "_model_name": "DescriptionStyleModel",
            "_view_count": null,
            "_view_module": "@jupyter-widgets/base",
            "_view_module_version": "1.2.0",
            "_view_name": "StyleView",
            "description_width": ""
          }
        },
        "41ef8d652b0e47a888e08ba3adc680b2": {
          "model_module": "@jupyter-widgets/base",
          "model_name": "LayoutModel",
          "model_module_version": "1.2.0",
          "state": {
            "_model_module": "@jupyter-widgets/base",
            "_model_module_version": "1.2.0",
            "_model_name": "LayoutModel",
            "_view_count": null,
            "_view_module": "@jupyter-widgets/base",
            "_view_module_version": "1.2.0",
            "_view_name": "LayoutView",
            "align_content": null,
            "align_items": null,
            "align_self": null,
            "border": null,
            "bottom": null,
            "display": null,
            "flex": "2",
            "flex_flow": null,
            "grid_area": null,
            "grid_auto_columns": null,
            "grid_auto_flow": null,
            "grid_auto_rows": null,
            "grid_column": null,
            "grid_gap": null,
            "grid_row": null,
            "grid_template_areas": null,
            "grid_template_columns": null,
            "grid_template_rows": null,
            "height": null,
            "justify_content": null,
            "justify_items": null,
            "left": null,
            "margin": null,
            "max_height": null,
            "max_width": null,
            "min_height": null,
            "min_width": null,
            "object_fit": null,
            "object_position": null,
            "order": null,
            "overflow": null,
            "overflow_x": null,
            "overflow_y": null,
            "padding": null,
            "right": null,
            "top": null,
            "visibility": null,
            "width": null
          }
        },
        "cec393e3a9fc4936ad4160bc5839d4e1": {
          "model_module": "@jupyter-widgets/controls",
          "model_name": "ProgressStyleModel",
          "model_module_version": "1.5.0",
          "state": {
            "_model_module": "@jupyter-widgets/controls",
            "_model_module_version": "1.5.0",
            "_model_name": "ProgressStyleModel",
            "_view_count": null,
            "_view_module": "@jupyter-widgets/base",
            "_view_module_version": "1.2.0",
            "_view_name": "StyleView",
            "bar_color": null,
            "description_width": ""
          }
        },
        "7b56bfee40074e0f80c223bb308cb389": {
          "model_module": "@jupyter-widgets/base",
          "model_name": "LayoutModel",
          "model_module_version": "1.2.0",
          "state": {
            "_model_module": "@jupyter-widgets/base",
            "_model_module_version": "1.2.0",
            "_model_name": "LayoutModel",
            "_view_count": null,
            "_view_module": "@jupyter-widgets/base",
            "_view_module_version": "1.2.0",
            "_view_name": "LayoutView",
            "align_content": null,
            "align_items": null,
            "align_self": null,
            "border": null,
            "bottom": null,
            "display": null,
            "flex": null,
            "flex_flow": null,
            "grid_area": null,
            "grid_auto_columns": null,
            "grid_auto_flow": null,
            "grid_auto_rows": null,
            "grid_column": null,
            "grid_gap": null,
            "grid_row": null,
            "grid_template_areas": null,
            "grid_template_columns": null,
            "grid_template_rows": null,
            "height": null,
            "justify_content": null,
            "justify_items": null,
            "left": null,
            "margin": null,
            "max_height": null,
            "max_width": null,
            "min_height": null,
            "min_width": null,
            "object_fit": null,
            "object_position": null,
            "order": null,
            "overflow": null,
            "overflow_x": null,
            "overflow_y": null,
            "padding": null,
            "right": null,
            "top": null,
            "visibility": null,
            "width": null
          }
        },
        "94495f78f8414a539a1ff48838a8c020": {
          "model_module": "@jupyter-widgets/controls",
          "model_name": "DescriptionStyleModel",
          "model_module_version": "1.5.0",
          "state": {
            "_model_module": "@jupyter-widgets/controls",
            "_model_module_version": "1.5.0",
            "_model_name": "DescriptionStyleModel",
            "_view_count": null,
            "_view_module": "@jupyter-widgets/base",
            "_view_module_version": "1.2.0",
            "_view_name": "StyleView",
            "description_width": ""
          }
        },
        "1c32fe680229476580ae914a9f2a9e1e": {
          "model_module": "@jupyter-widgets/controls",
          "model_name": "HBoxModel",
          "model_module_version": "1.5.0",
          "state": {
            "_dom_classes": [],
            "_model_module": "@jupyter-widgets/controls",
            "_model_module_version": "1.5.0",
            "_model_name": "HBoxModel",
            "_view_count": null,
            "_view_module": "@jupyter-widgets/controls",
            "_view_module_version": "1.5.0",
            "_view_name": "HBoxView",
            "box_style": "",
            "children": [
              "IPY_MODEL_c714f41b239c408b833089279a1ae59a",
              "IPY_MODEL_3a383d5af7ab472e8b447500171b8c29",
              "IPY_MODEL_b990d6c7df4f4754a76c8b51d0ca10fe"
            ],
            "layout": "IPY_MODEL_acaba2388a9843519f83f60895d14c63"
          }
        },
        "c714f41b239c408b833089279a1ae59a": {
          "model_module": "@jupyter-widgets/controls",
          "model_name": "HTMLModel",
          "model_module_version": "1.5.0",
          "state": {
            "_dom_classes": [],
            "_model_module": "@jupyter-widgets/controls",
            "_model_module_version": "1.5.0",
            "_model_name": "HTMLModel",
            "_view_count": null,
            "_view_module": "@jupyter-widgets/controls",
            "_view_module_version": "1.5.0",
            "_view_name": "HTMLView",
            "description": "",
            "description_tooltip": null,
            "layout": "IPY_MODEL_e42d039b0afa42838cafa4f4e3d3aa1a",
            "placeholder": "​",
            "style": "IPY_MODEL_00e6abee309a479e9faf80bbb95a7037",
            "value": "Done! Use &#x27;show&#x27; commands to display/save.   "
          }
        },
        "3a383d5af7ab472e8b447500171b8c29": {
          "model_module": "@jupyter-widgets/controls",
          "model_name": "FloatProgressModel",
          "model_module_version": "1.5.0",
          "state": {
            "_dom_classes": [],
            "_model_module": "@jupyter-widgets/controls",
            "_model_module_version": "1.5.0",
            "_model_name": "FloatProgressModel",
            "_view_count": null,
            "_view_module": "@jupyter-widgets/controls",
            "_view_module_version": "1.5.0",
            "_view_name": "ProgressView",
            "bar_style": "success",
            "description": "",
            "description_tooltip": null,
            "layout": "IPY_MODEL_f08619e5ace14d13828981c349879419",
            "max": 1,
            "min": 0,
            "orientation": "horizontal",
            "style": "IPY_MODEL_532f211666634cbc8a3df9cc156373f1",
            "value": 1
          }
        },
        "b990d6c7df4f4754a76c8b51d0ca10fe": {
          "model_module": "@jupyter-widgets/controls",
          "model_name": "HTMLModel",
          "model_module_version": "1.5.0",
          "state": {
            "_dom_classes": [],
            "_model_module": "@jupyter-widgets/controls",
            "_model_module_version": "1.5.0",
            "_model_name": "HTMLModel",
            "_view_count": null,
            "_view_module": "@jupyter-widgets/controls",
            "_view_module_version": "1.5.0",
            "_view_name": "HTMLView",
            "description": "",
            "description_tooltip": null,
            "layout": "IPY_MODEL_879d36b23430472eb7ec6ae49dff2ebf",
            "placeholder": "​",
            "style": "IPY_MODEL_5015294e9e584e168e6b635e9e773a28",
            "value": " [100%]   00:01 -&gt; (00:00 left)"
          }
        },
        "acaba2388a9843519f83f60895d14c63": {
          "model_module": "@jupyter-widgets/base",
          "model_name": "LayoutModel",
          "model_module_version": "1.2.0",
          "state": {
            "_model_module": "@jupyter-widgets/base",
            "_model_module_version": "1.2.0",
            "_model_name": "LayoutModel",
            "_view_count": null,
            "_view_module": "@jupyter-widgets/base",
            "_view_module_version": "1.2.0",
            "_view_name": "LayoutView",
            "align_content": null,
            "align_items": null,
            "align_self": null,
            "border": null,
            "bottom": null,
            "display": "inline-flex",
            "flex": null,
            "flex_flow": "row wrap",
            "grid_area": null,
            "grid_auto_columns": null,
            "grid_auto_flow": null,
            "grid_auto_rows": null,
            "grid_column": null,
            "grid_gap": null,
            "grid_row": null,
            "grid_template_areas": null,
            "grid_template_columns": null,
            "grid_template_rows": null,
            "height": null,
            "justify_content": null,
            "justify_items": null,
            "left": null,
            "margin": null,
            "max_height": null,
            "max_width": null,
            "min_height": null,
            "min_width": null,
            "object_fit": null,
            "object_position": null,
            "order": null,
            "overflow": null,
            "overflow_x": null,
            "overflow_y": null,
            "padding": null,
            "right": null,
            "top": null,
            "visibility": null,
            "width": "100%"
          }
        },
        "e42d039b0afa42838cafa4f4e3d3aa1a": {
          "model_module": "@jupyter-widgets/base",
          "model_name": "LayoutModel",
          "model_module_version": "1.2.0",
          "state": {
            "_model_module": "@jupyter-widgets/base",
            "_model_module_version": "1.2.0",
            "_model_name": "LayoutModel",
            "_view_count": null,
            "_view_module": "@jupyter-widgets/base",
            "_view_module_version": "1.2.0",
            "_view_name": "LayoutView",
            "align_content": null,
            "align_items": null,
            "align_self": null,
            "border": null,
            "bottom": null,
            "display": null,
            "flex": null,
            "flex_flow": null,
            "grid_area": null,
            "grid_auto_columns": null,
            "grid_auto_flow": null,
            "grid_auto_rows": null,
            "grid_column": null,
            "grid_gap": null,
            "grid_row": null,
            "grid_template_areas": null,
            "grid_template_columns": null,
            "grid_template_rows": null,
            "height": null,
            "justify_content": null,
            "justify_items": null,
            "left": null,
            "margin": null,
            "max_height": null,
            "max_width": null,
            "min_height": null,
            "min_width": null,
            "object_fit": null,
            "object_position": null,
            "order": null,
            "overflow": null,
            "overflow_x": null,
            "overflow_y": null,
            "padding": null,
            "right": null,
            "top": null,
            "visibility": null,
            "width": null
          }
        },
        "00e6abee309a479e9faf80bbb95a7037": {
          "model_module": "@jupyter-widgets/controls",
          "model_name": "DescriptionStyleModel",
          "model_module_version": "1.5.0",
          "state": {
            "_model_module": "@jupyter-widgets/controls",
            "_model_module_version": "1.5.0",
            "_model_name": "DescriptionStyleModel",
            "_view_count": null,
            "_view_module": "@jupyter-widgets/base",
            "_view_module_version": "1.2.0",
            "_view_name": "StyleView",
            "description_width": ""
          }
        },
        "f08619e5ace14d13828981c349879419": {
          "model_module": "@jupyter-widgets/base",
          "model_name": "LayoutModel",
          "model_module_version": "1.2.0",
          "state": {
            "_model_module": "@jupyter-widgets/base",
            "_model_module_version": "1.2.0",
            "_model_name": "LayoutModel",
            "_view_count": null,
            "_view_module": "@jupyter-widgets/base",
            "_view_module_version": "1.2.0",
            "_view_name": "LayoutView",
            "align_content": null,
            "align_items": null,
            "align_self": null,
            "border": null,
            "bottom": null,
            "display": null,
            "flex": "2",
            "flex_flow": null,
            "grid_area": null,
            "grid_auto_columns": null,
            "grid_auto_flow": null,
            "grid_auto_rows": null,
            "grid_column": null,
            "grid_gap": null,
            "grid_row": null,
            "grid_template_areas": null,
            "grid_template_columns": null,
            "grid_template_rows": null,
            "height": null,
            "justify_content": null,
            "justify_items": null,
            "left": null,
            "margin": null,
            "max_height": null,
            "max_width": null,
            "min_height": null,
            "min_width": null,
            "object_fit": null,
            "object_position": null,
            "order": null,
            "overflow": null,
            "overflow_x": null,
            "overflow_y": null,
            "padding": null,
            "right": null,
            "top": null,
            "visibility": null,
            "width": null
          }
        },
        "532f211666634cbc8a3df9cc156373f1": {
          "model_module": "@jupyter-widgets/controls",
          "model_name": "ProgressStyleModel",
          "model_module_version": "1.5.0",
          "state": {
            "_model_module": "@jupyter-widgets/controls",
            "_model_module_version": "1.5.0",
            "_model_name": "ProgressStyleModel",
            "_view_count": null,
            "_view_module": "@jupyter-widgets/base",
            "_view_module_version": "1.2.0",
            "_view_name": "StyleView",
            "bar_color": null,
            "description_width": ""
          }
        },
        "879d36b23430472eb7ec6ae49dff2ebf": {
          "model_module": "@jupyter-widgets/base",
          "model_name": "LayoutModel",
          "model_module_version": "1.2.0",
          "state": {
            "_model_module": "@jupyter-widgets/base",
            "_model_module_version": "1.2.0",
            "_model_name": "LayoutModel",
            "_view_count": null,
            "_view_module": "@jupyter-widgets/base",
            "_view_module_version": "1.2.0",
            "_view_name": "LayoutView",
            "align_content": null,
            "align_items": null,
            "align_self": null,
            "border": null,
            "bottom": null,
            "display": null,
            "flex": null,
            "flex_flow": null,
            "grid_area": null,
            "grid_auto_columns": null,
            "grid_auto_flow": null,
            "grid_auto_rows": null,
            "grid_column": null,
            "grid_gap": null,
            "grid_row": null,
            "grid_template_areas": null,
            "grid_template_columns": null,
            "grid_template_rows": null,
            "height": null,
            "justify_content": null,
            "justify_items": null,
            "left": null,
            "margin": null,
            "max_height": null,
            "max_width": null,
            "min_height": null,
            "min_width": null,
            "object_fit": null,
            "object_position": null,
            "order": null,
            "overflow": null,
            "overflow_x": null,
            "overflow_y": null,
            "padding": null,
            "right": null,
            "top": null,
            "visibility": null,
            "width": null
          }
        },
        "5015294e9e584e168e6b635e9e773a28": {
          "model_module": "@jupyter-widgets/controls",
          "model_name": "DescriptionStyleModel",
          "model_module_version": "1.5.0",
          "state": {
            "_model_module": "@jupyter-widgets/controls",
            "_model_module_version": "1.5.0",
            "_model_name": "DescriptionStyleModel",
            "_view_count": null,
            "_view_module": "@jupyter-widgets/base",
            "_view_module_version": "1.2.0",
            "_view_name": "StyleView",
            "description_width": ""
          }
        }
      }
    }
  },
  "cells": [
    {
      "cell_type": "markdown",
      "metadata": {
        "id": "view-in-github",
        "colab_type": "text"
      },
      "source": [
        "<a href=\"https://colab.research.google.com/github/leabizbille/ProjetIOT/blob/main/Home_ToursHabitat.ipynb\" target=\"_parent\"><img src=\"https://colab.research.google.com/assets/colab-badge.svg\" alt=\"Open In Colab\"/></a>"
      ]
    },
    {
      "cell_type": "code",
      "source": [
        "!pip install summarytools -q"
      ],
      "metadata": {
        "id": "E6CuuXGfp0qP"
      },
      "execution_count": 65,
      "outputs": []
    },
    {
      "cell_type": "code",
      "source": [
        "!pip install pygwalker -q"
      ],
      "metadata": {
        "id": "n3PU7KO9PUeM"
      },
      "execution_count": 66,
      "outputs": []
    },
    {
      "cell_type": "code",
      "source": [
        "pip install sweetviz -q"
      ],
      "metadata": {
        "id": "h4Ln6ukSH94V"
      },
      "execution_count": 67,
      "outputs": []
    },
    {
      "cell_type": "code",
      "execution_count": 68,
      "metadata": {
        "id": "3fnnnXoyHp0N"
      },
      "outputs": [],
      "source": [
        "import pygwalker as pyg\n",
        "from summarytools import dfSummary # module pandas-profiling\n",
        "import pandas as pd\n",
        "import sweetviz as sv # Module pour faire le rapport HTML\n",
        "import missingno as msno"
      ]
    },
    {
      "cell_type": "code",
      "source": [
        "# Charger les fichiers CSV en conservant les titres des colonnes\n",
        "THabitat2023 = pd.read_csv(\"/content/Tours Habitat_2023.csv\",sep= \";\")\n",
        "THabitat2024= pd.read_csv(\"/content/Tours Habitat_2024.csv\",sep= \";\")"
      ],
      "metadata": {
        "id": "tLuwPqQSTzTz"
      },
      "execution_count": 69,
      "outputs": []
    },
    {
      "cell_type": "code",
      "source": [
        "my_report = sv.analyze(THabitat2024)"
      ],
      "metadata": {
        "colab": {
          "base_uri": "https://localhost:8080/",
          "height": 49,
          "referenced_widgets": [
            "78ceeb42f60240cdaf34c5409eebcd6b",
            "e3c9fe43e568423da7e6bf5d0fc8ae98",
            "48256d80938147bab08e211ca1e7fbc3",
            "96ec391b665543fcb9f69ddbf8d788b9",
            "510f2980c19247f6b38b995178d1e747",
            "e95472035524424b90c6e243690dbfdf",
            "8c2c1a94df754d9bbe0d1c2e99a9e1bc",
            "4e97ed0a448c4b30ad584c366d3c92b6",
            "da7ad0b910164a72acc0cd5eb5f90865",
            "2d3db0a3859a4dee9ca27ec4c8bbf746",
            "d37137100f7644afbe8421c0967a2eec"
          ]
        },
        "id": "brXs1J7ATtgY",
        "outputId": "380b524f-72cb-456f-cd2c-a8d49b6a9376"
      },
      "execution_count": 70,
      "outputs": [
        {
          "output_type": "display_data",
          "data": {
            "text/plain": [
              "                                             |          | [  0%]   00:00 -> (? left)"
            ],
            "application/vnd.jupyter.widget-view+json": {
              "version_major": 2,
              "version_minor": 0,
              "model_id": "78ceeb42f60240cdaf34c5409eebcd6b"
            }
          },
          "metadata": {}
        }
      ]
    },
    {
      "cell_type": "code",
      "source": [
        "my_report.show_html()"
      ],
      "metadata": {
        "colab": {
          "base_uri": "https://localhost:8080/"
        },
        "id": "xWCRGPTjT2x9",
        "outputId": "1c6ff088-8a2b-42da-bb83-f1a7eeba0fe2"
      },
      "execution_count": 71,
      "outputs": [
        {
          "output_type": "stream",
          "name": "stdout",
          "text": [
            "Report SWEETVIZ_REPORT.html was generated! NOTEBOOK/COLAB USERS: the web browser MAY not pop up, regardless, the report IS saved in your notebook/colab files.\n"
          ]
        }
      ]
    },
    {
      "cell_type": "code",
      "source": [
        "msno.matrix(THabitat2023)"
      ],
      "metadata": {
        "colab": {
          "base_uri": "https://localhost:8080/",
          "height": 471
        },
        "id": "WruPaoo_51wa",
        "outputId": "f9cde6f6-6c5c-4b1e-c625-90d4a2826044"
      },
      "execution_count": 72,
      "outputs": [
        {
          "output_type": "execute_result",
          "data": {
            "text/plain": [
              "<Axes: >"
            ]
          },
          "metadata": {},
          "execution_count": 72
        },
        {
          "output_type": "display_data",
          "data": {
            "text/plain": [
              "<Figure size 2500x1000 with 2 Axes>"
            ],
            "image/png": "[encoded data removed]"
          },
          "metadata": {}
        }
      ]
    },
    {
      "cell_type": "code",
      "source": [
        "msno.matrix(THabitat2024)"
      ],
      "metadata": {
        "colab": {
          "base_uri": "https://localhost:8080/",
          "height": 474
        },
        "id": "VvMChGUllQ9X",
        "outputId": "918c0c88-a9e8-4aee-9af1-44115d45ee11"
      },
      "execution_count": 73,
      "outputs": [
        {
          "output_type": "execute_result",
          "data": {
            "text/plain": [
              "<Axes: >"
            ]
          },
          "metadata": {},
          "execution_count": 73
        },
        {
          "output_type": "display_data",
          "data": {
            "text/plain": [
              "<Figure size 2500x1000 with 2 Axes>"
            ],
            "image/png": "[encoded data removed]"
          },
          "metadata": {}
        }
      ]
    },
    {
      "cell_type": "code",
      "source": [
        "# Description pour comprendre les données et mettre en suite le tableau en forme\n",
        "dfSummary(THabitat2024)"
      ],
      "metadata": {
        "colab": {
          "base_uri": "https://localhost:8080/",
          "height": 1000
        },
        "id": "7tCXdcXi6ALw",
        "outputId": "4d46a39b-6bb6-4b09-ea3b-4d9989a0aeb8"
      },
      "execution_count": 74,
      "outputs": [
        {
          "output_type": "execute_result",
          "data": {
            "text/plain": [
              "<pandas.io.formats.style.Styler at 0x7ca571576ec0>"
            ],
            "text/html": [
              "<style type=\"text/css\">\n",
              "#T_bd5bf thead>tr>th {\n",
              "  text-align: left;\n",
              "}\n",
              "#T_bd5bf_row0_col0, #T_bd5bf_row1_col0, #T_bd5bf_row2_col0, #T_bd5bf_row3_col0, #T_bd5bf_row4_col0, #T_bd5bf_row5_col0, #T_bd5bf_row6_col0 {\n",
              "  text-align: left;\n",
              "  font-size: 12px;\n",
              "  vertical-align: middle;\n",
              "  width: 5%;\n",
              "  max-width: 50px;\n",
              "  min-width: 20px;\n",
              "}\n",
              "#T_bd5bf_row0_col1, #T_bd5bf_row1_col1, #T_bd5bf_row2_col1, #T_bd5bf_row3_col1, #T_bd5bf_row4_col1, #T_bd5bf_row5_col1, #T_bd5bf_row6_col1 {\n",
              "  text-align: left;\n",
              "  font-size: 12px;\n",
              "  vertical-align: middle;\n",
              "  width: 15%;\n",
              "  max-width: 200px;\n",
              "  min-width: 100px;\n",
              "  word-break: break-word;\n",
              "}\n",
              "#T_bd5bf_row0_col2, #T_bd5bf_row1_col2, #T_bd5bf_row2_col2, #T_bd5bf_row3_col2, #T_bd5bf_row4_col2, #T_bd5bf_row5_col2, #T_bd5bf_row6_col2 {\n",
              "  text-align: left;\n",
              "  font-size: 12px;\n",
              "  vertical-align: middle;\n",
              "  width: 30%;\n",
              "  min-width: 100px;\n",
              "}\n",
              "#T_bd5bf_row0_col3, #T_bd5bf_row1_col3, #T_bd5bf_row2_col3, #T_bd5bf_row3_col3, #T_bd5bf_row4_col3, #T_bd5bf_row5_col3, #T_bd5bf_row6_col3 {\n",
              "  text-align: left;\n",
              "  font-size: 12px;\n",
              "  vertical-align: middle;\n",
              "  width: 25%;\n",
              "  min-width: 100px;\n",
              "}\n",
              "#T_bd5bf_row0_col4, #T_bd5bf_row1_col4, #T_bd5bf_row2_col4, #T_bd5bf_row3_col4, #T_bd5bf_row4_col4, #T_bd5bf_row5_col4, #T_bd5bf_row6_col4 {\n",
              "  text-align: left;\n",
              "  font-size: 12px;\n",
              "  vertical-align: middle;\n",
              "  width: 20%;\n",
              "  min-width: 150px;\n",
              "}\n",
              "#T_bd5bf_row0_col5, #T_bd5bf_row1_col5, #T_bd5bf_row2_col5, #T_bd5bf_row3_col5, #T_bd5bf_row4_col5, #T_bd5bf_row5_col5, #T_bd5bf_row6_col5 {\n",
              "  text-align: left;\n",
              "  font-size: 12px;\n",
              "  vertical-align: middle;\n",
              "  width: 10%;\n",
              "}\n",
              "</style>\n",
              "<table id=\"T_bd5bf\" class=\"dataframe\">\n",
              "  <caption><strong>Data Frame Summary</strong><br>THabitat2024<br>Dimensions: 9,495 x 7<br>Duplicates: 0</caption>\n",
              "  <thead>\n",
              "    <tr>\n",
              "      <th id=\"T_bd5bf_level0_col0\" class=\"col_heading level0 col0\" >No</th>\n",
              "      <th id=\"T_bd5bf_level0_col1\" class=\"col_heading level0 col1\" >Variable</th>\n",
              "      <th id=\"T_bd5bf_level0_col2\" class=\"col_heading level0 col2\" >Stats / Values</th>\n",
              "      <th id=\"T_bd5bf_level0_col3\" class=\"col_heading level0 col3\" >Freqs / (% of Valid)</th>\n",
              "      <th id=\"T_bd5bf_level0_col4\" class=\"col_heading level0 col4\" >Graph</th>\n",
              "      <th id=\"T_bd5bf_level0_col5\" class=\"col_heading level0 col5\" >Missing</th>\n",
              "    </tr>\n",
              "  </thead>\n",
              "  <tbody>\n",
              "    <tr>\n",
              "      <td id=\"T_bd5bf_row0_col0\" class=\"data row0 col0\" >1</td>\n",
              "      <td id=\"T_bd5bf_row0_col1\" class=\"data row0 col1\" ><strong>Date</strong><br>[object]</td>\n",
              "      <td id=\"T_bd5bf_row0_col2\" class=\"data row0 col2\" >1. 2024-03-13 14:00:06<br>2. 2024-01-26 15:00:05<br>3. 2024-02-13 16:00:05<br>4. 2024-04-10 10:00:05<br>5. 2024-01-17 15:00:07<br>6. 2024-01-24 16:22:05<br>7. 2024-01-24 18:00:06<br>8. 2024-04-03 12:00:05<br>9. 2024-03-25 18:00:06<br>10. 2024-01-03 11:00:05<br>11. other</td>\n",
              "      <td id=\"T_bd5bf_row0_col3\" class=\"data row0 col3\" >5 (0.1%)<br>4 (0.0%)<br>4 (0.0%)<br>4 (0.0%)<br>4 (0.0%)<br>4 (0.0%)<br>4 (0.0%)<br>4 (0.0%)<br>4 (0.0%)<br>4 (0.0%)<br>9,454 (99.6%)</td>\n",
              "      <td id=\"T_bd5bf_row0_col4\" class=\"data row0 col4\" ><img src = \"data:image/png;base64, iVBORw0KGgoAAAANSUhEUgAAAJsAAAD+CAYAAAAtWHdlAAAAOXRFWHRTb2Z0d2FyZQBNYXRwbG90bGliIHZlcnNpb24zLjguMCwgaHR0cHM6Ly9tYXRwbG90bGliLm9yZy81sbWrAAAACXBIWXMAAA9hAAAPYQGoP6dpAAADQklEQVR4nO3cwWkbYRRG0TdCJPZGQghUQtKDisg2HauINGGkReJ44yyCS8gdmJxTwb+48BDMp+X9/X2gsFv7Afw/xEZGbGTERkZsZMRGRmxkxEZGbGTERma3LMvXZVme1n4I27ebmS8z83nth7B9zigZsZERGxmxkREbGbGRERsZsZERGxmxkREbGbGRERsZsZERGxmxkdnNzI+Z+b32Q9i+xb8YUXFGyYiNjHUVGesqMs4oGbGRERsZsZERGxmxkREbGbGRERsZsZERGxmxkREbGbGRERsZgxcyBi9knFEyYiNj8ELG4IWMM0pGbGTERkZsZMRGRmxkxEZGbGTERkZsZMRGRmxkxEZGbGTERsbghYzBCxlnlIzYyIiNjHUVGesqMs4oGbGRERsZsZERGxmxkREbGbGRERsZsZERGxmxkREbGbGRERsZ6yoy1lVknFEyYiNj8ELG4IWMM0pGbGTERkZsZMRGRmxkxEZGbGTERkZsZMRGRmxkxEZGbGTERsbghYzBCxlnlIzYyBi8kDF4IeOMkhEbGbGRERsZsZERGxmxkREbGbGRERsZsZERGxmxkREbGbGRERsZ6yoy1lVknFEyYiNjXUXGuoqMM0pGbGTERkZsZMRGRmxkxEZGbGTERkZsZMRGRmxkxEZGbGTERsbghYzBCxlnlIzYyBi8kDF4IeOMkhEbGbGRERsZsZERGxmxkREbGbGRERsZsZERGxmxkREbGbGRMXghY/BCxhklIzYyYiNjXUXGuoqMM0pGbGTERkZsZMRGRmxkxEZGbGTERkZsZMRGRmxkxEZGbGTERsa6iox1FRlnlIzYyBi8kDF4IeOMkhEbGbGRERsZsZERGxmxkREbGbGRERsZsZERGxmxkREbGbGRMXghY/BCxhkls8zM88x8WvshbN7b/nw+fzscDqe1X8K2PR6Pl/3hcDhdr9dfx+Pxde0HsU33+/3pdrud9jMzx+Px9XK5/Fz7UWzasx8IZMRGRmxkxEZGbGTERkZsZMRGRmxkxEZGbGTERkZsZPYzfz8BWfshbNdHX8v5fP7u40n+tcfj8eKzcCpv1lVk/EAgIzYyYiMjNjJiIyM2MmIjIzYyYiPzB0WpV2yec8bJAAAAAElFTkSuQmCC\"></img></td>\n",
              "      <td id=\"T_bd5bf_row0_col5\" class=\"data row0 col5\" >0<br>(0.0%)</td>\n",
              "    </tr>\n",
              "    <tr>\n",
              "      <td id=\"T_bd5bf_row1_col0\" class=\"data row1 col0\" >2</td>\n",
              "      <td id=\"T_bd5bf_row1_col1\" class=\"data row1 col1\" ><strong>Objet</strong><br>[object]</td>\n",
              "      <td id=\"T_bd5bf_row1_col2\" class=\"data row1 col2\" >1. Données calculées</td>\n",
              "      <td id=\"T_bd5bf_row1_col3\" class=\"data row1 col3\" >9,495 (100.0%)</td>\n",
              "      <td id=\"T_bd5bf_row1_col4\" class=\"data row1 col4\" ><img src = \"data:image/png;base64, iVBORw0KGgoAAAANSUhEUgAAAJsAAAAXCAYAAAAcEz0vAAAAOXRFWHRTb2Z0d2FyZQBNYXRwbG90bGliIHZlcnNpb24zLjguMCwgaHR0cHM6Ly9tYXRwbG90bGliLm9yZy81sbWrAAAACXBIWXMAAA9hAAAPYQGoP6dpAAAAnUlEQVR4nO3bsQ0CMRBE0TlkoSPx6mTJxbgIUvovYZPjQgJqYCyZ/yqY4Ie7m6SHpLuAHyuttWet9Zg9BOsrtdZjjPGOiGv2GKwrM/ciSRFx9d7P2YOwttvsAfgfxAYbYoMNscGG2GBDbLAhNtgQG2yIDTbEBhtigw2xwYbYYENssCE22BAbbIgNNkX6nuzOHoK1Zea+tdZePLzA4QPFNA/EDSh7IQAAAABJRU5ErkJggg==\"></img></td>\n",
              "      <td id=\"T_bd5bf_row1_col5\" class=\"data row1 col5\" >0<br>(0.0%)</td>\n",
              "    </tr>\n",
              "    <tr>\n",
              "      <td id=\"T_bd5bf_row2_col0\" class=\"data row2 col0\" >3</td>\n",
              "      <td id=\"T_bd5bf_row2_col1\" class=\"data row2 col1\" ><strong>Équipement</strong><br>[object]</td>\n",
              "      <td id=\"T_bd5bf_row2_col2\" class=\"data row2 col2\" >1. Conso horaire 1er Etage_120409<br>2. Conso horaire E2_120417_FCH<br>3. Conso horaire E2_1204</td>\n",
              "      <td id=\"T_bd5bf_row2_col3\" class=\"data row2 col3\" >7,604 (80.1%)<br>1,890 (19.9%)<br>1 (0.0%)</td>\n",
              "      <td id=\"T_bd5bf_row2_col4\" class=\"data row2 col4\" ><img src = \"data:image/png;base64, iVBORw0KGgoAAAANSUhEUgAAAJsAAABFCAYAAABdVZTTAAAAOXRFWHRTb2Z0d2FyZQBNYXRwbG90bGliIHZlcnNpb24zLjguMCwgaHR0cHM6Ly9tYXRwbG90bGliLm9yZy81sbWrAAAACXBIWXMAAA9hAAAPYQGoP6dpAAABi0lEQVR4nO3bwW3CQBgF4bfIIuFiy0KihKQHikixKcJFpAeE2EMguTiH1MD8EszXwK7EADLitXVdIxE21RfQ82hJdkm21RcR5ndd12vFwcN+v/8Yx3GuOFy83vu5tfZZEdwwjuN8PB6v0zTd6MPFulwur8uyzKfTaZuEjy1Jpmm6HQ6Hb/pwldhVHewDgjDGJoyxCWNswhibMMYmjLEJY2zCGJswxiaMsQljbMIYmzDGJsyQ/P/Pqfoiur/q13novZ+XZZlT+D8ncXrv5yS/FWe7QXg+ZRuE5pRPlOpPtrJ3mXil66rKpY94Zeuq6qWPeNXrKp+An4g/6gpjbMIYmzDGJoyxCWNswhibMMYmjLEJY2zCGJswxiaMsQljbMKUrauqlz7ila6rKpc+4rlBEMZ1lTA+IAhjbMJsWmvvrTWfDHV3myRvSV6qL6LH59eoMMYmjLEJY2zCGJswxiaMsQljbMIYmzDGJoyxCWNswhibMMYmjLEJY2zCbJJ8Jfmpvogen+sqYfwaFeYP50VzOgfKDrMAAAAASUVORK5CYII=\"></img></td>\n",
              "      <td id=\"T_bd5bf_row2_col5\" class=\"data row2 col5\" >0<br>(0.0%)</td>\n",
              "    </tr>\n",
              "    <tr>\n",
              "      <td id=\"T_bd5bf_row3_col0\" class=\"data row3 col0\" >4</td>\n",
              "      <td id=\"T_bd5bf_row3_col1\" class=\"data row3 col1\" ><strong>Commande</strong><br>[object]</td>\n",
              "      <td id=\"T_bd5bf_row3_col2\" class=\"data row3 col2\" >1. Conso E1 Tableau général<br>2. Conso E1 Bureaux<br>3. Conso E2 Tableau Général<br>4. Conso E1 Eclairage<br>5. Conso E1 Circulation<br>6. Conso E1 Seche Main F<br>7. Conso E1 Seche Main H<br>8. Conso E2 Coffret<br>9. nan</td>\n",
              "      <td id=\"T_bd5bf_row3_col3\" class=\"data row3 col3\" >2,228 (23.5%)<br>2,009 (21.2%)<br>1,889 (19.9%)<br>1,698 (17.9%)<br>1,395 (14.7%)<br>238 (2.5%)<br>36 (0.4%)<br>1 (0.0%)<br>1 (0.0%)</td>\n",
              "      <td id=\"T_bd5bf_row3_col4\" class=\"data row3 col4\" ><img src = \"data:image/png;base64, iVBORw0KGgoAAAANSUhEUgAAAJsAAADPCAYAAADifqNtAAAAOXRFWHRTb2Z0d2FyZQBNYXRwbG90bGliIHZlcnNpb24zLjguMCwgaHR0cHM6Ly9tYXRwbG90bGliLm9yZy81sbWrAAAACXBIWXMAAA9hAAAPYQGoP6dpAAADi0lEQVR4nO3dzW0bVwBG0TcC4cQbEgQBlZD0oCJcbIpgEelBEMRF7HjDLCIb8s/Scx+hOaeCt7h4Yw7mk5fr9TqgcDf7AGyH2MiIjYzYyIiNjNjIiI3MMsZ4P8Z4N/sgr3y+Xq8fZx+CX293Op0+7Pf74+yDfHG5XJ6WZflLcG/Pbr/fHx8eHj4eDodPsw/z/Pz8+/l8Pj4+Pr4bY4jtjdmNMcbhcPh0f3//z+zDvHg/+wCsww8EMmIjIzYyYiMjNjJiIyM2MmIjIzYyYiMjNjJiIyM2Mrsx/v+0Z/ZBxridc7CO3eVyeTqfz8dxI5/2XC6XpzHG59nn4NfzWTiZxd/6oHIrN5vbbANuYvBi5LIN0wcvRi7bcSuDl5v4Jcy6vNQlIzYyYiMjNjJiIyM2MmIjIzYyYiMjNjJiIyM2MmIjM33wYuSyHTcxeDFy2QafhZMxeCHjBwKZ2Y9Rj88NmbqusqralmnrKquq7Zm9rrKq2hA/EMiIjYzYyIiNjNjIiI2M2MiIjYzYyIiNjNjIiI2M2MhMW1dZVW3P1HWVVdW2+CycjHUVmRk3m9tso/LBi5HLdqWDFyOXbZsxeDFy2SgvdcmIjYzYyIiNjNjIiI2M2MiIjYzYyIiNjNjIiI2M2Mikgxcjl23LBy9GLtvls3AyBi9k1r7Z3GJ8tergxbiF11YbvBi38L21By/GLXzlpS4ZsZERGxmxkREbGbGRERsZsZERGxmxkREbGbGRERsZsZFZbV1lScX3Vl1XWVLxmg0CGesqMj+72dxGrOKHdZVFFGv5Zl1lEcWafrausohiFV7qkhEbGbGRERsZsZERGxmxkREbGbGRERsZsZERGxmxkflm8GKkwpp+GLwYqbAWn4WTMXgh8+VmG24z1rY7nU4fxhjDyIW13e33++PLuqr8byDZIO/ZyIiNjNjIiI2M2MiIjYzYyIiNjNjIiI2M2MiIjYzYyIiNjNjIiI3M7mVNNYZFFSuzQSBjXUXGv9nI3C3L8ueyLP7sAqu7G2P8Mcb4bfZBePs8RsmIjYzYyIiNjNjIiI2M2MiIjYzYyIiNjNjIiI2M2MiIjYzYyNyNMf4eY/w7+yC8fTYIZDxGyYiNjMELGYMXMh6jZMRGRmxkxEZGbGTERkZsZMRGRmxkxEZGbGTERkZsZMRGRmxkxEbGuoqMdRUZj1EyYiMjNjJiIyM2MmIjIzYy/wE5O2P1bGU8TAAAAABJRU5ErkJggg==\"></img></td>\n",
              "      <td id=\"T_bd5bf_row3_col5\" class=\"data row3 col5\" >1<br>(0.0%)</td>\n",
              "    </tr>\n",
              "    <tr>\n",
              "      <td id=\"T_bd5bf_row4_col0\" class=\"data row4 col0\" >5</td>\n",
              "      <td id=\"T_bd5bf_row4_col1\" class=\"data row4 col1\" ><strong>Type Générique</strong><br>[float64]</td>\n",
              "      <td id=\"T_bd5bf_row4_col2\" class=\"data row4 col2\" >1. nan</td>\n",
              "      <td id=\"T_bd5bf_row4_col3\" class=\"data row4 col3\" >9,495 (100.0%)</td>\n",
              "      <td id=\"T_bd5bf_row4_col4\" class=\"data row4 col4\" ><img src = \"data:image/png;base64, iVBORw0KGgoAAAANSUhEUgAAAJsAAAAXCAYAAAAcEz0vAAAAOXRFWHRTb2Z0d2FyZQBNYXRwbG90bGliIHZlcnNpb24zLjguMCwgaHR0cHM6Ly9tYXRwbG90bGliLm9yZy81sbWrAAAACXBIWXMAAA9hAAAPYQGoP6dpAAAAnUlEQVR4nO3bsQ0CMRBE0TlkoSPx6mTJxbgIUvovYZPjQgJqYCyZ/yqY4Ie7m6SHpLuAHyuttWet9Zg9BOsrtdZjjPGOiGv2GKwrM/ciSRFx9d7P2YOwttvsAfgfxAYbYoMNscGG2GBDbLAhNtgQG2yIDTbEBhtigw2xwYbYYENssCE22BAbbIgNNkX6nuzOHoK1Zea+tdZePLzA4QPFNA/EDSh7IQAAAABJRU5ErkJggg==\"></img></td>\n",
              "      <td id=\"T_bd5bf_row4_col5\" class=\"data row4 col5\" >9,495<br>(100.0%)</td>\n",
              "    </tr>\n",
              "    <tr>\n",
              "      <td id=\"T_bd5bf_row5_col0\" class=\"data row5 col0\" >6</td>\n",
              "      <td id=\"T_bd5bf_row5_col1\" class=\"data row5 col1\" ><strong>Valeur</strong><br>[object]</td>\n",
              "      <td id=\"T_bd5bf_row5_col2\" class=\"data row5 col2\" >1. 0<br>2. 0,010000000<br>3. 0,020000000<br>4. 0,030000000<br>5. 0,040000000<br>6. 0,050000000<br>7. 0,440000000<br>8. 1,300000000<br>9. 1,280000000<br>10. 0,460000000<br>11. other</td>\n",
              "      <td id=\"T_bd5bf_row5_col3\" class=\"data row5 col3\" >2,456 (25.9%)<br>1,249 (13.2%)<br>346 (3.6%)<br>221 (2.3%)<br>80 (0.8%)<br>42 (0.4%)<br>38 (0.4%)<br>35 (0.4%)<br>33 (0.3%)<br>31 (0.3%)<br>4,964 (52.3%)</td>\n",
              "      <td id=\"T_bd5bf_row5_col4\" class=\"data row5 col4\" ><img src = \"data:image/png;base64, iVBORw0KGgoAAAANSUhEUgAAAJsAAAD+CAYAAAAtWHdlAAAAOXRFWHRTb2Z0d2FyZQBNYXRwbG90bGliIHZlcnNpb24zLjguMCwgaHR0cHM6Ly9tYXRwbG90bGliLm9yZy81sbWrAAAACXBIWXMAAA9hAAAPYQGoP6dpAAAELUlEQVR4nO3dQUojWwCG0ZsmSPckIQSyGBfhYt8ishsRa9CKE9+g7UE/ozaa+kp556zgIh8VU9xfV4+PjwMK35Y+AP8fYiMjNjJiIyM2MmIjIzYyYiMjNjKrMcaPMcbF0gd5xcPj4+Pd0ofg49b7/f5qs9nslj7IS6ZpulmtVv8I7utbbzab3eXl5d12u71f+jD/dXt7+/14PO6ur68vxhhi++LWY4yx3W7vD4fDz6UP84IfSx+A8/AFgYzYyIiNjNjIiI2M2MiIjYzYyIiNjNjIiI2M2MiIjYzYyKzH+HVvbOmDnPJZz8X7rKdpujkej7vxSe+NTdN0M8Z4WPocfJwNApmVP5lFZY4nmycRJ519XWUNxUvOuq6yhuI1c6yrPuW3WpbnpS4ZsZERGxmxkREbGbGRERsZsZERGxmxkREbGbGRERuZsw5eDFR4zdkHLwYqvMS1cDIGL2Ree7J5QnFWLw5eDFc4t5ODF8MV5vDa4MVwhbPyUpeM2MiIjYzYyIiNjNjIiI2M2MiIjYzYyIiNjNjIiI3MycGL4QpzeHHwYrjCubkWTsbghYwvCGROfYz6+GQWz9ZVVlXM5Y91lVUVczq1rrKqYha+IJARGxmxkREbGbGRERsZsZERGxmxkREbGbGRERsZsZH5Y11lVcWcnq2rrKqYi2vhZKyryPx+sg1PM+a23u/3V2OMYeTC3L5tNpvd07rqnP8GEp7xno2M2MiIjYzYyIiNjNjIiI2M2MiIjYzYyIiNjNjIiI2M2MiIjcz6aeAyhpELM3MtnIzBCxlPNjIGL2QMXsh49UFGbGTERkZsZMRGRmxkxEZGbGTERkZsZMRGRmxkxEZGbGTERkZsZKyryNggkLGuIuPJRsa6iox1FRmvPsiIjYzYyIiNjNjIiI2M2MiIjYzYyIiNjNjIiI2M2MiIjYzYyBi8kHEtnIzBCxlPNjIGL2QMXsh49UFGbGTERkZsZMRGRmxkxEZGbGTERkZsZMRGRmxkxEZGbGTERsbghYxr4WQMXsj4nY2Mj1Ey1lVkrKvI+J2NjNjIiI2M2MiIjYzYyIiNjNjIiI2M2MiIjYzYyIiNjNjIiI2MdRUZ18LJWFeR8WQjY/BCxuCFjFcfZMRGRmxkxEZGbGTERkZsZMRGRmxkxEZGbGTERkZsZMRGRmxkDF7IuBZOxuCFzO8nmyvhH/Pgk+Ft6/1+f/W0QeCdpmm6MRh623qz2ewuLy/vttvt/dKH+Ypub2+/H4/H3fX19cUYQ2yvWI8xxna7vT8cDj+XPswX9mPpA3wF3rORERsZsZERGxmxkREbGbGRERsZsZERGxmxkREbGbGRWY/x65rM0gf5qvzs/t56mqab4/G4G67JvNvTaMhg6A2uhZ+Ha+F/weCFjC8IZMRGRmxkxEZGbGTERkZsZMRGRmxk/gX17I+fkD8UzwAAAABJRU5ErkJggg==\"></img></td>\n",
              "      <td id=\"T_bd5bf_row5_col5\" class=\"data row5 col5\" >1<br>(0.0%)</td>\n",
              "    </tr>\n",
              "    <tr>\n",
              "      <td id=\"T_bd5bf_row6_col0\" class=\"data row6 col0\" >7</td>\n",
              "      <td id=\"T_bd5bf_row6_col1\" class=\"data row6 col1\" ><strong>Unité</strong><br>[object]</td>\n",
              "      <td id=\"T_bd5bf_row6_col2\" class=\"data row6 col2\" >1. kWh<br>2. nan</td>\n",
              "      <td id=\"T_bd5bf_row6_col3\" class=\"data row6 col3\" >9,493 (100.0%)<br>2 (0.0%)</td>\n",
              "      <td id=\"T_bd5bf_row6_col4\" class=\"data row6 col4\" ><img src = \"data:image/png;base64, iVBORw0KGgoAAAANSUhEUgAAAJsAAAAuCAYAAAA/ZmtKAAAAOXRFWHRTb2Z0d2FyZQBNYXRwbG90bGliIHZlcnNpb24zLjguMCwgaHR0cHM6Ly9tYXRwbG90bGliLm9yZy81sbWrAAAACXBIWXMAAA9hAAAPYQGoP6dpAAAA/0lEQVR4nO3bwUkEMQBG4T/DoOslYQlMCdrDFuHV3u0iF11P48EafIHs+yr4Dw9CICnneUYilCQvSZ5mD9H69t77e631OnuI1rfXWq+32+27tXafPUbrGmNc9iRprd2P4/iaPUhr22YP0OMwNmGMTRhjE8bYhDE2YYxNGGMTxtiEMTZhjE0YYxPG2IQxNmGMTZg9+XvYNnuI1jbGuJTe+4fPwkXww4swxa98onhBEGYrpbyVUrwg6N9tSV6TPM8eovV5jApjbMIYmzDGJoyxCWNswhibMMYmjLEJY2zCGJswxiaMsQljbMIYmzDGJoyxCbMl+UzyM3uI1ufvKmF+AXVbGymqDU4XAAAAAElFTkSuQmCC\"></img></td>\n",
              "      <td id=\"T_bd5bf_row6_col5\" class=\"data row6 col5\" >2<br>(0.0%)</td>\n",
              "    </tr>\n",
              "  </tbody>\n",
              "</table>\n"
            ]
          },
          "metadata": {},
          "execution_count": 74
        }
      ]
    },
    {
      "cell_type": "code",
      "source": [
        "# Description pour comprendre les données et mettre en suite le tableau en forme\n",
        "dfSummary(THabitat2024)"
      ],
      "metadata": {
        "colab": {
          "base_uri": "https://localhost:8080/",
          "height": 1000
        },
        "id": "QHGN3sbgpr1-",
        "outputId": "c6e5fa09-0f51-42c4-a069-7d8ed908f5fe"
      },
      "execution_count": 75,
      "outputs": [
        {
          "output_type": "execute_result",
          "data": {
            "text/plain": [
              "<pandas.io.formats.style.Styler at 0x7ca578330cd0>"
            ],
            "text/html": [
              "<style type=\"text/css\">\n",
              "#T_10df3 thead>tr>th {\n",
              "  text-align: left;\n",
              "}\n",
              "#T_10df3_row0_col0, #T_10df3_row1_col0, #T_10df3_row2_col0, #T_10df3_row3_col0, #T_10df3_row4_col0, #T_10df3_row5_col0, #T_10df3_row6_col0 {\n",
              "  text-align: left;\n",
              "  font-size: 12px;\n",
              "  vertical-align: middle;\n",
              "  width: 5%;\n",
              "  max-width: 50px;\n",
              "  min-width: 20px;\n",
              "}\n",
              "#T_10df3_row0_col1, #T_10df3_row1_col1, #T_10df3_row2_col1, #T_10df3_row3_col1, #T_10df3_row4_col1, #T_10df3_row5_col1, #T_10df3_row6_col1 {\n",
              "  text-align: left;\n",
              "  font-size: 12px;\n",
              "  vertical-align: middle;\n",
              "  width: 15%;\n",
              "  max-width: 200px;\n",
              "  min-width: 100px;\n",
              "  word-break: break-word;\n",
              "}\n",
              "#T_10df3_row0_col2, #T_10df3_row1_col2, #T_10df3_row2_col2, #T_10df3_row3_col2, #T_10df3_row4_col2, #T_10df3_row5_col2, #T_10df3_row6_col2 {\n",
              "  text-align: left;\n",
              "  font-size: 12px;\n",
              "  vertical-align: middle;\n",
              "  width: 30%;\n",
              "  min-width: 100px;\n",
              "}\n",
              "#T_10df3_row0_col3, #T_10df3_row1_col3, #T_10df3_row2_col3, #T_10df3_row3_col3, #T_10df3_row4_col3, #T_10df3_row5_col3, #T_10df3_row6_col3 {\n",
              "  text-align: left;\n",
              "  font-size: 12px;\n",
              "  vertical-align: middle;\n",
              "  width: 25%;\n",
              "  min-width: 100px;\n",
              "}\n",
              "#T_10df3_row0_col4, #T_10df3_row1_col4, #T_10df3_row2_col4, #T_10df3_row3_col4, #T_10df3_row4_col4, #T_10df3_row5_col4, #T_10df3_row6_col4 {\n",
              "  text-align: left;\n",
              "  font-size: 12px;\n",
              "  vertical-align: middle;\n",
              "  width: 20%;\n",
              "  min-width: 150px;\n",
              "}\n",
              "#T_10df3_row0_col5, #T_10df3_row1_col5, #T_10df3_row2_col5, #T_10df3_row3_col5, #T_10df3_row4_col5, #T_10df3_row5_col5, #T_10df3_row6_col5 {\n",
              "  text-align: left;\n",
              "  font-size: 12px;\n",
              "  vertical-align: middle;\n",
              "  width: 10%;\n",
              "}\n",
              "</style>\n",
              "<table id=\"T_10df3\" class=\"dataframe\">\n",
              "  <caption><strong>Data Frame Summary</strong><br>THabitat2024<br>Dimensions: 9,495 x 7<br>Duplicates: 0</caption>\n",
              "  <thead>\n",
              "    <tr>\n",
              "      <th id=\"T_10df3_level0_col0\" class=\"col_heading level0 col0\" >No</th>\n",
              "      <th id=\"T_10df3_level0_col1\" class=\"col_heading level0 col1\" >Variable</th>\n",
              "      <th id=\"T_10df3_level0_col2\" class=\"col_heading level0 col2\" >Stats / Values</th>\n",
              "      <th id=\"T_10df3_level0_col3\" class=\"col_heading level0 col3\" >Freqs / (% of Valid)</th>\n",
              "      <th id=\"T_10df3_level0_col4\" class=\"col_heading level0 col4\" >Graph</th>\n",
              "      <th id=\"T_10df3_level0_col5\" class=\"col_heading level0 col5\" >Missing</th>\n",
              "    </tr>\n",
              "  </thead>\n",
              "  <tbody>\n",
              "    <tr>\n",
              "      <td id=\"T_10df3_row0_col0\" class=\"data row0 col0\" >1</td>\n",
              "      <td id=\"T_10df3_row0_col1\" class=\"data row0 col1\" ><strong>Date</strong><br>[object]</td>\n",
              "      <td id=\"T_10df3_row0_col2\" class=\"data row0 col2\" >1. 2024-03-13 14:00:06<br>2. 2024-01-26 15:00:05<br>3. 2024-02-13 16:00:05<br>4. 2024-04-10 10:00:05<br>5. 2024-01-17 15:00:07<br>6. 2024-01-24 16:22:05<br>7. 2024-01-24 18:00:06<br>8. 2024-04-03 12:00:05<br>9. 2024-03-25 18:00:06<br>10. 2024-01-03 11:00:05<br>11. other</td>\n",
              "      <td id=\"T_10df3_row0_col3\" class=\"data row0 col3\" >5 (0.1%)<br>4 (0.0%)<br>4 (0.0%)<br>4 (0.0%)<br>4 (0.0%)<br>4 (0.0%)<br>4 (0.0%)<br>4 (0.0%)<br>4 (0.0%)<br>4 (0.0%)<br>9,454 (99.6%)</td>\n",
              "      <td id=\"T_10df3_row0_col4\" class=\"data row0 col4\" ><img src = \"data:image/png;base64, iVBORw0KGgoAAAANSUhEUgAAAJsAAAD+CAYAAAAtWHdlAAAAOXRFWHRTb2Z0d2FyZQBNYXRwbG90bGliIHZlcnNpb24zLjguMCwgaHR0cHM6Ly9tYXRwbG90bGliLm9yZy81sbWrAAAACXBIWXMAAA9hAAAPYQGoP6dpAAADQklEQVR4nO3cwWkbYRRG0TdCJPZGQghUQtKDisg2HauINGGkReJ44yyCS8gdmJxTwb+48BDMp+X9/X2gsFv7Afw/xEZGbGTERkZsZMRGRmxkxEZGbGTERma3LMvXZVme1n4I27ebmS8z83nth7B9zigZsZERGxmxkREbGbGRERsZsZERGxmxkREbGbGRERsZsZERGxmxkdnNzI+Z+b32Q9i+xb8YUXFGyYiNjHUVGesqMs4oGbGRERsZsZERGxmxkREbGbGRERsZsZERGxmxkREbGbGRERsZgxcyBi9knFEyYiNj8ELG4IWMM0pGbGTERkZsZMRGRmxkxEZGbGTERkZsZMRGRmxkxEZGbGTERsbghYzBCxlnlIzYyIiNjHUVGesqMs4oGbGRERsZsZERGxmxkREbGbGRERsZsZERGxmxkREbGbGRERsZ6yoy1lVknFEyYiNj8ELG4IWMM0pGbGTERkZsZMRGRmxkxEZGbGTERkZsZMRGRmxkxEZGbGTERsbghYzBCxlnlIzYyBi8kDF4IeOMkhEbGbGRERsZsZERGxmxkREbGbGRERsZsZERGxmxkREbGbGRERsZ6yoy1lVknFEyYiNjXUXGuoqMM0pGbGTERkZsZMRGRmxkxEZGbGTERkZsZMRGRmxkxEZGbGTERsbghYzBCxlnlIzYyBi8kDF4IeOMkhEbGbGRERsZsZERGxmxkREbGbGRERsZsZERGxmxkREbGbGRMXghY/BCxhklIzYyYiNjXUXGuoqMM0pGbGTERkZsZMRGRmxkxEZGbGTERkZsZMRGRmxkxEZGbGTERsa6iox1FRlnlIzYyBi8kDF4IeOMkhEbGbGRERsZsZERGxmxkREbGbGRERsZsZERGxmxkREbGbGRMXghY/BCxhkls8zM88x8WvshbN7b/nw+fzscDqe1X8K2PR6Pl/3hcDhdr9dfx+Pxde0HsU33+/3pdrud9jMzx+Px9XK5/Fz7UWzasx8IZMRGRmxkxEZGbGTERkZsZMRGRmxkxEZGbGTERkZsZPYzfz8BWfshbNdHX8v5fP7u40n+tcfj8eKzcCpv1lVk/EAgIzYyYiMjNjJiIyM2MmIjIzYyYiPzB0WpV2yec8bJAAAAAElFTkSuQmCC\"></img></td>\n",
              "      <td id=\"T_10df3_row0_col5\" class=\"data row0 col5\" >0<br>(0.0%)</td>\n",
              "    </tr>\n",
              "    <tr>\n",
              "      <td id=\"T_10df3_row1_col0\" class=\"data row1 col0\" >2</td>\n",
              "      <td id=\"T_10df3_row1_col1\" class=\"data row1 col1\" ><strong>Objet</strong><br>[object]</td>\n",
              "      <td id=\"T_10df3_row1_col2\" class=\"data row1 col2\" >1. Données calculées</td>\n",
              "      <td id=\"T_10df3_row1_col3\" class=\"data row1 col3\" >9,495 (100.0%)</td>\n",
              "      <td id=\"T_10df3_row1_col4\" class=\"data row1 col4\" ><img src = \"data:image/png;base64, iVBORw0KGgoAAAANSUhEUgAAAJsAAAAXCAYAAAAcEz0vAAAAOXRFWHRTb2Z0d2FyZQBNYXRwbG90bGliIHZlcnNpb24zLjguMCwgaHR0cHM6Ly9tYXRwbG90bGliLm9yZy81sbWrAAAACXBIWXMAAA9hAAAPYQGoP6dpAAAAnUlEQVR4nO3bsQ0CMRBE0TlkoSPx6mTJxbgIUvovYZPjQgJqYCyZ/yqY4Ie7m6SHpLuAHyuttWet9Zg9BOsrtdZjjPGOiGv2GKwrM/ciSRFx9d7P2YOwttvsAfgfxAYbYoMNscGG2GBDbLAhNtgQG2yIDTbEBhtigw2xwYbYYENssCE22BAbbIgNNkX6nuzOHoK1Zea+tdZePLzA4QPFNA/EDSh7IQAAAABJRU5ErkJggg==\"></img></td>\n",
              "      <td id=\"T_10df3_row1_col5\" class=\"data row1 col5\" >0<br>(0.0%)</td>\n",
              "    </tr>\n",
              "    <tr>\n",
              "      <td id=\"T_10df3_row2_col0\" class=\"data row2 col0\" >3</td>\n",
              "      <td id=\"T_10df3_row2_col1\" class=\"data row2 col1\" ><strong>Équipement</strong><br>[object]</td>\n",
              "      <td id=\"T_10df3_row2_col2\" class=\"data row2 col2\" >1. Conso horaire 1er Etage_120409<br>2. Conso horaire E2_120417_FCH<br>3. Conso horaire E2_1204</td>\n",
              "      <td id=\"T_10df3_row2_col3\" class=\"data row2 col3\" >7,604 (80.1%)<br>1,890 (19.9%)<br>1 (0.0%)</td>\n",
              "      <td id=\"T_10df3_row2_col4\" class=\"data row2 col4\" ><img src = \"data:image/png;base64, iVBORw0KGgoAAAANSUhEUgAAAJsAAABFCAYAAABdVZTTAAAAOXRFWHRTb2Z0d2FyZQBNYXRwbG90bGliIHZlcnNpb24zLjguMCwgaHR0cHM6Ly9tYXRwbG90bGliLm9yZy81sbWrAAAACXBIWXMAAA9hAAAPYQGoP6dpAAABi0lEQVR4nO3bwW3CQBgF4bfIIuFiy0KihKQHikixKcJFpAeE2EMguTiH1MD8EszXwK7EADLitXVdIxE21RfQ82hJdkm21RcR5ndd12vFwcN+v/8Yx3GuOFy83vu5tfZZEdwwjuN8PB6v0zTd6MPFulwur8uyzKfTaZuEjy1Jpmm6HQ6Hb/pwldhVHewDgjDGJoyxCWNswhibMMYmjLEJY2zCGJswxiaMsQljbMIYmzDGJsyQ/P/Pqfoiur/q13novZ+XZZlT+D8ncXrv5yS/FWe7QXg+ZRuE5pRPlOpPtrJ3mXil66rKpY94Zeuq6qWPeNXrKp+An4g/6gpjbMIYmzDGJoyxCWNswhibMMYmjLEJY2zCGJswxiaMsQljbMKUrauqlz7ila6rKpc+4rlBEMZ1lTA+IAhjbMJsWmvvrTWfDHV3myRvSV6qL6LH59eoMMYmjLEJY2zCGJswxiaMsQljbMIYmzDGJoyxCWNswhibMMYmjLEJY2zCbJJ8Jfmpvogen+sqYfwaFeYP50VzOgfKDrMAAAAASUVORK5CYII=\"></img></td>\n",
              "      <td id=\"T_10df3_row2_col5\" class=\"data row2 col5\" >0<br>(0.0%)</td>\n",
              "    </tr>\n",
              "    <tr>\n",
              "      <td id=\"T_10df3_row3_col0\" class=\"data row3 col0\" >4</td>\n",
              "      <td id=\"T_10df3_row3_col1\" class=\"data row3 col1\" ><strong>Commande</strong><br>[object]</td>\n",
              "      <td id=\"T_10df3_row3_col2\" class=\"data row3 col2\" >1. Conso E1 Tableau général<br>2. Conso E1 Bureaux<br>3. Conso E2 Tableau Général<br>4. Conso E1 Eclairage<br>5. Conso E1 Circulation<br>6. Conso E1 Seche Main F<br>7. Conso E1 Seche Main H<br>8. Conso E2 Coffret<br>9. nan</td>\n",
              "      <td id=\"T_10df3_row3_col3\" class=\"data row3 col3\" >2,228 (23.5%)<br>2,009 (21.2%)<br>1,889 (19.9%)<br>1,698 (17.9%)<br>1,395 (14.7%)<br>238 (2.5%)<br>36 (0.4%)<br>1 (0.0%)<br>1 (0.0%)</td>\n",
              "      <td id=\"T_10df3_row3_col4\" class=\"data row3 col4\" ><img src = \"data:image/png;base64, iVBORw0KGgoAAAANSUhEUgAAAJsAAADPCAYAAADifqNtAAAAOXRFWHRTb2Z0d2FyZQBNYXRwbG90bGliIHZlcnNpb24zLjguMCwgaHR0cHM6Ly9tYXRwbG90bGliLm9yZy81sbWrAAAACXBIWXMAAA9hAAAPYQGoP6dpAAADi0lEQVR4nO3dzW0bVwBG0TcC4cQbEgQBlZD0oCJcbIpgEelBEMRF7HjDLCIb8s/Scx+hOaeCt7h4Yw7mk5fr9TqgcDf7AGyH2MiIjYzYyIiNjNjIiI3MMsZ4P8Z4N/sgr3y+Xq8fZx+CX293Op0+7Pf74+yDfHG5XJ6WZflLcG/Pbr/fHx8eHj4eDodPsw/z/Pz8+/l8Pj4+Pr4bY4jtjdmNMcbhcPh0f3//z+zDvHg/+wCsww8EMmIjIzYyYiMjNjJiIyM2MmIjIzYyYiMjNjJiIyM2Mrsx/v+0Z/ZBxridc7CO3eVyeTqfz8dxI5/2XC6XpzHG59nn4NfzWTiZxd/6oHIrN5vbbANuYvBi5LIN0wcvRi7bcSuDl5v4Jcy6vNQlIzYyYiMjNjJiIyM2MmIjIzYyYiMjNjJiIyM2MmIjM33wYuSyHTcxeDFy2QafhZMxeCHjBwKZ2Y9Rj88NmbqusqralmnrKquq7Zm9rrKq2hA/EMiIjYzYyIiNjNjIiI2M2MiIjYzYyIiNjNjIiI2M2MhMW1dZVW3P1HWVVdW2+CycjHUVmRk3m9tso/LBi5HLdqWDFyOXbZsxeDFy2SgvdcmIjYzYyIiNjNjIiI2M2MiIjYzYyIiNjNjIiI2M2Mikgxcjl23LBy9GLtvls3AyBi9k1r7Z3GJ8tergxbiF11YbvBi38L21By/GLXzlpS4ZsZERGxmxkREbGbGRERsZsZERGxmxkREbGbGRERsZsZFZbV1lScX3Vl1XWVLxmg0CGesqMj+72dxGrOKHdZVFFGv5Zl1lEcWafrausohiFV7qkhEbGbGRERsZsZERGxmxkREbGbGRERsZsZERGxmxkflm8GKkwpp+GLwYqbAWn4WTMXgh8+VmG24z1rY7nU4fxhjDyIW13e33++PLuqr8byDZIO/ZyIiNjNjIiI2M2MiIjYzYyIiNjNjIiI2M2MiIjYzYyIiNjNjIiI3M7mVNNYZFFSuzQSBjXUXGv9nI3C3L8ueyLP7sAqu7G2P8Mcb4bfZBePs8RsmIjYzYyIiNjNjIiI2M2MiIjYzYyIiNjNjIiI2M2MiIjYzYyNyNMf4eY/w7+yC8fTYIZDxGyYiNjMELGYMXMh6jZMRGRmxkxEZGbGTERkZsZMRGRmxkxEZGbGTERkZsZMRGRmxkxEbGuoqMdRUZj1EyYiMjNjJiIyM2MmIjIzYy/wE5O2P1bGU8TAAAAABJRU5ErkJggg==\"></img></td>\n",
              "      <td id=\"T_10df3_row3_col5\" class=\"data row3 col5\" >1<br>(0.0%)</td>\n",
              "    </tr>\n",
              "    <tr>\n",
              "      <td id=\"T_10df3_row4_col0\" class=\"data row4 col0\" >5</td>\n",
              "      <td id=\"T_10df3_row4_col1\" class=\"data row4 col1\" ><strong>Type Générique</strong><br>[float64]</td>\n",
              "      <td id=\"T_10df3_row4_col2\" class=\"data row4 col2\" >1. nan</td>\n",
              "      <td id=\"T_10df3_row4_col3\" class=\"data row4 col3\" >9,495 (100.0%)</td>\n",
              "      <td id=\"T_10df3_row4_col4\" class=\"data row4 col4\" ><img src = \"data:image/png;base64, iVBORw0KGgoAAAANSUhEUgAAAJsAAAAXCAYAAAAcEz0vAAAAOXRFWHRTb2Z0d2FyZQBNYXRwbG90bGliIHZlcnNpb24zLjguMCwgaHR0cHM6Ly9tYXRwbG90bGliLm9yZy81sbWrAAAACXBIWXMAAA9hAAAPYQGoP6dpAAAAnUlEQVR4nO3bsQ0CMRBE0TlkoSPx6mTJxbgIUvovYZPjQgJqYCyZ/yqY4Ie7m6SHpLuAHyuttWet9Zg9BOsrtdZjjPGOiGv2GKwrM/ciSRFx9d7P2YOwttvsAfgfxAYbYoMNscGG2GBDbLAhNtgQG2yIDTbEBhtigw2xwYbYYENssCE22BAbbIgNNkX6nuzOHoK1Zea+tdZePLzA4QPFNA/EDSh7IQAAAABJRU5ErkJggg==\"></img></td>\n",
              "      <td id=\"T_10df3_row4_col5\" class=\"data row4 col5\" >9,495<br>(100.0%)</td>\n",
              "    </tr>\n",
              "    <tr>\n",
              "      <td id=\"T_10df3_row5_col0\" class=\"data row5 col0\" >6</td>\n",
              "      <td id=\"T_10df3_row5_col1\" class=\"data row5 col1\" ><strong>Valeur</strong><br>[object]</td>\n",
              "      <td id=\"T_10df3_row5_col2\" class=\"data row5 col2\" >1. 0<br>2. 0,010000000<br>3. 0,020000000<br>4. 0,030000000<br>5. 0,040000000<br>6. 0,050000000<br>7. 0,440000000<br>8. 1,300000000<br>9. 1,280000000<br>10. 0,460000000<br>11. other</td>\n",
              "      <td id=\"T_10df3_row5_col3\" class=\"data row5 col3\" >2,456 (25.9%)<br>1,249 (13.2%)<br>346 (3.6%)<br>221 (2.3%)<br>80 (0.8%)<br>42 (0.4%)<br>38 (0.4%)<br>35 (0.4%)<br>33 (0.3%)<br>31 (0.3%)<br>4,964 (52.3%)</td>\n",
              "      <td id=\"T_10df3_row5_col4\" class=\"data row5 col4\" ><img src = \"data:image/png;base64, iVBORw0KGgoAAAANSUhEUgAAAJsAAAD+CAYAAAAtWHdlAAAAOXRFWHRTb2Z0d2FyZQBNYXRwbG90bGliIHZlcnNpb24zLjguMCwgaHR0cHM6Ly9tYXRwbG90bGliLm9yZy81sbWrAAAACXBIWXMAAA9hAAAPYQGoP6dpAAAELUlEQVR4nO3dQUojWwCG0ZsmSPckIQSyGBfhYt8ishsRa9CKE9+g7UE/ozaa+kp556zgIh8VU9xfV4+PjwMK35Y+AP8fYiMjNjJiIyM2MmIjIzYyYiMjNjKrMcaPMcbF0gd5xcPj4+Pd0ofg49b7/f5qs9nslj7IS6ZpulmtVv8I7utbbzab3eXl5d12u71f+jD/dXt7+/14PO6ur68vxhhi++LWY4yx3W7vD4fDz6UP84IfSx+A8/AFgYzYyIiNjNjIiI2M2MiIjYzYyIiNjNjIiI2M2MiIjYzYyKzH+HVvbOmDnPJZz8X7rKdpujkej7vxSe+NTdN0M8Z4WPocfJwNApmVP5lFZY4nmycRJ519XWUNxUvOuq6yhuI1c6yrPuW3WpbnpS4ZsZERGxmxkREbGbGRERsZsZERGxmxkREbGbGRERuZsw5eDFR4zdkHLwYqvMS1cDIGL2Ree7J5QnFWLw5eDFc4t5ODF8MV5vDa4MVwhbPyUpeM2MiIjYzYyIiNjNjIiI2M2MiIjYzYyIiNjNjIiI3MycGL4QpzeHHwYrjCubkWTsbghYwvCGROfYz6+GQWz9ZVVlXM5Y91lVUVczq1rrKqYha+IJARGxmxkREbGbGRERsZsZERGxmxkREbGbGRERsZsZH5Y11lVcWcnq2rrKqYi2vhZKyryPx+sg1PM+a23u/3V2OMYeTC3L5tNpvd07rqnP8GEp7xno2M2MiIjYzYyIiNjNjIiI2M2MiIjYzYyIiNjNjIiI2M2MiIjcz6aeAyhpELM3MtnIzBCxlPNjIGL2QMXsh49UFGbGTERkZsZMRGRmxkxEZGbGTERkZsZMRGRmxkxEZGbGTERkZsZKyryNggkLGuIuPJRsa6iox1FRmvPsiIjYzYyIiNjNjIiI2M2MiIjYzYyIiNjNjIiI2M2MiIjYzYyBi8kHEtnIzBCxlPNjIGL2QMXsh49UFGbGTERkZsZMRGRmxkxEZGbGTERkZsZMRGRmxkxEZGbGTERsbghYxr4WQMXsj4nY2Mj1Ey1lVkrKvI+J2NjNjIiI2M2MiIjYzYyIiNjNjIiI2M2MiIjYzYyIiNjNjIiI2MdRUZ18LJWFeR8WQjY/BCxuCFjFcfZMRGRmxkxEZGbGTERkZsZMRGRmxkxEZGbGTERkZsZMRGRmxkDF7IuBZOxuCFzO8nmyvhH/Pgk+Ft6/1+f/W0QeCdpmm6MRh623qz2ewuLy/vttvt/dKH+Ypub2+/H4/H3fX19cUYQ2yvWI8xxna7vT8cDj+XPswX9mPpA3wF3rORERsZsZERGxmxkREbGbGRERsZsZERGxmxkREbGbGRWY/x65rM0gf5qvzs/t56mqab4/G4G67JvNvTaMhg6A2uhZ+Ha+F/weCFjC8IZMRGRmxkxEZGbGTERkZsZMRGRmxk/gX17I+fkD8UzwAAAABJRU5ErkJggg==\"></img></td>\n",
              "      <td id=\"T_10df3_row5_col5\" class=\"data row5 col5\" >1<br>(0.0%)</td>\n",
              "    </tr>\n",
              "    <tr>\n",
              "      <td id=\"T_10df3_row6_col0\" class=\"data row6 col0\" >7</td>\n",
              "      <td id=\"T_10df3_row6_col1\" class=\"data row6 col1\" ><strong>Unité</strong><br>[object]</td>\n",
              "      <td id=\"T_10df3_row6_col2\" class=\"data row6 col2\" >1. kWh<br>2. nan</td>\n",
              "      <td id=\"T_10df3_row6_col3\" class=\"data row6 col3\" >9,493 (100.0%)<br>2 (0.0%)</td>\n",
              "      <td id=\"T_10df3_row6_col4\" class=\"data row6 col4\" ><img src = \"data:image/png;base64, iVBORw0KGgoAAAANSUhEUgAAAJsAAAAuCAYAAAA/ZmtKAAAAOXRFWHRTb2Z0d2FyZQBNYXRwbG90bGliIHZlcnNpb24zLjguMCwgaHR0cHM6Ly9tYXRwbG90bGliLm9yZy81sbWrAAAACXBIWXMAAA9hAAAPYQGoP6dpAAAA/0lEQVR4nO3bwUkEMQBG4T/DoOslYQlMCdrDFuHV3u0iF11P48EafIHs+yr4Dw9CICnneUYilCQvSZ5mD9H69t77e631OnuI1rfXWq+32+27tXafPUbrGmNc9iRprd2P4/iaPUhr22YP0OMwNmGMTRhjE8bYhDE2YYxNGGMTxtiEMTZhjE0YYxPG2IQxNmGMTZg9+XvYNnuI1jbGuJTe+4fPwkXww4swxa98onhBEGYrpbyVUrwg6N9tSV6TPM8eovV5jApjbMIYmzDGJoyxCWNswhibMMYmjLEJY2zCGJswxiaMsQljbMIYmzDGJoyxCbMl+UzyM3uI1ufvKmF+AXVbGymqDU4XAAAAAElFTkSuQmCC\"></img></td>\n",
              "      <td id=\"T_10df3_row6_col5\" class=\"data row6 col5\" >2<br>(0.0%)</td>\n",
              "    </tr>\n",
              "  </tbody>\n",
              "</table>\n"
            ]
          },
          "metadata": {},
          "execution_count": 75
        }
      ]
    },
    {
      "cell_type": "markdown",
      "source": [
        "- 1 nan dans les Unités -> regarder pour faire des modifications\n",
        "- 100 % de donnée manquante dans \"Type Générique\".\n",
        "- Deux fichiers sous le même format\n",
        "\n",
        "Pour toutes les colonnes, reformater les données.\n",
        "Un pivotement ou une transposition du tableau sera probablement nécessaire."
      ],
      "metadata": {
        "id": "Y3dB0obqsvTg"
      }
    },
    {
      "cell_type": "markdown",
      "source": [
        "Fusionner les deux tableaux.\n"
      ],
      "metadata": {
        "id": "lvKYNHYPxHJJ"
      }
    },
    {
      "cell_type": "code",
      "source": [
        "# Fusionner les deux DataFrames\n",
        "Tours_Habitat= pd.concat([THabitat2023, THabitat2024], ignore_index=True)\n",
        "\n",
        "# Sauvegarder le fichier fusionné si nécessaire\n",
        "Tours_Habitat.to_csv('Tours_Habitat_fusionne.csv', index=False)"
      ],
      "metadata": {
        "id": "Cp4k_hm877ws"
      },
      "execution_count": 76,
      "outputs": []
    },
    {
      "cell_type": "markdown",
      "source": [
        "Les colonnes Objet et Type Générique n'apportent aucune informations :"
      ],
      "metadata": {
        "id": "bEDthPWTiZzD"
      }
    },
    {
      "cell_type": "code",
      "source": [
        "# Supprimer l'ancienne colonne si elle n'est plus nécessaire\n",
        "Tours_Habitat= Tours_Habitat.drop(columns=['Objet'])\n",
        "Tours_Habitat= Tours_Habitat.drop(columns=['Type Générique'])"
      ],
      "metadata": {
        "id": "9d_cZU_N1cm9"
      },
      "execution_count": 77,
      "outputs": []
    },
    {
      "cell_type": "code",
      "source": [
        "# Séparer la colonne 'datetime' en deux colonnes distinctes\n",
        "Tours_Habitat[['date', 'time']] = Tours_Habitat['Date'].str.split(' ', expand=True)"
      ],
      "metadata": {
        "id": "DbKlZIKafJ0t"
      },
      "execution_count": 78,
      "outputs": []
    },
    {
      "cell_type": "code",
      "source": [
        "Tours_Habitat['time'] = pd.to_datetime(Tours_Habitat['time'], format='%H:%M:%S').dt.time"
      ],
      "metadata": {
        "id": "iD4hEUmjfmKG"
      },
      "execution_count": 79,
      "outputs": []
    },
    {
      "cell_type": "code",
      "source": [
        "# Conversion avec gestion des formats mixtes\n",
        "try:\n",
        "    Tours_Habitat['date'] = pd.to_datetime(\n",
        "        Tours_Habitat['date'], errors='coerce', format='mixed'\n",
        "    )\n",
        "except ValueError:\n",
        "    # Si l'erreur persiste, identifier les valeurs problématiques\n",
        "    invalid_dates = Tours_Habitat['date'][~pd.to_datetime(Tours_Habitat['date'], errors='coerce').notna()]\n",
        "    print(\"Dates invalides :\", invalid_dates)\n",
        "\n",
        "# Identifier et corriger les valeurs problématiques manuellement si nécessaire"
      ],
      "metadata": {
        "id": "swYBWxrvhp2Q"
      },
      "execution_count": 80,
      "outputs": []
    },
    {
      "cell_type": "code",
      "source": [
        "\n",
        "# Transformer la colonne 'annee' en une colonne de type date (seulement l'année)\n",
        "Tours_Habitat['annee'] = Tours_Habitat['Date'].str[:4]"
      ],
      "metadata": {
        "id": "zT3Lx9rKfS3y"
      },
      "execution_count": 81,
      "outputs": []
    },
    {
      "cell_type": "code",
      "source": [
        "# Convertir les nouvelles colonnes au format datetime\n",
        "Tours_Habitat['date'] = pd.to_datetime(Tours_Habitat['date'], format='%Y-%m-%d')\n"
      ],
      "metadata": {
        "id": "Vo10Duhot-9Z"
      },
      "execution_count": 82,
      "outputs": []
    },
    {
      "cell_type": "code",
      "source": [
        "# Description pour comprendre les données et mettre en suite le tableau en forme\n",
        "dfSummary(Tours_Habitat)"
      ],
      "metadata": {
        "colab": {
          "base_uri": "https://localhost:8080/",
          "height": 1000
        },
        "id": "Y-OOPOII9TT8",
        "outputId": "ea74ba50-da77-48c3-d0e0-2314dc80df49"
      },
      "execution_count": 83,
      "outputs": [
        {
          "output_type": "execute_result",
          "data": {
            "text/plain": [
              "<pandas.io.formats.style.Styler at 0x7ca571f758a0>"
            ],
            "text/html": [
              "<style type=\"text/css\">\n",
              "#T_5fcf7 thead>tr>th {\n",
              "  text-align: left;\n",
              "}\n",
              "#T_5fcf7_row0_col0, #T_5fcf7_row1_col0, #T_5fcf7_row2_col0, #T_5fcf7_row3_col0, #T_5fcf7_row4_col0, #T_5fcf7_row5_col0, #T_5fcf7_row6_col0, #T_5fcf7_row7_col0 {\n",
              "  text-align: left;\n",
              "  font-size: 12px;\n",
              "  vertical-align: middle;\n",
              "  width: 5%;\n",
              "  max-width: 50px;\n",
              "  min-width: 20px;\n",
              "}\n",
              "#T_5fcf7_row0_col1, #T_5fcf7_row1_col1, #T_5fcf7_row2_col1, #T_5fcf7_row3_col1, #T_5fcf7_row4_col1, #T_5fcf7_row5_col1, #T_5fcf7_row6_col1, #T_5fcf7_row7_col1 {\n",
              "  text-align: left;\n",
              "  font-size: 12px;\n",
              "  vertical-align: middle;\n",
              "  width: 15%;\n",
              "  max-width: 200px;\n",
              "  min-width: 100px;\n",
              "  word-break: break-word;\n",
              "}\n",
              "#T_5fcf7_row0_col2, #T_5fcf7_row1_col2, #T_5fcf7_row2_col2, #T_5fcf7_row3_col2, #T_5fcf7_row4_col2, #T_5fcf7_row5_col2, #T_5fcf7_row6_col2, #T_5fcf7_row7_col2 {\n",
              "  text-align: left;\n",
              "  font-size: 12px;\n",
              "  vertical-align: middle;\n",
              "  width: 30%;\n",
              "  min-width: 100px;\n",
              "}\n",
              "#T_5fcf7_row0_col3, #T_5fcf7_row1_col3, #T_5fcf7_row2_col3, #T_5fcf7_row3_col3, #T_5fcf7_row4_col3, #T_5fcf7_row5_col3, #T_5fcf7_row6_col3, #T_5fcf7_row7_col3 {\n",
              "  text-align: left;\n",
              "  font-size: 12px;\n",
              "  vertical-align: middle;\n",
              "  width: 25%;\n",
              "  min-width: 100px;\n",
              "}\n",
              "#T_5fcf7_row0_col4, #T_5fcf7_row1_col4, #T_5fcf7_row2_col4, #T_5fcf7_row3_col4, #T_5fcf7_row4_col4, #T_5fcf7_row5_col4, #T_5fcf7_row6_col4, #T_5fcf7_row7_col4 {\n",
              "  text-align: left;\n",
              "  font-size: 12px;\n",
              "  vertical-align: middle;\n",
              "  width: 20%;\n",
              "  min-width: 150px;\n",
              "}\n",
              "#T_5fcf7_row0_col5, #T_5fcf7_row1_col5, #T_5fcf7_row2_col5, #T_5fcf7_row3_col5, #T_5fcf7_row4_col5, #T_5fcf7_row5_col5, #T_5fcf7_row6_col5, #T_5fcf7_row7_col5 {\n",
              "  text-align: left;\n",
              "  font-size: 12px;\n",
              "  vertical-align: middle;\n",
              "  width: 10%;\n",
              "}\n",
              "</style>\n",
              "<table id=\"T_5fcf7\" class=\"dataframe\">\n",
              "  <caption><strong>Data Frame Summary</strong><br>Tours_Habitat<br>Dimensions: 71,241 x 8<br>Duplicates: 0</caption>\n",
              "  <thead>\n",
              "    <tr>\n",
              "      <th id=\"T_5fcf7_level0_col0\" class=\"col_heading level0 col0\" >No</th>\n",
              "      <th id=\"T_5fcf7_level0_col1\" class=\"col_heading level0 col1\" >Variable</th>\n",
              "      <th id=\"T_5fcf7_level0_col2\" class=\"col_heading level0 col2\" >Stats / Values</th>\n",
              "      <th id=\"T_5fcf7_level0_col3\" class=\"col_heading level0 col3\" >Freqs / (% of Valid)</th>\n",
              "      <th id=\"T_5fcf7_level0_col4\" class=\"col_heading level0 col4\" >Graph</th>\n",
              "      <th id=\"T_5fcf7_level0_col5\" class=\"col_heading level0 col5\" >Missing</th>\n",
              "    </tr>\n",
              "  </thead>\n",
              "  <tbody>\n",
              "    <tr>\n",
              "      <td id=\"T_5fcf7_row0_col0\" class=\"data row0 col0\" >1</td>\n",
              "      <td id=\"T_5fcf7_row0_col1\" class=\"data row0 col1\" ><strong>Date</strong><br>[object]</td>\n",
              "      <td id=\"T_5fcf7_row0_col2\" class=\"data row0 col2\" >1. 2023-01-01 14:15:00<br>2. 2023-01-07 21:00:00<br>3. 2023-01-07 22:00:00<br>4. 2023-04-30 18:00:05<br>5. 2023-06-19 16:00:05<br>6. 2023-05-20 15:00:05<br>7. 2023-08-03 02:00:05<br>8. 2023-05-13 01:00:05<br>9. 2023-06-13 15:00:04<br>10. 2023-05-31 15:13:05<br>11. other</td>\n",
              "      <td id=\"T_5fcf7_row0_col3\" class=\"data row0 col3\" >17 (0.0%)<br>13 (0.0%)<br>13 (0.0%)<br>11 (0.0%)<br>11 (0.0%)<br>11 (0.0%)<br>11 (0.0%)<br>10 (0.0%)<br>10 (0.0%)<br>10 (0.0%)<br>71,124 (99.8%)</td>\n",
              "      <td id=\"T_5fcf7_row0_col4\" class=\"data row0 col4\" ><img src = \"data:image/png;base64, iVBORw0KGgoAAAANSUhEUgAAAJsAAAD+CAYAAAAtWHdlAAAAOXRFWHRTb2Z0d2FyZQBNYXRwbG90bGliIHZlcnNpb24zLjguMCwgaHR0cHM6Ly9tYXRwbG90bGliLm9yZy81sbWrAAAACXBIWXMAAA9hAAAPYQGoP6dpAAADLklEQVR4nO3cwY3TYBRG0ecogmFja2QpJUAPKYItvdOFNzCswoIeriVzTgX/4kpPkfxleb1eA4Xb2Q/g/yE2MmIjIzYyYiMjNjJiIyM2MmIjIzYyt2VZvi3L8nb2Q7i+28x8nZnPZz+E63NGyYiNjNjIiI2M2MiIjYzYyIiNjNjIiI2M2MiIjYzYyIiNjNjIiI3MbWZ+zsyfsx/C9S3+xYiKM0pGbGSsq8hYV5FxRsmIjYzYyIiNjNjIiI2M2MiIjYzYyIiNjNjIiI2M2MiIjYzYyBi8kDF4IeOMkhEbGYMXMgYvZJxRMmIjIzYyYiMjNjJiIyM2MmIjIzYyYiMjNjJiIyM2MmIjIzYyBi9kDF7IOKNkxEZGbGSsq8hYV5FxRsmIjYzYyIiNjNjIiI2M2MiIjYzYyIiNjNjIiI2M2MiIjYzYyFhXkbGuIuOMkhEbGYMXMgYvZJxRMmIjIzYyYiMjNjJiIyM2MmIjIzYyYiMjNjJiIyM2MmIjIzYyBi9kDF7IOKNkxEbG4IWMwQsZZ5SM2MiIjYzYyIiNjNjIiI2M2MiIjYzYyIiNjNjIiI2M2MiIjYzYyFhXkbGuIuOMkhEbGesqMtZVZJxRMmIjIzYyYiMjNjJiIyM2MmIjIzYyYiMjNjJiIyM2MmIjIzYyBi9kDF7IOKNkxEbG4IWMwQsZZ5SM2MiIjYzYyIiNjNjIiI2M2MiIjYzYyIiNjNjIiI2M2MiIjYzBCxmDFzLOKBmxkREbGesqMtZVZJxRMmIjIzYyYiMjNjJiIyM2MmIjIzYyYiMjNjJiIyM2MmIjIzYy1lVkrKvIOKNkxEbG4IWMwQsZZ5SM2MiIjYzYyIiNjNjIiI2M2MiIjYzYyIiNjNjIiI2M2MiIjYzBCxmDFzLOKJllZr7MzKezH8L13fd9/76u6/vZD+H67uu6vj+fz9/btn2c/Riu6ziOt/vMzLZtH4/H49fZD+La/EAgIzYyYiMjNjJiIyM2MmIjIzYyYiMjNjJiIyM2MmIjc5/59/nH2Q/h2o7jeFv2ff/h40kKPgsnY11Fxg8EMmIjIzYyYiMjNjJiIyM2MmIjIzYyfwFj50uCzHpkKgAAAABJRU5ErkJggg==\"></img></td>\n",
              "      <td id=\"T_5fcf7_row0_col5\" class=\"data row0 col5\" >0<br>(0.0%)</td>\n",
              "    </tr>\n",
              "    <tr>\n",
              "      <td id=\"T_5fcf7_row1_col0\" class=\"data row1 col0\" >2</td>\n",
              "      <td id=\"T_5fcf7_row1_col1\" class=\"data row1 col1\" ><strong>Équipement</strong><br>[object]</td>\n",
              "      <td id=\"T_5fcf7_row1_col2\" class=\"data row1 col2\" >1. Conso horaire 1er Etage_120409<br>2. Conso horaire RDC_12044B_FCH<br>3. Conso horaire RDC_120404_FCH<br>4. Conso horaire RDC_12044E_FCH<br>5. Conso horaire E2_120417_FCH<br>6. Conso horaire E2_1204</td>\n",
              "      <td id=\"T_5fcf7_row1_col3\" class=\"data row1 col3\" >22,979 (32.3%)<br>13,439 (18.9%)<br>13,199 (18.5%)<br>11,883 (16.7%)<br>9,740 (13.7%)<br>1 (0.0%)</td>\n",
              "      <td id=\"T_5fcf7_row1_col4\" class=\"data row1 col4\" ><img src = \"data:image/png;base64, iVBORw0KGgoAAAANSUhEUgAAAJsAAACKCAYAAAC96ziyAAAAOXRFWHRTb2Z0d2FyZQBNYXRwbG90bGliIHZlcnNpb24zLjguMCwgaHR0cHM6Ly9tYXRwbG90bGliLm9yZy81sbWrAAAACXBIWXMAAA9hAAAPYQGoP6dpAAAChUlEQVR4nO3bwW0bVxhG0X8Ewok3JAQBKiHpQUWk2BTBItKDIGgWseMNs8jSVhaWeMfynFPBW1y84RDzLZfLZaBws/UB2A+xkREbGbGRWWbm48x82Pogb+DL5XL5tPUheNnh7u7uj+PxeLv1QV5rXdenZVn+FNyP63A8Hm8fHh4+nU6nz1sf5ns9Pz//ej6fbx8fHz/MjNh+UIeZmdPp9Pn+/v7vrQ/zSh+3PgD/zwsCGbGRERsZsZERGxmxkREbGbGRERsZsZERGxmxkREbmcPMf5/obH2Q13jv59+Lw7quT+fz+Xbe+Sc667o+zcyXrc/By3wWTmYxUqay1c3mFtqhTQYvxin7lA9ejFP2a6vBy7t+8+X7+FOXjNjIiI2M2MiIjYzYyIiNjNjIiI2M2MiIjYzYyIiNjNjI5OsqS6j92mRdZQm1TzYIZKyryLjZyFhXkbGuImNdRcafumTERkZsZMRGRmxkxEZGbGTERkZsZMRGRmxkxEZGbGTERsa6iox1FRkbBDLWVWTKm81ttnPZusqiimRdZVHFTLuusqjaOX/qkhEbGbGRERsZsZERGxmxkREbGbGRERsZsZERGxmxkUkGL0YuzISDFyMXfBZOxuCFjBcEMtd6jHpk8pWrrKssqfiWN19XWVLxkmutqyyp+IoXBDJiIyM2MmIjIzYyYiMjNjJiIyM2MmIjIzYyYiMjNjJvvq6ypOIlV1lXWVLxLT4LJ2NdRcYLApmbZVl+X5bFj3qu7mZmfpuZX7Y+CD8/j1EyYiMjNjJiIyM2MmIjIzYyYiMjNjJiIyM2MmIjIzYyYiMjNjJiI3MzM3/NzD9bH4Sfn8ELGY9RMmIjIzYyYiPzLzK+E5Yz14LHAAAAAElFTkSuQmCC\"></img></td>\n",
              "      <td id=\"T_5fcf7_row1_col5\" class=\"data row1 col5\" >0<br>(0.0%)</td>\n",
              "    </tr>\n",
              "    <tr>\n",
              "      <td id=\"T_5fcf7_row2_col0\" class=\"data row2 col0\" >3</td>\n",
              "      <td id=\"T_5fcf7_row2_col1\" class=\"data row2 col1\" ><strong>Commande</strong><br>[object]</td>\n",
              "      <td id=\"T_5fcf7_row2_col2\" class=\"data row2 col2\" >1. Conso E2 Tableau Général<br>2. Conso E1 Tableau général<br>3. Conso E1 Bureaux<br>4. Conso E1 Eclairage<br>5. Conso E1 Circulation<br>6. Conso RDC S1 cafétériat<br>7. Conso RDC Armoire5<br>8. Conso RDC Armoire3<br>9. Conso RDC TD Chauffage<br>10. Conso RDC Armoire1<br>11. other</td>\n",
              "      <td id=\"T_5fcf7_row2_col3\" class=\"data row2 col3\" >9,732 (13.7%)<br>6,455 (9.1%)<br>5,993 (8.4%)<br>5,169 (7.3%)<br>4,686 (6.6%)<br>4,457 (6.3%)<br>4,085 (5.7%)<br>4,081 (5.7%)<br>4,067 (5.7%)<br>4,063 (5.7%)<br>18,453 (25.9%)</td>\n",
              "      <td id=\"T_5fcf7_row2_col4\" class=\"data row2 col4\" ><img src = \"data:image/png;base64, iVBORw0KGgoAAAANSUhEUgAAAJsAAAD+CAYAAAAtWHdlAAAAOXRFWHRTb2Z0d2FyZQBNYXRwbG90bGliIHZlcnNpb24zLjguMCwgaHR0cHM6Ly9tYXRwbG90bGliLm9yZy81sbWrAAAACXBIWXMAAA9hAAAPYQGoP6dpAAAD8klEQVR4nO3cTWobWQBG0adGhPZEwhi8GC8ii+1FaDfGuAZJ8EQ9aGgyc/1xlSjnLKDw4PJEFe/z4Xq9Dij8des/gD+H2MiIjYzYyIiNjNjIiI2M2MiIjcxhjPEwxviy83M/rtfr952fyW/u+PT09PV0Oj3u+dBpmt4Oh8M/guNnx9Pp9Pjy8vL9fD7/2OOB7+/vf18ul8fX19cvYwyx8b/jGGOcz+cfz8/P33Z87sOOz+JOeEEgIzYyYiMjNjJiIyM2MmIjIzYyYiMjNjJiIyM2MmIjIzYyxzH+u4O21wP3fBb35ThN09vlcnkcO95Bm6bpbYzxsdfzuA82CGQO/mUWlS0nm9OLRVavqyyoWGrVusqCijW2rKssqFjER10yYiMjNjJiIyM2MmIjIzYyYiMjNjJiIyM2MmIjIzYyqwYvRi2ssXrwYtTCUq6FkzF4IbP2ZHOqsdiqwYuxC2ssHrwYu7DW2sGLsQuL+ahLRmxkxEZGbGTERkZsZMRGRmxkxEZGbGTERkZsZMRGZvHgxdiFtVYNXoxdWMO1cDIGL2S8IJBZ+jPq55PVFq2rrKrYYva6yqqKrZauq6yqWM0LAhmxkREbGbGRERsZsZERGxmxkREbGbGRERsZsZERG5nZ6yqrKrZatK6yqmIL18LJWFeRWXKyOdXYZPbgxdiFrWYNXoxd2MOSwYuxC5v4qEtGbGTERkZsZMRGRmxkxEZGbGTERkZsZMRGRmxkxEZm1uDF2IU9zB68GLuwlWvhZAxeyDjZyBi8kDF4IWPwQsZHXTJiIyM2MmIjIzYyYiMjNjJiIyM2MmIjIzYyYiMjNjJiI2NdRca6iowNAhnrKjJzTzanGpvNWldZVrGHT9dVllXsZe66yrKKzXzUJSM2MmIjIzYyYiMjNjJiIyM2MmIjIzYyYiMjNjJiI/Pp4MXYhb3MGrwYu7AH18LJGLyQcbKRMXghY/BCxuCFjI+6ZMRGRmxkxEZGbGTERkZsZMRGRmxkxEZGbGTERkZsZAxeyBi8kHEtnIzBCxkvCGT8jJKxriJjXUXGuoqMFwQyYiMjNjJiIyM2MmIjIzYyYiMjNjJiIyM2MmIjIzYy1lVkrKvIuBZOxrqKjJONjMELGYMXMgYvZHzUJSM2MmIjIzYyYiMjNjJiIyM2MmIjIzYyYiMjNjJiI2PwQsbghYxr4WQMXsjMPdluyal6J2YNXm7J2OZ+fDp4uSVjm/syd/ByS8Y2d8JHXTJiIyM2MmIjIzYyYiMjNjJiIyM2MmIjIzYyYiMjNjKfDl5u6Vf9u1hn1uDlloxt7odr4WQMXsh4QSAjNjJiIyM2MmIjIzYyYiMjNjJiI/MvsPJO4oFurZ0AAAAASUVORK5CYII=\"></img></td>\n",
              "      <td id=\"T_5fcf7_row2_col5\" class=\"data row2 col5\" >1<br>(0.0%)</td>\n",
              "    </tr>\n",
              "    <tr>\n",
              "      <td id=\"T_5fcf7_row3_col0\" class=\"data row3 col0\" >4</td>\n",
              "      <td id=\"T_5fcf7_row3_col1\" class=\"data row3 col1\" ><strong>Valeur</strong><br>[object]</td>\n",
              "      <td id=\"T_5fcf7_row3_col2\" class=\"data row3 col2\" >1. 0<br>2. 0,010000000<br>3. 0,020000000<br>4. 0,030000000<br>5. 0,040000000<br>6. 0,060000000<br>7. 0,050000000<br>8. 0,070000000<br>9. 0,080000000<br>10. 0,220000000<br>11. other</td>\n",
              "      <td id=\"T_5fcf7_row3_col3\" class=\"data row3 col3\" >12,738 (17.9%)<br>3,985 (5.6%)<br>2,586 (3.6%)<br>1,806 (2.5%)<br>1,094 (1.5%)<br>1,014 (1.4%)<br>747 (1.0%)<br>532 (0.7%)<br>422 (0.6%)<br>246 (0.3%)<br>46,071 (64.7%)</td>\n",
              "      <td id=\"T_5fcf7_row3_col4\" class=\"data row3 col4\" ><img src = \"data:image/png;base64, iVBORw0KGgoAAAANSUhEUgAAAJsAAAD+CAYAAAAtWHdlAAAAOXRFWHRTb2Z0d2FyZQBNYXRwbG90bGliIHZlcnNpb24zLjguMCwgaHR0cHM6Ly9tYXRwbG90bGliLm9yZy81sbWrAAAACXBIWXMAAA9hAAAPYQGoP6dpAAAEVUlEQVR4nO3dUU4bVwCG0QuyaHgZy7LEMrIAFsFiuwgvgH0gxDwEygt9CKkahQTUeD5cc84GxlI+Xcej+ycnT09PAwqn7/0B+DjERkZsZMRGRmxkxEZGbGTERkZsZE7GGOdjjLPwmY9PT0/34fM4EKvtdns1TdOmeuA8z7cnJyd/Cu7jWU3TtLm8vLxfr9cPSz/s7u7u026329zc3JyNMcT2wazGGGO9Xj9cXFx8iZ55Hj2HA+MHAhmxkREbGbGRERsZsZERGxmxkREbGbGRERsZsZERGxmxkVmN8fWeWfGw6jkcptU8z7e73W4zontm8zzfjjEei2dxWGwQyJz4J7OovPVkcxrx2960rrKIYh9eXVdZRLEvb11XWUTx27zUJSM2MmIjIzYyYiMjNjJiIyM2MmIjIzYyYiMjNjJiI/Pq4MVIhX150+DFSIV9cC2cjMELmV+dbE4z9uqngxcjF/btxcGLkQtL+NXgxciFvfJSl4zYyIiNjNjIiI2M2MiIjYzYyIiNjNjIiI2M2MiIjcyLgxcjF5bw08GLkQv75lo4GYMXMn4gkHnpa9TXJ4v4YV1lVcVSvltXWVWxpJfWVVZVLMIPBDJiIyM2MmIjIzYyYiMjNjJiIyM2MmIjIzYyYiMjNjLfrausqljSD+sqqyqW4lo4GesqMv8+2ZxoLOqfwYuhC0s7naZp8/nz5/G8sHrtv4KE/+x0jDHOz8//eu8PwvHzUpeM2MiIjYzYyIiNjNjIiI2M2MiIjYzYyIiNjNjIiI3M6Rhj3N/f//HeH4TjdzrP8+319bWhC4tzLZyMwQsZJxsZgxcyBi9kDF7IeKlLRmxkxEZGbGTERkZsZMRGRmxkxEZGbGTERkZsZMRGRmxkrKvIWFeRsUEgY11FxslGxrqKjHUVGesqMl7qkhEbGbGRERsZsZERGxmxkREbGbGRERsZsZERGxmxkTF4IWPwQsa1cDIGL2S+nWzDqcbSVtvt9mqMMYxdWNrpNE0bYxcK3rORERsZsZERGxmxkREbGbGRERsZsZERGxmxkREbGbGRERsZsZFZPQ9dxjB2YWGuhZMxeCHj72xkfI2Ssa4iY11Fxt/ZyIiNjNjIiI2M2MiIjYzYyIiNjNjIiI2M2MiIjYzYyIiNjNjIWFeRcS2cjHUVGScbGYMXMgYvZLz6ICM2MmIjIzYyYiMjNjJiIyM2MmIjIzYyYiMjNjJiIyM2MmIjY/BCxrVwMgYvZL6dbK6EH47HY/2WWW2326vnDQIHYJ7n22MdH62madpcXl7er9frh/f+MB/d3d3dp91ut7m5uTkbYxxfbGOMsV6vHy4uLr6894dhjPH8g+0Yec9GRmxkxEZGbGTERkZsZMRGRmxkxEZGbGTERkZsZMRGZjXG16st7/1BOP4/h9U8z7e73W4zjvhqy//J8wDpKMdHroUfnqO9Fm7wQsYPBDJiIyM2MmIjIzYyYiMjNjJiIyM2Mn8D/enB6Ou5C7UAAAAASUVORK5CYII=\"></img></td>\n",
              "      <td id=\"T_5fcf7_row3_col5\" class=\"data row3 col5\" >1<br>(0.0%)</td>\n",
              "    </tr>\n",
              "    <tr>\n",
              "      <td id=\"T_5fcf7_row4_col0\" class=\"data row4 col0\" >5</td>\n",
              "      <td id=\"T_5fcf7_row4_col1\" class=\"data row4 col1\" ><strong>Unité</strong><br>[object]</td>\n",
              "      <td id=\"T_5fcf7_row4_col2\" class=\"data row4 col2\" >1. kWh<br>2. nan</td>\n",
              "      <td id=\"T_5fcf7_row4_col3\" class=\"data row4 col3\" >71,232 (100.0%)<br>9 (0.0%)</td>\n",
              "      <td id=\"T_5fcf7_row4_col4\" class=\"data row4 col4\" ><img src = \"data:image/png;base64, iVBORw0KGgoAAAANSUhEUgAAAJsAAAAuCAYAAAA/ZmtKAAAAOXRFWHRTb2Z0d2FyZQBNYXRwbG90bGliIHZlcnNpb24zLjguMCwgaHR0cHM6Ly9tYXRwbG90bGliLm9yZy81sbWrAAAACXBIWXMAAA9hAAAPYQGoP6dpAAAA/0lEQVR4nO3bwUkEMQBG4T/DoOslYQlMCdrDFuHV3u0iF11P48EafIHs+yr4Dw9CICnneUYilCQvSZ5mD9H69t77e631OnuI1rfXWq+32+27tXafPUbrGmNc9iRprd2P4/iaPUhr22YP0OMwNmGMTRhjE8bYhDE2YYxNGGMTxtiEMTZhjE0YYxPG2IQxNmGMTZg9+XvYNnuI1jbGuJTe+4fPwkXww4swxa98onhBEGYrpbyVUrwg6N9tSV6TPM8eovV5jApjbMIYmzDGJoyxCWNswhibMMYmjLEJY2zCGJswxiaMsQljbMIYmzDGJoyxCbMl+UzyM3uI1ufvKmF+AXVbGymqDU4XAAAAAElFTkSuQmCC\"></img></td>\n",
              "      <td id=\"T_5fcf7_row4_col5\" class=\"data row4 col5\" >9<br>(0.0%)</td>\n",
              "    </tr>\n",
              "    <tr>\n",
              "      <td id=\"T_5fcf7_row5_col0\" class=\"data row5 col0\" >6</td>\n",
              "      <td id=\"T_5fcf7_row5_col1\" class=\"data row5 col1\" ><strong>date</strong><br>[datetime64[ns]]</td>\n",
              "      <td id=\"T_5fcf7_row5_col2\" class=\"data row5 col2\" >Min: 2023-01-01<br>Max: 2024-05-09<br>Duration: 494 days</td>\n",
              "      <td id=\"T_5fcf7_row5_col3\" class=\"data row5 col3\" >446 distinct values</td>\n",
              "      <td id=\"T_5fcf7_row5_col4\" class=\"data row5 col4\" ><img src = \"data:image/png;base64, iVBORw0KGgoAAAANSUhEUgAAAJsAAABNCAYAAACxBha+AAAAOXRFWHRTb2Z0d2FyZQBNYXRwbG90bGliIHZlcnNpb24zLjguMCwgaHR0cHM6Ly9tYXRwbG90bGliLm9yZy81sbWrAAAACXBIWXMAAA9hAAAPYQGoP6dpAAAC4UlEQVR4nO3dPW/aQBjA8ecgoCNEtngp2bJ0jNQBKUs+QMd+2H6EDgydPXTpxIaELFDcIBxDlyBVKm93hAfj+/9mLvLwVzg/OcdmvV4LoKF26QtAOIgNam4ufQH/Msa0RKTpsbQmIiuPdcv1ev3qsQ4eShObMabV6/W+RVHUcVlXFEUjy7LPd3d3v2u1Wu6ydj6fp8aY7wSnozSxiUgziqLO8/PzaxzHi2MXjcfjTpIkn4bD4a/7+/v02HWz2cyORqPOdDptigixKShTbCIiEsfxYjAY/Dn282matkRE2u2207p3LcfP4wTcIEANsUENsUENsUENsUFN6e5GNRVF0RCRyBjjs5yBsKNgY8uyrJHn+ZeHh4d6vV4/eq63wUDYXbCxLZfLG2vt7XA4XLgMg0UYCPsKNrYNz2GwCANhZ9wgQA2xQQ2xQQ2xQQ2xQQ2xQQ2xQQ2xQQ2xQQ2xQQ2xQQ2xQQ2xQQ2xQQ2xQQ2xQU3whyd9nfD8QrDPLhCbh1OeXwj52QVi8+D7/ELozy4Q2wn4ZzZuuEGAGmKDGmKDGmKDGmKDGu5GlYU8DCY2RaEPg4lNUejDYGK7gFCHwdwgQA2xQQ2xQQ2xQQ03CFeiCvM5YrsCVZnPEdsVqMp8jtiuyLXP54gNW53wVuude0Riw39832otsn+PSGzYxuut1of2iMSGnVzfav1u5x6RoS7UEBvUEBvUEBvUEBvUEBvUEBvUEBvUMNStOM9zcNFqtWp89LUQW4X5noPL89wWRfG4WCx+iIjPK823IrYK8z0HNx6PO0mS3L69vdU/8nqILQCu5+DSND3LGbizxOZ5Fuos+wSUx97YPKOx3W73axzHbZdF59onoDx2xuZ7gC7Pcysij09PTz/7/f782HXn2iegPPb9ZvM6QLeJxlqbl2GfgPI4uGdzPUBHNNiFvyBADbFBzcGv0dlsZl1+4MvLixURybLMTiaT26qtu6Zr1V53qJW/d+KlnnyVpUYAAAAASUVORK5CYII=\"></img></td>\n",
              "      <td id=\"T_5fcf7_row5_col5\" class=\"data row5 col5\" >0<br>(0.0%)</td>\n",
              "    </tr>\n",
              "    <tr>\n",
              "      <td id=\"T_5fcf7_row6_col0\" class=\"data row6 col0\" >7</td>\n",
              "      <td id=\"T_5fcf7_row6_col1\" class=\"data row6 col1\" ><strong>time</strong><br>[object]</td>\n",
              "      <td id=\"T_5fcf7_row6_col2\" class=\"data row6 col2\" >1. 11:00:05<br>2. 11:00:03<br>3. 17:00:05<br>4. 20:00:05<br>5. 21:00:05<br>6. 10:00:05<br>7. 09:00:05<br>8. 17:00:03<br>9. 15:00:05<br>10. 03:00:05<br>11. other</td>\n",
              "      <td id=\"T_5fcf7_row6_col3\" class=\"data row6 col3\" >907 (1.3%)<br>866 (1.2%)<br>865 (1.2%)<br>862 (1.2%)<br>857 (1.2%)<br>852 (1.2%)<br>849 (1.2%)<br>849 (1.2%)<br>846 (1.2%)<br>845 (1.2%)<br>62,643 (87.9%)</td>\n",
              "      <td id=\"T_5fcf7_row6_col4\" class=\"data row6 col4\" ><img src = \"data:image/png;base64, iVBORw0KGgoAAAANSUhEUgAAAJsAAAD+CAYAAAAtWHdlAAAAOXRFWHRTb2Z0d2FyZQBNYXRwbG90bGliIHZlcnNpb24zLjguMCwgaHR0cHM6Ly9tYXRwbG90bGliLm9yZy81sbWrAAAACXBIWXMAAA9hAAAPYQGoP6dpAAADpUlEQVR4nO3cQWobZxyH4b+ESavNCGHwMXwAH6KHzSF0AN/DGM+iSrNRF4HQRaGLTF4F9XkOYGbx8okZvp931+t1oLC/9QPw/yE2MmIjIzYyYiMjNjJiIyM2MmIjs5uZw8x8mpmv1+v1cuPn4Y49PD4+/rEsy2ld1/fdbvdZcPws+2VZTs/Pz7Msy2m+nXDwU+xnZg6Hw1+3fhDunxcEMmIjIzYyYiMjNjJiIyM2MmIjIzYyYiMjNjJiIyM2MmIjs5+ZuVwuv936Qbh/+3Vd319fX2dd1/eZ+XrrB+J+2SCQ2fmXWVScbGSsq8hYV5GxriLjoy4ZsZERGxmxkREbGbGRERsZsZERGxmxkREbGbGRERsZgxcyBi9kXAsnY/BCxslGxuCFjMELGYMXMj7qkhEbGbGRERsZsZERGxmxkREbGbGRERsZsZERGxmxkTF4IWPwQsa1cDIGL2S8IJDxM0rGuoqMdRUZ6yoyXhDIiI2M2MiIjYzYyIiNjNjIiI2M2MiIjYzYyIiNjNjIWFeRsa4i41o4GesqMk42MgYvZAxeyBi8kPFRl4zYyIiNjNjIiI2M2MiIjYzYyIiNjNjIiI2M2MiIjYzBCxmDFzKuhZMxeCHjZCNj8ELG4IWMwQsZH3XJiI2M2MiIjYzYyIiNjNjIiI2M2MiIjYzYyIiNjNjIiI2MdRUZ6yoyNghkrKvIONnIWFeRsa4iY11FxkddMmIjIzYyYiMjNjJiIyM2MmIjIzYyYiMjNjJiIyM2MgYvZAxeyLgWTsbghYyTjYzBCxmDFzIGL2R81CUjNjJiIyM2MmIjIzYyYiMjNjJiIyM2MmIjIzYyYiNj8ELG4IWMa+FkDF7IeEEg42eUjHUVGesqMtZVZLwgkBEbGbGRERsZsZERGxmxkREbGbGRERsZsZERGxmxkbGuImNdRca1cDLWVWScbGQMXsgYvJAxeCHjoy4ZsZERGxmxkREbGbGRERsZsZERGxmxkREbGbGRERsZgxcyBi9kXAsnY/BC5p8nG/ybzX7xvg9etvhj3J8th1APy7KcXl5eLsfj8csWD8f9+Pj4+P18Pp/e3t4+zcyPxzYzczwevzw9Pf35w0/HPTps9Yd81CUjNjJiIyM2MmIjIzYyYiMjNjJiIyM2MmIjIzYyYiPzMPPtKsmtH4Rfz9ZdPKzr+n4+n0+z4VUS7seWQyjXwvkvm10LN3gh4wWBjNjIiI2M2MiIjYzYyIiNjNjIiI3M36Ogt8WFr0P4AAAAAElFTkSuQmCC\"></img></td>\n",
              "      <td id=\"T_5fcf7_row6_col5\" class=\"data row6 col5\" >0<br>(0.0%)</td>\n",
              "    </tr>\n",
              "    <tr>\n",
              "      <td id=\"T_5fcf7_row7_col0\" class=\"data row7 col0\" >8</td>\n",
              "      <td id=\"T_5fcf7_row7_col1\" class=\"data row7 col1\" ><strong>annee</strong><br>[object]</td>\n",
              "      <td id=\"T_5fcf7_row7_col2\" class=\"data row7 col2\" >1. 2023<br>2. 2024</td>\n",
              "      <td id=\"T_5fcf7_row7_col3\" class=\"data row7 col3\" >61,746 (86.7%)<br>9,495 (13.3%)</td>\n",
              "      <td id=\"T_5fcf7_row7_col4\" class=\"data row7 col4\" ><img src = \"data:image/png;base64, iVBORw0KGgoAAAANSUhEUgAAAJsAAAAuCAYAAAA/ZmtKAAAAOXRFWHRTb2Z0d2FyZQBNYXRwbG90bGliIHZlcnNpb24zLjguMCwgaHR0cHM6Ly9tYXRwbG90bGliLm9yZy81sbWrAAAACXBIWXMAAA9hAAAPYQGoP6dpAAABOElEQVR4nO3bQarCMBSF4ZtHkeckoRS6mC7Cxb5FZDelNAMVJ3HwhtLZzdHI/y3g0sGvoPSEWqsBCsHMzmZ2eveD4OM8aq03z4PDNE2XGOPoeRT9K6VsIYQ/z+CGGOO4LMstpXT3Ooq+7fv+m3Me13U9mZlfbGZmKaX7PM9Xr6P4Cmfvgz/eB4EjxAYZYoMMsUGG2CBDbJAhNsgQG2SIDTLEBhligwyxQYbYIENskCE2yAxm/y/LvftB8Dla9TCUUrac82gNXpZDv0opm5k9PG8yeMER98FLYMoHlVbfbO6fCvSvyZSvxQwM/XOf8rWagaF/raZ8/LLFC/7UhQyxQYbYIENskCE2yBAbZIgNMsQGGWKDDLFBhtggQ2yQITbIEBtkiA0y7lM+ZoE40mTK12IGhv4xeIHMEwpbat9AdB4KAAAAAElFTkSuQmCC\"></img></td>\n",
              "      <td id=\"T_5fcf7_row7_col5\" class=\"data row7 col5\" >0<br>(0.0%)</td>\n",
              "    </tr>\n",
              "  </tbody>\n",
              "</table>\n"
            ]
          },
          "metadata": {},
          "execution_count": 83
        }
      ]
    },
    {
      "cell_type": "markdown",
      "source": [
        "Recherche des modalités dans la colonne \"Equipement\"."
      ],
      "metadata": {
        "id": "mC9xI5iSih9u"
      }
    },
    {
      "cell_type": "code",
      "source": [
        "# Trouver toutes les modalités uniques dans la colonne 'Équipement'\n",
        "modalites = Tours_Habitat['Équipement'].unique()\n",
        "\n",
        "# Afficher les modalités\n",
        "print(modalites)"
      ],
      "metadata": {
        "colab": {
          "base_uri": "https://localhost:8080/"
        },
        "id": "VNA02EJywiGy",
        "outputId": "1757faba-5d20-4a9f-8518-f7fc6457e963"
      },
      "execution_count": 84,
      "outputs": [
        {
          "output_type": "stream",
          "name": "stdout",
          "text": [
            "['Conso horaire 1er Etage_120409_FCH' 'Conso horaire E2_120417_FCH'\n",
            " 'Conso horaire RDC_120404_FCH' 'Conso horaire RDC_12044B_FCH'\n",
            " 'Conso horaire RDC_12044E_FCH' 'Conso horaire E2_1204']\n"
          ]
        }
      ]
    },
    {
      "cell_type": "markdown",
      "source": [
        "La colonne \"Equipement\" ne correspond pas à des équipements éléctriques mais à des consommations éléctrique / heure, de plusieurs lieux."
      ],
      "metadata": {
        "id": "77AVtQX7iq7V"
      }
    },
    {
      "cell_type": "code",
      "source": [
        "# Supprimer \"Conso horaire\" et séparer les informations autour du \"_\"\n",
        "Tours_Habitat['Équipement'] = Tours_Habitat['Équipement'].str.replace('Conso horaire ', '', regex=False)"
      ],
      "metadata": {
        "id": "tSvF8sDyAsDr"
      },
      "execution_count": 85,
      "outputs": []
    },
    {
      "cell_type": "markdown",
      "source": [
        "Séparation et création de plusieurs colonnes : Une pour le \"niveau\", soit l'étage du batiment. Une pour la pièce \" Num_Pièce\" et la dernière avec \"FCH\"."
      ],
      "metadata": {
        "id": "3vRakyaNkIFx"
      }
    },
    {
      "cell_type": "code",
      "source": [
        "Tours_Habitat[['Niveau', 'Num_Piece', 'FCH']] = Tours_Habitat['Équipement'].str.split('_', expand=True)"
      ],
      "metadata": {
        "id": "KAz3BnbcCiF4"
      },
      "execution_count": 86,
      "outputs": []
    },
    {
      "cell_type": "markdown",
      "source": [
        "Nettoyage colonne Commande :"
      ],
      "metadata": {
        "id": "7YLL66GHDf-c"
      }
    },
    {
      "cell_type": "code",
      "source": [
        "# Trouver toutes les modalités uniques dans la colonne 'Équipement'\n",
        "modalites = Tours_Habitat['Commande'].unique()\n",
        "\n",
        "# Afficher les modalités\n",
        "print(modalites)"
      ],
      "metadata": {
        "colab": {
          "base_uri": "https://localhost:8080/"
        },
        "id": "CAId8AgXDuyx",
        "outputId": "1e8ab887-9287-4042-baec-9cd2e52091e3"
      },
      "execution_count": 87,
      "outputs": [
        {
          "output_type": "stream",
          "name": "stdout",
          "text": [
            "['Conso E1 Bureaux' 'Conso E1 Circulation' 'Conso E1 Eclairage'\n",
            " 'Conso E1 Seche Main F' 'Conso E1 Seche Main H'\n",
            " 'Conso E1 Tableau général' 'Conso E2 Coffret' 'Conso E2 Tableau Général'\n",
            " 'Conso RDC Armoire1' 'Conso RDC Armoire3' 'Conso RDC Armoire5'\n",
            " 'Conso RDC VMC Ateliers' 'Conso RDC Bureau S6' 'Conso RDC Climatisation'\n",
            " 'Conso RDC Sous-station' 'Conso RDC Tab Lumières Général'\n",
            " 'Conso RDC Ascenseur' 'Conso RDC Rideau d’air chaud'\n",
            " 'Conso RDC S1 cafétériat' 'Conso RDC TD Chauffage' nan]\n"
          ]
        }
      ]
    },
    {
      "cell_type": "markdown",
      "source": [
        "Beaucoup de modalité, et toutes commencent pas \"Conso\", sachant que les unité sont déjà porteuses de l'information, car nous avons des Kw/heures, et que l'ensemble des données sont des \"conso\", nous enlèvons le mot \"conso\" de la colonne."
      ],
      "metadata": {
        "id": "HhSGPtlEkZ2f"
      }
    },
    {
      "cell_type": "code",
      "source": [
        "# Supprimer \"Conso\"\n",
        "Tours_Habitat['Commande'] = Tours_Habitat['Commande'].str.replace('Conso', '', regex=False)"
      ],
      "metadata": {
        "id": "dpRwuZS6DWaQ"
      },
      "execution_count": 88,
      "outputs": []
    },
    {
      "cell_type": "code",
      "source": [
        "Tours_Habitat['Commande'] = Tours_Habitat['Commande'].astype(str)"
      ],
      "metadata": {
        "id": "f2Hc37wPGNVR"
      },
      "execution_count": 89,
      "outputs": []
    },
    {
      "cell_type": "code",
      "source": [
        "# Séparer les valeurs avant et après le premier espace\n",
        "Tours_Habitat[['Etage', 'Objets']] = Tours_Habitat['Commande'].str.split(n=1, expand=True)"
      ],
      "metadata": {
        "id": "1p1qtSNpExTI"
      },
      "execution_count": 90,
      "outputs": []
    },
    {
      "cell_type": "markdown",
      "source": [],
      "metadata": {
        "id": "G40Fjw96Gas6"
      }
    },
    {
      "cell_type": "code",
      "source": [
        "# Supprimer l'ancienne colonne si elle n'est plus nécessaire\n",
        "Tours_Habitat= Tours_Habitat.drop(columns=['FCH'])\n",
        "Tours_Habitat= Tours_Habitat.drop(columns=['Niveau'])"
      ],
      "metadata": {
        "id": "CpkO2Xz5HWg2"
      },
      "execution_count": 91,
      "outputs": []
    },
    {
      "cell_type": "code",
      "source": [
        "dfSummary(Tours_Habitat)"
      ],
      "metadata": {
        "colab": {
          "base_uri": "https://localhost:8080/",
          "height": 1000
        },
        "id": "5Ng8XBFsmugi",
        "outputId": "4c359970-3c71-4379-daf3-31f69272394e"
      },
      "execution_count": 92,
      "outputs": [
        {
          "output_type": "execute_result",
          "data": {
            "text/plain": [
              "<pandas.io.formats.style.Styler at 0x7ca57163f7c0>"
            ],
            "text/html": [
              "<style type=\"text/css\">\n",
              "#T_a2389 thead>tr>th {\n",
              "  text-align: left;\n",
              "}\n",
              "#T_a2389_row0_col0, #T_a2389_row1_col0, #T_a2389_row2_col0, #T_a2389_row3_col0, #T_a2389_row4_col0, #T_a2389_row5_col0, #T_a2389_row6_col0, #T_a2389_row7_col0, #T_a2389_row8_col0, #T_a2389_row9_col0, #T_a2389_row10_col0 {\n",
              "  text-align: left;\n",
              "  font-size: 12px;\n",
              "  vertical-align: middle;\n",
              "  width: 5%;\n",
              "  max-width: 50px;\n",
              "  min-width: 20px;\n",
              "}\n",
              "#T_a2389_row0_col1, #T_a2389_row1_col1, #T_a2389_row2_col1, #T_a2389_row3_col1, #T_a2389_row4_col1, #T_a2389_row5_col1, #T_a2389_row6_col1, #T_a2389_row7_col1, #T_a2389_row8_col1, #T_a2389_row9_col1, #T_a2389_row10_col1 {\n",
              "  text-align: left;\n",
              "  font-size: 12px;\n",
              "  vertical-align: middle;\n",
              "  width: 15%;\n",
              "  max-width: 200px;\n",
              "  min-width: 100px;\n",
              "  word-break: break-word;\n",
              "}\n",
              "#T_a2389_row0_col2, #T_a2389_row1_col2, #T_a2389_row2_col2, #T_a2389_row3_col2, #T_a2389_row4_col2, #T_a2389_row5_col2, #T_a2389_row6_col2, #T_a2389_row7_col2, #T_a2389_row8_col2, #T_a2389_row9_col2, #T_a2389_row10_col2 {\n",
              "  text-align: left;\n",
              "  font-size: 12px;\n",
              "  vertical-align: middle;\n",
              "  width: 30%;\n",
              "  min-width: 100px;\n",
              "}\n",
              "#T_a2389_row0_col3, #T_a2389_row1_col3, #T_a2389_row2_col3, #T_a2389_row3_col3, #T_a2389_row4_col3, #T_a2389_row5_col3, #T_a2389_row6_col3, #T_a2389_row7_col3, #T_a2389_row8_col3, #T_a2389_row9_col3, #T_a2389_row10_col3 {\n",
              "  text-align: left;\n",
              "  font-size: 12px;\n",
              "  vertical-align: middle;\n",
              "  width: 25%;\n",
              "  min-width: 100px;\n",
              "}\n",
              "#T_a2389_row0_col4, #T_a2389_row1_col4, #T_a2389_row2_col4, #T_a2389_row3_col4, #T_a2389_row4_col4, #T_a2389_row5_col4, #T_a2389_row6_col4, #T_a2389_row7_col4, #T_a2389_row8_col4, #T_a2389_row9_col4, #T_a2389_row10_col4 {\n",
              "  text-align: left;\n",
              "  font-size: 12px;\n",
              "  vertical-align: middle;\n",
              "  width: 20%;\n",
              "  min-width: 150px;\n",
              "}\n",
              "#T_a2389_row0_col5, #T_a2389_row1_col5, #T_a2389_row2_col5, #T_a2389_row3_col5, #T_a2389_row4_col5, #T_a2389_row5_col5, #T_a2389_row6_col5, #T_a2389_row7_col5, #T_a2389_row8_col5, #T_a2389_row9_col5, #T_a2389_row10_col5 {\n",
              "  text-align: left;\n",
              "  font-size: 12px;\n",
              "  vertical-align: middle;\n",
              "  width: 10%;\n",
              "}\n",
              "</style>\n",
              "<table id=\"T_a2389\" class=\"dataframe\">\n",
              "  <caption><strong>Data Frame Summary</strong><br>Tours_Habitat<br>Dimensions: 71,241 x 11<br>Duplicates: 0</caption>\n",
              "  <thead>\n",
              "    <tr>\n",
              "      <th id=\"T_a2389_level0_col0\" class=\"col_heading level0 col0\" >No</th>\n",
              "      <th id=\"T_a2389_level0_col1\" class=\"col_heading level0 col1\" >Variable</th>\n",
              "      <th id=\"T_a2389_level0_col2\" class=\"col_heading level0 col2\" >Stats / Values</th>\n",
              "      <th id=\"T_a2389_level0_col3\" class=\"col_heading level0 col3\" >Freqs / (% of Valid)</th>\n",
              "      <th id=\"T_a2389_level0_col4\" class=\"col_heading level0 col4\" >Graph</th>\n",
              "      <th id=\"T_a2389_level0_col5\" class=\"col_heading level0 col5\" >Missing</th>\n",
              "    </tr>\n",
              "  </thead>\n",
              "  <tbody>\n",
              "    <tr>\n",
              "      <td id=\"T_a2389_row0_col0\" class=\"data row0 col0\" >1</td>\n",
              "      <td id=\"T_a2389_row0_col1\" class=\"data row0 col1\" ><strong>Date</strong><br>[object]</td>\n",
              "      <td id=\"T_a2389_row0_col2\" class=\"data row0 col2\" >1. 2023-01-01 14:15:00<br>2. 2023-01-07 21:00:00<br>3. 2023-01-07 22:00:00<br>4. 2023-04-30 18:00:05<br>5. 2023-06-19 16:00:05<br>6. 2023-05-20 15:00:05<br>7. 2023-08-03 02:00:05<br>8. 2023-05-13 01:00:05<br>9. 2023-06-13 15:00:04<br>10. 2023-05-31 15:13:05<br>11. other</td>\n",
              "      <td id=\"T_a2389_row0_col3\" class=\"data row0 col3\" >17 (0.0%)<br>13 (0.0%)<br>13 (0.0%)<br>11 (0.0%)<br>11 (0.0%)<br>11 (0.0%)<br>11 (0.0%)<br>10 (0.0%)<br>10 (0.0%)<br>10 (0.0%)<br>71,124 (99.8%)</td>\n",
              "      <td id=\"T_a2389_row0_col4\" class=\"data row0 col4\" ><img src = \"data:image/png;base64, iVBORw0KGgoAAAANSUhEUgAAAJsAAAD+CAYAAAAtWHdlAAAAOXRFWHRTb2Z0d2FyZQBNYXRwbG90bGliIHZlcnNpb24zLjguMCwgaHR0cHM6Ly9tYXRwbG90bGliLm9yZy81sbWrAAAACXBIWXMAAA9hAAAPYQGoP6dpAAADLklEQVR4nO3cwY3TYBRG0ecogmFja2QpJUAPKYItvdOFNzCswoIeriVzTgX/4kpPkfxleb1eA4Xb2Q/g/yE2MmIjIzYyYiMjNjJiIyM2MmIjIzYyt2VZvi3L8nb2Q7i+28x8nZnPZz+E63NGyYiNjNjIiI2M2MiIjYzYyIiNjNjIiI2M2MiIjYzYyIiNjNjIiI3MbWZ+zsyfsx/C9S3+xYiKM0pGbGSsq8hYV5FxRsmIjYzYyIiNjNjIiI2M2MiIjYzYyIiNjNjIiI2M2MiIjYzYyBi8kDF4IeOMkhEbGYMXMgYvZJxRMmIjIzYyYiMjNjJiIyM2MmIjIzYyYiMjNjJiIyM2MmIjIzYyBi9kDF7IOKNkxEZGbGSsq8hYV5FxRsmIjYzYyIiNjNjIiI2M2MiIjYzYyIiNjNjIiI2M2MiIjYzYyFhXkbGuIuOMkhEbGYMXMgYvZJxRMmIjIzYyYiMjNjJiIyM2MmIjIzYyYiMjNjJiIyM2MmIjIzYyBi9kDF7IOKNkxEbG4IWMwQsZZ5SM2MiIjYzYyIiNjNjIiI2M2MiIjYzYyIiNjNjIiI2M2MiIjYzYyFhXkbGuIuOMkhEbGesqMtZVZJxRMmIjIzYyYiMjNjJiIyM2MmIjIzYyYiMjNjJiIyM2MmIjIzYyBi9kDF7IOKNkxEbG4IWMwQsZZ5SM2MiIjYzYyIiNjNjIiI2M2MiIjYzYyIiNjNjIiI2M2MiIjYzBCxmDFzLOKBmxkREbGesqMtZVZJxRMmIjIzYyYiMjNjJiIyM2MmIjIzYyYiMjNjJiIyM2MmIjIzYy1lVkrKvIOKNkxEbG4IWMwQsZZ5SM2MiIjYzYyIiNjNjIiI2M2MiIjYzYyIiNjNjIiI2M2MiIjYzBCxmDFzLOKJllZr7MzKezH8L13fd9/76u6/vZD+H67uu6vj+fz9/btn2c/Riu6ziOt/vMzLZtH4/H49fZD+La/EAgIzYyYiMjNjJiIyM2MmIjIzYyYiMjNjJiIyM2MmIjc5/59/nH2Q/h2o7jeFv2ff/h40kKPgsnY11Fxg8EMmIjIzYyYiMjNjJiIyM2MmIjIzYyfwFj50uCzHpkKgAAAABJRU5ErkJggg==\"></img></td>\n",
              "      <td id=\"T_a2389_row0_col5\" class=\"data row0 col5\" >0<br>(0.0%)</td>\n",
              "    </tr>\n",
              "    <tr>\n",
              "      <td id=\"T_a2389_row1_col0\" class=\"data row1 col0\" >2</td>\n",
              "      <td id=\"T_a2389_row1_col1\" class=\"data row1 col1\" ><strong>Équipement</strong><br>[object]</td>\n",
              "      <td id=\"T_a2389_row1_col2\" class=\"data row1 col2\" >1. 1er Etage_120409_FCH<br>2. RDC_12044B_FCH<br>3. RDC_120404_FCH<br>4. RDC_12044E_FCH<br>5. E2_120417_FCH<br>6. E2_1204</td>\n",
              "      <td id=\"T_a2389_row1_col3\" class=\"data row1 col3\" >22,979 (32.3%)<br>13,439 (18.9%)<br>13,199 (18.5%)<br>11,883 (16.7%)<br>9,740 (13.7%)<br>1 (0.0%)</td>\n",
              "      <td id=\"T_a2389_row1_col4\" class=\"data row1 col4\" ><img src = \"data:image/png;base64, iVBORw0KGgoAAAANSUhEUgAAAJsAAACKCAYAAAC96ziyAAAAOXRFWHRTb2Z0d2FyZQBNYXRwbG90bGliIHZlcnNpb24zLjguMCwgaHR0cHM6Ly9tYXRwbG90bGliLm9yZy81sbWrAAAACXBIWXMAAA9hAAAPYQGoP6dpAAAChUlEQVR4nO3bwW0bVxhG0X8Ewok3JAQBKiHpQUWk2BTBItKDIGgWseMNs8jSVhaWeMfynFPBW1y84RDzLZfLZaBws/UB2A+xkREbGbGRWWbm48x82Pogb+DL5XL5tPUheNnh7u7uj+PxeLv1QV5rXdenZVn+FNyP63A8Hm8fHh4+nU6nz1sf5ns9Pz//ej6fbx8fHz/MjNh+UIeZmdPp9Pn+/v7vrQ/zSh+3PgD/zwsCGbGRERsZsZERGxmxkREbGbGRERsZsZERGxmxkREbmcPMf5/obH2Q13jv59+Lw7quT+fz+Xbe+Sc667o+zcyXrc/By3wWTmYxUqay1c3mFtqhTQYvxin7lA9ejFP2a6vBy7t+8+X7+FOXjNjIiI2M2MiIjYzYyIiNjNjIiI2M2MiIjYzYyIiNjNjI5OsqS6j92mRdZQm1TzYIZKyryLjZyFhXkbGuImNdRcafumTERkZsZMRGRmxkxEZGbGTERkZsZMRGRmxkxEZGbGTERsa6iox1FRkbBDLWVWTKm81ttnPZusqiimRdZVHFTLuusqjaOX/qkhEbGbGRERsZsZERGxmxkREbGbGRERsZsZERGxmxkUkGL0YuzISDFyMXfBZOxuCFjBcEMtd6jHpk8pWrrKssqfiWN19XWVLxkmutqyyp+IoXBDJiIyM2MmIjIzYyYiMjNjJiIyM2MmIjIzYyYiMjNjJvvq6ypOIlV1lXWVLxLT4LJ2NdRcYLApmbZVl+X5bFj3qu7mZmfpuZX7Y+CD8/j1EyYiMjNjJiIyM2MmIjIzYyYiMjNjJiIyM2MmIjIzYyYiMjNjJiI3MzM3/NzD9bH4Sfn8ELGY9RMmIjIzYyYiPzLzK+E5Yz14LHAAAAAElFTkSuQmCC\"></img></td>\n",
              "      <td id=\"T_a2389_row1_col5\" class=\"data row1 col5\" >0<br>(0.0%)</td>\n",
              "    </tr>\n",
              "    <tr>\n",
              "      <td id=\"T_a2389_row2_col0\" class=\"data row2 col0\" >3</td>\n",
              "      <td id=\"T_a2389_row2_col1\" class=\"data row2 col1\" ><strong>Commande</strong><br>[object]</td>\n",
              "      <td id=\"T_a2389_row2_col2\" class=\"data row2 col2\" >1.  E2 Tableau Général<br>2.  E1 Tableau général<br>3.  E1 Bureaux<br>4.  E1 Eclairage<br>5.  E1 Circulation<br>6.  RDC S1 cafétériat<br>7.  RDC Armoire5<br>8.  RDC Armoire3<br>9.  RDC TD Chauffage<br>10.  RDC Armoire1<br>11. other</td>\n",
              "      <td id=\"T_a2389_row2_col3\" class=\"data row2 col3\" >9,732 (13.7%)<br>6,455 (9.1%)<br>5,993 (8.4%)<br>5,169 (7.3%)<br>4,686 (6.6%)<br>4,457 (6.3%)<br>4,085 (5.7%)<br>4,081 (5.7%)<br>4,067 (5.7%)<br>4,063 (5.7%)<br>18,453 (25.9%)</td>\n",
              "      <td id=\"T_a2389_row2_col4\" class=\"data row2 col4\" ><img src = \"data:image/png;base64, iVBORw0KGgoAAAANSUhEUgAAAJsAAAD+CAYAAAAtWHdlAAAAOXRFWHRTb2Z0d2FyZQBNYXRwbG90bGliIHZlcnNpb24zLjguMCwgaHR0cHM6Ly9tYXRwbG90bGliLm9yZy81sbWrAAAACXBIWXMAAA9hAAAPYQGoP6dpAAAD8klEQVR4nO3cTWobWQBG0adGhPZEwhi8GC8ii+1FaDfGuAZJ8EQ9aGgyc/1xlSjnLKDw4PJEFe/z4Xq9Dij8des/gD+H2MiIjYzYyIiNjNjIiI2M2MiIjcxhjPEwxviy83M/rtfr952fyW/u+PT09PV0Oj3u+dBpmt4Oh8M/guNnx9Pp9Pjy8vL9fD7/2OOB7+/vf18ul8fX19cvYwyx8b/jGGOcz+cfz8/P33Z87sOOz+JOeEEgIzYyYiMjNjJiIyM2MmIjIzYyYiMjNjJiIyM2MmIjIzYyxzH+u4O21wP3fBb35ThN09vlcnkcO95Bm6bpbYzxsdfzuA82CGQO/mUWlS0nm9OLRVavqyyoWGrVusqCijW2rKssqFjER10yYiMjNjJiIyM2MmIjIzYyYiMjNjJiIyM2MmIjIzYyqwYvRi2ssXrwYtTCUq6FkzF4IbP2ZHOqsdiqwYuxC2ssHrwYu7DW2sGLsQuL+ahLRmxkxEZGbGTERkZsZMRGRmxkxEZGbGTERkZsZMRGZvHgxdiFtVYNXoxdWMO1cDIGL2S8IJBZ+jPq55PVFq2rrKrYYva6yqqKrZauq6yqWM0LAhmxkREbGbGRERsZsZERGxmxkREbGbGRERsZsZERG5nZ6yqrKrZatK6yqmIL18LJWFeRWXKyOdXYZPbgxdiFrWYNXoxd2MOSwYuxC5v4qEtGbGTERkZsZMRGRmxkxEZGbGTERkZsZMRGRmxkxEZm1uDF2IU9zB68GLuwlWvhZAxeyDjZyBi8kDF4IWPwQsZHXTJiIyM2MmIjIzYyYiMjNjJiIyM2MmIjIzYyYiMjNjJiI2NdRca6iowNAhnrKjJzTzanGpvNWldZVrGHT9dVllXsZe66yrKKzXzUJSM2MmIjIzYyYiMjNjJiIyM2MmIjIzYyYiMjNjJiI/Pp4MXYhb3MGrwYu7AH18LJGLyQcbKRMXghY/BCxuCFjI+6ZMRGRmxkxEZGbGTERkZsZMRGRmxkxEZGbGTERkZsZAxeyBi8kHEtnIzBCxkvCGT8jJKxriJjXUXGuoqMFwQyYiMjNjJiIyM2MmIjIzYyYiMjNjJiIyM2MmIjIzYy1lVkrKvIuBZOxrqKjJONjMELGYMXMgYvZHzUJSM2MmIjIzYyYiMjNjJiIyM2MmIjIzYyYiMjNjJiI2PwQsbghYxr4WQMXsjMPdluyal6J2YNXm7J2OZ+fDp4uSVjm/syd/ByS8Y2d8JHXTJiIyM2MmIjIzYyYiMjNjJiIyM2MmIjIzYyYiMjNjKfDl5u6Vf9u1hn1uDlloxt7odr4WQMXsh4QSAjNjJiIyM2MmIjIzYyYiMjNjJiI/MvsPJO4oFurZ0AAAAASUVORK5CYII=\"></img></td>\n",
              "      <td id=\"T_a2389_row2_col5\" class=\"data row2 col5\" >0<br>(0.0%)</td>\n",
              "    </tr>\n",
              "    <tr>\n",
              "      <td id=\"T_a2389_row3_col0\" class=\"data row3 col0\" >4</td>\n",
              "      <td id=\"T_a2389_row3_col1\" class=\"data row3 col1\" ><strong>Valeur</strong><br>[object]</td>\n",
              "      <td id=\"T_a2389_row3_col2\" class=\"data row3 col2\" >1. 0<br>2. 0,010000000<br>3. 0,020000000<br>4. 0,030000000<br>5. 0,040000000<br>6. 0,060000000<br>7. 0,050000000<br>8. 0,070000000<br>9. 0,080000000<br>10. 0,220000000<br>11. other</td>\n",
              "      <td id=\"T_a2389_row3_col3\" class=\"data row3 col3\" >12,738 (17.9%)<br>3,985 (5.6%)<br>2,586 (3.6%)<br>1,806 (2.5%)<br>1,094 (1.5%)<br>1,014 (1.4%)<br>747 (1.0%)<br>532 (0.7%)<br>422 (0.6%)<br>246 (0.3%)<br>46,071 (64.7%)</td>\n",
              "      <td id=\"T_a2389_row3_col4\" class=\"data row3 col4\" ><img src = \"data:image/png;base64, iVBORw0KGgoAAAANSUhEUgAAAJsAAAD+CAYAAAAtWHdlAAAAOXRFWHRTb2Z0d2FyZQBNYXRwbG90bGliIHZlcnNpb24zLjguMCwgaHR0cHM6Ly9tYXRwbG90bGliLm9yZy81sbWrAAAACXBIWXMAAA9hAAAPYQGoP6dpAAAEVUlEQVR4nO3dUU4bVwCG0QuyaHgZy7LEMrIAFsFiuwgvgH0gxDwEygt9CKkahQTUeD5cc84GxlI+Xcej+ycnT09PAwqn7/0B+DjERkZsZMRGRmxkxEZGbGTERkZsZE7GGOdjjLPwmY9PT0/34fM4EKvtdns1TdOmeuA8z7cnJyd/Cu7jWU3TtLm8vLxfr9cPSz/s7u7u026329zc3JyNMcT2wazGGGO9Xj9cXFx8iZ55Hj2HA+MHAhmxkREbGbGRERsZsZERGxmxkREbGbGRERsZsZERGxmxkVmN8fWeWfGw6jkcptU8z7e73W4zontm8zzfjjEei2dxWGwQyJz4J7OovPVkcxrx2960rrKIYh9eXVdZRLEvb11XWUTx27zUJSM2MmIjIzYyYiMjNjJiIyM2MmIjIzYyYiMjNjJiI/Pq4MVIhX150+DFSIV9cC2cjMELmV+dbE4z9uqngxcjF/btxcGLkQtL+NXgxciFvfJSl4zYyIiNjNjIiI2M2MiIjYzYyIiNjNjIiI2M2MiIjcyLgxcjF5bw08GLkQv75lo4GYMXMn4gkHnpa9TXJ4v4YV1lVcVSvltXWVWxpJfWVVZVLMIPBDJiIyM2MmIjIzYyYiMjNjJiIyM2MmIjIzYyYiMjNjLfrausqljSD+sqqyqW4lo4GesqMv8+2ZxoLOqfwYuhC0s7naZp8/nz5/G8sHrtv4KE/+x0jDHOz8//eu8PwvHzUpeM2MiIjYzYyIiNjNjIiI2M2MiIjYzYyIiNjNjIiI3M6Rhj3N/f//HeH4TjdzrP8+319bWhC4tzLZyMwQsZJxsZgxcyBi9kDF7IeKlLRmxkxEZGbGTERkZsZMRGRmxkxEZGbGTERkZsZMRGRmxkrKvIWFeRsUEgY11FxslGxrqKjHUVGesqMl7qkhEbGbGRERsZsZERGxmxkREbGbGRERsZsZERGxmxkTF4IWPwQsa1cDIGL2S+nWzDqcbSVtvt9mqMMYxdWNrpNE0bYxcK3rORERsZsZERGxmxkREbGbGRERsZsZERGxmxkREbGbGRERsZsZFZPQ9dxjB2YWGuhZMxeCHj72xkfI2Ssa4iY11Fxt/ZyIiNjNjIiI2M2MiIjYzYyIiNjNjIiI2M2MiIjYzYyIiNjNjIWFeRcS2cjHUVGScbGYMXMgYvZLz6ICM2MmIjIzYyYiMjNjJiIyM2MmIjIzYyYiMjNjJiIyM2MmIjY/BCxrVwMgYvZL6dbK6EH47HY/2WWW2326vnDQIHYJ7n22MdH62madpcXl7er9frh/f+MB/d3d3dp91ut7m5uTkbYxxfbGOMsV6vHy4uLr6894dhjPH8g+0Yec9GRmxkxEZGbGTERkZsZMRGRmxkxEZGbGTERkZsZMRGZjXG16st7/1BOP4/h9U8z7e73W4zjvhqy//J8wDpKMdHroUfnqO9Fm7wQsYPBDJiIyM2MmIjIzYyYiMjNjJiIyM2Mn8D/enB6Ou5C7UAAAAASUVORK5CYII=\"></img></td>\n",
              "      <td id=\"T_a2389_row3_col5\" class=\"data row3 col5\" >1<br>(0.0%)</td>\n",
              "    </tr>\n",
              "    <tr>\n",
              "      <td id=\"T_a2389_row4_col0\" class=\"data row4 col0\" >5</td>\n",
              "      <td id=\"T_a2389_row4_col1\" class=\"data row4 col1\" ><strong>Unité</strong><br>[object]</td>\n",
              "      <td id=\"T_a2389_row4_col2\" class=\"data row4 col2\" >1. kWh<br>2. nan</td>\n",
              "      <td id=\"T_a2389_row4_col3\" class=\"data row4 col3\" >71,232 (100.0%)<br>9 (0.0%)</td>\n",
              "      <td id=\"T_a2389_row4_col4\" class=\"data row4 col4\" ><img src = \"data:image/png;base64, iVBORw0KGgoAAAANSUhEUgAAAJsAAAAuCAYAAAA/ZmtKAAAAOXRFWHRTb2Z0d2FyZQBNYXRwbG90bGliIHZlcnNpb24zLjguMCwgaHR0cHM6Ly9tYXRwbG90bGliLm9yZy81sbWrAAAACXBIWXMAAA9hAAAPYQGoP6dpAAAA/0lEQVR4nO3bwUkEMQBG4T/DoOslYQlMCdrDFuHV3u0iF11P48EafIHs+yr4Dw9CICnneUYilCQvSZ5mD9H69t77e631OnuI1rfXWq+32+27tXafPUbrGmNc9iRprd2P4/iaPUhr22YP0OMwNmGMTRhjE8bYhDE2YYxNGGMTxtiEMTZhjE0YYxPG2IQxNmGMTZg9+XvYNnuI1jbGuJTe+4fPwkXww4swxa98onhBEGYrpbyVUrwg6N9tSV6TPM8eovV5jApjbMIYmzDGJoyxCWNswhibMMYmjLEJY2zCGJswxiaMsQljbMIYmzDGJoyxCbMl+UzyM3uI1ufvKmF+AXVbGymqDU4XAAAAAElFTkSuQmCC\"></img></td>\n",
              "      <td id=\"T_a2389_row4_col5\" class=\"data row4 col5\" >9<br>(0.0%)</td>\n",
              "    </tr>\n",
              "    <tr>\n",
              "      <td id=\"T_a2389_row5_col0\" class=\"data row5 col0\" >6</td>\n",
              "      <td id=\"T_a2389_row5_col1\" class=\"data row5 col1\" ><strong>date</strong><br>[datetime64[ns]]</td>\n",
              "      <td id=\"T_a2389_row5_col2\" class=\"data row5 col2\" >Min: 2023-01-01<br>Max: 2024-05-09<br>Duration: 494 days</td>\n",
              "      <td id=\"T_a2389_row5_col3\" class=\"data row5 col3\" >446 distinct values</td>\n",
              "      <td id=\"T_a2389_row5_col4\" class=\"data row5 col4\" ><img src = \"data:image/png;base64, iVBORw0KGgoAAAANSUhEUgAAAJsAAABNCAYAAACxBha+AAAAOXRFWHRTb2Z0d2FyZQBNYXRwbG90bGliIHZlcnNpb24zLjguMCwgaHR0cHM6Ly9tYXRwbG90bGliLm9yZy81sbWrAAAACXBIWXMAAA9hAAAPYQGoP6dpAAAC4UlEQVR4nO3dPW/aQBjA8ecgoCNEtngp2bJ0jNQBKUs+QMd+2H6EDgydPXTpxIaELFDcIBxDlyBVKm93hAfj+/9mLvLwVzg/OcdmvV4LoKF26QtAOIgNam4ufQH/Msa0RKTpsbQmIiuPdcv1ev3qsQ4eShObMabV6/W+RVHUcVlXFEUjy7LPd3d3v2u1Wu6ydj6fp8aY7wSnozSxiUgziqLO8/PzaxzHi2MXjcfjTpIkn4bD4a/7+/v02HWz2cyORqPOdDptigixKShTbCIiEsfxYjAY/Dn282matkRE2u2207p3LcfP4wTcIEANsUENsUENsUENsUFN6e5GNRVF0RCRyBjjs5yBsKNgY8uyrJHn+ZeHh4d6vV4/eq63wUDYXbCxLZfLG2vt7XA4XLgMg0UYCPsKNrYNz2GwCANhZ9wgQA2xQQ2xQQ2xQQ2xQQ2xQQ2xQQ2xQQ2xQQ2xQQ2xQQ2xQQ2xQQ2xQQ2xQQ2xQU3whyd9nfD8QrDPLhCbh1OeXwj52QVi8+D7/ELozy4Q2wn4ZzZuuEGAGmKDGmKDGmKDGmKDGu5GlYU8DCY2RaEPg4lNUejDYGK7gFCHwdwgQA2xQQ2xQQ2xQQ03CFeiCvM5YrsCVZnPEdsVqMp8jtiuyLXP54gNW53wVuude0Riw39832otsn+PSGzYxuut1of2iMSGnVzfav1u5x6RoS7UEBvUEBvUEBvUEBvUEBvUEBvUEBvUMNStOM9zcNFqtWp89LUQW4X5noPL89wWRfG4WCx+iIjPK823IrYK8z0HNx6PO0mS3L69vdU/8nqILQCu5+DSND3LGbizxOZ5Fuos+wSUx97YPKOx3W73axzHbZdF59onoDx2xuZ7gC7Pcysij09PTz/7/f782HXn2iegPPb9ZvM6QLeJxlqbl2GfgPI4uGdzPUBHNNiFvyBADbFBzcGv0dlsZl1+4MvLixURybLMTiaT26qtu6Zr1V53qJW/d+KlnnyVpUYAAAAASUVORK5CYII=\"></img></td>\n",
              "      <td id=\"T_a2389_row5_col5\" class=\"data row5 col5\" >0<br>(0.0%)</td>\n",
              "    </tr>\n",
              "    <tr>\n",
              "      <td id=\"T_a2389_row6_col0\" class=\"data row6 col0\" >7</td>\n",
              "      <td id=\"T_a2389_row6_col1\" class=\"data row6 col1\" ><strong>time</strong><br>[object]</td>\n",
              "      <td id=\"T_a2389_row6_col2\" class=\"data row6 col2\" >1. 11:00:05<br>2. 11:00:03<br>3. 17:00:05<br>4. 20:00:05<br>5. 21:00:05<br>6. 10:00:05<br>7. 09:00:05<br>8. 17:00:03<br>9. 15:00:05<br>10. 03:00:05<br>11. other</td>\n",
              "      <td id=\"T_a2389_row6_col3\" class=\"data row6 col3\" >907 (1.3%)<br>866 (1.2%)<br>865 (1.2%)<br>862 (1.2%)<br>857 (1.2%)<br>852 (1.2%)<br>849 (1.2%)<br>849 (1.2%)<br>846 (1.2%)<br>845 (1.2%)<br>62,643 (87.9%)</td>\n",
              "      <td id=\"T_a2389_row6_col4\" class=\"data row6 col4\" ><img src = \"data:image/png;base64, iVBORw0KGgoAAAANSUhEUgAAAJsAAAD+CAYAAAAtWHdlAAAAOXRFWHRTb2Z0d2FyZQBNYXRwbG90bGliIHZlcnNpb24zLjguMCwgaHR0cHM6Ly9tYXRwbG90bGliLm9yZy81sbWrAAAACXBIWXMAAA9hAAAPYQGoP6dpAAADpUlEQVR4nO3cQWobZxyH4b+ESavNCGHwMXwAH6KHzSF0AN/DGM+iSrNRF4HQRaGLTF4F9XkOYGbx8okZvp931+t1oLC/9QPw/yE2MmIjIzYyYiMjNjJiIyM2MmIjs5uZw8x8mpmv1+v1cuPn4Y49PD4+/rEsy2ld1/fdbvdZcPws+2VZTs/Pz7Msy2m+nXDwU+xnZg6Hw1+3fhDunxcEMmIjIzYyYiMjNjJiIyM2MmIjIzYyYiMjNjJiIyM2MmIjs5+ZuVwuv936Qbh/+3Vd319fX2dd1/eZ+XrrB+J+2SCQ2fmXWVScbGSsq8hYV5GxriLjoy4ZsZERGxmxkREbGbGRERsZsZERGxmxkREbGbGRERsZgxcyBi9kXAsnY/BCxslGxuCFjMELGYMXMj7qkhEbGbGRERsZsZERGxmxkREbGbGRERsZsZERGxmxkTF4IWPwQsa1cDIGL2S8IJDxM0rGuoqMdRUZ6yoyXhDIiI2M2MiIjYzYyIiNjNjIiI2M2MiIjYzYyIiNjNjIWFeRsa4i41o4GesqMk42MgYvZAxeyBi8kPFRl4zYyIiNjNjIiI2M2MiIjYzYyIiNjNjIiI2M2MiIjYzBCxmDFzKuhZMxeCHjZCNj8ELG4IWMwQsZH3XJiI2M2MiIjYzYyIiNjNjIiI2M2MiIjYzYyIiNjNjIiI2MdRUZ6yoyNghkrKvIONnIWFeRsa4iY11FxkddMmIjIzYyYiMjNjJiIyM2MmIjIzYyYiMjNjJiIyM2MgYvZAxeyLgWTsbghYyTjYzBCxmDFzIGL2R81CUjNjJiIyM2MmIjIzYyYiMjNjJiIyM2MmIjIzYyYiNj8ELG4IWMa+FkDF7IeEEg42eUjHUVGesqMtZVZLwgkBEbGbGRERsZsZERGxmxkREbGbGRERsZsZERGxmxkbGuImNdRca1cDLWVWScbGQMXsgYvJAxeCHjoy4ZsZERGxmxkREbGbGRERsZsZERGxmxkREbGbGRERsZgxcyBi9kXAsnY/BC5p8nG/ybzX7xvg9etvhj3J8th1APy7KcXl5eLsfj8csWD8f9+Pj4+P18Pp/e3t4+zcyPxzYzczwevzw9Pf35w0/HPTps9Yd81CUjNjJiIyM2MmIjIzYyYiMjNjJiIyM2MmIjIzYyYiPzMPPtKsmtH4Rfz9ZdPKzr+n4+n0+z4VUS7seWQyjXwvkvm10LN3gh4wWBjNjIiI2M2MiIjYzYyIiNjNjIiI3M36Ogt8WFr0P4AAAAAElFTkSuQmCC\"></img></td>\n",
              "      <td id=\"T_a2389_row6_col5\" class=\"data row6 col5\" >0<br>(0.0%)</td>\n",
              "    </tr>\n",
              "    <tr>\n",
              "      <td id=\"T_a2389_row7_col0\" class=\"data row7 col0\" >8</td>\n",
              "      <td id=\"T_a2389_row7_col1\" class=\"data row7 col1\" ><strong>annee</strong><br>[object]</td>\n",
              "      <td id=\"T_a2389_row7_col2\" class=\"data row7 col2\" >1. 2023<br>2. 2024</td>\n",
              "      <td id=\"T_a2389_row7_col3\" class=\"data row7 col3\" >61,746 (86.7%)<br>9,495 (13.3%)</td>\n",
              "      <td id=\"T_a2389_row7_col4\" class=\"data row7 col4\" ><img src = \"data:image/png;base64, iVBORw0KGgoAAAANSUhEUgAAAJsAAAAuCAYAAAA/ZmtKAAAAOXRFWHRTb2Z0d2FyZQBNYXRwbG90bGliIHZlcnNpb24zLjguMCwgaHR0cHM6Ly9tYXRwbG90bGliLm9yZy81sbWrAAAACXBIWXMAAA9hAAAPYQGoP6dpAAABOElEQVR4nO3bQarCMBSF4ZtHkeckoRS6mC7Cxb5FZDelNAMVJ3HwhtLZzdHI/y3g0sGvoPSEWqsBCsHMzmZ2eveD4OM8aq03z4PDNE2XGOPoeRT9K6VsIYQ/z+CGGOO4LMstpXT3Ooq+7fv+m3Me13U9mZlfbGZmKaX7PM9Xr6P4Cmfvgz/eB4EjxAYZYoMMsUGG2CBDbJAhNsgQG2SIDTLEBhligwyxQYbYIENskCE2yAxm/y/LvftB8Dla9TCUUrac82gNXpZDv0opm5k9PG8yeMER98FLYMoHlVbfbO6fCvSvyZSvxQwM/XOf8rWagaF/raZ8/LLFC/7UhQyxQYbYIENskCE2yBAbZIgNMsQGGWKDDLFBhtggQ2yQITbIEBtkiA0y7lM+ZoE40mTK12IGhv4xeIHMEwpbat9AdB4KAAAAAElFTkSuQmCC\"></img></td>\n",
              "      <td id=\"T_a2389_row7_col5\" class=\"data row7 col5\" >0<br>(0.0%)</td>\n",
              "    </tr>\n",
              "    <tr>\n",
              "      <td id=\"T_a2389_row8_col0\" class=\"data row8 col0\" >9</td>\n",
              "      <td id=\"T_a2389_row8_col1\" class=\"data row8 col1\" ><strong>Num_Piece</strong><br>[object]</td>\n",
              "      <td id=\"T_a2389_row8_col2\" class=\"data row8 col2\" >1. 120409<br>2. 12044B<br>3. 120404<br>4. 12044E<br>5. 120417<br>6. 1204</td>\n",
              "      <td id=\"T_a2389_row8_col3\" class=\"data row8 col3\" >22,979 (32.3%)<br>13,439 (18.9%)<br>13,199 (18.5%)<br>11,883 (16.7%)<br>9,740 (13.7%)<br>1 (0.0%)</td>\n",
              "      <td id=\"T_a2389_row8_col4\" class=\"data row8 col4\" ><img src = \"data:image/png;base64, iVBORw0KGgoAAAANSUhEUgAAAJsAAACKCAYAAAC96ziyAAAAOXRFWHRTb2Z0d2FyZQBNYXRwbG90bGliIHZlcnNpb24zLjguMCwgaHR0cHM6Ly9tYXRwbG90bGliLm9yZy81sbWrAAAACXBIWXMAAA9hAAAPYQGoP6dpAAAChUlEQVR4nO3bwW0bVxhG0X8Ewok3JAQBKiHpQUWk2BTBItKDIGgWseMNs8jSVhaWeMfynFPBW1y84RDzLZfLZaBws/UB2A+xkREbGbGRWWbm48x82Pogb+DL5XL5tPUheNnh7u7uj+PxeLv1QV5rXdenZVn+FNyP63A8Hm8fHh4+nU6nz1sf5ns9Pz//ej6fbx8fHz/MjNh+UIeZmdPp9Pn+/v7vrQ/zSh+3PgD/zwsCGbGRERsZsZERGxmxkREbGbGRERsZsZERGxmxkREbmcPMf5/obH2Q13jv59+Lw7quT+fz+Xbe+Sc667o+zcyXrc/By3wWTmYxUqay1c3mFtqhTQYvxin7lA9ejFP2a6vBy7t+8+X7+FOXjNjIiI2M2MiIjYzYyIiNjNjIiI2M2MiIjYzYyIiNjNjI5OsqS6j92mRdZQm1TzYIZKyryLjZyFhXkbGuImNdRcafumTERkZsZMRGRmxkxEZGbGTERkZsZMRGRmxkxEZGbGTERsa6iox1FRkbBDLWVWTKm81ttnPZusqiimRdZVHFTLuusqjaOX/qkhEbGbGRERsZsZERGxmxkREbGbGRERsZsZERGxmxkUkGL0YuzISDFyMXfBZOxuCFjBcEMtd6jHpk8pWrrKssqfiWN19XWVLxkmutqyyp+IoXBDJiIyM2MmIjIzYyYiMjNjJiIyM2MmIjIzYyYiMjNjJvvq6ypOIlV1lXWVLxLT4LJ2NdRcYLApmbZVl+X5bFj3qu7mZmfpuZX7Y+CD8/j1EyYiMjNjJiIyM2MmIjIzYyYiMjNjJiIyM2MmIjIzYyYiMjNjJiI3MzM3/NzD9bH4Sfn8ELGY9RMmIjIzYyYiPzLzK+E5Yz14LHAAAAAElFTkSuQmCC\"></img></td>\n",
              "      <td id=\"T_a2389_row8_col5\" class=\"data row8 col5\" >0<br>(0.0%)</td>\n",
              "    </tr>\n",
              "    <tr>\n",
              "      <td id=\"T_a2389_row9_col0\" class=\"data row9 col0\" >10</td>\n",
              "      <td id=\"T_a2389_row9_col1\" class=\"data row9 col1\" ><strong>Etage</strong><br>[object]</td>\n",
              "      <td id=\"T_a2389_row9_col2\" class=\"data row9 col2\" >1. RDC<br>2. E1<br>3. E2<br>4. nan</td>\n",
              "      <td id=\"T_a2389_row9_col3\" class=\"data row9 col3\" >38,521 (54.1%)<br>22,979 (32.3%)<br>9,740 (13.7%)<br>1 (0.0%)</td>\n",
              "      <td id=\"T_a2389_row9_col4\" class=\"data row9 col4\" ><img src = \"data:image/png;base64, iVBORw0KGgoAAAANSUhEUgAAAJsAAABcCAYAAAB5jMeAAAAAOXRFWHRTb2Z0d2FyZQBNYXRwbG90bGliIHZlcnNpb24zLjguMCwgaHR0cHM6Ly9tYXRwbG90bGliLm9yZy81sbWrAAAACXBIWXMAAA9hAAAPYQGoP6dpAAAB9klEQVR4nO3bQW7aYBSF0WeE0mZiCyFlCe0eWEQX20V4Ed0DQnjQpJm4g8ya0BFcmz/nrOAp+gQx8u3meS5I2Cx9AJ+H2Ijpquqxqh6WPqQhr/M8Py99xBpt9/v9j77vd0sf0oppmk5d1/0U3Hvbvu93h8PheRiGl6WPuXfn8/nrOI674/H4UFVi+8e2qmoYhpenp6ffSx/TiMelD1grDwjEiI0YsREjNmLERozYiBEbMWIjRmzEiI0YsREjNmLERsy26u3VmKUPaYG/4/9tp2k6jeO4K6/GXMU0Taeqel36jjXyWvj1eS38gs6UjxQPCMS09DXq62vlmllXWTWtXxPrKqum+9DSuspPNyvnAYEYsREjNmLERozYiBEbMWIjRmzEiI0YsREjNmLERozYiBEbMU1M+e79/s+imSmfCd362SAQY8pHzK0+2XzK8M5N1lWWTnzk6usqSycuudW66q6fbLkNP+oSIzZixEaM2IgRGzFiI0ZsxIiNGLERIzZixEaM2IgRGzFiI+bq6ypLJy65ybrK0omP2CAQY11FjAcEYjZd133vus4/9dzcpqq+VdWXpQ+hfb5GiREbMWIjRmzEiI0YsREjNmLERozYiBEbMWIjRmzEiI0YsREjNmLERsymqn5V1Z+lD6F9Bi/E+BolRmzE/AWyRaipsI6LpAAAAABJRU5ErkJggg==\"></img></td>\n",
              "      <td id=\"T_a2389_row9_col5\" class=\"data row9 col5\" >0<br>(0.0%)</td>\n",
              "    </tr>\n",
              "    <tr>\n",
              "      <td id=\"T_a2389_row10_col0\" class=\"data row10 col0\" >11</td>\n",
              "      <td id=\"T_a2389_row10_col1\" class=\"data row10 col1\" ><strong>Objets</strong><br>[object]</td>\n",
              "      <td id=\"T_a2389_row10_col2\" class=\"data row10 col2\" >1. Tableau Général<br>2. Tableau général<br>3. Bureaux<br>4. Eclairage<br>5. Circulation<br>6. S1 cafétériat<br>7. Armoire5<br>8. Armoire3<br>9. TD Chauffage<br>10. Armoire1<br>11. other</td>\n",
              "      <td id=\"T_a2389_row10_col3\" class=\"data row10 col3\" >9,732 (13.7%)<br>6,455 (9.1%)<br>5,993 (8.4%)<br>5,169 (7.3%)<br>4,686 (6.6%)<br>4,457 (6.3%)<br>4,085 (5.7%)<br>4,081 (5.7%)<br>4,067 (5.7%)<br>4,063 (5.7%)<br>18,453 (25.9%)</td>\n",
              "      <td id=\"T_a2389_row10_col4\" class=\"data row10 col4\" ><img src = \"data:image/png;base64, iVBORw0KGgoAAAANSUhEUgAAAJsAAAD+CAYAAAAtWHdlAAAAOXRFWHRTb2Z0d2FyZQBNYXRwbG90bGliIHZlcnNpb24zLjguMCwgaHR0cHM6Ly9tYXRwbG90bGliLm9yZy81sbWrAAAACXBIWXMAAA9hAAAPYQGoP6dpAAAD8klEQVR4nO3cTWobWQBG0adGhPZEwhi8GC8ii+1FaDfGuAZJ8EQ9aGgyc/1xlSjnLKDw4PJEFe/z4Xq9Dij8des/gD+H2MiIjYzYyIiNjNjIiI2M2MiIjcxhjPEwxviy83M/rtfr952fyW/u+PT09PV0Oj3u+dBpmt4Oh8M/guNnx9Pp9Pjy8vL9fD7/2OOB7+/vf18ul8fX19cvYwyx8b/jGGOcz+cfz8/P33Z87sOOz+JOeEEgIzYyYiMjNjJiIyM2MmIjIzYyYiMjNjJiIyM2MmIjIzYyxzH+u4O21wP3fBb35ThN09vlcnkcO95Bm6bpbYzxsdfzuA82CGQO/mUWlS0nm9OLRVavqyyoWGrVusqCijW2rKssqFjER10yYiMjNjJiIyM2MmIjIzYyYiMjNjJiIyM2MmIjIzYyqwYvRi2ssXrwYtTCUq6FkzF4IbP2ZHOqsdiqwYuxC2ssHrwYu7DW2sGLsQuL+ahLRmxkxEZGbGTERkZsZMRGRmxkxEZGbGTERkZsZMRGZvHgxdiFtVYNXoxdWMO1cDIGL2S8IJBZ+jPq55PVFq2rrKrYYva6yqqKrZauq6yqWM0LAhmxkREbGbGRERsZsZERGxmxkREbGbGRERsZsZERG5nZ6yqrKrZatK6yqmIL18LJWFeRWXKyOdXYZPbgxdiFrWYNXoxd2MOSwYuxC5v4qEtGbGTERkZsZMRGRmxkxEZGbGTERkZsZMRGRmxkxEZm1uDF2IU9zB68GLuwlWvhZAxeyDjZyBi8kDF4IWPwQsZHXTJiIyM2MmIjIzYyYiMjNjJiIyM2MmIjIzYyYiMjNjJiI2NdRca6iowNAhnrKjJzTzanGpvNWldZVrGHT9dVllXsZe66yrKKzXzUJSM2MmIjIzYyYiMjNjJiIyM2MmIjIzYyYiMjNjJiI/Pp4MXYhb3MGrwYu7AH18LJGLyQcbKRMXghY/BCxuCFjI+6ZMRGRmxkxEZGbGTERkZsZMRGRmxkxEZGbGTERkZsZAxeyBi8kHEtnIzBCxkvCGT8jJKxriJjXUXGuoqMFwQyYiMjNjJiIyM2MmIjIzYyYiMjNjJiIyM2MmIjIzYy1lVkrKvIuBZOxrqKjJONjMELGYMXMgYvZHzUJSM2MmIjIzYyYiMjNjJiIyM2MmIjIzYyYiMjNjJiI2PwQsbghYxr4WQMXsjMPdluyal6J2YNXm7J2OZ+fDp4uSVjm/syd/ByS8Y2d8JHXTJiIyM2MmIjIzYyYiMjNjJiIyM2MmIjIzYyYiMjNjKfDl5u6Vf9u1hn1uDlloxt7odr4WQMXsh4QSAjNjJiIyM2MmIjIzYyYiMjNjJiI/MvsPJO4oFurZ0AAAAASUVORK5CYII=\"></img></td>\n",
              "      <td id=\"T_a2389_row10_col5\" class=\"data row10 col5\" >1<br>(0.0%)</td>\n",
              "    </tr>\n",
              "  </tbody>\n",
              "</table>\n"
            ]
          },
          "metadata": {},
          "execution_count": 92
        }
      ]
    },
    {
      "cell_type": "code",
      "source": [
        "# Trouver toutes les modalités uniques dans la colonne 'Équipement'\n",
        "modalites = Tours_Habitat['Objets'].unique()\n",
        "\n",
        "# Afficher les modalités\n",
        "print(modalites)"
      ],
      "metadata": {
        "colab": {
          "base_uri": "https://localhost:8080/"
        },
        "id": "q9w2zMfInpAQ",
        "outputId": "986c4ecf-9c49-4101-cfb6-392cc4ff2e97"
      },
      "execution_count": 93,
      "outputs": [
        {
          "output_type": "stream",
          "name": "stdout",
          "text": [
            "['Bureaux' 'Circulation' 'Eclairage' 'Seche Main F' 'Seche Main H'\n",
            " 'Tableau général' 'Coffret' 'Tableau Général' 'Armoire1' 'Armoire3'\n",
            " 'Armoire5' 'VMC Ateliers' 'Bureau S6' 'Climatisation' 'Sous-station'\n",
            " 'Tab Lumières Général' 'Ascenseur' 'Rideau d’air chaud' 'S1 cafétériat'\n",
            " 'TD Chauffage' None]\n"
          ]
        }
      ]
    },
    {
      "cell_type": "code",
      "source": [
        "# Fonction de nettoyage améliorée\n",
        "def nettoyer_objets(data):\n",
        "    if isinstance(data, str):  # Vérifie que la donnée est bien une chaîne de caractères\n",
        "        data = data.strip()  # Supprime les espaces au début et à la fin\n",
        "        if data.lower() == 'tableau général':  # Vérifie sans tenir compte des majuscules/minuscules\n",
        "            return 'Tableau Général'\n",
        "        else:\n",
        "            return data  # Retourne la valeur inchangée si elle ne correspond à aucun cas\n",
        "    return data  # Retourne la donnée inchangée si ce n'est pas une chaîne\n",
        "\n",
        "# Appliquer la fonction de nettoyage à la colonne 'Objets'\n",
        "Tours_Habitat['Objets'] = Tours_Habitat['Objets'].apply(nettoyer_objets)\n"
      ],
      "metadata": {
        "id": "J1aMykqJn6Ih"
      },
      "execution_count": 94,
      "outputs": []
    },
    {
      "cell_type": "code",
      "source": [
        "# Fonction de nettoyage pour remplacer les espaces par des underscores\n",
        "def remplacer_espaces(data):\n",
        "    if isinstance(data, str):  # Vérifie que la donnée est une chaîne de caractères\n",
        "        return data.replace(' ', '_')  # Remplace les espaces par des underscores\n",
        "    return data  # Retourne la donnée inchangée si ce n'est pas une chaîne\n",
        "\n",
        "# Appliquer la fonction à la colonne 'Objets'\n",
        "Tours_Habitat['Objets'] = Tours_Habitat['Objets'].apply(remplacer_espaces)\n"
      ],
      "metadata": {
        "id": "VSboti9opucI"
      },
      "execution_count": 95,
      "outputs": []
    },
    {
      "cell_type": "code",
      "source": [
        "# Filtrer les lignes contenant au moins un NaN\n",
        "lignes_avec_nan = Tours_Habitat[Tours_Habitat.isnull().any(axis=1)]\n",
        "\n",
        "# Afficher ces lignes\n",
        "print(lignes_avec_nan)\n"
      ],
      "metadata": {
        "colab": {
          "base_uri": "https://localhost:8080/"
        },
        "id": "I9ndo-Zfqbzl",
        "outputId": "fa696c1c-2aec-4b3d-8014-8e71ad8dd54a"
      },
      "execution_count": 96,
      "outputs": [
        {
          "output_type": "stream",
          "name": "stdout",
          "text": [
            "                      Date     Équipement     Commande       Valeur Unité  \\\n",
            "15375  2023-01-01 14:15:00  E2_120417_FCH   E2 Coffret            0   NaN   \n",
            "15376  2023-01-07 21:00:00  E2_120417_FCH   E2 Coffret            0   NaN   \n",
            "15377  2023-04-20 17:00:04  E2_120417_FCH   E2 Coffret  0,030000000   NaN   \n",
            "15378  2023-04-20 18:00:04  E2_120417_FCH   E2 Coffret            0   NaN   \n",
            "15379  2023-05-31 15:13:04  E2_120417_FCH   E2 Coffret            0   NaN   \n",
            "15380  2023-08-14 22:00:05  E2_120417_FCH   E2 Coffret            0   NaN   \n",
            "15381  2023-10-07 14:00:05  E2_120417_FCH   E2 Coffret            0   NaN   \n",
            "69350  2024-04-05 15:35:42  E2_120417_FCH   E2 Coffret            0   NaN   \n",
            "71240  2024-04-22 00:00:03        E2_1204          nan          NaN   NaN   \n",
            "\n",
            "            date      time annee Num_Piece Etage   Objets  \n",
            "15375 2023-01-01  14:15:00  2023    120417    E2  Coffret  \n",
            "15376 2023-01-07  21:00:00  2023    120417    E2  Coffret  \n",
            "15377 2023-04-20  17:00:04  2023    120417    E2  Coffret  \n",
            "15378 2023-04-20  18:00:04  2023    120417    E2  Coffret  \n",
            "15379 2023-05-31  15:13:04  2023    120417    E2  Coffret  \n",
            "15380 2023-08-14  22:00:05  2023    120417    E2  Coffret  \n",
            "15381 2023-10-07  14:00:05  2023    120417    E2  Coffret  \n",
            "69350 2024-04-05  15:35:42  2024    120417    E2  Coffret  \n",
            "71240 2024-04-22  00:00:03  2024      1204   nan     None  \n"
          ]
        }
      ]
    },
    {
      "cell_type": "markdown",
      "source": [
        "Ici, la donnée \"Coffret\" est unique et a une valeur de 0. La seconde ligne est entièrement vide. Nous allons donc supprimer ces deux lignes, jugées inutiles"
      ],
      "metadata": {
        "id": "W23zC-MPre9D"
      }
    },
    {
      "cell_type": "code",
      "source": [
        "# Supprimer les lignes contenant au moins un NaN\n",
        "Tours_Habitat = Tours_Habitat.dropna()"
      ],
      "metadata": {
        "id": "2xqYAqeNrzfh"
      },
      "execution_count": 97,
      "outputs": []
    },
    {
      "cell_type": "code",
      "source": [
        "# Supprimer l'ancienne colonne\n",
        "Tours_Habitat= Tours_Habitat.drop(columns=['Équipement'])\n"
      ],
      "metadata": {
        "id": "csFGfzjVuS-D"
      },
      "execution_count": 98,
      "outputs": []
    },
    {
      "cell_type": "code",
      "source": [
        "Tours_Habitat= Tours_Habitat.drop(columns=['Commande'])"
      ],
      "metadata": {
        "id": "f35DAR2H2nJy"
      },
      "execution_count": 99,
      "outputs": []
    },
    {
      "cell_type": "code",
      "source": [
        "# Filtrer les lignes où la colonne 'Unité' contient la valeur 'k'\n",
        "ligne_k = Tours_Habitat[Tours_Habitat['Unité'] == 'k']\n",
        "\n",
        "# Afficher la ligne\n",
        "print(ligne_k)\n"
      ],
      "metadata": {
        "colab": {
          "base_uri": "https://localhost:8080/"
        },
        "id": "FXUyn9Eq5ZFP",
        "outputId": "4449aad7-bac2-4674-edb2-ae8a56533767"
      },
      "execution_count": 100,
      "outputs": [
        {
          "output_type": "stream",
          "name": "stdout",
          "text": [
            "Empty DataFrame\n",
            "Columns: [Date, Valeur, Unité, date, time, annee, Num_Piece, Etage, Objets]\n",
            "Index: []\n"
          ]
        }
      ]
    },
    {
      "cell_type": "markdown",
      "source": [],
      "metadata": {
        "id": "fT0kzXky2dHp"
      }
    },
    {
      "cell_type": "code",
      "source": [
        "Tours_Habitat['Valeur'] = pd.to_numeric(Tours_Habitat['Valeur'].str.replace(',', '.'), errors='coerce')"
      ],
      "metadata": {
        "id": "Xvk2ZYTHxGXQ"
      },
      "execution_count": 101,
      "outputs": []
    },
    {
      "cell_type": "code",
      "source": [
        "msno.matrix(Tours_Habitat)"
      ],
      "metadata": {
        "colab": {
          "base_uri": "https://localhost:8080/",
          "height": 456
        },
        "id": "mF_X9gKaWQJk",
        "outputId": "24ca0b93-6bc8-4e00-d366-2ca2a8c1b2aa"
      },
      "execution_count": 102,
      "outputs": [
        {
          "output_type": "execute_result",
          "data": {
            "text/plain": [
              "<Axes: >"
            ]
          },
          "metadata": {},
          "execution_count": 102
        },
        {
          "output_type": "display_data",
          "data": {
            "text/plain": [
              "<Figure size 2500x1000 with 2 Axes>"
            ],
            "image/png": "[encoded data removed]"
          },
          "metadata": {}
        }
      ]
    },
    {
      "cell_type": "code",
      "source": [
        "# Vérifier les types de données pour validation\n",
        "print(Tours_Habitat.info())"
      ],
      "metadata": {
        "colab": {
          "base_uri": "https://localhost:8080/"
        },
        "id": "_E-x2UlXVZGG",
        "outputId": "b5d0e927-8a44-473e-b6b6-30a45b9ee3e5"
      },
      "execution_count": 103,
      "outputs": [
        {
          "output_type": "stream",
          "name": "stdout",
          "text": [
            "<class 'pandas.core.frame.DataFrame'>\n",
            "Index: 71232 entries, 0 to 71239\n",
            "Data columns (total 9 columns):\n",
            " #   Column     Non-Null Count  Dtype         \n",
            "---  ------     --------------  -----         \n",
            " 0   Date       71232 non-null  object        \n",
            " 1   Valeur     71232 non-null  float64       \n",
            " 2   Unité      71232 non-null  object        \n",
            " 3   date       71232 non-null  datetime64[ns]\n",
            " 4   time       71232 non-null  object        \n",
            " 5   annee      71232 non-null  object        \n",
            " 6   Num_Piece  71232 non-null  object        \n",
            " 7   Etage      71232 non-null  object        \n",
            " 8   Objets     71232 non-null  object        \n",
            "dtypes: datetime64[ns](1), float64(1), object(7)\n",
            "memory usage: 5.4+ MB\n",
            "None\n"
          ]
        }
      ]
    },
    {
      "cell_type": "markdown",
      "source": [
        "Rapport des données nettoyées :"
      ],
      "metadata": {
        "id": "rQFx7KXZwGdU"
      }
    },
    {
      "cell_type": "code",
      "source": [
        "my_report = sv.analyze(Tours_Habitat)"
      ],
      "metadata": {
        "colab": {
          "base_uri": "https://localhost:8080/",
          "height": 49,
          "referenced_widgets": [
            "336bcff90d3b4e2ab607ec9b1ea00ab0",
            "3197b229f8294857bb61a382889f45d2",
            "73c8491c1e0a4ef1ba4cdb8e78844d97",
            "413786fe09904aa3af8c10c7fc6d74da",
            "a0acd887658b4b048119a2c99fc542c7",
            "901916f8021e49b3a13795b940041bd7",
            "e165e58749ab4783a44e6b72f114aa47",
            "41ef8d652b0e47a888e08ba3adc680b2",
            "cec393e3a9fc4936ad4160bc5839d4e1",
            "7b56bfee40074e0f80c223bb308cb389",
            "94495f78f8414a539a1ff48838a8c020"
          ]
        },
        "id": "pTUJAfdrINeu",
        "outputId": "85d722d7-d719-4a95-b279-da89523e7f37"
      },
      "execution_count": 104,
      "outputs": [
        {
          "output_type": "display_data",
          "data": {
            "text/plain": [
              "                                             |          | [  0%]   00:00 -> (? left)"
            ],
            "application/vnd.jupyter.widget-view+json": {
              "version_major": 2,
              "version_minor": 0,
              "model_id": "336bcff90d3b4e2ab607ec9b1ea00ab0"
            }
          },
          "metadata": {}
        }
      ]
    },
    {
      "cell_type": "code",
      "source": [
        "my_report.show_html()"
      ],
      "metadata": {
        "colab": {
          "base_uri": "https://localhost:8080/"
        },
        "id": "gLrVj2HXIdSP",
        "outputId": "fe575372-d4ee-4249-8bdd-b675ee7b04f3"
      },
      "execution_count": 105,
      "outputs": [
        {
          "output_type": "stream",
          "name": "stdout",
          "text": [
            "Report SWEETVIZ_REPORT.html was generated! NOTEBOOK/COLAB USERS: the web browser MAY not pop up, regardless, the report IS saved in your notebook/colab files.\n"
          ]
        }
      ]
    },
    {
      "cell_type": "markdown",
      "source": [
        "# Nouvelle section"
      ],
      "metadata": {
        "id": "mH0EqUNP3mUi"
      }
    },
    {
      "cell_type": "markdown",
      "source": [
        "Rapport des données de Tours Habitat, binaire entre les Années."
      ],
      "metadata": {
        "id": "ll6OYtD_WOZn"
      }
    },
    {
      "cell_type": "code",
      "source": [
        "my_report = sv.compare_intra(Tours_Habitat, Tours_Habitat[\"annee\"] == \"2024\", [\"2024\", \"2023\"])"
      ],
      "metadata": {
        "colab": {
          "base_uri": "https://localhost:8080/",
          "height": 49,
          "referenced_widgets": [
            "1c32fe680229476580ae914a9f2a9e1e",
            "c714f41b239c408b833089279a1ae59a",
            "3a383d5af7ab472e8b447500171b8c29",
            "b990d6c7df4f4754a76c8b51d0ca10fe",
            "acaba2388a9843519f83f60895d14c63",
            "e42d039b0afa42838cafa4f4e3d3aa1a",
            "00e6abee309a479e9faf80bbb95a7037",
            "f08619e5ace14d13828981c349879419",
            "532f211666634cbc8a3df9cc156373f1",
            "879d36b23430472eb7ec6ae49dff2ebf",
            "5015294e9e584e168e6b635e9e773a28"
          ]
        },
        "id": "OKJkdBIewU39",
        "outputId": "e4493bef-6c2e-402c-d399-5c22b8ba9613"
      },
      "execution_count": 107,
      "outputs": [
        {
          "output_type": "display_data",
          "data": {
            "text/plain": [
              "                                             |          | [  0%]   00:00 -> (? left)"
            ],
            "application/vnd.jupyter.widget-view+json": {
              "version_major": 2,
              "version_minor": 0,
              "model_id": "1c32fe680229476580ae914a9f2a9e1e"
            }
          },
          "metadata": {}
        }
      ]
    },
    {
      "cell_type": "code",
      "source": [
        "my_report.show_html()"
      ],
      "metadata": {
        "colab": {
          "base_uri": "https://localhost:8080/"
        },
        "id": "1binqv_7SuHN",
        "outputId": "88116e99-c85e-4722-b262-af01b2b5e01b"
      },
      "execution_count": 108,
      "outputs": [
        {
          "output_type": "stream",
          "name": "stdout",
          "text": [
            "Report SWEETVIZ_REPORT.html was generated! NOTEBOOK/COLAB USERS: the web browser MAY not pop up, regardless, the report IS saved in your notebook/colab files.\n"
          ]
        }
      ]
    }
  ]
}