{
  "nbformat": 4,
  "nbformat_minor": 0,
  "metadata": {
    "colab": {
      "provenance": [],
      "authorship_tag": "ABX9TyN4EXUKl45RstNlWlW/6lse",
      "include_colab_link": true
    },
    "kernelspec": {
      "name": "python3",
      "display_name": "Python 3"
    },
    "language_info": {
      "name": "python"
    },
    "widgets": {
      "application/vnd.jupyter.widget-state+json": {
        "ffc0c137de11402f907b199469918ac9": {
          "model_module": "@jupyter-widgets/controls",
          "model_name": "HBoxModel",
          "model_module_version": "1.5.0",
          "state": {
            "_dom_classes": [],
            "_model_module": "@jupyter-widgets/controls",
            "_model_module_version": "1.5.0",
            "_model_name": "HBoxModel",
            "_view_count": null,
            "_view_module": "@jupyter-widgets/controls",
            "_view_module_version": "1.5.0",
            "_view_name": "HBoxView",
            "box_style": "",
            "children": [
              "IPY_MODEL_e9fab9bec0454cd883a69aedd305313f",
              "IPY_MODEL_490dc0c2054d4c94af64b4388137ca39",
              "IPY_MODEL_72d2389ad6e24e95bb14a5ec8e4fd5dc"
            ],
            "layout": "IPY_MODEL_0ead9e762b2343679028b221e04f6257"
          }
        },
        "e9fab9bec0454cd883a69aedd305313f": {
          "model_module": "@jupyter-widgets/controls",
          "model_name": "HTMLModel",
          "model_module_version": "1.5.0",
          "state": {
            "_dom_classes": [],
            "_model_module": "@jupyter-widgets/controls",
            "_model_module_version": "1.5.0",
            "_model_name": "HTMLModel",
            "_view_count": null,
            "_view_module": "@jupyter-widgets/controls",
            "_view_module_version": "1.5.0",
            "_view_name": "HTMLView",
            "description": "",
            "description_tooltip": null,
            "layout": "IPY_MODEL_1a24430a937042c48a3732e54dc4df5f",
            "placeholder": "​",
            "style": "IPY_MODEL_e970a25157ad48f680a470bab1fd7d94",
            "value": "Done! Use &#x27;show&#x27; commands to display/save.   "
          }
        },
        "490dc0c2054d4c94af64b4388137ca39": {
          "model_module": "@jupyter-widgets/controls",
          "model_name": "FloatProgressModel",
          "model_module_version": "1.5.0",
          "state": {
            "_dom_classes": [],
            "_model_module": "@jupyter-widgets/controls",
            "_model_module_version": "1.5.0",
            "_model_name": "FloatProgressModel",
            "_view_count": null,
            "_view_module": "@jupyter-widgets/controls",
            "_view_module_version": "1.5.0",
            "_view_name": "ProgressView",
            "bar_style": "success",
            "description": "",
            "description_tooltip": null,
            "layout": "IPY_MODEL_29ffb3a5b37c4721903a1e9b692cedfb",
            "max": 1,
            "min": 0,
            "orientation": "horizontal",
            "style": "IPY_MODEL_dcaa3bce0aff4668a4428c3e75afaf0f",
            "value": 1
          }
        },
        "72d2389ad6e24e95bb14a5ec8e4fd5dc": {
          "model_module": "@jupyter-widgets/controls",
          "model_name": "HTMLModel",
          "model_module_version": "1.5.0",
          "state": {
            "_dom_classes": [],
            "_model_module": "@jupyter-widgets/controls",
            "_model_module_version": "1.5.0",
            "_model_name": "HTMLModel",
            "_view_count": null,
            "_view_module": "@jupyter-widgets/controls",
            "_view_module_version": "1.5.0",
            "_view_name": "HTMLView",
            "description": "",
            "description_tooltip": null,
            "layout": "IPY_MODEL_b16846be49e3468b99de2cfb6690db1c",
            "placeholder": "​",
            "style": "IPY_MODEL_a0670a3a3e8e4b268ad63994864c9e22",
            "value": " [100%]   00:00 -&gt; (00:00 left)"
          }
        },
        "0ead9e762b2343679028b221e04f6257": {
          "model_module": "@jupyter-widgets/base",
          "model_name": "LayoutModel",
          "model_module_version": "1.2.0",
          "state": {
            "_model_module": "@jupyter-widgets/base",
            "_model_module_version": "1.2.0",
            "_model_name": "LayoutModel",
            "_view_count": null,
            "_view_module": "@jupyter-widgets/base",
            "_view_module_version": "1.2.0",
            "_view_name": "LayoutView",
            "align_content": null,
            "align_items": null,
            "align_self": null,
            "border": null,
            "bottom": null,
            "display": "inline-flex",
            "flex": null,
            "flex_flow": "row wrap",
            "grid_area": null,
            "grid_auto_columns": null,
            "grid_auto_flow": null,
            "grid_auto_rows": null,
            "grid_column": null,
            "grid_gap": null,
            "grid_row": null,
            "grid_template_areas": null,
            "grid_template_columns": null,
            "grid_template_rows": null,
            "height": null,
            "justify_content": null,
            "justify_items": null,
            "left": null,
            "margin": null,
            "max_height": null,
            "max_width": null,
            "min_height": null,
            "min_width": null,
            "object_fit": null,
            "object_position": null,
            "order": null,
            "overflow": null,
            "overflow_x": null,
            "overflow_y": null,
            "padding": null,
            "right": null,
            "top": null,
            "visibility": null,
            "width": "100%"
          }
        },
        "1a24430a937042c48a3732e54dc4df5f": {
          "model_module": "@jupyter-widgets/base",
          "model_name": "LayoutModel",
          "model_module_version": "1.2.0",
          "state": {
            "_model_module": "@jupyter-widgets/base",
            "_model_module_version": "1.2.0",
            "_model_name": "LayoutModel",
            "_view_count": null,
            "_view_module": "@jupyter-widgets/base",
            "_view_module_version": "1.2.0",
            "_view_name": "LayoutView",
            "align_content": null,
            "align_items": null,
            "align_self": null,
            "border": null,
            "bottom": null,
            "display": null,
            "flex": null,
            "flex_flow": null,
            "grid_area": null,
            "grid_auto_columns": null,
            "grid_auto_flow": null,
            "grid_auto_rows": null,
            "grid_column": null,
            "grid_gap": null,
            "grid_row": null,
            "grid_template_areas": null,
            "grid_template_columns": null,
            "grid_template_rows": null,
            "height": null,
            "justify_content": null,
            "justify_items": null,
            "left": null,
            "margin": null,
            "max_height": null,
            "max_width": null,
            "min_height": null,
            "min_width": null,
            "object_fit": null,
            "object_position": null,
            "order": null,
            "overflow": null,
            "overflow_x": null,
            "overflow_y": null,
            "padding": null,
            "right": null,
            "top": null,
            "visibility": null,
            "width": null
          }
        },
        "e970a25157ad48f680a470bab1fd7d94": {
          "model_module": "@jupyter-widgets/controls",
          "model_name": "DescriptionStyleModel",
          "model_module_version": "1.5.0",
          "state": {
            "_model_module": "@jupyter-widgets/controls",
            "_model_module_version": "1.5.0",
            "_model_name": "DescriptionStyleModel",
            "_view_count": null,
            "_view_module": "@jupyter-widgets/base",
            "_view_module_version": "1.2.0",
            "_view_name": "StyleView",
            "description_width": ""
          }
        },
        "29ffb3a5b37c4721903a1e9b692cedfb": {
          "model_module": "@jupyter-widgets/base",
          "model_name": "LayoutModel",
          "model_module_version": "1.2.0",
          "state": {
            "_model_module": "@jupyter-widgets/base",
            "_model_module_version": "1.2.0",
            "_model_name": "LayoutModel",
            "_view_count": null,
            "_view_module": "@jupyter-widgets/base",
            "_view_module_version": "1.2.0",
            "_view_name": "LayoutView",
            "align_content": null,
            "align_items": null,
            "align_self": null,
            "border": null,
            "bottom": null,
            "display": null,
            "flex": "2",
            "flex_flow": null,
            "grid_area": null,
            "grid_auto_columns": null,
            "grid_auto_flow": null,
            "grid_auto_rows": null,
            "grid_column": null,
            "grid_gap": null,
            "grid_row": null,
            "grid_template_areas": null,
            "grid_template_columns": null,
            "grid_template_rows": null,
            "height": null,
            "justify_content": null,
            "justify_items": null,
            "left": null,
            "margin": null,
            "max_height": null,
            "max_width": null,
            "min_height": null,
            "min_width": null,
            "object_fit": null,
            "object_position": null,
            "order": null,
            "overflow": null,
            "overflow_x": null,
            "overflow_y": null,
            "padding": null,
            "right": null,
            "top": null,
            "visibility": null,
            "width": null
          }
        },
        "dcaa3bce0aff4668a4428c3e75afaf0f": {
          "model_module": "@jupyter-widgets/controls",
          "model_name": "ProgressStyleModel",
          "model_module_version": "1.5.0",
          "state": {
            "_model_module": "@jupyter-widgets/controls",
            "_model_module_version": "1.5.0",
            "_model_name": "ProgressStyleModel",
            "_view_count": null,
            "_view_module": "@jupyter-widgets/base",
            "_view_module_version": "1.2.0",
            "_view_name": "StyleView",
            "bar_color": null,
            "description_width": ""
          }
        },
        "b16846be49e3468b99de2cfb6690db1c": {
          "model_module": "@jupyter-widgets/base",
          "model_name": "LayoutModel",
          "model_module_version": "1.2.0",
          "state": {
            "_model_module": "@jupyter-widgets/base",
            "_model_module_version": "1.2.0",
            "_model_name": "LayoutModel",
            "_view_count": null,
            "_view_module": "@jupyter-widgets/base",
            "_view_module_version": "1.2.0",
            "_view_name": "LayoutView",
            "align_content": null,
            "align_items": null,
            "align_self": null,
            "border": null,
            "bottom": null,
            "display": null,
            "flex": null,
            "flex_flow": null,
            "grid_area": null,
            "grid_auto_columns": null,
            "grid_auto_flow": null,
            "grid_auto_rows": null,
            "grid_column": null,
            "grid_gap": null,
            "grid_row": null,
            "grid_template_areas": null,
            "grid_template_columns": null,
            "grid_template_rows": null,
            "height": null,
            "justify_content": null,
            "justify_items": null,
            "left": null,
            "margin": null,
            "max_height": null,
            "max_width": null,
            "min_height": null,
            "min_width": null,
            "object_fit": null,
            "object_position": null,
            "order": null,
            "overflow": null,
            "overflow_x": null,
            "overflow_y": null,
            "padding": null,
            "right": null,
            "top": null,
            "visibility": null,
            "width": null
          }
        },
        "a0670a3a3e8e4b268ad63994864c9e22": {
          "model_module": "@jupyter-widgets/controls",
          "model_name": "DescriptionStyleModel",
          "model_module_version": "1.5.0",
          "state": {
            "_model_module": "@jupyter-widgets/controls",
            "_model_module_version": "1.5.0",
            "_model_name": "DescriptionStyleModel",
            "_view_count": null,
            "_view_module": "@jupyter-widgets/base",
            "_view_module_version": "1.2.0",
            "_view_name": "StyleView",
            "description_width": ""
          }
        },
        "579b8ebcf0604972b30de2b9424b5ec7": {
          "model_module": "@jupyter-widgets/controls",
          "model_name": "HBoxModel",
          "model_module_version": "1.5.0",
          "state": {
            "_dom_classes": [],
            "_model_module": "@jupyter-widgets/controls",
            "_model_module_version": "1.5.0",
            "_model_name": "HBoxModel",
            "_view_count": null,
            "_view_module": "@jupyter-widgets/controls",
            "_view_module_version": "1.5.0",
            "_view_name": "HBoxView",
            "box_style": "",
            "children": [
              "IPY_MODEL_841eb30be1e3448d83c8239363506d81",
              "IPY_MODEL_b07a8202fb884831951b67fb9e6b2d3f",
              "IPY_MODEL_4f3eec60ede54e6395925e7cebc39319"
            ],
            "layout": "IPY_MODEL_5dd5ca1876fd4a269a9aaab1770c2b7a"
          }
        },
        "841eb30be1e3448d83c8239363506d81": {
          "model_module": "@jupyter-widgets/controls",
          "model_name": "HTMLModel",
          "model_module_version": "1.5.0",
          "state": {
            "_dom_classes": [],
            "_model_module": "@jupyter-widgets/controls",
            "_model_module_version": "1.5.0",
            "_model_name": "HTMLModel",
            "_view_count": null,
            "_view_module": "@jupyter-widgets/controls",
            "_view_module_version": "1.5.0",
            "_view_name": "HTMLView",
            "description": "",
            "description_tooltip": null,
            "layout": "IPY_MODEL_8f449338fa1b408692ca8188cd672d96",
            "placeholder": "​",
            "style": "IPY_MODEL_1176e6a9c1e543608ce06655bbfcdbf4",
            "value": "Done! Use &#x27;show&#x27; commands to display/save.   "
          }
        },
        "b07a8202fb884831951b67fb9e6b2d3f": {
          "model_module": "@jupyter-widgets/controls",
          "model_name": "FloatProgressModel",
          "model_module_version": "1.5.0",
          "state": {
            "_dom_classes": [],
            "_model_module": "@jupyter-widgets/controls",
            "_model_module_version": "1.5.0",
            "_model_name": "FloatProgressModel",
            "_view_count": null,
            "_view_module": "@jupyter-widgets/controls",
            "_view_module_version": "1.5.0",
            "_view_name": "ProgressView",
            "bar_style": "success",
            "description": "",
            "description_tooltip": null,
            "layout": "IPY_MODEL_d0ba7c22fbcb4df0a22a0551590c5982",
            "max": 1,
            "min": 0,
            "orientation": "horizontal",
            "style": "IPY_MODEL_561ef3ae78e84696aa24255b4583d3c9",
            "value": 1
          }
        },
        "4f3eec60ede54e6395925e7cebc39319": {
          "model_module": "@jupyter-widgets/controls",
          "model_name": "HTMLModel",
          "model_module_version": "1.5.0",
          "state": {
            "_dom_classes": [],
            "_model_module": "@jupyter-widgets/controls",
            "_model_module_version": "1.5.0",
            "_model_name": "HTMLModel",
            "_view_count": null,
            "_view_module": "@jupyter-widgets/controls",
            "_view_module_version": "1.5.0",
            "_view_name": "HTMLView",
            "description": "",
            "description_tooltip": null,
            "layout": "IPY_MODEL_02dfc54ada5f4b768639ce22886b9283",
            "placeholder": "​",
            "style": "IPY_MODEL_ee855aeb469a4ddbae10640945bfe34a",
            "value": " [100%]   00:01 -&gt; (00:00 left)"
          }
        },
        "5dd5ca1876fd4a269a9aaab1770c2b7a": {
          "model_module": "@jupyter-widgets/base",
          "model_name": "LayoutModel",
          "model_module_version": "1.2.0",
          "state": {
            "_model_module": "@jupyter-widgets/base",
            "_model_module_version": "1.2.0",
            "_model_name": "LayoutModel",
            "_view_count": null,
            "_view_module": "@jupyter-widgets/base",
            "_view_module_version": "1.2.0",
            "_view_name": "LayoutView",
            "align_content": null,
            "align_items": null,
            "align_self": null,
            "border": null,
            "bottom": null,
            "display": "inline-flex",
            "flex": null,
            "flex_flow": "row wrap",
            "grid_area": null,
            "grid_auto_columns": null,
            "grid_auto_flow": null,
            "grid_auto_rows": null,
            "grid_column": null,
            "grid_gap": null,
            "grid_row": null,
            "grid_template_areas": null,
            "grid_template_columns": null,
            "grid_template_rows": null,
            "height": null,
            "justify_content": null,
            "justify_items": null,
            "left": null,
            "margin": null,
            "max_height": null,
            "max_width": null,
            "min_height": null,
            "min_width": null,
            "object_fit": null,
            "object_position": null,
            "order": null,
            "overflow": null,
            "overflow_x": null,
            "overflow_y": null,
            "padding": null,
            "right": null,
            "top": null,
            "visibility": null,
            "width": "100%"
          }
        },
        "8f449338fa1b408692ca8188cd672d96": {
          "model_module": "@jupyter-widgets/base",
          "model_name": "LayoutModel",
          "model_module_version": "1.2.0",
          "state": {
            "_model_module": "@jupyter-widgets/base",
            "_model_module_version": "1.2.0",
            "_model_name": "LayoutModel",
            "_view_count": null,
            "_view_module": "@jupyter-widgets/base",
            "_view_module_version": "1.2.0",
            "_view_name": "LayoutView",
            "align_content": null,
            "align_items": null,
            "align_self": null,
            "border": null,
            "bottom": null,
            "display": null,
            "flex": null,
            "flex_flow": null,
            "grid_area": null,
            "grid_auto_columns": null,
            "grid_auto_flow": null,
            "grid_auto_rows": null,
            "grid_column": null,
            "grid_gap": null,
            "grid_row": null,
            "grid_template_areas": null,
            "grid_template_columns": null,
            "grid_template_rows": null,
            "height": null,
            "justify_content": null,
            "justify_items": null,
            "left": null,
            "margin": null,
            "max_height": null,
            "max_width": null,
            "min_height": null,
            "min_width": null,
            "object_fit": null,
            "object_position": null,
            "order": null,
            "overflow": null,
            "overflow_x": null,
            "overflow_y": null,
            "padding": null,
            "right": null,
            "top": null,
            "visibility": null,
            "width": null
          }
        },
        "1176e6a9c1e543608ce06655bbfcdbf4": {
          "model_module": "@jupyter-widgets/controls",
          "model_name": "DescriptionStyleModel",
          "model_module_version": "1.5.0",
          "state": {
            "_model_module": "@jupyter-widgets/controls",
            "_model_module_version": "1.5.0",
            "_model_name": "DescriptionStyleModel",
            "_view_count": null,
            "_view_module": "@jupyter-widgets/base",
            "_view_module_version": "1.2.0",
            "_view_name": "StyleView",
            "description_width": ""
          }
        },
        "d0ba7c22fbcb4df0a22a0551590c5982": {
          "model_module": "@jupyter-widgets/base",
          "model_name": "LayoutModel",
          "model_module_version": "1.2.0",
          "state": {
            "_model_module": "@jupyter-widgets/base",
            "_model_module_version": "1.2.0",
            "_model_name": "LayoutModel",
            "_view_count": null,
            "_view_module": "@jupyter-widgets/base",
            "_view_module_version": "1.2.0",
            "_view_name": "LayoutView",
            "align_content": null,
            "align_items": null,
            "align_self": null,
            "border": null,
            "bottom": null,
            "display": null,
            "flex": "2",
            "flex_flow": null,
            "grid_area": null,
            "grid_auto_columns": null,
            "grid_auto_flow": null,
            "grid_auto_rows": null,
            "grid_column": null,
            "grid_gap": null,
            "grid_row": null,
            "grid_template_areas": null,
            "grid_template_columns": null,
            "grid_template_rows": null,
            "height": null,
            "justify_content": null,
            "justify_items": null,
            "left": null,
            "margin": null,
            "max_height": null,
            "max_width": null,
            "min_height": null,
            "min_width": null,
            "object_fit": null,
            "object_position": null,
            "order": null,
            "overflow": null,
            "overflow_x": null,
            "overflow_y": null,
            "padding": null,
            "right": null,
            "top": null,
            "visibility": null,
            "width": null
          }
        },
        "561ef3ae78e84696aa24255b4583d3c9": {
          "model_module": "@jupyter-widgets/controls",
          "model_name": "ProgressStyleModel",
          "model_module_version": "1.5.0",
          "state": {
            "_model_module": "@jupyter-widgets/controls",
            "_model_module_version": "1.5.0",
            "_model_name": "ProgressStyleModel",
            "_view_count": null,
            "_view_module": "@jupyter-widgets/base",
            "_view_module_version": "1.2.0",
            "_view_name": "StyleView",
            "bar_color": null,
            "description_width": ""
          }
        },
        "02dfc54ada5f4b768639ce22886b9283": {
          "model_module": "@jupyter-widgets/base",
          "model_name": "LayoutModel",
          "model_module_version": "1.2.0",
          "state": {
            "_model_module": "@jupyter-widgets/base",
            "_model_module_version": "1.2.0",
            "_model_name": "LayoutModel",
            "_view_count": null,
            "_view_module": "@jupyter-widgets/base",
            "_view_module_version": "1.2.0",
            "_view_name": "LayoutView",
            "align_content": null,
            "align_items": null,
            "align_self": null,
            "border": null,
            "bottom": null,
            "display": null,
            "flex": null,
            "flex_flow": null,
            "grid_area": null,
            "grid_auto_columns": null,
            "grid_auto_flow": null,
            "grid_auto_rows": null,
            "grid_column": null,
            "grid_gap": null,
            "grid_row": null,
            "grid_template_areas": null,
            "grid_template_columns": null,
            "grid_template_rows": null,
            "height": null,
            "justify_content": null,
            "justify_items": null,
            "left": null,
            "margin": null,
            "max_height": null,
            "max_width": null,
            "min_height": null,
            "min_width": null,
            "object_fit": null,
            "object_position": null,
            "order": null,
            "overflow": null,
            "overflow_x": null,
            "overflow_y": null,
            "padding": null,
            "right": null,
            "top": null,
            "visibility": null,
            "width": null
          }
        },
        "ee855aeb469a4ddbae10640945bfe34a": {
          "model_module": "@jupyter-widgets/controls",
          "model_name": "DescriptionStyleModel",
          "model_module_version": "1.5.0",
          "state": {
            "_model_module": "@jupyter-widgets/controls",
            "_model_module_version": "1.5.0",
            "_model_name": "DescriptionStyleModel",
            "_view_count": null,
            "_view_module": "@jupyter-widgets/base",
            "_view_module_version": "1.2.0",
            "_view_name": "StyleView",
            "description_width": ""
          }
        }
      }
    }
  },
  "cells": [
    {
      "cell_type": "markdown",
      "metadata": {
        "id": "view-in-github",
        "colab_type": "text"
      },
      "source": [
        "<a href=\"https://colab.research.google.com/github/leabizbille/ProjetIOT/blob/main/Home_ToursHabitat.ipynb\" target=\"_parent\"><img src=\"https://colab.research.google.com/assets/colab-badge.svg\" alt=\"Open In Colab\"/></a>"
      ]
    },
    {
      "cell_type": "code",
      "source": [
        "!pip install summarytools -q"
      ],
      "metadata": {
        "colab": {
          "base_uri": "https://localhost:8080/"
        },
        "id": "E6CuuXGfp0qP",
        "outputId": "28338ba4-e6a2-4158-8091-66727f907908"
      },
      "execution_count": 1,
      "outputs": [
        {
          "output_type": "stream",
          "name": "stdout",
          "text": [
            "\u001b[?25l   \u001b[90m━━━━━━━━━━━━━━━━━━━━━━━━━━━━━━━━━━━━━━━━\u001b[0m \u001b[32m0.0/1.6 MB\u001b[0m \u001b[31m?\u001b[0m eta \u001b[36m-:--:--\u001b[0m\r\u001b[2K   \u001b[91m━━━━━━━━━━━━━━━━━━━━\u001b[0m\u001b[91m╸\u001b[0m\u001b[90m━━━━━━━━━━━━━━━━━━━\u001b[0m \u001b[32m0.8/1.6 MB\u001b[0m \u001b[31m23.4 MB/s\u001b[0m eta \u001b[36m0:00:01\u001b[0m\r\u001b[2K   \u001b[91m━━━━━━━━━━━━━━━━━━━━━━━━━━━━━━━━━━━━━━━\u001b[0m\u001b[91m╸\u001b[0m \u001b[32m1.6/1.6 MB\u001b[0m \u001b[31m34.0 MB/s\u001b[0m eta \u001b[36m0:00:01\u001b[0m\r\u001b[2K   \u001b[90m━━━━━━━━━━━━━━━━━━━━━━━━━━━━━━━━━━━━━━━━\u001b[0m \u001b[32m1.6/1.6 MB\u001b[0m \u001b[31m19.4 MB/s\u001b[0m eta \u001b[36m0:00:00\u001b[0m\n",
            "\u001b[?25h"
          ]
        }
      ]
    },
    {
      "cell_type": "code",
      "source": [
        "!pip install pygwalker -q"
      ],
      "metadata": {
        "colab": {
          "base_uri": "https://localhost:8080/"
        },
        "id": "n3PU7KO9PUeM",
        "outputId": "94e48f02-be85-48a9-88e4-29a7cf5697da"
      },
      "execution_count": 2,
      "outputs": [
        {
          "output_type": "stream",
          "name": "stdout",
          "text": [
            "\u001b[?25l   \u001b[90m━━━━━━━━━━━━━━━━━━━━━━━━━━━━━━━━━━━━━━━━\u001b[0m \u001b[32m0.0/4.5 MB\u001b[0m \u001b[31m?\u001b[0m eta \u001b[36m-:--:--\u001b[0m\r\u001b[2K   \u001b[91m━━━━━\u001b[0m\u001b[90m╺\u001b[0m\u001b[90m━━━━━━━━━━━━━━━━━━━━━━━━━━━━━━━━━━\u001b[0m \u001b[32m0.6/4.5 MB\u001b[0m \u001b[31m19.7 MB/s\u001b[0m eta \u001b[36m0:00:01\u001b[0m\r\u001b[2K   \u001b[91m━━━━━━━━━━━━━━━━━━━━━━━━\u001b[0m\u001b[91m╸\u001b[0m\u001b[90m━━━━━━━━━━━━━━━\u001b[0m \u001b[32m2.8/4.5 MB\u001b[0m \u001b[31m41.6 MB/s\u001b[0m eta \u001b[36m0:00:01\u001b[0m\r\u001b[2K   \u001b[91m━━━━━━━━━━━━━━━━━━━━━━━━━━━━━━━━━━━━━━━\u001b[0m\u001b[91m╸\u001b[0m \u001b[32m4.5/4.5 MB\u001b[0m \u001b[31m51.0 MB/s\u001b[0m eta \u001b[36m0:00:01\u001b[0m\r\u001b[2K   \u001b[90m━━━━━━━━━━━━━━━━━━━━━━━━━━━━━━━━━━━━━━━━\u001b[0m \u001b[32m4.5/4.5 MB\u001b[0m \u001b[31m33.6 MB/s\u001b[0m eta \u001b[36m0:00:00\u001b[0m\n",
            "\u001b[2K   \u001b[90m━━━━━━━━━━━━━━━━━━━━━━━━━━━━━━━━━━━━━━━━\u001b[0m \u001b[32m956.2/956.2 kB\u001b[0m \u001b[31m35.2 MB/s\u001b[0m eta \u001b[36m0:00:00\u001b[0m\n",
            "\u001b[2K   \u001b[90m━━━━━━━━━━━━━━━━━━━━━━━━━━━━━━━━━━━━━━━━\u001b[0m \u001b[32m100.2/100.2 kB\u001b[0m \u001b[31m4.7 MB/s\u001b[0m eta \u001b[36m0:00:00\u001b[0m\n",
            "\u001b[2K   \u001b[90m━━━━━━━━━━━━━━━━━━━━━━━━━━━━━━━━━━━━━━━━\u001b[0m \u001b[32m213.7/213.7 kB\u001b[0m \u001b[31m9.6 MB/s\u001b[0m eta \u001b[36m0:00:00\u001b[0m\n",
            "\u001b[2K   \u001b[90m━━━━━━━━━━━━━━━━━━━━━━━━━━━━━━━━━━━━━━━━\u001b[0m \u001b[32m66.4/66.4 kB\u001b[0m \u001b[31m2.1 MB/s\u001b[0m eta \u001b[36m0:00:00\u001b[0m\n",
            "\u001b[2K   \u001b[90m━━━━━━━━━━━━━━━━━━━━━━━━━━━━━━━━━━━━━━━━\u001b[0m \u001b[32m2.2/2.2 MB\u001b[0m \u001b[31m18.2 MB/s\u001b[0m eta \u001b[36m0:00:00\u001b[0m\n",
            "\u001b[2K   \u001b[90m━━━━━━━━━━━━━━━━━━━━━━━━━━━━━━━━━━━━━━━━\u001b[0m \u001b[32m727.4/727.4 kB\u001b[0m \u001b[31m28.1 MB/s\u001b[0m eta \u001b[36m0:00:00\u001b[0m\n",
            "\u001b[2K   \u001b[90m━━━━━━━━━━━━━━━━━━━━━━━━━━━━━━━━━━━━━━━━\u001b[0m \u001b[32m6.4/6.4 MB\u001b[0m \u001b[31m30.2 MB/s\u001b[0m eta \u001b[36m0:00:00\u001b[0m\n",
            "\u001b[?25h"
          ]
        }
      ]
    },
    {
      "cell_type": "code",
      "source": [
        "pip install sweetviz -q"
      ],
      "metadata": {
        "colab": {
          "base_uri": "https://localhost:8080/"
        },
        "id": "h4Ln6ukSH94V",
        "outputId": "ee843ba3-0f0b-4dd1-fa36-adce38290c96"
      },
      "execution_count": 3,
      "outputs": [
        {
          "output_type": "stream",
          "name": "stdout",
          "text": [
            "\u001b[2K   \u001b[90m━━━━━━━━━━━━━━━━━━━━━━━━━━━━━━━━━━━━━━━━\u001b[0m \u001b[32m15.1/15.1 MB\u001b[0m \u001b[31m41.6 MB/s\u001b[0m eta \u001b[36m0:00:00\u001b[0m\n",
            "\u001b[?25h"
          ]
        }
      ]
    },
    {
      "cell_type": "code",
      "execution_count": 4,
      "metadata": {
        "id": "3fnnnXoyHp0N"
      },
      "outputs": [],
      "source": [
        "import pygwalker as pyg\n",
        "from summarytools import dfSummary # module pandas-profiling\n",
        "import pandas as pd\n",
        "import sweetviz as sv # Module pour faire le rapport HTML\n",
        "import missingno as msno"
      ]
    },
    {
      "cell_type": "code",
      "source": [
        "# Charger les fichiers CSV en conservant les titres des colonnes\n",
        "THabitat2023 = pd.read_csv(\"/content/Tours Habitat_2023.csv\",sep= \";\", parse_dates=[0], dayfirst=True)\n",
        "THabitat2024= pd.read_csv(\"/content/Tours Habitat_2024.csv\",sep= \";\", parse_dates=[0], dayfirst=True)"
      ],
      "metadata": {
        "id": "tLuwPqQSTzTz"
      },
      "execution_count": null,
      "outputs": []
    },
    {
      "cell_type": "code",
      "source": [
        "msno.matrix(THabitat2023)"
      ],
      "metadata": {
        "id": "WruPaoo_51wa"
      },
      "execution_count": null,
      "outputs": []
    },
    {
      "cell_type": "code",
      "source": [
        "msno.matrix(THabitat2024)"
      ],
      "metadata": {
        "colab": {
          "base_uri": "https://localhost:8080/",
          "height": 144
        },
        "id": "VvMChGUllQ9X",
        "outputId": "368a35ca-04f8-4b8c-e17d-f6602fa8bc5c"
      },
      "execution_count": 5,
      "outputs": [
        {
          "output_type": "error",
          "ename": "NameError",
          "evalue": "name 'THabitat2023' is not defined",
          "traceback": [
            "\u001b[0;31m---------------------------------------------------------------------------\u001b[0m",
            "\u001b[0;31mNameError\u001b[0m                                 Traceback (most recent call last)",
            "\u001b[0;32m<ipython-input-5-2aee1a941028>\u001b[0m in \u001b[0;36m<cell line: 1>\u001b[0;34m()\u001b[0m\n\u001b[0;32m----> 1\u001b[0;31m \u001b[0mmsno\u001b[0m\u001b[0;34m.\u001b[0m\u001b[0mmatrix\u001b[0m\u001b[0;34m(\u001b[0m\u001b[0mTHabitat2023\u001b[0m\u001b[0;34m)\u001b[0m\u001b[0;34m\u001b[0m\u001b[0;34m\u001b[0m\u001b[0m\n\u001b[0m",
            "\u001b[0;31mNameError\u001b[0m: name 'THabitat2023' is not defined"
          ]
        }
      ]
    },
    {
      "cell_type": "code",
      "source": [
        "# Description pour comprendre les données et mettre en suite le tableau en forme\n",
        "dfSummary(THabitat2024)"
      ],
      "metadata": {
        "id": "7tCXdcXi6ALw"
      },
      "execution_count": null,
      "outputs": []
    },
    {
      "cell_type": "code",
      "source": [
        "# Description pour comprendre les données et mettre en suite le tableau en forme\n",
        "dfSummary(THabitat2024)"
      ],
      "metadata": {
        "colab": {
          "base_uri": "https://localhost:8080/",
          "height": 162
        },
        "id": "QHGN3sbgpr1-",
        "outputId": "f680ccee-de8d-4264-98fa-b1cb03fc7133"
      },
      "execution_count": 6,
      "outputs": [
        {
          "output_type": "error",
          "ename": "NameError",
          "evalue": "name 'THabitat2024' is not defined",
          "traceback": [
            "\u001b[0;31m---------------------------------------------------------------------------\u001b[0m",
            "\u001b[0;31mNameError\u001b[0m                                 Traceback (most recent call last)",
            "\u001b[0;32m<ipython-input-6-6600b02f1213>\u001b[0m in \u001b[0;36m<cell line: 2>\u001b[0;34m()\u001b[0m\n\u001b[1;32m      1\u001b[0m \u001b[0;31m# Description pour comprendre les données et mettre en suite le tableau en forme\u001b[0m\u001b[0;34m\u001b[0m\u001b[0;34m\u001b[0m\u001b[0m\n\u001b[0;32m----> 2\u001b[0;31m \u001b[0mdfSummary\u001b[0m\u001b[0;34m(\u001b[0m\u001b[0mTHabitat2024\u001b[0m\u001b[0;34m)\u001b[0m\u001b[0;34m\u001b[0m\u001b[0;34m\u001b[0m\u001b[0m\n\u001b[0m",
            "\u001b[0;31mNameError\u001b[0m: name 'THabitat2024' is not defined"
          ]
        }
      ]
    },
    {
      "cell_type": "markdown",
      "source": [
        "- 49 % de nan dans les Unités -> regarder pour faire des modifications\n",
        "- 99.5 % de donnée manquante dans \"Type Générique\". Chercher l'utilisation et analyse l'interet.\n",
        "- Le logement 2 à 43% des données. Soit 3 x plus que le logement 3 et 4, chacun.\n",
        "\n",
        "Pour toutes les colonnes, reformater les données.\n",
        "Un pivotement ou une transposition du tableau sera probablement nécessaire."
      ],
      "metadata": {
        "id": "Y3dB0obqsvTg"
      }
    },
    {
      "cell_type": "markdown",
      "source": [
        "Mélange des modalites entre appartement et type d équipement"
      ],
      "metadata": {
        "id": "lvKYNHYPxHJJ"
      }
    },
    {
      "cell_type": "code",
      "source": [
        "# Séparer la colonne 'datetime' en deux colonnes distinctes\n",
        "val_roland[['date', 'time']] = val_roland['Date'].str.split(' ', expand=True)\n",
        "\n",
        "# Convertir les nouvelles colonnes au format datetime\n",
        "val_roland['date'] = pd.to_datetime(val_roland['date'], format='%Y-%m-%d')\n",
        "val_roland['time'] = pd.to_datetime(val_roland['time'], format='%H:%M:%S').dt.time\n",
        "\n",
        "# Supprimer l'ancienne colonne si elle n'est plus nécessaire\n",
        "val_roland= val_roland.drop(columns=['Date'])"
      ],
      "metadata": {
        "id": "Vo10Duhot-9Z"
      },
      "execution_count": null,
      "outputs": []
    },
    {
      "cell_type": "code",
      "source": [
        "# Extraction des informations dans de nouvelles colonnes\n",
        "val_roland['Logement'] = val_roland['Objet'].str.extract(r'(LOGEMENT\\d+)')\n",
        "val_roland['Replicat'] = val_roland['Objet'].str.extract(r'-\\s([AB])')\n",
        "val_roland['Pilote'] = val_roland['Objet'].str.contains(r'\\(piloté\\)').map({True: 'piloté', False: 'non piloté'})\n",
        "\n",
        "# Supprimer l'ancienne colonne\n",
        "val_roland= val_roland.drop(columns=['Objet'])"
      ],
      "metadata": {
        "id": "csFGfzjVuS-D"
      },
      "execution_count": null,
      "outputs": []
    },
    {
      "cell_type": "code",
      "source": [
        "# Trouver toutes les modalités uniques dans la colonne 'Équipement'\n",
        "modalites = val_roland['Équipement'].unique()\n",
        "\n",
        "# Afficher les modalités\n",
        "print(modalites)"
      ],
      "metadata": {
        "colab": {
          "base_uri": "https://localhost:8080/"
        },
        "id": "VNA02EJywiGy",
        "outputId": "e61fb4b7-5a35-471d-96d1-934f380fee24"
      },
      "execution_count": null,
      "outputs": [
        {
          "output_type": "stream",
          "name": "stdout",
          "text": [
            "['B001 - arrivée du jour' 'B001 - Conso' 'B001 - occupation'\n",
            " 'LOGEMENT01_4PM' 'LOGEMENT01_TEMP' 'Thermostat Logement 1' 'WIFITIC001'\n",
            " nan]\n"
          ]
        }
      ]
    },
    {
      "cell_type": "code",
      "source": [
        "# Remplacer les valeurs avec \"_\" par ce qui se trouve après, sinon garder la valeur intacte\n",
        "val_roland['Équipement'] = val_roland['Équipement'].str.split('_').str[1].fillna(val_roland['Équipement'])\n",
        "val_roland['Équipement'] = val_roland['Équipement'].str.split(' - ').str[1].fillna(val_roland['Équipement'])\n"
      ],
      "metadata": {
        "id": "M0l1K5srPf0A"
      },
      "execution_count": null,
      "outputs": []
    },
    {
      "cell_type": "code",
      "source": [
        "# Fonction de nettoyage\n",
        "def nettoyer_equipement(data):\n",
        "    data = data.strip()  # Supprime les espaces au début et à la fin\n",
        "    if data.startswith('WIFITIC'):  # Vérifie si le texte commence par \"WIFITIC\"\n",
        "        return 'Conso_Total_index'\n",
        "    if data.startswith('Thermostat'):\n",
        "        return 'Thermostat'\n",
        "    if data.startswith('TEMP'): # Changement de nom et clarifie\n",
        "        return 'Thermostat'\n",
        "    elif data == 'Conso ':  # Nettoie \"Conso \" avec un espace\n",
        "        return 'Conso'\n",
        "    elif data == 'Conso': # Changement de nom\n",
        "        return 'Conso_horaire'\n",
        "    elif data == 'occupation':  # Clarifie\n",
        "        return 'Occupation_Aujourdhui'\n",
        "    elif data == 'arrivée du jour':  # Clarifie\n",
        "        return 'Occupation_Hier'\n",
        "    else:\n",
        "        return data  # Conserve les autres modalités intactes\n",
        "\n",
        "# Appliquer la fonction de nettoyage à la colonne Equipement\n",
        "val_roland['Équipement'] = val_roland['Équipement'].apply(nettoyer_equipement)"
      ],
      "metadata": {
        "colab": {
          "base_uri": "https://localhost:8080/",
          "height": 365
        },
        "id": "JJ_z15xFWKlS",
        "outputId": "fccf3c69-3423-47a8-fc4c-f1f092049107"
      },
      "execution_count": null,
      "outputs": [
        {
          "output_type": "error",
          "ename": "AttributeError",
          "evalue": "'float' object has no attribute 'strip'",
          "traceback": [
            "\u001b[0;31m---------------------------------------------------------------------------\u001b[0m",
            "\u001b[0;31mAttributeError\u001b[0m                            Traceback (most recent call last)",
            "\u001b[0;32m<ipython-input-16-7dc1984852f0>\u001b[0m in \u001b[0;36m<cell line: 22>\u001b[0;34m()\u001b[0m\n\u001b[1;32m     20\u001b[0m \u001b[0;34m\u001b[0m\u001b[0m\n\u001b[1;32m     21\u001b[0m \u001b[0;31m# Appliquer la fonction de nettoyage à la colonne Equipement\u001b[0m\u001b[0;34m\u001b[0m\u001b[0;34m\u001b[0m\u001b[0m\n\u001b[0;32m---> 22\u001b[0;31m \u001b[0mval_roland\u001b[0m\u001b[0;34m[\u001b[0m\u001b[0;34m'Équipement'\u001b[0m\u001b[0;34m]\u001b[0m \u001b[0;34m=\u001b[0m \u001b[0mval_roland\u001b[0m\u001b[0;34m[\u001b[0m\u001b[0;34m'Équipement'\u001b[0m\u001b[0;34m]\u001b[0m\u001b[0;34m.\u001b[0m\u001b[0mapply\u001b[0m\u001b[0;34m(\u001b[0m\u001b[0mnettoyer_equipement\u001b[0m\u001b[0;34m)\u001b[0m\u001b[0;34m\u001b[0m\u001b[0;34m\u001b[0m\u001b[0m\n\u001b[0m",
            "\u001b[0;32m/usr/local/lib/python3.10/dist-packages/pandas/core/series.py\u001b[0m in \u001b[0;36mapply\u001b[0;34m(self, func, convert_dtype, args, by_row, **kwargs)\u001b[0m\n\u001b[1;32m   4922\u001b[0m             \u001b[0margs\u001b[0m\u001b[0;34m=\u001b[0m\u001b[0margs\u001b[0m\u001b[0;34m,\u001b[0m\u001b[0;34m\u001b[0m\u001b[0;34m\u001b[0m\u001b[0m\n\u001b[1;32m   4923\u001b[0m             \u001b[0mkwargs\u001b[0m\u001b[0;34m=\u001b[0m\u001b[0mkwargs\u001b[0m\u001b[0;34m,\u001b[0m\u001b[0;34m\u001b[0m\u001b[0;34m\u001b[0m\u001b[0m\n\u001b[0;32m-> 4924\u001b[0;31m         ).apply()\n\u001b[0m\u001b[1;32m   4925\u001b[0m \u001b[0;34m\u001b[0m\u001b[0m\n\u001b[1;32m   4926\u001b[0m     def _reindex_indexer(\n",
            "\u001b[0;32m/usr/local/lib/python3.10/dist-packages/pandas/core/apply.py\u001b[0m in \u001b[0;36mapply\u001b[0;34m(self)\u001b[0m\n\u001b[1;32m   1425\u001b[0m \u001b[0;34m\u001b[0m\u001b[0m\n\u001b[1;32m   1426\u001b[0m         \u001b[0;31m# self.func is Callable\u001b[0m\u001b[0;34m\u001b[0m\u001b[0;34m\u001b[0m\u001b[0m\n\u001b[0;32m-> 1427\u001b[0;31m         \u001b[0;32mreturn\u001b[0m \u001b[0mself\u001b[0m\u001b[0;34m.\u001b[0m\u001b[0mapply_standard\u001b[0m\u001b[0;34m(\u001b[0m\u001b[0;34m)\u001b[0m\u001b[0;34m\u001b[0m\u001b[0;34m\u001b[0m\u001b[0m\n\u001b[0m\u001b[1;32m   1428\u001b[0m \u001b[0;34m\u001b[0m\u001b[0m\n\u001b[1;32m   1429\u001b[0m     \u001b[0;32mdef\u001b[0m \u001b[0magg\u001b[0m\u001b[0;34m(\u001b[0m\u001b[0mself\u001b[0m\u001b[0;34m)\u001b[0m\u001b[0;34m:\u001b[0m\u001b[0;34m\u001b[0m\u001b[0;34m\u001b[0m\u001b[0m\n",
            "\u001b[0;32m/usr/local/lib/python3.10/dist-packages/pandas/core/apply.py\u001b[0m in \u001b[0;36mapply_standard\u001b[0;34m(self)\u001b[0m\n\u001b[1;32m   1505\u001b[0m         \u001b[0;31m#  Categorical (GH51645).\u001b[0m\u001b[0;34m\u001b[0m\u001b[0;34m\u001b[0m\u001b[0m\n\u001b[1;32m   1506\u001b[0m         \u001b[0maction\u001b[0m \u001b[0;34m=\u001b[0m \u001b[0;34m\"ignore\"\u001b[0m \u001b[0;32mif\u001b[0m \u001b[0misinstance\u001b[0m\u001b[0;34m(\u001b[0m\u001b[0mobj\u001b[0m\u001b[0;34m.\u001b[0m\u001b[0mdtype\u001b[0m\u001b[0;34m,\u001b[0m \u001b[0mCategoricalDtype\u001b[0m\u001b[0;34m)\u001b[0m \u001b[0;32melse\u001b[0m \u001b[0;32mNone\u001b[0m\u001b[0;34m\u001b[0m\u001b[0;34m\u001b[0m\u001b[0m\n\u001b[0;32m-> 1507\u001b[0;31m         mapped = obj._map_values(\n\u001b[0m\u001b[1;32m   1508\u001b[0m             \u001b[0mmapper\u001b[0m\u001b[0;34m=\u001b[0m\u001b[0mcurried\u001b[0m\u001b[0;34m,\u001b[0m \u001b[0mna_action\u001b[0m\u001b[0;34m=\u001b[0m\u001b[0maction\u001b[0m\u001b[0;34m,\u001b[0m \u001b[0mconvert\u001b[0m\u001b[0;34m=\u001b[0m\u001b[0mself\u001b[0m\u001b[0;34m.\u001b[0m\u001b[0mconvert_dtype\u001b[0m\u001b[0;34m\u001b[0m\u001b[0;34m\u001b[0m\u001b[0m\n\u001b[1;32m   1509\u001b[0m         )\n",
            "\u001b[0;32m/usr/local/lib/python3.10/dist-packages/pandas/core/base.py\u001b[0m in \u001b[0;36m_map_values\u001b[0;34m(self, mapper, na_action, convert)\u001b[0m\n\u001b[1;32m    919\u001b[0m             \u001b[0;32mreturn\u001b[0m \u001b[0marr\u001b[0m\u001b[0;34m.\u001b[0m\u001b[0mmap\u001b[0m\u001b[0;34m(\u001b[0m\u001b[0mmapper\u001b[0m\u001b[0;34m,\u001b[0m \u001b[0mna_action\u001b[0m\u001b[0;34m=\u001b[0m\u001b[0mna_action\u001b[0m\u001b[0;34m)\u001b[0m\u001b[0;34m\u001b[0m\u001b[0;34m\u001b[0m\u001b[0m\n\u001b[1;32m    920\u001b[0m \u001b[0;34m\u001b[0m\u001b[0m\n\u001b[0;32m--> 921\u001b[0;31m         \u001b[0;32mreturn\u001b[0m \u001b[0malgorithms\u001b[0m\u001b[0;34m.\u001b[0m\u001b[0mmap_array\u001b[0m\u001b[0;34m(\u001b[0m\u001b[0marr\u001b[0m\u001b[0;34m,\u001b[0m \u001b[0mmapper\u001b[0m\u001b[0;34m,\u001b[0m \u001b[0mna_action\u001b[0m\u001b[0;34m=\u001b[0m\u001b[0mna_action\u001b[0m\u001b[0;34m,\u001b[0m \u001b[0mconvert\u001b[0m\u001b[0;34m=\u001b[0m\u001b[0mconvert\u001b[0m\u001b[0;34m)\u001b[0m\u001b[0;34m\u001b[0m\u001b[0;34m\u001b[0m\u001b[0m\n\u001b[0m\u001b[1;32m    922\u001b[0m \u001b[0;34m\u001b[0m\u001b[0m\n\u001b[1;32m    923\u001b[0m     \u001b[0;34m@\u001b[0m\u001b[0mfinal\u001b[0m\u001b[0;34m\u001b[0m\u001b[0;34m\u001b[0m\u001b[0m\n",
            "\u001b[0;32m/usr/local/lib/python3.10/dist-packages/pandas/core/algorithms.py\u001b[0m in \u001b[0;36mmap_array\u001b[0;34m(arr, mapper, na_action, convert)\u001b[0m\n\u001b[1;32m   1741\u001b[0m     \u001b[0mvalues\u001b[0m \u001b[0;34m=\u001b[0m \u001b[0marr\u001b[0m\u001b[0;34m.\u001b[0m\u001b[0mastype\u001b[0m\u001b[0;34m(\u001b[0m\u001b[0mobject\u001b[0m\u001b[0;34m,\u001b[0m \u001b[0mcopy\u001b[0m\u001b[0;34m=\u001b[0m\u001b[0;32mFalse\u001b[0m\u001b[0;34m)\u001b[0m\u001b[0;34m\u001b[0m\u001b[0;34m\u001b[0m\u001b[0m\n\u001b[1;32m   1742\u001b[0m     \u001b[0;32mif\u001b[0m \u001b[0mna_action\u001b[0m \u001b[0;32mis\u001b[0m \u001b[0;32mNone\u001b[0m\u001b[0;34m:\u001b[0m\u001b[0;34m\u001b[0m\u001b[0;34m\u001b[0m\u001b[0m\n\u001b[0;32m-> 1743\u001b[0;31m         \u001b[0;32mreturn\u001b[0m \u001b[0mlib\u001b[0m\u001b[0;34m.\u001b[0m\u001b[0mmap_infer\u001b[0m\u001b[0;34m(\u001b[0m\u001b[0mvalues\u001b[0m\u001b[0;34m,\u001b[0m \u001b[0mmapper\u001b[0m\u001b[0;34m,\u001b[0m \u001b[0mconvert\u001b[0m\u001b[0;34m=\u001b[0m\u001b[0mconvert\u001b[0m\u001b[0;34m)\u001b[0m\u001b[0;34m\u001b[0m\u001b[0;34m\u001b[0m\u001b[0m\n\u001b[0m\u001b[1;32m   1744\u001b[0m     \u001b[0;32melse\u001b[0m\u001b[0;34m:\u001b[0m\u001b[0;34m\u001b[0m\u001b[0;34m\u001b[0m\u001b[0m\n\u001b[1;32m   1745\u001b[0m         return lib.map_infer_mask(\n",
            "\u001b[0;32mlib.pyx\u001b[0m in \u001b[0;36mpandas._libs.lib.map_infer\u001b[0;34m()\u001b[0m\n",
            "\u001b[0;32m<ipython-input-16-7dc1984852f0>\u001b[0m in \u001b[0;36mnettoyer_equipement\u001b[0;34m(data)\u001b[0m\n\u001b[1;32m      1\u001b[0m \u001b[0;31m# Fonction de nettoyage\u001b[0m\u001b[0;34m\u001b[0m\u001b[0;34m\u001b[0m\u001b[0m\n\u001b[1;32m      2\u001b[0m \u001b[0;32mdef\u001b[0m \u001b[0mnettoyer_equipement\u001b[0m\u001b[0;34m(\u001b[0m\u001b[0mdata\u001b[0m\u001b[0;34m)\u001b[0m\u001b[0;34m:\u001b[0m\u001b[0;34m\u001b[0m\u001b[0;34m\u001b[0m\u001b[0m\n\u001b[0;32m----> 3\u001b[0;31m     \u001b[0mdata\u001b[0m \u001b[0;34m=\u001b[0m \u001b[0mdata\u001b[0m\u001b[0;34m.\u001b[0m\u001b[0mstrip\u001b[0m\u001b[0;34m(\u001b[0m\u001b[0;34m)\u001b[0m  \u001b[0;31m# Supprime les espaces au début et à la fin\u001b[0m\u001b[0;34m\u001b[0m\u001b[0;34m\u001b[0m\u001b[0m\n\u001b[0m\u001b[1;32m      4\u001b[0m     \u001b[0;32mif\u001b[0m \u001b[0mdata\u001b[0m\u001b[0;34m.\u001b[0m\u001b[0mstartswith\u001b[0m\u001b[0;34m(\u001b[0m\u001b[0;34m'WIFITIC'\u001b[0m\u001b[0;34m)\u001b[0m\u001b[0;34m:\u001b[0m  \u001b[0;31m# Vérifie si le texte commence par \"WIFITIC\"\u001b[0m\u001b[0;34m\u001b[0m\u001b[0;34m\u001b[0m\u001b[0m\n\u001b[1;32m      5\u001b[0m         \u001b[0;32mreturn\u001b[0m \u001b[0;34m'Conso_Total_index'\u001b[0m\u001b[0;34m\u001b[0m\u001b[0;34m\u001b[0m\u001b[0m\n",
            "\u001b[0;31mAttributeError\u001b[0m: 'float' object has no attribute 'strip'"
          ]
        }
      ]
    },
    {
      "cell_type": "code",
      "source": [
        "# Trouver toutes les modalités uniques dans la colonne 'Équipement'\n",
        "modalites = val_roland['Équipement'].unique()\n",
        "\n",
        "# Afficher les modalités\n",
        "print(modalites)"
      ],
      "metadata": {
        "colab": {
          "base_uri": "https://localhost:8080/"
        },
        "outputId": "20e62879-bd00-4a24-b88e-9f81cb32814c",
        "id": "2_vIM1XMWqQ7"
      },
      "execution_count": null,
      "outputs": [
        {
          "output_type": "stream",
          "name": "stdout",
          "text": [
            "['Occupation_Hier' 'Conso_horaire' 'Occupation_Aujourdhui' '4PM'\n",
            " 'Thermostat' 'Conso_Total_index']\n"
          ]
        }
      ]
    },
    {
      "cell_type": "markdown",
      "source": [
        "* Attention au 4 PM qui correspond à beaucoup de chose !"
      ],
      "metadata": {
        "id": "cSHBg4S4Us2Y"
      }
    },
    {
      "cell_type": "code",
      "source": [
        "# Trouver toutes les modalités uniques dans la colonne 'Équipement'\n",
        "modalites = val_roland['Commande'].unique()\n",
        "\n",
        "# Afficher les modalités\n",
        "print(modalites)"
      ],
      "metadata": {
        "colab": {
          "base_uri": "https://localhost:8080/"
        },
        "id": "sjwlDwcRKLa2",
        "outputId": "f5bf0ba0-2dc5-4084-d7bd-fc32df7ddfe9"
      },
      "execution_count": null,
      "outputs": [
        {
          "output_type": "stream",
          "name": "stdout",
          "text": [
            "['Etat arrivée du jour' 'Conso_Heure_B001' 'Etat occupation'\n",
            " '0 - CHAUFFAGE Etat ' '0 - CHAUFFAGE instantané' '0 - CHAUFFAGE total'\n",
            " '1 - ECS Etat ' '2 - Prise Etat ' 'Température' 'Consigne' 'index'\n",
            " 'Conso_Heure_B002' 'Sw 1 Etat ' 'Sw 2 Etat ' 'Conso_Heure_A301'\n",
            " 'Conso_Heure_A302']\n"
          ]
        }
      ]
    },
    {
      "cell_type": "code",
      "source": [
        "# Fonction de nettoyage\n",
        "def nettoyer_commande(data):\n",
        "    data = data.strip()  # Supprime les espaces au début et à la fin\n",
        "    if data.startswith('Conso_Heure'):  # Vérifie si le texte commence par Conso_Heure\n",
        "        return 'Conso_Total_kw/h'\n",
        "    if data.startswith('0 - CHAUFFAGE Etat'):\n",
        "        return 'Chauffage_OnOff'\n",
        "    if data.startswith('0 - CHAUFFAGE instantané'): # Changement de nom et clarifie\n",
        "        return 'Chauffage_Conso'\n",
        "    elif data == '0 - CHAUFFAGE total':  # Nettoie \"Conso \" avec un espace\n",
        "        return 'Chauffage_Conso_Total'\n",
        "    elif data == '1 - ECS Etat': # Changement de nom\n",
        "        return 'Ballon_OnOff'\n",
        "    elif data == '2 - Prise Etat': # Changement de nom\n",
        "        return 'TV-Frigo_OnOff'\n",
        "    elif data == 'Consigne': # Changement de nom\n",
        "        return 'TemperatureDesiree'\n",
        "    elif data == 'Température': # Changement de nom\n",
        "        return 'TemperatureReelle'\n",
        "    elif data == 'index': # Changement de nom\n",
        "        return 'TIC_enedis'\n",
        "    elif data == 'Température': # Changement de nom\n",
        "        return 'TemperatureReelle'\n",
        "    elif data == 'Sw 1 Etat': # Changement de nom\n",
        "        return 'Ballon_OnOff'\n",
        "    elif data == 'Sw 2 Etat': # Changement de nom\n",
        "        return 'TV-Frigo_OnOff'\n",
        "    elif data == 'Etat occupation':  # Clarifie\n",
        "        return 'Presence_absence'\n",
        "    elif data == 'Etat arrivée du jour':  # Clarifie\n",
        "        return 'Presence_absence'\n",
        "    else:\n",
        "        return data  # Conserve les autres modalités intactes\n",
        "\n",
        "# Appliquer la fonction de nettoyage à la colonne Equipement\n",
        "val_roland['Commande'] = val_roland['Commande'].apply(nettoyer_commande)"
      ],
      "metadata": {
        "colab": {
          "base_uri": "https://localhost:8080/",
          "height": 365
        },
        "id": "mHcfkz2tVXkF",
        "outputId": "a4c5344c-76ad-4bb4-a556-fb8982a2b7c9"
      },
      "execution_count": null,
      "outputs": [
        {
          "output_type": "error",
          "ename": "AttributeError",
          "evalue": "'float' object has no attribute 'strip'",
          "traceback": [
            "\u001b[0;31m---------------------------------------------------------------------------\u001b[0m",
            "\u001b[0;31mAttributeError\u001b[0m                            Traceback (most recent call last)",
            "\u001b[0;32m<ipython-input-17-e5cccdb9595e>\u001b[0m in \u001b[0;36m<cell line: 36>\u001b[0;34m()\u001b[0m\n\u001b[1;32m     34\u001b[0m \u001b[0;34m\u001b[0m\u001b[0m\n\u001b[1;32m     35\u001b[0m \u001b[0;31m# Appliquer la fonction de nettoyage à la colonne Equipement\u001b[0m\u001b[0;34m\u001b[0m\u001b[0;34m\u001b[0m\u001b[0m\n\u001b[0;32m---> 36\u001b[0;31m \u001b[0mval_roland\u001b[0m\u001b[0;34m[\u001b[0m\u001b[0;34m'Commande'\u001b[0m\u001b[0;34m]\u001b[0m \u001b[0;34m=\u001b[0m \u001b[0mval_roland\u001b[0m\u001b[0;34m[\u001b[0m\u001b[0;34m'Commande'\u001b[0m\u001b[0;34m]\u001b[0m\u001b[0;34m.\u001b[0m\u001b[0mapply\u001b[0m\u001b[0;34m(\u001b[0m\u001b[0mnettoyer_commande\u001b[0m\u001b[0;34m)\u001b[0m\u001b[0;34m\u001b[0m\u001b[0;34m\u001b[0m\u001b[0m\n\u001b[0m",
            "\u001b[0;32m/usr/local/lib/python3.10/dist-packages/pandas/core/series.py\u001b[0m in \u001b[0;36mapply\u001b[0;34m(self, func, convert_dtype, args, by_row, **kwargs)\u001b[0m\n\u001b[1;32m   4922\u001b[0m             \u001b[0margs\u001b[0m\u001b[0;34m=\u001b[0m\u001b[0margs\u001b[0m\u001b[0;34m,\u001b[0m\u001b[0;34m\u001b[0m\u001b[0;34m\u001b[0m\u001b[0m\n\u001b[1;32m   4923\u001b[0m             \u001b[0mkwargs\u001b[0m\u001b[0;34m=\u001b[0m\u001b[0mkwargs\u001b[0m\u001b[0;34m,\u001b[0m\u001b[0;34m\u001b[0m\u001b[0;34m\u001b[0m\u001b[0m\n\u001b[0;32m-> 4924\u001b[0;31m         ).apply()\n\u001b[0m\u001b[1;32m   4925\u001b[0m \u001b[0;34m\u001b[0m\u001b[0m\n\u001b[1;32m   4926\u001b[0m     def _reindex_indexer(\n",
            "\u001b[0;32m/usr/local/lib/python3.10/dist-packages/pandas/core/apply.py\u001b[0m in \u001b[0;36mapply\u001b[0;34m(self)\u001b[0m\n\u001b[1;32m   1425\u001b[0m \u001b[0;34m\u001b[0m\u001b[0m\n\u001b[1;32m   1426\u001b[0m         \u001b[0;31m# self.func is Callable\u001b[0m\u001b[0;34m\u001b[0m\u001b[0;34m\u001b[0m\u001b[0m\n\u001b[0;32m-> 1427\u001b[0;31m         \u001b[0;32mreturn\u001b[0m \u001b[0mself\u001b[0m\u001b[0;34m.\u001b[0m\u001b[0mapply_standard\u001b[0m\u001b[0;34m(\u001b[0m\u001b[0;34m)\u001b[0m\u001b[0;34m\u001b[0m\u001b[0;34m\u001b[0m\u001b[0m\n\u001b[0m\u001b[1;32m   1428\u001b[0m \u001b[0;34m\u001b[0m\u001b[0m\n\u001b[1;32m   1429\u001b[0m     \u001b[0;32mdef\u001b[0m \u001b[0magg\u001b[0m\u001b[0;34m(\u001b[0m\u001b[0mself\u001b[0m\u001b[0;34m)\u001b[0m\u001b[0;34m:\u001b[0m\u001b[0;34m\u001b[0m\u001b[0;34m\u001b[0m\u001b[0m\n",
            "\u001b[0;32m/usr/local/lib/python3.10/dist-packages/pandas/core/apply.py\u001b[0m in \u001b[0;36mapply_standard\u001b[0;34m(self)\u001b[0m\n\u001b[1;32m   1505\u001b[0m         \u001b[0;31m#  Categorical (GH51645).\u001b[0m\u001b[0;34m\u001b[0m\u001b[0;34m\u001b[0m\u001b[0m\n\u001b[1;32m   1506\u001b[0m         \u001b[0maction\u001b[0m \u001b[0;34m=\u001b[0m \u001b[0;34m\"ignore\"\u001b[0m \u001b[0;32mif\u001b[0m \u001b[0misinstance\u001b[0m\u001b[0;34m(\u001b[0m\u001b[0mobj\u001b[0m\u001b[0;34m.\u001b[0m\u001b[0mdtype\u001b[0m\u001b[0;34m,\u001b[0m \u001b[0mCategoricalDtype\u001b[0m\u001b[0;34m)\u001b[0m \u001b[0;32melse\u001b[0m \u001b[0;32mNone\u001b[0m\u001b[0;34m\u001b[0m\u001b[0;34m\u001b[0m\u001b[0m\n\u001b[0;32m-> 1507\u001b[0;31m         mapped = obj._map_values(\n\u001b[0m\u001b[1;32m   1508\u001b[0m             \u001b[0mmapper\u001b[0m\u001b[0;34m=\u001b[0m\u001b[0mcurried\u001b[0m\u001b[0;34m,\u001b[0m \u001b[0mna_action\u001b[0m\u001b[0;34m=\u001b[0m\u001b[0maction\u001b[0m\u001b[0;34m,\u001b[0m \u001b[0mconvert\u001b[0m\u001b[0;34m=\u001b[0m\u001b[0mself\u001b[0m\u001b[0;34m.\u001b[0m\u001b[0mconvert_dtype\u001b[0m\u001b[0;34m\u001b[0m\u001b[0;34m\u001b[0m\u001b[0m\n\u001b[1;32m   1509\u001b[0m         )\n",
            "\u001b[0;32m/usr/local/lib/python3.10/dist-packages/pandas/core/base.py\u001b[0m in \u001b[0;36m_map_values\u001b[0;34m(self, mapper, na_action, convert)\u001b[0m\n\u001b[1;32m    919\u001b[0m             \u001b[0;32mreturn\u001b[0m \u001b[0marr\u001b[0m\u001b[0;34m.\u001b[0m\u001b[0mmap\u001b[0m\u001b[0;34m(\u001b[0m\u001b[0mmapper\u001b[0m\u001b[0;34m,\u001b[0m \u001b[0mna_action\u001b[0m\u001b[0;34m=\u001b[0m\u001b[0mna_action\u001b[0m\u001b[0;34m)\u001b[0m\u001b[0;34m\u001b[0m\u001b[0;34m\u001b[0m\u001b[0m\n\u001b[1;32m    920\u001b[0m \u001b[0;34m\u001b[0m\u001b[0m\n\u001b[0;32m--> 921\u001b[0;31m         \u001b[0;32mreturn\u001b[0m \u001b[0malgorithms\u001b[0m\u001b[0;34m.\u001b[0m\u001b[0mmap_array\u001b[0m\u001b[0;34m(\u001b[0m\u001b[0marr\u001b[0m\u001b[0;34m,\u001b[0m \u001b[0mmapper\u001b[0m\u001b[0;34m,\u001b[0m \u001b[0mna_action\u001b[0m\u001b[0;34m=\u001b[0m\u001b[0mna_action\u001b[0m\u001b[0;34m,\u001b[0m \u001b[0mconvert\u001b[0m\u001b[0;34m=\u001b[0m\u001b[0mconvert\u001b[0m\u001b[0;34m)\u001b[0m\u001b[0;34m\u001b[0m\u001b[0;34m\u001b[0m\u001b[0m\n\u001b[0m\u001b[1;32m    922\u001b[0m \u001b[0;34m\u001b[0m\u001b[0m\n\u001b[1;32m    923\u001b[0m     \u001b[0;34m@\u001b[0m\u001b[0mfinal\u001b[0m\u001b[0;34m\u001b[0m\u001b[0;34m\u001b[0m\u001b[0m\n",
            "\u001b[0;32m/usr/local/lib/python3.10/dist-packages/pandas/core/algorithms.py\u001b[0m in \u001b[0;36mmap_array\u001b[0;34m(arr, mapper, na_action, convert)\u001b[0m\n\u001b[1;32m   1741\u001b[0m     \u001b[0mvalues\u001b[0m \u001b[0;34m=\u001b[0m \u001b[0marr\u001b[0m\u001b[0;34m.\u001b[0m\u001b[0mastype\u001b[0m\u001b[0;34m(\u001b[0m\u001b[0mobject\u001b[0m\u001b[0;34m,\u001b[0m \u001b[0mcopy\u001b[0m\u001b[0;34m=\u001b[0m\u001b[0;32mFalse\u001b[0m\u001b[0;34m)\u001b[0m\u001b[0;34m\u001b[0m\u001b[0;34m\u001b[0m\u001b[0m\n\u001b[1;32m   1742\u001b[0m     \u001b[0;32mif\u001b[0m \u001b[0mna_action\u001b[0m \u001b[0;32mis\u001b[0m \u001b[0;32mNone\u001b[0m\u001b[0;34m:\u001b[0m\u001b[0;34m\u001b[0m\u001b[0;34m\u001b[0m\u001b[0m\n\u001b[0;32m-> 1743\u001b[0;31m         \u001b[0;32mreturn\u001b[0m \u001b[0mlib\u001b[0m\u001b[0;34m.\u001b[0m\u001b[0mmap_infer\u001b[0m\u001b[0;34m(\u001b[0m\u001b[0mvalues\u001b[0m\u001b[0;34m,\u001b[0m \u001b[0mmapper\u001b[0m\u001b[0;34m,\u001b[0m \u001b[0mconvert\u001b[0m\u001b[0;34m=\u001b[0m\u001b[0mconvert\u001b[0m\u001b[0;34m)\u001b[0m\u001b[0;34m\u001b[0m\u001b[0;34m\u001b[0m\u001b[0m\n\u001b[0m\u001b[1;32m   1744\u001b[0m     \u001b[0;32melse\u001b[0m\u001b[0;34m:\u001b[0m\u001b[0;34m\u001b[0m\u001b[0;34m\u001b[0m\u001b[0m\n\u001b[1;32m   1745\u001b[0m         return lib.map_infer_mask(\n",
            "\u001b[0;32mlib.pyx\u001b[0m in \u001b[0;36mpandas._libs.lib.map_infer\u001b[0;34m()\u001b[0m\n",
            "\u001b[0;32m<ipython-input-17-e5cccdb9595e>\u001b[0m in \u001b[0;36mnettoyer_commande\u001b[0;34m(data)\u001b[0m\n\u001b[1;32m      1\u001b[0m \u001b[0;31m# Fonction de nettoyage\u001b[0m\u001b[0;34m\u001b[0m\u001b[0;34m\u001b[0m\u001b[0m\n\u001b[1;32m      2\u001b[0m \u001b[0;32mdef\u001b[0m \u001b[0mnettoyer_commande\u001b[0m\u001b[0;34m(\u001b[0m\u001b[0mdata\u001b[0m\u001b[0;34m)\u001b[0m\u001b[0;34m:\u001b[0m\u001b[0;34m\u001b[0m\u001b[0;34m\u001b[0m\u001b[0m\n\u001b[0;32m----> 3\u001b[0;31m     \u001b[0mdata\u001b[0m \u001b[0;34m=\u001b[0m \u001b[0mdata\u001b[0m\u001b[0;34m.\u001b[0m\u001b[0mstrip\u001b[0m\u001b[0;34m(\u001b[0m\u001b[0;34m)\u001b[0m  \u001b[0;31m# Supprime les espaces au début et à la fin\u001b[0m\u001b[0;34m\u001b[0m\u001b[0;34m\u001b[0m\u001b[0m\n\u001b[0m\u001b[1;32m      4\u001b[0m     \u001b[0;32mif\u001b[0m \u001b[0mdata\u001b[0m\u001b[0;34m.\u001b[0m\u001b[0mstartswith\u001b[0m\u001b[0;34m(\u001b[0m\u001b[0;34m'Conso_Heure'\u001b[0m\u001b[0;34m)\u001b[0m\u001b[0;34m:\u001b[0m  \u001b[0;31m# Vérifie si le texte commence par Conso_Heure\u001b[0m\u001b[0;34m\u001b[0m\u001b[0;34m\u001b[0m\u001b[0m\n\u001b[1;32m      5\u001b[0m         \u001b[0;32mreturn\u001b[0m \u001b[0;34m'Conso_Total_kw/h'\u001b[0m\u001b[0;34m\u001b[0m\u001b[0;34m\u001b[0m\u001b[0m\n",
            "\u001b[0;31mAttributeError\u001b[0m: 'float' object has no attribute 'strip'"
          ]
        }
      ]
    },
    {
      "cell_type": "code",
      "source": [
        "# Trouver toutes les modalités uniques dans la colonne 'Équipement'\n",
        "modalites = val_roland['Commande'].unique()\n",
        "\n",
        "# Afficher les modalités\n",
        "print(modalites)"
      ],
      "metadata": {
        "colab": {
          "base_uri": "https://localhost:8080/"
        },
        "id": "qrsU6ssQgTCF",
        "outputId": "475b5578-3fdc-4841-aaef-300afb0b3d4b"
      },
      "execution_count": null,
      "outputs": [
        {
          "output_type": "stream",
          "name": "stdout",
          "text": [
            "['Presence_absence' 'Conso_Total_kw/h' 'Chauffage_OnOff' 'Chauffage_Conso'\n",
            " 'Chauffage_Conso_Total' 'Ballon_OnOff' 'TV-Frigo_OnOff'\n",
            " 'TemperatureReelle' 'TemperatureDesiree' 'TIC_enedis']\n"
          ]
        }
      ]
    },
    {
      "cell_type": "markdown",
      "source": [
        "Mettre \"Index\" comme unité, si TIC enedis dans la colonne commande."
      ],
      "metadata": {
        "id": "d9GJWh44iezx"
      }
    },
    {
      "cell_type": "code",
      "source": [
        "# Mettre \"index\" dans la colonne 'Unité' si \"index\" est dans la colonne 'Commande', sinon garder la valeur existante\n",
        "val_roland['Unité'] = val_roland.apply(lambda row: 'Oui-Non' if 'Presence_absence' in row['Commande'] and pd.isna(row['Unité']) else row['Unité'], axis=1)"
      ],
      "metadata": {
        "id": "C0vcGzdCi7i-"
      },
      "execution_count": null,
      "outputs": []
    },
    {
      "cell_type": "markdown",
      "source": [
        "Mettre \"ON-Off\" comme unité, si la ligne correspond à un object Allumé ou éteint."
      ],
      "metadata": {
        "id": "nzJS_tfuk__W"
      }
    },
    {
      "cell_type": "code",
      "source": [
        "# Mettre \"On-Off\" dans la colonne 'Unité' si \" ... \" est dans la colonne 'Commande', sinon garder la valeur existante\n",
        "val_roland['Unité'] = val_roland.apply(lambda row: 'On-Off' if 'Chauffage_OnOff' in row['Commande'] and pd.isna(row['Unité']) else row['Unité'], axis=1)\n",
        "val_roland['Unité'] = val_roland.apply(lambda row: 'On-Off' if 'Ballon_OnOff' in row['Commande'] and pd.isna(row['Unité']) else row['Unité'], axis=1)\n",
        "val_roland['Unité'] = val_roland.apply(lambda row: 'On-Off' if 'TV-Frigo_OnOff' in row['Commande'] and pd.isna(row['Unité']) else row['Unité'], axis=1)"
      ],
      "metadata": {
        "id": "j84-TYRGj13b"
      },
      "execution_count": null,
      "outputs": []
    },
    {
      "cell_type": "code",
      "source": [
        "# Mettre \"Oui-Non\" dans la colonne 'Unité' si \"Presence humaine\" est dans la colonne 'Commande', sinon garder la valeur existante\n",
        "val_roland['Unité'] = val_roland.apply(lambda row: 'On-Off' if 'Chauffage_OnOff' in row['Commande'] and pd.isna(row['Unité']) else row['Unité'], axis=1)"
      ],
      "metadata": {
        "id": "ZwQUPsBZmsx0"
      },
      "execution_count": null,
      "outputs": []
    },
    {
      "cell_type": "markdown",
      "source": [
        "Verification du nombre de valeur NA"
      ],
      "metadata": {
        "id": "1CXs2pY6lvkm"
      }
    },
    {
      "cell_type": "code",
      "source": [
        "print(val_roland.isna().sum())"
      ],
      "metadata": {
        "colab": {
          "base_uri": "https://localhost:8080/"
        },
        "id": "Xe16U15OlCPU",
        "outputId": "ab669680-26ee-4aff-cc43-f1cd863c1f4a"
      },
      "execution_count": null,
      "outputs": [
        {
          "output_type": "stream",
          "name": "stdout",
          "text": [
            "Équipement            0\n",
            "Commande              0\n",
            "Type Générique    42868\n",
            "Valeur                0\n",
            "Unité                 0\n",
            "date                  0\n",
            "time                  0\n",
            "Logement              0\n",
            "Lettre                0\n",
            "Pilote                0\n",
            "dtype: int64\n"
          ]
        }
      ]
    },
    {
      "cell_type": "code",
      "source": [
        "msno.matrix(val_roland)"
      ],
      "metadata": {
        "colab": {
          "base_uri": "https://localhost:8080/",
          "height": 469
        },
        "id": "mF_X9gKaWQJk",
        "outputId": "eeafe696-2a4c-4190-8b72-122ef12a32d3"
      },
      "execution_count": null,
      "outputs": [
        {
          "output_type": "execute_result",
          "data": {
            "text/plain": [
              "<Axes: >"
            ]
          },
          "metadata": {},
          "execution_count": 107
        },
        {
          "output_type": "display_data",
          "data": {
            "text/plain": [
              "<Figure size 2500x1000 with 2 Axes>"
            ],
            "image/png": "[encoded data removed]"
          },
          "metadata": {}
        }
      ]
    },
    {
      "cell_type": "markdown",
      "source": [],
      "metadata": {
        "id": "WDMEfzvCoIZ5"
      }
    },
    {
      "cell_type": "code",
      "source": [
        "# Description pour comprendre les données et mettre en suite le tableau en forme\n",
        "dfSummary(val_roland)"
      ],
      "metadata": {
        "colab": {
          "base_uri": "https://localhost:8080/",
          "height": 1000
        },
        "id": "vxCexZDtn0qI",
        "outputId": "a89dd7c3-8dfd-46a9-946f-8f9fab8f6d1f"
      },
      "execution_count": null,
      "outputs": [
        {
          "output_type": "execute_result",
          "data": {
            "text/plain": [
              "<pandas.io.formats.style.Styler at 0x7a51472beec0>"
            ],
            "text/html": [
              "<style type=\"text/css\">\n",
              "#T_1b6ac thead>tr>th {\n",
              "  text-align: left;\n",
              "}\n",
              "#T_1b6ac_row0_col0, #T_1b6ac_row1_col0, #T_1b6ac_row2_col0, #T_1b6ac_row3_col0, #T_1b6ac_row4_col0, #T_1b6ac_row5_col0, #T_1b6ac_row6_col0, #T_1b6ac_row7_col0, #T_1b6ac_row8_col0, #T_1b6ac_row9_col0 {\n",
              "  text-align: left;\n",
              "  font-size: 12px;\n",
              "  vertical-align: middle;\n",
              "  width: 5%;\n",
              "  max-width: 50px;\n",
              "  min-width: 20px;\n",
              "}\n",
              "#T_1b6ac_row0_col1, #T_1b6ac_row1_col1, #T_1b6ac_row2_col1, #T_1b6ac_row3_col1, #T_1b6ac_row4_col1, #T_1b6ac_row5_col1, #T_1b6ac_row6_col1, #T_1b6ac_row7_col1, #T_1b6ac_row8_col1, #T_1b6ac_row9_col1 {\n",
              "  text-align: left;\n",
              "  font-size: 12px;\n",
              "  vertical-align: middle;\n",
              "  width: 15%;\n",
              "  max-width: 200px;\n",
              "  min-width: 100px;\n",
              "  word-break: break-word;\n",
              "}\n",
              "#T_1b6ac_row0_col2, #T_1b6ac_row1_col2, #T_1b6ac_row2_col2, #T_1b6ac_row3_col2, #T_1b6ac_row4_col2, #T_1b6ac_row5_col2, #T_1b6ac_row6_col2, #T_1b6ac_row7_col2, #T_1b6ac_row8_col2, #T_1b6ac_row9_col2 {\n",
              "  text-align: left;\n",
              "  font-size: 12px;\n",
              "  vertical-align: middle;\n",
              "  width: 30%;\n",
              "  min-width: 100px;\n",
              "}\n",
              "#T_1b6ac_row0_col3, #T_1b6ac_row1_col3, #T_1b6ac_row2_col3, #T_1b6ac_row3_col3, #T_1b6ac_row4_col3, #T_1b6ac_row5_col3, #T_1b6ac_row6_col3, #T_1b6ac_row7_col3, #T_1b6ac_row8_col3, #T_1b6ac_row9_col3 {\n",
              "  text-align: left;\n",
              "  font-size: 12px;\n",
              "  vertical-align: middle;\n",
              "  width: 25%;\n",
              "  min-width: 100px;\n",
              "}\n",
              "#T_1b6ac_row0_col4, #T_1b6ac_row1_col4, #T_1b6ac_row2_col4, #T_1b6ac_row3_col4, #T_1b6ac_row4_col4, #T_1b6ac_row5_col4, #T_1b6ac_row6_col4, #T_1b6ac_row7_col4, #T_1b6ac_row8_col4, #T_1b6ac_row9_col4 {\n",
              "  text-align: left;\n",
              "  font-size: 12px;\n",
              "  vertical-align: middle;\n",
              "  width: 20%;\n",
              "  min-width: 150px;\n",
              "}\n",
              "#T_1b6ac_row0_col5, #T_1b6ac_row1_col5, #T_1b6ac_row2_col5, #T_1b6ac_row3_col5, #T_1b6ac_row4_col5, #T_1b6ac_row5_col5, #T_1b6ac_row6_col5, #T_1b6ac_row7_col5, #T_1b6ac_row8_col5, #T_1b6ac_row9_col5 {\n",
              "  text-align: left;\n",
              "  font-size: 12px;\n",
              "  vertical-align: middle;\n",
              "  width: 10%;\n",
              "}\n",
              "</style>\n",
              "<table id=\"T_1b6ac\" class=\"dataframe\">\n",
              "  <caption><strong>Data Frame Summary</strong><br>val_roland<br>Dimensions: 43,091 x 10<br>Duplicates: 0</caption>\n",
              "  <thead>\n",
              "    <tr>\n",
              "      <th id=\"T_1b6ac_level0_col0\" class=\"col_heading level0 col0\" >No</th>\n",
              "      <th id=\"T_1b6ac_level0_col1\" class=\"col_heading level0 col1\" >Variable</th>\n",
              "      <th id=\"T_1b6ac_level0_col2\" class=\"col_heading level0 col2\" >Stats / Values</th>\n",
              "      <th id=\"T_1b6ac_level0_col3\" class=\"col_heading level0 col3\" >Freqs / (% of Valid)</th>\n",
              "      <th id=\"T_1b6ac_level0_col4\" class=\"col_heading level0 col4\" >Graph</th>\n",
              "      <th id=\"T_1b6ac_level0_col5\" class=\"col_heading level0 col5\" >Missing</th>\n",
              "    </tr>\n",
              "  </thead>\n",
              "  <tbody>\n",
              "    <tr>\n",
              "      <td id=\"T_1b6ac_row0_col0\" class=\"data row0 col0\" >1</td>\n",
              "      <td id=\"T_1b6ac_row0_col1\" class=\"data row0 col1\" ><strong>Équipement</strong><br>[object]</td>\n",
              "      <td id=\"T_1b6ac_row0_col2\" class=\"data row0 col2\" >1. Conso_Total_index<br>2. Thermostat<br>3. Conso_horaire<br>4. Chauffage<br>5. Ballon_Eau<br>6. Occupation_Hier<br>7. TV-Frigo<br>8. Occupation_Aujourdhui</td>\n",
              "      <td id=\"T_1b6ac_row0_col3\" class=\"data row0 col3\" >19,261 (44.7%)<br>10,942 (25.4%)<br>7,486 (17.4%)<br>4,992 (11.6%)<br>116 (0.3%)<br>109 (0.3%)<br>98 (0.2%)<br>87 (0.2%)</td>\n",
              "      <td id=\"T_1b6ac_row0_col4\" class=\"data row0 col4\" ><img src = \"data:image/png;base64, iVBORw0KGgoAAAANSUhEUgAAAJsAAAC4CAYAAAD0WZ4UAAAAOXRFWHRTb2Z0d2FyZQBNYXRwbG90bGliIHZlcnNpb24zLjguMCwgaHR0cHM6Ly9tYXRwbG90bGliLm9yZy81sbWrAAAACXBIWXMAAA9hAAAPYQGoP6dpAAADA0lEQVR4nO3cQUocUQBF0V/SmGTSjQguIdmDi8his4heRPYgYg2icdIZBDIKUUh7qyjPWcFHLvWppp7T6XQaULhY+gC8H2IjIzYyYiMjNjJiIzONMT6NMS6XPsjKPJ9Op8elD7E1u+vr66/7/f5q6YOsyTzP99M0fRPcee32+/3V7e3t4+FweFr6MGvw8PDw8Xg8Xt3d3V2OMcR2RrsxxjgcDk83Nzc/lj7Minxa+gBb5AWBjNjIiI2M2MiIjYzYyIiNjNjIiI2M2MiIjYzYyIiNzG6M35/VLH2QtfC3eDu7eZ7vj8fj1fBZzR/zPN+PMZ6XPsfW+Cz873wW/gYm/36BytqfbJ4wG7LqwYvhybasdvBieLI9ax+8eEPeED/qkhEbGbGRERsZsZERGxmxkREbGbGRERsZsZERGxmxkVnt4GWNZ+L/rHrwYniyLT4LJ2PwQsYLApn6GnUtvmPpuspa6n3L1lXWUtTrqtX9vELHCwIZsZERGxmxkREbGbGRERsZsZERGxmxkREbGbGRERuZbF1lLUW6rrKWet98Fk7GuorMOZ9snlr809kGL8YsvOQsgxdjFl7jnIMXYxb+yY+6ZMRGRmxkxEZGbGTERkZsZMRGRmxkxEZGbGTERkZsZM4yeDFm4TXONngxZuElPgsnY/BCxgsCGbGRuZim6cs0Td4meXMXY4zPY4wPSx+E7XONkhEbGbGRERsZsZERGxmxkREbGbGRERsZsZERGxmxkREbGbGRuRhjfB9j/Fz6IGyfwQsZ1ygZsZExeCFj8ELGNUpGbGTERkZsZMRGRmxkxEZGbGTERkZsZMRGRmxkxEZGbGTERkZsZKyryFhXkXGNkhEbGesqMtZVZFyjZMRGRmxkxEZGbGTERkZsZMRGRmxkxEZGbGTERkZsZMRGRmxkDF7IGLyQcY2SERsZgxcyBi9kXKNkxEZGbGTERkZsZMRGRmxkxEZGbGTERkZsZMRGRmxkxEZGbGTERsa6iox1FRnXKBmxkREbGbGRERsZsZH5Bb057jWeTR8NAAAAAElFTkSuQmCC\"></img></td>\n",
              "      <td id=\"T_1b6ac_row0_col5\" class=\"data row0 col5\" >0<br>(0.0%)</td>\n",
              "    </tr>\n",
              "    <tr>\n",
              "      <td id=\"T_1b6ac_row1_col0\" class=\"data row1 col0\" >2</td>\n",
              "      <td id=\"T_1b6ac_row1_col1\" class=\"data row1 col1\" ><strong>Commande</strong><br>[object]</td>\n",
              "      <td id=\"T_1b6ac_row1_col2\" class=\"data row1 col2\" >1. TIC_enedis<br>2. TemperatureReelle<br>3. Conso_Total_kw/h<br>4. Chauffage_Conso<br>5. Chauffage_Conso_Total<br>6. Chauffage_OnOff<br>7. Presence_absence<br>8. Ballon_OnOff<br>9. TV-Frigo_OnOff<br>10. TemperatureDesiree</td>\n",
              "      <td id=\"T_1b6ac_row1_col3\" class=\"data row1 col3\" >19,261 (44.7%)<br>10,872 (25.2%)<br>7,486 (17.4%)<br>1,936 (4.5%)<br>1,629 (3.8%)<br>1,427 (3.3%)<br>196 (0.5%)<br>116 (0.3%)<br>98 (0.2%)<br>70 (0.2%)</td>\n",
              "      <td id=\"T_1b6ac_row1_col4\" class=\"data row1 col4\" ><img src = \"data:image/png;base64, iVBORw0KGgoAAAANSUhEUgAAAJsAAADnCAYAAAAJgSQ2AAAAOXRFWHRTb2Z0d2FyZQBNYXRwbG90bGliIHZlcnNpb24zLjguMCwgaHR0cHM6Ly9tYXRwbG90bGliLm9yZy81sbWrAAAACXBIWXMAAA9hAAAPYQGoP6dpAAAD00lEQVR4nO3dwW3bZgCG4Z+GkDYXCYYAj9Du4CEybIfQEN3BMKxDk+aiHpL2Ess5lHxJyM8zwQ/jBWkS/OzpcrkMKNytfQDeD7GRERsZsZERGxmxkREbGbGRERuZaYzxcYzxYe2DbMzXy+Xyee1D3Jrd8Xj8tN/v79c+yJacz+fnaZr+ENy8dvv9/v7x8fHz4XD4svZhtuDl5eXX0+l0//T09GGMIbYZ7cYY43A4fHl4ePhr7cNsyMe1D3CLPCCQERsZsZERGxmxkREbGbGRERsZsZERGxmxkREbGbGR2Y3x7bOatQ+yFX4Wy9mdz+fn0+l0P3xW85/z+fw8xvi69jlujc/CX+ez8AVM/ooRla1f2VxhbsimBy+GJ7dls4MXw5Pbs/XBiyfkG+KlLhmxkREbGbGRERsZsZERGxmxkREbGbGRERsZsZERG5nNDl62eCb+n00PXgxPbovPwskYvJCpr2yuVO9YOngxYHnfssGLAQv14GVzT7x0vNQlIzYyYiMjNjJiIyM2MmIjIzYyYiMjNjJiIyM2MmIjIzYy2brKWop0XWUt9b7ZIJCxriLzsyubKxGzeXNdZQ3FnK6uq6yhmNvP1lXWUMzGS10yYiMjNjJiIyM2MmIjIzYyYiMjNjJiIyM2MmIjIzYyVwcvBirM7c3Bi4EKc/JZOBmDFzJvXdlc1ZjV1cGLsQtze3XwYuzCEt4avBi7MCsvdcmIjYzYyIiNjNjIiI2M2MiIjYzYyIiNjNjIiI2M2Mi8OngxdmEJVwcvxi7MzWfhZAxeyHhAIHPtNuoWyuxeXVdZVrGEH9ZVllUs5dq6yrKK2XlAICM2MmIjIzYyYiMjNjJiIyM2MmIjIzYyYiMjNjJiI/PDusqyiqW8uq6yrGIJPgsnY11F5t8r23AlY2m74/H4aYwxDFxY2t1+v7//vq669m8gYRbes5ERGxmxkREbGbGRERsZsZERGxmxkREbGbGRERsZsZERGxmxkdl9H7eMYeDCwnwWTsbghYzf2ciIjczdNE2/T9PkTy6wuLsxxm9jjF/WPgi3z22UjNjIiI2M2MiIjYzYyIiNjNjIiI2M2MiIjYzYyIiNjNjIiI3M3RjjzzHG32sfhNtn8ELGbZSM2MgYvJAxeCHjNkpGbGTERkZsZMRGRmxkxEZGbGTERkZsZMRGRmxkxEZGbGTERsbghYzBCxm3UTJiI2PwQsbghYzbKBmxkREbGbGRERsZsZERGxmxkREbGbGRERsZsZERGxmxkREbGbGRsa4iY11Fxm2UjNjIiI2M2MiIjYzYyIiNjNjI/ANCMmlWN6g2QAAAAABJRU5ErkJggg==\"></img></td>\n",
              "      <td id=\"T_1b6ac_row1_col5\" class=\"data row1 col5\" >0<br>(0.0%)</td>\n",
              "    </tr>\n",
              "    <tr>\n",
              "      <td id=\"T_1b6ac_row2_col0\" class=\"data row2 col0\" >3</td>\n",
              "      <td id=\"T_1b6ac_row2_col1\" class=\"data row2 col1\" ><strong>Type Générique</strong><br>[object]</td>\n",
              "      <td id=\"T_1b6ac_row2_col2\" class=\"data row2 col2\" >1. nan<br>2. ALARM_STATE<br>3. THERMOSTAT_SETPOINT</td>\n",
              "      <td id=\"T_1b6ac_row2_col3\" class=\"data row2 col3\" >42,868 (99.5%)<br>153 (0.4%)<br>70 (0.2%)</td>\n",
              "      <td id=\"T_1b6ac_row2_col4\" class=\"data row2 col4\" ><img src = \"data:image/png;base64, iVBORw0KGgoAAAANSUhEUgAAAJsAAABFCAYAAABdVZTTAAAAOXRFWHRTb2Z0d2FyZQBNYXRwbG90bGliIHZlcnNpb24zLjguMCwgaHR0cHM6Ly9tYXRwbG90bGliLm9yZy81sbWrAAAACXBIWXMAAA9hAAAPYQGoP6dpAAABeklEQVR4nO3csW3bUBiF0f8RRBw3JAQCGsHZQUO49Z4ZQkNkCUEsYlsNXdgeQfcB9DmVylt8EEmBT23btoKEofcAfo5WVY9V9av3EHbvNi7L8jxN06H3EvZtXdfLOE3T4XQ6vc7z/NZ7EPt0vV5/n8/nw1hVNc/z2/F4/N97FLv26AGBGLERIzZixEaM2IgRGzFiI0ZsxIiNGLERIzZixEaM2IgRGzFj1ef7Rr2HsF/ffbVlWV68qcu9ret6cQaBlFtzlI+U72+22rbttfMWdm5cluW5qqq19ldw3NMwTdPh6wHBfRt35Xc2YsRGjNiIERsxYiNGbMSIjRixESM2YsRGjNiIERsxYiNGbMSIjRixETOu63r5+nzruoTdcwaBGKeriHHPRozYiBlaa39aa/7rg7sbquqpqh56D2H/XEaJERsxYiNGbMSIjRixESM2YsRGjNiIERsxYiNGbMSIjRixESM2YsRGzFBV/6rqvfcQ9s/pKmJcRon5ACasPKRhHTSDAAAAAElFTkSuQmCC\"></img></td>\n",
              "      <td id=\"T_1b6ac_row2_col5\" class=\"data row2 col5\" >42,868<br>(99.5%)</td>\n",
              "    </tr>\n",
              "    <tr>\n",
              "      <td id=\"T_1b6ac_row3_col0\" class=\"data row3 col0\" >4</td>\n",
              "      <td id=\"T_1b6ac_row3_col1\" class=\"data row3 col1\" ><strong>Valeur</strong><br>[object]</td>\n",
              "      <td id=\"T_1b6ac_row3_col2\" class=\"data row3 col2\" >1. 0<br>2. 1<br>3. 12,000000000<br>4. 19,000000000<br>5. 13,000000000<br>6. 19,200000000<br>7. 19,600000000<br>8. 18,800000000<br>9. 18,000000000<br>10. 19,100000000<br>11. other</td>\n",
              "      <td id=\"T_1b6ac_row3_col3\" class=\"data row3 col3\" >2,805 (6.5%)<br>976 (2.3%)<br>106 (0.2%)<br>97 (0.2%)<br>92 (0.2%)<br>90 (0.2%)<br>88 (0.2%)<br>84 (0.2%)<br>81 (0.2%)<br>81 (0.2%)<br>38,591 (89.6%)</td>\n",
              "      <td id=\"T_1b6ac_row3_col4\" class=\"data row3 col4\" ><img src = \"data:image/png;base64, iVBORw0KGgoAAAANSUhEUgAAAJsAAAD+CAYAAAAtWHdlAAAAOXRFWHRTb2Z0d2FyZQBNYXRwbG90bGliIHZlcnNpb24zLjguMCwgaHR0cHM6Ly9tYXRwbG90bGliLm9yZy81sbWrAAAACXBIWXMAAA9hAAAPYQGoP6dpAAAD+UlEQVR4nO3cQU5bZxiG0e8ii4aJLQuJJbR7YBFZbBbhRXQPCHEHgTJxBxlFSUtK8EPrnjPFlv7BI35ddF+W4/E4ULh47wPw/yE2MmIjIzYyYiMjNjJiIyM2MmIjs8zM1cxc/sBnn4/H4+OJz8MZ21xfX3/cbrf7lz64ruv9siyfBMdrbbbb7f729vZxt9s9/dWHHh4ePhwOh/3d3d3lzIiNV9nMzOx2u6ebm5vPL3z2KjgPZ8wDAhmxkREbGbGRERsZsZERGxmxkREbGbGRERsZsZERGxmxkdnMfHlf7e8+9NLP4Uds1nW9PxwO+3nhfbV1Xe9n5rk5FufIBoHM4l9mUfnebza/wTiJb9ZVVlScylfrKisqTul76yorKk7CH3XJiI2M2MiIjYzYyIiNjNjIiI2M2MiIjYzYyIiNjNjIfDV4MWzhlL4ZvBi2cCpeCydj8ELGAwKZi2VZfluWxYMBJ3cxM7/OzC/vfRDOn2uUjNjIiI2M2MiIjYzYyIiNjNjIiI2M2MiIjYzYyIiNjNjIiI3Mxcz8PjN/vPdBOH82CGRco2TERkZsZKyryFhXkXGNkhEbGbGRERsZsZERGxmxkREbGbGRERsZsZERGxmxkREbGbGRsa4iY11FxjVKRmxkDF7IGLyQcY2SERsZsZERGxmxkREbGbGRERsZsZERGxmxkREbGbGRERsZsZExeCFj8ELGNUpGbGQMXsgYvJBxjZIRGxmxkREbGbGRERsZsZERGxmxkREbGbGRERsZsZERGxmxkREbGesqMtZVZFyjZMRGxrqKjHUVGdcoGbGRERsZsZERGxmxkREbGbGRERsZsZERGxmxkREbGbGRERsZgxcyBi9kXKNkxEbG4IWMwQsZ1ygZsZERGxmxkREbGbGRERsZsZERGxmxkREbGbGRERsZsZERGxmDFzIGL2Rco2TERkZsZKyryFhXkXGNkhEbGbGRERsZsZERGxmxkREbGbGRERsZsZERGxmxkREbGbGRsa4iY11FxjVKRmxkDF7IGLyQcY2SERsZsZERGxmxkREbGbGRERsZsZERGxmxkREbGbGRERsZsZExeCFj8ELGNUpmmZmrmbl874Pwn/B8PB4fX/vlzfX19cftdrt/yxNxntZ1vV+W5dNrg9tst9v97e3t4263e3rrw3E+Hh4ePhwOh/3d3d3lzLwutpmZ3W73dHNz8/lNT8c5uvqZL3tAICM2MmIjIzYyYiMjNjJiIyM2MmIjIzYyYiMjNjJiI7OZ+fL6yHsfhH+3t2hks67r/eFw2M9Pvj7C+VvX9X5mnl/7fa+F80/81Gvh1lVkPCCQERsZsZERGxmxkREbGbGRERsZsZH5Ez4XzkQZrjC+AAAAAElFTkSuQmCC\"></img></td>\n",
              "      <td id=\"T_1b6ac_row3_col5\" class=\"data row3 col5\" >0<br>(0.0%)</td>\n",
              "    </tr>\n",
              "    <tr>\n",
              "      <td id=\"T_1b6ac_row4_col0\" class=\"data row4 col0\" >5</td>\n",
              "      <td id=\"T_1b6ac_row4_col1\" class=\"data row4 col1\" ><strong>Unité</strong><br>[object]</td>\n",
              "      <td id=\"T_1b6ac_row4_col2\" class=\"data row4 col2\" >1. Index<br>2. °C<br>3. Wh<br>4.  W<br>5. On-Off<br>6. Oui-Non</td>\n",
              "      <td id=\"T_1b6ac_row4_col3\" class=\"data row4 col3\" >19,261 (44.7%)<br>10,942 (25.4%)<br>7,486 (17.4%)<br>3,565 (8.3%)<br>1,641 (3.8%)<br>196 (0.5%)</td>\n",
              "      <td id=\"T_1b6ac_row4_col4\" class=\"data row4 col4\" ><img src = \"data:image/png;base64, iVBORw0KGgoAAAANSUhEUgAAAJsAAACKCAYAAAC96ziyAAAAOXRFWHRTb2Z0d2FyZQBNYXRwbG90bGliIHZlcnNpb24zLjguMCwgaHR0cHM6Ly9tYXRwbG90bGliLm9yZy81sbWrAAAACXBIWXMAAA9hAAAPYQGoP6dpAAACoklEQVR4nO3dQWrbUBiF0d9BhGYiYwxejBeRxXYR3o0x1qAJmbiDph05AavW1UM+ZwWP8PESCV2yulwuBQlPcx+AxyE2YsRGjNiIWVXVS1U9z32QxnxcLpe3uQ+xNN12u33t+34z90FaMgzDabVa/RTcfXV932/2+/3ber1+n/swLTifzz8Oh8PmeDw+V5XY7qirqlqv1++73e7X3IdpyMvcB1giDwjEiI0YsREjNmLERozYiBEbMWIjRmzEiI0YsREjNmLERkxX9eezmrkP0go/i+l0wzCcDofDpnxW888wDKeq+pj7HEvjs/DrfBY+gZWRMimt32xumAVpevBieLIszQ5eDE+Wp/XBiyfkBfFSlxixESM2YsRGjNiIERsxYiNGbMSIjRixESM2YsRGjNiIERsxza6rWjwT/6fpdZWV07LYIBBjXUVM+mZzUz2w6LrKWuqxxdZV1lKk11XNPfGS46UuMWIjRmzEiI0YsREjNmLERozYiBEbMWIjRmzEiI0YsREjNmJi6yprKaLrKmupx2aDQIx1FTFjbzY3FDcbta6ykmKMm9dVVlKMNXZdZSXFzbzUJUZsxIiNGLERIzZixEaM2IgRGzFiI0ZsxIiNGLERIzZibh68GK4w1qjBi+EKY/gsnBiDF2I8IBDz3a9Rvyq5qy/XVRZU3NvVdZUFFVP4bl1lQcVdeUAgRmzEiI0YsREjNmLERozYiBEbMWIjRmzEiI0YsREjNmKurqssqJjCl+sqCyruzWfhxFhXEfP3Ziu3GFPrttvta1WVcQtTe+r7fvO5rkr9G0gelPdsxIiNGLERIzZixEaM2IgRGzFiI0ZsxIiNGLERIzZixEaM2IgRGzFiI6b7XFFVWVIxMRsEYqyriPE3GzFiI0ZsxPwGPwQjyJ6gPPcAAAAASUVORK5CYII=\"></img></td>\n",
              "      <td id=\"T_1b6ac_row4_col5\" class=\"data row4 col5\" >0<br>(0.0%)</td>\n",
              "    </tr>\n",
              "    <tr>\n",
              "      <td id=\"T_1b6ac_row5_col0\" class=\"data row5 col0\" >6</td>\n",
              "      <td id=\"T_1b6ac_row5_col1\" class=\"data row5 col1\" ><strong>date</strong><br>[datetime64[ns]]</td>\n",
              "      <td id=\"T_1b6ac_row5_col2\" class=\"data row5 col2\" >Min: 2024-01-01<br>Max: 2024-05-09<br>Duration: 129 days</td>\n",
              "      <td id=\"T_1b6ac_row5_col3\" class=\"data row5 col3\" >130 distinct values</td>\n",
              "      <td id=\"T_1b6ac_row5_col4\" class=\"data row5 col4\" ><img src = \"data:image/png;base64, iVBORw0KGgoAAAANSUhEUgAAAJsAAABNCAYAAACxBha+AAAAOXRFWHRTb2Z0d2FyZQBNYXRwbG90bGliIHZlcnNpb24zLjguMCwgaHR0cHM6Ly9tYXRwbG90bGliLm9yZy81sbWrAAAACXBIWXMAAA9hAAAPYQGoP6dpAAACu0lEQVR4nO3cQW7aQBiG4X9KiJwg2SIgsssFInWBxIYDdNnD9giNlEXXuUF2kSxkFDcIA+4BGgIew4c9fp8tmsiLVwnzTzyuLEsDFL5d+gHQHcQGmatLPwCayTl3Y2bXHkvXZVl+fPYBseE/zrmb0Wj0M47jYdW1y+Vy4Zz79VlwxIbPXMdxPJzP5x9JkqyOXZRlWfT8/DxM0/TazIgNx0uSZDWZTP5WXHaz7wM2CJAhNsjwZzRwnrvKeLfb9U/9LMQWMN9dZVEU0Xa7fVytVr/NrOp3tr2ILWxeu8rX19fhy8vL7Waz6Z3yYYitA6ruKheLxd4dZR1sECBDbJAhNsgQG2SIDTLEBhligwyxQYbYIMMJQks06UDdF7G1QNMO1H0RWzs06kDdF7F5OsfbR4c05UDdF7F5ONfbR6EjNj9nefsodMRWw6nfPgodczbI8JtNbLvd9s0sds5VWdaoeZkvYhPK87xfFMX3h4eHXq/XO/q7XtPmZb6ITWi9Xl9FUXQ7nU5X9/f3i2PXNW1e5ovYLmAwGLR6XuaLDQJkiA0yxAYZYoNMpzcINQ7Tg5h7qXU2tjqH6aHMvdQ6G5t5HqabhTP3UutybGbmd5geytxLjQ0CZIgNMsQGGWKDDLFBhtggQ2yQITbIEBtkiA0yxAYZYoMMsUEmiP/6COGivC5ofWyhXJTXBa2PzQK5KK8LQojNzNp/UV4XsEGADLFBhtgg8+V3tktcUoxw7Y3tEpcUMy8L21e/2bwvKX56epqkaTp2zi0rPEt0d3f3I0mSQYU1zMta5ODoo+pIoc7timb2OJvN/ozH46MjZV7WHiefs9W9XTGKooJ5WZjONtTt6u2K2I/RB2SIDTLEBhligwyxQYbYIENskCE2yBwc6mZZFlX5ge/v75GZWZ7n0dvb221o69r0rOp1h1r5B/KFjfw8G0emAAAAAElFTkSuQmCC\"></img></td>\n",
              "      <td id=\"T_1b6ac_row5_col5\" class=\"data row5 col5\" >0<br>(0.0%)</td>\n",
              "    </tr>\n",
              "    <tr>\n",
              "      <td id=\"T_1b6ac_row6_col0\" class=\"data row6 col0\" >7</td>\n",
              "      <td id=\"T_1b6ac_row6_col1\" class=\"data row6 col1\" ><strong>time</strong><br>[object]</td>\n",
              "      <td id=\"T_1b6ac_row6_col2\" class=\"data row6 col2\" >1. 10:00:00<br>2. 09:00:00<br>3. 11:00:00<br>4. 12:00:00<br>5. 08:00:00<br>6. 14:00:00<br>7. 13:00:00<br>8. 20:00:00<br>9. 00:00:00<br>10. 06:00:00<br>11. other</td>\n",
              "      <td id=\"T_1b6ac_row6_col3\" class=\"data row6 col3\" >776 (1.8%)<br>754 (1.7%)<br>751 (1.7%)<br>736 (1.7%)<br>728 (1.7%)<br>727 (1.7%)<br>719 (1.7%)<br>713 (1.7%)<br>710 (1.6%)<br>708 (1.6%)<br>35,769 (83.0%)</td>\n",
              "      <td id=\"T_1b6ac_row6_col4\" class=\"data row6 col4\" ><img src = \"data:image/png;base64, iVBORw0KGgoAAAANSUhEUgAAAJsAAAD+CAYAAAAtWHdlAAAAOXRFWHRTb2Z0d2FyZQBNYXRwbG90bGliIHZlcnNpb24zLjguMCwgaHR0cHM6Ly9tYXRwbG90bGliLm9yZy81sbWrAAAACXBIWXMAAA9hAAAPYQGoP6dpAAADi0lEQVR4nO3cQWpaYRiG0c8gkkwMIeBiXEQX20W4Gwk6aEomdtC0JJ0UCj4WPWfmIORCHq7cy/9mcTqdBgp3l74AbofYyIiNjNjIiI2M2MiIjYzYyIiNzGJmHmZm9f757XQ6vV7werhiy+fn5y/r9fppZuZ4PL4sFouvguMc7tbr9dN2u33dbrev79Gt/vpT8A+WMzOPj4/f3z8/XPBauHIeEMiIjYzYyIiNjNjIiI2M2MiIjYzYyIiNjNjIiI2M2MiIjcxyZuZwONxf+kK4fsvj8fiy2+1+n9SdmbcLXxNXygaBzMK/zKLizkbGuoqMdRUZ6yoyXuqSERsZsZERGxmxkREbGbGRERsZsZERGxmxkREbGbGRMXghY/BCxrFwMgYvZNzZyBi8kDF4IWPwQsZLXTJiIyM2MmIjIzYyYiMjNjJiIyM2MmIjIzYyYiMjNjIGL2QMXsg4Fk7G4IWMBwQyvkbJWFeRsa4iY11FxgMCGbGRERsZsZERGxmxkREbGbGRERsZsZERGxmxkREbGesqMtZVZBwLJ2NdRcadjYzBCxmDFzIGL2S81CUjNjJiIyM2MmIjIzYyYiMjNjJiIyM2MmIjIzYyYiNj8ELG4IWMY+FkDF7IuLORMXghY/BCxuCFjJe6ZMRGRmxkxEZGbGTERkZsZMRGRmxkxEZGbGTERkZsZMRGxrqKjHUVGRsEMtZVZNzZyFhXkbGuImNdRcZLXTJiIyM2MmIjIzYyYiMjNjJiIyM2MmIjIzYyYiMjNjIGL2QMXsg4Fk7G4IWMOxsZgxcyBi9kDF7IeKlLRmxkxEZGbGTERkZsZMRGRmxkxEZGbGTERkZsZMRGxuCFjMELGcfCyRi8kPGAQMbXKBnrKjLWVWSsq8h4QCAjNjJiIyM2MmIjIzYyYiMjNjJiIyM2MmIjIzYyYiNjXUXGuoqMY+FkrKvIuLORMXghY/BCxuCFjJe6ZMRGRmxkxEZGbGTERkZsZMRGRmxkxEZGbGTERkZsZAxeyBi8kHEsnIzBC5k/72zcpuQb7dPghdtUDZ2WvwYvH3YI3JDD4XC/2+2e9vv9ambOG9vMz8HLZrP5ds5fxH8tGTp5qUtGbGTERkZsZMRGRmxkxEZGbGTERkZsZMRGRmxkxEbG4OXGlX/7j4MX/0/3RlVDJ8fCmYmOhRu8kPGAQEZsZMRGRmxkxEZGbGTERkZsZMRG5gfEBtMdoo/g2QAAAABJRU5ErkJggg==\"></img></td>\n",
              "      <td id=\"T_1b6ac_row6_col5\" class=\"data row6 col5\" >0<br>(0.0%)</td>\n",
              "    </tr>\n",
              "    <tr>\n",
              "      <td id=\"T_1b6ac_row7_col0\" class=\"data row7 col0\" >8</td>\n",
              "      <td id=\"T_1b6ac_row7_col1\" class=\"data row7 col1\" ><strong>Logement</strong><br>[object]</td>\n",
              "      <td id=\"T_1b6ac_row7_col2\" class=\"data row7 col2\" >1. LOGEMENT02<br>2. LOGEMENT01<br>3. LOGEMENT04<br>4. LOGEMENT03</td>\n",
              "      <td id=\"T_1b6ac_row7_col3\" class=\"data row7 col3\" >18,633 (43.2%)<br>11,645 (27.0%)<br>6,469 (15.0%)<br>6,344 (14.7%)</td>\n",
              "      <td id=\"T_1b6ac_row7_col4\" class=\"data row7 col4\" ><img src = \"data:image/png;base64, iVBORw0KGgoAAAANSUhEUgAAAJsAAABcCAYAAAB5jMeAAAAAOXRFWHRTb2Z0d2FyZQBNYXRwbG90bGliIHZlcnNpb24zLjguMCwgaHR0cHM6Ly9tYXRwbG90bGliLm9yZy81sbWrAAAACXBIWXMAAA9hAAAPYQGoP6dpAAAB3UlEQVR4nO3bQWrbUBiF0V9FhGYiYQxejBfRxXYR2o0x1qAJmSiDQEkz6kT3+TnnrOBhPmSe0B22bStI+NH6AHwfYiNmqKrnqnpqfZA78bZt20vrQzyq8Xg8/pqm6dD6IPdgXdfrMAy/BbePcZqmw/l8fpnn+bX1YVq63W4/l2U5XC6Xp6oS2w7Gqqp5nl9Pp9Of1oe5A8+tD/DIXBCIERsxYiNGbMSIjRixESM2YsRGjNiIERsxYiNGbMSIjZix6uPzmtYHac1vsL9xXdfrsiyH8nlNret6raq31ud4VD4L/5fPwnc0mPKR4oJATE9/o/7iOtfNusryqX9drKssnx5DT+uqb/9qpncuCMSIjRixESM2YsRGjNiIERsxYiNGbMSIjRixESM2YsRGjNiI6WLKd+/n4/90M+Uzs+ufDQIxpnzE7P1k8zTir13XVRZRfLbbusoiiq/2Xlfd9Q2XLC91iREbMWIjRmzEiI0YsREjNmLERozYiBEbMWIjRmzEiI0YsRGz27rKIoqvdl1XWUTxmQ0CMdZVxHiyEWNdRYx1FTHWVcR4qUuM2IgRGzFiI0ZsxIiNGLERIzZixEaM2IgRGzFiI0ZsxIiNGOsqYqyriLFBIMa6ihgXBGLeAbNY2LmcCnvZAAAAAElFTkSuQmCC\"></img></td>\n",
              "      <td id=\"T_1b6ac_row7_col5\" class=\"data row7 col5\" >0<br>(0.0%)</td>\n",
              "    </tr>\n",
              "    <tr>\n",
              "      <td id=\"T_1b6ac_row8_col0\" class=\"data row8 col0\" >9</td>\n",
              "      <td id=\"T_1b6ac_row8_col1\" class=\"data row8 col1\" ><strong>Lettre</strong><br>[object]</td>\n",
              "      <td id=\"T_1b6ac_row8_col2\" class=\"data row8 col2\" >1. B<br>2. A</td>\n",
              "      <td id=\"T_1b6ac_row8_col3\" class=\"data row8 col3\" >30,278 (70.3%)<br>12,813 (29.7%)</td>\n",
              "      <td id=\"T_1b6ac_row8_col4\" class=\"data row8 col4\" ><img src = \"data:image/png;base64, iVBORw0KGgoAAAANSUhEUgAAAJsAAAAuCAYAAAA/ZmtKAAAAOXRFWHRTb2Z0d2FyZQBNYXRwbG90bGliIHZlcnNpb24zLjguMCwgaHR0cHM6Ly9tYXRwbG90bGliLm9yZy81sbWrAAAACXBIWXMAAA9hAAAPYQGoP6dpAAABOklEQVR4nO3bwYnDMBRF0a9gQrKRMAYX4yKm2BShboyxFpOQjWaRAmLP4omP7qngQ24CMX6h1mqAQjCzu5ldWx+CU9611mfrI84apmn6iTGOrQ/BcaWULYTw8BbcEGMcl2V5ppRerY/Bd/u+33LO47quVzPzFZuZWUrpNc/zb+tjcNi99QH/cWl9APpBbJAhNsgQG2SIDTLEBhligwyxQYbYIENskCE2yBAbZIgNMsQGGWKDzGD2eSGv9SE4xvNnNZRStpzzaE5fyOtRKWUzs3frO85i8OKTy8FLYMoHFc+/bC6/3T1zO+XzOmfrmcspn+c5W888T/n49+wMD3UhQ2yQITbIEBtkiA0yxAYZYoMMsUGG2CBDbJAhNsgQG2SIDTLEBhlig4zLKZ+3e/Hhdsrndc7WMwYvkPkDCltq31ddjPwAAAAASUVORK5CYII=\"></img></td>\n",
              "      <td id=\"T_1b6ac_row8_col5\" class=\"data row8 col5\" >0<br>(0.0%)</td>\n",
              "    </tr>\n",
              "    <tr>\n",
              "      <td id=\"T_1b6ac_row9_col0\" class=\"data row9 col0\" >10</td>\n",
              "      <td id=\"T_1b6ac_row9_col1\" class=\"data row9 col1\" ><strong>Pilote</strong><br>[object]</td>\n",
              "      <td id=\"T_1b6ac_row9_col2\" class=\"data row9 col2\" >1. non piloté<br>2. piloté</td>\n",
              "      <td id=\"T_1b6ac_row9_col3\" class=\"data row9 col3\" >24,977 (58.0%)<br>18,114 (42.0%)</td>\n",
              "      <td id=\"T_1b6ac_row9_col4\" class=\"data row9 col4\" ><img src = \"data:image/png;base64, iVBORw0KGgoAAAANSUhEUgAAAJsAAAAuCAYAAAA/ZmtKAAAAOXRFWHRTb2Z0d2FyZQBNYXRwbG90bGliIHZlcnNpb24zLjguMCwgaHR0cHM6Ly9tYXRwbG90bGliLm9yZy81sbWrAAAACXBIWXMAAA9hAAAPYQGoP6dpAAABMUlEQVR4nO3bwYnDMBRF0afBhMlGwhhcTIqYYqcIdWOMtUhCNpqFa5j3wbqngp9wMST4pd67AIck6S7pFn3IAD6991f0EZGmZVl+cs5z9CFX11rbU0q/Iwc35Zznx+PxKqW8o4+5quM4vmut87ZtN0njxiZJpZT3uq7P6GMu7h59QLSv6AMwDmKDDbHBhthgQ2ywITbYEBtsiA02xAYbYoMNscGG2GBDbLAhNtgQG2wm6Xy5L/qQK+P7PU2ttb3WOouX+/5Va22X9Im+IxKDF5/hBy+JKR9ceLKdhn/qODDlEzM7l+GnfMzsfJjynfglbsCfurAhNtgQG2yIDTbEBhtigw2xwYbYYENssCE22BAbbIgNNsQGG2KDDbHBZvgp38if3Y0pn5jZuTB4OTF4MfgDCltq3+yp8CAAAAAASUVORK5CYII=\"></img></td>\n",
              "      <td id=\"T_1b6ac_row9_col5\" class=\"data row9 col5\" >0<br>(0.0%)</td>\n",
              "    </tr>\n",
              "  </tbody>\n",
              "</table>\n"
            ]
          },
          "metadata": {},
          "execution_count": 103
        }
      ]
    },
    {
      "cell_type": "markdown",
      "source": [],
      "metadata": {
        "id": "T9_fxSnDn3XQ"
      }
    },
    {
      "cell_type": "code",
      "source": [
        "# Mettre \"Chauffage\" si les conditions sont remplies\n",
        "val_roland['Équipement'] = val_roland.apply(\n",
        "    lambda row: 'Chauffage' if 'Chauffage_OnOff' in row['Commande']\n",
        "    and row['Équipement'] == '4PM' else row['Équipement'], axis=1)\n",
        "\n",
        "val_roland['Équipement'] = val_roland.apply(\n",
        "    lambda row: 'Chauffage' if 'Chauffage_Conso' in row['Commande']\n",
        "    and row['Équipement'] == '4PM' else row['Équipement'], axis=1)\n",
        "\n",
        "val_roland['Équipement'] = val_roland.apply(\n",
        "    lambda row: 'Chauffage' if 'Chauffage_Conso_Total' in row['Commande']\n",
        "    and row['Équipement'] == '4PM' else row['Équipement'], axis=1)\n",
        "\n",
        "# Mettre \"Ballon_Eau\" si les conditions sont remplies\n",
        "val_roland['Équipement'] = val_roland.apply(\n",
        "    lambda row: 'Ballon_Eau' if 'Ballon_OnOff' in row['Commande']\n",
        "    and row['Équipement'] == '4PM' else row['Équipement'], axis=1)\n",
        "\n",
        "# Mettre \"TV-Frigo\" si les conditions sont remplies\n",
        "val_roland['Équipement'] = val_roland.apply(\n",
        "    lambda row: 'TV-Frigo' if 'TV-Frigo_OnOff' in row['Commande']\n",
        "    and row['Équipement'] == '4PM' else row['Équipement'], axis=1)\n"
      ],
      "metadata": {
        "id": "z5kD4-pLn2ev"
      },
      "execution_count": null,
      "outputs": []
    },
    {
      "cell_type": "markdown",
      "source": [
        "Rapport des données nettoyées :"
      ],
      "metadata": {
        "id": "rQFx7KXZwGdU"
      }
    },
    {
      "cell_type": "code",
      "source": [
        "my_report = sv.analyze(val_roland)"
      ],
      "metadata": {
        "colab": {
          "base_uri": "https://localhost:8080/",
          "height": 49,
          "referenced_widgets": [
            "ffc0c137de11402f907b199469918ac9",
            "e9fab9bec0454cd883a69aedd305313f",
            "490dc0c2054d4c94af64b4388137ca39",
            "72d2389ad6e24e95bb14a5ec8e4fd5dc",
            "0ead9e762b2343679028b221e04f6257",
            "1a24430a937042c48a3732e54dc4df5f",
            "e970a25157ad48f680a470bab1fd7d94",
            "29ffb3a5b37c4721903a1e9b692cedfb",
            "dcaa3bce0aff4668a4428c3e75afaf0f",
            "b16846be49e3468b99de2cfb6690db1c",
            "a0670a3a3e8e4b268ad63994864c9e22"
          ]
        },
        "id": "pTUJAfdrINeu",
        "outputId": "62828d40-8a97-4144-8e55-4a7fa3831629"
      },
      "execution_count": null,
      "outputs": [
        {
          "output_type": "display_data",
          "data": {
            "text/plain": [
              "                                             |          | [  0%]   00:00 -> (? left)"
            ],
            "application/vnd.jupyter.widget-view+json": {
              "version_major": 2,
              "version_minor": 0,
              "model_id": "ffc0c137de11402f907b199469918ac9"
            }
          },
          "metadata": {}
        }
      ]
    },
    {
      "cell_type": "code",
      "source": [
        "my_report.show_html()"
      ],
      "metadata": {
        "colab": {
          "base_uri": "https://localhost:8080/"
        },
        "id": "gLrVj2HXIdSP",
        "outputId": "eb3ae44b-ce64-4860-d9ab-a3bda9731532"
      },
      "execution_count": null,
      "outputs": [
        {
          "output_type": "stream",
          "name": "stdout",
          "text": [
            "Report SWEETVIZ_REPORT.html was generated! NOTEBOOK/COLAB USERS: the web browser MAY not pop up, regardless, the report IS saved in your notebook/colab files.\n"
          ]
        }
      ]
    },
    {
      "cell_type": "markdown",
      "source": [
        "Rapport des données de Val Roland, binaire entre les appartements Piloté et les appartements non pilotés."
      ],
      "metadata": {
        "id": "ll6OYtD_WOZn"
      }
    },
    {
      "cell_type": "code",
      "source": [
        "my_report = sv.compare_intra(val_roland, val_roland[\"Pilote\"] == \"non piloté\", [\"Non piloté\", \"Piloté\"])"
      ],
      "metadata": {
        "colab": {
          "base_uri": "https://localhost:8080/",
          "height": 87,
          "referenced_widgets": [
            "579b8ebcf0604972b30de2b9424b5ec7",
            "841eb30be1e3448d83c8239363506d81",
            "b07a8202fb884831951b67fb9e6b2d3f",
            "4f3eec60ede54e6395925e7cebc39319",
            "5dd5ca1876fd4a269a9aaab1770c2b7a",
            "8f449338fa1b408692ca8188cd672d96",
            "1176e6a9c1e543608ce06655bbfcdbf4",
            "d0ba7c22fbcb4df0a22a0551590c5982",
            "561ef3ae78e84696aa24255b4583d3c9",
            "02dfc54ada5f4b768639ce22886b9283",
            "ee855aeb469a4ddbae10640945bfe34a"
          ]
        },
        "id": "OKJkdBIewU39",
        "outputId": "0995f994-0871-403f-fa90-f85d596d48b6"
      },
      "execution_count": null,
      "outputs": [
        {
          "output_type": "display_data",
          "data": {
            "text/plain": [
              "                                             |          | [  0%]   00:00 -> (? left)"
            ],
            "application/vnd.jupyter.widget-view+json": {
              "version_major": 2,
              "version_minor": 0,
              "model_id": "579b8ebcf0604972b30de2b9424b5ec7"
            }
          },
          "metadata": {}
        },
        {
          "output_type": "stream",
          "name": "stdout",
          "text": [
            "Report SWEETVIZ_REPORT.html was generated! NOTEBOOK/COLAB USERS: the web browser MAY not pop up, regardless, the report IS saved in your notebook/colab files.\n"
          ]
        }
      ]
    },
    {
      "cell_type": "code",
      "source": [
        "my_report.show_html()"
      ],
      "metadata": {
        "colab": {
          "base_uri": "https://localhost:8080/"
        },
        "id": "1binqv_7SuHN",
        "outputId": "da0d9096-0c19-41a3-92ec-3943fe9a2b38"
      },
      "execution_count": null,
      "outputs": [
        {
          "output_type": "stream",
          "name": "stdout",
          "text": [
            "Report SWEETVIZ_REPORT.html was generated! NOTEBOOK/COLAB USERS: the web browser MAY not pop up, regardless, the report IS saved in your notebook/colab files.\n"
          ]
        }
      ]
    },
    {
      "cell_type": "code",
      "source": [],
      "metadata": {
        "id": "wuy-akEWXlfZ"
      },
      "execution_count": null,
      "outputs": []
    },
    {
      "cell_type": "code",
      "source": [
        "# Vérifier les types de données pour validation\n",
        "print(val_roland.info())"
      ],
      "metadata": {
        "colab": {
          "base_uri": "https://localhost:8080/"
        },
        "id": "_E-x2UlXVZGG",
        "outputId": "bb7936f3-919b-4741-8fe6-a76275c67b5a"
      },
      "execution_count": null,
      "outputs": [
        {
          "output_type": "stream",
          "name": "stdout",
          "text": [
            "<class 'pandas.core.frame.DataFrame'>\n",
            "RangeIndex: 43091 entries, 0 to 43090\n",
            "Data columns (total 10 columns):\n",
            " #   Column          Non-Null Count  Dtype         \n",
            "---  ------          --------------  -----         \n",
            " 0   Équipement      43091 non-null  object        \n",
            " 1   Commande        43091 non-null  object        \n",
            " 2   Type Générique  223 non-null    object        \n",
            " 3   Valeur          43091 non-null  object        \n",
            " 4   Unité           43091 non-null  object        \n",
            " 5   date            43091 non-null  datetime64[ns]\n",
            " 6   time            43091 non-null  object        \n",
            " 7   Logement        43091 non-null  object        \n",
            " 8   Lettre          43091 non-null  object        \n",
            " 9   Pilote          43091 non-null  object        \n",
            "dtypes: datetime64[ns](1), object(9)\n",
            "memory usage: 3.3+ MB\n",
            "None\n"
          ]
        }
      ]
    },
    {
      "cell_type": "code",
      "source": [
        "val_roland['Valeur'] = pd.to_numeric(val_roland['Valeur'].str.replace(',', '.'), errors='coerce')"
      ],
      "metadata": {
        "id": "Xvk2ZYTHxGXQ"
      },
      "execution_count": null,
      "outputs": []
    }
  ]
}